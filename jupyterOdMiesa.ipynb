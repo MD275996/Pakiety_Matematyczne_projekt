{
 "cells": [
  {
   "cell_type": "markdown",
   "id": "4be859ae",
   "metadata": {},
   "source": [
    "# Spożycie mięsa a zużycie wody"
   ]
  },
  {
   "cell_type": "markdown",
   "id": "2cf438c8",
   "metadata": {},
   "source": [
    "Na Ziemi jest 1 mld 360 km³ wody, jednak tylko 1% to dostępna woda słodka zdatna do spożycia. Bardzo ważne jest więc umiejętne użytkowanie tego ważnego surowca. Niestety na ten moment nadmiernie wykorzystujemy zasoby wodne, między innymi do  sztucznego nawadniania pól uprawnych. Około 1/3 światowego zboża i 80% światowj produkcji soi jest podawana zwierzętom, które hodowane są na żywność. Większość całkowitej objętości wody wykorzystywanej w hodowli zwierząt odnosi się do śladu wodnego paszy dla zwierząt."
   ]
  },
  {
   "cell_type": "markdown",
   "id": "04f2b83d",
   "metadata": {},
   "source": [
    "Przeprowadzono badania, jak dieta europejczyków wpływa na ślad wodny pozostawiany przez człowieka. Przejście na zdrową mięsną dietę powoduje zmniejszenie śladu wodnego o 11–35%, na zdrową dietę wegetariańską z dodatkiem owoców morza - o 33-55% i na zdrową dietę wegetariańską o 35-55%. Są to duże liczby i warto przemyśleć swoje wybory konsumenckie, ponieważ wg różnych badań wody zacznie brakować już w 2050 roku, głównie przez powiększającą się populację (średnio 76 mln ludzi rocznie). "
   ]
  },
  {
   "cell_type": "markdown",
   "id": "3fbc642c",
   "metadata": {},
   "source": [
    "Celem naszego projektu jest sprawdzenie, czym można zastąpić mięso w swojej diecie aby zmniejszyć pozostawiany po sobie ślad wodny, jednocześnie nie pozbawiając się potrzebnych wartości odżywczych zawartych w mięsie. Na początku pokażemy tabelę z listą produktów spożywczych, ile wody zużywa ich produkcja oraz zawartość wybranych wartości odżywczych."
   ]
  },
  {
   "cell_type": "code",
   "execution_count": 1,
   "id": "29f53d19",
   "metadata": {},
   "outputs": [],
   "source": [
    "#załadowanie potrzebnych bibliotek\n",
    "using CSV, DataFrames, Printf"
   ]
  },
  {
   "cell_type": "code",
   "execution_count": 2,
   "id": "ade85513",
   "metadata": {},
   "outputs": [
    {
     "data": {
      "application/vnd.webio.node+json": {
       "children": [],
       "instanceArgs": {
        "namespace": "html",
        "tag": "div"
       },
       "nodeType": "DOM",
       "props": {},
       "type": "node"
      },
      "text/html": [
       "<div style=\"padding: 1em; background-color: #f8d6da; border: 1px solid #f5c6cb; font-weight: bold;\">\n",
       "<p>The WebIO Jupyter extension was not detected. See the\n",
       "<a href=\"https://juliagizmos.github.io/WebIO.jl/latest/providers/ijulia/\" target=\"_blank\">\n",
       "    WebIO Jupyter integration documentation\n",
       "</a>\n",
       "for more information.\n",
       "</div>\n"
      ],
      "text/plain": [
       "WebIO._IJuliaInit()"
      ]
     },
     "metadata": {
      "application/vnd.webio.node+json": {
       "kernelId": "2a944371-4052-4a0f-a3ec-93220070c9dd"
      }
     },
     "output_type": "display_data"
    }
   ],
   "source": [
    "#do wykresów PlotlyJS\n",
    "using PlotlyJS"
   ]
  },
  {
   "cell_type": "code",
   "execution_count": null,
   "id": "68347960",
   "metadata": {},
   "outputs": [],
   "source": [
    "#do wykresów Plots\n",
    "using Plots"
   ]
  },
  {
   "cell_type": "code",
   "execution_count": 3,
   "id": "6afa9b06",
   "metadata": {},
   "outputs": [
    {
     "name": "stdout",
     "output_type": "stream",
     "text": [
      "\u001b[1m166×6 DataFrame\u001b[0m\n",
      "\u001b[1m Row \u001b[0m│\u001b[1m Produkt                     \u001b[0m\u001b[1m zuzycie_wody_na_100_g \u001b[0m\u001b[1m Energia_kcal \u001b[0m\u001b[1m Bialko    \u001b[0m\u001b[1m Tluszcze \u001b[0m\u001b[1m Weglowodany \u001b[0m\n",
      "     │\u001b[90m String31                    \u001b[0m\u001b[90m Float64               \u001b[0m\u001b[90m Float64      \u001b[0m\u001b[90m Float64   \u001b[0m\u001b[90m Float64  \u001b[0m\u001b[90m Float64     \u001b[0m\n",
      "─────┼────────────────────────────────────────────────────────────────────────────────────────────────────\n",
      "   1 │ Almonds                                     1609.5        626.0   29.0        49.2        13.3\n",
      "   2 │ Anise                                        828.0        337.0   17.6        15.9        50.02\n",
      "   3 │ Apple juice                                  114.1         46.0    0.0         0.0        11.67\n",
      "   4 │ Apples, dried                                684.7        243.0    0.93        0.32       65.9\n",
      "   5 │ Apples, fresh                                 82.2         52.0    0.3         0.2        14.0\n",
      "   6 │ Apricots                                     128.7        250.0    2.5         0.0        62.5\n",
      "   7 │ Areca nuts                                  1116.5        249.0    5.0         4.0        47.0\n",
      "   8 │ Artichokes                                    81.8         50.0    3.33        0.0        10.83\n",
      "   9 │ Asparagus                                    215.0         18.0    2.35        0.0         3.53\n",
      "  10 │ Avocados                                     198.1        167.0    3.33       15.0        10.0\n",
      "  11 │ Bananas                                       79.0         89.0    1.1         0.3        23.0\n",
      "  12 │ Barley                                       142.3        139.0    2.2         2.74       27.2\n",
      "  13 │ Beans, dry                                   505.3        332.0   24.4         0.8        60.0\n",
      "  14 │ Beans, green                                  56.1         31.0    1.88        0.2         6.8\n",
      "  15 │ Beef                                        1541.5        129.0   20.0         5.88        0.0\n",
      "  16 │ Beer                                          29.8         43.0    0.46        0.0         3.55\n",
      "  17 │ Blueberries                                   84.5         50.0    0.71        0.71       12.14\n",
      "  18 │ Bread (wheat)                                160.8        274.0   10.67        4.53       47.54\n",
      "  19 │ Broad beans, dry                             201.8         88.0    8.0         0.7        18.0\n",
      "  20 │ Broccoli                                      28.5         24.0    2.35        0.0         4.71\n",
      "  21 │ Brussels sprouts                              28.5         41.0    3.53        0.0         9.41\n",
      "  22 │ Buckwheat                                    314.2        343.0   13.25        3.4        71.5\n",
      "  23 │ Butter                                       555.3        714.0    0.0        78.57        0.0\n",
      "  24 │ Cabbages                                      28.0         15.0    1.1         0.5         2.4\n",
      "  25 │ Cane molasses                                 52.7        290.0    0.0         0.0        61.9\n",
      "  26 │ Cardamoms                                   3431.9        311.0   10.76        6.7        68.47\n",
      "  27 │ Carrots                                       19.5         38.0    1.28        0.0         8.97\n",
      "  28 │ Cashew nuts                                 1421.8        679.0   21.43       57.14       35.71\n",
      "  29 │ Cassava                                       56.4          0.0    0.56        0.0        35.0\n",
      "  30 │ Cassava flour                                187.8        343.0    0.0         0.0        88.57\n",
      "  31 │ Cauliflowers                                  28.5         24.0    1.9         0.3         5.0\n",
      "  32 │ Cheese                                       506.0        367.0   16.67       33.33        3.33\n",
      "  33 │ Cherries                                     160.4         83.0    0.0         0.0        33.33\n",
      "  34 │ Chestnuts                                    275.0        245.0    3.17        2.2        53.0\n",
      "  35 │ Chick peas                                   417.7         72.0    4.3         1.3         8.6\n",
      "  36 │ Chicken meat                                 432.5        239.0   27.0        14.0         0.0\n",
      "  37 │ Chillies and peppers, green                   37.9         44.0    0.88        2.82        4.68\n",
      "  38 │ Chocolate                                   1719.6        514.0    5.71       37.14       54.29\n",
      "  39 │ Clementine                                    74.8         47.0    0.68        0.0        12.16\n",
      "  40 │ Cloves                                      6120.5        274.0    5.97       13.0        65.53\n",
      "  41 │ Cocoa butter, fat and oil                   3393.8        884.0    0.0       100.0         0.0\n",
      "  42 │ Cocoa powder                                1563.6        250.0   25.0        12.5        50.0\n",
      "  43 │ Coconut oil                                  449.0        895.0    0.0        99.1         0.84\n",
      "  44 │ Coffee, green                               1589.7          1.0    0.12        0.02        0.0\n",
      "  45 │ Coffee, roasted                             1892.5          1.0    0.12        0.02        0.0\n",
      "  46 │ Coriander                                    828.0        298.0   12.37       17.77       54.99\n",
      "  47 │ Coriander seeds                              828.0        340.0   20.0        20.0        20.0\n",
      "  48 │ Cottonseed oil                               395.7        884.0    0.0       100.0         0.0\n",
      "  49 │ Cowpeas, dry                                 690.6         29.0    4.1         0.25        4.82\n",
      "  50 │ Cranberries                                   27.6        275.0    0.0         0.0        72.5\n",
      "  51 │ Cucumbers                                     35.3         10.0    1.01        0.0         2.02\n",
      "  52 │ Currants                                      49.9        275.0    5.0         0.0        75.0\n",
      "  53 │ Dates                                        227.7        300.0    2.5         0.0        75.0\n",
      "  54 │ Egg                                          326.5        159.0   11.36       11.36        2.27\n",
      "  55 │ Eggplants                                     36.2         24.0    1.0         0.2         6.0\n",
      "  56 │ Fennel                                       828.0         62.0    1.42        3.22        8.32\n",
      "  57 │ Figs                                         335.0        275.0    2.5         0.0        65.0\n",
      "  58 │ Garlic                                        58.9        167.0    0.0         0.0        33.33\n",
      "  59 │ Garlic powder                                226.5        500.0    0.0         0.0       100.0\n",
      "  60 │ Gherkins                                      35.3         19.0    0.59        0.14        3.71\n",
      "  61 │ Ginger                                       165.7        125.0    0.0        12.5        75.0\n",
      "  62 │ Goat meat                                    552.1        109.0   20.6         2.31        0.0\n",
      "  63 │ Gooseberries                                  52.6         44.0    0.88        0.58       10.18\n",
      "  64 │ Gourds                                        33.6         20.0    1.2         0.2         4.35\n",
      "  65 │ Grapefruit                                    50.6         42.0    0.77        0.0        10.81\n",
      "  66 │ Grapefruit juice                              67.5         42.0    1.27        0.0        10.13\n",
      "  67 │ Grapes                                        60.8         79.0    0.0         0.0        17.54\n",
      "  68 │ Green beans                                   54.7         29.0    2.35        0.0         7.06\n",
      "  69 │ Hazelnuts                                   1051.5        628.0   15.0        60.8        16.7\n",
      "  70 │ Jute                                         260.5         34.0    4.65        0.25        5.8\n",
      "  71 │ Kiwi fruit                                    51.4        370.0    0.0         0.0        92.0\n",
      "  72 │ Kola nuts                                   2339.1        146.58   2.765       0.4        32.03\n",
      "  73 │ Lamb                                        1041.2        264.0   27.4        16.3         0.0\n",
      "  74 │ Lemons                                        64.2         26.0    0.0         0.0         8.62\n",
      "  75 │ Lentils                                      587.4        219.0   25.0         0.0        59.38\n",
      "  76 │ Lettuce                                       23.7         14.0    1.13        0.14        2.92\n",
      "  77 │ Limes                                         64.2         30.0    0.0         0.0        10.45\n",
      "  78 │ Linseed                                      516.8        821.0   20.59       41.18        0.0\n",
      "  79 │ Maize                                        122.2        365.0    9.42        5.09       73.89\n",
      "  80 │ Maize flour                                  125.3        364.0    8.75        5.09       73.89\n",
      "  81 │ Maize starch                                 167.1        239.0    3.34        2.65       50.47\n",
      "  82 │ Mandarins                                     74.8         47.0    1.35        0.0        12.16\n",
      "  83 │ Mangoes                                      180.0         57.0    0.71        0.36       15.0\n",
      "  84 │ Mangosteens                                  180.0         73.0    0.41        0.58       17.91\n",
      "  85 │ Milk                                         102.0         55.0    3.39        2.12        5.08\n",
      "  86 │ Milk powder                                  474.5        375.0   33.33        0.0        54.17\n",
      "  87 │ Millet                                       447.8        118.0    3.5         1.0        23.6\n",
      "  88 │ Mustard seeds                                280.9        500.0    0.0        50.0         0.0\n",
      "  89 │ Nectarines                                    91.0         43.0    0.71        0.36       10.71\n",
      "  90 │ Oats                                         241.6        389.0   16.89        6.9        68.6576\n",
      "  91 │ Oil palm                                     109.8        884.0    0.0       100.0         0.0\n",
      "  92 │ Okra                                          57.6         44.0    3.0         0.0         8.0\n",
      "  93 │ Olive oil                                   1472.6        900.0    0.0       100.0         0.0\n",
      "  94 │ Olives                                       301.5        133.0    0.0        13.33        6.67\n",
      "  95 │ Onions, dry                                   34.5        322.0    9.0         3.0        67.64\n",
      "  96 │ Onions, green                                 27.2         32.0    1.83        0.19        7.34\n",
      "  97 │ Orange juice                                 101.8         46.0    0.83        0.0        10.83\n",
      "  98 │ Oranges                                       56.0         49.0    0.65        0.15       12.34\n",
      "  99 │ Palm kernel oil                              540.1        862.0    0.0       100.0         0.0\n",
      " 100 │ Palm oil                                     497.1        884.0    0.0       100.0         0.0\n",
      " 101 │ Papayas                                       46.0         43.0    0.47        0.26       10.82\n",
      " 102 │ Pasta, dry                                   184.9        371.0   13.04        1.51       74.67\n",
      " 103 │ Peaches                                       91.0        238.0    2.5         0.0        62.5\n",
      " 104 │ Peanut oil                                   752.9        900.0    0.0       100.0         0.0\n",
      " 105 │ Peanuts                                      397.4        567.0   26.0        49.0        16.0\n",
      " 106 │ Pears                                         92.2        288.0    2.5         0.0        67.5\n",
      " 107 │ Peas, green                                   59.5         81.0    5.42        0.4        14.4\n",
      " 108 │ Peppermint                                    28.8         70.0    3.75        0.94       14.89\n",
      " 109 │ Pigeon peas                                  549.4        110.0    8.0         0.0        16.0\n",
      " 110 │ Pineapple juice                              127.3         50.0    0.0         0.0        12.5\n",
      " 111 │ Pineapples                                    25.5        350.0    0.0         0.0        87.5\n",
      " 112 │ Pistachios                                  1136.3        536.0   17.86       42.86       28.57\n",
      " 113 │ Plantains                                    160.2        531.0    2.28       29.6        63.8\n",
      " 114 │ Plums                                        218.0         55.0    0.52        0.23       13.5\n",
      " 115 │ Poppy seeds                                  218.8        533.0   16.67       43.33       26.67\n",
      " 116 │ Pork                                         598.8        118.0   21.18        4.12        1.18\n",
      " 117 │ Potato flakes                                104.4        354.0    8.34        0.41       81.17\n",
      " 118 │ Potato starch                                151.2        300.0    0.0         0.0        80.0\n",
      " 119 │ Potatoes                                      28.7         74.0    2.7         0.0        16.89\n",
      " 120 │ Pumpkins                                      33.6        385.0    0.0         0.0        94.87\n",
      " 121 │ Raisin                                       243.3        288.0   10.17        4.24       52.54\n",
      " 122 │ Raspberries                                   41.3         50.0    1.43        0.0        12.14\n",
      " 123 │ Rice flour                                   262.8        346.0    7.69        0.0        80.77\n",
      " 124 │ Rice, broken                                 249.7        311.0   13.33        1.11       66.67\n",
      " 125 │ Rice, brown                                  217.2        162.0    6.52        4.49       24.2\n",
      " 126 │ Rice, paddy                                  167.3        378.0   13.33        0.0        77.78\n",
      " 127 │ Rye                                          154.4        256.0    6.98        2.33       48.84\n",
      " 128 │ Rye flour                                    193.0        300.0   10.0         3.33       73.33\n",
      " 129 │ Safflower seeds                              722.1        517.0   16.18       38.45       34.29\n",
      " 130 │ Sesame oil                                  2179.3        884.0    0.0       100.0         0.0\n",
      " 131 │ Sesame seed                                  937.1        633.0   20.0        48.0        13.33\n",
      " 132 │ Sorghum                                      304.8        329.0   10.62        3.46       72.09\n",
      " 133 │ Sour cherries                                141.1         78.0    1.6         0.5        19.0\n",
      " 134 │ Soy milk                                     376.3         53.0    3.41        2.05        5.22\n",
      " 135 │ Soy sauce                                     61.3         53.0    8.14        0.57        4.93\n",
      " 136 │ Soybean oil                                  419.0        900.0    0.0       100.0         0.0\n",
      " 137 │ Soybean paste                                 57.2        208.0    8.33        8.33       25.0\n",
      " 138 │ Soybeans                                     214.5        446.0   36.0        20.0        30.0\n",
      " 139 │ Spinach                                       29.2         24.0    2.35        0.0         3.53\n",
      " 140 │ Strawberries                                  34.7         35.0    0.78        0.39        7.84\n",
      " 141 │ Sugar beet                                    13.2         42.0    1.0         0.0         9.0\n",
      " 142 │ Sugar, raw (beet)                             86.5        386.0    0.0         0.0       100.0\n",
      " 143 │ Sugar, raw (cane)                            166.6        386.0    0.0         0.0       100.0\n",
      " 144 │ Sunflower seed oil                           679.2        884.0    0.0       100.0         0.0\n",
      " 145 │ Sunflower seeds                              336.6        283.0   11.67       25.0        10.0\n",
      " 146 │ Sweet potatoes                                38.3         85.0    1.54        0.0        20.0\n",
      " 147 │ Tangerines                                    74.8         53.0    0.81        0.31       13.3\n",
      " 148 │ Taro                                          60.6        498.0    2.3        24.9        68.1\n",
      " 149 │ Tea, green and black                         885.6          1.0    0.0         0.0         0.3\n",
      " 150 │ Tobacco                                      292.5        337.0    0.0         0.0         0.0\n",
      " 151 │ Tofu                                         252.3         76.0    8.0         4.8         1.9\n",
      " 152 │ Tomato juice                                  26.7         21.0    0.83        0.0         4.58\n",
      " 153 │ Tomato juice, concentrated                   106.9          0.0    0.859375    0.2875      4.32062\n",
      " 154 │ Tomato ketchup                                53.4        118.0    0.0         0.0        23.53\n",
      " 155 │ Tomato paste                                  85.5         91.0    3.03        0.0        21.21\n",
      " 156 │ Tomato puree                                  71.3         40.0    1.59        0.0         7.94\n",
      " 157 │ Tomato, dried                                427.6        258.0   14.1         2.97       55.8\n",
      " 158 │ Tomatoes                                      21.4         22.0    0.88        0.0         3.51\n",
      " 159 │ Turnips                                       19.5         21.0    2.46        0.19        3.39\n",
      " 160 │ Vanilla beans                              12650.5        333.0    0.0         0.0        33.33\n",
      " 161 │ Walnuts                                      928.0        654.0   15.0        65.0        14.0\n",
      " 162 │ Watermelons                                   23.5         30.0    0.61        0.15        7.55\n",
      " 163 │ Wheat bran                                   203.6        216.0   15.6         4.25       64.5\n",
      " 164 │ Wheat flour                                  184.9        467.0    6.67       20.0        66.67\n",
      " 165 │ Wine (grape)                                  86.9         69.0    0.7         2.0        18.0\n",
      " 166 │ Yams                                          34.3         90.0    0.6         0.0        21.69"
     ]
    }
   ],
   "source": [
    "#pobranie danych o zużyciu wody i wartościach odżywczych poszczególnych produktów\n",
    "foods_df = DataFrame(CSV.File(\"water_footprint_nowy2.csv\"))\n",
    "show(foods_df,allrows=true,allcols=true)"
   ]
  },
  {
   "cell_type": "markdown",
   "id": "63ac8bec",
   "metadata": {},
   "source": [
    "W oparciu o wspomniene wcześniej badanie sporządziliśmy prostą animację pokazującą ile wody mogliby zaoszczędzić Polacy w ciągu roku przechodząc na dietę wegetariańską."
   ]
  },
  {
   "cell_type": "code",
   "execution_count": 3,
   "id": "7403b007",
   "metadata": {},
   "outputs": [
    {
     "name": "stderr",
     "output_type": "stream",
     "text": [
      "\u001b[36m\u001b[1m[ \u001b[22m\u001b[39m\u001b[36m\u001b[1mInfo: \u001b[22m\u001b[39mSaved animation to C:\\Users\\marek\\Desktop\\pakiety-matematyczne\\Polska.mp4\n"
     ]
    },
    {
     "data": {
      "text/html": [
       "<video controls><source src=\"data:video/mp4;base64,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\" type = \"video/mp4\"></video>"
      ],
      "text/plain": [
       "Plots.AnimatedGif(\"C:\\\\Users\\\\marek\\\\Desktop\\\\pakiety-matematyczne\\\\Polska.mp4\")"
      ]
     },
     "execution_count": 3,
     "metadata": {},
     "output_type": "execute_result"
    }
   ],
   "source": [
    "using Plots\n",
    "using Printf\n",
    "\n",
    "peop_count=37000000\n",
    "meat_diet=5500*70\n",
    "vege_diet=meat_diet*(45/100)\n",
    "\n",
    "function bar_chart(k)\n",
    "    A = peop_count*meat_diet\n",
    "    B = ((peop_count)*((100-k)/100))*(meat_diet)+((peop_count)*((0+k)/100))*vege_diet\n",
    "    Bf = @sprintf(\"%.0f\", B)\n",
    "    C = A-B\n",
    "    Cf = @sprintf(\"%.0f\", C)\n",
    "    x = [\"Zużyta woda w litrach\\n przy 100% ludzi\\n na diecie mięsnej\", \"Zużyta woda w litrach\\n przy danym procencie ludzi\\n na diecie wegetariańskiej\", \"Zaoszczędzona\\n woda w litrach\"]\n",
    "    y = [A, B, C]\n",
    "    colours = [:red, :green, :blue]\n",
    "    bar(x, y, color=colours, legend = false)\n",
    "    xlabel!(\"\")\n",
    "    ylabel!(\"\")\n",
    "    title!(\"Procent Ludzi na diecie wegańskiej: $(k)%\")\n",
    "end\n",
    "\n",
    "anim = @animate for k in 0:100\n",
    "    bar_chart(k)\n",
    "end persist=true\n",
    "mp4(anim,\"Polska.mp4\", fps = 5)"
   ]
  },
  {
   "cell_type": "markdown",
   "id": "51cdb03f",
   "metadata": {},
   "source": [
    "Druga animacja obrazuje tą samą sytuację w przeliczeniu na baseny olimpijskie - jedna komórka macierzy to ilość wody równa objętości basenu olimpijskiego (3.5 mln litrów)."
   ]
  },
  {
   "cell_type": "code",
   "execution_count": 5,
   "id": "32b93705",
   "metadata": {},
   "outputs": [
    {
     "name": "stderr",
     "output_type": "stream",
     "text": [
      "\u001b[36m\u001b[1m[ \u001b[22m\u001b[39m\u001b[36m\u001b[1mInfo: \u001b[22m\u001b[39mSaved animation to C:\\Users\\marek\\Desktop\\pakiety-matematyczne\\baseny-anim.mp4\n"
     ]
    },
    {
     "data": {
      "text/html": [
       "<video controls><source src=\"data:video/mp4;base64,AAAAIGZ0eXBpc29tAAACAGlzb21pc28yYXZjMW1wNDEAAAAIZnJlZQABb+BtZGF0AAACnwYF//+b3EXpvebZSLeWLNgg2SPu73gyNjQgLSBjb3JlIDE2MyAtIEguMjY0L01QRUctNCBBVkMgY29kZWMgLSBDb3B5bGVmdCAyMDAzLTIwMjEgLSBodHRwOi8vd3d3LnZpZGVvbGFuLm9yZy94MjY0Lmh0bWwgLSBvcHRpb25zOiBjYWJhYz0xIHJlZj0zIGRlYmxvY2s9MTowOjAgYW5hbHlzZT0weDM6MHgxMTMgbWU9aGV4IHN1Ym1lPTcgcHN5PTEgcHN5X3JkPTEuMDA6MC4wMCBtaXhlZF9yZWY9MSBtZV9yYW5nZT0xNiBjaHJvbWFfbWU9MSB0cmVsbGlzPTEgOHg4ZGN0PTEgY3FtPTAgZGVhZHpvbmU9MjEsMTEgZmFzdF9wc2tpcD0xIGNocm9tYV9xcF9vZmZzZXQ9LTIgdGhyZWFkcz02IGxvb2thaGVhZF90aHJlYWRzPTEgc2xpY2VkX3RocmVhZHM9MCBucj0wIGRlY2ltYXRlPTEgaW50ZXJsYWNlZD0wIGJsdXJheV9jb21wYXQ9MCBjb25zdHJhaW5lZF9pbnRyYT0wIGJmcmFtZXM9MyBiX3B5cmFtaWQ9MiBiX2FkYXB0PTEgYl9iaWFzPTAgZGlyZWN0PTEgd2VpZ2h0Yj0xIG9wZW5fZ29wPTAgd2VpZ2h0cD0yIGtleWludD0yNTAga2V5aW50X21pbj01IHNjZW5lY3V0PTQwIGludHJhX3JlZnJlc2g9MCByY19sb29rYWhlYWQ9NDAgcmM9Y3JmIG1idHJlZT0xIGNyZj0yMy4wIHFjb21wPTAuNjAgcXBtaW49MCBxcG1heD02OSBxcHN0ZXA9NCBpcF9yYXRpbz0xLjQwIGFxPTE6MS4wMACAAAAgWGWIhAAR//73iB8yy2n1D7fUJH9QBGkmpowfrYya6tDRC/9WxAbW6ZjqCYPMU5BBJBJACUMDNektvtaoDxoNibwLjyKM2ooDF7WFCz9FfhFSH8oOShVBUxcjWI8QFa+g+RgbJVVZFQBh5NtZHH9ifsm9FXAQ/cWkm3w4FB+ZOIhGrZd3wzhbskhaaGYhXCyPw9ARiTSpVFZjC7+dONNruijRPZi5vvzRntyvqqQtZrdYLvkv96/1nFIcOtVVhsdD5zdPHRuAJHL/adWi39QP94TWcdm7d96Vk90hG9q4XzX7VzZiefUJfnEuDxFjwA2xqvjpboFiydBbTS1EqPyUIe3EMs0eU3fCkKGmRDOqnvvwkpxD8X3J4UoZIRvU07NAHmJmJkuKcFunsMEPi6fqKrAxZQJ/9AWreFoCHSqtNlLFLnEBO9esaz1BjnrKilkgZdHzR5xKj3u1zB/Z9X10nlhgjeMSfyOkQ5H2Cpb91UiGRKRZAmm88cA/4iXql1RQK3UxzUjIvQerDig8pzmd14yDAVeD/LZP76c8FlREJhGj2darMDVmi/KzX0EdbnouEliXGMRR8VWCNdtI9BbJ3kbkVKxbo3shI5iRuPyEEYWW2p/9Z5IO3gFEVcpE5xoWwoWxTLzB2H40/XLT/nbc40vZAd8k3OqY+0SWxfWDYRbJzTFNvI0wMINpzgASj3VwBK7CTFgPPmoOpDOiEaLJ7oyNGIgSHX2J9L69f05LZF+C+OFj/BZMRcQziT63/J68dWpHPyuBktjcd0xJSWCHZ13zHRUJ8R1Pe0Yje2dk0LRmMec+2/JM27r4Rk403ryuFEvFMKvq84+jsXBwK4cfX5UvLlbQtcXKK4wRuBgx+ETVG0cIhtZi5nmjVg3zJ+DkSm4WaVd54E8JodUlwXyLp1sw+W2aNk9a0dwxA1OSx/ljWvmvpfvGlPZPrL3EqvZMRxevEVkAwcjshondOZgNstEMFMYlLZGGq+zd+Lm43c+5iIhFUSGZgzH+I6fvNCqAV3hHOsmVNozf/HmF34p905K7HOy4reuds8hX6E8fpbDn5Pvi/n9/eyqQbmX+vvgTHWix1w6OXK0uNr8f+He4ZCutvv2nP+VOF4wIamAJNYvg5uPYMyXLxSGXiIhdYlFDMRNaoshxqZe1RZeIc9xFEN9B0ZS0VFWUh2BmUIttpBi5+2da6+tefQ9lfMmV0NFZ6A7kqF58hB264brAGf1RB98mOd9YgW72UEHImV+Fy5H/4tPUKkkzdWSsv76/VyNvMsjnupwvNNp8O34mGmM0mZbuqtz7q49VA80onnlwUPcR4t1EvU99CJEGP+tspqRn1jvISBOgYAAPmuWoiesZPegr8VondgAi24DuO122HEX36GLAdB2q6CGdEwWvpu4wbxJpQPYPZJ9sf8ZLfnnGGS+ZXUIpmMZViMOZ6oI3CumBHCBc3r2Y6cll5mzGor3aoR82u1EK/yY4XJzXv5RIBiUGGSyEvh1rOfC3tmjwuEpSjFVrdCfPsEftR4GKJtubTV5f/TmhN4noAaP6Ntzo9nZeYcUurQ87TTb3e/i82fxNCfH2tXtv321MV6bP0WnruwPDr/lDL8dlT+edFm+taK1hs7D1OBSl+PV578rtoYO2oCp//Aw9Sw6HTkjYjSxHVVOLCDEuhafM4D92Owf+bc82a/vHNhWbHP231Es+zE7pawH70v172pj6eNIFN4LkBqreVRwDRmN+/11vqWiH9C4vZGIGE4lx2r4kNmxA7vxY2MQ/WKf69MMQBhGVRWlZziqMbIYcz/9wWHkqAYwqAzothwX6vsG6LZcNhOvT+mLSs3tug9dc/PwO8YWzhqGdfs2/DeRoVCxe0MknYduooMaCBD5n5zDiXR8L3To9gbG0J6JhBf2RzBW252WiiIX1TykyFQ+EqXEta2CvNip1zMVAmomRRPB6HapAIgZPMIpu6Md028AE5A21MFdOFr9T4BTmdm3geeGo+jg7hl1gTcKrd4zU4QLaDf1Wgv0+q0uAEiPPKmJ0Vyt0uilzMJn6REg9tZoOs48+LGUgfmWVgGNW5l3VNHdpagPYQo1wX2DwfNKKjApBicsoOC5qZDt+d4nltby+165+qF+Pa/Ai2ZfwhDjkTu5CDn9+9lfDs4eBAqgDZZn9Hk3oKII6iDd9wBIg7nBaksLx4QTW8bCpjF5eqgCtOtruw+1KbLeQgY/eq45QDPo7pyi2j5xc9YB/BGAGKcv/msSgPk7n+RlrlC4vokuS6Q8j/vSB5B0IQF8z4fJpMMiGGkyvSGHiM7UztbXGe0mltx0W+39WppbEFoWO7+33z6ixybiEdDL07OA9NYEtuJHTqnKi715j9QcwUOIdvXlkFpXcicL3DVi/rQUiuJQmDfapq9foWETDGEcMfpcWaFpnK2Tv0tXCWczwMPJ5h84AdQ6C2bLy9w6jTmiYSTX7BuW56X3wamjP7wU+HLmoktT9NTaDOU4ClzOeOpZQuB/Xpweg74H1ZaLNqsjTBDSW6qkq36E+w1GtLaajvkWWOUGcgdGCUV13gVI+Ti24xiBj7D2JZBQ9BSUEpH9PrD9S6tPsb5VfhfkGLXxfCF+SCHY+yKbvzw2cIdLxepkZ+0gGEhvy7/GRX0XpqGoRkI7CJvxDr9UVzrigytdCm+ceDpXf78IhWS70MIDjNSQkTP0ZQLDeCsrs5DD0kn+W04roCisU/7YrJxPvLYoq0dHwo+tgQZWZMvMuoNuMAv0iThnW2bYdGhVyl8ihaM6CsAOwzKp7VMEuzYPS7Q6SrEgYvoHXO6ugqZr1MqJOmlCallvGCA0+57Vrtu+XSumno9B+NDYAvDfcJlAvla9GJcAqYbUozFhElqrkOES8mqKjkiau077Ym5wKIn/demCpzunULwWDFUJP0lvx5mWiuQMvsEw/FiwEQiR+RwCOjCAjhXOBafdIqX/Mjhsv41i8Dv0oAIwrCEJBLxh/9ziTZcofA6/50QtQVA8ZmaWN//CAW/Utta671QOQ4caDTSrG/Efly6VoPhWfpV6WHpIIFfeJFWwR/z6tsog5Y0MJH6/4fqtyzdJpbu788ltKEqLZkV2YjPELOY4koLtRQILMa5y5f+Ba+TNGP/6ol2q28xzZgrbQAqpzNgqrZD7RvELr36/8iGuQ1anz19AWAVscU2zCHUGvOLkq1Hx8fOHiGOKyEbr19+UKe9rHp062hE2YBKiregbqMOXYb19sWJCf0cvBuKMfqGpko2N35KifJi/9xWH+gB8div/I8lblQUB+t/3P3B2svPP5ZeuYzIsKN5/JLCF4v+CvSwU3fyiJLl5IBf+1FzjW9IpvxTUL+oUjuKYd/gW/x23X0h2J5JRkxPLieXSJRdapBQfSBe62VjywzCi9Mxa+jG4HG96zDfB38g6nudukKEyil1JMZF51zxhltUbqD/Vb9neMpu/uQAZr/1MeZP9q1EB0F9y6i23no8ldgONzrcXkDkxN609dUsHNq4RTfhh/PXsf57H5kwtcGPNp4zwd9lpB1FCd4OVl7/Whk4qmnN0tuJyy/SC5PGTBSpVqBCOXAyWefgdcBXMwdrXu2DQ1IgdUI3f2P7MLN61cuJBbUDTN6Cg0HBOws3ouqKPoOtYJj6r/Z42fISCevdJZJ/M+7fQRcEnMkJUjPHONGcWTvOQA5xLWfltdXGNWqqn7kcYsnhr5nf+7+SwnLrcjla9Tu1ZZGdceqMr4eq8I1dZ/J+oGozi+nXzoZw6HNS6FTgCERUQxcWynlOXot7R5onzRrF/Clfj9zskG5kTcGhTl3FXm5cuzvn2el4vilXqWus4Ze/KdGlatrxN9NjsK1yWHaQZ+7+6fBnf4QHwc+1VS1IQnhMMkoMNaIX3HumV/4wP8rodxSksURojjae8vOrTVycQPbHyEOzVW6lrbF3rhGSFkISCVnZwnHOalahm/QCLlz7iNcn3uzboMgN+PChkYB2QCAw7tX86aThiPOq2BxM62LiaxSw3XgKYjlCFdzkwrgoZq+Gemxt01HdUa7dDNyevBlcff4MwXMtrWPuLrLd9mKBHuFqwb5NJ1sInyxXpGDMhs21FC3u5MVtpM372f9UKzmdRiFQmLPq9OpStigvkQVIPHn93MYhO1Km9yHGeDHqhWh9dtzeUxxNe7IQQG9+gsXT+non8T/7c6Z9wYXGFk5atoJs1Eb/HNtdnc2iQGWuWYPaqHrAOpFamaf8UyB+KkY7JzARAN5u8FsSYEy5uJf/0nU8oucax9NGrA1gxAYg5ApoILZH5l5ylW0pgYZSPuZi8B1N1DXQpFPsoNwNuYmkcqUELhZSuIKJ4JxrVlqbcWT1cI+nNBmJpnWN8NeJHJeNtviXlVLfP8OhC7OmRGPOX3ztF3XuE5pVGbx58iSGZdHVsqGhMc9oJvqvSpN4cwCXKq7N3CPirPrKE8tIS/uhD6F8hi+viiDWuAZt7A7YpnnH9jatMZOCDgnIM1bp9Ykr+de+IrTVneQWMYiDMsudJFQDVeNQYp3mIvBvbYGfuS3WHtKys1LL8G+XMZbu5ARTOSkXACApY2B7FTfNI6jObS1r8mmfHotLOvN8O4mB1bDTCsmtu0Lq5d/LF3jIZDlj4Wpk1o6/p4UiRmus676N31UghxmfC8mp2tG+P8uYKi/3l+r/qbSxS9ixy1mrSuk6IHd4TF6DhYZfk0N2yhO54EP8ORA/DtX7j010Z9U4Y4UPR5hnqXOSuYlVXIbjuYvOkJ/HkuBE7mLq01saXcJpcOFu3/gWqsPmckn8JQRXrP5SGf6KfaU8RCtTLxJQgtrMJm5++EA+1PT04LWhVv5hkIWAj1bvxA/LUG+NZdXAjXuKJdizgvbbdGGLk/oxYNofwW4kPhyjq3UH2pyLLYfCoLX7Ecs+NgFA/eDt+I0NUtN2z266qohBivFUI6BkR8+Lhs4YLaPZdtWBqkRyrWAg/g1fXqQJxC8gFvQ6uQ3ETgemFJfDiuzS1U8dYt9uyRqZStaneABzV6gEgCgYSYuyi792uxUFgQUswJ0i/9nEluZWK4iIImIoNUrSXqmve+M/7fgVAALqUDhEpE3H9gTSv/n8V6Ied+hGGFGwT7F82nTRP33gR+3JGPvX1rq6t6r7V73BhTepMba6eG1wMtDWYHssbsXfqHIXFF+tjbK+4TLTD4Kjv0DLSIoObwTDEIGXpp9+lvyQHdJkCPili9eC/KNJO0XakPgpsFxKdvntbZ4x9ysGRT3vvaV8g1lM2cVdbuLTDboAbX9+gKSqVq2AudetTpQprHithBGWFJh2opArj74owZZ4RrTPWCt8GgHNqi8dOwzUJtk7PMDguHs1pz0s+xZ/Qoyy0JZ+LFK2WmwBnK6qSabWKaOC6jkckSB8g+CDRofzIkd9wf7hwtT46/XS/QyHMqVCPsG9sHl0qg2dhHSBNMUi+Mq3aj5+UT2A6QWl5zBlj2QUnS00yrSptI+tF0av6pv//hzE7qpdMMXZ8JGneU6upGbhbRGv4DLNWuqM+x76AUpj2SbFfJQgwX0AgH71NcP0JV9bbzA2y0AQ/fRcQchbTOXzY6q0iOja87gtnyMnakLOv0F5uBHMucfbEbFtK+2yjo9//ElfJ7NlCBhWIGJ07t0kJ4YqbJV4fLnowrpJ0p+Mebp76G+Cioz/ia580eE+NnBBlOzvh7KTwBZaUT881AOxk27fLPP0NSpgOC+wXPDkYXC8KpQiliFHkNl+BlQXxTcWB1448sJhJGPNQfFAfwWV/8x+JPkInSoJ9cCT4zJQZLXJyA73IkKpQSu7WrAKIlN3wajIEMJ4QdVE+VtqKTJQAL5xdF2wqCMnXl7zcM2mTVEIoGmlsUEyuubxc2lxgrp1AbtAy6OTpq7JLGLsVSbLqsEROknQHyfmOmo53X62fPItg/Wmrj9/x6rHcBY8W/eGtHUB+j3Pf8gvKKxCipJpsfMjTY00g2mSGQu4Nc18d6WTqLqvIlM3NJu51IiZ9+eCgJadQhAEEDoJ4ao57bMfIe8bOSJaZaVcPZlnZ2wdW07l2q/Us6adul5BqLZk9MX6y6TA0kEBwLkwvvBXik0gPbXiN6BqRyuEx8Kr0Y68YTgb8VrvCimp+7Lf4nkPmcUxo3jyx8zqhxE3YBUBdY5/zvOPZwVZM4djr3YbEeAqs72b+rQE5SplsQuRk1Oqf3vnEj52NcMrHq3djWyZER6E5Eec9sfSb4hZYNiPd/ivbASa/Kt7PMGRLRRGqmbznH9pEJ75KjJyIUlHFOghh2g1QenPgpXQKT4m+MMX5+TtcBO6GcxR+zKX/MOW7nKRUDGk3IpArlvBJi7GQZSozSdPR1hPsz++YQD9bvNX9aC8q/kL4qIuqYeh6wzWRcqmtmYP5+I9p9wwXu7O9Tgo3ORZGfVZt34h0u8L1Cznj337c57LcDGu7agYv3E9QPw2dhaDMUQimRqsO60tdV7JuZz71UJriUJejaxVT9KpTc8vI+wNfY9CAH1nrzVaN5prgIGbCt9UkPcEdDS/G5OuOdjCVM/ESXGr8EBG95sCEDsUhFPDIN3odJM6+aA6Xt0ypF4hEvQiBfK6inqW+zzYTfladlunhYMgans9eJgqXQrtT2txhM9iQYRq6RjO2QrPk/L8we/wxD7q966Thw/6x8TxU23+XgNi78mECCf07zkCYCKerhJ9rVm97WpblTsdjy7eqWTNSvt6gSNp/qLdKiMK2eVr3GuNJURN7NKEyPx/113mOYZt8dyAnppErgBE6F2cXcL85XCSgljtY3G6nVNZ9wPOU05n6ukh/p/hxn0p0gqrs+sZiqZyv10nn83+6uK5E+Fwn6DhgkjX9b3pHJKerpUK0wOLVvTs22r7A+AyTU1O00bIr4HvzrZPjdQCxzrmKJybHUAamxM6pdbPKPpTR2IzHu3ZXVQJb/JUWKmdvwvjUA5DDhGv8bh4eHjNMWoIOP5UIQJ1rvt7NjZk2ivJTRwHRD56nBGD5p4+xfX4XGYqGYUQqhEeOUgAfeCkrgELhQBlt4mZ0gpg9bqGAWDYofDGHltHkVde1KRIA9pVrg4VspPugZu/TFnGgtB0396VGtADamfjT66GydNG+odLOvNouXX2Zzt5YfyEMhdXrj5oPZHDwAAAMAAAMAALSDSwABnE4w+EUW5m9YPKbJlHVvaPA8/VgK+dJ/z5A3CgW2mzcKR8jAdddW4Lfrxt7o4tdc8ke+pLytYKgdQADo/q7VvlhaIuSMiwMcNNQt4aSPEbpSLrm/gIlmWifYAyTy0L0MYQ/R7XUjSWNn5WL3p5wVUB7752pKg9szDGHpvCHQP/Elh0BHltxPqCgxD++71LEZnJ0Mfnzbx09CtEtmO5pj7YlJtODdiQQIoFrhhAbxgx23TpyHpyIapxbGf+AeHEM20HZbpbarkTHB/d/1+i/0Dq1iYsdTQJ0P1/v0tTy07XEnjwgFrEAGNNvETZ1FfKTA1atdqbd32aKTHOXwGtyUiqHd/5HNN9M7VzGcsz+eXhRkSX+yBFHQp8k/v+RihqTxs/+i5y4yPRVf+7hNiuW2TcFApSAP6eVhDPR8PEd27oBXSOQ1sX8ox+kWAAAKGeypWv0HnMNP2hHPT/8vcJjDNlgmi/fAP/2QvTf1pOysGSatpM966kJrnJMWDH0QlAvycievOz1Du5JOOmVIcI55g5/Cd3f1oUwOqqrx4vM5NN9ihgeDlAAWE4zTH4/VroPjH3KLOcEe3oJriR+voziKHBJoe9I4UAha2+ltbCFNIiEtT4chI+8g6kLcyMgXoVIJsDOV7+EfCFzpXpiPjxquvAVJ2am+sG72NBYiYe8NwNsY3JEFfTmmgI5+l7OBdGZD65/D1VmYOS+KRlnah9rpSGRV3pjnt0TvZSB6GX6+a1ParPxaYRjjb9NiNy+P9KBPw5+poaz+byQwOs9MxTylr2TDDlNgnvEDbATD6/xBVXgT53xDfI0zz/2KH383HhgMgayJ/ef20pcLtbgSrSpt4QBn/cOFKOnoftwOBrBSOccen5v/G//NrZ4ONf4ApaKyutmEgYRO1NaDxWky7MErnRLV7QAAG13plwUqjDc+01oAwcaG9w7Ar7Zsqt3VbXpt74OgzzAodWJWsaIPG9CFAVH7Ymi5xKKqA8xdpHPikG4kVbSsvMlfulHHkrbgFs+xV0b9bh00oQ7HoYgZatH7jHw2L1ZyQucaYfx41eiDJz4rk8Uw7bms/opY6f4d0sZzjckYEjxmse9wh8YtM3yl5gKC/4jdq1dIbceH09hnSyPlPAdcig3RXTzFsAFSkg0B1B13CG8Prs4aFv+mNpn6Q7HDLi1M/6w9n8KHoCVYRhAL/jvZffVlXWPeIZZS8g+MGCYpPs2kl2vbZ+9eDLkHf/ddhI/e+Ic37vC/edfGBu4WFp+KyQH3cBjW4nnc9AHWaUvS5QzyfljbBcr+uU0QGVja4mzI07QWh4R8FoJdsRK8Vmck4v6Rb881WxRc3LjP567Yw+S00Dw8RJr0S6kL8q3JuUrFChSPRPGRv/f7OE2XkZN+nOe8AbXhzih6pQFX7LsF1KzpV8AAH6DhKr0X3Cw+zBqdnAFIPQQX6dLvHQTpZD/B8XbnAQ+cCsE+P3nRgMa4Pmu6RiQAtp46YO1p3TE/3YaOqpFYHSGTW2VJtJ3zsWZGb4KoKz2Hi3UgOK/F8Wdv7D6b9xdD0zPZoVbMr9OnGtzKo9BATN8WoGeDcO4d1EdHy4zpig4D6RiEJb6cbMZtoFPtCK5Fqm13DZG9yXtAhUKeaX7qbrwRsLAQNLRJt8X8ztXDzPkuEULPnia7jvlUwBUZFmf9fUxxA9/E48mspLptWeZRhLZzv0GeBmGXGVkJbktvMsyBh1CvhZViKPjfFG28OrTIR7CRU073aOoqBsOlRor44eDsUgW1oNfMvJfCc/qLJjS+iTO92czICTxnnxyZAAAvY1oQAsR1G5oY/VM+UBrENAOznVJSG1MMusJgd6nv6UFOlHkJEijCPqe554cAN+KSMEuuGk1xoIPJbtRXQvIS1rxe3hnp/WFTJjVV1329BN0Ov1QBvL9xGXcV7XvJJEgXzHbS/u2OVFHAGs7O49NPuwgPQX8LgXuB5I9DIrrsWHLBNfHxJtUoDqEIkOcSnRdY6Z/fZMMtuDaaL+yuvo95+wUBhf6HJz8TmLsZ4n7U4SmkgNsmVV1uk73A53nQUz6QVkWuAjeRebb0BuAQ5jZ+HY1oS3d2OP9CZ6eH7aodQ0Gm3s4dGfYBib8M3QJ0ZKQLKnawXpvueytslc6HHzFbJX8AGBUP8CIV6skIpI5YsfAoJr8uySUg3E3f/XuDn1L45gAAETgBpM//J+/W44hSfNPqm8jKbRyyoaJCCr8mTPGoXvwOmq9CcX1h8Mwtg88qhzqOgMPguD38jNaua+VjFOQfPYGr2WObjLt9T/lZrZOSDibaLYxzsLqT/3VtLseznuUhKYHYFvbyjbsC5X8tAefV9r1DK6Bx38MuEmVHyNI/nlnfJ+pyndPG+GXMUvMCEdXYhmtFNn1Gwh8jhazJDt6lxQCRH0chgYh6eXwfgjaM/RMPkRALh9+nSwTnnIiS1Tjx0nl3hB3wNCKS5shz+3QsokmU3Xi4ILNPZ6pUS6vVpQzEv9K7Jh2JnOA6HKNA4hYMlqW2eLGWHHC/SNaczsf58qOdyWveYkkwzSxDsIAJUDszESBWaf9fgWS/MFfvyuax+HMCGV3QUroEP8ACO6AAAEv+CnhDWlUAiXtp5hCvpHorZqvY7vGbx/25k24XJbXNh4YNrklx+zeY44UbfEvMnat3w0eQls90qKyf+mf6E3zQzJ115kqrhZItDcbNiwsOFQw6nhPeQEJMwRi+t0gKGu1KQ5AYqncq1Lf1DdRkW5Jxpp6JbGYbxBRQtrLwEbXB8vksSmAfHcPCVQA9zfqCp/kT1WygL+kNoMz4VfRPg5CLLpU09n3VeHMcEU/HLRUYzdBnhZvePyiM+elYO3rBEnESuVCQp7CikSfyUshg9bd7NeN9YPbhifNlUMdVGYYHOCtSaxAC7NTUfAd5ffxqQG5RrYzgSBmVz2+7+S8zRMZNTFzav5+AWQjjWbqTkegAYX+cZnolJiy3v52D8vvQXaZ87Jf8wnD1OP2i3q6zdwKOwEyyY25+6X1mBEcOTdzwlBebpcN58B4h2VlbuXANEkN91OuwLl1J7NDtw5DgHEqyBSGe1ID0rLklet2JDmM+KIAleVoi0cgtxxaQXIrx9pAJBltFkwTqVfhQHC5FTS6aX1Y32+w1PdRKu7+k++7NRKL8l5HRcisi62IT8bmT4wTs69nMR78SQf0of/A0Pa/kFXdgr0kZ7P5CB0IBSLARyodDsEu4MPVMJ4ogoxTTQy+hmHFY2rookqaBzfCf9RXMKakwjzo0WavVt6cvEZwSV+hEJMl+9JTAoDF2yO+o5fzb3WADjmwE5k3uomCVpI0jIjqfC0JMdR0VnzYCQC7Zoh8mqwjRskW66IczbPcfwXbam2ou66kZMWlAuIFrBf/kZ0Q1LltCUESHd2Cp4HygAMjsxLitiPHfsCoSBN7JMV2RKIq/JcfigEGmFtkXulLJC/LhcYSWwOlmNFAF0/U8qJKjXl3+iItd3T/QsN/VJ0WmsksAOAxxoFK+83xD501A5v1ssfzn7GZBbQAaMFlo4c++4EvI0hBP+rBD7j7acqRkP2adwTZwHSoGrtVfIBXflHHWlQx+Hy2iZN7iq4F3lystWWjGwYN/70cqjrAiVxAfCpGQn7zZ4+gd4WR2cABFUSYgM5BcMX2qxEBhFoAZRxfuKTp1G1hvySCtgAxALQ80Fe490SL2m4g8RYWrue2oXu/MT0dt2Uos55adZE0x/PnfqPaIeON6SJz78ZDNG1fhiVponb/w1nFZOcl5L3uMZHM5mv4RwqF+zBfNpVbgSYf6fi7+jjuo12fpfmLCvTCKGxNdnAhWPgKk3kLca25wUG5SUrl+7720UYu3n3R6q7VbTF0aB/iLMtbQ1QyauLV5IQAACoxBmiRsQV/6bDqqvyS896ACXxQd9qMPLrkwpUo2otCdk8p/y4UUZSduobf4XoW9xUE/wE4CG3OnFi7rG9Aj9+XZ4ZJNlMr1PqSp2frz/+m61JAOakDB6OwB7/xJRcpUEQhEqeF6c3XZuT/BK4FN8vyRyQP0qsevuJGztBzYoV7tXlQIAceznE4yXkOxPuYZu6YJGkR0qMKZBL69r9diwegWIBI++RBfVld8hVbQ/RlOAZcv+SD3l9YMhBPr9h/RaJ/5ubHqzbBipMVLOlIAOaFOFtX37Kvb2DmLUenlrp2enoBaXaUFJehoC+RzR4Jx5w6ttBr1vH5jmsrv5unZaVJ+umcTtdrr0jraUaVnorijIZcJC9DgN0BdSL02mYdtBvoXBa84Te6Cgf8dn+rS8EewjiDamO52e/zrdQKPQwnosn2wmX3wiZxQhhq8HtLllqiIJtRTQcXd8/7WMb/H1UFv7pA2aTVrSQY+XKDIFaKIudi44RHOQVRREgv0h4zMzjaHoSFIIauUWnGipCsEW4q0H7CI1MWTppvQoOMB/UtLWldBdh4pRdZVBmTmudKpi/axA4nlx/o8hMSydReW7x9+uhXK5HsqBErOn2mMhvh8raKXWQqxTnunATYjZN0VaMA5nK9cg3LYiyVXAgNs6yqxAp1BV6/oi/M1TpOTSxy0j9GoDkafIuNcAcq53fqW47i0n2xpDXgcs4Fz0hibrVVNy09xYBLHrPd7L2Fa8Ol1vnvk7SdpIfsmSTA4nsEVBJ6rRb1/st4RzpkAgulr1xc8g4BaHX6BtwZo8PQUW8lHpnV2IZf/KG37wGPwh2UQ4e+fXjh6O1C4wxuTMCpL39hDxgXG3RGlp+5wARSdynQTc3Jes1xEBGepS6R+vkdTglqYymZdmLJmiJEbvIQIXG2P80rMtowtk2xeHO47zOudnE2jZ6aBMxz96wbCAjCDZsZR+OZkAhtvlwW8Bkctjl+Zro9E4dnqYfgWLBpu6QxTIVFHDznhuhSxsmLaFBjDOg8pdHrK33BtJ1ienv3uG3n4aMWWlULUe7toIMgVJzgLl7jyg+MdPLGadJl7n4DeuHNim3UZsLkrGJFU1DRsIX29pIjyyNdAd/kP0Fe5tcrNhV6k18xCfwsr4IGB4nH4sEBphxg8fI7bVc1pixrWUkXH5DfhfPdtjeFCiZkFcbBqapXk/d42HYW5cfs9sInxIa2q70p2J756Ekxgq4BsEZJQVkkuot876tU1Wt3qeVwF1OBikOD02G+EIlU3te6QQsY+tBX32jBYmkU5t7AliYdw6VKKrkQqRkDYwgSMQvY4P/lhf5TsG2wbi942P1kyWDt2vu/nVHQQVZC16Ul6jeKaj7Gum+sAwgdsZU57lVMh9GPuPc2Vi39KfV5Pm0vK1ruFRxPQFXfqJ1qsyfo6+ocarmwb39Crbs9hUfRYL9oMcqCKdSsjOKzLFQQn3BqR6OLpaV8FGHB2Ux2OLB8axIA7aQLb/qD8XVGPsejDTO0tlB9hkaa4rbzCWIZajmfvdXt/lLzGPRLtMTE3WL6GLgezNqT/mx71XWYRWLyj6EIXWQfq96wYLxeJ6UJeu+cmnDm01Td4PzA/ritoZB9MyrcMPkPldFOdSa3wnZGmn+rpSSRSK11ZlHSancKaotizCMCfYfYZbWg1BQ/69I8YIuxzNjsf9iZQN1iOEWIe4vDIxsouDAU/qdLXJL1+v0pFcQabXyjSGaosfus4IO8NZ5q0d/U5UX5uGQ0dzVZ3LUidnGGgEN7nrre+FfNCj2g2Q9QaSrrO3oY/UyyOSTMbAYAGENgodAc027IaQ1cp5u6YhJ8LIc5cWWeHeWt9rYHz9ngxClb8TZqjvXtEw+oNXaWRtQvLST8MT+kBuujxTrKsXIe5XhltL4Ql65bON/m6HXwPXvwUh5UGQ2g6s1Ewx9+uY/XMiNWoPqa50B464ZbqRg19qyYNyJmf5AoxxHGbdA3swPTSdzeiaCfrmWyoZanpnA9HazaZB3vOz0KLqBjzVcE69wXt8Acl3GRPAQ+axlF8idXtVX7v5rjTIbRGbeLIULXl5m7smHZVaqWG2LQiK3HiK9VZ7OIqx/xxIVFGd87MAWAOCj+NY9YQNbbWqd3a/Dsw622IlavdhKvJXqC7kriMBB6R++5NcEuTqQqBJRdZXjV+NwHTpX+udGLBTRRLplamsxHuV5vXXVD5FX7ChEdRdXaDmHcGkl1QLrqYXrhLVOp63xjCo40IgDDspdonmcBP21GufrdibKscABSlQbsR+ihjWi/3h+ZQ25Bfu3B2hpTG6n8IV2UIWE4Iar50pgQNk5gX/BwMku/VJ1nMqXw2HlzNpOyIst8eo+EKPBn2WL+1+4hp4nJnPmQdKddiHAdmuW1o6Qk4saRJ90mmm/3Fl/LPJbIy8AOw44WZdIuZSSi514iVGsgmas8Toiy84L0QMwt4KnBqzHcDyzvVCIEGsFonUBA38TgTSN5n63BnVRyi2BBUVXWU63pxTHrD/KutebYayAhRroMuRx9hWAY3Al6L24E/wAXtaNaRffKfxkGQuXK+V7FLqRq92aFDajgxhSOJMvi+tQ5+0dPGXw+RWkBTALea2vzl+x40PkrmmNOgpm2ybHdgPgONSRMa/rHDzhk91g6Iof4VvfK4To8ojpwax0/Bif/ZhhAGBDykwyQ3NZfAMdrEynnCDynuYKRGeufPbsHkJg1Fr60JIthFGmrMO7UqsTqr1+yI+kHc3I5690+9twY3x8ZTOZe/m2OfxHE/iPuUd4TeR4I8JGNQIQ2Axf4gpzNyAN53K3guLlhy87sTTHuYCBBA+5qyd37smeFjgbi7tp4/Z8Vgbv2CpIUdIA8FAEhgSbzlgrpCHs2+PwteWdfEFbkTGdWGcBPpFhb/1qAa4OulJvex0IDCNUvcZx4I9C5gkT4rxmeTQmYhOvmKuqSvjn5jHkZid4MJqlVpVTTiAYVo6lYJ0YtrS/fGwrly+iCAN61uyFNl2naQ9j+DFgFqDcA0g2yHoDr4fyKJEZp+mgDvNvhoi0gtps+0EaS/AdNwJm1QALksFoKV842Fy1IJISwcxFh/U0J3AP7wKo9OvoMbR/BFDFEW/B2mumFNnhxGp+456T2zAF2nb2JmQWfHEGYuikHcQl/V8p7kuizw34V/+qlFgCwRjkkvRerJGfH3yeOhXBN3c7881MeHfSKKEIVkY8iRYQrLDn6F4z19Z5bXLaESK+dimruEg8Cm1KRWz5kacjHFff4uEAkDWYoRwBlzgy0yOQKjjPmHTWOQM64teoyVguCIrMQ/zglVDy9eyot7TAbf9XSONDx2EfNdm8Pn/BZipefx/+yh34Bb2w97VMsISFGfmoiZkRoAUwjlV4JN8oizBxkZxS2xoPBstaStYiWdc5L8LD4I0l22s3ohrYpH3WfttZczu+8a+7UB00dPEzkfz6RTfe/R+zt7WPi6MUHrboYaLD5An5d2YI5P//+X///tf//HN/gaKIkfASTnSIwkMUn4gRWY2l85eCxoeqOFByQZiMCcqDNhkA5OBZ6S9KDv/kWfFFRm5b1kOoT4y0RVCUXHuozPl07lefQAAAcFQZ5CeII/lmOGQATkkM9KFwvtyJNyKCx+A1ZPdz1Y1xftKUQUJXGpQtw1jUKn/0LVP0dCV238BP+V93gsO6lMRi7PbtgkEu93uvXKHmNRXy+vImlAez9NAILtXDLD989Yr64MFw7kbxh+BzxVSVUfuk+VQ4KA4KelbaM22PYqOty7WQp3opw7sECU+zL1rYbdGcmgBUm2giGW6joDDvSnX/WyrzdvNZ5bpbV323gk99ND/I8HQRG1mK3j48WS3Jn73CdtEO57UrWnH9BFyhAz6lWU+JrKrkTxxZKjDvp3b6c1aDFrIwQJHJnWf8Sd1jfZPyXors0EJV/64bf3glN8c8DjotNaRe42FRYjEMlnAm+wolDXl7KAECSnkCMfoS82hW/OghC9ggUWSoFQtdEPn6obDz0b6rho7prTcJ0m8AFdm1VnClvjzRHMmw1MLIRe2uwUsa05oNHFK6+UdH1CvRQnKSvCF+pttt1xI1W/dCgLgW0/LlZmf77SYV7kfLTtOde9TUeY/1gj1qK5rJ+O7+WBA+x4r+onukAfmDll+Z3KIQ/XUfkFsGL717gMfbr/FlhN8UR1s9ttQ6ipBy9dMiaWMZo16d/0o9toZHZxU5dq5YxMj/IJVq/0ruNj/yIzvCYhm3TXKiuXbYqBVKvooEd3gbl+xMz0gILZ4SIQ4ICulJ73/Ro/HURdBXgEx9W/kyjzScKSpxscCcI2ldMMcelFe+kGPUkboErls6MnxfsKJXs67beIK+2kg2NGZd7arDmo8NH0117Thrfvz1AJ0iEJZ2f42LTT5sXVdpphNLJb0hT18gFVKNQtHiKA6Vg0jvoxJ7M/A0SSgxkUdy6Z6DL84pMnrUUUL+sZ8bpeCPR3S5woF2uc3MynI+7KyPgwvHiFWOo5otvju1tHh4XblAm+CWRdINfkSyMGoXzrY5IyIPEnqAGCN5GmBRqCAuYF7hkv/7Z1LREbKGmUlxrvk7atnl4Q9FRk3Rz5uhWbqauNHn5AjVeJOLkHz8ZBBaeFGl/CtYfB1owsbfsLv8t2WrizjoMnmH9kx+kI5dUyOrfkQd1+C4AOo9ko3xpXbVeFTT5B82onKyxPpA5tzij2DPEreI6YWD6Y6W7+WNyqG4WTebVkWPI1B4iWHnzvIeKqNXGzmqdMDg8CSHy+PGbdF/iUStyLrzU35KO/frkTh/D8cwJOrH25+r/AVoMME2l51/oZ6RCTtGXpQst55puM8n1Iy033wOq060Ko+8Xmd2o+7zg6xkbi83xLX2rZy2OQHxnZCThtl51eUhXnFtoYtb3hqlrtoSHeH2G/c60Azit4w+ordLZDOz9vxFxBPbsgiydk1YroaZdXtbS3vO9Kve4ZGyt+dpoRVr/WhAI0qA+jMjXIJc7E1mQ0IYP7cNSCaXapFyZe83LrUanxPSJguAWKlm5ltWeFg2VoauUVoKvQH0L/QrtIigFwXsBQ4A4gILlY4S1NQEyWB1h86s5gMW75UhSkJm3pIXxy/aGkb5qNEvZjI6n5sDhgLiAh+z0Pc3SPSjOQM4Z+1YID/DM+qhLyG1evAnvpF9lq+XP25inaDiDT9pf4AwwtJV8dhPLAEuZ1qCZIWk+Jhp/cvYFye4TnjhDEIBSYRFrRLurDNhwINKLRPvWCsbLHX8ls6VFTFSqicKvIM3Qic1MoM4IVKdDx7UttISmGveXXvHas75kZRLslBQF30KSkAukoBXyWGo37eidleimWNdyVgEEq2WFfQYQzw9dJXSGD+mWvmgMOW1yJGSd/45ZUMGEkMRryxNh4PcChPG45sXf3i4+1aruK61doxz/kKhcnePA9rI6VC9ShwL/X5Pj/u8Jts8rosLr+CfkoO5RwLIA4wwwyeozz/3exQ4MkcEeawI0sEMt7rN2P6i7B1RKhhRYl0XRwe60P0da0qfDgZIATt/YcFnBA6ik9S2kIbykEHVQl4j4OC6MzlE6AkdgmY0HxMtuEgx7AKrKa8XASN0siWGcCd9hWXUGq7vcowIcKjRVkBP/VD8cO0F3aAChdxb0mur+u8Sma81mYaWYeWVvbNimGfjO7xFBkV4o7q4GM1PIhvhmwaAlMt3dMfx9r5CF0QXQGsnVHdhrt8irGibKWKkZA441Mc1hKrdr8r6AWrdmhqY5d7vlutkceUJgLpAqOLttRuVbGI+94YgnZyGRQiYE51/0veyti1fxWoMwSL58yPticnHZeufhi3Iqff1EXbkNwem6fw2fbAZ7rR+0Way1SVX3/4PJgnfEm0VPGo5t57tXbyAABDr4yXinLY2IOEwq0RJiQ+xa1AMLOw7hSHVMxMxFFAaTbHgRTEYGMZYfqAHoodeTNl63bV/ST2qw67H8jS6vS9Y6VLIAlJci8rb0d0VoxaCUhAAACYwGeYXRD/6RQ3vyNABbpnk0gcGtk2qeSF6hxcx44hXIJi1fS5AeQjjTupUGKZqImL7mU36ibi/I6iIEVhVgpCPDVIzS3bR6qC3e54IBVJ+ZxcrhlcSYz5okmFfVrkzMqlZBbZUKzutTjijQDviCOwX5zIiMT2aFlxNoeqrYITek7R/1dHOBFluvf0ghUSLLv6LQHLl/STPlGVy8eTTEW4yk5z1fTNjxyjAwdN9eo9PPyilKq5uYgTJVM9Gq/71DXouKL4OzFYDXJpLyzsxH2Ell3Jsmcs2P77h72426t6y5OeCYwNA+vykyNYMycFdi+qI0kzJOokDLxGFHMe4mBEE9nogDq22rRUeEAm7PaG/iXGZK8CBBaelRnadD1GJm6QRXYRnU+4hreSsY/Fq9D45odwGHkfWui5D9AW4CIiNlQH8KTZ3sQbH5xlMYJD4xN6vxggTiOovV7+bWrdzaMGje+C0X+IC1laBVIhHkdqnYw0LUaYB0DJ/YymuQgLmPFtW301BIXns1SRpgmmBzPMl+Bw+crYBBuQ7z7jvr1uR9SKY+td6xu11pno//OPGBGPoE6DvPrBL76CzckpybPJ6UwE6Om24kf//21ttazXtEUveH/imZoQIPqJvqfGmlMETfJM4G+cZX3ZPgqx+2rX7ZxsG7XvWLu/j8vGkjGNiYWW/TArmzIXBi51wwfIA7Cr9ISAKQb1jyBg5Eai3+ReVjauOrinN1///tOv+/cFlJVnRDhHvzsdVi4YAloVSGfjHDcu+RElLFoIGyfyEtF8TMLAQ/zr5eFrHjrIxRAflUUdrFaAAADrwGeY2pD/6WWOrwBYALeuyvFiFDFOlCxLMhlKRbr+U+3Tg/Yn3gRtGmVvaLeN6Mof3A0085z1yprv6vwprAOvyxDsRVangD/NT+waLa4FSNGVjFpFusp7FepXp51HtKocENvK3cMZrIzm/LfpQu2JB1P+LzxUWAlJG/fIWX5q9Ga3NbH1I6l9a4Br8f4ad8IvNkOzwQKnwEWWuQY6WNOdyW5UYvjdJn01wOezcv75+seMMyvQyR4c8nf8wCEImsTbAot68o8oLZWcicmKQDQ2EhejKAkmUCMMRbyah1tu/fu2h4H2YyKdAcCIvmwf1qFzVioQ8V1yAS1laj9AApUbV5gHA4ugPeUTvvoEVr579MgvVkxpbQoC0aHGyk91fuYoL2lvN638jM8Oik0vdp70/PbuNVXb7Njy3CGlCfQQqdWoj3dQ6795midWXc06gsT/WQbxpSAVDy99Dltdcf/ab8U5QVE4cDC1oykfzkQDmLzkt7CMLSsDlHqNFVHhy+Ize6OgqaqRTc63LGypFNPx/ZR1nG+x8ISrZRNLJI8MhUaNZrzbVy94eov7HI2NaHrLlopwFSjy3+LTwHT58WJaTApf2nLC/myry8M90SMNbhXX+Gf769kw+/LVLbcNjrX+as5qDMuNK3WnxKF2E96gSmeYxptnLr4vx1yhw/1mf2GReunrDgE2DjSVW9uTBCzZ0mop7Vmydr5hjgeuUhecZhe2LhNTjqm+w6okUpgSnfV/CmR/Y8l9a8EqoxIwiEQfRxx6Cp0cDcmTI1hAv9iyd+7/sRz9id7OmNLlEtLb2xbjr03s1GrSNqJFxmMZGJR9txUr3XiTPpTa4yy1TYi+05bsGHqJ8O98Tb+nSsmVqwB6sklXu39YWqyTGCTASUdMjmH16WZbpDY2CiMpP5p7U35w67l1DgK///n3gccmc2Tv8hCwgly/pVtMdYjwPliI+xH2OYRwWj0P/WCsVBDFbsGIHgWi0PiwkZp9ekBIoeZrfhGNLp8yL5/xfulswXy3NuyY0B/7XtC4SyB2o5Z3gh5hu3IYxjqFVJn5jmuGfSzrnhTW9CEm81HIF3TpnBfcbbC0l8d56+aoYatX/0JSYlQKnBgDcQ/Sw2ZSPaJoVrsKvCLo1+znLjfSIQxppPVv5RwBCEPVrIdQUGSDAAARqIO5nP5cHoiJyD9ZDHcescv98LxakkWN5PAwgATXGdSXF8uL9OZrdvvRyb9BJIRQG3P7G3vySVwzL6ksrtAasEAAArSQZpoSahBaJlMCCn/8hTAS5Cwp2CkACWsCj9le7OrVovH3OpcrUrjQ7ZQ/Qj9YVIIiWAXQyl+tO7vpZP5Nduy6t/k+CDrTbNf/8Diw8TsqPJ/1m118PMv5mpHF+1r7H8sR1as0v7D0lRJLBYcY9ZCTM40f3bv78PfrYQh9/eRbdL9zp+mVAVVZwB59VXuG3pjUvMUCY/CZrn7VlU4X/VMNA6BmQWA7KBed1bjlbZkaDpfzMGwePSEJ4QV9PqHe0Mtmt7zwKptt4qW1E5ZGUyXC5F3F1vlKPDLQ623i3n+C0mFDftTzlF3H6qFkZKPsb3qkAgKvVEoXpuAz14meR2p5jxvU1h8VRgd+bTyEZQCcV49ZpCX3eYRTWOGhxoFVYLukojNUz3X/WGdUP5LcbCr3uSv5YoARwT3nh/DKVrL80T85yC4TpYp9GKliqOnBgowy9gsLIbY+fRStrfYTL36vyORlJTK+gJPHJtkjXIn9WT5WIR20C7e3C9jz+xRLRd87QP/zYm4vJCVwAkQ9hbTkyRlyN3hWu0/s+72+gqQpOMu8WEzWgeymqrE80ZXNqAdh7m8j+lSA4sjUv3PKzqyy7gcKJo+PH89tZ2TP1Ext6KOnYUn9EiJplV6plKy9R12ZRMvrUqs8LtUGllj531Pi6nFnJ9jcw4H5fE+/SZElWcWecyu5Jc1a++4YI4qZgF+h1zDN667ugg9Qz6XJL2/XOHvhGsGK9cih9f+YN9XqeSIMa+J+3rLmj6o+ADtnqN2b4mP3MmdvZY1KFKyjS3IV3USfvO44OsTXjunTVZz3axT5kRswEu7OB3/ZwDHoMBl6i9P/a9uDp4tfRwPdom+z9IF7uV1GD7eBDhAA+aJurlODNqtyZmdCBXcH7PC7sif/iLOqgm+FhcpGva/Kf+3+0/HqAoYbjpvUZEwwe9Di42LeZehSo8P5R+O6OMff9rCBLw+G0ldvatKfAS8yPWf/w7nMFiOOxr/90lyaiZrgEJ5qDy6R8jIytq3a3hvmWM7ipAohDMySXWdUYe/pBdB8u/gZ5QQE+oS7eG2NJaWO4rsUMYNF1Ey8Xzlw1EoovXNdqjDADumLDg1TTzMAQGBevrHSjoe3P1fGq5V9K1jFoN/CZ02zQL6WbiNuK8GqcVBXm9+VVZ+tXrvd5queNUZdNTKE76lG6EfGRRC2oXTyBYW+JuFy2ksiLqc4WVCcoaTeovhBlgR4O7ULuFyapo9w0GzycE7hRgjxQnPFdVwFhxnT7rHG9ZbDa4QyyjLViAGvLIzRP/ZrOGEoQurNpjXjyI+UcAhEab72MMRsOH7OO99uSChSmh/fSrHY2sohIyLAEjOr+StRrYK450dLSKFclXlfsRf3muHiSa8pnh8AAAJY7NqLIYKCG99cfQWidtveOp7WGN2EHa7xaR40yDcrQt0X1SeKjYpPWT/NAcrp9qL1gxh6C1fvZx8eOdBqJomYo9344uBb+b2lfBsYR3jrZJBlDkaqdlMyq47L/vcGqHO3bs/fq94QJZ/BCFs+Sz4Xw7nAP8FRpozJefCT1I8HVLzXMD3qRdrIjEw+Fi5nwHuwKG0JdJBdMzVvzDrHZRH/U7riH+atoRE1xRO2eGhYeA3QmCxu+YCrZzWwBvb4D1EyMJgp+VjRdtAGumiLcVZiSt+rAaGHYvBpxwdVqZLqdHyAwXlkiCl3o/UB+1cnW4zPnpImBOw8IBsgK3U1YJWe1La/tfhdRTHT0wnXS8xPhqOPAQQdePaIIe7iNh+Q2iftp2pOCTlY4Qde7pof0j7yKdPvmk4dgiKmyDhdvQ/YPVibsWG4U51+ZOcNveSs/WOBBzULsnJnErK+Pa5P6iTDUrVlCdXnnEnpgrKMvYg4ISbv/avecwwqNCVV3sOz11zXECbFaSE2K93TM0xpmn9XBX1gc/RdNrj3vM6gxdkZiQOfN0r9z5LR4Z9u09QjxdRAIHn1QKqeArDK0gCeRpVfN1IN8Nie3zv20V6fKgDoVp1mPY6h8MpU9iQJhitt1mPcHuU7YnNItiiFPuMmX63pp9f1qJ4nLFkWGDbXPvUOzqDFDNmu43vtriJPBOXaQdtNmzlV6pTDjcKzkfUg3DPYNGL8NniPq5j7N0hSgqftt27hhH0TFHf9rLdtPf778Y+B+axfbYrIBShA1oXUbsL+WZROm12AwE31O9CK3JeVvrsCzgp0cSes4a7v+yWrIctQvxwg4k/46pn9N4QJrMmnzVp46lVyIrJL4HQlfKJUcm6BSxSkv5+ccLqg7B7n10t8/hXLhcGp3ott4MgnILSSsXyKHwdRP93/Ky8V9gsyeb2M8xg5EAZ20FvgFRE26fVLbUW7p0OtiDblSpZ72r91c6DXLWQb9UHGitewmZuRWqZy5dXOXiJW5M347D8AUJyyRxWXclubRlzfGGPYQXWALgA3WTPF1bYQsUGgkXZdnQvXdKMfBRg/Bzqn2+GSd/2ogzLklAwHn8grfvW+4Qno8duZSRHmGD1l9kSJnxUK2L23iRgbeBTHmBGZeq6u3jd7ziGChu21OEEq4NC2F462zF3W/ElTSgl3HHFiK8qUXxD9kwjQKv4mxgm5HDZeSEyJw2V9OtHNnBYoMO1rIpShP4CVKPNffkDKn+ZtJdLde47lv+NGT2hd679m0KrKSrgGEb3XtkpiD1X6gFECtVGK3+HUcu+1tn36lYu3prhy2KEAFq5XkbwYsWzAJtHiHY5Iq2otDS5oTbPtJVB2WFb8mOPkGYEkFw5YZRDk/5dhjqGsT/DKgQhLeBE+af/QEb8kdNsEeUKK5zc8aUONN0omaHWsaRd33pvF1mSA3WDMdxrc62MCswwT7QEQX+HTvRlk9a/u7AEBcCNXpQHo/god7UV2cW/yky3mnIjVm86nbB4zIv0IDjRh1akDhkITpZpXr6yrezHIrAQ30YOkyimnUdcwJUrqIAhfe55DcOzqvLFWZ/Ehg/TAVmRTNR/xQTTNoKbGMFz/tm7tkQ+ZrNf4LAlT0N+S8xX57WN5s1UCsC96MZOYAfwK6+GqrNyY3OZujD/WLCtya5YrhsWWYnaSgJdtezmoq/I/g7dYBEYVfIV/aoTXKUX4SOB8135bKQ64VTqBQEhlfm9OsCK3WRVM31K8Qtw4j/xxsIii0m0PFGY+Drcg/Yw6pyz8ILB9oycYIsUS5btftW/M529TorpQXu+8UbwmBrARQX2ahu7GJtex7oPoosqOqIk4fO6x6fUrYU98e3neWsE99jYEqdcCiu54tS98vYQPzfsCb2b6uuMQcmEW6KN3otjLUFzYUq21AKMCRYUnDSiRQ7EI//oj3gIWMigVA55o77MLWGEvuBXZv0HrYtIm9NSUrwD14cyJHZRF3km0N5BIvbhpeoGDE/igFXYSrmKQn3cBrFnEd1l12NJT22LwrbQKlGHIOhjTQ+iTVRUJoUjkyYRMJoksuDz1gdHHTfxZWclqDZSD0d7+33ax5UvfvF1iJpxEA2eqPQ99L/unf+U+7Ix02DIk6IqEa0+eqB60qWnor0RVydr8hoFpC9Jc2DvaoVAtm9paqdc9cKtQQd1qzfKyhLZ9F5nekpD9hqNEvyETN5yD//pkbAWylRo/qibHkNNtllWJxAAAAMAAdY4e2FCr0LD3Xx8gTv2/HpspnLJ+DHpuhU8d0HTj13oZBXIdGcoQ8TP+QAAApZBnoZFESwQ/4HenVJwRzruAA7NLf/Nyv0t7qV90doCmB3C9msSlbd+oKMs09l5KzUoyQBWcK3OZ/AifBFogsTsp6fHLMxR/rPFiOUU3vZaPwpHB8Pa0SgH507ShEdiUKcRecJ0jcz4t/qEvudSHAmSizrJhjffPRxE1aBoxrk9eX/GN+8RqLH0eurMv9LgTf2Bslt2sIYsNT/gRZig9XDfDb3OlzUWdHm8SckT8kPK8zGMIpQ7DZQ/vi6oIDYXsH/8twIzwehe+YWWXz3STPQGmggJOkfKx6Copi2o0yHLuFyl0avCmd1C758CT8LDy16NWrjOamVEpdnY3T/cLkIL0rrlDwxd1javRwA7W3UWZHb53PFSXZoxyTc+MI77DBCcUwAX08JL1VB3NP53ybY6vJPuuunjQi30bJ0oGh9NC4op82TQUHHL8C58zJAhUfVzHsGBS7foQR0YPMQcrCd/QNbcbVxEojcKRkE+d2MJk4ZPLpDyvhcDe6RiWkft+RzYXAhxF3LnLQjrdMvVQSkcuDmpmTdkwse46TJzzghbL1A2G364Z0RVUWI5az7afK2AsKpik3WWp/h2JTxUmiWL/VjhQ4FyuUtomEXmH/W73UZL4377rTBGQv8ufD9PcnPKKJ9uhxbS538ycWbGeha/Jqb3QpVBOUGwDGOsNZ5/cV76hPcscmwHsMKE9z2QTFpNiZjKz1Yln8wHN2P3VrhMEgvoCr6nDEvGgcZbIHvj4+KZ+VZC4QopcJuWAA58/WMW8ZcOeH4DiUJJLu3DPqlI1MiPG9Phr+hlH11fcTt5T2LGw73m0hXTPe1CjnXPq+VhrS+onbqTXbKUtSGMITrgzPuN+T1gxEUDWjLo81Lhj0BKKUjTgQAAAl0BnqV0Q/+j3VI7q+CACIPSoINtC5hSPdZ4+zx4yPDbs8JnuRAj2b3wxA0ctns3FzWKmOMi9xKsEa7dY8I65z7wjCojbohMJqXITcDjeslMuZbdpvnRNDQnpXTQ7jj7G0+1eXapz2njQAGsq1DehV9kAxF3QS5GO3SG+DH/YI2vRUAfMV52ZaoXnsHJvlf9JNQEMuFT3aQeIL/4PRHOPjiJqC7qc3s+P0r9wVUOFxG1Bkk7EQf2axTgUo3QkJAXtH0/sGM3r0Xunh9n2Nden51p3bx8vUW4feR99YLCCvP3yH8+ibikbnL0ASRimM/ij3FAaBZZ/R/+qV+3z3RDpx2GZE5YhHOikXW9VAUY78jnfNLaIvg3TrzaoEF1HNvyCWjTMjY60lTirQZSsWLrXVd5OEVTyAwp0OLpKiW1MgxRA4zDXrLP0L+67r8IBoj+quMQJEpKidWwk48THppzNnu2R3bl8v6WiGDXjmJrmlldTY0XdYOmxbtZM68K4fyktcdb1Cppz2lA0cy3HxRkQDP5PL48GRmz0Xx8yzSMTvDpnvKi2DeE2SflVmOBrLYeJ24Ng0Fmn+QoMFrxlssv5uXdQfwHFg3rHOIOpgIRXOh87U0Ny0vHN5Gcyr48SBentaU+8MmMtyReL9fozwj1nf9Zjf2Dlmk3uc3N8lMJfybVj67uOKscJBF8dZ1Vn2iJZnIiXSPgltwTowUGE8pMF+GAc9HHZpRERPR/XdoZPmczNsEDmaPoE03w4lOp79JBA7hHCd0Ys5tjIVYD1PtMAxQ4FFOQIileD8AAYRoGvQAAAmwBnqdqQ/+Eyn4c6Zqd/BJetABtPF8qZ4IMWCUqzjQ7KYvEToRb2HcITIlpQwT7krMxIKggYoC6/665dOJfjsv7A4NuVof2W7V29+ncPKEULPD9KwEexI6zr6qUz2TVPXw4tdNvUR3VMRiuMuOagmdgk1/nzLsEQeq7gKu417MAHkvP1LjOCBjp1zFd6hEeMsWIk1WWPEEKoVT6s/2WI5SKKf6e3BEXrR1VVH98H2JKfOx9/eVmmvHag5llXVAGW41gEVAviPB5SInyL9wXeanLdMrpKExlRjDLo1eZwyufeAXszmbaE+EKT4yVzQpNZ3Qh1NIrkaxjkHvH59ULvyKzvdsZoiTIQyon7DmJbXXaDIdGignl7yjuN7WMHwQcoUj6eNi0skGfybzlCSGfNr+8E68ZAiRgFwEmyM/fIMTij9fY3p0cAF4wE5CwuH4XwHufbzpIxVsMS/aGwSFCM+DKtIJW4N1QSnyF8/BbfM6vJAT9iTpHRxWqRLoKLUoemYqa6jzemytv2UZCRWNL30upw4UefBqbcOavYDyf9C3piSQM2opGiZRwwLrKg4ppxjIREB6kUwsvKsqycj4s1AoNnzbREeMyi5y5jPfOYV/iK+8M8q6Z3Z8z/cIGKgTmlxyKAYYSWg0X/uh5PK1QiX6pWy5Gzl9Za2jQyELT2fptAK4vyWs/bwrCwGqBl7Gp+ZJKoOmh5/YWIM5UkK4neDigCkP8bxjeD9e9XRSV9ci1pc/TWWwFcUdntYfR2o5CVKbc2YvzCPY4U+tkao7deCDHVZlp5AvySZ9lp3oqlwqQAAGcs3PhGpeVSdeEgAAACt1BmqxJqEFsmUwIZ/+GPAJOCzsBrinPq/v+HV7hLdW0Qi3PqVgb9qjIkAgyAUKuzRFo7WbILPl4oFYAaglPJtNyoudKOTjT0jm+HsmIjzSChVc6mKDhWnmAfpR8mljyTEQi9E/didKMk/KG2sZqGM1L0yFcVUgoYF+ay2eqUIc+/3D6o4mOkskNG8C6kfaFNvbGz2eGfybXILIQ2+ogS5e0pfV3kc56UEWmzKOIqgyu8ZbzbHwfNSmxaEuN0nlDrqYA14WHAGAau4iAZigRVvFd0IXdHl2BRsUiFvaQsOx7HGPv57PfhF9lm/hAzEDEhoJtXX/28pP11XQTuSUoZHFE9RXBk/eGyOYFXxJPflh/YzCVj4R5TSYbdXz9olPqep00ikb8KoXWKkoqDdfyrRa35FRB3HI/pBuiP+UX1hjxeHBIZvrs3Oa3tEz8p7gsLVLF82Zf7wdNrEmcmTrtU4jYP+MbcjZjY2v1YbJlk84jVUtkopL1Rs20J6GDA6pA6eqmQaeh3tO8kd4pZ0/H3E2QSAJq2yEBwslcRVfVdN5/5bVUZWPfOLtZkCCPStxJuXQOSr8Lf11G/w35esvY8Pni10NP8lOqELMxqv3LfO3+OGUUYd55gQnaS39Pei4alhVyMtuBXlPHZANFaeOWCVnW3gJKRIL442bPIOuWJYMgaL3WPNnvrPSM+OGxTsdTkhFKYFhhFugpY+VmYizpsr9doIDb/zeQMuTikwCbDeys2r9HwdUc3VZvQVr/LrOc93pNx3UOQJki1tFa2qdAwmZsLFXENtM8iAgarmy9LmwPsfYqvgVX/6R0KiSgt3v1WZRO3xzcFSZdmYd6sACYR/5l5AT12uCeonS0Ks1RYepek2RacwLb0rDmBnZdiTLI78Jz4mQ31/vwcFlJNU1aveibNeiFCesK4NFA5uuuQOsTmG1fDGJFEjPjp0vckqn9LBYpbS38D6EoRAe6c2fKAyvQ7ltDlKV71KnTDpAy2kGIIWoxGUjIKdKiuUvWBsrci87/hkkY0/tGboxUDccHsOqYSdYUbwx7xUoPzYMvPJ4CZi/91IkR37/z8Ju9dX5vriyqPXuPuM+UBQ+v5QqMW3Lqvm+4E9Ar5bJkVNk1IZqzLFjPZ01vw5XN46qMGToj/XgEXOh7INogmy5LYZWtZAf+hzyIo0d4IUq8laCz4vGRqKgmeiL2u4pbrjAkxxzI6VvQe10MHBMnSH8yBjw7cAtEttadd/jEMOLA/XAglK0J/EkU6+OTTiT9usOcAUsQyzI/0AaN3NmG9/6TbgwBV4O0RYKsmyHLu85b8FhDk2IZRHJ2bEvKc6vgh/ZfWPxQCWT5XQtokKiuFlZDmkjXxcph0ei32BuTQNbyQ7Zp6bko+aeP1qxhPEnScUaIlExlP8XBE9ECV6NYFmQ1o0I2hDpF/u69qCTMmB1usPnLrD72xzVEA7Bkmtw9kUDmtKFM6CEAUiUULMcdqmhSeqbF/l/6qdj9jk9JfolK9wdBosjvVqY5i8F5zYqXnl1Ri0mMsVpoF1nu9f19LuT2ix/lfdvdnkJnEpFuS183cgndX2zLt2vMXz+PgORzNn1S4bIpk7TWipOBuTfpsVtbbsEZTUx7ijc6Jnr2WLuexfF/ULZ9bSrO2Th+l438A0Ydj8L6XhT0p9xAPZWcZsIBARkwOvlzBiNUWKx6z6PcSjMFpPzrTf6UdDC/0r2I+jC0vgGN6T5J+y+3nFVZNRnLjLBYWG704fp+JLy5FSRBu+2ZWDe+UAmeuJJ8cww5wMOeXiSjZBdVvr52c31ci9U/R4zT7pXSa6dMdFVh9FWkC4UWXCl0avijfmEEeMt/QFoEqT6VGbkasRRuNhRAVbfWG4eVsw/jtxE8tUxANSSdhNNbAJrw/D4s86zSQnX30Nxffdnw3+l3byGWyzpmvFPSgLwgpnZGRRzdKonhF5M/kpd+RSTsho39G5Pe24EvhO9zIeYh2S1QJpfLrkqrGs5O9NUde7HayjP3TEAwklUk7ZAuZgBTU98uHetIAMugyTnwrq55nUJVhOA8qCImLHL7iIo0HtM8kuIwOJyOg7FhefbtHIRxnWvxSkdwQ2xkdv4809Wz+Mwp4TlkwQHUNWebZLgi4rgDMA/39UAusgvN8uQah6q1Ci4Xyl+xQNzdpFhu8hXmWVDOdmBspVtGb52Kf52iEGFbLeWc1l/wfTx/wlflUE7EJBQ7Tj4Ll1OYqnRi40LSC1Eod49n2zFJQVSed8vX6ajPEXLTzzb1Qm2i9S0x2e8h26tlf2JLAIPyT67matBTrLJSQE3vEzfthbPDpZavvHyr0cLYfg+1AC0q3smDwykwisRfvx9R5LZ+LyiyXMbw8mEPsHYVCKjQHbqcBY9Sgv/3MaDWMMBHBiQkRdlhQCUJ5LCA8iU8FIoutsQOrfiYg+oBivSlXx1wylQ83NgaT5UKsUNx9uePrQfnM15xED7QiCHGJ91UMgW0IwBkIlCAF/GL6Jw9+ppkRxKProIJJBPUqsc42fSXpWbAmBF6BAWXJftR2myQtqE6KD+QFfbU0Yc2/2npnflcazGE/4ozcRSoc9hbCBbV+fcfxfUe3KMnSsg2b3zDvdt581dEO9wZfp8ANL0W9pbCWncvSdgfMBdoWPnFt/yHm6ST9AC2s9kExy0ypF/TBd/EDiF/3tlu8X4Y6ady0sSFVmODn4+kp6rYtqakxbYh+yS6CXAe0VBbIoX12A55feOx97L3bWlyZsYc1Ei44VcpIvOvpPQpi8P62uz7JAunpFPysAb320BiWUzTBU8B9quIHDb/EHJioj1pzugp5uujYWtHnpk4xppy6TWLJcjHthGBlpuI0EWBOQLUyYNNuI4e8qJosH25YasJm33k7aqBxDLQc+tPMpGbs4Lrq6O0Wl7g8OTtFGtD3C+6pQlcUDO9WS8GkJruwf9m+oCvGS9CmaEQZdI+paAiD50VFvvg3tYCr+gYrPHh3q/QNwNr+/l8gz8opx4X6EI65mwIVsEXpQsSauTTkfcP87jtlpULKwWjPUYs16XtWJDDn5nC1AOrfbAD0Q49XzcLyncZ2ACZiAqrVhkJzSpbPyaONeDgp5peRKraj8dDrsId4bgJZfmFl8Av4B/gjc1B41e/WJIP2s3xB/Z46WGvtiGA9LF1Q8BB3LK9VlpRHjCIAP1Dx+KgJBLSfEBYY4il17pqgKyoUK7vnIY2SvynUWIGuT7R7lLfhCNniozyK28YSMmMRJ9eUMbXzcBijo1uwa6Sx2TRrsl+hZd3xxb5ZlqxvHJx49IJKlDHzEypaD7nMe3y/IcKgYyQw8ZunZIaN//Hkg1q/k/C0EIJMK+SgbhyhVYcynSJA6MD+xZmNdsxFkYVbCzAhO/y6AbKkaWedyH65r1VbrRlD7j9/6rJgnrymZQrYQc1CE8dS5N4yEXkrvMq+DBtxxbq1ovcaBC/wJq2odasyqglTa1BQmP2zyTb7WRl9imxUkhEc6b+bKFlfDWJB/jK4eqZYNdXZIXaEkh5W0pq3CJpwhYsxBBSdwo73sXgtFEtGv8/WLajZ4zAcGq3RmyP50m6qhMyMQoAfJ5o1Qc9miY8dIHDnlJAYaFXZbUDgVelwtkIALvkbXGZ0t1yKLubbZCGXz5d09rQ+hmTv17ra2tQnQO2lV4dl2id9J+nABkfflMTeIdO1HPIk+HLA0WvCGShR6wAAAIiQZ7KRRUsb/WtweE2KsTJrugCpAZujHAb0zgbI/uO7g6HywQqS/QH7EjKe+G9BrNif9f1/nKes7F7NgM82a3sJ8we8NwwDBw7RTTZ7XUMFOBDiYJHLL2dXXQLbyuoNvi/OGFFl0dOYgjIBTwiUXrsjk2z5zTU/XIklN3a/jbVo+j4LE/7yHrFHA10kuC617Wk7vEaP0Hr4Bf4OM+yH1rrV0Ts6SR2x/rMFpPhpIXQteWHhkVNaaPQqGl3ZMUTerrKiWVhYMCrOVT3PIzIu2qUzRmgzYd64qPGOzvk8qFyCAhSxE1wcianFUcYcQqV7DiL/c8t+UdvgJlAAQjV77vglK+qVs+QpaDj2TgZ1kaKcYy2budmIMIGkwiDeODCyqRP8IQGGX0w8tsAAW6ub3Uynd64+9lgXbDIk7O5ZJVUTYGETwTQTiYrvRjWBkae9uTFRbVn8nxjv5SN3IkOlfGd0QfcMw008MTcjEHfgjC0DQsl25XmwhSTuVyghDc0vprItLGfxAUd/zzswqiALIy5RLFO+HkHfxtOpFyBC3Gf7N3scC81pOYv9ySJ6Ys6U0UAd6bYryrFuu92BzzSVYdV262XfQhJKIg3NG4zSHW9HG980QrXqKCoYriSmLNWNaJmpQumtKBpe9FHoxm57OKWTNwcMZBIsov/MzxSj/Huqb9bekoIp20P5nV8o7K7gwyt/f1jxAGvmyTRwUhmSfC718SVAAACVAGe6XRP//Iv7N8/8OjKcfApiRvkfM1QaRybkZqMA02ITXyRYaAok19QyGD2Lp64Br53Dcr4D9hKzWkCqxOiYvua8HmmcbndNVZ81BKwn+5L6KGYIXgXbZFJxhuOBXHYn87TwDiYNX8qqMHaNceeOnVqbjvp+fNyAcIcm9N6GklaV5OktGbgI70d4oBsQdWhfzigwtIhWn/O8PmUPdIE51AAztRL8lTzehrLX1l+HILBlv+OLBwgVQRgW15qX0PtHt/k15Qa5x7UgjsksFGDwtw+F8Aa8z/P/azdcuhKvzNYkCXvLN4Tk97vMy7JW9Qx9mbTRzJfcCv2zE2mE+QW/FODWyi4avBjmv0eTQYHlDAMVjTkFaZ+jWqF4cPuYRQa/LvO2tLGMQsXs19uDVz1ZJVyh4uGRN13dRuDzvgMVlnznzEpUSTFC5IQrF6rHRwLXl5u7tFpCKwgJSyFuTDPzbymmbRdNle7ocmDlCBr9Mpx6J8YR+PCdWfh/CofkY4tYRGItDXfmqRhGeB6Gi08QxPrgUDaKxgUFrzq+NN3m6fVgLC2fdmLlfdE2B8e5V43YFAtV5+v8xF+iffgQZCli7qqRp4B5HXx4EaH9aVGd0OcAzCrNSUVG8veeDXqdyWvgQK/wbwLo5zGRPLsbpZpATkry5VLGdXLA8iVXsE0D20GOkLEx/O3clYg8B8s3VJBPhg7fcEzjmsZ4wOBZAQxxTjzG2AOZCzAPI87byLeQk64HtF+uYsABkgrYovFygAAAwABAfQOdqwyyYAFApyxI5ZSq1kLAAACagGe62pP/8ZOSYFOpDhtzy5sjD6h6J/OSIeGtgWiAT+MAOzYmzX5ISblzZXZZOve/ZXHJkmCqHa3Jg6cMbZhiACCSs6YcH7G69odNdFfX4rQwQK7crcLq8U4tfDbkhjc0rqNOBwdo/GolIjXLKnF6PazKCBhwk27z1B3nrP0AzVxPfHIAuDsoucVpP8GoCMvbzTTBjYFHwLrXfq9SRiaoqvLl1fppB3RrYuK6HNHK7kmHO/h8LYCQHFAaet6c3Yf81pDv0UThwhMyqaWK2MYR93TOBGRLf2sE1CO603L8oNdO/tatuUzzmeRxqNxL1IgxlNSwpQqQyBPTjd917BlIHT/PHysMyPup5Q742W5d42EGncmiPYT/f705KtRzEYgY2hJhRnff8KHmjGPHhGy+oMIg8MVTmmMq/gJvgVE4XgpjrXgKWZe6aqzY7/syDNPKBcswrND6HbwWMb91hkDyiJ+mR2ckMWTwD6xbtOP/DFJc8YWmbRdNlAv3zatvB67p3Av2o3bdF240jyy+z3pSKCTNhp286lHxYL96qKmI9Yuuiu5ewKW6MVtOY6Yy7zgzkjSzKakKx40dS/pKNB/H5E0IIWY7dEHppMj+O0mD2fnG6gRNOnKT+gr2fuvH/ChmPk+Uk+HSjkbExqVVT+ez25rcauILg5EuZl64fHxLMVdQLgP9vlUCV0DiWFFZHobqbbjJAHUkl4tL8H+po/3pmXBZfNmDHK83S4V7U3+TS+qrGEWXEygArbaWYDSCSgpdV61QRB0ufCQXUxiachU/P2UqAi1MUY9o3qABuKGiLoEa+OeG9tgZ21WwAAAAvxBmu9JqEFsmUwIX//dV74H58PPQCUfnFAtBvX1YY+i+P8WUXYbCpF9Yb59RHkuB41V4qYCMMmUUpss7dNxzuhUx0lrxMoyvoqrVeraMTIMiLk5/eV/SHyza4L7aquamMfkPGJMri/N5nSolxZynth8U4kHv/7pqh7xZx1/Rvpr7KQGlersunZCeIhKsnFBx/pIMcEe7VTBguoFpfOBDORLmKPZEhuKQ8eYUFonHxBr3jfSqsW/1sU9BPLhHnPsZLmivon557E+EPvIl1C0v0vWJ7E03EOvZhfyUz/6A+WJ3ZF02hBabtL4M4sqdJRr7fv8d0ijsilK89YBRlvSu9OFa+cFLBswUQMc+z+Kr/grQAczZqv5u6gPL3VNNMVL5aGa9WHQQnNCHEaGUS8X95e7Ypb3XcAxkxC6AnFAeIe2s9NemyYH7qYW9jRPsDkSDUiCIYaQbCKOtiXZ5jxreq6Oz1LTa0LbUAc4Rl6/3/U48i4wOw86kq75Z/nEwPSi1tWtKtrwQQblpGVY0jNzLktfn79skxXVxWJfEc8gqjQA3AIR8YEYgRbsbnYntOSLeq9UU1MRMb2s8yS6/0SJtu410H6osbcX08VPx4D4hAY9H0OgK0Tt3h5xcqtWT/3u5mIAe5Nx02lb1BtV16rVGkgPxCtzWjSprfRZcY4ZFD7psN9TpBKqHmQ/gB9VtVNS43nN//gkPNJ9IUHqY7xq1FaliKTzWixl3lmZsSzGSXxlqy+NorUkD/ekBjUTM9n8xv2rffz51y0lg0p1GCR5fKgu8qR6x7ri41++iVXIH62O7cvuo+eZilWJrw7OPS36zUm1L6TI6j3K+ZJVUMCXB6lcc3/WPlCHLEKQI/y6Qmzd1iJ2DYgvl3YEjwySM2P83rqFcfG0vHWDI1p4TU0VM86jDwDRYHeAfUjSUNJY5sR5zItDhJwLEZ3MztEpRlhnZW9H6hmYpQmp1UGdJlMHCoVjv44AAAVM+l6ZyRhjDynSCANh86f4VKp2VTxxwQAAAgBBnw1FFSxPt/fjQsaYdmoImegFBX/oMMFX6dHHgzpM9YVQW2g+HbyqBu+8P4v99VnGTaU8LwaPEYBkPtgCMDVVTtxpshPgsbLTKIkvjlyWqP13vAAUhpTFj1mzJY8UcwAzzIV+CMX4YhRFFex18+6DXCoj6mlqoE2Fhau0FMqZOov1/R0Dp9TrW1s/o8nUUU4TtbKahtpyYrYzMdTtEIGlJklacZpkG9ml2Lw9ONVNEnkcJNKBN2o8A2gFW13+1zul6AO7hO+UauU60i7bIp1NBNQP644QfL1cBjl4dJyiehbHTCinhmHeDOyDsmgYYb2DcSwJVpzNnI9j+0vSR9OMXsFp0FVTEEJ3eNRMRCnd/+PZwXnqYRUpj5XkYkFdAH/6lCTjZe4IGHZbdL5t+JmCKG/OHuOhnnKXCAVkl1FSn+Y5sZPLn1/cD8bpxVPdb+7kD2Ll4wDXoVs7bo7fPp4O9S2476TMFm5AeLAiGDE44Pgrwl1seVhP89ag4JgWoi/Oqc0tNIDnth3cy2ifYyDpObuHJ1FU3tz8nCw3hw/7DYwX9q9OMS/3nfDvyvWK21r+jK16QXAZ8S/LlSDeYdTd8gak6S4effqMgSg1EeQxRksOAJTKwwDruGf9AAADAAADATZSiKGt+MS2JFUNRxW5PSseSnZ7/HD5tYCkiZYBiwAAAcoBny5qT/+66D5bOelz2Ck6AEN/SHzjfH4O0pKzHr0caLOECX5wyWCk6fe6RRSebMiaFmDZx6YIGND7ldmAnfpywXjQLOgA1Yricw63jBC5o6mogvL/U4/o+3KgqhWOaZrFWzFZtW00q3IeQChvEhAmpCcff3RFSrP3Hns6CV/s+7GklRxrmEULFoPgiraz4MRKprh7FgB6y0hGFQp/Dn9pKD85LstX6ad11E+zZToBqvfdBTh3NUjXBF3YhRGp63K9lpQ1awUct9wcb7TCA2248SURlv/+Zbb/53f8t6gKiFIu9wcGzt5+dNJhi9bb/N6ClyY7eENMRilr2tixdwxdxSyJYh+CZaq/W57epr4wfo8jaO7uENiaDrrJVSOh+Gp3wluUhQfXVKSu2DimnwAKy3IL3cy2sOnTAlDoySeMDvcYGrACUm9m0ZsNizVwxSUzkWon16PpMtam0FATjCajdxiPkMhZYfr7SKnrfzhDHwZqCUiGpsRaS2JR0YvdHY/DBft81k9DzfZ4RnXxpOZCCDzX1b0vrb2oz8goO8HAA6qJOleAAAADAAADAGQ0IJiL9m9CxQz/Gs9xIQR6MhiSl/Rbw9AgpwgC2wAADfdBmzNJqEFsmUwI/2SKHKFwFeP0F+Q5eziz+Ttb496BQZ7XAlfuYG4Yz6wtkg+FF2xzuslV33rv6nd7dhGKdXPpr92JuIDsfPJjQPYHDbGpt3jFmhzSCNVCe5uMcbSJ3i57CBPvCE1Dvhms3XVDn/p/rvpedN3aWIQ1dHtxgwoCy7ys8V5WoCn72J+hGexrLkXyy/UPaCkThqErDvqlK0LGQlXg26Pv2Fte5j5vNJKiVP4W4ZUXpHiAdEvLptbNExnfGl9ZANdx3crN8uEuCmtV+7vmywIbMeNsWttjvydsgMosICbxgNkQAVXGeR6GrHrI1BhFwCk+V3/ikF6Av+8G80ZqOy4UBl7sTQ6SHBvhWT0W2kVFZeNu9z6JWWCiOaQwWoslahNdeg9cqNSJPa+O4lun7f5RuzkOw8sj0oVwx6OxP8qYbW1gYg0itnjsr77msjUgPgyGSbS8JC8Z2hy8ttNweBWeecnCDwKDdw0nmpFEk1TyDwNDf4MVpTus8xssblzkqol83+U9zDP54ixfVRubNKgF8hkjmtc82Iar6gaGLj33n9917XNKTN6hGOAES1bO33kDtyTCDOVyJ1K4lJGWFfmwUMOSc3H9kWzS3qXOWqKdU3eBOb1nY/OmYuBGszaRln7sQISXu9xqNeSiuD9xj6Ez4gYZXnoCOMRr7Cz8Om0gRRXSmEV6OYumuoVLsd718iTlezsIraz/evIzwLqIH8lgCKggxdyneWF+EPAbswuJaIKSD9qAgHYXZwxbisYoeZ1h5cE6ERgyclTHDjlOc4RXTHxt6XBN9m+VDbPfC3JVM4S3yYqh8S9215i2yeZqaciwNBEmSzKr5w2WOhWFkAYwppot4z91DpStV+8NZ+xv2PLUrlVTNHAUv6Iv+UGMwUTzPTSXa/IUNGFo19hsD8EiyaZgXIDAB2KX4vU105r8fYuB4ICTiBS5tb4s8oDd/0M1KHdz5D/NqGlQjt1E40JP72bpcAhL8OMjOwG6GvC0wZxDZvhSc2i8geeyOHK0OxB8deTTfRm1kd5m7p8ViU2Zb9zc28Zr9RIeLWuuGZPEqI9pcrikB4YI4BniYzlMgqVU8asvY1AcLZFQ4dzuttQv1BgvGOdIZqROiX/90L7S78hkDy6toVsyxDJWxciQ5ovq9Plm/G5lwzkgXD+X663gZ/WqyguRF72eNCsy8XW6JRaaSH5Ze4FRHE2ugq5xi0VTgVFE/mvfjvEnhM37wW08Ygojtp7gmiZ+YOc/Dk8cZrG7i7xWA5ysOZb+uT2OQWZ5Um2FgnDqcNwQq1O7CA8DnurU8aYZxS+5za0/tuT59XAdKqZ11jnqAZY+jSYuBqiDzJQ/es5Of1U1OGrc8KZSuklZrRw/sqCin60h1NrZcQwcDBZ9fseGlyYZHs1yyWXAjpReaJuRZNLyIw6oPCIIP+qQRRP3GnDnUGS4NtjgLtudtTFQAUyInvXkNR1myM2EbgVlUQjcbZrkillgwUwXcC570NZkuKGCjhebP1b71CZYDL34FvQJyEzqoUqbKsfG9Q0XK0ByIWXQMOV4viUVg89gNQ/ZnWPy1FZwo3UhZVAk6bLJPeV5MJPNdmIGb9nt3h8SmlJ3xPDXGiSisQ2GfPUlzJWyknLbdFx8eiyfH1kzYawjrO5zl24P4RJy50n9OYTNK8aGQs32PPw/Dif0MRwb1TkCqjFWmC+hCLg2wPkMrDactW1N47kGPUqOXkoEi1xIMao2SjjpD2ovILXUox75A2Dea/FAfJYaGhSoNt6xH0Bxir8U8jvOEzG0UOTj9+L0l2cPv4tXcH16eppTQND4XALnQaE+vwVoOKaImE8iPeVge0ZwhPCy94YjfrwATJJNL78wvDC/XgiF7NaomX+YSdblmD6SHqOBDZdH9TO9haD5dFZ8MXXTGqgsMc1nFNAceov16dTLWt0T6SZnopXA2YH8zGx+bFaxXHXqk/TQC00nYwVbAgjZy1fAtHnhDMd6G78MNZwh1nNUNXYQm8zjykbXjtxmFxr3Bjy0vc0ep5w2FmlV02zKjp9FtjX21peEoJbbcUX53MiH1i8dpZhZxFN9Ckr2Mu+CtY5ZdeRvzJEm0t0yI0otXl0XFXb/LwC3Th5q01VIBobi0xz952L9deAYiYZ4AiftRxyd/6PNtLIKxE6z2UHGvU4AS7gXjWD1EcPXNuzdWHK+ibw333ElDJHeqgGeRjDxE8rCw0LOINs4mzteyQX1AIgi0m5hy1eU6qDajb+YG4Ks7boil0fJuU0f4eiAHxBee7whwJOVDwdhgApCppmOyZRg9DVhrPsDNF81dDvwjceQbdZ8bNWgM3Elf+LPoBo53DJRnsm0rzYAN9xD15vAaTHMgWK5PSGvMR2pRzWLVtxbBsMFb7hmP4bKT5CC3T8bVspkxSicjs8p+NsVTriqaZiQterctY6Q0g8uAzKuvQOdzITZw+v7iiKzGjBQ4wOBfri7KXY6WsHJh3hz4YA9s/DEeIr31tUdp0QAXUQd80PSxe/Xovszm8QPHCpFgnhhpAgHpcKQlO6A/qw9T9gBsb7AP+XqRmbKd8RxMRjkDUxOvpTAEEoIbNtD3tVRpIvQpJwXSSTM1HWVZ+6zoA4kHXtnJK9R/5XhnHw7pbw2SFQlUjJTzewbODz983fZ4IkrceA5z3D1Rv7TfrHtE2OyCLH1PqqU4qW5gZLKujWHiRTjHJAC14j6NMt89ZeFNpmSidNkNDlkmrGt2NrXZ8/3xfEfwtt89vrwVD/FvoZvwipAvBmIw8RmsizW+euAn50Poff3IWVGAFNGSy3pss3+0NB2q/Mq3mDFs00+NRpZPgP7ulSonyMm11X9+lumoohM5fMY8UvnbpmCph5Tm4fSpxut3OIAYaduwWPNyMk9S8fVtt3XEXz2yNHKRD2wFgD0lOVV8h6K2vRaNSW5v2bR0vFJkxD9P4MiWQR7iXmLfRY86tanmD1Vn02p/miT4xtngEndmpfbjUajOJaJgjq3d39CfSDUbms2zcbbV/UH5mg3hVEho0mpTfoHbdhkeOPA1d3ZuyeqnmXImapqBom/W0EXqxXljMkv16WwpkMuoyUNuOGGfP89/qNpMc+lPz42gjuf88HwCLY/O3cM1SWi1bEdkNHxKvcWWRKyeHjCZF3U4dDcWTlqRBnYNCsd/VJeSnH8rfDhvlu+AurHrUquJ0EQ+n9wbw78M9QTb6TAoqNB1Y+XkmIMVcLAp8fUCaRckC9pBEU3Vqx+m/z6ScEX7JZFEkb6WpJJC8uitWTD18i35+IzzxgDh/ejPW4JW7O7rDbXnITD6EParuP3UsIdIas8s3U7VNiHprtlzESydk3spaDwSaUHgz0R7tgqkW8BLyp2yVvi29H5gl3CV/MBxOn7a8yj0mXbwv//8VRvdP/S9NlX+SIWp7yGMjf6CNDSySidaZDAovRdohL5KJDRicsaXjiHY4LfIxCy5zlLamkFM7YPnvoeqSaiqLMNLGEDwiz+/GE8zCcd8dVdzdsBOXgNvGTft+iMhAecWXpP0RuONdrTU8SlAJu+snKv8Vnu+21X6u9/ejcEn4GVWWO3nt5dQcx8pNOt/MPI0/v0YO0njga0RmBrQhAm4e0Vw1t6CRYaBmlHgUV7ALx4w0c+PaoMTLedhQtXQmdN41PbbnSaFIPY0TLZUGa1eTfNAP84Y2of87QdwRfTEC8Nmt0Ed58dzqA7vsuPtm+QuBOak90q+RSClPsWTTFEQat83SRbampSVsakt+ShW1uUCwsHn/IckQuJngA4PMyC4QvqN8jGUTXcWlzDUVz+nmlKq6JIBIgTBP8FPm5oQMT3MXW5oCcuwiBE+ULG4Ab2sPLRyp5ret8PcXR7HF6cDxFoB+z9fSu5TG2e5HwwxE2oDl+CvwJJ+LhqEBC2ywlAB/Tf29OEKOa8AudpCI+wTXagHTqmv+7ge+YgGCpLJOggT6FxqdyBwo9j+L4O6iGYEcX42dcvE0+42ofH3JtCArNiaH2JjTSjf2CJo+uT/yabuRMEYPc/pPXRLHpF4ytB+ekN8iWmvu3A0IhuWxoc6MPB7UXMuRIuW2vIX7qK1Aa0/2o17xodneER9hJX+/m1PUBB2/YGFQtilvuziZG4CpTGGCyO8pGYduzJpHI7KPUSjldEd8fWVVltaWDaro2eDEHxQFQTwLMWerZWwVG2nKZHURXXTlhdwTuK/ZbBeh9R0kNDru94vAnUbcGVZjXOyt8214GoimEKcErQbp0U+iqw3fW6QuD08DoAhkHeUHg/r5qemDXztDKEjV/OwEW4t3mJudoQnFJqbzpx/EA7yN8BXzGXML/xuep3HyO8ShE/R4b2kO5RiHtiQ0BpI/uyDJPr31RDcnjSnLFleVsrHnjx7xGeQBnEPlBPFHaCosb3P72SctSPc1honNAkcLa7qu/wrhIMrSfs8HZgXiMBDqVtOrhFH6URJ8RRZvhFuuIudsCuberOtgA5hWQCpu0ccXCLAgzDCiWXGdJlpvn4LUIEso0iBJAVrA/tS5B75GcnE4uDWvASEVZ9yji8K+QecZjajMeWh6+MSJgwik57NrOM7KUlM5MPJpnjSvrFXE0xYGICl/0VVoIv/uDW+ygIlJUifuY1v2KNgHKtyQx3gyKoF+IcmkyiiCetR5T/wg9MeH6kQST3u1kB3gPOBywewtXEJINykzL6BqZBpjh2Y55sunIcVBqhYeaHxwcPzRQqcJmiY24AAAMAAAMBLk3T0qgH73P7g6eMJAAAAgdBn1FFFSxv+GoP84DAIIBvvjA7q4jGJAd5GDz/VOsKmGVxGV796ooh4U+94w8Npq/BgN1pE16qPD0JJ8jUPDf/3lA3ZFrPp3t4f6a2KIzGe23RHmdLXrlbZDAbIPIXhvthylUCjT0V4tdEgRLMDvM03ygit88PdyKs4CMZbhhd9XHP3PITzLMHG46HstwaXepIcdllZ/1UIBzf8nmwYgD/uYrbz1YhC1QBhzgFqBv12r9G2HfN/ZdEHxAW1VYIP8cICqUCEwMqGHK+CUBcPH7vbdtaF0Jqr6QgF67nyk/AwjrTfrbEAcXVPYzXfCkJvdH+0ItBk+JvS78qXE2E/EduZ+qmmSEjCuS+8jzX8yFhysG9F2iozbJYCORqnUq7KgTyIDdl1TTFtctCI21aFjvNgCE3FHJP4QqYoB3G+d55k8VNiOUPF/Id2R+htO8p41ZyZkbA2XBNueLqdvOGg6WFofMTEvFgI0jQPk+jpq+xL7u/3hmcYMC1KgLBWMgXWDT2L49VcaYXkUNpj4jY9NWQ16iGKzJHfKtvfDrNru2USSazVlY9r2dRm8xb4/H/oepFbozyyG6oPtHiO3t+DxVCK/9LgOmqHswxYdqJExTAjDJZb+AXccr3OobptF3tHP12BYEIR+gRYyMIEujiS1Nb3ozF60YC4Ndl+kf5nTKRr8qh28xKS8AAAAJeAZ9wdE//yQBISBC4KTnMHyxPu4u//zZ0EanoYoF4GtgWHkm12fvrWs45JfdE6CQW9erFWagEdF80w3WXjLwuCoQGSYnqkuf2DCKrwZF8pIDVnRPUQdVv2BcL2eFq+Is+RJ5JDbvcYCKT9BAfOk7f7cZQ1atzv8EBO1AXIaPu7+XrQGTb6BdaLIvZxCPqx2XfWloLDyvbkE8/9DGKpew8aWGPjgDUAQ326hKc8YA+bNWiF0JroRNmimZRTgsNYo/KYbbLY8h8sNyJKvCvTfRd57V7hu2KBr7od4jPkHX1+JsQRb2hlmI6zhkM8vJiAg2HQfse3WdcxXLmwx3Ev2oo8xpQCa8Oqf7gltpQMWIQcNNNrFP0ZtoVLhNmWHFxaxlL0pgP5UFNcjv4itjkSEAGfKAXxJS1UzE4b3bBTfXDbidzmX55lCg2qQlrQKBNwd81uFXvj//felULfkwBQR7zqjwEY09dXtKbKfuHk00J01sIqdIYhRaq1fb4aLn1NakPVh6Btk1oxTBakxUPGOsEAF8w2AL2j5CjMUAPBJDc4DmkNNQ2zRi4Z7v/MvA9I3NvKP+39kkTkGclf5DmoO8jU0SeLFtncm/kHiRfsLEItdksVR2TkYGzCvSBBBOwyqxhczvo5lWFcmUiDBtpwh70kOMmdNF71EE6l/36lGXMhDqqNlHEB+A4lvbBcmedcLKUSqBCyxAzYv/+B0yVRfkGLKFwhRzV0t5Xxu7gUK6iwVWct41W9mHYOI35QAGHRTY3CAIrKCDmLDW1GcQlOugJJvKEC547E8WWpc8JHOK3AAACXgGfcmpP//lSMZ8FcbkqGxbgn8Pqer9+7pbHFnCil2sU0y04Vg6o2SK1dfoIl1YYVxgzhIwvvciFE72y4z3YcangQLo0YS7YA1qVdnyxyEocH5+vFVI3ApPRlPBNNAUxm5WxtE2EdojYE7Fov5nw2qIl3I6RN6OF/Kh9WxQt9w7hSEqzl1wCQCz+43u3jSQeHCdUzZf1jsIfFEExkOXbqtqATeSZGTCO1y4PvKengb3k9K30cZyZn5Exwfm8/8NBC628tOWEJxy/QBnyIEhAohAVHnQ1xUwdDZUk/UxxM0X2tcJk8GjLKN63VTyViegInrEoZxMcvwUi7t5FDg5DxT9fpeeBksKB3BcxCY9zl5s03c3fewNkL6dXnyOSHhmtG5VLAHXyxm/O1W8kh9KIiqROXCeR+WghsJ/l5OaM675VRwa5Vd5p+jYhoTYRWZZfSPlMHyUqc13xi/ePetK67Lfn0PLSKrQdmL8IdMvWdao2Q4Mky/ZFWR0Db3lp04xdq3Y87pUlQql3hBgwBQWyFWyMGDjfp5f9V7z3DSkbG3NmvDRxUsumNt3H2CcGOiwk4V8nXxoUrEo99+cYF3mQXp7RvKO5clEx3tm3VE88+nlzttVnSojd2x95ZGXHMJGDc3soGR8tGHLO5sR8JrunytbqJtSgji/q8WJkohHkiwsuTDv1FkLJJHMks+MuB7bmU1+0tADA2kVdwfx8IwW6G66BVBVSCrAVJ6piHw/scAgALBGNThoU2NN/C2bE7ifN9+1q/aXp4BbVZwLl2NKn29Bw8d5wsb77bAKojnZ6QAAAAnRBm3dJqEFsmUwI38eeEJeyxselEkk3HfGT4IqDSwWZLjo4PW3MBZaVn7Zuv38FLDKbVsEYirLPMAgnDW8jSbwGdR7KY5K3JMrEh4Sb7+eTYs5Dcy5dTa89dD5+lFGK/Sce18OGZqgH6XExZiFx6aqb590xGL8OWu5R9mJ/5riGNo3G+aqLTtwoMD56VqD4HJf2p3Wo3IXYO4T2odlOTcvGSLe2JJ+tSUANJOpWSG/8Wn9SKfXOU4O7+N+RKOW3VAAKlmp2+uu/aywJkADqSCYq44NPDc2/GJ+Fti/NW8EJ0iRSKRC8xAUjC8Yrb/vR+uwzM3GxCcJb1zA/wt9BVgdFkss8RhHkl6nayNgfwzgRKhWGXzFy4PpTXwJgCJ+U24xqlPP0N7yUrQpcem3jPaKd066Sa8T/KErtjarDy/22hR5rOl+T+gJUVexBuC1LHFx7utdzA4sVbtLbOjvg0i4zKp8lXVupuAgHHjLBSuT49WSQmr+Z5n0AoX2ZJ9z63BbxodxZ+cUI1BEQEFsmM8E9Nia23tqWOwzjdpv92NEtnWi2DoPDCQwIe7xRRgRIwMbc2KhIYHolQe6pGVHZ6R6z6SlwuXxzvp0McxUhwI50Fg7w+8lpfZt9cb6TWTyBIwdZ0kVfcueJILviFXx23jPlm0K9+blQehOSWhikIwdVWmt9HsTZZ/NubYoPU3i6lawmefmGKisYFmDJOqAblfgqNHmk4rmdLVqbkwwvcEppnfGIeH5+8ekSN4vmPfWbshUDE5ShMfDB/rsdboABNCgINuqlubWQAAADAAADAAADAr+X5171TL9IA0AiUevMB4OjjkWHAAAB80GflUUVLL/Y28EZtEQtqmOrAqioUf8d2Vee2ICthQv7Qmgb89NWBpv/IjDpdlUYTVOPCkRTiQ3/0qGdmH+7Jt5hio2ZtczY6CiO7OavaUuCxgO3w3DIi82xN4zZaFvm7MXXsLOek6ZNN2skXltvEE8+I21TpBSi/i/C0yTKK1ppkckGQtZRU4mNEDMVNADh68ybOXj7fCBS7B4zN6sCDuhIweP8S32KAC+Nm4NIqcZDwUE6usgF0sTZ7GEQPBzRgbQ2gKQRTKHmtGsMI0Ymk1pWRS8RXnKPeBfdOLeSbzSl/9rHGYnFXOCXekt5qBVK2u8rkHx8cvjEYnR3u+fe3MPOaFKfZJAert5Qc5ND0bjenv30038HyALp4k7eONEIQ4hIRRnLZAXthvgWWIvywBevs85iNRxsIzyGanbSwJOEzo87Sv6Y+oSzvD6WScEMf6z65H0sjmqT+/HvAgiWnziYP+aGkgN6EYXHIBB+eMxs9IPkpXfoGx94/K6oipqowrMW27z6XtTR6SD2t29mOUOGbOtCYad2AutQRfqvvWUqBye7urm148oa/GQlJXb++GWqBrCMOIMGGp0bAoitKhJ6+AUQk4lW3OIcCSAAAuLBcL5ULJ5qPo9QGkFmMlwKaDW25WpPcRqq0qwJjLS6aPzFSrkAAAJYAZ+0dH/ZmKjxGia+b3voqntTYpvtZQL/ZkaXizWPZE+OZPaIdFQPDdubFDdtFxK+5KfoId3pwRVOCGaxiGmmthOovUATvsyKPTzoDDy5C5+GyrnV+v1j/WU6chAfAk0HRvC9UEGv2/bI9Ngc4OfJH+dxEGnsvcEygc0yGtrjfoOvtOtJig06v75M0wx0Q7GsVRQd0g8E8hnHX4gMJL5RArgGicy/DAjDpwM9nsyInQ3jQzPPoYujkFJ0EIG8gO7SWbU+h4El+Dg+Wkjw5Z2teh5WRAboWZSsIWhhqOIgafXcaAdZoppTawFVItFKECZtDPX/FpaXNYMlWcBFr3DMYc6+gZdVjsWtgeAtco/mCp+zjH0XfUVVqT/F0w5ivDLozbIVVaJ6pPXYveLZ+9WlU9SPJqySILghi8rN0ZsIHCpl88zUQeFEFmAGFfYaORWM62eWGZvlkQnZHqnkbXdYUXN38TvniYtyaT51FhVB5wzAW/1KJLnVCD1TQbUGMFW6ajOHGLOLKFNoWt5Jrt1/EFfs5ic/XYmm/1Kayts4e+D18mmkICSrEwvPko7O/6q3hyrWQ9vjmuA0DGsImr2Wefu9vWwu7eGwP+RH7cTD/avZYuEP4fmN2wcaoWwLq764YlEzQnzQeGh4H2VbtoFS+hSxrF/GsLRJUnqKMcvVSdxzmYxKPAFp0bgXd454U6yHRmlOF5vcawRCtw0E6LQT0InnlSR1HpFAGG9sZ3lRksKqACe0FCx+466EHa2plQ9jzbVP3s9Y1pQII0utom9J6j4oy5lCJhOwAAACSgGftmp/3MviPX0zsaO7KR3ovWErpM5yQE972ppt3QhKmLJqFyJD6KAj6ZkqP+u6z+7bbFwazQivCbFW6X2J7q7o9tJOkL1+fET3Al543VNTMlPJXEZpyxtMeGH5thDuCakQ19Zag05DFrbmHM+IaWiMNbsACdkMim9uZntqKad8GpS477bHfIvdw7YkvTTpiaKDyYeSVCn0njT3gBBESE6fEg3GvM7NS8p0XiH19BgIkuXpwrWLEmB1saT0Gd2PeXXeu68rGo6TjPmEGpZ48yOJ5PbDWw44QXka5Vs/+UABT4JMgziOMBelUBQs/+xtsfM/rbGyhAPWXq32AfIBn7a2qszheV7Bq+HRwjZlIABuDM26PQgo98062lMY2mo1ZQB9UofMgqp0da5n0lsiry/YXNjAB2jWP+4I4jSH2UglqTgOVotCfyaC/ymedGU9SeV9Bu6bg4DMBodCXeAYiyt8gEYGseQT69FcxuYrD29m6BOf1eglUYucwZAKuCYEhK2hMiEyxQ8wgt6Gm4U1qd7x0H/uDuAaC1uHFwiRGCjIFLKA+wpUBFVNqQEqILEqgijsS9pn8w7RrNCcgHpJKp8oBLFFO0jnSBjuoKgMXXDsSV9wPn995PERXiaWDdiu/6zfQI2D4zFRF9aFhgQj+RnDhJCe+KN7qXZ71Tb1f71E5xxq4r+vZ/MnQBPveuj/5j4QcykmlF+xH/xEBdlrMG50WlgYZwUBABI478lpHUSCTl649OyGHHyT0EWGehaGU1S1KyC0eERScccAAAKFQZu7SahBbJlMCX/tRYBIK8Qv1CRlL7AUPQfK4kg1m6ru/mNYsD3wAtLjKYC+//k0V4aJMmsqNiJkL1+W4Ot/13MfCf3/I0NLBgHfehUS+njR9l8qCmEW1wAUM1NY0KufixGBMqfpLvbvKzccfENmkeBL8JI5JslNh5oKyoO91Gf8fiJoAMWb9j02b0U+iLy35UmrEVsstW1m0xcB3ZO+f9gwzSk8RwycnmUzOsOtM1GNx/FabnERtsawpgALehj8YlsSaxfNiCflwxEYYMA64lbe+wn9nohjqnBqpkNCYQ1W12Vypm+9nyv2uleTW+ZmzR0gv7dm+1pvsCN0ij3P1qS3u6z4KwkOJAP38I0sIc1deRoDRYUBgefUBZpzNXXKSeGIUnDp+6SZvKnOqaCL5Od8E/Nrg3mweNVyPFv/cn7Ppdcs9IixYULNzIv6I4jX32lPP0LW0IfDGwFDXguAJYdhHLXaHlmREKhBH0ar+Oah+7Wvuq+yrRQ69SMJ6Qlck+7YjwUHeNky5Q+j6wmWiyPngGpPNanYxaCRMCSw+lIXotDbFAaCthgjaVmpEcN1BR2/YM7S4bJYP0iUcIeJxeEK09nmRpeIo29+w9hY25NaU2Z7RQFcLfXIyThlDzyi6qM/G1H5ANIO9sjROhjH4VQSjhXbIq60CjsT4A2GaSwjftfTNlncESSYbZxa0nfjdAu56QCVJCjo4oXmP7jPL4DrQ0RAzTRPknDaaZZII3R8F5EGhEdml3fTo9YrwmQ2FIZhgRj5MfJdnibh22j27pBpmUBXyH0CNXO2/TPfezZ+4UybKljyUKlSXhs/eyKr0ZhERLi9JtbGlxE9qeFUZHDPX+yhAAABqEGf2UUVLL+/F0dOokAhlA7YlIa9fhZouZoAnTdv1ws6PneE56Ae5o3TYGJYFHk6jzUfdQ71w2ftU0t7WLUCnLgMLUdZ8AHsZ2XYMMhEbZpouXuWQsZw0gSqZ1oL2jY0n4jzAngpvuAfhOm2JLmhMTAD7Nv2BsojrKk3R43ulfMQ/px8mfWcYZ/wh1GZI1x4ZfumgXVPVaHy5CF81v7L2eIKaiu52URdmWDesmVhRQv3VJ0qdz/HDNkuyn370tXtMaBkWdhstTQvn7bPHO8okiJQ3VTAEi6eA/NJYjabhV9gq4mIIK1sA4zHJdvI2Rp4BjECZUEQPAtuh54QsBGhyAtV26yrpdcOXwMbmHIyYfHMM/b60Psyv5tsZtEZIMOUCGV/CZuPRd7J9ULSxMjf+GL3vITBR5TVr8sIumK+fwmG0dcW0SsggzA7QRtAypsnG06Y+txHi5sGHzSCuiN73fIDZz5w+nucDT6ykzh9SwLrKsRZA+b6OE/ZUrP2JRINa+l2I4+aKHjKNdA4LSeYXEqHj+roCieNNxF7kYRmWj42tVVNtZ0gmZUAAAIzAZ/4dH/STf+C6i9bI9fF+iGiO1MkRwOR3o4lQah1dnBxhWapdDA8HBEwwWhujPHJXTN9nQTU6ChVh5AD07PT1xCkYmdrC8ScPPUcAfrjcJ0doAMaePiKWjWvZbEvprHPQ9zVbInN5hqEmNGdPl/YSaKsP92nI2e2SXNXotz1O9O1bGFwT3NxFYDdzKuUPT0sfGkMIiVr5QByBm61tp+ZuglnOXQuA4NYdtr//TNKcSaaYGg7CmoTEhAD8T3KmTFfjIPGMi+8kIcm1sA6xura8B6JEySDOTiRAIn5w7aLgvV0TVAM6nBHbD/fleUa25SQgGMiYhaO65fOnFHBntmSD9SXVnQus1FN7KrXiXSTalcn1yx2oWpOBeyMCmgIB7orsEUc3RJ68Eu2aBrmkm+S4KwGKjZXvI/3Y0qOvqX4rK40ow6tyo/eQbvhm/NLWDdmXBESDAWFfattx27bWNGgP57bmSaLMKOCwtrRaFm3M1EBJqU8W+hIloIAghLKNg9OVOzuKFsdNVNE45AHAyOWThgKmiSiBEUAfGTMf+Is+VrPL6bVuNIztpaTpzB9LW4qfhYRibO/WaLcZyulWtuMGbwROpkfPC2D6e8+Wb/q9AzliJVqO+4aG1DyhLRYmYWqRsjHbaFqBVpBnWby0jQskZ0KqkPqAJYy3FvitpN0YZ2SKWbiO+jsuR4AtgjcJWcAAAMAAAMAbmg9W7zDvlQvVOWd+p7ocH1Pdh8P3MSdlh1NiykAAAJeAZ/6an/cy+I1QpKjK/2O54sTdQ7YJqndXVEORwRJrjftA++rQQfVC39pojlicDw7RFPedAZHiLXqohtbCV4zAxrt8Xz49+oWi7cCGVkOF+eWuTYcT1rH4dec0jLfHtGAPjCkIlZY+kug0Cbn5yF81o7T1GmeXTf9ybGF/BL5rUPjJv9VHm9vzXoMhGk4+l7U3poRpXQHoKtyz8ioKKG+u7llGskCWmZPN931wFIJJ7SAFrkGywAA4ijwlyEUoPg5v6VChPrjNEeQQ2P5tRXraBWCTrLEs4PN9Dv4B/3X1f1W8bhTQ0zJGERXY0zUyOG93vcOR70y0zi6jgvsV7/MkGTvT0WTdIljD/8vbGbzOMvuHMTw3ahfBujCHKLcEFE3rrgBNo4dn2REkewJXkhkTqUgRZGjwjWeKgLdbLTXh0A53Q55Q+CVf/uar45Ez45H6w5kHXSBJg1y1r5fP2JYCIfrjVNFVGTD7L3wcegV+moSYZTAyhTrfP1rw6TUUEujL2lKTJ8xj1hmjycZ2IGHXTYqbLsIw7mckDP2Rxy9hIRhvnRsNQsYnQ+G0OeRCENReNizFScW0VCWrndCl9+8iLIOA3kbOU5jOo/CuE3DunkBlHU7VEyx1VPGb7A4ekc0ryUHTgILSGaJWfIy94uRRpt1hTdCA5ms4aeQ1YLCrhn4yHIGBQRHkGBfZPx/zIPTn4zAiv2tDZo7jwezfByTzQbSdAKTiSsLWkwyGBUoBQW2E+m+AqeJekdt4z6AZ8972DVzF8xjQa+yX8VRs1XMU7bvU89tUSiWUZYOKdVMAAAFREGb/0moQWyZTAh3/7psYOnfGJXGnnzFJSwzlK2w8nI9Z0XREqiVfo9U6o5PAsSnX+1aKAKmpYsdAs8+reDW4qdKcsKtIg0dZR+zempOYxQ4w5hoe+cbni/5R3bWpLfbn4BusPI4j75Ne5Z9lEkUVp+lgAvXSplh0hT1DsWyerqvc+U6gUnUZ65qvMD1LwopSpso1wR4G0gnbvxHaZrkeZn/jMPKfhBw927rqBR3gAYN+mW2dq7EhkE8whCh5EVI2DhYAc2QFcbkOdDX3GuwwL4/OKEl7R8iPbTLzonNJk56f+YxgIFYVPXmhzz+5PvOHRTQwkoH2OIHTpq9L1RtzQ1tzIg2qhVag78RCxUW4xgd3ddvg860KD2wHboypYBL2VzvkUwCCgqzbZB4x86vf1gWCm80pvc27nxS7+i2Bo+0S1zBAgP+MtksZiohjZNR/ANMBolI+7fPUAcYIytoiYZ0SY3Aal8PKAmeB9wDBdSfdqHzA4KDnX+bn4n8Fu6wvWG31VACH96qT0FuGd3+l5kACNeGXDJsoqg2pg72HRSA84bfea32CYZjvY5jqXYcYbr8hvGswHNGL+ssHog0z/BSjkel7vd691a1YBKYJSNoPJ94534NOR2UNbonFVtDn71xYLhopixNBUkO6BtSWZqiMJCjkv6I3VzOx6CVVexpyFksUqeK+9gwW+ArWwkbuqjj8z3oPbmoqqZdXYSL3L7R6gnAlzf6WHRCCeDS1pWsCbP7vR1KZArzEIBjSUV9o1i540eE95+ZhU6Dbyiz/o4xJ+TqUtecWo5J8rd0e6/a+kHBj8yotyZmEmo2Ph8l8NaVJ6cLjnHHrWazM0FcyYN04NYrLgcvYaFTXKxj/RX087OxXRdEfnm90JGeMAsGiVtpEufdJSHgIlvvhSVsy8lwlFOX/G/FLicIC+Bj1/0nU8hPzZd5NKqh63WcEusNTN31BG8qfDbBVRxVfw1xOKavKDFGA1uEXyOIavhi6hpookmKsXmcdhkn0gYf+mqEjnCFzah9UGFzf+cPByt6o0X3XH42o/xG50OI9g4xxXxpHHlhLhIerwpI4TsHvnlP0Jmv1imHsH1FnNP5LDp4MLUA6wnK/s5BMa7Y8/fZlsPbC1hxRVn0Ls0exKKODrZNb7UhU5AR0PhPowWGixegLvRGgkwsIwzfwfTRraRBDPxls5/jGBrUGnTJohfk+p9Eb7Rxtlt0J23JXd89Xtw4WOlGurz0bLRzFYkvj0kOOavEIsqXo5w2/wojadY1sA1Zr+pqOPT9phJFUN/KAzrxkAFuC8LTVg+Q2D+/WQATptzdI3+0PXUyqVYu0VQl17jM8vogtSf6/amBog/7+0P63NgfR0CYOjgV6M65sz3YYK10ySk5iSPF3ogvYRLlgUSaRZKrdyiTDWaLKJ1BTjEVaslF1H85etcZ342h4RihW6gzOCUZ336WLMNk0yp1C8i3ql3hLA6/OxxeH7kklqEwa28c2FoGGK0bT7q9TTY3TD1Yb2uwUyIBX7xyaHNFkVOIh5GnQG2nOhoEHU/r/uhHapTx1qif3iQ966fAeINC66IUO/5iCpi2ul1E4AJ8ZHNvzXfTpmGZpak8daSLN57EefjKN5I4rzwu2ShAQ6L1GPNvfx7+3z8mmwu2DG9Wt4dqe3d0GFw0x+B0Y5uvoZZPhmLNt83apI5Ii5D3Lf7t9u2tVUAhGSAAAAU+Q6JGINWMIzHtU7aOh34IwweGpPlvBroZ3Hsn3EzngBFGCMzRgAAlEkRLWVOWn5VFgCTOInQpY9UfH8MAAAH/QZ4dRRUsb/WtyK2lhajgFGrDsM97EhsNUmoiniuAc9ZqE1+JsBtv5+s7JXSSLEEGe4F48UG+TcZr+rYTbM6mJs2XopZpX9Ci4Qu2iq77CJGXI0dySC6tMzNx0OMTY/EVHYdGzXmE482K2EilHQ69x1ZkWtxva0DEXeeyxzgvPlK0qJk8bfAwd5ZeVb8viHQqhPWRHwkB0X5MSJYc6ZOupYclGqss9iThf/LThe9W+zJ73p4aD+6wGiVOKZVBTh1PPM9txzHYbZeK821US0F3VzSBDm74udJpdN/omnSYASAYa3AVPOI2qK7I+eEdArUVZXSRZN26Q7sQG2oUPwIj42v+uPvYRaWKNig4xgku8GCAGCUulvuMM/XYNSLgeRAmT4RgPUa0lOt/Yax6iyTge0Rjl53LVTNxQCXNAx2gUWIBQ1vyX5OEM5ZC6h3rw/TWEuaVuQvcoWIF7nxbiOwqZecZMOsYv6X4/lrLLovVhX/bJVdMc0pyQw/Lxg6zt+9gZAXs2jlM2VwLo/hFS+cl+0OPX1Mar+UdJijkRgGVBROHHcELiiUIg4AhIC68VKPTMNTdkuvE3GUa+jy9Bi5vRVRFLTK5yFwDSiqnaGgDLEf5T08hdfWUNe9ZjDtpi1CQIlsTrFVuMInoigAAAwAAFpeZN2AHphicID+XwQmOtwAAAlgBnjx0f+5KDWk7OyX7hBmSmoorIK05x5j+J2OIgQ+0n9lHpCUsZhJ7DvQeOnOP5hzrKBNUs9fhQreM4I0nPvBTh7as60qJQb4fmuhYlNp3Igcj8V5zO0PoIyZZWzbz04oKv/V8AdsuI7PKZt1ygWmCEOp34XmIbXN3/MBGQYULRjNgXmUfXBdZPAlBYUpYHD/ZcOitgnaBgQm951ETpDELs6nJTWCRiZ1pIEv4A2apv7ofFYWUZcYuZ84Z/MNdBxG2eTUeQGe87LHV2J8cG3i8FpHPgflPgfwXyTTUfV+TWcUGFBALgSnVMtEmX9OPrHFMb0QS57MqU/aAolCkurGzxWWhklZ4AcOzBszlXv2M1FTLEF+12EplINLZXe6gTuo4lPobAXa2yDd2aYx40LeOIBME1eDHjr7qoBgAHF7vg4yvAQukOj2vZzfxhwtua8iUu5Fthl6inYa7/NZlXG2g3Smtbyp8Qttw7pFQ1g7Se3R30upxcE5K/XmGWfATaccW3LDvT/L80WGKWrw9aHzENWQYe1hz4KEblRSMlWhAjNeoGf9aOPEabH2jEDrQK2ZhlltzSx3YMIwjynILCEDRW8FsSwSqRiEx9ja7+FgnTTm66kTvOnMeO7Q+icn+cabj0Jt9v+/9XmIffTs7cW3BsgtUvF0MRdb5xiLI2urYyJo4gvgXTIqQB0jC9Uv+1UVa/fk16lMMDVZb7w0ch8HWHkNoAAwndIBFodCGIabXfPx/QZv2mNziPDPzvH0BM7miaSGy01CBQqjIMA1w40KCJ5hAe9CQ/iIAAAI0AZ4+akT/uAwPpnAX2BMbqUvLtdxFdM8HZiFUfYyySO/E1UiDrYAmjXPNnU8Fpn0UMDRVsftGs1CFuAjVrBDctBO92CD054RxZIdlmza3eMytjf0ZBFlm1Bc06BrlDhqlew5VNmqeVV1DmUf9v1+3/sicmk0PQsZme+LwWjni6wqNcsevBSfu5SPSBCnFcZRkfjQTw5PgvXq5e/JD5RSX0R2yBOhVywro9FuaLqAXzonovx8Jd2e0WDOOdXHqCBDmAPAocRyXlAXndxlMmVJzkCJzAkHJ3MRaqqMqsrmnSmDVPcwRHhbK9eaqZd5CxoT5Domq88VKzYuzbuyKKqWh84ERP3TSNG9XMEqSb6BvUZupD+oAwdHnfYVq3ZPSZFd0mhsF8/dEL2CSNkoLHF4874RLEaDbwCf6aJlGc/w1A4/cxkwdKlU0P11V+UkpCHQe7aNRfsUX9v3uALh2UcbuzB0bHO1sGDH3HDX+hVbySIhMXM6ciZ/y0qXPMVtQbcb8sm80HkRfdYKkbknE1pXLIncqjJ2EJvlwZ/TBMJVukdDGAyNZP3Q3rA3XbWPnDEB3ZtNXelefOWvwgGxmbMtW5vKUOYiSLHZmsY52caRBKi45XgNECdVczcdQ+xYkLlEdg7k4fw+dHUWHuWCZdFdsaTIAAAWzUz0SC0YRNXM/PG9VWAc+pkUnCFLtGS4YtAPnmEC34jtYNieVxzhASHxFTJZtCmdvTAJuabjF98qVQHuracX+AAACqEGaI0moQWyZTAhv/+RZ3ETKeAK1WsDmVJfe/2GXit/KY82XMGS3YLcMmGEGk1iqsJbNc86Fbw+agUHuswTF0YkqYKtPiURx6KxpkLTXgcfMWJOwNo854K/lBouzEWNUerlm6Ugkit9BceGv3f096+8qeWi8pc8d2ii1fLXRUEvJoCVF9wRDiX9bf9c1+eEKf4Y07i7HjBRxs5+sLk6rpELoKLeEwA6mugTvVNk+FV9GUfxjRnEa8P5UuEv0de+AX0djWBSLUxhst2jZt3GIMvj69D5tE/3+wQN/B7ADcy8yc7jp4V/zwaD0oWAKYe0vAGmZFXL2EBPCo2ZuoSFQxQpOMSGdRDbpCxV0w8PTlztIEyIpaMMRLIBoNq+MMuCnBSfaPw09BuKYX6gPUnvXgsTuv5iqxtVcSXMQkzfomwbTd5CXXqgPMIelVPAoDeqq6wONdZR1VzAnGPQ5r9EgzSxaOn1Ajqz+mbboAnv6Ek0q21vP8KqT9rl+885E1RmFzi3G9yIVWtSEEYGP7YTnK97acpPs5eNfupRw+CAo8ySpaDa4OOnd69RUV/Zb+cH/99lTPToSx2uU1E/YgZRz3Z4zMdqnxr1bqVObevhIcS08uZ4U6is2y8znyLBjstq/8lF2gJUcLnTxudjyBj+/ADP04Mm/UB9yLleMgR99A3FEDBO33nKk3YoDyDlV3VVGTmoKg8QWYcleMRkHHXNrqYmGkvMGHZn+Jo6XAfcXJjys23ih4rCesOkbUSmVopfDztP/4xktSkHIxvsKc837e6lPiJdSD9ZY335WbIOga1I+q5bu7WqyZ3+QNKK33mxjS8ekh5an5MZLzGACsKFj2KO7pVpgxVzUD5+Gu+OizVrTJGc5ssgvSTESyd1NQcAAAAMAK9qMsAE3AAAB+UGeQUUVLG+xjnccGFAHuun/8CkjnFDGCEK7M8moPL2fteRHgQVKejIaVU2/x9IVFO7YcTCXSFZAYMy2fLq+YgoJmnrmdM6FBCq9axWk/K6tVonno1g9tE7KtX/jkQcM9I0Ymg33uVYxTtOZ+KqOuPev4lULBLoMLWTbSqCKMnagbLokKDQH+l7J53jlVSmxabZRWYR+n20xQyqh4Nc0w5H/8BltFwphJv0meQ+OvdRhfDKzqOkXO35k5RIFWpimAidNSR5m0a7UeVDmqX06barr6IY0yjeDZz7h8YeDUG6FifvI5xdG0FCQj4uQihd9Xmz9zS1hWaq6DcuFi3LEzXgS51OxInbFRKwuoxRPhuDtj1dMLbv5sbL7lG2d3LUeFWQhAoFDRjJBGYm9mFzdDue0ufSVkkDIzWH0CpWDE66kqXfC2HfZmqomwuBFqJHKsx5kXI4nI/bGJFQN+FpU93L9SUHmITR6fqJeHzy/a1Jbo7Uaa5mByw0FlCUFGeEebfykbfDVawWkg1fjwMsvYMjEWOxFnD1wDexPoPVWqhGY+o+GheFLLCVfrFWv+fj8NqR6y03eki4aBUd2OXD3xmkPMirZ6iRg3PeqCdHkJhaTtCSJx0jtlww5i5lt4AAAAwAAAwA4Qb3gFJNAD40O8n4RzGDOUF7PSDgAAAIeAZ5gdET/xMnDUBjIhlLcVPmb6MN7eti6qKS25MH8Qd4IDcvW/mCSlL/K2GUzTuu6bnlIO8I4zCdvc3Tm/4pA1ZHY5CnspJnRDk/Z8+1GoNc82Xy3oM7S9PDl9Gk8hMsV/7EGjeB4saAPkSH3UC0nDzru5oMpnWkPWZE2hKaCiIfdCdC5cn8aQamZP82tVR5hK2p8sDULB8SuviNSaQT2Wiibv72FFUChaMlgWXsAE/UYJHDgztry1BlfWY9eZB7a2xnrLbrmIPvRy5rXyHx7SuJTZyhnkyOqVFIzw/65fksVCv+f+59MYW/HTgmfjybZUV6aCdTrjvD/KfnE9tZ8RkyN5LeNrvT+9NHBMkboLcrKnVPdaOxCt1XB/8Oj5yUVqD3qMOKINJjcw7cAqOEpTT5wW7xdNTTfLa9OJ58659C1Pn56X1CNBDdIawnTEqyVOHkoApOTMs1+xhuvi2a9g6/raYhy8iGwhgHKF8IeKVll2XJtHRY4F9t4ZAAPoHhmLODs5mAtfDE3EC4HDr6AqAxqtl+6diDr07dz5D+dUybz98/VkqyYXy4zQSR1i8vmTybJWPWj9kaCZCyLXr0aKPllTCTS5O1CZGJ1rZDQXL9gX4uG60N/mBE1+j+Xf/pNc9bPF6jysULnjKOp3Fvk/x5sIDx6l2jI9XaAGbhMZGlwVkP4D4YuNz72mxLIElcSsEIclXzVKX1ApHhAAxcAAAJJAZ5iakT/yMuEcBgBW5jBVKM2r+FMuukSj/BmsXZ2p/dV5qDKkE6V81lmzwWY8ZekkE/mqJjut7/MzXJ+Sg0pcgKPIAfQIjhWyxKFADlOxZvEXzs0UXGRKehmOCz6m28XEXAkwujza9/Aarlvc12Of8AriLyl1h2JAHwoUwcRMxLboMsmIqdSzSdGs9rE8DZs6qHyyxiu4Ss7EITzH6XSDflEuxcgKtwoSRnvYVxLxIlp0mocxFq7gJIaHfhm3F3u+1sn5cwnF0nnQP2d87NQ7CW6QO6or6rI9bwTzmZ2deqYgkt8bsEVMZieN0CkWRo8oMpGBRmqeq2+hocDbb81Z0K/awH5cU0uIACsDeyeM5kfo01NGvCIJ8CJ5rgSeQ0IqjqE0AogRw0l48cJ1SUQvCCVlSGQqTtN4AcMGkLzopXJg8oiIpeVATd37TgcvV+PGqNAPvm9MxAwvQikSvfc9pDRTLydO09lSKXwkjjgVgGJ2Njna2DAg2rmjJhY3ZFP8IN7TOnB6tC4xDC8SEwlaYkz8OfGbKxNDPGomzZB12pdMEJd7W0oouRClNJ2iLRgMrOFNilaCeLodTGvqwglXgMFAdrBq7kV3fJLbxVrB8lpTFTo0Yd1pddsjppmqLEZRf/f03eT/vU3PjfhfHtd8SIn7DYXxRDX007nmsAp7G1UldWD2yP0I7FHXp4hk5EwbL2whoU4+SO3pcYEuMaczwwCogHZVQlU6UGroWiBnxWNqfNRO3hWpYgCAp/gArFemxKyAcOCt5umAAAK9EGaZ0moQWyZTAj/k+BkdEvPnPxvFQRaFjM+mGWlSTLOklOvhqveypDOYGgYMLOmdMV8znl/FTk6o5Ae/hLTAiZ6GvcAKwpFcOpAz+jiOL/8DzuEcQ6VKgSDLIq94WZzBmuZQR14BlwCtHjclzKb2nFEw3kvMKRYgS1HMwSSzPW6l5W6SYitFs3M1XGyljG8GM1/Yg8u8LP4tcSfr2kM8pyzS8nGvhYXNlE4oOSwz8hqiyKdWGLOHU2JBESOrhmrvc1yaSs1DsAqGs5Y6/wF/rpJDD3VPbuwm3ZdcaG/XuIMFyXEeYif+2QSjrBcHp3PFaAFoEV+FvviBCpJzauRIXE+MpPGYJxk+kqNQwq2BnMBnCFxsTAR6oM8Ny2gq9WJ8S64pdYuUAU2YoE+T7b9geoehpYJ9bPynv04xLO20/WlXwpXWfGqbnQ6V/iuMwqb6UW8PwEOcveMooqRuNgo4YosIN9JS5zNSKFtgIXhO0DS2wKfMusDA8tTRYAIuhDARRZDzH+fX0No3knA6gUWMKnb2/5Mx6H5b2uLKBinkYjRza+bhmSCMqifThkmIP3RdI2mQA1wn1cZVSr2Bwovt3lNxJutsuWQzeR9nVClM3pYhtjbtshtiATrPuWg55+0Ra+0RYwdksSrbUsli0Ag6qLf3ECmjCX/RG3OIBeh/5OfHtXU9JGa32uRM/32LCAzZfua5zESz1WQjJPslPas78tOkt+Vh+HsuVzR2SXTC5KiSGHnz77O165xhu0b57ikk1vV1LyTEyKyJsPyaAmC901Wk/zHWTG34ili9l+ql6EMtQYHmLVKNpKb1dujUferQ5xUCdFbX6EivyzNVd3dekPJS76kd6K+NMI3sDEwsCm+PDMYgJrdE+qWHDDQ+xSD31jC3GGgidc9IxeYgEb9sBHjV0prfv7yehkYja/0sbF2E3yQ6o7Vizv+0obBHFcG+StQydO/nyDD1Qh7mi/bXKa9BdaUDQ9vKHPG1ViApSDE90Mfe/wa+c7X6SKHyhQ0BYEZju3qBHRpHhZaRRKAE3aVkXG1u9LAOmJtVRnMKMfebLemF8L2c9cqjBIG6vSH03hc/wK4/JqtsPyf/HUGh84IcPS2NvOX1eHXpfHmxuLBL7wTJDhLy4LHfUSwHDU7gpng4GvS6DBiqs67lcACyc9lciSpjjxe+FsNUK/43H939ijwEJX1++4Cc5nH8w24WUn59/FYLtxoO7lhrVhSyjm7RlhX4++Ie85BQVlZeMsbXvkG3cGEZvZZj8Y9lXElNi42NHLE1cTTFSvlMUgBHBNR2tQWzR8Bf88M0kqM5TxX/QOJoPeAJ2x5P0HxlQOi32ur7iE/ufVWkN9DYBCtbI+udQz7dliFpVLh4FdWHVuUECqkhGsNy9aY4rYpyXpLb4P8jbNlAsh9GzTR9qnvBQ8n30HrozkXtLvggk7KNB3dt63xsHyzByb3Rzg1nnQURWAB2CWCKLHwd/1ah1CerqFYcFfvYzZ3B5pygHv1Jael4MQdDKFs2vl8ejtsoTb/eLuIj2m2YAKUd8A66rw9iqKgRIOv0lcN0ljOAO/tTZ+ueaUlrWYohWgi55teqvVHaeMvd2E7XdsFigoAGU8j4zDYSOYSRYW8psCyK5FVn3RLYpGKocAaQDB45YlAOjYNo1vC6SAUP4JF1nIW88+YnxvkmJITadJt7C3Klv6G4wVeaR7VlFVtzx+V14PiH3dvneL/Pwb3+hLKDYIWPef+9vt8r+vcc/FP0QTKOTrvM90r3uuKxOAtLfdJEhOVM4FiZqXcqXs+ll6C0rCWO9cLb038KjMc+0fY6Z+JU8B03VSLwJ07bf4lV82h4m1DIi9QtlWZkheShHUaCLLd8tsRxpjV2etye0ShGXVilLU60ViGiGzNa7TvVirCFyPV1Een8M/vyRhkXql1KqiAHHYFHhxEPWZ3WqNdVfrlyR07HKcHbnaCAKluhbzlWcRdFg1yTvoQgSoGnwrsAtrg7ta9xxPEK2cEN2giiEtw5Wl8NHPh6cS3Nrt8zIQJrlsJMjAOr6J55bEtuByibOUJk96ORIVjFoSkZmVrYsJYkNViTDH3QRVjLR0LY6jghgJwyxM4rVmQSN5189TB+MYRuK1GJQ/8N5wUI1X+zc/eZKi1ztuxph5S/+TQlNgAY06XkTxHuabrqW/CHVriznUQ3a4Jr2B+LZnhczcN/B0BUqHoMmSVXKr75R+hEAAiD0QpLgDR6CApft+MTltdHcZvMNhgamQeSCLBFrX28jSq5i+CjJ8icQDIx3wAX42Rtr84JuDIlVgwXqGMk/QBvgKAIeXwzMPYWlpD/rlcFR2nx2I8JxFlyOOwdl+gQa4wmPJU1Q7gveFZ2lG63X4mZvJiSBeThFim5NbwbRbOEEU9Pz6cGUaT0wpMZBXWDau/7x1Zz3iGvjUEKjUAhNe024Kya2fR48tLQTxmZVNPN0UwS66q0X0c3F11SF9Yr6mk4DTKa+GFFZAR7rcl9RaMN0KEP3+1B9nZS6y6EHykikyhAsMTm0ta/Ls4PXN0ivFzP4W3cnw7W/pIwcsKyy9zQjB+xshkDz+SY+2L2ZNHA/+s8Oz3k+Rj0QfcFC4gEzbNKJUAHHOXdrelW+Z4NS4ZgqOs/yikmsqQuodaEazUFoljLVigOCyYoBVMoUb7mvm9c0biOUieDpgz8+5QPsJXyDS7PwBX7WTX61ogZS0qOeSM9gpYEYfVQZb5uybfQQUMk9kqo1R4INlxXA1B6qyD5MQtXY0g4ji7dAe20H6VVACE9i2wuTCT/w60F2l54k5ojDWSj0sEFmM8yTJXfos7k0i0sSaCed/T4q87O8VpXebVNxSeuDbs9eqVXZmvpB9L7lIrGkgAUEi2XfKOiffUG4+X04Hjy9iH7TEBda/gHMEw67IPw1JV7uBoESvTnfPjywcixvhoKDb2wNpH2xF0V8bCStxmZR8I2bP0HMay4pti2wJ89CGEFDrG/f57ZoFUQBKmGPeEsLVxtv3BchWTdumpfudF7zCIc3zcLyykO1a4u+IHAzZ+K+TBaCZkw3HYdgAAV1TvYFxLytkAkHFb9MHGHOlxyt8JId1RHLgcqJWQjDKlgMKukPfKD2E8PHDePdoqlzUkAGKl6rppX/bYVe6FaC6vKFL1VDHnKAFh06traG9WZu36JaYVxfyzAyaYsD9jp+I3AmrbIC0CTsN6FqghyynrkekMfKpiZmCZeLhvnAAdGAoZT0rQQUQSwl8czcMaauJaTVFf/oF22LKbgM5GAlHNPdrnBT2sjv/E9jDtQiY7ZrYdP/riGK7HTrlF8PgdC7HimtSX/XRhdnrkIE8MN4iLGdyZrXV84bXAtt75Bg4aanKwVcWKDL1AHAZH6IhxGHW7Vl26niuPOOctSXvou3UlpEUr1N8lGlzS3kDn9B8gXs5FBdGCcxjnvOuHa8oybHR7mQU744YEzUuYEkDNFeV6nF3a4qYMmWCzdjUJcVO/n40ehVbx1h4mOO/QRazWgA1BSPgryKJJm1nL13mqsLwo0X6ntl12se9W5J6ngnaB8tPK7WSTbj7uQIGyYJeiOJpMOkTsj7q9nJzSPuioHA4P9CRqo3ws6O4VKdAGwnl12V4QHLmLU/ej/GxujVeqVYLWt+8NtiESC0gLE1Sb73bVMsFrLAAAB9SmnDijcltu8H/YgP1Ynhoonmpt3xOx/2Caq2+UFqaSZzQ2ORgAD3zoSpJUgB1RAAACAkGehUUVLH/4FkpMgHpONDTRWMR+vo53c7AdkUrEKNYsNZva8pRWTngwfW91D7xnV3uUSrP8/5ccWIzsVMi2BEa545JkiZIXBkly9yDn9LX1SBUpuG4VgrFaGUwDxF6W7RDN9J4VeWLaHxuzUuWqiy3ot29pjFMbdpqEdXDeFVRUsPYyUuw+TobgFBWH8eZ33zgtEZdXUH14TmcvQZHf3WQE3UlMNQ1d21exXLPaqYkfXQYAu5P+FsQgVs53YT9BixTT72UYPmmYnHchlHZYFBkhfjKv9+Kmt7tstoT4ZaDP65hNynWOWSv7Eiq7H2iegCSvpHiBqPTeab8P89sfkVrkqsG4paZBesy5tt/2GH036whR1yeQifu0UjII8itRKlkg6engJYBlJf0ctKhGVMApadgvI2+yeb8XQVkDBmsAsDER4JaDMcsObBcHf3IO0j76TmHWCqZPPR1TwTdsYyMkb5QHtHFEFJoH2969FiI54llSGFBD4QNCA/rZUiaYuaFUcRZzBNoOUP5dIB8jjfqEMC5TpZkLwqhWRr/kD5JiPSwhPTz3SYJxP5/MDPNP2Q5npdCSNMuGePr8IvJdzftfR6PD+/+F3fgAAAMAAAMAAuJEjChwmnHELnuA5cYSIgcKOO6RtdV7RY6lRPbzXZPiyrnblpL6/RXhH3pDz0FTwS8AAAJ7AZ6kdET/1V4AX3CZz9eu0HGgGwXhQDusAXq5PBDorSKX1rfukysdUlJ8kmANnm/lNFwu0w8L+GF46Xyioj8NgSi+qO5CxnWpkpHZxwSm3IK/2TetdCc9JVXilxByozZShRII0KGr/UCnsPI3sSn5hz2UrjMmsCUHO1Usl7p4zLZveO3qxrDS0kmuW3tF6Mwai/NGnIv5lPuKEElOecl4OOD6tV+FW2HQah9ex/pndNjYEKX0/GV6tjfHAmHDaMKw1aiFGeNw7VjqPtavlfs8eeLNo6tK2ZIFLRRyMBUhgLS6G2bf8wEbruT+HeUL5aI1KOzICIBcfMTjHgFatr2dXspiRzshuWL9Xv6ZlLqgOXqTeQuCLWGDNj/2eUOLcxEPyH92TgdyISIr0oQnvCH/YEkfqhtcMKNtWrbfYnka9mxpGiLgptLacs/w6ZmGE3CiwhfJ//CXe4ECSnJhbiXbRy/TZTQDWlaWMQXlZbpgF0EGwgJc7mLkk2fQ+2SwRAiUdbAbFfJ98ZhFuLJmNwsJC8mekaG6barnm5yVf3btKpg/l/O/+tyoBUrbpPB0ZFF8YeimPBPpxNYOLCO8P/YHaQJ8HMR6cma7V2VAG+JSazNaVaCeLmm9aR6aiYM+s34IB4rdnBQ8+JjXa1MXoJqff0ERLV3sDE/WhIuIi6t2hlCITaJbRW6ih4Ru7QWXr0J/2vTdni+yf3/ydfqP/s3RLn2/bG9D7wYEWsAy9BbrAXbG4gRDTt09iLsZD0MCggIJXM9ASSma+0J0rtfm3axinHRckdoAo0nxNNZG6Zt/D04kgZS4LoW5hhnY/OxML0dypqrNF61jLAPzCRcAAAIlAZ6makT/+NrXlAGMV+hhBNsv/Cb9tWobCDX2+VJVOnZkETOEHOCgz90IIclmAb8/gaTQQnL1ba+9jdXBoH3Fz7HSz63nQMMMt8FEv/+Xxu/7E6q8PYYjyMWyMLkKJALwFCWb834wg7Eq6tZ0qqu0Af+NsDhGeaNnEKSwoKflQBOwka1Sa99UlEVrAy5y0qJamMkpeE2a/Pq26TWpv9qzJkVgSDaEYmR7IomdO+LL73FEBiuCD53BoGWrcdd7Rz4loOxs3mzoPvHRi8mh0k+w8oqrr24PGH+dirG9yAxhwhIKmLvNfW5or3bs/5hTaeljgTonT5P7SuftIike7BRokhB2tXIIzefc5gqDSaQ+mOhSlWad19ybjO4dfP6qBscQVMEnlei4fPNN2J1icJubps+lgWa6nck6xDePwt5A6GJMG++U+lxBnbQqETmUQ5R177I4kxFeaXFy9QTcbuR5jGxuQCxfF95cTAGR5+knb8FwL0jVDVZvc2sCBr1IVf6UPfty+SyrPHEMFQJYo+FyC8vN2UTstEbpLVCCjFyQyiu9Y01IKoSZeycovN5fhZaR+FSGkEP4SUoS0pLXBU089rCEiGaNn+ZLbjNLgxJp6yNfkEuokmTWVCgkqweZq7/B6GlPyFlGWI7H6TGrBrzIhMpFbWDFUJxXHAozcWzx1xAAAAMAAAMCXlPfAtTBtMpMpOsRpKo8VIRJlgEcmiyVQWYMYC8hAAACf0Gaq0moQWyZTAjfwSj8aNhgcAw1B/vvSEb6pp3faJbz1hA5ew3tkHmd62woqqe/xvHR2YdZ4zpzIT3y2vfnkKd4SHkxCdR6svx3x6I32RKBYu+nZTFwz5NoXOG5VHUotE2Q/fg6MYOy0HJ8imJLYIpoORhFidZ0kPyRPf3Pj7qbvogyOrxVjGAMcYe1oC22yxIRHvNtTkagHQt1THlUC5gO/oE71ODq623ptBEUAWvGHQ2nS7CPRUfCi+Kaj9ZC/STot3M9jSEocx/qFB7wLvyFjLbkVyR418LsDC7FlQiRw+M19KPr0dVIUsNScH3zp+rbBpPuRX2VxfXpUNx3oK3EzVnUkqZXPyBlhSSJ0GrwYtOjUTCJAxiCEq0NvH3RHQUVXFZOMvjkGCEHn34yxVkLAEeYflJKAOn/TudCn37Iv/XbPSSArL8Z6NBz2jdJdAwvtQJaY+Mtd2qxZ9wbA/qUyOiE5ueqtWJdI/KAe/9o4j00Hq2+POtPcAk67QLngCL0Jn5SFL0oTyhTAdnfCiZ+vFXYbgQvRTZqoxst1ekaAfYiKcGqbuODOD5XE9U/NH5W6G4hebSTi7QYnd9wwIIrysylpLx8GmJyU+lLzXGJFyDej2Cxn0WDKj3Z7sEvcbkJE9ed7a8H81VuifCI8QW9OAK8bOQ1tW0ZhS488uyiUO/uJ8PLSC7MXUl3e96f819HKvCT6zvVmLzUlNUUuVkv/erX1Q8ltW5srf10R4pagxWqVkDDpp42+xX7v07xr2KCdIyrG10IIwgBrMbT+25wB9eW5CPlbEQk3egD/KMjy9wWBuyUM7XwKgF+/maHYrAFS4Gprm74X+KZYABUwAAAAgNBnslFFS//3MvlKz/g2CKbPxlGA+ObTn0+ZNRP6HEeNTB0wBsz3oGaJzPGCg9RIV97BuqWpXX1LUhSS7jU2Xm93EDgZDaup1Vs9kavZoqWV9QcHGkGSgFASkBnL27aZJK3p5KkeeIW4jYfrMhR30bee33N6crjz4NgDVST3h0wFdyeh4ZJ5CX0HD9JsRBB3TZnSgNfmnicppoj4lD4rGvtKvUt3XnAarMntMAK4kPX5mwpRdEgV6QgE5O1o2vuWwJND0faKLekS4gEYVkNRLmfG+x3CFeo7REoN+jotMK1W0AvAr4chVVj4NFMyaaBZtvx6JVQTbpm2TVGzwQv3bMNqHx0GEBR62kIcbEGSfBlsiwUXbO11UbtatbqtZhqzsczc77F0oRResDTGJOJ/jx+L/nOEjw1AZp8Cl34AaqoMmkFZtHKquEaB2s4CK1AKA3qJdmKgozeXlY5LBpflNy3/c9UnRPKuRm5e8+PoWc3s/EFZ43mIaWtXCMVx+1kBqxMw0K9SdnwaywSeasjr1glAXM0viJKkzO31nOrNOHaWA8ov93lC+0dFW+TkcWi/s95+F/a9LVV/LuY9KbP+azLSaDBuyllE4WV37NCLuTsAOvIBsp0QEKi0g7bAHH5dTpaZuYQt/ZnUVHCZijffh49HuFPCThxnioiqC/C750R5KNG9AAAAiwBnuh0Sf/b9zXWmAIIutATof25G5HXMB/kAcMBrETneDYDcfqPrJUYDkfyY11XL47tTtte/BCXkGR8/54SVRWKaT7DnlNoHYUuS1l64uB8nr4t0No2ASBJ6F3XiVOLYNH7iH20sQZbYGdv1eLB//gsV9KSSeR/p6Ju2agY39FjpT1fD2ehwPltNLc+rC07pTnxjCCxETlaGM2ef1Oe0yQ52f33VNeLDUNZSpSpu7Y3ky66zsN1S4oCZ1nYj2RA0bAsyzIJhrCd4rDTMNojsB+11qi+kblwIVArH3sz9zUBytv5R7Wre/0KqSYzh8GLm1y4wgXNo69q+ZI5bxX5ms9IIadpk3Ho/T5MZkQV3nZ2atmL73VJdQI4dL2Io19I46eSrtJrM25xAKNAsAihIoqglxcjjI4X9EvprlzilT7EamO3vFtxSq9Q5ScC/SQfyM5fL5ZJN1matslpwQr4Mxc4OddREyF/SVgnjtVFjcBB8dL+/pByGGLb5xyjSbzLe/ttd0kbavJkxvssVAY4z7QnI/1ZnfVmkf1pN9oh5cMmimHwpJwl1y+l/kkgll/wf5jDqCqUtIk4/SuifiDAynFzLMcrF/WGSuFlJvLsgjJd+fHX1qdRV6OSPDlCrbe7VcvL2Z2FGD3VjsTdpZYSHJCpnNrK/JAQt/8xrw/1bvjmV+iGXB6YZshUg4zTMZdpspWz70NchvTdgVj6TzpQROY8M1Y1dI4oywBhwiDhAAACagGe6mpJ/9mvjsDa7jXQc5C3sx5W1g/kcVmbJOK8qMF1GSFia624sZoWflNtf3vZNh8nD7iNr41O6StSHn79apEGtQYtcEhj0/7BUhs58bICIK9ZKbM4uRSqLG/MM0JjJn4JfdINvQVDtfFDXOYN6CyM83hFRuD12Tq1cJSmqKIuR7F/w1KZsts4gDPwcixZVx6iVZ86l1HfkvAhIEDBaN3hYu2iL2w4zyWQEwfq5LMM+1jgjw+xQZ6imV4mCsCqc7H3BNkfagZ3N9LHy0BL84ndgSG80pqbQndgIistxu8gc11FnZeIp368GjE64loo106g5zgXTJ4bfNhdc6kkBLh8K3gm9xPXSoiF7sSPIDv2/EjuWv7/LQFn5g9M6D3T5LLKF778Q/+BetggWXq6aNlxH1W5EPA18eW/z9QMWXEhMU7ppCHeV/UG/MrUBFSTii79yTwDas0U07FezH7GFI59iFanRYo5PAAGamt/fW3SABsP+Ty5JGMS+uS0DP72GRnJJc28+ttpJWopZ5YX9FKCnOEYRE+SXWzI3VMrCd+VQtzSRbaTSaFf91AIpu94gH6zK7CxdmmtIM7jA3edo3rfawL/YE4ZnxS4NfxMBv9h0fPKOfBCyGZ8vPa2w2VhywVhiq4QZHQNQVEdX9x6rdPjUOjAH7jKItv4TtDGc9fshFsfGOw54Q6hMulzRToDp8vwYgUjlYXHT8aC1FTb46RVzMDUgZ+O4Pd5ElOvM8v3wxKLVfGKsEWYqWMf2w0FJG+vMPMm34bDoL25kg9JtJhcLN1doShrFSbnWI+0mfnRVHtlJMsANjqPmAAADphBmuxJqEFsmUwP//WaJ4eVXonrxnIE8bbCufStZEd14g35Nt0DTs0eqFT3PxIa0Jcr+dk9TwZKbfbX0uldZUrKZVTkWyHEWrjrX5RbgMxAqGoLAw2Gjyp8Gu+LT11EeKchRRNuGJYqgdXCM24+DEHuP7MggozoJ39EZVLtvI0VrXGfEWHW7wjRbh3OurxNgtozT4pLzAVkrDXFpt0jyLa+FsuxrUBvugVRlFKpvLkVjgGGxHa91mJW6SIN0QFWhJeDCQDnKNYns1Ket2NhT1GfuRsOAmggZIH63d5+Rz3nPFbEAN1Le255PO7oUYXURUjdiICHJCBXNq9CPkpO1oI4Opl9gkL96C39/UG+ZlhRu4JAtBc4hd0ncB7RtG213mjFFeXUcUGfjbCamMy7o2gra8uU49r0ue6z7VNkodJ77qwg0fk9g02gKRQ8Tmdn2skruA7epmJ8i6ecLOp2xM6OoWICXD5bqxz+qjsxYxhlDnl44XreGMhFFRRsc9Y/zgOVw0+oV2XCOCxqUiXRKqEsCo8rXnetzBqvM2/9uPd/h+0Mr9IoB/AI37S9ndZkKSlzAlWqIz0MyZYmphOFD5AA2U2vKH1zHAwzwpdYnCBTF58drJGZmag/eVUZMfoGT8M8oiuSEZt+oDdQRfFvVMbMtE1PvuNzrHeRURHSErk0lZI/7jiUQcZLu3gYl2nQz023qucM5/v72wXpjyyMCI3VMLnx4xOgaKhIspCcsZY3GEyOI90heYjPq8CPF7y44YVpwMaUCbkSZ7MxPG6m8c9a6KO8bBG9o3abT0kpdq3qUCLUAVIldxw0OPiPp1Sqf+95gc7nDToI6CHkRjjiYSxTCr9qtyRkOaOTNr+AqJJG6k04P2TIwOMUVIspd3IfQgT3m110qqTdWxdeX+VS+vyrFQGDyRTmBYvY6mqMt3m6rotN8IV3DKERxK4lC0zjA/KBybrPFfH96TIS37utkTvjjzBhkoyV4cyJTevJqHIVVy7AZMOwBI7AdSkDgAuL6zWdC94lATGk0Z7eZfVrfBbVj4QhVlio1V9egnHge9gJ7wupxZhPEs/boQCIw8YUfnzLU0tRL8jLc+rEJKzcc2P4VX9JELlsagfJ5v8Xr7RqyslpizutukoRRPtyafhq5qeucRrU5X+zDg8N7BLId0HgmSEpHAjM3yIfuutMFQqcU80qr81TLqUymYdJ1XPa8nnnwamf9T02XDu3iP68Qo8ve4v1J+ZnR0Lnf7i+AWnn0Vm7UwmFM+Udp5ClJ/HYW+ZylWBebBpDI3ttfxKcyJmZMVxeE6p2XyzrWrPAp5BoJfJ8+aF4Gtv3cBT3iiuU5yYOmsAPOdkV61c53METCBhdcsKhIPnbg7cqdcwOQ0F9ic6GV+AOP7+BjYBzvhMK7nUqElEgkbXk4ZekN3bLLM5VOOuF0lcqjdF1vtufdpnVyqPalRTgblNa+LEsCDTZKaqOrWRItO0pMy3a0/IAQZhn+El0mShQrw+kU2SEwJM6269KNtzPhe2Vf2jkYddstrFhlY0eMjs1BK/WKzkpt3AZ40VeTWFVRxEmdTcShNdZfNRCTX/OctjMN90IRgnnn1t8au1OGuwHDFOPzNFIJ1sJclJADvKX8mkC4u+bccAhpWGD+SCJXnYNdu/Mk2f19r1VCJQsXGai8xi640Qt+5MwZ0GnN33n6RwNC3UptwwEGARLAtBvN1TnZAAj/mYLMWN2gob07WewvRe4eqlEY7Xdf69fu0epBzf3qn4iSsAq0GN4fNhTx0K1Pbx1z2/JK3Vh2VTjlCKG+4lDEMiLF7JVbhrZUxIz7LO7r3NnNjVg4eqM/KtS+2v/XggFlzcsv6ajelXXBSB7aQ6aN9jhBmwMi2/t4SJbAgxnC6zUFKgrM7f3KW6CLZZ9ybkDY4bLcOMB+u698ykFw7tdiGI35rSk6XpkzUXVuUUXOc+d7xG1VR3QLVQQdawTs11ttoysN1BGuf01/5TLCLSS2BaVtYNSSBNAQz6g83WiM+32znXTLQB9A34MMoFntuan32O9AUfdV7PiTxIcL+nXdqPut96rymRj7Bmkwor3fbbJfYJIRjDiK6iSaX466gTG9dUFW6D5dg25wflnFFzrfZR8MUSqWwOhhavkKSlmU6ZJGmoBxVVgrKb8156c2Mtov2mmrQ3bdpmgIK/68lVw7OvW2yEK0rUoFPkv1GGkAuSN121jQNLZzX3Vq5qhAPQ7Ou6ZLBgNYXO/xRN7/9iEpJLmcDzA3/NY7JsRJNjIiU5DF2ujKfFYK0uux3VK2oCuIQUH16vTxuYNqxUr7b1vr/Trc2i4TTsWsDXLm5ZCQ6KFz5fp53kr9lBbRORvid1vkIL+v4uqcNTr7aHBkvnGG0+NUWLlHfh6XUvVSuWi+dYROqtTvAmWk5HItjlsD8ZovUEalqGITxddH7JNjADgZNb0bkf7+6WsORe9VCmbuxCfjEK/gbV/hsQfj+BzhQovW1v+dDDHU0TAmZvIsmVQ00LWU690/uaNLgsdgJb+wKlOiRKctxzcfkNnR+HVW/VqYm01SAMjv5mJISxlq+U78tm27vAc9PtKrQWMsNMF5wKpNXAAOgAAebNDwiAkEFMaeRRkrKX4+XL5GNKWPWlhtlQe38nCawIEkEiC1w6zedR6qEx6KKmAih4aCE4GX0wSHfXI1ubo1qubONoBr7TxFAfgl3D9w5J4HfubXFgg7VZz303FAR2hUYE5gf1w8rvFBaN5hlY5SMqMlnxRPUSnWtM448DMTdUddtEAdCQA4a6P2oItCnht3KoVQufsigbFCD6+ferzJJuXlrRuExIL/MvSycjg1K2S4qqHCjFOItvigS7PepMZfzto/4I/xxSRxdb8D+uB2TjhVFE9uig+uyQgInseNpekecO+ZTBD+myd6iwW/3AewL3SWTwubQW7spWTpDgShsNh3oEZ+I1I0DLRIC6ssWFFTJsoT5Zi7cZoUyIoY1bIuvIMpkMJMzVlFKouR0zswqMKkLPwZZ44iBlLHlpFyf/qGy1z3DsIdm3XE/FghMypLGIONKoprX04CsPNQV3ubqiAitXdPr1Arx/l1HkIJYk7r8zmCdtoL5G7nL0aB6rQL+1FU1EWEGPhjiqPOfzoE7mIhlyKGQY73lC27OYNmIAT2wqVf+JaKSdedi1brC955Q3JITa+C4d8xeWlWwp/Ts8zeFsOdVSvyXmANfkNPEiL1QtGolL55XKb4r0/juMMHZ3iItD/baJLIoGgToNft7mwIOlXIk1SRcybeb5R9YAzWlv1KKtPY4/f2OP4uvFlIB2SAN+fIsxc3Zp+1BFW0iCh5YsF+T63bDEuDDU66Pfm6xm7FUjsQDei3qNuZCf2h+yKzs2aHRaXqg7II6e2zBlaLyHqZ5Z4vtTrrVR6TwOKHCiwZ9HqxXwvak2Hl7/goAYJQuVPgEpFyUxfH8Py8iOSPodMBpIqfPNOjSAKmihie4CVQykcFkubNXoU+E6a3hMekmfU7CXCDP7PNHvGvxre6+HJdtarX2+TBDrtOWKyFP9lYTLR/tIL1rZpl1iTSlr4s0G9jsqj3MWZS/PZA3kPJMwqhIWC+xgkToIPOePjvotczQe9cUkAQPfomazQIJONdcwrF7scaHfjAkAnMLtLZjsej2b8IU3QqQaKcAYhXceLPLOAEf3qhYFLK+BD5ARuIuHWcjugNrkXc8XXBZAubZx12AwUNaWlJLtSJMFtUA2/ojg5Vs7OxwVfHdPW+F/rr/S9Q21j+rfy1wa6PeJM6+FRUHGdtfjMy/HXrE448mZ0IWh2jCPEp8IlXawnz1t2unv6WogzcXzxW6J+A08l0K4VnYfyCbGx/HIagLyOJ3NJD/SwZBzr7E23YinUHg292PeycBFeutnn0MoxybLo0xH1SfLJtJaO+uYWdPjVd7JwDEc4/nYapDJTFVNRBo3YMtY6Sr5Mz8KUP+ssiB99Iy5bZYEUqLShtwK3iXY/ulSsb6KXx2grVuCdsg4HYBBv+QXIbEFVosFoXpo7hg++3x5NdaUALjkd3LTZ7ptlggIwNxBAzmmEiYBsxArJf/Px1qlOEKaNWoLvrZYCdyaMt+rOPG3Gs5XH8c15Y2j4cCUIz7pLabDC2ZFVCwWake7OExcr5/y5v/1GOR6WAUfBk0pwsyR60GEwIkusXx7DdFbg8injlDzpdkM3McTsTHf+pNadJoTP416NvcybgI4nehPqCbHVLxL4Au2gT+sfRUjE3M+hEOZpPoG0W16p/KLbqm37SADZqWhg/xSKtNamO6+rfOXaC+yfg8FWyr2ZrVdKb66VxcsuQXSxm8cuscSPt3d3z3tQcE19D5RyEaHoEFWsr4CQPs+2stKfhKSi1TAu0X8uRca+/Rb53ed4xrnE7ANFe5ijhIow1/18CoUV+q6k99x3h6M+koV+KmUogtI7R/ex0XRMW0TATqd1i+0XB9mY/YTfkDi4hEewmBjt9d9IcGj+k/BnNCLaJ5IY6yjv8O08CZG84ht7pMz1TrZBsIGirxgbfoRl+GV5eJ4KwDuxkjlL8jRS6Dfw6D/lpGMZ8WL2jj+wRBY6/OXtAVTVviuE11e7THydqFproL82/DFnRfdM0m4LES79nYmSU8h12v5zYPYfSFEPwGpnwBE/Pn35YWi22k+CKoq1I3YrV8krJG6fUSaKZje0q1ZN9sXlIGxmtoXxPxOMqYHCwxELCnTZxRYxaoiupK4qbj5oeth65Mh0kQzi/SlqRZuYiKOck6dyWbbA1a8KKUu3dsyNv+j/nawpQHBBj465tcP6gDIlxE3b09v/pEianPPeFNaI/Y2/amwBgDvhg0dnZSer8fbpLSTTfmgHj7qJT5GQiV7FjVaRIye4K/bvGKjrWbIJs8z3HSZCzay0hRtYTwI/KeyK7hjU+UiA/Mhhbc1kvAE1/cAAH6vffRlcuMPHalLxyVRLb0PU/GTN45Oxbx7qkqeAAAACjEGbEEnhClJlMCb/n/YMHOtcz/wclTjqDGRiSaM+4n4j4Zva+8xCJYroUyyKsAjF1L40rj/FbRAfSOU8ou5HR+yVQtjtaFWWRi1kighr39Fuqia34EBcytE6+5I+mgwqZhE97BY8kRXQp0o2eosqCXvXqxlTPBBjijVvpB4Qjg1tgjp/FXdCk/uy4yV8dBmODFgrvTD5meXZjAJD32y2Z20PbuNYdZdz3yNPHSiFgUws0RyWpWgE2WP93AAHsyRkSC6orCIQXFiEoTJ+OtLRYcyrIl3XxNddS0gxqyIHR5qT1LePPyKY01S/LE3roHDLvqAL6C+ulTnmNNkQc6EjtWoviRwA+ncUeOlAn9eosf00Z8m0cghRIR0DDRmwqihmtqbEAVbGfW6w0Kvs017Goay6psdhmGSwuQvFFSh0tuV2lwzEXZTwyAPtpn4g4ax77vdv+mdFBoXeVMEaGkggmU6XW4a23mGcfopJt4+gitQe79Um+UIziMQGpt+yJjhas00gJDe/Pab6WonpNtxBCCu2gPkpNbGt/wGirtb/uOS1UYzUXM+3HIsSk6cLisb2LdugEoDKTQTe9O95RsIx/RfivPHsQwWomCF8NmV712UW+y6utAFrD2DOvK0KIO9cdzvAsVGAVZozUEAcNAwuuosMxv6XBtbDY1ft0Phm30A9Qd8z7oc3vrlsK7PE2fwduLBiH8tgTwavtnUcvIZj+pUSddqYsnIMPfU8F9J1d0VraVg/EO6L/ooeb3qvJX9x6Wrv1nKNNwzb7IihdEqQnu5VL+lHh9ohdUapNqXTAayWXKsHhcNUqDHJ+2wus/AB3Djn6JPXhUaZhBI2pEHLMvSw5SGpVAAFmkgECCEAAAIrQZ8uRTRMR+TmpK9JX4ktjdCAmelI9X07hM/pM5rUA6+qN10NTPlT1SLjOvwv53sflbKwPYszUEg71b4GboVmzdMBfqJRw85qWLu3Uac5hOotdi95It9hYuRKplbAeAm2YPz6dz7TY3Jz3QZn/bR3aasUcKZkrn0X+IWMZVr6YAOrySHTr4U+rcAHKnAZzxXQJ4C42n8ADUfTgQkQHQoWV+fUetXA1TKMN22w0rUUKOjspUDcOIu1voECiULi/jRh9GwVb29BzBgi6Sp+GaLfmRpyKrVWAj0vJaqgrMK2mp4uCmQKAfr0WFa07JdPzl23IFM8Yg7U7bOA0pE9Hl2yv16QnLWKZcb/edfxL5j2na/j7ghFpYpZO9ybNkDP4UrPwSaLlcE7qSvka0rSfHTYuVWlrpZXTFODvoynPgZ7hqVMD3azZAz8ua2s1PBkzA7O4HdGYH1NVJXL8sBgO4wm7vK8RI7ouLuCuNPh3QUuU1N3342jBq1sptA5hhHxtSfA940yvMGGqh67fYx7WbTw2+TG5ICFQx0r/l3f5NETHRN2XHm5YxNE8sluYaDO/LRvyKKQb3rVWSQJor/oO/aEgSIKyvEQVhP3B7Yr1Wq0d/8k231mC1EoM438QfUcbvaBAt42No9CA0xOR9KFU2HK6f0zMRI0UqL05xie0Tc6bFnJQKcNSrWjzu9+Sxnb22i27xjw5/TVVFTFEqKoF1QKwZuMqY5IdhqURTzhAAACVgGfTXRGf+MlqQHezio5/s+/Z9BZq4qH2Bl/vJ27G53dzTZh6Keiuqo1twHxx0L27lq+BIn1JP9RN1UfdrWkq22iPMfbiXJnt17Qi/sTuZvEGG7SG0M070qNcfBTzy56+W+JMNSFe+RDXVAUC9B8+N1hbHwqKJ+KXk4lSqPnlRrgYBqyZ1gBB/PI7YZoS3huO/Lp5nzr7DQG4up5juDApdE38w2msxnSks426EJZCTv6FXbuiLXKp7uC4wFicn7RKvPvQboX1OYqQvbxGUjnZaBTYxAhnMT+bcjqrfJC1InVSESB4qI6BFGptIIsqL1AUql2Iir9/w974lr02wbV9QnO29eCwQpj8nlA6y4Fsrr0NW7l3LS2EjtzFrmlTDpB1iFXygx54tZPrTcPHDrL0dgZ7guIoYYufpWN4kefgDN7mb/QYyepIDaOKxtI9MO/bNwkrJZ6isQYEe1qJolkCU7PZssGPxJHS/DjO7+ZxPLleYSr5bQocrlCi83dpsBDcwRNov8v2P9/E5XD3Ud6J9br51ungBUM2p+3tkt9a0aZrtfGRW6LOddpwVNCHusnS9nj7hmkKqyi+GvBrDZj1Tk2Tu1cCUHCMkTqeBlQf+EBFxvmhst4T5Nm6hNjbbjyNgwwZ/XrAWQmG0L+mzqGoiOIfbJgpCqWv//yb6CJug3QmGaov/J64m7o8YHzTb0wiHZVujaWJ1gQAb7XjwWzq0/VPpyulf0G5rGJhJZxZxsdvKayBsfo5L5a+uaIrd4wbwSM11SztePc1DgQzwgA/XfpxYC3t5EAAAJsAZ9PakZ/4tEc19NrTXQ5tZOGxGWluYiZP5+2fxsCPeFeSgvDs2BCIjxYHrPTW2Iu77di9ILolDBrsEsZwBX9DmBw0Ns9ldR4au2tR9BgFPFiGSqRlGAYHJ6ALJ9zdaYa8cwy0HoyDRaYMxPRcMXMjpdh0vyEQHCvyNfzjlyr73Y0PF1O7nmK2MuQlFANOU230LVv8YlvgPLrw2pr6HFcLdZa3GKBM9sXQCItV12GwkaAL8iF0Aa/rU7U0oZVzmtd2TJ/YvFvkS24Yqd88YrO2sniLVtDPm2k5s/XiHNb5i9MKILJ62g1EZMJ69gN+5aSldAoc4dsK7iS/TxzYK/UwKXIWGiTQseG0pvvMquYNG8rfs287FvcMGP6sKCj+Ztim1gxSDmRM5+hcwt18k2ILwZrz1WnCckeo5A6tWmh437fq8DNuyJ+dIojmiThf40TGBz1YeRKKOKHccmCh2T7c4RyIQdOSv5fMEBiHBbNcdckn/fDpnqBIlklt/p+ZFSS2KOApTAkRHLWyi3w80papu1FRDF1BnTmwEkhoTw/1XZptQtNo4Iu7F97ko2I6bXQMEyK9B9tbseQZaN9qlLPpEG1dGc+nDFtJX1Z2G7MtCHrdhvkFXlK6Cw9Ev7OrF6CXT8B9nqmocH6EAjcykWIs5Gdd23n4amWeh94E1t1PXg67Id+o20wI3N4AlBARvAwEE7TAgK40O6YQCPXb3T/WSn5Q3yPahoLzn+5tBvCF+kNg5n3mGPU8jVJEB1n3CC0g813olXF9NFoerRcUSEZrhi3XIgSUtPzI3Jup2KmucfKQgXqTLACSv3K2bgAAAwvQZtUSahBaJlMC//uJq7M9ELvpXoCZazlK7UQ5XnIrbr/+KmgTKbrhJ2MMl/7J3StBLF7b1GupZhi7N+zdSTbh+5KZ0zkNMdQR+BqADNC+E28kzvYtPHYtva0AUJV6SfE/L6cHUoaP1qSPE0tRATodfqmWYo7f27q12asVKTBKLFpHEq+P9IiOpa7znnprFbL8WkZzAT8P6rl7mxuIo80ZimJ6H3My4jFOH+oOreST3LaV2ogkKA0tSNFYyBSYc+J0CbE9UfO61Mn3d7YU9U1Spb2EFfe9oWQCTrAIDIRcpVIJsjDGN2QfSWWY5Np8uH3Q7k0I3kBkOVTaBAXRUXoYYY1I7L2z/RwjTsQbzg1clE7BtlegjSf+6hxVKm9IB1bCN76GZpfpO96AwiyQoaZPGGG6igQjGTgAUQUXyhxNzjtJlkETicCvgNHbMoeP6/MfBOc6Ixf1Ig4/psEwskkv9QqRP5HlKpRj1iZL0uVXB34hlNXyy6OYZlKjzLzyNkVarbCTjpJ/TRENOxyP+ypSxLOdb8vjUSaVaGhnKZY+tS/tq0FcLCT0AInfLblYigqQqc/71z5JtTXLNKV8P0Lo31GO4GM7wilDVH7NoaVrtHzZ9I4pUv5Nl4aEMt9UjeOxqUjjfGG+DoeqYDbTx41/XQPs2ofSWjUutAxL5bo6IVHZDusP3NRKzpGcbBWOoNaLxMhGuJZgi1b5DItLhwABEiYPB1omV3T1bbGKCFQVRE9fDqiPMNyE2VCEbSa5e3cj0eZSE3d4WN+iy0pBxnrOtRJxhP3fu2hAnMiiYdPX3/A6pW3Oqdl7TxRxnGptJKtWRA5xHhg7wUEqwldK5DIhK3/L5GJefVdxxS1XEM+5HgTWYALUJ7uzxKx9pXXcMJU/azcPDBxPzfbTaTTVqSQt/l5yK+JsJ7QbbSITk2fYdUnpb1v3dr4AJyr2ptazLP7n0EreKruXi2R9B0tzX9JEp9SGIzz/mYoO3hGuZO8fe5P79t6rAWJk/Szz75d172Q5Hw3FdD0uOWPYjFnYFEidqBYb3uWZOqprWwpWBmfYvbeSDsNGk1ojRgWe8TiJgLRqUvaZez/LnAGvVQkx/BXeTprP9nhpRJWNG0VMPcBwKUqAS2ueiAmJkbo62ORlKYus1SiYkrq/94IgPElhhS+JI7krwI0jeBSv+vdXvHYI0Lpk48mRzWTYQMMFIupvp/0XMvqIt4BIMtC80rLTtShnlnUopJVfkU1RoTSWBoU8EfrwcEm5T8DHi5+WzQA77ZEX4Sgcs+F/8yxivX5t3Hrwar4ZCNLXOI4qNI5hzNUYW4hVHWGXsmNOT8XSN9q59CeuZt+W0KG/kHc36L8x5yuhqLyGRdVXBZUv2xHSPoZVRgJ5SHvuZVdgD+Dqs2spUpnzo0hR9tm2xYlLPgRXcEaxtIYyZRiNR+sF71R1pSbEZeBNFPR+BgcnzFpxiRGAV7Ny1AFG3cTI9vtEsuwGlx9vmQb4KWubm2J1FxqrZajt0Wjj0NzbJkTeZndfrRR3cvAp9SK9W/NxBnOkndO/3qijTDb0Mta02D//hOObACQvjiO10VyHv5RiY9qab8VX9IR2XgiuaMMHWQQ6z/PdRlVTYnFVTMQoO5ASMqdQu9dm6YuMD01DR14KJmw6AVcjtE81c0mGLu5gS/gK+/S1LD/HRCcSmQjlLekQDSddZ8ahXjf00yX2KLPMF/1MbjGKvjpN+AmSvemCWSvs8jkHXPEnUPVX10fauw6bBOlAkG2b2wnCxDLjx5VxQU/3D0Hb7B1a6gt+pqEz8LK9U2oMkWK2rO5kkpPwW+Xwc8KPN7N0+I6mpQ35gpGW0xB+B2Qsjar/KokMAFFFvEWNsVAZPJaR94KesHdTLEB0NRg+DcZ/z9TkEJEqJ0xa/9l9R6Nf14Xaxu8wtlrSu/ulpKOMXLAMZLhYmodSv99uAKgE6n9Sr9qk7TefW+2UbV0BbtJvCFQSqkBG9W6eoeF9j7DxtWZtiRKwhcYmi6wwHqo0xRLamwDeK3i/H1sTQli6167weHzNwTAX9gZCMetOBmsy66aAl2SyI7HMg0OdQURr/5hFuQO4uT9Um9hYApioLxSXe1FxP/+5VLG98aixXW8wEYZVUrw1vaWhrzgI5qbrQ/gzDL56yVqTvY8C2UfQ5COQLBu1/OyaL0qyJd0Mm72lV2IqJfoz+xKfqN5CBWM4FF7TE6ViNWBvupl8E2VNtDORGifCZeHr1rHjD+4J0Ktk9cDlg9p7zHknCqiIkF8jFbN00PuLPxIhpfKINGiTaub1+yyUV2cC2K6Lmjlq6YVsVhyY7qw3v2C2ZuRB6vQsNWfeh6oA7b/x5Syx9vS5z9r3Lsa4DVvf/F0tp+ZOnP5pxOVF4bZrn4IBg3DAsi1oLO/Oo2FPlND24+D57g2qOtFpn6GEMWJnIFxg12V96IC1HRh18jsLyC0GUf1qjgCK3D237cX/+t0aIShhYsce6Ew4COyIqzEBpLv994H1pwd26BDgS0TfLprvEqrRLswGITkhA2cJXCbZnDtmZBwp2EjyGF6cp2z1F8w2k06dhg3BvZ8d+p3P98o8getJd2igj9eo7JZ5AMC6+k0kklJAcx4OZiN57izToWPZ0Q/fqJMm/8HQmTPZp11DnUsh9maYjosmLsWZ2/9fBJ3YQQJZAqouItyexoj9TJKHEoBE0POcXIpGf3cchARjsoY9BiVKWLJRvFSKsfoqo6h0IFWVypjdHkAMVG2g9MHTF7CJmZhDfwS8VodZj26+sfP5wpvqT4BNAufQclku0Oi7DQjnIcsPULZNJSm1EtwtNbh80qAzKh33NdXCp/OHN8JGjBReWuPN//exFD/9+w/b/8o9YPszyFIdz4LP+a4Oilfsv/s/mG4mj7LQ/cvPZAgRswjBE6OEOwvAEntGObgFfnc4ylOTtqyZkSefjunAl798jCtWRxDCvCGT4IbwqG34H8U+7ZxX7yjHDZ0I/Donr2Nu69nzd5eQmbPbvTw6Xi0DUaqjuc9dmv7dhBM3llBDXuxbQOyuqkdOXqZnSBOJ74nYaz3cCt3wd1VncH/TX5uOVFtj5YoeTGjUl/PQ7keBBbAoagPh2/nL2w2siKPX70xuT0Byt+X2M+AOkAD3z+K37UZ7+sc66UAE3E2OE8L6OvNg/tl9Yar8PKMVtHUnitlvHoTGwTz4sXYKMQcArzCx4OyRobZNKwrmcCctbBpu7fMVl5v74SjB/ElXaZopNuiaYEeoNFsAJbivpeqWE2ycjr/q0WvFH07bhuNt1RQpDvWwosDG6k5MUYEBj7Hlp1TsPUJnKJypb7wfqMFGaUtMiIyfQiYfBdPVEa5x2zr0p7IuBZaJLcUsRRo3b6rfNPLTPGSIhbOCseu4XnyK5u9Xy+DBEmyJjjQQI4/GWAoPCmpX4Cio2PGH1ctabUfLHHRPpoAZZ96Yc7E/ojCvp/brK1kLFd25TZA3dNs1/IDV1aRpICHDxqH7q9rpgG5lDe02hz4jZLZTyHYsa3Ok6ZpG3gMdJY+4RMLZl8HXlF8GvieiW36dsLybXgtH1LT3zy7Roa0Iji9Z+SYZnzb5Lw7cxHfUa1Zbo5hK4DYW4LltpbksTVpHL+VgnnT+OWD9qf+SBQJSmubMRaPraaF8gj6RPjiChzz4eB2qSAABtGRWnRDAGeuQNUHPBtBo9TVIivqj8D9YJ6cAN8X2V7X/F5jPxPb3idmQCHmXNAr7212Ak7/208zm5ELt1AKOMe88BbAK8MEvWD3RIF3uLS1wQ/uPYtMkPV7kAlEMtOTmojfKroM0aVtTBVB72jE3U/idTeB2tGR2V5esF62RJrywn7rlpgOps1Gfkh8YcwW6L+JcnZtMpyYt38xJUMsV+We+e9YuDb6dB8QI7N/M6ukBxWIU0HdlC8kBGXMtDq3+i5i5WLo7KXuARUVk1WrfhtkO15H1LswI2cpZffhuUbEI6IVSVLyzf8NwRRegQpiCLP5SlAmZkR8wTA6u3EiQkpVMa7293VvzxpS2Kwyon+Xz8XXlPWabcf//3HDONj/e7aplgXwAAB4u4Iz5JSH230IeKX+lW2kXljhmv59LKAe+z2K7VjPyzrxzBMJa9uZsIOqPZlno6rrQ6us3O6+wCkAPBf4gLOBXcAAAAH3QZ9yRREs3+yHSPWR4HO9+SI/KZtnfZLUTepxlvU+RYWRNLyZJKwhR6u8HFInh9J//CeGENknD5MS6/ZznjkQHFWX0n5C7fj2eQ0BBEhb6SakOWECi1hF28hTAm31eSt3W76d67bjsbAZxxS1P5OPw4iq0xvxXPOQ5ok2plpMnIlE8WD+UVrd6lBtFliBMniVz+r4JUdOpJFsFtUrGaoTdGQNxkXMzwBNadeHlS6OmT//p6bZwaHGIG/9TMYO4W//H5f9WEsIrYAksCmKyItXmcJ3Nb+dQX0ru2r4a0VQJKg+3zXIgKZ7l0aZ6L38UhXzmMgY15fYIQ8BAkGydfvhCSS8LFqc74rEI2GcHsQRGTTwOhBP4YuCPqogm9GqLp0lVyf0lKBlHnkM5UQadtQFTOPEm3r30r3A7laHENtBd07BwHqhDH7L14CrphdXIGH50GWRgzb3FQTpmWwEoqBSCqFeLVzGCUX7MdzBY3luVZwo70q4l3B2MUporYFpAEIlRolCIjfyjRG3e8C8ma6URlsdtjGKXvdUX8YY4MH959OFJCHQvKJ+rtNU+GEXDEpL4LCqAn3VmwexvUDH4rXJrQ2Io9KAL8S5LKsY2e870gjhdg2b47E35KwFBuLpBVWSQpBHMtiaeJLbjy8kdZXXbhu0/nVF54EAAAIQAZ+RdEZ/8Cx7RZ2TsIgWz337YfEnVTrAEnvYkjRe/2PZotm/xb0o5HH1XDO/tshaLr8XGHOzeMcuHxtOmHUzz7KTl9z26NBAz0hrgwFSZOR3F9pJUK5gOM1Wxcm+KMxM31fnYWN0x/q4tfiCZOTh9oX0uHG2z977Z+Et6hwAbL0UyRU8EBQ/887uoy7wX69K+tZO0zXvFch/EHmoZpRHDAG2arvPjuqftVCq8Ufz4r68GW1h3pH0SKRlVVCdsz7gqMtj6Lda4LN8TdoAcrs7uhfVrwFbijQMVJIGQceqS94EUcGIM0ZsbLZBpAK0bKm5SEvEjc5RcdXESnlqT/8Rrtbhmgmh7/k4RJ6BwdlN2avCJwQJM3HJUFDI3Tf5PLrIl4Qoy1yzxF/40XhZ5wAnbx4PXO/tG4Mp7g/HQBLXtQqpahFf1/KrQQwz0McRk7qytaHCpurl+LJlo6Ew2+y4K/S9ij3oYXtKTdVi2WKiWwicXx8uoF9CzvNN5AwwmZsCpVSqNCR68FSmWXF5RLkhxzkr6eedatFLVlcAJVHlrtl2LD8VBm4Yz0bgsrRLQTTUf69sc3TPu7EQ4ZA/FtSScgxDQH2vIEuOZSEANY7UNA4gzOCXevpykI9cHLDNe2bBIdQjsE7XSCnRlNw7tILozJ96MRmwD4JYDS/H1bW1YlC5c+digA5wVQDsi6eHizSQAAACRwGfk2pGf+LQ8+LMFCUcoBPcNlIN5XkmAz+d01bHt5nQt2GVH4Xwku7HcR3E4qk5/s3Kzc8JIPaXFPq1JhmSwDG0mSB0XZFqnrmn/JxPogikI6yQEOg4H12v3Zxw0uyI2ugmE6820+b0p4iJMlp2mxUB/8Mu078F4iIbmprj+ccaOoBMGToD1Bg0rxnHRQwg6TSBm4TdVpCYKTR7w8Hd9ffXv8Ro0/7gNjNpiliq0BYQ88PwcvG1iMvzeSCAJbu9oJH9G/4G/5FRWaH6W1MqDiuErGxuSithNntmB1940uUuzz7+RQRuQD+/jui1WBVfy5sCsAYXmqFqdm7zZuDocIP1APcY38y+sAGhNMlLAeStPRjwdaw6dyGMz2QXJY04Jz3sggEbJbdEZkgokQbaL6Dn9YKagpSqURREYl57mRWtti2NC9GMEXnQMGiDUFTkB8qA7EZdzZ5KtxL4xFSo6Iqxof9gFhrwziYD2N2O8eOyehx/xqvfM5jTTppbKm/wtWt8LGZ+FVOhneovsOF0zEMOtFk1jRTQayCUmqp4KJfSpszKA+D8QXwanGOdU8hg6ScEqgM0lwfyfsP6fXzruSgix4xRJcPUwACqSQcC0SNZUrTHQs5iLfrY+Wxu6WJSiMoNqGQK8UfwENVnsSxXHY/IfmdRcabTwunjYGyK9bGPYjHnVAe+JYubih1bTtHXPDnmMIPrh3rRdYNGnYGDfhJmHV55kOmH6YQmoRSIjzG+T0V8YeTR4QDh7dQvRXFh8WDV4xEpG7AAAALgQZuYSahBbJlMD/9V96LQX4HRUNIjn9p3hibD2EqpoSpVMsMsu6yAmHr15/gFynBi5Qm2wnLHJ1uE/e06OUeY1cjPIubGNIVPc4D0COLP9Pd0xLtwgrz1pW6tkk2l6ODmvdNrSsNp8YpDk2SijAp2whOhtEk3HJQaCeAu7jL3L3Q5i2geIU4oWoGeG9OeBi8xkU3/4moqE9A8/YpVODyhk0Ano0bB7QUtXcqlo2oulGt0mf8onojDZk0+RXZx5oZMQn7yP4b3DSUsJtQanvz/tUIK8b1HM3+iCiFnI8hLJeI0lxpotUpvDj8Q9YiGUER7oBd4Ak3CHWiXMNNvWgE3andy7H0SWH17oKjzZxUd63EcB3pnbvopG+APhY8jRRtXipnrcqNcgUeI0BJ12a01LMKbYDV4KsGCysWWkaGtFrCpmcaN6dgfuAhnrOjEr0Y9TCa4NdLYkpkwGoognr5RkfxTEtEIUS/wCdZpqQcNdVRyY88iNlbOIlZGvdZLw3cPjL2GzApZ3N9cGtk15m1lml9MCeotNoqVHe4OvBVA6k0jX7i106DRtnD6d+QODXIhi2j86KLNzBG95fA1a1yTBIpbEFsdqag+O5Oyo3DzsMjLZXl8N/I51HoE4mUKw+g69MGxPij0JNF4NPYtOW5UZl8z1cOcckq59r17YVuH1xsyHEXi0kMtNmSRwtXpxiDW56+tJcVtd1iFd4cHlSKJsbv5NQE38u5ycGjtIKZPSq+RIOxy03PsNDQqoId29O1GGRp+5Y/RJQVRwiIE4lakqmB593eJ4NU9Y7voJceRuC+MP9G5zxAYYDmUn9RYLLcVAHwlunVzkSmku9055Zb4PU+Z4be/KZXv6XkXr/9BX66VBfljgB34e0bQFVqNsEpkUudJT65L4bGR2eZHSrz2ZP1kR/2I23KtneKTpcYDxGx/V1D7lxOGqYFvIJRwuAAS9jixtalUAAK07XbOX2exIQAAAZ9Bn7ZFFSxH3pEXkkmrpgpoVpK7lZWF0IcEImnNiCQqmT9uPFb9Y9JMtoLJz/mKibJlUN42mCb2X5zBm4Ql2ddAYYHmALk/AgQMbxDcvQnxoq5ey7b6/jYgndvOz+zYtyvdyDsFVkhu306TF2zuaWSC8fkLAUYeTwQctL/WgsP47bfgshKtn9E+7IQ9XJdnIADuAYvIuljtv4h1XHYkzJa8AT7aiHtvcy4dAHyWlQ1UlndoGpmmPqXU3tDX1PX+Jzcd21Y4lPsCAVl1+gez9MfM/FrAz8H81lPx1nTeNnb7HAusWpJnPz1ghWHRjV6EWGujhBe2a7hQ86fX0WYVQARJJNldl7VRK7nkwS7dVSvk1pv+UmXYXzsIy+avhFA2WTy1RINmzzJwICZ9rADZ7WqYKtrlxBEkQ/Dslr94DPxy0cJcSEtmugAAMC3OCCWZfIPW+GVueuE/FOtHmUGVFnQOzucc/TQYRYXAUNCA41T5E4pidw9K9QF4Os0DrCE4PB5vzKfGs2Jew4HSpVRCWohNKbu0Vum3Niv+MtFxPdh4AAACewGf1XRGf+PbtChxgOEfaAd+3wYmNmvlrVSpQo105gHkgrp1Ai8CVtriRNLupVmSMrtjA9K2u+zXaKwGHo69zLgUceN0/WO09o32d9zeAu+6YmoNBREmqDjI46CHWzDZYfljjIo3vbvI7bd3ZeTS9nqD1iOtBdqW/MBpyiJ3Yh+R83qIxV4KgW6Qtln0sv7D5JCIVvRlvVfTuY1YwR15V60NoCr1IYHv13QJgmACZWGuAX0YAtX3fXhYMGOHqtj1qAnKNYbIWVdz8LSnbh8obP81FyqwHuk7HK6S7WpfR+UKulmpXOYcAblJHaXkkccpsGaf8Hr68XlxPKPmzLIQLfZVamAnUfCooS+9QMr+ZzK0XOs7zdYTzgSXOsFmuhi1Co5VViy6rO/dy4yruioCANHdOZC5OQzC9QqDOzzU6C7AQkdbRuLmYY6JmujCuLkQ6vmt1XIuXfALgTYlI3CsLqPo/w41jYvoifkiNmIWGjlOMPh7GyClFepx2qgnNeBI/7DsAAyikLDcylxDl6VkFGXSuNto5XBsUZqyYn2R6xMT8shkD+niOAKNBZSPdxvypeI0zIjopa9AiKKDkAFabpBDb45Fsd2HIaQ5YxL998SlNTE0QEYAKl05tfFQyg3D2Ke6AzokU1/bXxb+E914rywL4hFg/GBKQu09mfWcn9bSQ46YRsL+hBnrILjM/xTihj8tDDaMCNzrBuh/MV1HHSQlaWbQAqJgM0H+Jqfds3cKa7KL5EQRvPkhn/8VL9oGNsZYZ2FbbQ+0I5IntZfGE2a1UAAAAwAAUuqta+AIB2bfXFbGknSGQldgkRC4w1+FrmKRmWAZAMKOqzJ/AAACVgGf12pGf+R52v+979mzuWtRlduIOJ59sBODG4KTHjxo+iwvxH19jZuke4b3odz2vOtXYSWzNZPiT+xtgf22wrQuLXUchOmvoIH7PKnuwikg+1YlFh9hHkUgoN6uhrdlTtvL7fijOui2NZ82kUQ5WfSRUfHLV94J8Se+45MdCNIO7afhx20D4lO+qPJ3Ww6rmsnYTUP8Fl/JPc1StF1CdXGNXHpUB/63FXoSC5l6QPIIyhoacyIu8Y6SNnv+gknbQwAR02SD25EiNgNAr11avvNOTkxNAqq/Py4glk+g4UHcoeWQokPWrbsu2FsDB8fu7iLJIuiA8eV8bv2wNwApmDsqulinZ0nz/zIpk5oYICSazd0FCQiLLrAQKD4Dh6aHi/Gjpt6zlgWFhph188NfdvX4eBTouzW/nVX6koth8CQR3erV3SSN/slEeuwuAi/0Iibo8hMZ3eH8/+fMvKKX0izm4+LpFiXG0tYGqssRowUSGoXuCrEQ68LbssuX5OUiNHn7T7zpj5OgN6+NuBOYKC+re/vDEXTvhjVfoH9eFzx+BWGTxgIGChXGtyoJLFR6RvG9Q+sqQLLJxFdyD2BoZUq4cIB3p5At+I5iPGjJa5U7qm6omv+fz/QEudJqMujPkcV239hVSGjH2M/61FEwVfejihbQJkpU+Vkl38VxLOLwomR44LIetdF+1C5YXvxSnOT5MPJDNA9uUP+QeJ3CIcg8CIiyZV4m2xWQV6v35EOozMuihjSTuyxiBKi4ux9AglHbB2A1rQXDh0eNP8U8MfiBnGbil8EAAAjPQZvcSahBbJlMC//8eCC9bcYnf/+Pjv+H6R1CZAVYjzqIXyWVzKfOeVKhKjb/dNt/utUGGD6xnNc1rMsI1PGHWxBjAbimvijxQHRvFw98W3pruzazBM+FO564i239yRIQ7AfnbsV/+r2U/CnJMHx83H8ow+Ye4GV+mtPw+pudZRAH4UBxA2WxhM3ezMwDHGuZqgGUl1c+cfcQWUGW0eJ11ZgDNgjjiGwz7OHDa01+W+6+UwY7epAtAK6NK47XVsmtmNXwaAWtqriP/RlTFIzo4t8+1W0RVJiD3hX6bfACFzuTRF8JX0ai0N57ngJjOuNSqxgm7RURSml6YZyJztLx4xRRv4xeikji8NYc8IYHUr7c6+QfTwkjSoP0LIM266W8kK8ONpZ3n5dvMyMFGPB43cnjREymXVEQVBeRd52oPFHRgO5FNZsnreGMGyQ2yW5cgrLSXZdD5KKH7ZIcdq1hxaYHvm+x9CzrWlcwdZyv9+gOoWvKxomLQzgFpOgJE4bTF7AeNrJXo8TmGnUc02dqjUD4Mlwvr0fWBuc1Uj8teE1LO5U2E9QXm/EnxOn8kC/DjGJ/ji2mglg331F2IV/U3r0TzN1dcAhYmP9kRr64LimpkbhTErAvvT4bCTjRnnc3pd/zFuk6sO96ICjl4HAepEDp2i4VA2Me3eCI1a2axK0amXlojpTH1jvAC628zOp4viCW/kxo1V80ongzqMXRCyUrGGV4HgIpPwnzR6aJFEbQhHTuq1uJbHxdLJCL3YYLuYdKM4uZrk1p3nJ/xXSZ5BKVB0DagOm5RPqHHYZGIqIog88ssGPkOUpnDOuMWMgS/fPteqygXbUTwjUfca9ABbBiRViXtUt2ywS8lpwsbWY2OgrZP5WZHDu2qFAlnk9uDVV5SUeTAbEJ1gM0VeMlYCokXeDCBStnu3vZoAkTMsT0Hbo3eW9s0u8sw+C3EDBvEQery9dJ71ZI78WhcUjrh416BXkEnHw5PYrZfY4j4S1bM8ilEJsR6cXVZ7ZicN+L6LH3WWcxHL2hvxkNhapxQ7pyuwGsoudMmpVjBp3cbWz7UvJQ4vcrMMAZ+7DBoDMfdZAN+TsrdyWcGswA0i9XSDE5lvfHPLIXKhzKVzMfFLOW9VNf95VA6LG63mkG0VEbGhJyeRcxPorPJZsFZBlkVlGctImVOCMUni6cKDF2t2mi/4f2duTRnhe/dV6XaYdGYf21Y/Tinf7zzMrYqRRYJUNZpQKzYcrd7kENLyufvtn8umNAaE4ldpbwFubQTtNCqcn9dlo6uIaFrMH8w241gk+yVDY1KwB2txVSDlMyOK+t7GhXioqu0j632KIOcS55p2wQzmOLWfz+EJoYUyzsaPcHqk2seeY9iCIm8kEfOu6YW9vwcC5Q7jDzCe1yVwcdNeJ6Uo7RZgw95kNnqexhyrPhaC2g4f9ebm05m+51KPOttJBqlwl2xM/EzT9NhQrvrnHYmyd9ljL+0G3xcR9Pss6N4htmOR3fIC67o4VkHZyHIn5NPaseV4Ug66XkNnkRs01yD03by8EGOxsEHrQ7ZQX3MV5nQ5oLSMpXk4rP/74NGjtV0DgWhI68Y2xEd4RACMfmYepl1rRhAMmA7AQRRrPj5TPidJ6AGNqVzmCikVvL7xub7nNQo31o4VGnV8DcUzjQyvmaEsS3WAg6OCb2XhrwqfN1XXx0DenMlG3+trFVW4dCzSKPMSrJgRL+pWE0y0sgHjwl90uZUQd2of7N1sQ5Cj2Sb75TWJW1mUCBjivYBCP//6H2qOaL6n3Yl91dS3GSurG1UywvWsS1cpJCh8A1chpq4g34Y2yZ+il5Ks1hE0cNbHrmpMrbpNohTKK4XN7wScNzNhnTZuZmhPa3s3EAsoo57HHoP7Tpo2++esHZF9XYUSx9MXUno08uLE31A6DCc85kLVy4Um+PTGZKkEHJwZE6wkfSlFe00OuTrPCEqvGl0R/OqxdwHX451SAuu+K5ssPSiU5YXwFIe9GExXT6hCDmAk+aTKRqbzn3UzBGpS1nGrhpwEgtioIhOdogLG8q1ZCluSRG5uYkK1MudBhdc1y+pqnULSCu6l914wcnE4yzQRw/D3y+kBU95uUAlV5fuWyaLXU1t1Lt15k974wbTTdi+KaY9hp1vQ5rNHxKbvDrQyahHgJw7n+3R6uc2pMrfU3nvIhQrt/YWkrZnMDN871nR3DsWBPTUA5vDZ81f7HFUYhdnWyAJ9FzoYGzYYw/YKdRYyP7GbjLslbY3JUSkxX1Csi4LFiRLHw+rgQVW5ugMhiwpCGWjJcJSBmgGAZFZ44xF7cMzYereFjfEEBzJIRtXJ049SM84Cjb8JcykR7E2k/WmcMEDwvi2caFKdYD9BHvIvY+rncBexWyTVGjEF60lUPc3jP9bVhpvAEfIeTtP/1XF2HbooDXz1w6D7iTTkKcOlU2/njKS59ibtTwOuaR291RWF/1XvK6anpcGgLLFKQxEaMvN4OU5RTJ5uf7pr3AE0nfeECNek/WfGHbujPuOYdpOSNBoK89kH8vw3YfmCxtrZm9SuU3HPOuTffbDQVVu6byAIADCkx8Ep+xgi5KOEsgcG/yxe+z9ZdOBedPNoJ3ahmfKZZmNS6veiVqH+XAe7NqTqUncIYdRc3VsKViB5ZVeP4K2w3avv21F5jXhpxs8kenwC1UUz6v2G2vsU8qXYHUqtLzvtNGa1dvyDFuS56iV2V7SJYZGQEdy89DSRGWeDMfAAVPTBvT3WsFQw2b6uX7n/pGyVPdPE43jv39QgAQxAJglv8i0Qq+3DyMtbWO75Sv4DHjnv48QPnSt0evzqo6L693iSt5hD8sB4nYI+2PkZvGQ/7apUzYwprGrhGez9jSTdkBurdEvclR690ULoKNS0FIXPrH6f3gXVWXXpN7trORH/Ldpm6lH992tSqAvgAAbGxQ33X2oL/ewABY8vwlriik1aBUAPV9qkE0FoaVr/voJWvAAAADAfJ/pIxaxeoAAJoJWccAAAHxQZ/6RRUsR/Kt73oYgT4BRIXj4GCtP5qsZ2X4SYf/xucZD48HXUQLaA4vmEDr9BIeJYnKLfvMqtK+BF2w1RpEf0yFBeMca+91Zkqa+vLzQu4iDeif2/VvWz+QHxSzPCjlgV6hxbyQM6feGmmctSp2qeBmm4WjOmDGYZyxgZTP7zL5bY+T6jmwxqejNm4yAW0fn38rVZxYSDJRMiWC7Oy+HR3d33QmWpESL7PigdgUZr1S7uyyD48LtgcAJGhTIEFKXW+PRJWdMoT9zvYIJHjLFZDAnjJTpsBylJEhcfET4QDePulk0Af3vcNVu0DlLIFQS8P/FLGttREHbquaZXJxCi+Iej/JvGr38Dq8g9BX35HIxwwtCMJcbtgXneZYRDQuFZGt62qsV5LwSURmqmN4BrkQs2UYuGuoXDFlAV6QpBM4tRSt4rowQXjfF84a1D+1XyRjAjEBaYf+eXUHPvNX9ivSSd1IyPJyrPtZyVexQBa/0s7Me5/XcFvrY7ck7iZPqe59dvbOR4O632VdyKTkLtTUp+chvXuFPoh6i3gmzR4MbuEx0SAn0UtcxzuR03Vfj0Hw1He0i/IPdz/nHeZDv/KA6ZhdXGRCqqk3kmv+bCUT/1wAAAMAIJKD4/4IgGF5ZllmWG67w9C5ar7y2HHwSh8AAAJQAZ4ZdEZ/4yPI06wZPVglLj+U99p/LqQ1uIDq9jS36gQAVLKSP4t6FCd5pIGl6REem1O8ABZ1OPJoznsBn72SN1jCb68aezZok9alrgEQdYZshV5jc+lq/AhoXwTH28MByMW7XRUkYuHieHZYaCRI7VnsBk+iFlSc4HxX/NnoFVZRsBq3trYGaHLzcPL9jKKs3Tjgwia4OjF5y84kFPk90bmWgwFQ6EogImAA4Q4tVl9vaqD2YgsbQUc7L1sON7QelhMTzTB8CNhKS9w7futc8eKZVQb3vayuSUirVk9pWSfbLt4gThD8KZ6vSUpae+csr22lY45L15szp7hXG+ALaP4eNmCLKnz2z5Hu81T1qZqFZ8QSmPLLW0wdpvaqGPPKj7ThbuxeGhnevrLwT6Q9TFBJYT0oPMjTM9Lg4mlt2HHObVAeMoXlFERfvfmsO7eekR1KxT5ZOhFAoKkyOGDaDXlu7kvU53dQNo8/T9XQMdgq5rTXe+7ZyEV3urVZ21kOMDuuiTA3a5ggKPfusbHw5XBiEgA+9xArnOXDQqntqT34KaeSnA9lkCuzlz0G9I/ZYk63gZ0Tk03v+QtLM3aXudxgXxBlUrn5Q7naWKpG13fhIbHms9NYClGRYCgOXIL96RlhAZGoTWm07v3fbZkXQNXmVNK0rctwguRIDxpfZc9bOfNFD14yETep5LoF3EJcUiYnnE+o6Yks6tRpucozoJj0XwSzaEpEd7nKMsSIjEAgU446Go7UB+Ci0jHWP0p0oAaleLavSqAAU/JigWhYgAAAAlEBnhtqRn/q6k1emGyDdyH1H9Kw0DJ7J4CcqXmg1v8QrZUjsoY6cD3/zcCStwyAV2cRJtIJJ5aSIPwHvJtuQnYcTyRpU366Byca9cW5Zd4FKAkNsGaa3nxgMclNKwDLKhFAEfoN8MxustF08u5zQUJH+sBfWuKejP7rev3kFTqbtjWQ1mZbYZJwepOAHg0+zw1vWf1WwdkWOZI9RG9/TQjAQ6YrM3PQfggK1sp0DZYOd31GHVZW6ObX+g4tbqxMPG8UaZ3uQZ9dSFSgOvAjqWYYjkzphccIt1c0HHuuy5tBXvCx3Zfs8DY3uH2W8iIMjCWcQbys7mTIDHkJMMW7RTZjIi9ZT01KJj9O6nyz36u/YjkHUYsFuKdinGhgb00PBBt8jeZJkLw/yE0glTWbYjsIwUBiY+XVjZ1AaJdwHre0UguySeawcOCYHp2S46IXE1/5ytBIJrnJ+OUG2FhEmp4zv3ktQuqe6KL7eIUVsfnOE7RIIpp3TzNIjD7H00b5Zo/ln3q41DOtpywLaXfQVO66irXnel0mvFholHNzwpbVAM3emUilR6gv68u7JYMELKQa4iKRXYzOWCNjnBHLN7DXEUXOyu5iqjbPU+rNemIVmV224mlyAwj239ifQJ3oGxFg5tyuALSQqMCIZ2Skp2uzDEpq5fLk8qZdj9YW8YN0BQhs3BJkB6Wc/UgNjQr4AJrHlutz+22wxLMGyYneaFnowc1iacHOCNDNoi12irFqkD5VABEBXtDecg1SfSgZToFofcfOGjzUi9pVAAD4aa/F3QAAAoJBmgBJqEFsmUwK/3SlfiYYnNPwrpBUBag7iMveuj33t8XuDn0izS5wyBOEuXUR3LhGWH1XO/4lAjyemMtDfCI5hD3r2uReHG8jlA3tCDIC+ONKGz5JsmyQKX7zF/2XVJ5uvGNypCFA7vT3qzbom2smHeT4m0wBQz1ptKLJRbhpr+BFgI5f0eqbMJq3OhHqFuZQd5txyo8c4+IZ4fTrb1dDDZmeIuvl4qhDZpQ3mtjEod8lYEHPZkX9TzcTbKRIf8RqBl2bin50QkdPy7NbVJnEaxuDrWryttA0hvG2aBrBFTv69fnnguPryrIIA0bblsw39lNBMACMw9d0Z3PJDG9G0ppTfCFvQBaqOc0AlmWBXUEuiTFo73EVkxPaZ70ndOPvXwebsjQUq4HYs3WkfwVhFCB67qKnnuev7DPaSZQuGDgS44Z6vbcPMxY4RuCAzZeEk/ImTaDsckTo6OGptSq822bKwOI46N48F38JrLOE6fpxm5AAxwpYzMHvHDJG0tkxJSdUWEeB+r3PJ1ux93EiYSQqZDP9AES9WiPHU00jWk3P2Q2G+SqJJyGQiI5ixUUuVCHNBPP9CbAEd9m3JfFbcUNi/9hU1oIOb7rNVegIuJM8eKt693P2vYMutTkKXnBCEAc8NB9P23Oe+/vGoUkkNvOouFBNVGmQxYC3IgZqk94uMLKyARW755Qh19cFeioqxiH17xTlCBIWFCyaDKocgPkHzToXH5jn8N6fdzVd/iDVyEA3fH5GpHMqJfq08LQV9dJIQTdrIkxBWkkxCPmxf1EkPkLYXvTuxkIUA3+Rhl1oB1gmci0oqNNMbnuHE+cbMh7HTBQgeABpBs/SeEAAAx8AAAGzQZ4+RRUsR97aaS/Qa5PUrKUnKLF2QIUxTjXPYwc4ibQuxye475/9/323Nh/bz7PJziEggpTpd6L0RZCMwHCR2HlPfrF3/VOu8+bFwjDzhgcvcDq+yT1fCSQarjMUJczlBpzRy4fYmsTKEVKP/2cOtYWLpRbAg9HlG5MMKdE9qwdt72zkSO2PZMhf9ltuUQjAwrOshbxFGsc9dyM/Aslp8Ddgu21g2u3RldDgxfm3VvDW+KSabw8c+Q/1rV2rC8U4kcVzygWEuCnoeph3pejbyDKDE2NVQDFpFaeje9/djn7jsjrWx1ymOFdELi9cKUMR2YYu42FOVk+anFf/V1vactfqhBu7Wu2kzy7ho52q4tmR/rJV0c7fm7aXmHvNAVMIKtO7NaBmfa0MyUTmLTk11c4kztBalMtJrjkU+oc7+AE3MDC+EK+rAmZBLi6tsUN/n2BF811WK6SNOr0J3E2FU/bXrVIYlJtPa+0ueD9goAAAAwAAebUR0vkc9jaA9t5tGCHFJo1WbVLHbYfukaAmaS+Sbig4nGvgiuUAZDL+aD+DNbPCSYOCfA9ktgKJnpOuFnWMAAACRAGeXXRGf+MjxbZOh7OQbLTh8tuQ9XBv7c2IrG11FyoX7M4gapXF99nyc4ZyOmDOifH/pFq8mHTaQkEHnJRaVVQeBty/jcdEZaq+BI8lRNKe8/SU4QOZO0XbOZ90fP/GKCr3GhrF2g1MCnpQ7y4rb9vMm0mHsIjj1TqHsI9XEis2FcA7efaWBY2WY1B8QzaZ4g2YwhrhBzwJN1U/X3ojH7zBeiiDQwdZYVtomEPB/1IhUJYgV9OxoeAz2c/CkY5QQO1k4VDDUCtrSjv5NeqT+iPuaofAlUcKzBDGmPNYqUY5NlQrf6LQ3FlFYEQT5+VanCToNA2xITs8SI0c4i32u16Q+PPx8PX33svmPf74igTS3B9c3jgn7VYHvwvCyoAkczsFNtYwFkTM8U4v5lIGGMZJ5uAL3+cEBMLAoblAZiNAgXxemwAG3K00vchcOyR2H7YtII0E25PvkiKZsIHLOAmtFHPF/DkFzYziT9Vaza06ogxSX+GoJggV/XIBgp5Fdnv2cHe/VlSDfAAnqHID2Y/WHOuM5jsdpvU2Et1Lbv1LYxR6iIXCEzK09m6wyD2GonqacNy4F2MxzfqHnlDiNzzyzhD7hD1+tJ3jT+bzFvmZIBuaksC1FJg65nzb7oAVSD9yo2gTqQ5udqsaKVUqjLryA9h22sLI5zaOAyGbp0v1uJIpF8SFL7HzU4SFvvePyAtvWrLyPHQ6JjJ0jqnJgrNHNeHFChfhkHoBgjLh8d6apaom0RK6hXp3vaGWJOACak691eAAAAJpAZ5fakZ/5lYqH5+979jR+rEpd6pUB76kXG/0jUSIK+77lvRiVVWqElngW2GaJSF3yRjzkzL/2kDnv9tmpeKrdzE50sMwSfmPN7GaqQm752NlTTMytoPLMjzPQmV7LrdMPFoID72VlwHaY9z5rh8xwWFvuvvbBnvX3uAsUzN3dpP9/drSOh6zQ8SfKbBdDUBIcALdagdCUouWE6U9xH/trO+L9TtvN1VO8NLAUSlwGVW9N0k/74KQItC/KlXYwMwFH0z/jyjdbxY7B+Nm5NsqqbhoEhY1EsyYL3rpkcmkHeWC/4hemSDOKkxlXlRnzUzMS2T/c+NF9LjskotUIwvhKwSEEepwKw6+7fQmnWErXUD8f9IL03M5I+k6oobSRURCa66ynKkiAWyaovJ5bJoAidTQGk+Twc5ARNuqzDpkPYMRyzKEKJoWm92EAXaaZxxcEXSWO0jV98KuTUuBqcK6pGLJsxLEXaif9f8HUvzK8u63cKi65dP89T0ChJj9PQ62lZqeQghjfBJzLgRXpuBSGWOeCnMojH1cHTKsyC97ax35fzDRJa9umWsyhdoi5P4S1WW8KkWcVP+hxWIOSRmQ1lJ9ZzZTp5seCOyTvx/GFqXS6bTzkuKlsQ/E1y3JkJSDn2IEN2TjxYX0zgH9p3TSETwjV3DT7QSS7rdKYgn48Mb2ghcKA46042nN3DOSpQSCWxksVIOW2DjiTORiFQMYPgFfhYNzrWeaG6LHwlhKrl68UnCHv/oZmVUBip5NLbxj3huoCRSfhE8pcEsI48PfVbYoAyqbgDhKGyX8jVyZKmXWU4AD9eFoBmEAAAK+QZpESahBbJlMCI+OU6W2zpiUPkLV+V87rH7Eq97nBJcC4FfaNNqK8hzg9nLNYZHxsJJngq7wsGv8NFSTsHilPWtEdDhvI+K67u/crffZ07yPOvS8N1SPJuRkOJAGEQjQEHQFz5KXv+QnFwfi7OVzICCvGyALgDXLjoosjpBg51a4c3sEpc74l3cTKx4y26s13+4G/55YtPs1kYinkcHPuSRvMSxfLLiC8tyLMLjQaCa7O1nFhn5xq6nEOV1HeUZ2B4ILBAdFULKM0/vsRgeM9qObdvC2Eun0hl+EhKXXCXtujy4iHYuY235t8IMmUSME1rtadqfPSMxFWReNcv9Gr2w/6p7/0XBqTc6yiAwdFwKPa1UA68OQ3e8Sm2c5Bk3AHmbtOQja6Yh6r+JHWRHFy3Iad5E14DgY1AfUMXgOBURa/KsJ45DsIya7DtTnsGp6/PXZAAHHidg4gNDPP8cMgiWLohhFzVKCdwKA1oX+AmPAAF7Xu5HA7f1oSjzwy6BC2pCMcojLFODtuKekBUF8+d17P+ARiEwfrvKVhsA1T/kafOe31at53iiYj3wjpmjorNybG7+w4jDB0M+8kxt6ojzAoXGkAN/O+4IhYXzoVC2Le/yaFrzHKAMA4eaqoy04AL7caFscV+gZX0+AlhKV+wLKWlpoLXtpkdBflLQPuz7Sz+LMPK1ZFPZlPjgARKn/n3FSB8/VZt4LcfaS50yH00xaFoOjVyII52miGM5K6mYIDA67tOs4oQpLYK36ew507kF73S6/K/j1dq2Gxlp79bmsALh022DWxHl8EkmBnASsv/ekh2DJI0SnhUNiV7cplJu3JhOvZO4IqPgohdyFamNLmT5mSCoz0OkroarpsjSsqOq8IVNl7yDdG3VLl5TFvBBYF1WAEKloiKKCaMtFs5aAf4lKnV7Krk7L7SHXAAAB90GeYkUVLEfe2pcrsPWRJmHLXKM5f/4rRvU34DPglwpR/KSo2Grl17l/WVe8Sl9v+EJ4xtBm/5wnzLCx/csYSJEPaTGKu+xRwG/m2JyG9AS4f+Or4eiiyz4ix4MQSmjRh64LRp/7yBiKnQOjeHLh/zu04Kf9BinUU4JuX/kL9F5i/8knLe8c1Ph8phCq9Jt05lX/jSUGZeWWrJLWM/Bzg+MivKlhWXlgd44WuydDaZsSb0SHx/wIBlDJ7/HQ5Jvp7Y74aRxPXniJK+mMnyC0eJrfIwN5/mm1Sp5EpGH/FTtk7lEpB7qhJIjAkUQK4JOd9awtT+LZRyPWik1RNFDDXWnlr975DUIPOG6q5uuHuEr6WpGsfE6ezObvH3zByMkpSRR2XxWLBEmBA2wwRumLVJAx6o5JMtIZR8hOiOUI/eb98254mc8oS5F8GVV9jaBTYJnqWqFrawgBOQMma5ZkyNy08hqd9HShHqoBvtMMaBPf0YSwMTvrZAMstAnM5IxK8mnMtH1RLoyx1VLsrJvQ+9iNefPxQAx4B1nZoTm6wpBE1+KGH0LTVYCvk9Tg9ueGQsDwlflFcUhLoZMxHO6dQ0BbKjw4AAADAAANoLBCiOBuA2xhN72XjSiEq/od0Jd3wkKFjqjLHHhSdj1uvMu1vNgqH70nxuZnAAACSgGegXRGf+MlqP0NdkJ72vV0LCRbIFjxW2gWBDMsV1+TBtDbjZRovkMTwFOftCRAZLWUFdM2mu8OSf7VXrOFLsMWkkgJibiQX4Ybs+cviV8NOcsYhy5+k6zgcx3XtZ8T9rriMUdOJCE9jnZ1J8/B3l5SczEpIHoW61r8mf1sUu4YxVldfj2DK0G5I7SobJ9ItAXhzXabq5bSwaM90hTBv6p0yaCHrtgCGryIWa/x3Hyy3iaOoxw4yuZLSpyx7pcI8OhIp6COVCEZawj7IMEoN1oNjTkkxzUHqDjJ8LXcHDdheMXF7gyFMG5Cl1kcpIpOLWGNpoxLR9GG+IzErkIKZlcPuUySS5V626RCYHkeQS1FAbavefN2F0IYSjmNXVZLynBdggo7imY+yN6ucMlzsSAd8EJqxuQCU7SC3ThL8rNDUSt0/+IwpDGn7n6ySb9joWZRR6nLAT/tETYcHrNkPmuKCF7Huqo9CfVOmfnW7/7ttpEAKQ1XiAThnPOAiqW0u+1Hg9MUljml/PtrzlKtGVTviFVM7qiFtKmfw/aq5LDYn5fZ7oZ1dnqJv2kRJ7TcAU56SbEP+m1DDTse6zLfm6yPiV/FBlQfWxPoB3tpQEExfNVExerPR+9HqW2aMRZSVg4gKfLZE5qF8kXM0zeuB+XTCqphuvMW1f046TXMcxbEUEVBVM4Ng7aQ4ScXplPPtwHLsyZBj9uEsNrDzfZNNXAjONImG4lOmayA94r6rE1WgMzm9RHdcm3xKsmCPRDAflxUqgAAYcRhWHgAAAJCAZ6DakZ/4tiFrucWEdbCCW01kRLNhmIeFKalC+05vZtYKizoiyezJjKKN+l6w4EkQTFydlLiXeucwSzFenjXSwFYY25x50KBXf0YjjXyPyzHPfmjkJ42QFsgt3riWaCqawsKvM1orVXTri+CjSV7rSVvrFd4xu+ZKdhUSXzBySxbXXcvw4v1nmPE8NyPMwEBpPAPKLM9QaN7LSi+38GkFYTs9ez/FZl5ArrTsGXxQXS/i7mv5nLnbaadCdh6FL/74gAtP1Bi+RzMv19yC60Wm4gm3A7yss+D8pX/6oTe3PpNDhi4VCWpwCIfbbYj5IGzdLOdeWJX3m4cLxDEJxeF33QQSBUMnUGny1vC45jCMpocasn2iPFUVouh340Ehs+B0i915o7CbKr5R+S2DiowrjdKTtdjQWe4mHogSOKCBMGLhvQhqWszvLbGJNtqN7se/k8NwmSfjvjbYg1UH2fyj2+Ui/0x6Wy9IKodpWniHKl9L93NSGjbLjuC2eUHtxVrIN6tHIPdH4qv/ISXeC4w7/ewoQXLWvLNq6kfNaKtCTejkAAo0zIqHY4MDtkHcASwBdmBbY0cv5GftVQN1lnn/N+I9ITrjGudINB3ERGSk0eJMBXnw4pqVv3QixhL4wUMyyM9GaUzFnbQ/is1UVJte2GeeJ7YzJ70KELcmWoRwIQz5PWkUwaCAHzKaLRhOjrx706RPiXC7PA1TYHAAAADAAALlUUS586h3b+mhyHQ/p8jYl5uuM5W4E89MsABvhjAj4EAAApbQZqGSahBbJlMFE3//HjUc6/W3//j47+x2kdrP+ynXyE/shMokCpx+eNXIUza2CnDFlPcc5BtVfX3EOEBKpwAIVadgMNVwZJqj2O3IhbWV3kq/hXy4NT3kGCpr/K7VCzUKsPZIgJ18xsH30MUcYttwefF+1sqBxWbe26wgeBsbWnP9P189BRX8GYNvgCIz6E90hTPXBoLgcNTuFB+82L6XM5xQuqWbHAi3+w1lCR31EoJsc89HYFfifUzP/mHE5EI1mk+d2W0nyr7BMZA4NyYuGU55ZNjwiKsATtWh1xfQn+6x6crvDonwCLMbhT3+Nh9HuY5ztS8IUuh91x199J1DKXGC1cuhPlGeM1UUPrtllMQeITQyt54SqY1ty5wCYaadMQgR+zAo0XYhOnuIUhGZzYeG/t7s/BM13ouUb0ABZGLYQwkC5slaFRevuNp/lTVwiAFaYlZQPRndWctHZsnoNZT9FL2exp8hAtXfW+r6nYChm4qnA14akpkg7tfFa97ky6wmNPAVvRDwPmB+mtoduSMrOe8yDBXA6fPSeoKVD+X8ULhWMOT6yU8fdoN0tMUQtAQW/4KRMB/9AzURjl8uEBDhxavP8KCBMAmNRngf0WoAhaxUFWAIGxx2KdeA8YUZ9U0EjxiFdKFffhAuHdhoSZKPu7PiKb3C6DvXPoDlhVfKzWC1J7oFQbHEBel32UUeVG03yTd5dVv/GBsX5E6H7NKw1uxp7WuKHkfDORQxM4n2f+JphsY7HK/vyYkHS0k+uhHumB0l8qabEaJcOPzDscyOQ8IiMZpNSk2elvjxHyI/ijd33I5VrGtH0/oN34MSTw3h7ZrE5cnLjkoa8vj/2+V2MTP6VwH0zRUwtrLvVOvbr0Wf33Fp92DxU0Z4DKbk60bSC8AeC88RPUpfhE2xpb0SSqEU2NTuDn+jizZ1UeiqTVqtAecnRf9vOOJrFRf64oS/oknNNFWLW/SY2BJEB6S6FPyBqVIxg9n6QR6MyAaDkqSyeu9LVBqT85uarSeG7wYVr7S9ZTfcO2z2giX01mK8Z8e3ogkqh0tKWleoD9f3d2geH3snzKlC6xW9IB7PGqPSsjPrKbn8iUQnpNfEP5TzTNbJD7UavsF8hslx1XGh26rYhNwvZEFyOZWuBYbBN7YOwehDPmxvaEzeLMGETA2fTaPeI6/GlLXMoX/bVNjl5ev+RKhR5Z5J0eOgEw3xqCmlrxhZS47eGi587FkVNBJxEFu/BWBdk2TQUb8PvwaQNS3mjh0aytaDO1Qsmp13ywv2a2GQ4BIMxLhMhoFMg2k4K0xexugBN8V1/sNhll7q8yJfTJVPSDU6MrZjpmszKMlVAfKPL5X0zXTWopC5T/+YomkjIOXGlcPLurnZQbylkNy8UU4BkvobR2EXsy9cuSqxH1HHR8j517SeGj2UJAr6abbtL0hBsCMXJWlRXCybc6SpNUHE7iCK8ZKdbMrSIjnOxBvgIS1HHCT1l09IZKL/r7MMIJQ7IT5V9nN6Wo+x4+C7MAPMDcNtNlfxB0/3lGhQrs6fjKenvuwSUczESL15+/6Iaucx1n7uY9tabMDRRc+toebnkfMatKN7BLPlNffVbWtM4G5tujN6XZMqT1Zeh0a6SCBJDBwaB5AMQENCugTdmmpjWY41R7gVcWT4fUHWLTt43MG3nU/+7yHTbF1Lw8VVO4doLqhHqDMgct6ZiZS3zVvMw83NYJDPTGFr2daQOzOIdaKLjAwVT6vnpzpRjHAKnAUIpBDbEwVopO/dI2rHnW24M/RU4pGgkpbcnRXttjpAdsRRVOnGUtTOXZghtjT8SNdYpL7o9PxBlrIM68pu8axJ3LYw8lv9I19ZLPAMFttBiDLRgznfg5xfiOm9Zxa4dGZuJw0OUorSHoHXlwb0go0f7jmXVEn1gmAqOyKwehZGgG7nRx2JpWFDGFMWJCKQjqgKHli9vluwEqqQqFWHP/djQTEWufbwDfMkHZ+nncU56pQ4CO8KqxCNpzRqBLFN9dPtNgODFsQjTXuRxY/Iq1t/c+DRSaW2j6ksKN+0MZXOJCzjnyfoO/QifJ4dXQTBH/KvRbCDNpHC1f//1C57wgnTEpsWzjSDyap0G8NN/8HIW3rGIV4ZRx/gIU2TFvvd1Y2EQgffnVixJCX/FFCE+xWmHTpdKFlSvrGefUAK1umkQs/MA0HLtj/dJWU6huXEiR416qK///+/AENf1r+sxEttTzn6XnM9OTWdfdWdZmzkrTS57LaYsLFxKSRVr8gHZ0EAWjEa1/kMgvyn3wrdcxflliyiqoZRcS8oljGPnGvVXn4MJto7QERxYTF4Pjc8DrcnC0s4/++i3xpgLjnU4LuWzWVnmQyaWv9SmpUoQNGTe1V77m5b6n+lNpUK4FfWs/zI+MCkHkgeYbFQBmyyqQM3A8MfbFfbsaxc3wglzZQqRVFucf9j2sL+0vW5FmNWyoRnv9vce/DbxCnCDRKPYqGiLNEZZuWF1T2ykiv7fzTUgScI1unzDBgRNuvM2v+PDqlFOYmUTLKCesdUXAE6yWkAOTPdfl1X1quUpEZx5GitEvglPuV8rY8zoSMHjYABmLaIPPkWuQqie+owkcfe5UpB8KMZJS7LX+mz4FiXZC770iDdS/XspDBUhN7ooPhIL9aMZGj2ohE7E2mYJ2JH6IE6kACbnwih1IweBPZwka3EOyW0IsDDm4BIC+HhRXA0mITwbZ1cLP5G74WdO9Hnz8X16QuVupGb0QcQNQ2195alulV6GLzHeftYpqI6StupChv+MBCFMlRTuABq1G6AAhFhTUYjEUQwmKacd0m7PjBnx1Mxt5oWfARktBwCGGhmoSjyIT5qXIvLLeWdyZpW6GteNXOGvT/Dw5BwtwUqBbVgEz/cX1r0UskY75Gr1FQBgyPgxymqpvQQpF9lep/9jR+gcVjw02AIWYq9xqQ3sa/QLZ/baHkjryQwDn5Y+Yumgg2Jz4TNVccrlS8sNV59xnOJebMQ5fjlhmdPia2bs9uu2girii6mQJrNkrnc+DPc5aFbWQFH605LLFDzUYPpV/yYe6RWXHoAC0AWim6WOb+ASjb0pn1MrIyOqHv+dqNbFBIlRF7uCzD+LHsRBMr0g05J3S62++ZdhF9nbpoD4U/sOt65lWD2HtlFfRs+bPAyKIdGm+60WxOM+sJL3bAePHMu6rXCr1ZDHAnBnE3SdC3FcBx04GiLdbMqGu8fVjb+OxE5CfWd1R1PyjP2nsSzyhK/MZdj8aTG5MBx3zdbOeTybMDBOrAFlSR64nzYWo7Cg0kwRh/I2yZjc1/xa3pYNIQA+6vpexLCMtRH25GmeHQNwHq3Wbh0/WT6iRxogYXnASAqrvHmyn0x5x5y422XddzPtgqOM60HrkPfpftvLn6CSfKOsJsWFFAyo57Wd0lEqrzTZkayffiv+mBbDA3laJ6L91C9xbLPLJ6NqvjQjwDyEzT52X3bVMsC3AAJpn/az3WTxlFmxaf19Jpghho7lmUN0mab9DvRTjG0qIBGS1ZsJAAAssAAAKFAZ6lakZ/6unruQbWvkEUPiDWkqD1cO/48O76so48gtFW6UjwXE4+AxsUuq0AInDTURNzd4fHkuFbGSlGAHF2AWUN22Sc7/v3IJIaZWs/jCvA6ZxiBNUYBMSRFXzblIPaoOr2vN5Q0T9+vG2uLnX+HXGh7lHrAoG71hqeFErCihfJNpwcghRX/BHJECniXbxsd6tnX1twi+1pcmSLCKjjnoWLDrgFVkfi9/0LxTKMz85VWvI/TpLBz9q8HA+WR/a5397AnhUTBVwoQ+520uCOKc0ZHWSgxdiZgFjKN/Ofm1Ux+jf8rQcnzJhYSCWR4LjEbihQO3Bg16cxXQ/TCNsg1Uy0c6yulUWj5rt0hdGf3cTRrTFeiQfRD8dX7Qb2s5Bm4y4j8C4lru2gFA29Zf3CWGMhX30hQs9of6vBzPJbVR/GgaseidLSDGZh4t2BTrhIqYdRjjsgvfQxKTmOkOahkzGe3rbHElsw52Q1vuT3q6DD8fpuqSkDuP9gX/iLUNHTOKvgDgln4vkh15TN741CanOJhHHH55aSE5mBQ0uh/jGOkBm/rEN8IHkAuSgwi1h28xGdfSRC/TyDjgwKMkwNXOOQWMXZ9ecB5r8gTeQCGqNmCx3wnHQyf1bVHH0qlTxxndYev3Lbhvt7jyxAvKKOZmCKvpY2Q1EyHew+ihz+xGZII5U73arXFIHIV5LbCY6X2B5XB1/Mfn2y+YpTiQYgH40ttuWq0wvW4oGw4DPaT7ss6Opv2QH1BOQSoDSxCRhh8VcbU6uwuEIGhSJMpYk+qCBdWZsUGko30TdTK6a5AH8MOJf0V6AxVtw8WX/EkNx6oGVjF7jSFuVIBT/9wwtSQ3NMaFrBAAACv0GaqknhClJlMD9XRd5zPfoShS1XV1zWKVDo2/+UpplUYblEEfsrI8DvaAy2LCIqmDI7YfYs0mUs/Mb9AGzd1pfmYEKwpyHxkNYsa4Z2ZgCSesL3dYuZzkPU5VRt4VD/EFBf93gkoA5/SxWimlc/n8xFxVEZaRPLDQ6/kEGS94jZdjlHxwz5onf2aeJfH70pCJHPaPnyqlyCFJk7pSbN9qqWhpYqnW+OODbNP5RjN6DI6QzjqL8OKgml+T4X86fcrn59jIgOgidz4YynsKtb3e4cTLcu1j/oFZXmw0AAMpwdxwdSGUQtNKV4yq4pTImFAlQ/Z8LUgVy16g9ALxuOTuu1j7oM3581wllpXb7Hh7QgM+CnA7ZSjyMClvwmpDwYR0BIZnE8dtzB8bv5LfhqMMdGAuypEfpei/qutNw8OHWYyhrg7BYE1iSjkhI+/rYbwc2wVFRTFwxQ01+0K6gqRwM3w9VKnbXqW+bC73ZdeiJYf7AjK4s1ATvHzZ7h2kjqLLvZydWZbqgq6OppC2qMV3Ctjdr0yUSJ7CkbmR53ppQnNh6TOpCy7mNm1qWqwlVuIUwMkvvFk9kWM0/uqZ4uN3IPV8y7UkNsONjoYt/hnn7C8bUPS45c8uMZuQXjy2dDlf9AZc/SN83smlMC7B7loyAopCDKky+2LOsdQZtqmI6AM+5NCM43eq4lhdOAaQ3fmm2AarTPz38FtmdeC2mkLgGx2guvC82dkCB58/2F97Zpk38rchJHklQywO8MEXSGNdpfZYVxiFcVo4xrqP/LLSCdYfe16q8OSbd5Q8GWiiOw/rnwc14tQwXf8RcOd+MFZPkbOuMjRf9c3BSupDuQzFYRC+jUmgI+GdKA18bkz3udqj1YDN+20LJ/68egLqujA5NSwLFxwp0iJP4QqRzHyakyAAADAAAKhC08IAAATcEAAAGNQZ7IRTRMR97aaepZqMf/VplB3mtpEIQhqNUm+PzDPrlZ8Xqw+u6SSTFJ/veVU7vJV6bloF0phOiOAX1MFC+mN+/M3aYYOyECE4W7YohRW/C5kOEc5BvscHizoVJssXL2ZBIU5OIXvRtI43Yp11y6zpVU+4QLbDCSjK8n+0t5QD/5/wC2hd01pMb7x9XVKPX2Zut/w9PjfVVJrotU7WOqZWa4bSEximSB3kUNqIbRPeBny/3jVT65/7CFbLFWQDHnLemhvgzfR5UCgiqfi0C969JlJUKFRW8FNZVxy/ihPDHxpuW3///xw2a9lsv3xiEYCetyltN2z3Iye2EMJngsG5q1P2B7q3zc0mGa4envReaZriISSviN4vRKldrIoayRyCHv37GtHCDf30fsLLWG6l6AM7vzRuZTy/bmtDcRyFobVXkM69lmhBYedSTDad3HiMVL2W7mguculNWPzWuNot9tObhAAAADAAAGXGUJ7PLo4A19GhCXRJHmFaKnIlYzoABe2RPahWikAET5gAAAAh0Bnud0Rn/jIWrPH85B/9w2WZC4Po6ImgUZmFQyXJCEVwRsoXJ9FXpYKI1RUxwpspGmwz7yNcx6ADLOK3jYKI5b+pregtCmgUuEzYBUNQo8LkVVV6wPNsD00Yu8PPZHKGagU45XYV9Xx6jthQsT3cePVtGsQREz18k4gDDfSAK3K5GMzh+eAoOEuA31uEOSzjlJz+pvyG83yJKm98VYXzVheYtIGdqv/UjUTEPCC6EC3631mQv6ZgYcN6woSRhBHoZDsyf98HbC+IXUYxrLEKKHEAyj4LJN5tQvsZInc8yRZs58xpjyMY0OJ5aD7EYYoePwj0VE8/9hJbf+HOhPHpwcODRBBQPGyXykG+04QmwQVdvrIp400p9L/uAxkKKABnwEER2QpMtxM62cMwohFxZyPZ+LCSTU/fRn3VsrgZ74XX+VnzuPwDTLvcUKS62LoQUrO2JNslO/ANRts4RRh9x7/eX8Fy/QhgKBxQ5EaYbekV3wNiW2CjUoC6rLAKK9dWphi8bFFXwJNCR8e50jVfMHopQ9dwveueLAcurRF/m3OmyZI0OX5D7GiyPlHM/Nm+lV44Yy5mbHcvfugOTvIhpsrlhnzdDrrHait4KviAHjObfan+i18bWjBP81Z9wDstvTvW1asSq+Vz2MZ+cEX6SkI+RH6mK8Z/21o6xQveWZ7egLZcijwSM6vUJENt7mBsKe7yBBdVAAAlvEo3ZYAAACQgGe6WpGf+PkY8fDYu9TBr79v97nx+ROO0akd9saUmkeO79S8+hJONoRnTuP0jLKhfC2KWy5tp0NeZj0eG5dfWtGCAlDS8pZkDOfxtPlV/Dkr+gbCcPd8QpfhFLdtPWlHVXi5bJNVa8SXNil0UFIapWUEGNpmOR89uYm1pkIOhsv4OU0CpdCp8tQe6GaoyToDusfvIuAN6xgwVKKg9IDovOKRfWowfyhE4KNTEHsYbl/JcyJsGXIc9+lR7o+qroiu8ITCkQNeEM+1k14uU5rBYVN8MEkOfgIOMgbMsGB/6E1vznW9G4zUcbfIS6LFDGBPftwNpwg2sFWgXN08Kh7eeAB3AcT6b1F8BEu9ZBhP6SQSmc3IXe385vtMRVlljkMvZTNZkEZDNSFQ2IdsJGeNry+n46OWbxtlwlTW11XTZc3Rec0AxJmDdHQnsjE+LTELdhxyjP841yQ8UpM6ItAIYQpmm8JyPJr3uD6GIFgu2V7cC/Nefy2gYP8/d11UliKf9cRmv7gtkO5QdVkdNDZ7DIaTCU/hOFfqkVK3KqNjOdsEPkXb21J8g4jjKoTf1umZUXACRwd8EWfSnJYO/ocU+M2CCCVpHFSrcpHEo4XN11krZkHPvpAEeoUgaEgf2nHp9hNMJaO7EyxVcwblLqWwcfrMSX/A/paEqodpGgVkTy7/IFiBczBAeqMzz6711Y4S7yBSvm3mRjS8YmGq+4N0cg0+NvIsUpPFAkQbKVATAkWTCBKIihVPDd0AFMAAUbvAr7pAAACP0Ga7kmoQWiZTAiPjlTTgB1lqSOSWcM6hwYVolYLDd4vSrnQEIkU99LToYFUcextnjulvdUrs4OOIOasFjRo1GOC+yjcjUG1b4JeolkVzCo1AV8xYJlIde7rkx1RMNwxHD4Wd8uV3dDNE7oOWvVcJwN/8ATjDAei39hEkitucJsLkPwLQn9YIjvwjNARcbGrLaQ/svI5ihp7+9RIO3kYok65rqEm8XZYPwk3euhv1Kc6bedsLWjFEs4+oK+WyzI0GW9sExNnDOhUGCYL9b0crMp38VM97RJRD1sVXkHvM5FgSzhzGxGlMxh+NyZhXeWGQKiHZfYHrzo7B7yFp6OIp8lni9iRcC5HQVJpDLYrcQU1F9a+W5egMNdZhu8F4yIXpsgdz2MH79wgT7hfKH/N9U8DmpTbGa6C52bvv5QB8CmJkKtKm+heME3TUutsYPo3udSuUYbcx6r/gA6HHKtD2YtK37I/SLoAlkRcuLxojDnb20G1N8hP177dqV3stJkz3hAx5jG4dE/0kXl59HP9WJ+sIt6PhY2HRqKjD8zS64Lwc97qW3qjx4bWjgVYPRfzkO9Fv/9F7h4pcVwK9HhieLY9GL+/4I3uXkBXqwYvNZT8CvdGmNI4TtPVVQfzp1t/Yl3INwMMXGgLDG9eRndyyGWfu/YBXD+L18l2fzdT7yfYUq/o5tSEYguxiytKooyRa3+b+WH4PGCQY4bejy7u3dOV5EY1Fr660pI43oAAAAMAHH1HgZGEO+xjwysAAHzAAAAB60GfDEURLEfjjv0VyhCu/5gsxPcpR4yGX/Pq2VjypvlB2jBJJoMuHDTJ95hv8mFmFGDdU7zcycpcgrmDXHrRoAB7nYEIeY7dECg2tIP+o9zA4lRX+NlOkr2n1jp4hg18qq7W7dmUUpeCZWOaj9wfmFWAuoE1s/qpLw2b5EKj7dNaNu9u4mQa8N4DUPF+oBlwqJ5Ayc+8ARXBjBkZTq4lNm9VN2eCpq/K8BRxT0gxZ2v8c0WLAlsX8ISNm2qNcpqDVHrDKEdTvXbrTemfdgUl8884pRMz+UxKEH3b0ibcB08Ci0rAkp6O4h0b4N4BNZSI0LlRiPvqwPInoO/87V86j6t4kzuun+yazfUcPaqb6QhJUhqX2KJU6yfnsKlff6zXWD7jlSzWHGQe3uvu2LdmyoV4MWiZAUTxYNuQGrXgfE8Lv40a81IEsohvlC3JxRbDsjQ6O4Kc6UjsP8qaHFYIch4sNyxblacvd22JU+MTPucmcq+x/VaUQbvWvUjkwikg3o/qhCbX0vTjlS1q5MOM0vCyFNdOAxOaKy0a9hDkSpmNxHtsC/nedGb2801bARoRYf4vJOgAAAMAAAMADkm7zq9XMt0GJ+nL9vAIdySh4dE8jviB4AYZ2xyH9RCxhgSAISoNk5Now8+y6OJgAAACgwGfK3RGf+MlZ3Y1NOHj/9Mh+R9mzU5vofPlUiSi3gcRujAM9n7ECLVBCZ9d5v2Ycbh33VpW40imHXljwNBFKf1eY3HfAKabRc38b2+/4ugvgZPWf2EZY/Gcu9g74nYPY8BTw3fVIlwq8FoNQzFnRFO4ZZj6AjZ/lH3s4ePZxT7dpkZXbk8DHVNHWPR3LRccVIEO+nXCNL9hwUEpRgCPqmcCjv3jIMdhs7TYJ46jpSJXuel4eGe6VI5Ya2HFF+Ld11PVDeOtEtSPgCjVA7FU2mGTiQRELFU5CJwp+4bMFfaaPgmHlTLiYazJKADzTF0MhU83rEUXVm8gL7q4Ng7hBJaKiPC/d/oleIhLHLnF69i6aiFUXVHs2fm5RA1wCEPhDoJOhYxYyC1rCAJIpkkJZtiFMWE5OgVjEGUub3lxy5p4+WRyCACwVmii4OgY+H5kjYqv29HNh9JTlvnJ5b0QZbCg20xB1/6aMjAU6hVDRzwPStZ7BSVgPoOVqBUGRnM6miLYIfEE2GfoTIsAi4/ZB6/R86/oj4hG0GbL7Zv0a9cLKfdBO4+RCXD7u5oLDkPt1Pd4Hu/z4c2mKmzCKsS68shhG+rTZE1fRBAxQFeBVSwMM73qcsJ+mHuaUODyovsvvSBZayX8YW7Pk3q86H3oeVMpQza0fFI7zIpVQZDCvrxAXe+3ACFoAj2eE6wLAXEk/7FHEXO/0LJRg/5ry0vciP1i35b7dknT6T4mmA42Z5YTNa0auT0Z3eXKBuFVVryS51NKwIKVi4c2DTb4RGuhVwlPAFzdwzJuXaplPKusLcM0YF21UpIJYt2Wf8UDcg3gpPqoxcxlaYhSZZ4PygAAcRifpFEAAAJ4AZ8takZ/4tiFiY0H2bys+W8TsLdlc9089qW/NYP0GOhATN1efC3noT5tzl8iY/3M1YJdUfZ5dciwIsq44Zoc7gh6kOCMp96V3FIXL/2GFu7V/F1buXIzJ+hS/cX6Euv9Rx15Rsyz6Gbj5x993Xwcc9LNCdhSVKH/7kkzfVd9lKspxbsy5QsuWza6ayKnMFe76++WxlTbMS0pWmo1qVfF6FUfG9J6p9yPqi7NmZp2bmzoh+qLO0AbElrnaOIp+SizEcqxIes2ersvYmd3Skw54BfenI/yOb94gvXFft70YjLpbPIzJm5bHjI2xnTNe9/huqaAhxVbyH1J8cNW7HqdPG0JomzgXYTuaudXRa82oxVFvhIaqFvsjP2eX0uwLw1NKxWcuhqd1G28aKiw5S49RUSUGCqCKuX6gmhE536GtjJPNWr2uwQKk9YNm1J+OkX/jvWzx3op8l71AAUQp9CDYAlyCd503sWDUmBYTVzeC2IqrfAKuroF+UCo9IdJQid8EgOq8pSeE+GQQGV9MCfw4UWmYHae9vuoEJUsGQSPrvJw9tWg5HB8k6M1fY9d//Ac1ICFWuUnSU20AKqdnkN9n71bRVVxAGEUBk8gE8GHkLOZ3+mjEPDyKkQ4pTTLrYECtGfSzzds7fQNyZrqrHV/S0NnYunh6U6cz0w+NE3A+1PxwoZm4q4j2eKMj6vlubfzBk7eQ4+McUsziCoV/L/P9ghbpJG4RGeYCmWGYJEUc1xpwb53p3GSJ3bT+GxzMVfSYtgM3lUfA4RKlqGxkIAAAAMAAAMAB55pY9v5ZEqZSehjFuJeh6kLmKldStACN5ZCUgAGqG4RRL0AAAuOQZswSahBbJlMFEy/AfLa6ZLsfAeDZJ6gl07WGyqS9WV+ys5TqSAumkIK14HVWs8PVFAyRT8eGmBU+SLSWRwjLoMgsaTmkDrmLsOCVyPAEpycBb8c/ADGlmrqbBKgO7mx3Agkgd0LbPWuUaMxmZN7clLU6XH8eGeY5Zh+7+whUf4wKTJqooFtsm0xpPRTjf902zIWHelV6cO9jVuRCyH0wtni/XwT4O4aNLmmtT9z5tsFT3ftfwtU115xFobF8U48p/kFUp+KQNbk1dOxmIR435y3bWwwZguffw6Id3N3NIf6j39GQeYmL1qD+I0g4vjrkbrSIhFBETj/gqciTB2FJhgE3kwjupP2Od9g926OyfVk06TT2O0InLkLZc+z+QUUuZfJ/viQffkNgepeG9W36N5FMobwVhKpPgO91wlW1RVJm2tEbODr/r14sQI1cSuSOqm4sBtLE177UZ4uwvZapL+5WFeRg3ZlGAzRb7b2VYrBvmd74ODJtv/jpm5PbWKT4T1AxbuLE2HsBcF39nwQhQjmPxfri5syi3mU5ce7aOhLl3Mch3hQIOt32ckupNzTL8bdWEefuPNL9i3Jgr1XxPi0R6IqdMGsbu2APguFBn1CBXZA7Bmy1HQ4kY/7BVWS9Jq8C+IfxLwjYfqrPZ4CPw/2vzA+WB9fhE53cmA17n6SZ4CwQ0chVqrK1eXzSmU41Dsz3ZaN+uSRCMOkEIdIK+mlgfeGX/G+OaYlxCSwp8abAH5AfuKgd9xfABwp3SNuHit7hOf1d1ZIjdnjbidm6Z7bR7KAKb75wL8Bs7jpX87m1+gaM+m4YMckvV8qGlnv59MCVhF1RMKPT3A3mVI+z8rv/LzUGXj6s2ketCs4lTefKH3Di4onc4RAvEEIijiMMw7hYki9t5EGWg7dcqnvDmo3bZeJZxx/tJojBxmutJgFLisW3icjxOY3LI6vqnVRCulvDe142+3A+tXpwePy+X331q7t2dZIq3qF/8DNixjQjv50H1uerjfK2/9lM7dQcLY5iytdPWI33IXFwyAb8x76FHbyT/rOYMQsEzJi4c4YLRFU3ZoqlvV47FCVIE52qjoyuvUnhSvUbSdsakoE0QYXYUgxHeE+Tj4vRNSHVlINAdQzWy4GVRyOJ3Hg5+oblhrLR+6/gjokjeWr+xbjoM0rvpqO3gA6oCOz+k+x3SV9X3aUjgGzSLihZDv3gjR4YefkF5ZpBrDFEabAHMXdFj7NLr3BAoVWBDXg8PBIoEjjTrXyk1VCMGIdJ6NBbXghN7IxSc4CO4d9Z6hz14wshx+E9wKq/P71HQCns9nQUyeyLwtFfEfo4fhBtMRwgSCM5Y7TdCg9ERv2r0Hnwse+LsRn7l56WnTR5UhRia5C7VptJERd3Hc6ZUeOpHFosO5aQxDJrJS8sLMojpXf9cWG+NvdRm3Vk/qvSgt1YTMlh7VW75oLHGF+kOwelT40VPQmYtx2wfyCXkSB648KPY1eRCpA9MU3AetJqrukVkofcb2V3QgYvL4vyupG+IjV+EceH1S8a2BKZHcUFVmjWipf6j3UEt8crgx5fuvZ4WIVF+2JoTQ3l9mcMMrwxze5ywTBcNVOcJtkQoGUQAsnPq0GxtSteF5CvZO1MPp34h7rktX+nuWVLGxPz7F1luLIXmxOJ7h7Uueb+oRmo1gsqdXJdeu1qp6xkpqzuyvXB+gcC8xEd9K/Eviv1OOJ5YeGeKWKmikTlpRUAt5IWwvQqJ2WTZRVpXfRXBIqu/GFSNUYzUdB34yxeoJMbPltPBYVv/h5JSQGhKpymdyQZc+yg9Jbgal8pGSIex/w6khZwG9/tLxHDp/7Be7RlgXPtw1RmHETvI/yAby6FKhWvgMRUAtqgoJddSK3iXsh1nKQQo0zDoDreQdhiD9jrOErNr8188Ul4qPlyJB+1T9QfePuuqbWjqhYnx3pkJhlE7C8FPLcVcRsyEZZmt4DNbmuV1VV2l6BQ39+YdgNmbBQ+cDTBVmtuuadWNt517EUqrn4pmogc1q2eFzf9lY0mLo+n+7Gtq7mhKAnXex/Dkc7rjUwSn0I+nuU9MBJBvMeNvzefC5H79zrHhtI90fjJaLfbOVrJJpDUzFTipkguo6bGbU60q6Syt5mEuTVDyu5ZPnttzYu7pLub88PMYWZrFGrjmP+R5gS8GgoeaY3rMCtrTMR9x+oDvzdD81SmFENvHqnOFofpnaNUkq2gLSI0H1gW/42J7Mc7GXark3SLMAxFZPSIcJEna36DlSmtsEltoPPlH7Y2D4zoHEEakI5i8jyPhdAowep38bmehnXz2h0LnowNBlWmbabbBkP1wYpwtL2zn1JLlqybpKj0QIJnVmDMEinnJKuUpDMayzJ6VDDh7EA/W6aJ3CbIehgOFOp4YUq1zHpBWZYrRO5O10Ykuz2Q7wK07967XExk66VEIJ3hCXrMZThKwBUVWeW29U5FRHvZJj7AKZ54vi2jSjaEihrXlLxF1iZss+69f2JNafen9ZP3JHfSg3JEMib/eYfuf/RPmLAxHmDlVbzS0MadQ8MWU3AnlLeoQxj//tM//z8yDwk5izW9Gp+kjyZ83xuqmtIKyH3CLTYwXlKpbD+HEpYYRdU2d+sF3jRyQiMNZzr/xc7lvgFkKhjSluLEleIJO3B1l/75J4AhWj0lwv8QNsNKXY6YhX74dXkaqXfgMppxm9bLLD5cF+sGcVW8jUEPMkvp0n13NEBd1BBLUeRoESNEnkgU+N120XlA2wKbSvEa+9g2wptpy4N/+DsaDy98oggLCbcj2CnAOROKzus6OPiPGmwYGMaIkSFu0GQvE8cZfngB+aN2N8O5yUNTDOziUItLdRqseaTocOHGhIJ3fqF1FrjCadH1ab8duBSCOiInJ3zHBO3uYmu+vf3UeV2lLFGOparc1caoDeKaQa8YyyqM8L+T71qnfCNGdCiCsBh+yYGHlEdc38blzhVnjMcFCacIvdCL9Z3Qx7FGDMV6PheBcRXbIYgb/v4VxfkfXA+Ah+w+SBT+TmZABhuEuTG7BOI/W7F7CUO5tQegsYnJhba4q6AfOw6Udjh1xBPdAvrpcapN2BNhmjX/ttVbrQAUzWAcNIu6pY9Xf25Zo7iQXynaNpoQ3wx+NaFxWXiKFY28FsE1JUEtVATGiNUGmoqseSufh1pi+XCUpW1TJ6uNMdWAZ8LPrx79MioQAKSMwJBLy1pbLY5VWnV16ty26AzCB9886q2q3UYxsq2eLo6CQkJUJ+zcaZjALY5BbqqqRP8LphQ35BNPVfU/mOIvDnwfshMD7kSiOG4uOvAigicgcbC5QwijDjPgrdj/WUT8acg03aoX1ECRArr9+QXHd8wpLoLnlpItnmQVkTGhbpRH1tjDj1li8g7XZP1VLHbdoChtCyHaWneSGo2Uy8SMxpmW3hHfbeXVYJ+xbMqvll66Vz33Ru8vWLIVN+6gptrnvxf3kpBFvRVCu+WbBSbVeRiO/l8ZuASNBwosMpmW2b8FkE40tLqkDoeeSckMJkJCCsT3mpQ8K51CKg0OFTdH2Goduk5qaRxWU9KCH7RgFumA6/ceVHWBWUnvHO7a6fh4KseCwVoj0cU280vLWAVAwjRVGZXdbH5C7tjTDc6sTS+vm8ZdpJ5IMb9AnTe3I2z1xawq1nVMWD0T4LZOmvXvPYunnEQrO5NPI/ZOq1zy2WFC88ihYrBHU+dBrW3imYhWTPNViwTopDDacJBQWSsHVpsIUjkTl4r12Y5BYmw7JyrnJ6JLjqPOvVwkkvy3ocMLYgkuY8YO+CKVjo97rhgjzB0E/o4LLMqWihLe49BRVJSGlRau+/daMvuDjZOcxT6R7fm0mjGaDhhOHxUVXcLX/9cknIDAtg148Y2bdhIDC1PmSzJOjfu28F9gNB3bVMsD6AAgygmKx/7Tt0uQdHAAAEeZYAAAArZAAACdAGfT2pGf+rp7M7eH9pximnn1SXluIczZkSmM3edN2yUbS/MONqC5mFHtiMSRGzh1/9ICHQZ9VUoJmQyxrd62hFeCnPWgn+qT6Zm1K5UyQaP4lbuL0uNkiYQ5DH8mDtAUZ9CBuUU+zqbTViLXTte4319fAtYOizdqBVZp+3Bc72UJDPlvnjUyHlZ7CbVtg1YplfbeddQxBwY1Zr9IeozJylHYPriQlubgMkAjZdPMTejcNw4fZM7L6qoI6dVHOwt+8rNStd4mlgmWIEVwFuCvD3A9698WW/NxYN0WKaNk+spmvfI5GMaXjJE12wvCIZZeKr5plxUohM1npCehCIUuW3qG3mMknCh0eIK5hrPQrRaud6UpyqK8tGRhQ0iLOoo2igjWddZVHHlE6hRdkzJjaQSMlipi0o44qjTeaRXW8bSqCZe/hg7dNrACn/c4y8wL0dhbtlxdg6fnfGNJNwzJMs5esTOluki4WXv4qD79hPBvcSQUHeplO1Q+9ESvhT7FhPrAk/yjYoKYQMZdEnyKTug0+yF2lpQIKjq8K5SddxVzFr/KEgvhqEzhTEMyvylH/bSCZ9zEDjw3CS9eUapbA1a2nNt1yQEAQgVDPM76agdLmSaywssPcwG+KoSPCD6Ko9j1D01RyKOZtj+rZApayRGl4BFxPn6BZ5GmIAczri/Mz5jNuY3XLNSq4CnCCXbMDbZ7d7uT34GwPjC/1TJ82h4I2e/d4PHSAl/FhsNtfy7wX0R2N8fgnvzFDLFh/LXwfmEsH04eOJMyoMxrDytKYM29BcrluphXVtgBrOQJVVQMywUy0oJARWxADvDubH4JciFLiAAAAK4QZtUSeEKUmUwP1ZOQUBkFQmFKhpEcQFhUXHSFwYOkfnLnxMVmLXSb4avqz1fiXurYX1DZG90oVvqpjAnsJYRexleA5A2DYFHILB5KHcX4cGZSop/FCin30xBqHVRr53jIEbH4fYPnUfk5w33RABR1wDlfly3NmvFHEgBA6nB3ugXeeuLAgb8w+z32OsdtPPMv/1XQrOgITEQJscA0oklVBwAfIek0pYHLom6TF1TFQ7bQ4Xf5uo2bGenKoGoM46zzyhTzswaZk2oqJbIqMFPmT72609RmV4cv0cYFtg1SItH8bQghRv9J3YMWUsyoWwBIAhl2PaLwTWpvVipsvAIEgDSpX67iWvUcY9gWWqRVb4IUqsS/biIiirSOa+SRYQSXwpLFS/VaIv5V0j6+bvHzsxltvy4xvJaSlG2XEJLrXb2gdpkTWYdVTQuCazs+uVzrJ8rKc1WmhFzqgeN5xhy49CtsuhVD9GTb/FHjD4I7jcRf7Sr57uV6hVk/0PoWQaqY+rZF8ufKfUEn/kwvw3yOpQv3nOd0vybkkBgk1mklPfTfGKTQjoYoFYcAejVZPyd0/Hez0UGzSQEnahqsOvHhDXXOLA2GaItLiQh9u3tuaVdeG1YqmoUJZBBRlOk7tTdUAoNUQyRGD10Xl03UMlCbwFvbMAAdPAWxI4DxteIdwKgK6ATKJmDtK1DQ/78tVkQZ5KFFPQ8KZANMQk23ew/ofyxA52mJdre7UXRKBN4NWQ7Nk1VfcY4BubZpohiCq8RRakhTtOZ1swU2mHhUt5hWk61XXkKb9IfIAYJq0kDUUDvN5bvxQR9pLfDxxoGV260bV8Yd2+R14cJoarQgdVkoM8sQpDtGUtd3o/bCd90Rnn+D1M2mYlBB+I0J1TPsIx4MO314saI+pbutsU9CnOAtjyZnod1bIPaAAAB3EGfckU0TEfezKj9Ql6cgfNj+HwLVS69b1q5v84uMrP3d+/9tBbXbGeru+P/Vv/DSeepBYdx6V5IB7fNKbcaEAMExUq2GIibAM0JOn8zccv0KsEiJvpeyL4kEAPb5zsgBXsQXP+aMHpTv8LgImjZp8ghZwBg0foeL+9FUzc6LD6bIcGClkKADWH/aUY7KpLVk+c7ZVWAQRSun59Mu3f45sUDZdKyUskVMfBR40mEwN8c0itDAWoQAXFMEQa5pVzgWwkH3VUCRtGmO2S1/2hoT9BtNYnBwCZQRF1Qy3aLEg18M7VEE1hLSNwgoAf0fUSs0Uvxrn3tm38bkaNR2beT8g5tPTPEQ9mfh1WAfK7ClYomKgvYqbhMMdr+Oz5F9pjfQkX0wq2C6C3BjHSMcI91BfnfHmsqmKjAa/cZTJx2iAomZk0AGcpHLtUaDeROMc9V4pFjjY5kNkRHqKMP7FuialOpkzjeL71ISYb5gjJzr5te43RSfXSPVMc1FcBesdtvLOTgcMcJmKdkIZNIM21tls58ZGk86r1UVa1GNU1lph8DB0PccRdHKwcvmxmg4sRHLwlVicf8tCGo5KQAAAMAAAMDIePlHjgSs+NnCDsEKPACxbxPtIAaMVa9b6EHAAACEgGfkXRGf+NMGYCcGq0az6BNxXLj2+SWmFFsyXpDE1dZP8pKyLHQ+jrdp2fcE3/d48PNl0H3ye896C3xbgHvzK8eWSovIzfYckx6oZwAm7UAuSi41M0dnStsfqeiMGo3/KlGnriKvl9T118mwGmWKiCnCAoI+KrBLJVi2LjNIvMEcTZOt2osjz07Svf3HFxcDFaFKFQt9Fra/cKHUDLroarP3FFasWa83uxkeKsD1tgNIXpV3I9C7KCHkyqNox1k9eCXLMTJFrznmf6yeW+ZHiu8BaO6OPLhUszMuXSzRQP4Z1Jm/lXiayogA6adV8i2DsTZU/mMlPB+EB/MM5l2voorrLicGuXVkU+GdrPvA52qvrKEksj7FdYKfA24WR5BWaAvwK4SiqhIAeI8SFSQjKVjCihoT/Tk1tbOLygK7ZWkiJbeESIE7ESTzl9VFZ6K1RdPvarJR8zouMwJxG01NL6ql3ZU9CEODLkPPS7+Q02YfVD+NmEeZD6OuhvFFtFCCg1uGF3YJXnR/Dtca3hP30TfWbsjD8ION1Q9E491XfoRDQjFMgCYAPKPtKHV1n98qi+DrlXy4h46JLZVFbxYfqTcqo5IHsi/Mtnh1uC77UqCjUft7FujHXV3biXP0Ta+N5tolQCQh6H3ek768lhvSUVOTE2aoIjSWK0CgJmL/3BWChrJnYsfUqh2gNQgAJ607AfQAAACYwGfk2pGf+ZWKh+fve/bU0bUzbbpeYMN4mki/izL3GKfGs9IJ7byelZ9yyFqjJCPUlD0q88m9qAOC5ZX4vHksVnL2Q90CAUsEPR5q++UNl80ZRJdop2A8zSV6hFxvOWZifrmLboJjizoK18viFVWzClbq3PmCe44hp2T3tX5RUSrEVFU62RBB3kMiRTXHskJ4GOsOzR/h1/0MOu/1rcXhl2p8XIksmYY3//XKk/c9/W9Kobf3ka4Tm0lKs7PNiMcH8X+vqPffFGYM1yDVbz6hVr8+wNUWk+xmKafyDeozpGAaGSadUe0B32EIvRB0nIbxeOrkBA/GcTJlyWznINhxJ6K0Beup5x7Ha/U6bNwm4uZVW4fJkMTNauHSKUnY+xolIpzq+iPN0cvvS3l2yd7o9WcXOREUMfg/XiFd+A+er9++/ikUP4UMT471FePDE77bWxC5v3XOKD22K0er7lqbnElTGMTLB4l9E2qJ2MWE1V6SB1ECwEMSnMpwjBgD0UsJol9st3Nyy6hNNeLl4dHP0x8FG9N3TK9atZMw7qsIjwlqtlHXCOarkQkHrmG/5jjRyDaPTgh0P+xJ27C1Dh+tyCh/AzABRmbxUOyDk7C3F5WUisEPvYXxWr1an5DNMKpJ8Y+KtiAJJRriVOaxsv3eMk43hGuB/uU2RH6/2CPEmkgSQpvx0yoeE5X5m2hQGv41weZ789/lCIphF3gM+A9Ue47H8Q+24LsnBq8WBpC+MhUizbaCglDlJL4CH5pUuZsrfGNIgX4h1V6SZl2eK1jVxCqTwsf4sMqZYP29xMwAjAa08DgAAACIUGblUmoQWiZTA//jMEA5StIjn9FtOI3i0cwyAEfVGKMDWsur8t2U8kwuB2BAhLb+La9l5USwJzECMekYhglybRiOZR7tx8gD/XUjvfsNc+bqQpkvmkugz4APHOPJDkeAnSAMK4SsmySJCGaFGd+dO4yrB70LR9SXz/Sbq7CP1wbLw7BoC3yGAz96uxJFT28JbyU6QwInSobPPnHnJRVODZ43BhIhMS8NHvWBCTyqsFbRduvzRQ1LqOKAkVg7zTQ2yuVNR0vZAKK0nu9YLyL7ID1zDsl0Mohj5H9RnmgqaesxFwtTQP40B8PDeSyW/ECNU2xwFXAkhbLPqB/OIX918xLIAttPKpxVJh+KXdbNaLNzO6FWEtROxXR+A8dLDevMXl37+rL+MzcL1cCZlzLBiAhgcRiPQtejqQakEU40y+3FCSPr/1Y8S7qCOfjqeY89TTDbHfE0ie3c3a8Va979f8KAeWYz8b57wkYreJ3TLbnQNeT1JpNgVeHHES5eXU7S8XcpCwPp4BBLJkJ9s1OlG5YGnv1zDVM9XXe6A/oYKUzu58ZQDUji3O+vODzvbjIEDxi1e5wMqEpXCbtZPpL74fto9NItekEDHP3a5MtCBhlzdUC9dopVPlJro9LQ5FIhK+qydOxSDVoLG8uakyZtSfA3YHNeE7jRJX+xUw15He9I5cvGeIMX4SBRwslLWcxw+x7cmDn+q+cstVKoAAAAwGpAAAGsEGbuUnhClJlMC//h3HV5j2uu1XJUKXgExKjtJG1mtjDl+ST4PYLyni3gYNs9lcuLGNjmWOPhoizr6+02zc8C9b2p/vRprYiy9IGTB8ZfBFpngw9jfcBQnkF3srjvNqEzZnnGc8Ln02q1mz7bnWV7+gt/WbNxpkuc+uZMpCcZY8DxLt2rnW1EOYOs0rzF1rqfTKyFIka9CRaQ197ZLvRDcL96u7mE+E0p3bhr37OrTY8tnSRxFgR2KjIgLn6jEYTD1w+m4UdDmy/iXAEoho895KdjqIGwuQGtFjQozXTS6A2OhJ7pG3fIQAv7XYuRap232TkKzu5iiA00rLUkvIgxPkQQEE8lP5AbH7igZI2o+ffYPGrv+nggECS748KpvoS5Eglmgh87aNGnrDN/W3SVwujunBK6CXuuXOD3KZP7Qt48XrrVYwKT0jxiMd3v1J3EcEGskGcPmubMzFMuWhkQaWMdbQvkNIsnPc2qr58CTuuowdeUt+dTmU6DCfu5BJzuYBY+QoEgaRvpb8EI4JC06idML10de9N0B3XDKOB6PDXOUuluxUcvuxxeLKoudL2LC1Z0vSgt8ZhTsvoY8QuEzMJUrcOYfeIlFqKtkwqcbFqoC3tosXMLIDaW4QAqirGe5lbRy68VCUt6ydn63T0pGz0GPnFIJi2PSsM5PauWVIhax5gFymIP1N4pLBZb8qkWIhxFYzR0fmykMmoN9RWoJCdqdsQW0c8rH3AH71FYnhkFNIL65gpX8PugwpS55IMS4xtys7BACB9cuYYDEXqCvePGZUXcpJGLZrsXJEq0MC26dEZqnjjCNkM7qv4JW365igf8Kcgj4+06T+QZjkHHr+F34cHHhcPFu+d0XzYDW9q/yT/QW/lAhMA/xVhhhRnXUuQJk6/IFJfD0H1+gSzRqLsNPxieWFZLpHa0jRpvvNVckWEIosRjc4OJBLrkcL4peg+o8OeLMA/DknT1w9EU0Hr1re93E+LojIxRaPjDkdk9m4h3Lp56BmXFCDlotrjD6MKXCm3VDyY/UYJR/Rr81diiXKmBS4SXLpO4oKVghCjqUdELFQFObduK1FCBmtOhkaFvaUUXb9mHh54SIiAdNpLTONFYoOxp5XnUKTtOKqNk1A8TjaSvLq2OP/6OC5J9FXpgamhRyxhc0a+BtnQxFVQnIS7KDIqauuREqxnVN2RdgyfLI67RoLqHM+bzxO6YylNiSkHpNSaTgHLQcgGlUGHI9fff/6RZSa/in6DW2Os6TuHxVA+ut04h0Xm1BCMWA1p/V0+sXuMRHzSCuHsGuN7qQvYTNkyCKOUw1HVF6v72ghV3YHdOKp+jrTwyQr15PHhBq9Qt6bZ63EQ11iunL2ynry/EbAIgFT9MmU9ae1Sbw19wO4CQmSBRA184jgLVcWmPfXcMYMTjFaJOlYty57MA4Yd9ZkuBvvsOtf3jp96/zYo9pLZfzY3kY+4QRNKDwbnLLftQJWYKCRIVJXDX9kVzP6pZcvb9LpiwWKMChq0NDxHIxDitg+4UIl3Tr7VlyGtU5j7EI9FWuzrIzBhBnM/mpUkf4k3hJ8AxYgjBBV/cDlc0Sj98tkC+Fv7iq0avSnwdMEnC6LgtxEFeNdZ5lWagrk/jz+D67OAogzJ8ncHm9WKukDyZx+PGdUd40n5fHe2S/U/ZAVAkExrnzqCWsihC9A/7uiP7t1o9zHFsjW7SUceFnTLw7xG7HXwbssBf0BwUj5f1Deihi324OeNKC+kJcZ5YzcsWN4FHwWIf2p/61IZ3jPxSyciJdOHIZpfZzbh9HWEENhhyTcGtdm+NDv+I+lxzw+yNrA0Adgtxg9byETJTrW6fuR5O4N3BxSHejitId6IBOYl/jRSg07eMXF72OuBC5TbBXP3Vv1ogMQOvkVC9Ng40bx9pNtGXJrUmp7zLf/RzRVq2kiANEbxZAOlja2rfWngnyvr0+ge+2XQ7jAH4QuAx1xPN0O+4hPIU1133jZTXcMGR69qJuVVKQAIEglAayhvnuXHuTRBCSjYs+0mmK35W5JQUAop5OHPqvylKz7uQ6+RMLmUc7dMqvfm+uKZGywSzxdHD0v1PVB19QjNDN5tl+t6688jBlCPoMaL4grf4Pnuegh1j4F00EiyAoHUzpSxx6WoAh6nlO12o8TJDfun7wBqlQVWVfM4n7uDaJhhO7t7IUSEw+qqZpy7YSrrFgJra1fe7abG6gAAVQQ/ortA0K605AA4zVzjrHTjto65Uv+jcUsw1Z6lnriPaF6gQAAXulPUAAADABZQAAAB1kGf10U0TN/y6txtSANOb2r6czmgjjt2WA9GASFoVd8XTHWXr+tfi4RZZZ5cQo3N6RDxe8Ufrp/cFyZhmXIOJ8ds7WwTrNdN3x1acy8FLkuivMM8v1yAu8NfhrkQ8Orf0rvrzdvf2U6c4lH5aB5XLmEn6WOlFtr7W/S5WjxfUgrtbtoHMK7IVtFAT9Z0O37iJJZqlg9KuC5EOq2fN05lWKaSKQvZYPtiGeDUOtz4pAdQmq/1lh0VDhe7C1+JiAvW3RkkbcxUBUWcxfzjvUgBzPl3IGDUhlPL7JpdMMNvcIW76Xlc8HzJUm2sdc4jY+FzIDBLNhoevrdnR/BpspJrJuofY5TqX3crZDjNEtjQ5ijvMRyr2s/OlEqUd6LlQrtS46f/cx82sI1woy6zS8ZDPalTYOz2KRzMQ/FmAehHPT8ZzQdZoA5bEElC0p9mC05JW0rxSuIj7xZ/mf4ukYLHAfyppt5Bp71zxyCBhZIUbljnejg5ZPolKnnHmP9jR+rGdTGXOlmdvmOL2jLsE0QFL2Lpie0RMXFNGs/E4q8Mr7S+tWJXJcxWVC965Mkzy71FVI7w3I9v7GJeAAADAAAGIA54SQe5srwjcVU50krc9XUcrK3sdN2BAAAChgGf9nRGf+PcCdbPkdl2DX/U8V0OGU2ep6quF0QZ3FUJl8hEIGNRe1VLuUrEN7bsQZpwGbBr+lcjbw7QVyNI5D7o+RrHLfEjLzrJa3GbYHNZZEwH0hdURJ4lRCSRMspC1BWV3+2NvJKDKyYgbnaUqMUKYPJ+G7nIKN7Lao2wR680FNutOKoQjCdEDmEC+q21shNJZi0D0yu9mHdgYixE+Pd7LIoFDGHLRtFmMgvzyL4aeCSiPi3OHtw61NRpXjF7QTtdS48Wb1N/PO5V0BGSIoJX9OOUFPEpF7kPgoPgDMOZwkgMtnUNILFyk7oKYpqRkH6AMIQ3wrcDDhRPiNqNYlbf4ymHkr6MrsXxPcczQaYT+Px3Gt6NwgOt3J39sPMlHzHikvHGklbg9s83o6NNATT3ArTLsvmOhxdpprk0D01+dsxmSHcAiKgZvdtC5Y0cVZl5T8gZ4WePcjAfz9ZQSJSgUtLjxa7RDRuWRVZHOUTesHdnm1p4VxP2yqBJ2YaAmCcIETDIIzWImgQ0g3YnpnQTAjq5CRF5DTm+MeBAEBiEmYZfkvXtznQ6rXOA//qAyh3aNo5xJx3/XCYlo8fkvDQjTrtFcDYrVuXMOeYmxKpljjFNQZ6RYNdwuun52agHETul+PdD2r0ZjXqXh23WvKyHMG4QwpsP6j01kyMPtXxjPeXg6kBwpoAFQ+bjffFexxAMjMaaMwTJgFy2ZKylLqjY1MOSNgIslmiEs5EwqcDhjk7qY8bJNVuElBhUXwPul6Z5/Y9HsD2S03LkW8HVsund+vfdogqtapknWNYzZEe/ztTvwyG4WxwUJlQt1MCVagfIIRc86mqseKVSJihPAABvg6hISakAAAJrAZ/4akZ/+E+99NbQbH1fYHI/VNV0huKBdduUuYIjNAA7xe79MxUJFoLN5SPGYJAQBRANJP86vbXFeFz91XM1h7KO9qzd82IW1mYpMHoIK+2Lo8Nq6+phS86VJPB3mZ24MDtrop648+L6/W5j7rF/xCSVN6FvQfPlHIgiCg9S3Y+3R/YlEK6zcRtppLPBxxkowmlrsLfEUjTQXH2iS2aGO0/FSGJ1nWuwwfr6JWRYIfrZALGobFlo0S3LZFjsovCKqYDR0+MI9zkOaMfHayJ370y22WBmbAmY+uQ2FVP7YzmbEUGeWV0Cp53Jdwxpu2Ce3qYzUZ3K9QYbd2f+A1xAZjCH4PagYtXvmZRRM3tbOmxsUG1ECnwJRUVXirYYrIjGIaeTpQLdq7j6pVFmp6+u75QwxPLwlU1eXzVXMa2C9isVIjpXctAHFOnp07FGGUJvYaqFeD0RoIHoekCWySghFNU5huSZIxeNG0LSB7NTUSAxqUkMkckP+fA/Je/cqaMf4RfPzo89NqhWb5JVyB3UXcH2WTtNBbW3AHbmSnJdNJF0+1ntrJVxr4uu+7nWxMw9MKMGh1SXx1Ec5ZkVi53Ko0WZYsxVEHCM6lhd+v8D26dUvKRX1K55syzpV6hVVYU1nEj+tev7FgZvkP3WbIcEpqJ3hbM7ElBrKlZzcyIpm9qxpPrDMVdp6qBc0WASj7su+JAGWG7WtAlS2S69Ivuf8nMAAJB1+09C7BoZq99f5/etyiK0KApUmmwIFlfNFbCVXOm9FmW4knxAaaUzfOHUK4byAD6ePMMGGw9Qi+1HPCBaz58IQACD7HsScAAAAiZBm/1JqEFomUwP/3aMxFLbF1XfZjbDDeGUN63AaM+G6SrFnKGck9MZUKK7Lj8FnfZpcA6Nh1eM5j4PWFo17V6H4GP6BB2yDAmzIZ3tGNGpCqj/CKKyMCMyZnQi/R47xWCqbUCkyeJrtm4ak5wFllAAJ6+M9LyyAt4yTP142G26PRuTolrfoBB/Zmoz3ho1Z2U97VBNEfNPaf0hyijuMCdlLnz/A+swfmiAsYG9RcnxAS1kga4pPNUBIkrpDd9PXLraaTm/60duJrXAYU2nteACpZWkxN9y015QqySbzQoYLpE4bj1muZXW9cQUQDCKWqIarq/54zMVae1n9OJG3vCxP6G5/w/mIdFvC4FhEt2V8ohxwKirtQJTN2CQueD4un++nJh8WzMUWMWyDCP1BBeNEw4W9g8+jNd8njDGuIiKdcuM5+LzcGbOrdmAwNkJ4NjkwomyVb5Fy9+GUCh7rU1TNkXfbM5OHFXVwgTCo6C46KME275VhxU+6sCuqONkf1eoUeyQAacZVlXtNvHgsZJkMprsCGLXE3T3gy4zYFj5qdHwIaJUyvVPX/CUXxtDR+MqeJa5/EqRlzWFsxwS9yrN6dkSJvN3ok06KsXroO5cDUpSXfuwD0QHdiU9sfnCjD6b+aMVI0VOkZqzd6s9ml3o0h7xa0bN6e75DPD6z011/zZ8JSEr5FtjsR0R7vR1Ck/2p4VXJ/jUIg7j2lofcET8X8dIMO6BAAAB8UGeG0URLEfeiYqZySkka4YV8geTMswvHtyv41jnAYWXh2c7FWfc5c/gptPKycxyi/rn1NLYdh//2KgTieDM9SkbScUO+6ttfmBvyjiSGjQwa2cXlZqWikTEeJfzeOIZhFM2qGS/uxWLJWcXZ668xi0wN/bd6hy5x281UkS7aOrbCjDpGCqzTmPHEwLudtM8D+W7ZG8230sGES9U1wbFBimqQ4KGRd9O3C2kns7cs290dE91I8tREjQWM6xuDYgGVUIt1HwMG1lM5CCmzJc8hA/lHWtLPZV2nFNItoQTkTxdmtvyiYndrOsjkCeJa0O5I9jLQ9HVlNeXX+slQ4PU8fCZgJOTOYuyNvsSFQ3UgTTvoWPHXAfmejObQUd92pgVxadDCF85I/85HKwqIbAASQNJrZKNayIxiMP8tJZwTzy2HVwkjQwa2D7vHdAtt4BPD33aZ/a9RWQ3Cw3XEZ+sOdZjSiDINghi1IQikE6v+D1/vf2O2d69nA8DJ3/z3JwaWp26kheTt7VfuoVmCrCUPmRey2xd6OWZJsPJeVSLcl1h0z9YEcwsTmLAtsrAlDRJrKLjwy4/1eqpAAADAAADAJDMuMFJaew0Qc5ze4iYty1Cjb+U24cYk63OtujhmlUpOiKoGc7PYBzxI4KAdUoobLy8AAACBwGeOnRGf+NJB071Rqaf5Bstyy7HTBmv6WC596JKwVYydUDbG02Pdy7ok3ZKhgZj7KQ9rxcH+iGUMuFDlW0doz6jBCkHH3HKFWTs/TbH9jMJ2ozmt3x5YrwdvXTw6z4T9/V1sepSlRR91CoaPaAepFz0eAhYXecs0t/PlR3Rf1a0VtyIOKewNzttp+1JhAxtjiCnvf8fCKE+oElV4cZ2fQXisXVA0uxAyN6bfUz/YUwD3f6ASPPR6RIYizjBplPslzYM47gfkR52Yx6yv2QUjiazgF1QIYkDTpeIlMR1Cmb4MLoaWHthR0GluwztdNxuwFn4OgFAEbz6onFBBB9ghTpslDT3KpZC1KSl94qhr/PPbtVpyP1buQc/drP56e/pqksbO2A6KGePZsz0+M8mVlWx8jf44hnBkXyjaFGdi+PciZymZ4lprEow+Qr1dOKMJ7Vuq16Hhv8GAw81sW3RNlYV7wiGP/kZ8Ylwz0iOHjyfqbDdzkTInKK8lBFizhFBWAvYQDCYRSh3pKjC4hLP/1Lp9nBCzIQssE5clc4V7d8NL6+Gmz9FuBxDhZ9YCMSncljPaeRlkKH89g10rjAybfX/CTUyTODzlO/JCFgqJpMAe/ipliGR3tQer6f78TbMvvarw+WydSqqXnk7ZkQ6zg/67jsU30ak9WP+qMsG5sQwgANx01GCQQAAAj4BnjxqRn/i/zBpzU2rkQSelG95ZwWM+Uga7FeMwPsWVoqy0tpXJJtU8sfRo8scOpM/82AUbSVuqfObUELcAOV0tYe4TszqbIjngJDPkyVQ6Ywm2ITJWb6NDnQYz7ySXvooaaZFA5BE8/jGdPXa9w8ugjIWs21N7yq+qyLlRY/BM16a5u5YrHANRR5elbGre4HeqH/ZSmYc2LbD/bZ8yXlxL2A+8ZJzhKfbrsEVfX1So1xrzpfDwTvIiZ6Fz49Pl9MS7J4KN878y1gah2mlniWJ/HWMvXhzbWwTxI/hiiE/Czgg8QfnxOWYE7+xNmvXDM1tbQORRDaxsQuzU6MdszaR6ufS4exRMBGITcDiUcBjUTQQdJo0OJyMz4+0BLwq9uM/kNzFG2VwwEjRm2Ejr4CkAvLIQ5rkFyKODdiqhfqCgQrp5bXvxlvLl93sF9by4jrl/rjDetMjjUGKEbPRbIOzyTVAG+1psT5gtsxXHVh75Rn+qLopgjDDitziyvfDr3fXTFVckYh6UDdgHnNWQix3qFVgfvdVPHJUJNImSIz+RlEVo9qVIJqAjxsDNw7oYxsAgy2xhYpMLN8XEsW9BgGmEow3+cp+e+vyJqd8VSTWeoGaPmYD9EcUjWphmsoal3jJUVogkpZHp1bKQkkgfcR9oO5OKChzRYhaNwehopFSgklOBHovU05qUIFzICjM8KnBKI60ZUDaqsAM/mK8sSyQu934KSTq9swfku1vPXieaiU8IQ0cmNgAICEcFvKnAAACCkGaP0moQWyZTBRMn34ALd2rA3I4QNp17v4bagMlsHqxDS9nUfAFtRc/9tHjuooWbzYw2uT2ipogj4tyoU2Bn+ba11wqMuU6kI0A1i8OGwUTbZcKvZv2+eURnXwmxFWSqs29jv9vxD+WxF/Nr8gABZ728JGSqBUSa0fCjvijOUKzkFgs1jjDLl2m/INisAB78IrgUqo3KvMag3zadal1l4rts7Bxje+LDDp+HV7trsYxJNtDdO9apZdDLfnXSx6d1ClZ/DhpBuTtd0vHdx5i3PvmrqnKuFHDIR+gRb4xScTeGVwdHDWqmn2NAKKnGWPxvpnI/qqaB2LNBThRP/eOPq/5O6QVaZsJyI5xCrvX37Qib27GR+xreHDBx19d7hqrFemMwNaW7kWbB5lFEyELVtzw4xt8TZUGta/OtH4qKgf3mw6En0UZ7/SZr5/v8jtVHEn3Up9eOFA0tvvucL5z8i1jmeTfvWOVcSmVcmNkbAdav+rLYzCU8GlLY6+hdAVMdjjXedThifOTGZIh8VmQ3Tyt1rnL28gj1flg2+KC3OOUJPa79piC80E9rYlEP5fdVfH9akIDXKXtUMMwGnlVKO6iYdRJZtEP/MjjbxIVLPYCaJ6rHl1qceEf/nl2FgfCNBu6u79g7B6XIUWS1p4RqE+f8gAAAwAAAwAAAwBcZymbtUKnhAAAAwASsAAAAmEBnl5qRn/i16RsHYxKecE2DeOCWd4dBvL9ovvmQwEMQ5wxlCkVLKO16pZ6vXRREJLfFoO5/PY8p3L9G9UI208FQ0NNMcM2EQ+mlWCIW3mVNmznXd5o2HcOyWuzAOremrfSjfwf5ipiMQXhgivXkiMABJBkq6ocBeO+ncMIr6/vuF2kWcLDg3MwWy9JQgYFJSBo9QJNZg8bYdbGgINR6mVAqu5w0vgSYDlR7mOZWFAQyW6adAlcGpfEaFuL7ngexWRxMSW/QJr+GHS+ByVUiHcxZdZZxm+Jt1UD27KTsN+opY6H1xQ57Hh49Ncs/Tu2SlCycF5g7MJ4Iwte+IDq0lY0tGltgr9KqySzmHoTro91IrtYnsnpKuUhJI0j67DdYnpZqgvX2201XF+hDIYv3kbU5hodiJx27+yeW09awus18VQdq8YX2Ar8Uq5UcY9sOTC1NIvUv+gVaKhGTcIB4m2OtAxjqbyCnU2lJY0rY/coF6Hu++GJPgdd84jZ3GQH8sN7WI+UhWdiGBY+K5+QdcsTfFE9ZzXOJabZUvc/Ld96OBDB32ZAZBkzCIKQ1Xc4IE7wE22UySpdyK/1p+s9QpyqU/l8yLrQ+xa+LX89kk+XZOAreGjKPicRzedJC2yZOtkcnAKtNhBrNtG5tO0cl6G7m2jgs6RaYudpr/oovv3snyKv7hjx41260YlbE+HZRsfH2Mz9onN0rX3P5bKlUIHakv0Yw5kp8oESXWupTdF3SPJBIbiQkZDG08XByBeOr3LqB8U15+L6ZyZPnhDeTSefhxROwDvyKFQ4ImN5dif4JOAAAAKKQZpCSeEKUmUwIr+byqxfekHfcMUbAvPQP9yLxsQbyuZwdbi+l2qDTOVhgfUnUflv9ZxRkwkkl7fSWESp6SuEz21Z9cI/r0QimKRtFfhft3tLJUlL3/bu/NLVk3ClgHBD6lpHeMgU/fwCmAH0or2+Ig3C50z21lRgT0I6VdKrHABDlwXi3NZ2/H5FIiopzf4vjfH0FA9wkit7L6FXMXC9zlstjkDxUE1836/xkPWEwCqw2V+5S1sTFiw9L1JOSv0OheOlqaZxBvWPy2EVVoG+zsWSmELyJnLCXzFWE1QP+gBmOwwePSFUgnCoavYQqrMUZMkwUgPi/aFQYxOmp6s2gOS1IbQLDvx1307BUBRw5tz6NLgF0XboGmZPilr6gsnypxtWNtpGerHC/QAMXH1NzoOfF+Pn759EP/mcqIhgn/xEiaDL+GP+0HNJ3/04nFcjcEb/JaGaLBTyDKnKIFAM2eLFIBJ5i229YIvrkuWeRNb4HMc9CJ6G7MNpwTWv4IE+Yx1g58IXAdNQrZFzII5XXjvoMVwCAhGG1bPSDcVxh0HvPfMyy999OQAdnLN0B9dy2bWTDyEAbo5Iz4OFIRV3o2nVci6XLLCxpQhH6xr3/lFP9pegSNV5AbwRDg6u5/fxF/z549vY+mymLYtD5XN86IXhi1abnmIlrpcZ1ORzZ6kkknVYaR8T62Y5XuxFk5yg/vrH1uEOLFWFDHlJ1+7I6EcqEdG/OnnTwQ5bmEFPx7Kj7PlyF6a41eIUT4LR9JFE1YZ0gp2AomIhpUq0NwxPSMe7VCZNCaHckryPfFZVukNvzGa6EczhU0T99oF1qVaSlOVAgVW5CjEh8U1++MRGpcK8cqVjDYC6iYEAAAH0QZ5gRTRMV+DqS1VsybzptHjJky7U14gqjKG+1qY/IaB0+qYFQfXG7Dx4ZsiiAiLQ5YeWEQ7vbGSp1CBNbsu8xPthb7O+gPPU7N3tt2V/mcZB+fvog2gfk6RPckIlw2Vc0VmofFyC0l0s9tA2ccAQUlqNZpiJ4i5qT4n6rqcjs1QYe+DfmM+9SAgXtUDYJquzPQnkwlTAiYvzDqPVga2r5T/cy55qM/DAR7TlYGPFMs95voHgLxIntVKb/UJM1XyBm5sVk1OH/+BDzegMKbYwzFLZX1h/bdBemOK9GT9swBsc7JC8dh7jG4KIbE8kUG5FVTVc25FhBmDZ7bqEqg2d1Z/7fPb4Ae+DwYZNpOgBbMyc32QH4EO0hbqHG04O3fMxJI+1Q2AvasMa6TQBuQ6zi2VmeAe31MIgdY8UTj98d0C+XdkYsSW0Egzp2hzrZJu/yN1RRq85LnafhkbcRbjZVIWnpKbzDqxHMwxkziR3XoE+pEhGBI6yZOaVWD4w3yzyZv1dWO/mEu7qnAOSYHaC78kKh1NElYD91Rhqs+2IoGDjhu2mZ9MzqYy5b7DSQizdKCprH0hKyRRCgAAAI5AABXrYL3YxB0Bp7txTGYrmzTQYb1M+x3htBvD8m+/UwtPCGK5gLDWIzAHY0s/vkFPdhm5DVfAAAAH7AZ6BakZ/4tiFkPQTxPbq8L6HqsrhYQGA4UnFZFXuxbFEwQfOBW3ppkQRqAMuR6UJSVk0C5CmZd8GXDlyEaJdrSgz433i3lFFC2EVsRxgp2zNylIZ4LM/BTCEM6GOHfmJRJPapyo4B7BuDGOvyfII6x7FZo4GDpPt9yVHF8V47ecYgaD3cSjktTY2O1q/bgwX8w14Vig0WxwTIollfdCBpKBuen/G08AH60VRSS0ierTXryJlIKCQyl4tHFPkMLzty8iHX7Jt1ibhpsEuGefZK0DiOHgQy1bcw7P4rrXvrPhOrtnx9gR5sBt8lomSpM3JkCRjWWo9li3Api+n936HWKLJDOWIdqYkD+/biQgzGCZ9UtrLekoGYsndbIH8zKOyG+rkiqK6FCA28aI1qaWtcRsERGw/ngAIu/zqAPgfT5QLakkF9zzfMvFuSqcyWNOKKgOzoZw4fduqHj2pH7q1k3sI/3W3E4obBro+vsrMkBzLGuVWaLSXl2AnLNmfUskj5bw+isdQAO5wiCCvzZc/74q8EwEkJMmnmaZkbmKy7hq4ZH6unVVYesCv7JxrB9U/JmZ1XAkDHasEP1GOjvWl3q7xqkDo26A9uYGJLUM9873xTuUtueiTgM1Rw3wGMNayG+oMqJSeegAAIJpsqVWh6/nzkBwABZKiXbzBAAAE+0Gag0moQWiZTAjP/jBLLfK0Bt37UdKaApsdeJLFUZWdYB76ZDaeGm+GXURnasjRBOTaKTcFm//7zbEZV/W3yz8kQ6ikDbocUYvxi0swgSqEq6lK8mwgB1y6+G5ZrdGIAYW6qqYizDW93ZnGqus6B3jNFWqVsV3fMSH1E7j7ivmLCP2iT3Y/mHPyBmgUKfSZXkheNuuBEIdyiVhRYBEf6ZhPyMjIrn3qn9a/GAHiINav5kwPQh8Id+A3yCrfeUWXgygVMBB7tExksVh9QiZCPBhsD7G1gSWXM2SzgIBPr65DhXdQxSUrOfDcGenPjYd4Pu4fb+/9HYp+nJbQSskdQ5kTLDM+cY0whAqC3ctlc8F8F9LCsn3vORMK08CldvTCxemqNQnH3pgXebknG1NyzzTwP0WzvZ0mjcagFwCrlRkaB/Lfkreu3DM/xjifOo9solEJGefHYLlb6ObXHbfr5p89A58PTJKaNOA9LABBSuoPbIolyPFfdsSYLfBpViwSIYkajMtKT0oKd/p4mKLC5QkeJdMdaMNiWF04reD+tv6KHf8s+lb/kdhUBBFjrn0Ud2lq6SebHwEa5V5XnDz6ND1MdNu8pak4L6n7G4gYMCbyagcPUJBQ0x3uk4N7aA9UGzbWJ8S7mnF6bW/1MP+24H/QOgTTKywhax4e1cqOed09d36mswWXgn+4YLIzulnsc/1eD5HpSEJGEJS8BVyGFBMnmXLLq+8aGYYc6oozvlEuRzQFov+zWSXgyNBk8VF8+/mhPGrYm1C3L7GCSEu0sFMMpEkG8VhrGRCNVZFGMPIL8laQiLRK4irjqPO0nhw45BZg86F+mIaJOb9tNdJCfqPai/agNtQUmXM1bc47OctksfwuIVlnF7MbBT1jTh+DDQwjohMjBRqSEmjjTwEXK9oD5nplIyaRBgvbFo05y+3FtwR2X2lE/TtFT9Jp8GDCrrBYvo34Km9dYtAUwA17hFVvyGpc2APJFk4x8bKmAlNiOQkyaLCSLjkji23qJjfLTl74NYsQVn9eALw+bV5hEhF3YteZHAXFKGMCAcYsclLVP0+XVtrF2X2amtqS8PaQaZ0M6eS0JPF+rAR+Wkk+knjMJo065mjGwrFIOTseZj3AkMf6XxuAAIg+nOQtO1JutmvzbGLilvoJvVfGT1/LaqvL36jHUFxayeBDYaiCx53/yo8TdaG8gdPxj3lDeMw8B9TlfsgaXLqvRysgtnez0N9I/qrbB/6fSjCcAyfxj2yL4bn8gaYgJZcv0gZiOhck9KV0z84QuFjzdc2taV1JW9BmbaZ0Xar4OCuqoaco7vcPwpWMJu2L7YMmGbWrS4t2twxFqynJ3tbMy0p8upcV9ghP3oc8iHiLKHrHWjBKW+0yanFlPgLvvKg+CSsblsZspRFp0vo4W9xVEhZmpWI0sQJqJe06Nmzocm+VNWe/c0nD4HSl+6Y32EBAAXZwNZeryVfqea97yUFJeAUYpIXYs5w//kxrbnTScU6btFv0S8YnplXdrB+Cyssrpk1OZcLhSOOJqgVK0b/lJ4fCpI8jLQpSS+HJr6HSohU6MH1GFqji7vDAKQGLd/wWGbTVx6SliSVy3N4ddnnyMMA0PY5eQHY+KwZbldBoVIH+p+3X6kagXp0w/WJGW9S/ecxw3A8CEbZeD/FaDDTIblYlIlPF1PeiLgybHYcvj2k8IAAAB8ttb292AAAAbG12aGQAAAAAAAAAAAAAAAAAAAPoAABOIAABAAABAAAAAAAAAAAAAAAAAQAAAAAAAAAAAAAAAAAAAAEAAAAAAAAAAAAAAAAAAEAAAAAAAAAAAAAAAAAAAAAAAAAAAAAAAAAAAAAAAAACAAAG9XRyYWsAAABcdGtoZAAAAAMAAAAAAAAAAAAAAAEAAAAAAABOIAAAAAAAAAAAAAAAAAAAAAAAAQAAAAAAAAAAAAAAAAAAAAEAAAAAAAAAAAAAAAAAAEAAAAACWAAAAZAAAAAAACRlZHRzAAAAHGVsc3QAAAAAAAAAAQAATiAAABAAAAEAAAAABm1tZGlhAAAAIG1kaGQAAAAAAAAAAAAAAAAAACgAAAMgAFXEAAAAAAAtaGRscgAAAAAAAAAAdmlkZQAAAAAAAAAAAAAAAFZpZGVvSGFuZGxlcgAAAAYYbWluZgAAABR2bWhkAAAAAQAAAAAAAAAAAAAAJGRpbmYAAAAcZHJlZgAAAAAAAAABAAAADHVybCAAAAABAAAF2HN0YmwAAACwc3RzZAAAAAAAAAABAAAAoGF2YzEAAAAAAAAAAQAAAAAAAAAAAAAAAAAAAAACWAGQAEgAAABIAAAAAAAAAAEAAAAAAAAAAAAAAAAAAAAAAAAAAAAAAAAAAAAAAAAAAAAY//8AAAA2YXZjQwFkABb/4QAZZ2QAFqzZQJgz5eEAAAMAAQAAAwAKDxYtlgEABmjr48siwP34+AAAAAAUYnRydAAAAAAAAJMjAACTIwAAABhzdHRzAAAAAAAAAAEAAABkAAAIAAAAABRzdHNzAAAAAAAAAAEAAAABAAADIGN0dHMAAAAAAAAAYgAAAAEAABAAAAAAAQAAKAAAAAABAAAQAAAAAAEAAAAAAAAAAQAACAAAAAABAAAoAAAAAAEAABAAAAAAAQAAAAAAAAABAAAIAAAAAAEAACgAAAAAAQAAEAAAAAABAAAAAAAAAAEAAAgAAAAAAQAAIAAAAAACAAAIAAAAAAEAACgAAAAAAQAAEAAAAAABAAAAAAAAAAEAAAgAAAAAAQAAKAAAAAABAAAQAAAAAAEAAAAAAAAAAQAACAAAAAABAAAoAAAAAAEAABAAAAAAAQAAAAAAAAABAAAIAAAAAAEAACgAAAAAAQAAEAAAAAABAAAAAAAAAAEAAAgAAAAAAQAAKAAAAAABAAAQAAAAAAEAAAAAAAAAAQAACAAAAAABAAAoAAAAAAEAABAAAAAAAQAAAAAAAAABAAAIAAAAAAEAACgAAAAAAQAAEAAAAAABAAAAAAAAAAEAAAgAAAAAAQAAEAAAAAABAAAoAAAAAAEAABAAAAAAAQAAAAAAAAABAAAIAAAAAAEAACgAAAAAAQAAEAAAAAABAAAAAAAAAAEAAAgAAAAAAQAAKAAAAAABAAAQAAAAAAEAAAAAAAAAAQAACAAAAAABAAAoAAAAAAEAABAAAAAAAQAAAAAAAAABAAAIAAAAAAEAACgAAAAAAQAAEAAAAAABAAAAAAAAAAEAAAgAAAAAAQAAKAAAAAABAAAQAAAAAAEAAAAAAAAAAQAACAAAAAABAAAYAAAAAAEAAAgAAAAAAQAAKAAAAAABAAAQAAAAAAEAAAAAAAAAAQAACAAAAAABAAAoAAAAAAEAABAAAAAAAQAAAAAAAAABAAAIAAAAAAEAABgAAAAAAQAACAAAAAABAAAoAAAAAAEAABAAAAAAAQAAAAAAAAABAAAIAAAAAAEAABAAAAAAAQAAKAAAAAABAAAQAAAAAAEAAAAAAAAAAQAACAAAAAABAAAoAAAAAAEAABAAAAAAAQAAAAAAAAABAAAIAAAAAAEAABgAAAAAAQAACAAAAAABAAAgAAAAAAIAAAgAAAAAAQAAEAAAAAAcc3RzYwAAAAAAAAABAAAAAQAAAGQAAAABAAABpHN0c3oAAAAAAAAAAAAAAGQAACL/AAAKkAAABwkAAAJnAAADswAACtYAAAKaAAACYQAAAnAAAArhAAACJgAAAlgAAAJuAAADAAAAAgQAAAHOAAAN+wAAAgsAAAJiAAACYgAAAngAAAH3AAACXAAAAk4AAAKJAAABrAAAAjcAAAJiAAAFSAAAAgMAAAJcAAACOAAAAqwAAAH9AAACIgAAAk0AAAr4AAACBgAAAn8AAAIpAAACgwAAAgcAAAIwAAACbgAADpwAAAKQAAACLwAAAloAAAJwAAAMMwAAAfsAAAIUAAACSwAAAuQAAAGjAAACfwAAAloAAAjTAAAB9QAAAlQAAAJVAAAChgAAAbcAAAJIAAACbQAAAsIAAAH7AAACTgAAAkYAAApfAAACiQAAAsMAAAGRAAACIQAAAkYAAAJDAAAB7wAAAocAAAJ8AAALkgAAAngAAAK8AAAB4AAAAhYAAAJnAAACJQAABrQAAAHaAAACigAAAm8AAAIqAAAB9QAAAgsAAAJCAAACDgAAAmUAAAKOAAAB+AAAAf8AAAT/AAAAFHN0Y28AAAAAAAAAAQAAADAAAABidWR0YQAAAFptZXRhAAAAAAAAACFoZGxyAAAAAAAAAABtZGlyYXBwbAAAAAAAAAAAAAAAAC1pbHN0AAAAJal0b28AAAAdZGF0YQAAAAEAAAAATGF2ZjU4Ljc2LjEwMA==\" type = \"video/mp4\"></video>"
      ],
      "text/plain": [
       "Plots.AnimatedGif(\"C:\\\\Users\\\\marek\\\\Desktop\\\\pakiety-matematyczne\\\\baseny-anim.mp4\")"
      ]
     },
     "execution_count": 5,
     "metadata": {},
     "output_type": "execute_result"
    }
   ],
   "source": [
    "basen=(3.5)*10^6\n",
    "\n",
    "function macierz(k,M)\n",
    "    A = peop_count*meat_diet\n",
    "    B = ((peop_count)*((100-k)/100))*(meat_diet)+((peop_count)*((0+k)/100))*vege_diet\n",
    "    C=A-B\n",
    "    ile= Int64(floor(C/basen))\n",
    "    for j in 1:Int64(floor(ile/1517))\n",
    "        for i in 1:1517\n",
    "            M[j,i]=1\n",
    "        end\n",
    "    end\n",
    "    for i in 1:Int64(ile%1517)\n",
    "        M[Int64(floor(ile/1517))+1,i]=1\n",
    "    end\n",
    "    return(M)\n",
    "end\n",
    "\n",
    "function animacja(M)\n",
    "  am= @animate for k in 1:100\n",
    "    C=peop_count*meat_diet-(((peop_count)*((100-k)/100))*(meat_diet)+((peop_count)*((0+k)/100))*vege_diet)\n",
    "  ile= Int64(floor(C/basen))\n",
    "    M=Matrix(macierz(k,M))\n",
    "    heatmap(M,aspect_ratio=1, seriescolor=palette([:white,:black]),title=\"$(k)% wegan oszczędza $(ile) basenów olimpijskich wody\", colorbar=:none)\n",
    "  end\n",
    "  mp4(am,\"baseny-anim.mp4\",fps=5)\n",
    "end\n",
    "\n",
    "M=zeros(1517,1517)\n",
    "animacja(M)\n"
   ]
  },
  {
   "cell_type": "markdown",
   "id": "1f70b363",
   "metadata": {},
   "source": [
    "<h3>Spożycie mięsa w wybranych krajach</h3>\n",
    "Na następnych wykresach przedstawimy spożycie mięsa w wybranych krajach oraz zużycie wody jakie ono generuje - na osobę oraz jako cały kraj. Warto zwrócić uwagę na różnice w ilości spożywanego mięsa w różnych krajach oraz jak to się rozkłąda patrząc na rodzaj mięsa - często powodem jest religia."
   ]
  },
  {
   "cell_type": "code",
   "execution_count": 4,
   "id": "08678b4b",
   "metadata": {},
   "outputs": [
    {
     "name": "stdout",
     "output_type": "stream",
     "text": [
      "\u001b[1m21×7 DataFrame\u001b[0m\n",
      "\u001b[1m Row \u001b[0m│\u001b[1m kraje      \u001b[0m\u001b[1m meat    \u001b[0m\u001b[1m pork    \u001b[0m\u001b[1m beef    \u001b[0m\u001b[1m poultry \u001b[0m\u001b[1m populacja(mln) \u001b[0m\u001b[1m uwagi                           \u001b[0m\n",
      "     │\u001b[90m String15   \u001b[0m\u001b[90m Float64 \u001b[0m\u001b[90m Float64 \u001b[0m\u001b[90m Float64 \u001b[0m\u001b[90m Float64 \u001b[0m\u001b[90m Float64        \u001b[0m\u001b[90m String?                         \u001b[0m\n",
      "─────┼─────────────────────────────────────────────────────────────────────────────────────────────────\n",
      "   1 │ USA           107.0     30.0    26.0     51.0           331.9   jedznie na wynos skrzydełka itp\n",
      "   2 │ Kanada        100.0     21.0    25.5     50.0            38.25  .\n",
      "   3 │ Argentyna     110.0     20.0    42.0     48.0            45.8   bardzo duże spożycie mięsa\n",
      "   4 │ Chile          86.4     27.0    22.4     37.0            19.49  .\n",
      "   5 │ Meksyk         80.0     30.0     0.0     50.0           126.7   .\n",
      "   6 │ Brazylia       78.5     18.5    40.0     20.0           214.3   .\n",
      "   7 │ UE             69.8     33.5    10.6     24.3           447.7   wartości średnie\n",
      "   8 │ Francja        85.0     16.0     5.0     64.0            67.75  .\n",
      "   9 │ Niemcy         54.5     31.0     9.4     13.1            83.2   .\n",
      "  10 │ Hiszpania      50.0     10.0     5.0     30.0           477.42  .\n",
      "  11 │ Ukraina        21.0     12.0     6.0      3.0            47.79  .\n",
      "  12 │ Chiny          45.1     23.7     1.4     20.0          1412.0   .\n",
      "  13 │ Rosja          80.0     31.0    47.7      1.3           143.4   .\n",
      "  14 │ Izrael         90.5      1.3    20.0     64.5             9.36  religia - judaizm\n",
      "  15 │ Indonezja      31.0      5.0     1.0     22.0           273.8   .\n",
      "  16 │ Bangladesz     11.0      3.0     4.0      3.0           169.4   bardzo biedny kraj\n",
      "  17 │ Indie           3.7      1.0     0.2      2.5          1408.0   nie jedzą wołowiny (hinduizm)\n",
      "  18 │ Australia      89.3     20.0    19.5     44.0            25.69  bardzo duże spożycie mięsa\n",
      "  19 │ Nigeria         5.0      2.0     2.0      1.0           213.4   bardzo małe spożycie mięsa\n",
      "  20 │ Etiopia         3.1      2.0     0.55     0.55          120.3   naprawdę małe spożycie mięsa\n",
      "  21 │ Polska         69.7     40.6     2.8     26.6            37.75 \u001b[90m missing                         \u001b[0m"
     ]
    },
    {
     "data": {
      "application/vnd.plotly.v1+json": {
       "config": {
        "editable": false,
        "responsive": true,
        "scrollZoom": true,
        "showLink": false,
        "staticPlot": false
       },
       "data": [
        {
         "name": "Wieprzowina",
         "type": "bar",
         "x": [
          "USA",
          "Kanada",
          "Argentyna",
          "Chile",
          "Meksyk",
          "Brazylia",
          "UE",
          "Francja",
          "Niemcy",
          "Hiszpania",
          "Ukraina",
          "Chiny",
          "Rosja",
          "Izrael",
          "Indonezja",
          "Bangladesz",
          "Indie",
          "Australia",
          "Nigeria",
          "Etiopia",
          "Polska"
         ],
         "y": [
          30,
          21,
          20,
          27,
          30,
          18.5,
          33.5,
          16,
          31,
          10,
          12,
          23.7,
          31,
          1.3,
          5,
          3,
          1,
          20,
          2,
          2,
          40.6
         ]
        },
        {
         "name": "Wołowina",
         "type": "bar",
         "x": [
          "USA",
          "Kanada",
          "Argentyna",
          "Chile",
          "Meksyk",
          "Brazylia",
          "UE",
          "Francja",
          "Niemcy",
          "Hiszpania",
          "Ukraina",
          "Chiny",
          "Rosja",
          "Izrael",
          "Indonezja",
          "Bangladesz",
          "Indie",
          "Australia",
          "Nigeria",
          "Etiopia",
          "Polska"
         ],
         "y": [
          26,
          25.5,
          42,
          22.4,
          0,
          40,
          10.6,
          5,
          9.4,
          5,
          6,
          1.4,
          47.7,
          20,
          1,
          4,
          0.2,
          19.5,
          2,
          0.55,
          2.8
         ]
        },
        {
         "name": "Drób",
         "type": "bar",
         "x": [
          "USA",
          "Kanada",
          "Argentyna",
          "Chile",
          "Meksyk",
          "Brazylia",
          "UE",
          "Francja",
          "Niemcy",
          "Hiszpania",
          "Ukraina",
          "Chiny",
          "Rosja",
          "Izrael",
          "Indonezja",
          "Bangladesz",
          "Indie",
          "Australia",
          "Nigeria",
          "Etiopia",
          "Polska"
         ],
         "y": [
          51,
          50,
          48,
          37,
          50,
          20,
          24.3,
          64,
          13.1,
          30,
          3,
          20,
          1.3,
          64.5,
          22,
          3,
          2.5,
          44,
          1,
          0.55,
          26.6
         ]
        }
       ],
       "frames": [],
       "layout": {
        "barmode": "stack",
        "margin": {
         "b": 50,
         "l": 50,
         "r": 50,
         "t": 60
        },
        "template": {
         "data": {
          "bar": [
           {
            "error_x": {
             "color": "#2a3f5f"
            },
            "error_y": {
             "color": "#2a3f5f"
            },
            "marker": {
             "line": {
              "color": "#E5ECF6",
              "width": 0.5
             }
            },
            "type": "bar"
           }
          ],
          "barpolar": [
           {
            "marker": {
             "line": {
              "color": "#E5ECF6",
              "width": 0.5
             }
            },
            "type": "barpolar"
           }
          ],
          "carpet": [
           {
            "aaxis": {
             "endlinecolor": "#2a3f5f",
             "gridcolor": "white",
             "linecolor": "white",
             "minorgridcolor": "white",
             "startlinecolor": "#2a3f5f"
            },
            "baxis": {
             "endlinecolor": "#2a3f5f",
             "gridcolor": "white",
             "linecolor": "white",
             "minorgridcolor": "white",
             "startlinecolor": "#2a3f5f"
            },
            "type": "carpet"
           }
          ],
          "choropleth": [
           {
            "colorbar": {
             "outlinewidth": 0,
             "ticks": ""
            },
            "type": "choropleth"
           }
          ],
          "contour": [
           {
            "colorbar": {
             "outlinewidth": 0,
             "ticks": ""
            },
            "colorscale": [
             [
              0,
              "#0d0887"
             ],
             [
              0.1111111111111111,
              "#46039f"
             ],
             [
              0.2222222222222222,
              "#7201a8"
             ],
             [
              0.3333333333333333,
              "#9c179e"
             ],
             [
              0.4444444444444444,
              "#bd3786"
             ],
             [
              0.5555555555555556,
              "#d8576b"
             ],
             [
              0.6666666666666666,
              "#ed7953"
             ],
             [
              0.7777777777777778,
              "#fb9f3a"
             ],
             [
              0.8888888888888888,
              "#fdca26"
             ],
             [
              1,
              "#f0f921"
             ]
            ],
            "type": "contour"
           }
          ],
          "contourcarpet": [
           {
            "colorbar": {
             "outlinewidth": 0,
             "ticks": ""
            },
            "type": "contourcarpet"
           }
          ],
          "heatmap": [
           {
            "colorbar": {
             "outlinewidth": 0,
             "ticks": ""
            },
            "colorscale": [
             [
              0,
              "#0d0887"
             ],
             [
              0.1111111111111111,
              "#46039f"
             ],
             [
              0.2222222222222222,
              "#7201a8"
             ],
             [
              0.3333333333333333,
              "#9c179e"
             ],
             [
              0.4444444444444444,
              "#bd3786"
             ],
             [
              0.5555555555555556,
              "#d8576b"
             ],
             [
              0.6666666666666666,
              "#ed7953"
             ],
             [
              0.7777777777777778,
              "#fb9f3a"
             ],
             [
              0.8888888888888888,
              "#fdca26"
             ],
             [
              1,
              "#f0f921"
             ]
            ],
            "type": "heatmap"
           }
          ],
          "heatmapgl": [
           {
            "colorbar": {
             "outlinewidth": 0,
             "ticks": ""
            },
            "colorscale": [
             [
              0,
              "#0d0887"
             ],
             [
              0.1111111111111111,
              "#46039f"
             ],
             [
              0.2222222222222222,
              "#7201a8"
             ],
             [
              0.3333333333333333,
              "#9c179e"
             ],
             [
              0.4444444444444444,
              "#bd3786"
             ],
             [
              0.5555555555555556,
              "#d8576b"
             ],
             [
              0.6666666666666666,
              "#ed7953"
             ],
             [
              0.7777777777777778,
              "#fb9f3a"
             ],
             [
              0.8888888888888888,
              "#fdca26"
             ],
             [
              1,
              "#f0f921"
             ]
            ],
            "type": "heatmapgl"
           }
          ],
          "histogram": [
           {
            "marker": {
             "colorbar": {
              "outlinewidth": 0,
              "ticks": ""
             }
            },
            "type": "histogram"
           }
          ],
          "histogram2d": [
           {
            "colorbar": {
             "outlinewidth": 0,
             "ticks": ""
            },
            "colorscale": [
             [
              0,
              "#0d0887"
             ],
             [
              0.1111111111111111,
              "#46039f"
             ],
             [
              0.2222222222222222,
              "#7201a8"
             ],
             [
              0.3333333333333333,
              "#9c179e"
             ],
             [
              0.4444444444444444,
              "#bd3786"
             ],
             [
              0.5555555555555556,
              "#d8576b"
             ],
             [
              0.6666666666666666,
              "#ed7953"
             ],
             [
              0.7777777777777778,
              "#fb9f3a"
             ],
             [
              0.8888888888888888,
              "#fdca26"
             ],
             [
              1,
              "#f0f921"
             ]
            ],
            "type": "histogram2d"
           }
          ],
          "histogram2dcontour": [
           {
            "colorbar": {
             "outlinewidth": 0,
             "ticks": ""
            },
            "colorscale": [
             [
              0,
              "#0d0887"
             ],
             [
              0.1111111111111111,
              "#46039f"
             ],
             [
              0.2222222222222222,
              "#7201a8"
             ],
             [
              0.3333333333333333,
              "#9c179e"
             ],
             [
              0.4444444444444444,
              "#bd3786"
             ],
             [
              0.5555555555555556,
              "#d8576b"
             ],
             [
              0.6666666666666666,
              "#ed7953"
             ],
             [
              0.7777777777777778,
              "#fb9f3a"
             ],
             [
              0.8888888888888888,
              "#fdca26"
             ],
             [
              1,
              "#f0f921"
             ]
            ],
            "type": "histogram2dcontour"
           }
          ],
          "mesh3d": [
           {
            "colorbar": {
             "outlinewidth": 0,
             "ticks": ""
            },
            "type": "mesh3d"
           }
          ],
          "parcoords": [
           {
            "line": {
             "colorbar": {
              "outlinewidth": 0,
              "ticks": ""
             }
            },
            "type": "parcoords"
           }
          ],
          "pie": [
           {
            "automargin": true,
            "type": "pie"
           }
          ],
          "scatter": [
           {
            "marker": {
             "colorbar": {
              "outlinewidth": 0,
              "ticks": ""
             }
            },
            "type": "scatter"
           }
          ],
          "scatter3d": [
           {
            "line": {
             "colorbar": {
              "outlinewidth": 0,
              "ticks": ""
             }
            },
            "marker": {
             "colorbar": {
              "outlinewidth": 0,
              "ticks": ""
             }
            },
            "type": "scatter3d"
           }
          ],
          "scattercarpet": [
           {
            "marker": {
             "colorbar": {
              "outlinewidth": 0,
              "ticks": ""
             }
            },
            "type": "scattercarpet"
           }
          ],
          "scattergeo": [
           {
            "marker": {
             "colorbar": {
              "outlinewidth": 0,
              "ticks": ""
             }
            },
            "type": "scattergeo"
           }
          ],
          "scattergl": [
           {
            "marker": {
             "colorbar": {
              "outlinewidth": 0,
              "ticks": ""
             }
            },
            "type": "scattergl"
           }
          ],
          "scattermapbox": [
           {
            "marker": {
             "colorbar": {
              "outlinewidth": 0,
              "ticks": ""
             }
            },
            "type": "scattermapbox"
           }
          ],
          "scatterpolar": [
           {
            "marker": {
             "colorbar": {
              "outlinewidth": 0,
              "ticks": ""
             }
            },
            "type": "scatterpolar"
           }
          ],
          "scatterpolargl": [
           {
            "marker": {
             "colorbar": {
              "outlinewidth": 0,
              "ticks": ""
             }
            },
            "type": "scatterpolargl"
           }
          ],
          "scatterternary": [
           {
            "marker": {
             "colorbar": {
              "outlinewidth": 0,
              "ticks": ""
             }
            },
            "type": "scatterternary"
           }
          ],
          "surface": [
           {
            "colorbar": {
             "outlinewidth": 0,
             "ticks": ""
            },
            "colorscale": [
             [
              0,
              "#0d0887"
             ],
             [
              0.1111111111111111,
              "#46039f"
             ],
             [
              0.2222222222222222,
              "#7201a8"
             ],
             [
              0.3333333333333333,
              "#9c179e"
             ],
             [
              0.4444444444444444,
              "#bd3786"
             ],
             [
              0.5555555555555556,
              "#d8576b"
             ],
             [
              0.6666666666666666,
              "#ed7953"
             ],
             [
              0.7777777777777778,
              "#fb9f3a"
             ],
             [
              0.8888888888888888,
              "#fdca26"
             ],
             [
              1,
              "#f0f921"
             ]
            ],
            "type": "surface"
           }
          ],
          "table": [
           {
            "cells": {
             "fill": {
              "color": "#EBF0F8"
             },
             "line": {
              "color": "white"
             }
            },
            "header": {
             "fill": {
              "color": "#C8D4E3"
             },
             "line": {
              "color": "white"
             }
            },
            "type": "table"
           }
          ]
         },
         "layout": {
          "annotationdefaults": {
           "arrowcolor": "#2a3f5f",
           "arrowhead": 0,
           "arrowwidth": 1
          },
          "autotypenumbers": "strict",
          "coloraxis": {
           "colorbar": {
            "outlinewidth": 0,
            "ticks": ""
           }
          },
          "colorscale": {
           "diverging": [
            [
             0,
             "#8e0152"
            ],
            [
             0.1,
             "#c51b7d"
            ],
            [
             0.2,
             "#de77ae"
            ],
            [
             0.3,
             "#f1b6da"
            ],
            [
             0.4,
             "#fde0ef"
            ],
            [
             0.5,
             "#f7f7f7"
            ],
            [
             0.6,
             "#e6f5d0"
            ],
            [
             0.7,
             "#b8e186"
            ],
            [
             0.8,
             "#7fbc41"
            ],
            [
             0.9,
             "#4d9221"
            ],
            [
             1,
             "#276419"
            ]
           ],
           "sequential": [
            [
             0,
             "#0d0887"
            ],
            [
             0.1111111111111111,
             "#46039f"
            ],
            [
             0.2222222222222222,
             "#7201a8"
            ],
            [
             0.3333333333333333,
             "#9c179e"
            ],
            [
             0.4444444444444444,
             "#bd3786"
            ],
            [
             0.5555555555555556,
             "#d8576b"
            ],
            [
             0.6666666666666666,
             "#ed7953"
            ],
            [
             0.7777777777777778,
             "#fb9f3a"
            ],
            [
             0.8888888888888888,
             "#fdca26"
            ],
            [
             1,
             "#f0f921"
            ]
           ],
           "sequentialminus": [
            [
             0,
             "#0d0887"
            ],
            [
             0.1111111111111111,
             "#46039f"
            ],
            [
             0.2222222222222222,
             "#7201a8"
            ],
            [
             0.3333333333333333,
             "#9c179e"
            ],
            [
             0.4444444444444444,
             "#bd3786"
            ],
            [
             0.5555555555555556,
             "#d8576b"
            ],
            [
             0.6666666666666666,
             "#ed7953"
            ],
            [
             0.7777777777777778,
             "#fb9f3a"
            ],
            [
             0.8888888888888888,
             "#fdca26"
            ],
            [
             1,
             "#f0f921"
            ]
           ]
          },
          "colorway": [
           "#636efa",
           "#EF553B",
           "#00cc96",
           "#ab63fa",
           "#FFA15A",
           "#19d3f3",
           "#FF6692",
           "#B6E880",
           "#FF97FF",
           "#FECB52"
          ],
          "font": {
           "color": "#2a3f5f"
          },
          "geo": {
           "bgcolor": "white",
           "lakecolor": "white",
           "landcolor": "#E5ECF6",
           "showlakes": true,
           "showland": true,
           "subunitcolor": "white"
          },
          "hoverlabel": {
           "align": "left"
          },
          "hovermode": "closest",
          "mapbox": {
           "style": "light"
          },
          "paper_bgcolor": "white",
          "plot_bgcolor": "#E5ECF6",
          "polar": {
           "angularaxis": {
            "gridcolor": "white",
            "linecolor": "white",
            "ticks": ""
           },
           "bgcolor": "#E5ECF6",
           "radialaxis": {
            "gridcolor": "white",
            "linecolor": "white",
            "ticks": ""
           }
          },
          "scene": {
           "xaxis": {
            "backgroundcolor": "#E5ECF6",
            "gridcolor": "white",
            "gridwidth": 2,
            "linecolor": "white",
            "showbackground": true,
            "ticks": "",
            "zerolinecolor": "white"
           },
           "yaxis": {
            "backgroundcolor": "#E5ECF6",
            "gridcolor": "white",
            "gridwidth": 2,
            "linecolor": "white",
            "showbackground": true,
            "ticks": "",
            "zerolinecolor": "white"
           },
           "zaxis": {
            "backgroundcolor": "#E5ECF6",
            "gridcolor": "white",
            "gridwidth": 2,
            "linecolor": "white",
            "showbackground": true,
            "ticks": "",
            "zerolinecolor": "white"
           }
          },
          "shapedefaults": {
           "line": {
            "color": "#2a3f5f"
           }
          },
          "ternary": {
           "aaxis": {
            "gridcolor": "white",
            "linecolor": "white",
            "ticks": ""
           },
           "baxis": {
            "gridcolor": "white",
            "linecolor": "white",
            "ticks": ""
           },
           "bgcolor": "#E5ECF6",
           "caxis": {
            "gridcolor": "white",
            "linecolor": "white",
            "ticks": ""
           }
          },
          "title": {
           "x": 0.05
          },
          "xaxis": {
           "automargin": true,
           "gridcolor": "white",
           "linecolor": "white",
           "ticks": "",
           "title": {
            "standoff": 15
           },
           "zerolinecolor": "white",
           "zerolinewidth": 2
          },
          "yaxis": {
           "automargin": true,
           "gridcolor": "white",
           "linecolor": "white",
           "ticks": "",
           "title": {
            "standoff": 15
           },
           "zerolinecolor": "white",
           "zerolinewidth": 2
          }
         }
        }
       }
      },
      "text/html": [
       "<div\n",
       "    class=\"webio-mountpoint\"\n",
       "    data-webio-mountpoint=\"316690900784694186\"\n",
       ">\n",
       "    <script>\n",
       "    (function(){\n",
       "    // Some integrations (namely, IJulia/Jupyter) use an alternate render pathway than\n",
       "    // just putting the html on the page. If WebIO isn't defined, then it's pretty likely\n",
       "    // that we're in one of those situations and the integration just isn't installed\n",
       "    // correctly.\n",
       "    if (typeof window.WebIO === \"undefined\") {\n",
       "        document\n",
       "            .querySelector('[data-webio-mountpoint=\"316690900784694186\"]')\n",
       "            .innerHTML = (\n",
       "                '<div style=\"padding: 1em; background-color: #f8d6da; border: 1px solid #f5c6cb; font-weight: bold;\">' +\n",
       "                '<p><strong>WebIO not detected.</strong></p>' +\n",
       "                '<p>Please read ' +\n",
       "                '<a href=\"https://juliagizmos.github.io/WebIO.jl/latest/troubleshooting/not-detected/\" target=\"_blank\">the troubleshooting guide</a> ' +\n",
       "                'for more information on how to resolve this issue.</p>' +\n",
       "                '<p><a href=\"https://juliagizmos.github.io/WebIO.jl/latest/troubleshooting/not-detected/\" target=\"_blank\">https://juliagizmos.github.io/WebIO.jl/latest/troubleshooting/not-detected/</a></p>' +\n",
       "                '</div>'\n",
       "            );\n",
       "        return;\n",
       "    }\n",
       "    WebIO.mount(\n",
       "        document.querySelector('[data-webio-mountpoint=\"316690900784694186\"]'),\n",
       "        {\"props\":{},\"nodeType\":\"Scope\",\"type\":\"node\",\"instanceArgs\":{\"imports\":{\"data\":[{\"name\":\"Plotly\",\"type\":\"js\",\"url\":\"\\/assetserver\\/7dc425d3d9acdbb7fba54ce8841409ff1fd2b16c-plotly.min.js\"},{\"name\":null,\"type\":\"js\",\"url\":\"\\/assetserver\\/bdef9d06b2ff8f6ff9f383d24c2633cfc4dfc0cb-plotly_webio.bundle.js\"}],\"type\":\"async_block\"},\"id\":\"8427055207856562990\",\"handlers\":{\"_toImage\":[\"(function (options){return this.Plotly.toImage(this.plotElem,options).then((function (data){return WebIO.setval({\\\"name\\\":\\\"image\\\",\\\"scope\\\":\\\"8427055207856562990\\\",\\\"id\\\":\\\"7722660109891438818\\\",\\\"type\\\":\\\"observable\\\"},data)}))})\"],\"__get_gd_contents\":[\"(function (prop){prop==\\\"data\\\" ? (WebIO.setval({\\\"name\\\":\\\"__gd_contents\\\",\\\"scope\\\":\\\"8427055207856562990\\\",\\\"id\\\":\\\"2704673086323661698\\\",\\\"type\\\":\\\"observable\\\"},this.plotElem.data)) : undefined; return prop==\\\"layout\\\" ? (WebIO.setval({\\\"name\\\":\\\"__gd_contents\\\",\\\"scope\\\":\\\"8427055207856562990\\\",\\\"id\\\":\\\"2704673086323661698\\\",\\\"type\\\":\\\"observable\\\"},this.plotElem.layout)) : undefined})\"],\"_downloadImage\":[\"(function (options){return this.Plotly.downloadImage(this.plotElem,options)})\"],\"_commands\":[\"(function (args){var fn=args.shift(); var elem=this.plotElem; var Plotly=this.Plotly; args.unshift(elem); return Plotly[fn].apply(this,args)})\"]},\"systemjs_options\":null,\"mount_callbacks\":[\"function () {\\n    var handler = ((function (Plotly,PlotlyWebIO){PlotlyWebIO.init(WebIO); var gd=this.dom.querySelector(\\\"#plot-4e6b4618-6629-47b6-8db6-35ad2e18171d\\\"); this.plotElem=gd; this.Plotly=Plotly; (window.Blink!==undefined) ? (gd.style.width=\\\"100%\\\", gd.style.height=\\\"100vh\\\", gd.style.marginLeft=\\\"0%\\\", gd.style.marginTop=\\\"0vh\\\") : undefined; window.onresize=(function (){return Plotly.Plots.resize(gd)}); Plotly.newPlot(gd,[{\\\"y\\\":[30.0,21.0,20.0,27.0,30.0,18.5,33.5,16.0,31.0,10.0,12.0,23.7,31.0,1.3,5.0,3.0,1.0,20.0,2.0,2.0,40.6],\\\"type\\\":\\\"bar\\\",\\\"name\\\":\\\"Wieprzowina\\\",\\\"x\\\":[\\\"USA\\\",\\\"Kanada\\\",\\\"Argentyna\\\",\\\"Chile\\\",\\\"Meksyk\\\",\\\"Brazylia\\\",\\\"UE\\\",\\\"Francja\\\",\\\"Niemcy\\\",\\\"Hiszpania\\\",\\\"Ukraina\\\",\\\"Chiny\\\",\\\"Rosja\\\",\\\"Izrael\\\",\\\"Indonezja\\\",\\\"Bangladesz\\\",\\\"Indie\\\",\\\"Australia\\\",\\\"Nigeria\\\",\\\"Etiopia\\\",\\\"Polska\\\"]},{\\\"y\\\":[26.0,25.5,42.0,22.4,0.0,40.0,10.6,5.0,9.4,5.0,6.0,1.4,47.7,20.0,1.0,4.0,0.2,19.5,2.0,0.55,2.8],\\\"type\\\":\\\"bar\\\",\\\"name\\\":\\\"Wołowina\\\",\\\"x\\\":[\\\"USA\\\",\\\"Kanada\\\",\\\"Argentyna\\\",\\\"Chile\\\",\\\"Meksyk\\\",\\\"Brazylia\\\",\\\"UE\\\",\\\"Francja\\\",\\\"Niemcy\\\",\\\"Hiszpania\\\",\\\"Ukraina\\\",\\\"Chiny\\\",\\\"Rosja\\\",\\\"Izrael\\\",\\\"Indonezja\\\",\\\"Bangladesz\\\",\\\"Indie\\\",\\\"Australia\\\",\\\"Nigeria\\\",\\\"Etiopia\\\",\\\"Polska\\\"]},{\\\"y\\\":[51.0,50.0,48.0,37.0,50.0,20.0,24.3,64.0,13.1,30.0,3.0,20.0,1.3,64.5,22.0,3.0,2.5,44.0,1.0,0.55,26.6],\\\"type\\\":\\\"bar\\\",\\\"name\\\":\\\"Drób\\\",\\\"x\\\":[\\\"USA\\\",\\\"Kanada\\\",\\\"Argentyna\\\",\\\"Chile\\\",\\\"Meksyk\\\",\\\"Brazylia\\\",\\\"UE\\\",\\\"Francja\\\",\\\"Niemcy\\\",\\\"Hiszpania\\\",\\\"Ukraina\\\",\\\"Chiny\\\",\\\"Rosja\\\",\\\"Izrael\\\",\\\"Indonezja\\\",\\\"Bangladesz\\\",\\\"Indie\\\",\\\"Australia\\\",\\\"Nigeria\\\",\\\"Etiopia\\\",\\\"Polska\\\"]}],{\\\"template\\\":{\\\"layout\\\":{\\\"coloraxis\\\":{\\\"colorbar\\\":{\\\"ticks\\\":\\\"\\\",\\\"outlinewidth\\\":0}},\\\"xaxis\\\":{\\\"gridcolor\\\":\\\"white\\\",\\\"zerolinewidth\\\":2,\\\"title\\\":{\\\"standoff\\\":15},\\\"ticks\\\":\\\"\\\",\\\"zerolinecolor\\\":\\\"white\\\",\\\"automargin\\\":true,\\\"linecolor\\\":\\\"white\\\"},\\\"hovermode\\\":\\\"closest\\\",\\\"paper_bgcolor\\\":\\\"white\\\",\\\"geo\\\":{\\\"showlakes\\\":true,\\\"showland\\\":true,\\\"landcolor\\\":\\\"#E5ECF6\\\",\\\"bgcolor\\\":\\\"white\\\",\\\"subunitcolor\\\":\\\"white\\\",\\\"lakecolor\\\":\\\"white\\\"},\\\"colorscale\\\":{\\\"sequential\\\":[[0.0,\\\"#0d0887\\\"],[0.1111111111111111,\\\"#46039f\\\"],[0.2222222222222222,\\\"#7201a8\\\"],[0.3333333333333333,\\\"#9c179e\\\"],[0.4444444444444444,\\\"#bd3786\\\"],[0.5555555555555556,\\\"#d8576b\\\"],[0.6666666666666666,\\\"#ed7953\\\"],[0.7777777777777778,\\\"#fb9f3a\\\"],[0.8888888888888888,\\\"#fdca26\\\"],[1.0,\\\"#f0f921\\\"]],\\\"diverging\\\":[[0,\\\"#8e0152\\\"],[0.1,\\\"#c51b7d\\\"],[0.2,\\\"#de77ae\\\"],[0.3,\\\"#f1b6da\\\"],[0.4,\\\"#fde0ef\\\"],[0.5,\\\"#f7f7f7\\\"],[0.6,\\\"#e6f5d0\\\"],[0.7,\\\"#b8e186\\\"],[0.8,\\\"#7fbc41\\\"],[0.9,\\\"#4d9221\\\"],[1,\\\"#276419\\\"]],\\\"sequentialminus\\\":[[0.0,\\\"#0d0887\\\"],[0.1111111111111111,\\\"#46039f\\\"],[0.2222222222222222,\\\"#7201a8\\\"],[0.3333333333333333,\\\"#9c179e\\\"],[0.4444444444444444,\\\"#bd3786\\\"],[0.5555555555555556,\\\"#d8576b\\\"],[0.6666666666666666,\\\"#ed7953\\\"],[0.7777777777777778,\\\"#fb9f3a\\\"],[0.8888888888888888,\\\"#fdca26\\\"],[1.0,\\\"#f0f921\\\"]]},\\\"yaxis\\\":{\\\"gridcolor\\\":\\\"white\\\",\\\"zerolinewidth\\\":2,\\\"title\\\":{\\\"standoff\\\":15},\\\"ticks\\\":\\\"\\\",\\\"zerolinecolor\\\":\\\"white\\\",\\\"automargin\\\":true,\\\"linecolor\\\":\\\"white\\\"},\\\"shapedefaults\\\":{\\\"line\\\":{\\\"color\\\":\\\"#2a3f5f\\\"}},\\\"hoverlabel\\\":{\\\"align\\\":\\\"left\\\"},\\\"mapbox\\\":{\\\"style\\\":\\\"light\\\"},\\\"polar\\\":{\\\"angularaxis\\\":{\\\"gridcolor\\\":\\\"white\\\",\\\"ticks\\\":\\\"\\\",\\\"linecolor\\\":\\\"white\\\"},\\\"bgcolor\\\":\\\"#E5ECF6\\\",\\\"radialaxis\\\":{\\\"gridcolor\\\":\\\"white\\\",\\\"ticks\\\":\\\"\\\",\\\"linecolor\\\":\\\"white\\\"}},\\\"autotypenumbers\\\":\\\"strict\\\",\\\"font\\\":{\\\"color\\\":\\\"#2a3f5f\\\"},\\\"ternary\\\":{\\\"baxis\\\":{\\\"gridcolor\\\":\\\"white\\\",\\\"ticks\\\":\\\"\\\",\\\"linecolor\\\":\\\"white\\\"},\\\"bgcolor\\\":\\\"#E5ECF6\\\",\\\"caxis\\\":{\\\"gridcolor\\\":\\\"white\\\",\\\"ticks\\\":\\\"\\\",\\\"linecolor\\\":\\\"white\\\"},\\\"aaxis\\\":{\\\"gridcolor\\\":\\\"white\\\",\\\"ticks\\\":\\\"\\\",\\\"linecolor\\\":\\\"white\\\"}},\\\"annotationdefaults\\\":{\\\"arrowhead\\\":0,\\\"arrowwidth\\\":1,\\\"arrowcolor\\\":\\\"#2a3f5f\\\"},\\\"plot_bgcolor\\\":\\\"#E5ECF6\\\",\\\"title\\\":{\\\"x\\\":0.05},\\\"scene\\\":{\\\"xaxis\\\":{\\\"gridcolor\\\":\\\"white\\\",\\\"gridwidth\\\":2,\\\"backgroundcolor\\\":\\\"#E5ECF6\\\",\\\"ticks\\\":\\\"\\\",\\\"showbackground\\\":true,\\\"zerolinecolor\\\":\\\"white\\\",\\\"linecolor\\\":\\\"white\\\"},\\\"zaxis\\\":{\\\"gridcolor\\\":\\\"white\\\",\\\"gridwidth\\\":2,\\\"backgroundcolor\\\":\\\"#E5ECF6\\\",\\\"ticks\\\":\\\"\\\",\\\"showbackground\\\":true,\\\"zerolinecolor\\\":\\\"white\\\",\\\"linecolor\\\":\\\"white\\\"},\\\"yaxis\\\":{\\\"gridcolor\\\":\\\"white\\\",\\\"gridwidth\\\":2,\\\"backgroundcolor\\\":\\\"#E5ECF6\\\",\\\"ticks\\\":\\\"\\\",\\\"showbackground\\\":true,\\\"zerolinecolor\\\":\\\"white\\\",\\\"linecolor\\\":\\\"white\\\"}},\\\"colorway\\\":[\\\"#636efa\\\",\\\"#EF553B\\\",\\\"#00cc96\\\",\\\"#ab63fa\\\",\\\"#FFA15A\\\",\\\"#19d3f3\\\",\\\"#FF6692\\\",\\\"#B6E880\\\",\\\"#FF97FF\\\",\\\"#FECB52\\\"]},\\\"data\\\":{\\\"barpolar\\\":[{\\\"type\\\":\\\"barpolar\\\",\\\"marker\\\":{\\\"line\\\":{\\\"color\\\":\\\"#E5ECF6\\\",\\\"width\\\":0.5}}}],\\\"carpet\\\":[{\\\"aaxis\\\":{\\\"gridcolor\\\":\\\"white\\\",\\\"endlinecolor\\\":\\\"#2a3f5f\\\",\\\"minorgridcolor\\\":\\\"white\\\",\\\"startlinecolor\\\":\\\"#2a3f5f\\\",\\\"linecolor\\\":\\\"white\\\"},\\\"type\\\":\\\"carpet\\\",\\\"baxis\\\":{\\\"gridcolor\\\":\\\"white\\\",\\\"endlinecolor\\\":\\\"#2a3f5f\\\",\\\"minorgridcolor\\\":\\\"white\\\",\\\"startlinecolor\\\":\\\"#2a3f5f\\\",\\\"linecolor\\\":\\\"white\\\"}}],\\\"scatterpolar\\\":[{\\\"type\\\":\\\"scatterpolar\\\",\\\"marker\\\":{\\\"colorbar\\\":{\\\"ticks\\\":\\\"\\\",\\\"outlinewidth\\\":0}}}],\\\"parcoords\\\":[{\\\"line\\\":{\\\"colorbar\\\":{\\\"ticks\\\":\\\"\\\",\\\"outlinewidth\\\":0}},\\\"type\\\":\\\"parcoords\\\"}],\\\"scatter\\\":[{\\\"type\\\":\\\"scatter\\\",\\\"marker\\\":{\\\"colorbar\\\":{\\\"ticks\\\":\\\"\\\",\\\"outlinewidth\\\":0}}}],\\\"histogram2dcontour\\\":[{\\\"colorbar\\\":{\\\"ticks\\\":\\\"\\\",\\\"outlinewidth\\\":0},\\\"type\\\":\\\"histogram2dcontour\\\",\\\"colorscale\\\":[[0.0,\\\"#0d0887\\\"],[0.1111111111111111,\\\"#46039f\\\"],[0.2222222222222222,\\\"#7201a8\\\"],[0.3333333333333333,\\\"#9c179e\\\"],[0.4444444444444444,\\\"#bd3786\\\"],[0.5555555555555556,\\\"#d8576b\\\"],[0.6666666666666666,\\\"#ed7953\\\"],[0.7777777777777778,\\\"#fb9f3a\\\"],[0.8888888888888888,\\\"#fdca26\\\"],[1.0,\\\"#f0f921\\\"]]}],\\\"contour\\\":[{\\\"colorbar\\\":{\\\"ticks\\\":\\\"\\\",\\\"outlinewidth\\\":0},\\\"type\\\":\\\"contour\\\",\\\"colorscale\\\":[[0.0,\\\"#0d0887\\\"],[0.1111111111111111,\\\"#46039f\\\"],[0.2222222222222222,\\\"#7201a8\\\"],[0.3333333333333333,\\\"#9c179e\\\"],[0.4444444444444444,\\\"#bd3786\\\"],[0.5555555555555556,\\\"#d8576b\\\"],[0.6666666666666666,\\\"#ed7953\\\"],[0.7777777777777778,\\\"#fb9f3a\\\"],[0.8888888888888888,\\\"#fdca26\\\"],[1.0,\\\"#f0f921\\\"]]}],\\\"scattercarpet\\\":[{\\\"type\\\":\\\"scattercarpet\\\",\\\"marker\\\":{\\\"colorbar\\\":{\\\"ticks\\\":\\\"\\\",\\\"outlinewidth\\\":0}}}],\\\"mesh3d\\\":[{\\\"colorbar\\\":{\\\"ticks\\\":\\\"\\\",\\\"outlinewidth\\\":0},\\\"type\\\":\\\"mesh3d\\\"}],\\\"surface\\\":[{\\\"colorbar\\\":{\\\"ticks\\\":\\\"\\\",\\\"outlinewidth\\\":0},\\\"type\\\":\\\"surface\\\",\\\"colorscale\\\":[[0.0,\\\"#0d0887\\\"],[0.1111111111111111,\\\"#46039f\\\"],[0.2222222222222222,\\\"#7201a8\\\"],[0.3333333333333333,\\\"#9c179e\\\"],[0.4444444444444444,\\\"#bd3786\\\"],[0.5555555555555556,\\\"#d8576b\\\"],[0.6666666666666666,\\\"#ed7953\\\"],[0.7777777777777778,\\\"#fb9f3a\\\"],[0.8888888888888888,\\\"#fdca26\\\"],[1.0,\\\"#f0f921\\\"]]}],\\\"scattermapbox\\\":[{\\\"type\\\":\\\"scattermapbox\\\",\\\"marker\\\":{\\\"colorbar\\\":{\\\"ticks\\\":\\\"\\\",\\\"outlinewidth\\\":0}}}],\\\"scattergeo\\\":[{\\\"type\\\":\\\"scattergeo\\\",\\\"marker\\\":{\\\"colorbar\\\":{\\\"ticks\\\":\\\"\\\",\\\"outlinewidth\\\":0}}}],\\\"histogram\\\":[{\\\"type\\\":\\\"histogram\\\",\\\"marker\\\":{\\\"colorbar\\\":{\\\"ticks\\\":\\\"\\\",\\\"outlinewidth\\\":0}}}],\\\"pie\\\":[{\\\"type\\\":\\\"pie\\\",\\\"automargin\\\":true}],\\\"choropleth\\\":[{\\\"colorbar\\\":{\\\"ticks\\\":\\\"\\\",\\\"outlinewidth\\\":0},\\\"type\\\":\\\"choropleth\\\"}],\\\"heatmapgl\\\":[{\\\"colorbar\\\":{\\\"ticks\\\":\\\"\\\",\\\"outlinewidth\\\":0},\\\"type\\\":\\\"heatmapgl\\\",\\\"colorscale\\\":[[0.0,\\\"#0d0887\\\"],[0.1111111111111111,\\\"#46039f\\\"],[0.2222222222222222,\\\"#7201a8\\\"],[0.3333333333333333,\\\"#9c179e\\\"],[0.4444444444444444,\\\"#bd3786\\\"],[0.5555555555555556,\\\"#d8576b\\\"],[0.6666666666666666,\\\"#ed7953\\\"],[0.7777777777777778,\\\"#fb9f3a\\\"],[0.8888888888888888,\\\"#fdca26\\\"],[1.0,\\\"#f0f921\\\"]]}],\\\"bar\\\":[{\\\"type\\\":\\\"bar\\\",\\\"error_y\\\":{\\\"color\\\":\\\"#2a3f5f\\\"},\\\"error_x\\\":{\\\"color\\\":\\\"#2a3f5f\\\"},\\\"marker\\\":{\\\"line\\\":{\\\"color\\\":\\\"#E5ECF6\\\",\\\"width\\\":0.5}}}],\\\"heatmap\\\":[{\\\"colorbar\\\":{\\\"ticks\\\":\\\"\\\",\\\"outlinewidth\\\":0},\\\"type\\\":\\\"heatmap\\\",\\\"colorscale\\\":[[0.0,\\\"#0d0887\\\"],[0.1111111111111111,\\\"#46039f\\\"],[0.2222222222222222,\\\"#7201a8\\\"],[0.3333333333333333,\\\"#9c179e\\\"],[0.4444444444444444,\\\"#bd3786\\\"],[0.5555555555555556,\\\"#d8576b\\\"],[0.6666666666666666,\\\"#ed7953\\\"],[0.7777777777777778,\\\"#fb9f3a\\\"],[0.8888888888888888,\\\"#fdca26\\\"],[1.0,\\\"#f0f921\\\"]]}],\\\"contourcarpet\\\":[{\\\"colorbar\\\":{\\\"ticks\\\":\\\"\\\",\\\"outlinewidth\\\":0},\\\"type\\\":\\\"contourcarpet\\\"}],\\\"table\\\":[{\\\"type\\\":\\\"table\\\",\\\"header\\\":{\\\"line\\\":{\\\"color\\\":\\\"white\\\"},\\\"fill\\\":{\\\"color\\\":\\\"#C8D4E3\\\"}},\\\"cells\\\":{\\\"line\\\":{\\\"color\\\":\\\"white\\\"},\\\"fill\\\":{\\\"color\\\":\\\"#EBF0F8\\\"}}}],\\\"scatter3d\\\":[{\\\"line\\\":{\\\"colorbar\\\":{\\\"ticks\\\":\\\"\\\",\\\"outlinewidth\\\":0}},\\\"type\\\":\\\"scatter3d\\\",\\\"marker\\\":{\\\"colorbar\\\":{\\\"ticks\\\":\\\"\\\",\\\"outlinewidth\\\":0}}}],\\\"scattergl\\\":[{\\\"type\\\":\\\"scattergl\\\",\\\"marker\\\":{\\\"colorbar\\\":{\\\"ticks\\\":\\\"\\\",\\\"outlinewidth\\\":0}}}],\\\"histogram2d\\\":[{\\\"colorbar\\\":{\\\"ticks\\\":\\\"\\\",\\\"outlinewidth\\\":0},\\\"type\\\":\\\"histogram2d\\\",\\\"colorscale\\\":[[0.0,\\\"#0d0887\\\"],[0.1111111111111111,\\\"#46039f\\\"],[0.2222222222222222,\\\"#7201a8\\\"],[0.3333333333333333,\\\"#9c179e\\\"],[0.4444444444444444,\\\"#bd3786\\\"],[0.5555555555555556,\\\"#d8576b\\\"],[0.6666666666666666,\\\"#ed7953\\\"],[0.7777777777777778,\\\"#fb9f3a\\\"],[0.8888888888888888,\\\"#fdca26\\\"],[1.0,\\\"#f0f921\\\"]]}],\\\"scatterternary\\\":[{\\\"type\\\":\\\"scatterternary\\\",\\\"marker\\\":{\\\"colorbar\\\":{\\\"ticks\\\":\\\"\\\",\\\"outlinewidth\\\":0}}}],\\\"scatterpolargl\\\":[{\\\"type\\\":\\\"scatterpolargl\\\",\\\"marker\\\":{\\\"colorbar\\\":{\\\"ticks\\\":\\\"\\\",\\\"outlinewidth\\\":0}}}]}},\\\"barmode\\\":\\\"stack\\\",\\\"margin\\\":{\\\"l\\\":50,\\\"b\\\":50,\\\"r\\\":50,\\\"t\\\":60}},{\\\"showLink\\\":false,\\\"editable\\\":false,\\\"responsive\\\":true,\\\"staticPlot\\\":false,\\\"scrollZoom\\\":true}); gd.on(\\\"plotly_hover\\\",(function (data){var filtered_data=WebIO.PlotlyCommands.filterEventData(gd,data,\\\"hover\\\"); return !(filtered_data.isnil) ? (WebIO.setval({\\\"name\\\":\\\"hover\\\",\\\"scope\\\":\\\"8427055207856562990\\\",\\\"id\\\":\\\"5075754141597897458\\\",\\\"type\\\":\\\"observable\\\"},filtered_data.out)) : undefined})); gd.on(\\\"plotly_unhover\\\",(function (){return WebIO.setval({\\\"name\\\":\\\"hover\\\",\\\"scope\\\":\\\"8427055207856562990\\\",\\\"id\\\":\\\"5075754141597897458\\\",\\\"type\\\":\\\"observable\\\"},{})})); gd.on(\\\"plotly_selected\\\",(function (data){var filtered_data=WebIO.PlotlyCommands.filterEventData(gd,data,\\\"selected\\\"); return !(filtered_data.isnil) ? (WebIO.setval({\\\"name\\\":\\\"selected\\\",\\\"scope\\\":\\\"8427055207856562990\\\",\\\"id\\\":\\\"4163399200842613850\\\",\\\"type\\\":\\\"observable\\\"},filtered_data.out)) : undefined})); gd.on(\\\"plotly_deselect\\\",(function (){return WebIO.setval({\\\"name\\\":\\\"selected\\\",\\\"scope\\\":\\\"8427055207856562990\\\",\\\"id\\\":\\\"4163399200842613850\\\",\\\"type\\\":\\\"observable\\\"},{})})); gd.on(\\\"plotly_relayout\\\",(function (data){var filtered_data=WebIO.PlotlyCommands.filterEventData(gd,data,\\\"relayout\\\"); return !(filtered_data.isnil) ? (WebIO.setval({\\\"name\\\":\\\"relayout\\\",\\\"scope\\\":\\\"8427055207856562990\\\",\\\"id\\\":\\\"14717704478619818570\\\",\\\"type\\\":\\\"observable\\\"},filtered_data.out)) : undefined})); return gd.on(\\\"plotly_click\\\",(function (data){var filtered_data=WebIO.PlotlyCommands.filterEventData(gd,data,\\\"click\\\"); return !(filtered_data.isnil) ? (WebIO.setval({\\\"name\\\":\\\"click\\\",\\\"scope\\\":\\\"8427055207856562990\\\",\\\"id\\\":\\\"8022444360525851814\\\",\\\"type\\\":\\\"observable\\\"},filtered_data.out)) : undefined}))}));\\n    (WebIO.importBlock({\\\"data\\\":[{\\\"name\\\":\\\"Plotly\\\",\\\"type\\\":\\\"js\\\",\\\"url\\\":\\\"\\/assetserver\\/7dc425d3d9acdbb7fba54ce8841409ff1fd2b16c-plotly.min.js\\\"},{\\\"name\\\":null,\\\"type\\\":\\\"js\\\",\\\"url\\\":\\\"\\/assetserver\\/bdef9d06b2ff8f6ff9f383d24c2633cfc4dfc0cb-plotly_webio.bundle.js\\\"}],\\\"type\\\":\\\"async_block\\\"})).then((imports) => handler.apply(this, imports));\\n}\\n\"],\"observables\":{\"_toImage\":{\"sync\":false,\"id\":\"1348424601577768951\",\"value\":{}},\"hover\":{\"sync\":false,\"id\":\"5075754141597897458\",\"value\":{}},\"selected\":{\"sync\":false,\"id\":\"4163399200842613850\",\"value\":{}},\"__gd_contents\":{\"sync\":false,\"id\":\"2704673086323661698\",\"value\":{}},\"click\":{\"sync\":false,\"id\":\"8022444360525851814\",\"value\":{}},\"image\":{\"sync\":true,\"id\":\"7722660109891438818\",\"value\":\"\"},\"__get_gd_contents\":{\"sync\":false,\"id\":\"10680448159177859096\",\"value\":\"\"},\"_downloadImage\":{\"sync\":false,\"id\":\"4332019320550920500\",\"value\":{}},\"relayout\":{\"sync\":false,\"id\":\"14717704478619818570\",\"value\":{}},\"_commands\":{\"sync\":false,\"id\":\"4194988517768742480\",\"value\":[]}}},\"children\":[{\"props\":{\"id\":\"plot-4e6b4618-6629-47b6-8db6-35ad2e18171d\"},\"nodeType\":\"DOM\",\"type\":\"node\",\"instanceArgs\":{\"namespace\":\"html\",\"tag\":\"div\"},\"children\":[]}]},\n",
       "        window,\n",
       "    );\n",
       "    })()\n",
       "    </script>\n",
       "</div>\n"
      ],
      "text/plain": [
       "data: [\n",
       "  \"bar with fields name, type, x, and y\",\n",
       "  \"bar with fields name, type, x, and y\",\n",
       "  \"bar with fields name, type, x, and y\"\n",
       "]\n",
       "\n",
       "layout: \"layout with fields barmode, margin, and template\"\n",
       "\n"
      ]
     },
     "execution_count": 4,
     "metadata": {},
     "output_type": "execute_result"
    }
   ],
   "source": [
    "kraje2 = DataFrame(CSV.File(\"krajev2.csv\"))\n",
    "show(kraje2,allrows=true,allcols=true)\n",
    "\n",
    "using PlotlyJS\n",
    "kraje = kraje2[:,\"kraje\"]\n",
    "y1=kraje2[:,\"pork\"]\n",
    "y2=kraje2[:,\"beef\"]\n",
    "y3=kraje2[:,\"poultry\"]\n",
    "w = plot([\n",
    "    bar(name=\"Wieprzowina\", x=kraje, y=y1)\n",
    "    bar(name=\"Wołowina\", x=kraje, y=y2)\n",
    "    bar(name=\"Drób\", x=kraje, y=y3)\n",
    "], Layout(barmode=\"stack\"))\n"
   ]
  },
  {
   "cell_type": "code",
   "execution_count": 5,
   "id": "0e699296",
   "metadata": {},
   "outputs": [
    {
     "data": {
      "application/vnd.plotly.v1+json": {
       "config": {
        "editable": false,
        "responsive": true,
        "scrollZoom": true,
        "showLink": false,
        "staticPlot": false
       },
       "data": [
        {
         "name": "Zużyte litry wody na wieprzowine",
         "type": "bar",
         "x": [
          "Niemcy",
          "Francja",
          "Hiszpania",
          "Ukraina",
          "Polska"
         ],
         "y": [
          7968000000000,
          12648000000000,
          2850000000000,
          3960000000000,
          8664000000000
         ]
        },
        {
         "name": "Zużyte litry wody na wołowine",
         "type": "bar",
         "x": [
          "Niemcy",
          "Francja",
          "Hiszpania",
          "Ukraina",
          "Polska"
         ],
         "y": [
          6225000000000,
          9588000000000,
          3562500000000,
          3960000000000,
          1140000000000
         ]
        },
        {
         "name": "Zużyte litry wody na drób",
         "type": "bar",
         "x": [
          "Niemcy",
          "Francja",
          "Hiszpania",
          "Ukraina",
          "Polska"
         ],
         "y": [
          21248000000000,
          3563200000000,
          5700000000000,
          2640000000000,
          3800000000000
         ]
        }
       ],
       "frames": [],
       "layout": {
        "barmode": "stack",
        "margin": {
         "b": 50,
         "l": 50,
         "r": 50,
         "t": 60
        },
        "template": {
         "data": {
          "bar": [
           {
            "error_x": {
             "color": "#2a3f5f"
            },
            "error_y": {
             "color": "#2a3f5f"
            },
            "marker": {
             "line": {
              "color": "#E5ECF6",
              "width": 0.5
             }
            },
            "type": "bar"
           }
          ],
          "barpolar": [
           {
            "marker": {
             "line": {
              "color": "#E5ECF6",
              "width": 0.5
             }
            },
            "type": "barpolar"
           }
          ],
          "carpet": [
           {
            "aaxis": {
             "endlinecolor": "#2a3f5f",
             "gridcolor": "white",
             "linecolor": "white",
             "minorgridcolor": "white",
             "startlinecolor": "#2a3f5f"
            },
            "baxis": {
             "endlinecolor": "#2a3f5f",
             "gridcolor": "white",
             "linecolor": "white",
             "minorgridcolor": "white",
             "startlinecolor": "#2a3f5f"
            },
            "type": "carpet"
           }
          ],
          "choropleth": [
           {
            "colorbar": {
             "outlinewidth": 0,
             "ticks": ""
            },
            "type": "choropleth"
           }
          ],
          "contour": [
           {
            "colorbar": {
             "outlinewidth": 0,
             "ticks": ""
            },
            "colorscale": [
             [
              0,
              "#0d0887"
             ],
             [
              0.1111111111111111,
              "#46039f"
             ],
             [
              0.2222222222222222,
              "#7201a8"
             ],
             [
              0.3333333333333333,
              "#9c179e"
             ],
             [
              0.4444444444444444,
              "#bd3786"
             ],
             [
              0.5555555555555556,
              "#d8576b"
             ],
             [
              0.6666666666666666,
              "#ed7953"
             ],
             [
              0.7777777777777778,
              "#fb9f3a"
             ],
             [
              0.8888888888888888,
              "#fdca26"
             ],
             [
              1,
              "#f0f921"
             ]
            ],
            "type": "contour"
           }
          ],
          "contourcarpet": [
           {
            "colorbar": {
             "outlinewidth": 0,
             "ticks": ""
            },
            "type": "contourcarpet"
           }
          ],
          "heatmap": [
           {
            "colorbar": {
             "outlinewidth": 0,
             "ticks": ""
            },
            "colorscale": [
             [
              0,
              "#0d0887"
             ],
             [
              0.1111111111111111,
              "#46039f"
             ],
             [
              0.2222222222222222,
              "#7201a8"
             ],
             [
              0.3333333333333333,
              "#9c179e"
             ],
             [
              0.4444444444444444,
              "#bd3786"
             ],
             [
              0.5555555555555556,
              "#d8576b"
             ],
             [
              0.6666666666666666,
              "#ed7953"
             ],
             [
              0.7777777777777778,
              "#fb9f3a"
             ],
             [
              0.8888888888888888,
              "#fdca26"
             ],
             [
              1,
              "#f0f921"
             ]
            ],
            "type": "heatmap"
           }
          ],
          "heatmapgl": [
           {
            "colorbar": {
             "outlinewidth": 0,
             "ticks": ""
            },
            "colorscale": [
             [
              0,
              "#0d0887"
             ],
             [
              0.1111111111111111,
              "#46039f"
             ],
             [
              0.2222222222222222,
              "#7201a8"
             ],
             [
              0.3333333333333333,
              "#9c179e"
             ],
             [
              0.4444444444444444,
              "#bd3786"
             ],
             [
              0.5555555555555556,
              "#d8576b"
             ],
             [
              0.6666666666666666,
              "#ed7953"
             ],
             [
              0.7777777777777778,
              "#fb9f3a"
             ],
             [
              0.8888888888888888,
              "#fdca26"
             ],
             [
              1,
              "#f0f921"
             ]
            ],
            "type": "heatmapgl"
           }
          ],
          "histogram": [
           {
            "marker": {
             "colorbar": {
              "outlinewidth": 0,
              "ticks": ""
             }
            },
            "type": "histogram"
           }
          ],
          "histogram2d": [
           {
            "colorbar": {
             "outlinewidth": 0,
             "ticks": ""
            },
            "colorscale": [
             [
              0,
              "#0d0887"
             ],
             [
              0.1111111111111111,
              "#46039f"
             ],
             [
              0.2222222222222222,
              "#7201a8"
             ],
             [
              0.3333333333333333,
              "#9c179e"
             ],
             [
              0.4444444444444444,
              "#bd3786"
             ],
             [
              0.5555555555555556,
              "#d8576b"
             ],
             [
              0.6666666666666666,
              "#ed7953"
             ],
             [
              0.7777777777777778,
              "#fb9f3a"
             ],
             [
              0.8888888888888888,
              "#fdca26"
             ],
             [
              1,
              "#f0f921"
             ]
            ],
            "type": "histogram2d"
           }
          ],
          "histogram2dcontour": [
           {
            "colorbar": {
             "outlinewidth": 0,
             "ticks": ""
            },
            "colorscale": [
             [
              0,
              "#0d0887"
             ],
             [
              0.1111111111111111,
              "#46039f"
             ],
             [
              0.2222222222222222,
              "#7201a8"
             ],
             [
              0.3333333333333333,
              "#9c179e"
             ],
             [
              0.4444444444444444,
              "#bd3786"
             ],
             [
              0.5555555555555556,
              "#d8576b"
             ],
             [
              0.6666666666666666,
              "#ed7953"
             ],
             [
              0.7777777777777778,
              "#fb9f3a"
             ],
             [
              0.8888888888888888,
              "#fdca26"
             ],
             [
              1,
              "#f0f921"
             ]
            ],
            "type": "histogram2dcontour"
           }
          ],
          "mesh3d": [
           {
            "colorbar": {
             "outlinewidth": 0,
             "ticks": ""
            },
            "type": "mesh3d"
           }
          ],
          "parcoords": [
           {
            "line": {
             "colorbar": {
              "outlinewidth": 0,
              "ticks": ""
             }
            },
            "type": "parcoords"
           }
          ],
          "pie": [
           {
            "automargin": true,
            "type": "pie"
           }
          ],
          "scatter": [
           {
            "marker": {
             "colorbar": {
              "outlinewidth": 0,
              "ticks": ""
             }
            },
            "type": "scatter"
           }
          ],
          "scatter3d": [
           {
            "line": {
             "colorbar": {
              "outlinewidth": 0,
              "ticks": ""
             }
            },
            "marker": {
             "colorbar": {
              "outlinewidth": 0,
              "ticks": ""
             }
            },
            "type": "scatter3d"
           }
          ],
          "scattercarpet": [
           {
            "marker": {
             "colorbar": {
              "outlinewidth": 0,
              "ticks": ""
             }
            },
            "type": "scattercarpet"
           }
          ],
          "scattergeo": [
           {
            "marker": {
             "colorbar": {
              "outlinewidth": 0,
              "ticks": ""
             }
            },
            "type": "scattergeo"
           }
          ],
          "scattergl": [
           {
            "marker": {
             "colorbar": {
              "outlinewidth": 0,
              "ticks": ""
             }
            },
            "type": "scattergl"
           }
          ],
          "scattermapbox": [
           {
            "marker": {
             "colorbar": {
              "outlinewidth": 0,
              "ticks": ""
             }
            },
            "type": "scattermapbox"
           }
          ],
          "scatterpolar": [
           {
            "marker": {
             "colorbar": {
              "outlinewidth": 0,
              "ticks": ""
             }
            },
            "type": "scatterpolar"
           }
          ],
          "scatterpolargl": [
           {
            "marker": {
             "colorbar": {
              "outlinewidth": 0,
              "ticks": ""
             }
            },
            "type": "scatterpolargl"
           }
          ],
          "scatterternary": [
           {
            "marker": {
             "colorbar": {
              "outlinewidth": 0,
              "ticks": ""
             }
            },
            "type": "scatterternary"
           }
          ],
          "surface": [
           {
            "colorbar": {
             "outlinewidth": 0,
             "ticks": ""
            },
            "colorscale": [
             [
              0,
              "#0d0887"
             ],
             [
              0.1111111111111111,
              "#46039f"
             ],
             [
              0.2222222222222222,
              "#7201a8"
             ],
             [
              0.3333333333333333,
              "#9c179e"
             ],
             [
              0.4444444444444444,
              "#bd3786"
             ],
             [
              0.5555555555555556,
              "#d8576b"
             ],
             [
              0.6666666666666666,
              "#ed7953"
             ],
             [
              0.7777777777777778,
              "#fb9f3a"
             ],
             [
              0.8888888888888888,
              "#fdca26"
             ],
             [
              1,
              "#f0f921"
             ]
            ],
            "type": "surface"
           }
          ],
          "table": [
           {
            "cells": {
             "fill": {
              "color": "#EBF0F8"
             },
             "line": {
              "color": "white"
             }
            },
            "header": {
             "fill": {
              "color": "#C8D4E3"
             },
             "line": {
              "color": "white"
             }
            },
            "type": "table"
           }
          ]
         },
         "layout": {
          "annotationdefaults": {
           "arrowcolor": "#2a3f5f",
           "arrowhead": 0,
           "arrowwidth": 1
          },
          "autotypenumbers": "strict",
          "coloraxis": {
           "colorbar": {
            "outlinewidth": 0,
            "ticks": ""
           }
          },
          "colorscale": {
           "diverging": [
            [
             0,
             "#8e0152"
            ],
            [
             0.1,
             "#c51b7d"
            ],
            [
             0.2,
             "#de77ae"
            ],
            [
             0.3,
             "#f1b6da"
            ],
            [
             0.4,
             "#fde0ef"
            ],
            [
             0.5,
             "#f7f7f7"
            ],
            [
             0.6,
             "#e6f5d0"
            ],
            [
             0.7,
             "#b8e186"
            ],
            [
             0.8,
             "#7fbc41"
            ],
            [
             0.9,
             "#4d9221"
            ],
            [
             1,
             "#276419"
            ]
           ],
           "sequential": [
            [
             0,
             "#0d0887"
            ],
            [
             0.1111111111111111,
             "#46039f"
            ],
            [
             0.2222222222222222,
             "#7201a8"
            ],
            [
             0.3333333333333333,
             "#9c179e"
            ],
            [
             0.4444444444444444,
             "#bd3786"
            ],
            [
             0.5555555555555556,
             "#d8576b"
            ],
            [
             0.6666666666666666,
             "#ed7953"
            ],
            [
             0.7777777777777778,
             "#fb9f3a"
            ],
            [
             0.8888888888888888,
             "#fdca26"
            ],
            [
             1,
             "#f0f921"
            ]
           ],
           "sequentialminus": [
            [
             0,
             "#0d0887"
            ],
            [
             0.1111111111111111,
             "#46039f"
            ],
            [
             0.2222222222222222,
             "#7201a8"
            ],
            [
             0.3333333333333333,
             "#9c179e"
            ],
            [
             0.4444444444444444,
             "#bd3786"
            ],
            [
             0.5555555555555556,
             "#d8576b"
            ],
            [
             0.6666666666666666,
             "#ed7953"
            ],
            [
             0.7777777777777778,
             "#fb9f3a"
            ],
            [
             0.8888888888888888,
             "#fdca26"
            ],
            [
             1,
             "#f0f921"
            ]
           ]
          },
          "colorway": [
           "#636efa",
           "#EF553B",
           "#00cc96",
           "#ab63fa",
           "#FFA15A",
           "#19d3f3",
           "#FF6692",
           "#B6E880",
           "#FF97FF",
           "#FECB52"
          ],
          "font": {
           "color": "#2a3f5f"
          },
          "geo": {
           "bgcolor": "white",
           "lakecolor": "white",
           "landcolor": "#E5ECF6",
           "showlakes": true,
           "showland": true,
           "subunitcolor": "white"
          },
          "hoverlabel": {
           "align": "left"
          },
          "hovermode": "closest",
          "mapbox": {
           "style": "light"
          },
          "paper_bgcolor": "white",
          "plot_bgcolor": "#E5ECF6",
          "polar": {
           "angularaxis": {
            "gridcolor": "white",
            "linecolor": "white",
            "ticks": ""
           },
           "bgcolor": "#E5ECF6",
           "radialaxis": {
            "gridcolor": "white",
            "linecolor": "white",
            "ticks": ""
           }
          },
          "scene": {
           "xaxis": {
            "backgroundcolor": "#E5ECF6",
            "gridcolor": "white",
            "gridwidth": 2,
            "linecolor": "white",
            "showbackground": true,
            "ticks": "",
            "zerolinecolor": "white"
           },
           "yaxis": {
            "backgroundcolor": "#E5ECF6",
            "gridcolor": "white",
            "gridwidth": 2,
            "linecolor": "white",
            "showbackground": true,
            "ticks": "",
            "zerolinecolor": "white"
           },
           "zaxis": {
            "backgroundcolor": "#E5ECF6",
            "gridcolor": "white",
            "gridwidth": 2,
            "linecolor": "white",
            "showbackground": true,
            "ticks": "",
            "zerolinecolor": "white"
           }
          },
          "shapedefaults": {
           "line": {
            "color": "#2a3f5f"
           }
          },
          "ternary": {
           "aaxis": {
            "gridcolor": "white",
            "linecolor": "white",
            "ticks": ""
           },
           "baxis": {
            "gridcolor": "white",
            "linecolor": "white",
            "ticks": ""
           },
           "bgcolor": "#E5ECF6",
           "caxis": {
            "gridcolor": "white",
            "linecolor": "white",
            "ticks": ""
           }
          },
          "title": {
           "x": 0.05
          },
          "xaxis": {
           "automargin": true,
           "gridcolor": "white",
           "linecolor": "white",
           "ticks": "",
           "title": {
            "standoff": 15
           },
           "zerolinecolor": "white",
           "zerolinewidth": 2
          },
          "yaxis": {
           "automargin": true,
           "gridcolor": "white",
           "linecolor": "white",
           "ticks": "",
           "title": {
            "standoff": 15
           },
           "zerolinecolor": "white",
           "zerolinewidth": 2
          }
         }
        }
       }
      },
      "text/html": [
       "<div\n",
       "    class=\"webio-mountpoint\"\n",
       "    data-webio-mountpoint=\"9275889946746207269\"\n",
       ">\n",
       "    <script>\n",
       "    (function(){\n",
       "    // Some integrations (namely, IJulia/Jupyter) use an alternate render pathway than\n",
       "    // just putting the html on the page. If WebIO isn't defined, then it's pretty likely\n",
       "    // that we're in one of those situations and the integration just isn't installed\n",
       "    // correctly.\n",
       "    if (typeof window.WebIO === \"undefined\") {\n",
       "        document\n",
       "            .querySelector('[data-webio-mountpoint=\"9275889946746207269\"]')\n",
       "            .innerHTML = (\n",
       "                '<div style=\"padding: 1em; background-color: #f8d6da; border: 1px solid #f5c6cb; font-weight: bold;\">' +\n",
       "                '<p><strong>WebIO not detected.</strong></p>' +\n",
       "                '<p>Please read ' +\n",
       "                '<a href=\"https://juliagizmos.github.io/WebIO.jl/latest/troubleshooting/not-detected/\" target=\"_blank\">the troubleshooting guide</a> ' +\n",
       "                'for more information on how to resolve this issue.</p>' +\n",
       "                '<p><a href=\"https://juliagizmos.github.io/WebIO.jl/latest/troubleshooting/not-detected/\" target=\"_blank\">https://juliagizmos.github.io/WebIO.jl/latest/troubleshooting/not-detected/</a></p>' +\n",
       "                '</div>'\n",
       "            );\n",
       "        return;\n",
       "    }\n",
       "    WebIO.mount(\n",
       "        document.querySelector('[data-webio-mountpoint=\"9275889946746207269\"]'),\n",
       "        {\"props\":{},\"nodeType\":\"Scope\",\"type\":\"node\",\"instanceArgs\":{\"imports\":{\"data\":[{\"name\":\"Plotly\",\"type\":\"js\",\"url\":\"\\/assetserver\\/7dc425d3d9acdbb7fba54ce8841409ff1fd2b16c-plotly.min.js\"},{\"name\":null,\"type\":\"js\",\"url\":\"\\/assetserver\\/bdef9d06b2ff8f6ff9f383d24c2633cfc4dfc0cb-plotly_webio.bundle.js\"}],\"type\":\"async_block\"},\"id\":\"11969877829564424780\",\"handlers\":{\"_toImage\":[\"(function (options){return this.Plotly.toImage(this.plotElem,options).then((function (data){return WebIO.setval({\\\"name\\\":\\\"image\\\",\\\"scope\\\":\\\"11969877829564424780\\\",\\\"id\\\":\\\"17495086872771013515\\\",\\\"type\\\":\\\"observable\\\"},data)}))})\"],\"__get_gd_contents\":[\"(function (prop){prop==\\\"data\\\" ? (WebIO.setval({\\\"name\\\":\\\"__gd_contents\\\",\\\"scope\\\":\\\"11969877829564424780\\\",\\\"id\\\":\\\"10657336146504485587\\\",\\\"type\\\":\\\"observable\\\"},this.plotElem.data)) : undefined; return prop==\\\"layout\\\" ? (WebIO.setval({\\\"name\\\":\\\"__gd_contents\\\",\\\"scope\\\":\\\"11969877829564424780\\\",\\\"id\\\":\\\"10657336146504485587\\\",\\\"type\\\":\\\"observable\\\"},this.plotElem.layout)) : undefined})\"],\"_downloadImage\":[\"(function (options){return this.Plotly.downloadImage(this.plotElem,options)})\"],\"_commands\":[\"(function (args){var fn=args.shift(); var elem=this.plotElem; var Plotly=this.Plotly; args.unshift(elem); return Plotly[fn].apply(this,args)})\"]},\"systemjs_options\":null,\"mount_callbacks\":[\"function () {\\n    var handler = ((function (Plotly,PlotlyWebIO){PlotlyWebIO.init(WebIO); var gd=this.dom.querySelector(\\\"#plot-de8ab5ae-754b-40c6-b96a-ce0778a498e3\\\"); this.plotElem=gd; this.Plotly=Plotly; (window.Blink!==undefined) ? (gd.style.width=\\\"100%\\\", gd.style.height=\\\"100vh\\\", gd.style.marginLeft=\\\"0%\\\", gd.style.marginTop=\\\"0vh\\\") : undefined; window.onresize=(function (){return Plotly.Plots.resize(gd)}); Plotly.newPlot(gd,[{\\\"y\\\":[7968000000000,12648000000000,2850000000000,3960000000000,8664000000000],\\\"type\\\":\\\"bar\\\",\\\"name\\\":\\\"Zużyte litry wody na wieprzowine\\\",\\\"x\\\":[\\\"Niemcy\\\",\\\"Francja\\\",\\\"Hiszpania\\\",\\\"Ukraina\\\",\\\"Polska\\\"]},{\\\"y\\\":[6.225e12,9.588e12,3.5625e12,3.96e12,1.14e12],\\\"type\\\":\\\"bar\\\",\\\"name\\\":\\\"Zużyte litry wody na wołowine\\\",\\\"x\\\":[\\\"Niemcy\\\",\\\"Francja\\\",\\\"Hiszpania\\\",\\\"Ukraina\\\",\\\"Polska\\\"]},{\\\"y\\\":[2.1248e13,3.5632e12,5.7e12,2.64e12,3.8e12],\\\"type\\\":\\\"bar\\\",\\\"name\\\":\\\"Zużyte litry wody na drób\\\",\\\"x\\\":[\\\"Niemcy\\\",\\\"Francja\\\",\\\"Hiszpania\\\",\\\"Ukraina\\\",\\\"Polska\\\"]}],{\\\"template\\\":{\\\"layout\\\":{\\\"coloraxis\\\":{\\\"colorbar\\\":{\\\"ticks\\\":\\\"\\\",\\\"outlinewidth\\\":0}},\\\"xaxis\\\":{\\\"gridcolor\\\":\\\"white\\\",\\\"zerolinewidth\\\":2,\\\"title\\\":{\\\"standoff\\\":15},\\\"ticks\\\":\\\"\\\",\\\"zerolinecolor\\\":\\\"white\\\",\\\"automargin\\\":true,\\\"linecolor\\\":\\\"white\\\"},\\\"hovermode\\\":\\\"closest\\\",\\\"paper_bgcolor\\\":\\\"white\\\",\\\"geo\\\":{\\\"showlakes\\\":true,\\\"showland\\\":true,\\\"landcolor\\\":\\\"#E5ECF6\\\",\\\"bgcolor\\\":\\\"white\\\",\\\"subunitcolor\\\":\\\"white\\\",\\\"lakecolor\\\":\\\"white\\\"},\\\"colorscale\\\":{\\\"sequential\\\":[[0.0,\\\"#0d0887\\\"],[0.1111111111111111,\\\"#46039f\\\"],[0.2222222222222222,\\\"#7201a8\\\"],[0.3333333333333333,\\\"#9c179e\\\"],[0.4444444444444444,\\\"#bd3786\\\"],[0.5555555555555556,\\\"#d8576b\\\"],[0.6666666666666666,\\\"#ed7953\\\"],[0.7777777777777778,\\\"#fb9f3a\\\"],[0.8888888888888888,\\\"#fdca26\\\"],[1.0,\\\"#f0f921\\\"]],\\\"diverging\\\":[[0,\\\"#8e0152\\\"],[0.1,\\\"#c51b7d\\\"],[0.2,\\\"#de77ae\\\"],[0.3,\\\"#f1b6da\\\"],[0.4,\\\"#fde0ef\\\"],[0.5,\\\"#f7f7f7\\\"],[0.6,\\\"#e6f5d0\\\"],[0.7,\\\"#b8e186\\\"],[0.8,\\\"#7fbc41\\\"],[0.9,\\\"#4d9221\\\"],[1,\\\"#276419\\\"]],\\\"sequentialminus\\\":[[0.0,\\\"#0d0887\\\"],[0.1111111111111111,\\\"#46039f\\\"],[0.2222222222222222,\\\"#7201a8\\\"],[0.3333333333333333,\\\"#9c179e\\\"],[0.4444444444444444,\\\"#bd3786\\\"],[0.5555555555555556,\\\"#d8576b\\\"],[0.6666666666666666,\\\"#ed7953\\\"],[0.7777777777777778,\\\"#fb9f3a\\\"],[0.8888888888888888,\\\"#fdca26\\\"],[1.0,\\\"#f0f921\\\"]]},\\\"yaxis\\\":{\\\"gridcolor\\\":\\\"white\\\",\\\"zerolinewidth\\\":2,\\\"title\\\":{\\\"standoff\\\":15},\\\"ticks\\\":\\\"\\\",\\\"zerolinecolor\\\":\\\"white\\\",\\\"automargin\\\":true,\\\"linecolor\\\":\\\"white\\\"},\\\"shapedefaults\\\":{\\\"line\\\":{\\\"color\\\":\\\"#2a3f5f\\\"}},\\\"hoverlabel\\\":{\\\"align\\\":\\\"left\\\"},\\\"mapbox\\\":{\\\"style\\\":\\\"light\\\"},\\\"polar\\\":{\\\"angularaxis\\\":{\\\"gridcolor\\\":\\\"white\\\",\\\"ticks\\\":\\\"\\\",\\\"linecolor\\\":\\\"white\\\"},\\\"bgcolor\\\":\\\"#E5ECF6\\\",\\\"radialaxis\\\":{\\\"gridcolor\\\":\\\"white\\\",\\\"ticks\\\":\\\"\\\",\\\"linecolor\\\":\\\"white\\\"}},\\\"autotypenumbers\\\":\\\"strict\\\",\\\"font\\\":{\\\"color\\\":\\\"#2a3f5f\\\"},\\\"ternary\\\":{\\\"baxis\\\":{\\\"gridcolor\\\":\\\"white\\\",\\\"ticks\\\":\\\"\\\",\\\"linecolor\\\":\\\"white\\\"},\\\"bgcolor\\\":\\\"#E5ECF6\\\",\\\"caxis\\\":{\\\"gridcolor\\\":\\\"white\\\",\\\"ticks\\\":\\\"\\\",\\\"linecolor\\\":\\\"white\\\"},\\\"aaxis\\\":{\\\"gridcolor\\\":\\\"white\\\",\\\"ticks\\\":\\\"\\\",\\\"linecolor\\\":\\\"white\\\"}},\\\"annotationdefaults\\\":{\\\"arrowhead\\\":0,\\\"arrowwidth\\\":1,\\\"arrowcolor\\\":\\\"#2a3f5f\\\"},\\\"plot_bgcolor\\\":\\\"#E5ECF6\\\",\\\"title\\\":{\\\"x\\\":0.05},\\\"scene\\\":{\\\"xaxis\\\":{\\\"gridcolor\\\":\\\"white\\\",\\\"gridwidth\\\":2,\\\"backgroundcolor\\\":\\\"#E5ECF6\\\",\\\"ticks\\\":\\\"\\\",\\\"showbackground\\\":true,\\\"zerolinecolor\\\":\\\"white\\\",\\\"linecolor\\\":\\\"white\\\"},\\\"zaxis\\\":{\\\"gridcolor\\\":\\\"white\\\",\\\"gridwidth\\\":2,\\\"backgroundcolor\\\":\\\"#E5ECF6\\\",\\\"ticks\\\":\\\"\\\",\\\"showbackground\\\":true,\\\"zerolinecolor\\\":\\\"white\\\",\\\"linecolor\\\":\\\"white\\\"},\\\"yaxis\\\":{\\\"gridcolor\\\":\\\"white\\\",\\\"gridwidth\\\":2,\\\"backgroundcolor\\\":\\\"#E5ECF6\\\",\\\"ticks\\\":\\\"\\\",\\\"showbackground\\\":true,\\\"zerolinecolor\\\":\\\"white\\\",\\\"linecolor\\\":\\\"white\\\"}},\\\"colorway\\\":[\\\"#636efa\\\",\\\"#EF553B\\\",\\\"#00cc96\\\",\\\"#ab63fa\\\",\\\"#FFA15A\\\",\\\"#19d3f3\\\",\\\"#FF6692\\\",\\\"#B6E880\\\",\\\"#FF97FF\\\",\\\"#FECB52\\\"]},\\\"data\\\":{\\\"barpolar\\\":[{\\\"type\\\":\\\"barpolar\\\",\\\"marker\\\":{\\\"line\\\":{\\\"color\\\":\\\"#E5ECF6\\\",\\\"width\\\":0.5}}}],\\\"carpet\\\":[{\\\"aaxis\\\":{\\\"gridcolor\\\":\\\"white\\\",\\\"endlinecolor\\\":\\\"#2a3f5f\\\",\\\"minorgridcolor\\\":\\\"white\\\",\\\"startlinecolor\\\":\\\"#2a3f5f\\\",\\\"linecolor\\\":\\\"white\\\"},\\\"type\\\":\\\"carpet\\\",\\\"baxis\\\":{\\\"gridcolor\\\":\\\"white\\\",\\\"endlinecolor\\\":\\\"#2a3f5f\\\",\\\"minorgridcolor\\\":\\\"white\\\",\\\"startlinecolor\\\":\\\"#2a3f5f\\\",\\\"linecolor\\\":\\\"white\\\"}}],\\\"scatterpolar\\\":[{\\\"type\\\":\\\"scatterpolar\\\",\\\"marker\\\":{\\\"colorbar\\\":{\\\"ticks\\\":\\\"\\\",\\\"outlinewidth\\\":0}}}],\\\"parcoords\\\":[{\\\"line\\\":{\\\"colorbar\\\":{\\\"ticks\\\":\\\"\\\",\\\"outlinewidth\\\":0}},\\\"type\\\":\\\"parcoords\\\"}],\\\"scatter\\\":[{\\\"type\\\":\\\"scatter\\\",\\\"marker\\\":{\\\"colorbar\\\":{\\\"ticks\\\":\\\"\\\",\\\"outlinewidth\\\":0}}}],\\\"histogram2dcontour\\\":[{\\\"colorbar\\\":{\\\"ticks\\\":\\\"\\\",\\\"outlinewidth\\\":0},\\\"type\\\":\\\"histogram2dcontour\\\",\\\"colorscale\\\":[[0.0,\\\"#0d0887\\\"],[0.1111111111111111,\\\"#46039f\\\"],[0.2222222222222222,\\\"#7201a8\\\"],[0.3333333333333333,\\\"#9c179e\\\"],[0.4444444444444444,\\\"#bd3786\\\"],[0.5555555555555556,\\\"#d8576b\\\"],[0.6666666666666666,\\\"#ed7953\\\"],[0.7777777777777778,\\\"#fb9f3a\\\"],[0.8888888888888888,\\\"#fdca26\\\"],[1.0,\\\"#f0f921\\\"]]}],\\\"contour\\\":[{\\\"colorbar\\\":{\\\"ticks\\\":\\\"\\\",\\\"outlinewidth\\\":0},\\\"type\\\":\\\"contour\\\",\\\"colorscale\\\":[[0.0,\\\"#0d0887\\\"],[0.1111111111111111,\\\"#46039f\\\"],[0.2222222222222222,\\\"#7201a8\\\"],[0.3333333333333333,\\\"#9c179e\\\"],[0.4444444444444444,\\\"#bd3786\\\"],[0.5555555555555556,\\\"#d8576b\\\"],[0.6666666666666666,\\\"#ed7953\\\"],[0.7777777777777778,\\\"#fb9f3a\\\"],[0.8888888888888888,\\\"#fdca26\\\"],[1.0,\\\"#f0f921\\\"]]}],\\\"scattercarpet\\\":[{\\\"type\\\":\\\"scattercarpet\\\",\\\"marker\\\":{\\\"colorbar\\\":{\\\"ticks\\\":\\\"\\\",\\\"outlinewidth\\\":0}}}],\\\"mesh3d\\\":[{\\\"colorbar\\\":{\\\"ticks\\\":\\\"\\\",\\\"outlinewidth\\\":0},\\\"type\\\":\\\"mesh3d\\\"}],\\\"surface\\\":[{\\\"colorbar\\\":{\\\"ticks\\\":\\\"\\\",\\\"outlinewidth\\\":0},\\\"type\\\":\\\"surface\\\",\\\"colorscale\\\":[[0.0,\\\"#0d0887\\\"],[0.1111111111111111,\\\"#46039f\\\"],[0.2222222222222222,\\\"#7201a8\\\"],[0.3333333333333333,\\\"#9c179e\\\"],[0.4444444444444444,\\\"#bd3786\\\"],[0.5555555555555556,\\\"#d8576b\\\"],[0.6666666666666666,\\\"#ed7953\\\"],[0.7777777777777778,\\\"#fb9f3a\\\"],[0.8888888888888888,\\\"#fdca26\\\"],[1.0,\\\"#f0f921\\\"]]}],\\\"scattermapbox\\\":[{\\\"type\\\":\\\"scattermapbox\\\",\\\"marker\\\":{\\\"colorbar\\\":{\\\"ticks\\\":\\\"\\\",\\\"outlinewidth\\\":0}}}],\\\"scattergeo\\\":[{\\\"type\\\":\\\"scattergeo\\\",\\\"marker\\\":{\\\"colorbar\\\":{\\\"ticks\\\":\\\"\\\",\\\"outlinewidth\\\":0}}}],\\\"histogram\\\":[{\\\"type\\\":\\\"histogram\\\",\\\"marker\\\":{\\\"colorbar\\\":{\\\"ticks\\\":\\\"\\\",\\\"outlinewidth\\\":0}}}],\\\"pie\\\":[{\\\"type\\\":\\\"pie\\\",\\\"automargin\\\":true}],\\\"choropleth\\\":[{\\\"colorbar\\\":{\\\"ticks\\\":\\\"\\\",\\\"outlinewidth\\\":0},\\\"type\\\":\\\"choropleth\\\"}],\\\"heatmapgl\\\":[{\\\"colorbar\\\":{\\\"ticks\\\":\\\"\\\",\\\"outlinewidth\\\":0},\\\"type\\\":\\\"heatmapgl\\\",\\\"colorscale\\\":[[0.0,\\\"#0d0887\\\"],[0.1111111111111111,\\\"#46039f\\\"],[0.2222222222222222,\\\"#7201a8\\\"],[0.3333333333333333,\\\"#9c179e\\\"],[0.4444444444444444,\\\"#bd3786\\\"],[0.5555555555555556,\\\"#d8576b\\\"],[0.6666666666666666,\\\"#ed7953\\\"],[0.7777777777777778,\\\"#fb9f3a\\\"],[0.8888888888888888,\\\"#fdca26\\\"],[1.0,\\\"#f0f921\\\"]]}],\\\"bar\\\":[{\\\"type\\\":\\\"bar\\\",\\\"error_y\\\":{\\\"color\\\":\\\"#2a3f5f\\\"},\\\"error_x\\\":{\\\"color\\\":\\\"#2a3f5f\\\"},\\\"marker\\\":{\\\"line\\\":{\\\"color\\\":\\\"#E5ECF6\\\",\\\"width\\\":0.5}}}],\\\"heatmap\\\":[{\\\"colorbar\\\":{\\\"ticks\\\":\\\"\\\",\\\"outlinewidth\\\":0},\\\"type\\\":\\\"heatmap\\\",\\\"colorscale\\\":[[0.0,\\\"#0d0887\\\"],[0.1111111111111111,\\\"#46039f\\\"],[0.2222222222222222,\\\"#7201a8\\\"],[0.3333333333333333,\\\"#9c179e\\\"],[0.4444444444444444,\\\"#bd3786\\\"],[0.5555555555555556,\\\"#d8576b\\\"],[0.6666666666666666,\\\"#ed7953\\\"],[0.7777777777777778,\\\"#fb9f3a\\\"],[0.8888888888888888,\\\"#fdca26\\\"],[1.0,\\\"#f0f921\\\"]]}],\\\"contourcarpet\\\":[{\\\"colorbar\\\":{\\\"ticks\\\":\\\"\\\",\\\"outlinewidth\\\":0},\\\"type\\\":\\\"contourcarpet\\\"}],\\\"table\\\":[{\\\"type\\\":\\\"table\\\",\\\"header\\\":{\\\"line\\\":{\\\"color\\\":\\\"white\\\"},\\\"fill\\\":{\\\"color\\\":\\\"#C8D4E3\\\"}},\\\"cells\\\":{\\\"line\\\":{\\\"color\\\":\\\"white\\\"},\\\"fill\\\":{\\\"color\\\":\\\"#EBF0F8\\\"}}}],\\\"scatter3d\\\":[{\\\"line\\\":{\\\"colorbar\\\":{\\\"ticks\\\":\\\"\\\",\\\"outlinewidth\\\":0}},\\\"type\\\":\\\"scatter3d\\\",\\\"marker\\\":{\\\"colorbar\\\":{\\\"ticks\\\":\\\"\\\",\\\"outlinewidth\\\":0}}}],\\\"scattergl\\\":[{\\\"type\\\":\\\"scattergl\\\",\\\"marker\\\":{\\\"colorbar\\\":{\\\"ticks\\\":\\\"\\\",\\\"outlinewidth\\\":0}}}],\\\"histogram2d\\\":[{\\\"colorbar\\\":{\\\"ticks\\\":\\\"\\\",\\\"outlinewidth\\\":0},\\\"type\\\":\\\"histogram2d\\\",\\\"colorscale\\\":[[0.0,\\\"#0d0887\\\"],[0.1111111111111111,\\\"#46039f\\\"],[0.2222222222222222,\\\"#7201a8\\\"],[0.3333333333333333,\\\"#9c179e\\\"],[0.4444444444444444,\\\"#bd3786\\\"],[0.5555555555555556,\\\"#d8576b\\\"],[0.6666666666666666,\\\"#ed7953\\\"],[0.7777777777777778,\\\"#fb9f3a\\\"],[0.8888888888888888,\\\"#fdca26\\\"],[1.0,\\\"#f0f921\\\"]]}],\\\"scatterternary\\\":[{\\\"type\\\":\\\"scatterternary\\\",\\\"marker\\\":{\\\"colorbar\\\":{\\\"ticks\\\":\\\"\\\",\\\"outlinewidth\\\":0}}}],\\\"scatterpolargl\\\":[{\\\"type\\\":\\\"scatterpolargl\\\",\\\"marker\\\":{\\\"colorbar\\\":{\\\"ticks\\\":\\\"\\\",\\\"outlinewidth\\\":0}}}]}},\\\"barmode\\\":\\\"stack\\\",\\\"margin\\\":{\\\"l\\\":50,\\\"b\\\":50,\\\"r\\\":50,\\\"t\\\":60}},{\\\"showLink\\\":false,\\\"editable\\\":false,\\\"responsive\\\":true,\\\"staticPlot\\\":false,\\\"scrollZoom\\\":true}); gd.on(\\\"plotly_hover\\\",(function (data){var filtered_data=WebIO.PlotlyCommands.filterEventData(gd,data,\\\"hover\\\"); return !(filtered_data.isnil) ? (WebIO.setval({\\\"name\\\":\\\"hover\\\",\\\"scope\\\":\\\"11969877829564424780\\\",\\\"id\\\":\\\"8185803869922225402\\\",\\\"type\\\":\\\"observable\\\"},filtered_data.out)) : undefined})); gd.on(\\\"plotly_unhover\\\",(function (){return WebIO.setval({\\\"name\\\":\\\"hover\\\",\\\"scope\\\":\\\"11969877829564424780\\\",\\\"id\\\":\\\"8185803869922225402\\\",\\\"type\\\":\\\"observable\\\"},{})})); gd.on(\\\"plotly_selected\\\",(function (data){var filtered_data=WebIO.PlotlyCommands.filterEventData(gd,data,\\\"selected\\\"); return !(filtered_data.isnil) ? (WebIO.setval({\\\"name\\\":\\\"selected\\\",\\\"scope\\\":\\\"11969877829564424780\\\",\\\"id\\\":\\\"7077712279952280394\\\",\\\"type\\\":\\\"observable\\\"},filtered_data.out)) : undefined})); gd.on(\\\"plotly_deselect\\\",(function (){return WebIO.setval({\\\"name\\\":\\\"selected\\\",\\\"scope\\\":\\\"11969877829564424780\\\",\\\"id\\\":\\\"7077712279952280394\\\",\\\"type\\\":\\\"observable\\\"},{})})); gd.on(\\\"plotly_relayout\\\",(function (data){var filtered_data=WebIO.PlotlyCommands.filterEventData(gd,data,\\\"relayout\\\"); return !(filtered_data.isnil) ? (WebIO.setval({\\\"name\\\":\\\"relayout\\\",\\\"scope\\\":\\\"11969877829564424780\\\",\\\"id\\\":\\\"7782518153015837144\\\",\\\"type\\\":\\\"observable\\\"},filtered_data.out)) : undefined})); return gd.on(\\\"plotly_click\\\",(function (data){var filtered_data=WebIO.PlotlyCommands.filterEventData(gd,data,\\\"click\\\"); return !(filtered_data.isnil) ? (WebIO.setval({\\\"name\\\":\\\"click\\\",\\\"scope\\\":\\\"11969877829564424780\\\",\\\"id\\\":\\\"10829491625652897197\\\",\\\"type\\\":\\\"observable\\\"},filtered_data.out)) : undefined}))}));\\n    (WebIO.importBlock({\\\"data\\\":[{\\\"name\\\":\\\"Plotly\\\",\\\"type\\\":\\\"js\\\",\\\"url\\\":\\\"\\/assetserver\\/7dc425d3d9acdbb7fba54ce8841409ff1fd2b16c-plotly.min.js\\\"},{\\\"name\\\":null,\\\"type\\\":\\\"js\\\",\\\"url\\\":\\\"\\/assetserver\\/bdef9d06b2ff8f6ff9f383d24c2633cfc4dfc0cb-plotly_webio.bundle.js\\\"}],\\\"type\\\":\\\"async_block\\\"})).then((imports) => handler.apply(this, imports));\\n}\\n\"],\"observables\":{\"_toImage\":{\"sync\":false,\"id\":\"17931407332797447378\",\"value\":{}},\"hover\":{\"sync\":false,\"id\":\"8185803869922225402\",\"value\":{}},\"selected\":{\"sync\":false,\"id\":\"7077712279952280394\",\"value\":{}},\"__gd_contents\":{\"sync\":false,\"id\":\"10657336146504485587\",\"value\":{}},\"click\":{\"sync\":false,\"id\":\"10829491625652897197\",\"value\":{}},\"image\":{\"sync\":true,\"id\":\"17495086872771013515\",\"value\":\"\"},\"__get_gd_contents\":{\"sync\":false,\"id\":\"16673080672961495922\",\"value\":\"\"},\"_downloadImage\":{\"sync\":false,\"id\":\"12354544114848495978\",\"value\":{}},\"relayout\":{\"sync\":false,\"id\":\"7782518153015837144\",\"value\":{}},\"_commands\":{\"sync\":false,\"id\":\"10062886752333645269\",\"value\":[]}}},\"children\":[{\"props\":{\"id\":\"plot-de8ab5ae-754b-40c6-b96a-ce0778a498e3\"},\"nodeType\":\"DOM\",\"type\":\"node\",\"instanceArgs\":{\"namespace\":\"html\",\"tag\":\"div\"},\"children\":[]}]},\n",
       "        window,\n",
       "    );\n",
       "    })()\n",
       "    </script>\n",
       "</div>\n"
      ],
      "text/plain": [
       "data: [\n",
       "  \"bar with fields name, type, x, and y\",\n",
       "  \"bar with fields name, type, x, and y\",\n",
       "  \"bar with fields name, type, x, and y\"\n",
       "]\n",
       "\n",
       "layout: \"layout with fields barmode, margin, and template\"\n",
       "\n"
      ]
     },
     "execution_count": 5,
     "metadata": {},
     "output_type": "execute_result"
    }
   ],
   "source": [
    "\n",
    "function pomnoz_liste(lista, liczba, ludzie)\n",
    "    for i in 1:length(lista)\n",
    "        mnoznik = liczba * ludzie[i]\n",
    "        lista[i] *= mnoznik\n",
    "    end\n",
    "    return lista\n",
    "end\n",
    "\n",
    "europa = [\"Niemcy\",\"Francja\",\"Hiszpania\",\"Ukraina\",\"Polska\"]\n",
    "wieprzowina = [16,31,10,15,38]\n",
    "wołowina = [5,9.4,5,6,2]\n",
    "drób = [64,13.1,30,15,25]\n",
    "ludzie = [83000000,68000000,47500000,44000000,38000000]\n",
    "pomnoz_liste(wieprzowina,6000,ludzie)\n",
    "pomnoz_liste(wołowina,15000,ludzie)\n",
    "pomnoz_liste(drób,4000,ludzie)\n",
    "a = plot([\n",
    "    bar(name=\"Zużyte litry wody na wieprzowine\", x=europa, y=wieprzowina)\n",
    "    bar(name=\"Zużyte litry wody na wołowine\", x=europa, y=wołowina)\n",
    "    bar(name=\"Zużyte litry wody na drób\", x=europa, y=drób)\n",
    "], Layout(barmode=\"stack\"))"
   ]
  },
  {
   "cell_type": "code",
   "execution_count": 6,
   "id": "d5538b5d",
   "metadata": {},
   "outputs": [
    {
     "data": {
      "application/vnd.plotly.v1+json": {
       "config": {
        "editable": false,
        "responsive": true,
        "scrollZoom": true,
        "showLink": false,
        "staticPlot": false
       },
       "data": [
        {
         "name": "Zużyte litry wody na wieprzowine",
         "type": "bar",
         "x": [
          "USA",
          "UE",
          "Chiny",
          "Rosja"
         ],
         "y": [
          59760000000000,
          150147000000000,
          200786400000000,
          26598000000000
         ]
        },
        {
         "name": "Zużyte litry wody na wołowine",
         "type": "bar",
         "x": [
          "USA",
          "UE",
          "Chiny",
          "Rosja"
         ],
         "y": [
          129480000000000,
          118773000000000,
          29652000000000,
          105105000000000
         ]
        },
        {
         "name": "Zużyte litry wody na drób",
         "type": "bar",
         "x": [
          "USA",
          "UE",
          "Chiny",
          "Rosja"
         ],
         "y": [
          67728000000000,
          72608400000000,
          112960000000000,
          17732000000000
         ]
        }
       ],
       "frames": [],
       "layout": {
        "barmode": "stack",
        "margin": {
         "b": 50,
         "l": 50,
         "r": 50,
         "t": 60
        },
        "template": {
         "data": {
          "bar": [
           {
            "error_x": {
             "color": "#2a3f5f"
            },
            "error_y": {
             "color": "#2a3f5f"
            },
            "marker": {
             "line": {
              "color": "#E5ECF6",
              "width": 0.5
             }
            },
            "type": "bar"
           }
          ],
          "barpolar": [
           {
            "marker": {
             "line": {
              "color": "#E5ECF6",
              "width": 0.5
             }
            },
            "type": "barpolar"
           }
          ],
          "carpet": [
           {
            "aaxis": {
             "endlinecolor": "#2a3f5f",
             "gridcolor": "white",
             "linecolor": "white",
             "minorgridcolor": "white",
             "startlinecolor": "#2a3f5f"
            },
            "baxis": {
             "endlinecolor": "#2a3f5f",
             "gridcolor": "white",
             "linecolor": "white",
             "minorgridcolor": "white",
             "startlinecolor": "#2a3f5f"
            },
            "type": "carpet"
           }
          ],
          "choropleth": [
           {
            "colorbar": {
             "outlinewidth": 0,
             "ticks": ""
            },
            "type": "choropleth"
           }
          ],
          "contour": [
           {
            "colorbar": {
             "outlinewidth": 0,
             "ticks": ""
            },
            "colorscale": [
             [
              0,
              "#0d0887"
             ],
             [
              0.1111111111111111,
              "#46039f"
             ],
             [
              0.2222222222222222,
              "#7201a8"
             ],
             [
              0.3333333333333333,
              "#9c179e"
             ],
             [
              0.4444444444444444,
              "#bd3786"
             ],
             [
              0.5555555555555556,
              "#d8576b"
             ],
             [
              0.6666666666666666,
              "#ed7953"
             ],
             [
              0.7777777777777778,
              "#fb9f3a"
             ],
             [
              0.8888888888888888,
              "#fdca26"
             ],
             [
              1,
              "#f0f921"
             ]
            ],
            "type": "contour"
           }
          ],
          "contourcarpet": [
           {
            "colorbar": {
             "outlinewidth": 0,
             "ticks": ""
            },
            "type": "contourcarpet"
           }
          ],
          "heatmap": [
           {
            "colorbar": {
             "outlinewidth": 0,
             "ticks": ""
            },
            "colorscale": [
             [
              0,
              "#0d0887"
             ],
             [
              0.1111111111111111,
              "#46039f"
             ],
             [
              0.2222222222222222,
              "#7201a8"
             ],
             [
              0.3333333333333333,
              "#9c179e"
             ],
             [
              0.4444444444444444,
              "#bd3786"
             ],
             [
              0.5555555555555556,
              "#d8576b"
             ],
             [
              0.6666666666666666,
              "#ed7953"
             ],
             [
              0.7777777777777778,
              "#fb9f3a"
             ],
             [
              0.8888888888888888,
              "#fdca26"
             ],
             [
              1,
              "#f0f921"
             ]
            ],
            "type": "heatmap"
           }
          ],
          "heatmapgl": [
           {
            "colorbar": {
             "outlinewidth": 0,
             "ticks": ""
            },
            "colorscale": [
             [
              0,
              "#0d0887"
             ],
             [
              0.1111111111111111,
              "#46039f"
             ],
             [
              0.2222222222222222,
              "#7201a8"
             ],
             [
              0.3333333333333333,
              "#9c179e"
             ],
             [
              0.4444444444444444,
              "#bd3786"
             ],
             [
              0.5555555555555556,
              "#d8576b"
             ],
             [
              0.6666666666666666,
              "#ed7953"
             ],
             [
              0.7777777777777778,
              "#fb9f3a"
             ],
             [
              0.8888888888888888,
              "#fdca26"
             ],
             [
              1,
              "#f0f921"
             ]
            ],
            "type": "heatmapgl"
           }
          ],
          "histogram": [
           {
            "marker": {
             "colorbar": {
              "outlinewidth": 0,
              "ticks": ""
             }
            },
            "type": "histogram"
           }
          ],
          "histogram2d": [
           {
            "colorbar": {
             "outlinewidth": 0,
             "ticks": ""
            },
            "colorscale": [
             [
              0,
              "#0d0887"
             ],
             [
              0.1111111111111111,
              "#46039f"
             ],
             [
              0.2222222222222222,
              "#7201a8"
             ],
             [
              0.3333333333333333,
              "#9c179e"
             ],
             [
              0.4444444444444444,
              "#bd3786"
             ],
             [
              0.5555555555555556,
              "#d8576b"
             ],
             [
              0.6666666666666666,
              "#ed7953"
             ],
             [
              0.7777777777777778,
              "#fb9f3a"
             ],
             [
              0.8888888888888888,
              "#fdca26"
             ],
             [
              1,
              "#f0f921"
             ]
            ],
            "type": "histogram2d"
           }
          ],
          "histogram2dcontour": [
           {
            "colorbar": {
             "outlinewidth": 0,
             "ticks": ""
            },
            "colorscale": [
             [
              0,
              "#0d0887"
             ],
             [
              0.1111111111111111,
              "#46039f"
             ],
             [
              0.2222222222222222,
              "#7201a8"
             ],
             [
              0.3333333333333333,
              "#9c179e"
             ],
             [
              0.4444444444444444,
              "#bd3786"
             ],
             [
              0.5555555555555556,
              "#d8576b"
             ],
             [
              0.6666666666666666,
              "#ed7953"
             ],
             [
              0.7777777777777778,
              "#fb9f3a"
             ],
             [
              0.8888888888888888,
              "#fdca26"
             ],
             [
              1,
              "#f0f921"
             ]
            ],
            "type": "histogram2dcontour"
           }
          ],
          "mesh3d": [
           {
            "colorbar": {
             "outlinewidth": 0,
             "ticks": ""
            },
            "type": "mesh3d"
           }
          ],
          "parcoords": [
           {
            "line": {
             "colorbar": {
              "outlinewidth": 0,
              "ticks": ""
             }
            },
            "type": "parcoords"
           }
          ],
          "pie": [
           {
            "automargin": true,
            "type": "pie"
           }
          ],
          "scatter": [
           {
            "marker": {
             "colorbar": {
              "outlinewidth": 0,
              "ticks": ""
             }
            },
            "type": "scatter"
           }
          ],
          "scatter3d": [
           {
            "line": {
             "colorbar": {
              "outlinewidth": 0,
              "ticks": ""
             }
            },
            "marker": {
             "colorbar": {
              "outlinewidth": 0,
              "ticks": ""
             }
            },
            "type": "scatter3d"
           }
          ],
          "scattercarpet": [
           {
            "marker": {
             "colorbar": {
              "outlinewidth": 0,
              "ticks": ""
             }
            },
            "type": "scattercarpet"
           }
          ],
          "scattergeo": [
           {
            "marker": {
             "colorbar": {
              "outlinewidth": 0,
              "ticks": ""
             }
            },
            "type": "scattergeo"
           }
          ],
          "scattergl": [
           {
            "marker": {
             "colorbar": {
              "outlinewidth": 0,
              "ticks": ""
             }
            },
            "type": "scattergl"
           }
          ],
          "scattermapbox": [
           {
            "marker": {
             "colorbar": {
              "outlinewidth": 0,
              "ticks": ""
             }
            },
            "type": "scattermapbox"
           }
          ],
          "scatterpolar": [
           {
            "marker": {
             "colorbar": {
              "outlinewidth": 0,
              "ticks": ""
             }
            },
            "type": "scatterpolar"
           }
          ],
          "scatterpolargl": [
           {
            "marker": {
             "colorbar": {
              "outlinewidth": 0,
              "ticks": ""
             }
            },
            "type": "scatterpolargl"
           }
          ],
          "scatterternary": [
           {
            "marker": {
             "colorbar": {
              "outlinewidth": 0,
              "ticks": ""
             }
            },
            "type": "scatterternary"
           }
          ],
          "surface": [
           {
            "colorbar": {
             "outlinewidth": 0,
             "ticks": ""
            },
            "colorscale": [
             [
              0,
              "#0d0887"
             ],
             [
              0.1111111111111111,
              "#46039f"
             ],
             [
              0.2222222222222222,
              "#7201a8"
             ],
             [
              0.3333333333333333,
              "#9c179e"
             ],
             [
              0.4444444444444444,
              "#bd3786"
             ],
             [
              0.5555555555555556,
              "#d8576b"
             ],
             [
              0.6666666666666666,
              "#ed7953"
             ],
             [
              0.7777777777777778,
              "#fb9f3a"
             ],
             [
              0.8888888888888888,
              "#fdca26"
             ],
             [
              1,
              "#f0f921"
             ]
            ],
            "type": "surface"
           }
          ],
          "table": [
           {
            "cells": {
             "fill": {
              "color": "#EBF0F8"
             },
             "line": {
              "color": "white"
             }
            },
            "header": {
             "fill": {
              "color": "#C8D4E3"
             },
             "line": {
              "color": "white"
             }
            },
            "type": "table"
           }
          ]
         },
         "layout": {
          "annotationdefaults": {
           "arrowcolor": "#2a3f5f",
           "arrowhead": 0,
           "arrowwidth": 1
          },
          "autotypenumbers": "strict",
          "coloraxis": {
           "colorbar": {
            "outlinewidth": 0,
            "ticks": ""
           }
          },
          "colorscale": {
           "diverging": [
            [
             0,
             "#8e0152"
            ],
            [
             0.1,
             "#c51b7d"
            ],
            [
             0.2,
             "#de77ae"
            ],
            [
             0.3,
             "#f1b6da"
            ],
            [
             0.4,
             "#fde0ef"
            ],
            [
             0.5,
             "#f7f7f7"
            ],
            [
             0.6,
             "#e6f5d0"
            ],
            [
             0.7,
             "#b8e186"
            ],
            [
             0.8,
             "#7fbc41"
            ],
            [
             0.9,
             "#4d9221"
            ],
            [
             1,
             "#276419"
            ]
           ],
           "sequential": [
            [
             0,
             "#0d0887"
            ],
            [
             0.1111111111111111,
             "#46039f"
            ],
            [
             0.2222222222222222,
             "#7201a8"
            ],
            [
             0.3333333333333333,
             "#9c179e"
            ],
            [
             0.4444444444444444,
             "#bd3786"
            ],
            [
             0.5555555555555556,
             "#d8576b"
            ],
            [
             0.6666666666666666,
             "#ed7953"
            ],
            [
             0.7777777777777778,
             "#fb9f3a"
            ],
            [
             0.8888888888888888,
             "#fdca26"
            ],
            [
             1,
             "#f0f921"
            ]
           ],
           "sequentialminus": [
            [
             0,
             "#0d0887"
            ],
            [
             0.1111111111111111,
             "#46039f"
            ],
            [
             0.2222222222222222,
             "#7201a8"
            ],
            [
             0.3333333333333333,
             "#9c179e"
            ],
            [
             0.4444444444444444,
             "#bd3786"
            ],
            [
             0.5555555555555556,
             "#d8576b"
            ],
            [
             0.6666666666666666,
             "#ed7953"
            ],
            [
             0.7777777777777778,
             "#fb9f3a"
            ],
            [
             0.8888888888888888,
             "#fdca26"
            ],
            [
             1,
             "#f0f921"
            ]
           ]
          },
          "colorway": [
           "#636efa",
           "#EF553B",
           "#00cc96",
           "#ab63fa",
           "#FFA15A",
           "#19d3f3",
           "#FF6692",
           "#B6E880",
           "#FF97FF",
           "#FECB52"
          ],
          "font": {
           "color": "#2a3f5f"
          },
          "geo": {
           "bgcolor": "white",
           "lakecolor": "white",
           "landcolor": "#E5ECF6",
           "showlakes": true,
           "showland": true,
           "subunitcolor": "white"
          },
          "hoverlabel": {
           "align": "left"
          },
          "hovermode": "closest",
          "mapbox": {
           "style": "light"
          },
          "paper_bgcolor": "white",
          "plot_bgcolor": "#E5ECF6",
          "polar": {
           "angularaxis": {
            "gridcolor": "white",
            "linecolor": "white",
            "ticks": ""
           },
           "bgcolor": "#E5ECF6",
           "radialaxis": {
            "gridcolor": "white",
            "linecolor": "white",
            "ticks": ""
           }
          },
          "scene": {
           "xaxis": {
            "backgroundcolor": "#E5ECF6",
            "gridcolor": "white",
            "gridwidth": 2,
            "linecolor": "white",
            "showbackground": true,
            "ticks": "",
            "zerolinecolor": "white"
           },
           "yaxis": {
            "backgroundcolor": "#E5ECF6",
            "gridcolor": "white",
            "gridwidth": 2,
            "linecolor": "white",
            "showbackground": true,
            "ticks": "",
            "zerolinecolor": "white"
           },
           "zaxis": {
            "backgroundcolor": "#E5ECF6",
            "gridcolor": "white",
            "gridwidth": 2,
            "linecolor": "white",
            "showbackground": true,
            "ticks": "",
            "zerolinecolor": "white"
           }
          },
          "shapedefaults": {
           "line": {
            "color": "#2a3f5f"
           }
          },
          "ternary": {
           "aaxis": {
            "gridcolor": "white",
            "linecolor": "white",
            "ticks": ""
           },
           "baxis": {
            "gridcolor": "white",
            "linecolor": "white",
            "ticks": ""
           },
           "bgcolor": "#E5ECF6",
           "caxis": {
            "gridcolor": "white",
            "linecolor": "white",
            "ticks": ""
           }
          },
          "title": {
           "x": 0.05
          },
          "xaxis": {
           "automargin": true,
           "gridcolor": "white",
           "linecolor": "white",
           "ticks": "",
           "title": {
            "standoff": 15
           },
           "zerolinecolor": "white",
           "zerolinewidth": 2
          },
          "yaxis": {
           "automargin": true,
           "gridcolor": "white",
           "linecolor": "white",
           "ticks": "",
           "title": {
            "standoff": 15
           },
           "zerolinecolor": "white",
           "zerolinewidth": 2
          }
         }
        }
       }
      },
      "text/html": [
       "<div\n",
       "    class=\"webio-mountpoint\"\n",
       "    data-webio-mountpoint=\"8313250448269282393\"\n",
       ">\n",
       "    <script>\n",
       "    (function(){\n",
       "    // Some integrations (namely, IJulia/Jupyter) use an alternate render pathway than\n",
       "    // just putting the html on the page. If WebIO isn't defined, then it's pretty likely\n",
       "    // that we're in one of those situations and the integration just isn't installed\n",
       "    // correctly.\n",
       "    if (typeof window.WebIO === \"undefined\") {\n",
       "        document\n",
       "            .querySelector('[data-webio-mountpoint=\"8313250448269282393\"]')\n",
       "            .innerHTML = (\n",
       "                '<div style=\"padding: 1em; background-color: #f8d6da; border: 1px solid #f5c6cb; font-weight: bold;\">' +\n",
       "                '<p><strong>WebIO not detected.</strong></p>' +\n",
       "                '<p>Please read ' +\n",
       "                '<a href=\"https://juliagizmos.github.io/WebIO.jl/latest/troubleshooting/not-detected/\" target=\"_blank\">the troubleshooting guide</a> ' +\n",
       "                'for more information on how to resolve this issue.</p>' +\n",
       "                '<p><a href=\"https://juliagizmos.github.io/WebIO.jl/latest/troubleshooting/not-detected/\" target=\"_blank\">https://juliagizmos.github.io/WebIO.jl/latest/troubleshooting/not-detected/</a></p>' +\n",
       "                '</div>'\n",
       "            );\n",
       "        return;\n",
       "    }\n",
       "    WebIO.mount(\n",
       "        document.querySelector('[data-webio-mountpoint=\"8313250448269282393\"]'),\n",
       "        {\"props\":{},\"nodeType\":\"Scope\",\"type\":\"node\",\"instanceArgs\":{\"imports\":{\"data\":[{\"name\":\"Plotly\",\"type\":\"js\",\"url\":\"\\/assetserver\\/7dc425d3d9acdbb7fba54ce8841409ff1fd2b16c-plotly.min.js\"},{\"name\":null,\"type\":\"js\",\"url\":\"\\/assetserver\\/bdef9d06b2ff8f6ff9f383d24c2633cfc4dfc0cb-plotly_webio.bundle.js\"}],\"type\":\"async_block\"},\"id\":\"12540239462292211116\",\"handlers\":{\"_toImage\":[\"(function (options){return this.Plotly.toImage(this.plotElem,options).then((function (data){return WebIO.setval({\\\"name\\\":\\\"image\\\",\\\"scope\\\":\\\"12540239462292211116\\\",\\\"id\\\":\\\"12050089353555508482\\\",\\\"type\\\":\\\"observable\\\"},data)}))})\"],\"__get_gd_contents\":[\"(function (prop){prop==\\\"data\\\" ? (WebIO.setval({\\\"name\\\":\\\"__gd_contents\\\",\\\"scope\\\":\\\"12540239462292211116\\\",\\\"id\\\":\\\"77282292805167404\\\",\\\"type\\\":\\\"observable\\\"},this.plotElem.data)) : undefined; return prop==\\\"layout\\\" ? (WebIO.setval({\\\"name\\\":\\\"__gd_contents\\\",\\\"scope\\\":\\\"12540239462292211116\\\",\\\"id\\\":\\\"77282292805167404\\\",\\\"type\\\":\\\"observable\\\"},this.plotElem.layout)) : undefined})\"],\"_downloadImage\":[\"(function (options){return this.Plotly.downloadImage(this.plotElem,options)})\"],\"_commands\":[\"(function (args){var fn=args.shift(); var elem=this.plotElem; var Plotly=this.Plotly; args.unshift(elem); return Plotly[fn].apply(this,args)})\"]},\"systemjs_options\":null,\"mount_callbacks\":[\"function () {\\n    var handler = ((function (Plotly,PlotlyWebIO){PlotlyWebIO.init(WebIO); var gd=this.dom.querySelector(\\\"#plot-4f7eca5d-67c8-4b84-8794-3c17f19aba8b\\\"); this.plotElem=gd; this.Plotly=Plotly; (window.Blink!==undefined) ? (gd.style.width=\\\"100%\\\", gd.style.height=\\\"100vh\\\", gd.style.marginLeft=\\\"0%\\\", gd.style.marginTop=\\\"0vh\\\") : undefined; window.onresize=(function (){return Plotly.Plots.resize(gd)}); Plotly.newPlot(gd,[{\\\"y\\\":[5.976e13,1.50147e14,2.007864e14,2.6598e13],\\\"type\\\":\\\"bar\\\",\\\"name\\\":\\\"Zużyte litry wody na wieprzowine\\\",\\\"x\\\":[\\\"USA\\\",\\\"UE\\\",\\\"Chiny\\\",\\\"Rosja\\\"]},{\\\"y\\\":[1.2948e14,1.18773e14,2.9652e13,1.05105e14],\\\"type\\\":\\\"bar\\\",\\\"name\\\":\\\"Zużyte litry wody na wołowine\\\",\\\"x\\\":[\\\"USA\\\",\\\"UE\\\",\\\"Chiny\\\",\\\"Rosja\\\"]},{\\\"y\\\":[6.7728e13,7.26084e13,1.1296e14,1.7732e13],\\\"type\\\":\\\"bar\\\",\\\"name\\\":\\\"Zużyte litry wody na drób\\\",\\\"x\\\":[\\\"USA\\\",\\\"UE\\\",\\\"Chiny\\\",\\\"Rosja\\\"]}],{\\\"template\\\":{\\\"layout\\\":{\\\"coloraxis\\\":{\\\"colorbar\\\":{\\\"ticks\\\":\\\"\\\",\\\"outlinewidth\\\":0}},\\\"xaxis\\\":{\\\"gridcolor\\\":\\\"white\\\",\\\"zerolinewidth\\\":2,\\\"title\\\":{\\\"standoff\\\":15},\\\"ticks\\\":\\\"\\\",\\\"zerolinecolor\\\":\\\"white\\\",\\\"automargin\\\":true,\\\"linecolor\\\":\\\"white\\\"},\\\"hovermode\\\":\\\"closest\\\",\\\"paper_bgcolor\\\":\\\"white\\\",\\\"geo\\\":{\\\"showlakes\\\":true,\\\"showland\\\":true,\\\"landcolor\\\":\\\"#E5ECF6\\\",\\\"bgcolor\\\":\\\"white\\\",\\\"subunitcolor\\\":\\\"white\\\",\\\"lakecolor\\\":\\\"white\\\"},\\\"colorscale\\\":{\\\"sequential\\\":[[0.0,\\\"#0d0887\\\"],[0.1111111111111111,\\\"#46039f\\\"],[0.2222222222222222,\\\"#7201a8\\\"],[0.3333333333333333,\\\"#9c179e\\\"],[0.4444444444444444,\\\"#bd3786\\\"],[0.5555555555555556,\\\"#d8576b\\\"],[0.6666666666666666,\\\"#ed7953\\\"],[0.7777777777777778,\\\"#fb9f3a\\\"],[0.8888888888888888,\\\"#fdca26\\\"],[1.0,\\\"#f0f921\\\"]],\\\"diverging\\\":[[0,\\\"#8e0152\\\"],[0.1,\\\"#c51b7d\\\"],[0.2,\\\"#de77ae\\\"],[0.3,\\\"#f1b6da\\\"],[0.4,\\\"#fde0ef\\\"],[0.5,\\\"#f7f7f7\\\"],[0.6,\\\"#e6f5d0\\\"],[0.7,\\\"#b8e186\\\"],[0.8,\\\"#7fbc41\\\"],[0.9,\\\"#4d9221\\\"],[1,\\\"#276419\\\"]],\\\"sequentialminus\\\":[[0.0,\\\"#0d0887\\\"],[0.1111111111111111,\\\"#46039f\\\"],[0.2222222222222222,\\\"#7201a8\\\"],[0.3333333333333333,\\\"#9c179e\\\"],[0.4444444444444444,\\\"#bd3786\\\"],[0.5555555555555556,\\\"#d8576b\\\"],[0.6666666666666666,\\\"#ed7953\\\"],[0.7777777777777778,\\\"#fb9f3a\\\"],[0.8888888888888888,\\\"#fdca26\\\"],[1.0,\\\"#f0f921\\\"]]},\\\"yaxis\\\":{\\\"gridcolor\\\":\\\"white\\\",\\\"zerolinewidth\\\":2,\\\"title\\\":{\\\"standoff\\\":15},\\\"ticks\\\":\\\"\\\",\\\"zerolinecolor\\\":\\\"white\\\",\\\"automargin\\\":true,\\\"linecolor\\\":\\\"white\\\"},\\\"shapedefaults\\\":{\\\"line\\\":{\\\"color\\\":\\\"#2a3f5f\\\"}},\\\"hoverlabel\\\":{\\\"align\\\":\\\"left\\\"},\\\"mapbox\\\":{\\\"style\\\":\\\"light\\\"},\\\"polar\\\":{\\\"angularaxis\\\":{\\\"gridcolor\\\":\\\"white\\\",\\\"ticks\\\":\\\"\\\",\\\"linecolor\\\":\\\"white\\\"},\\\"bgcolor\\\":\\\"#E5ECF6\\\",\\\"radialaxis\\\":{\\\"gridcolor\\\":\\\"white\\\",\\\"ticks\\\":\\\"\\\",\\\"linecolor\\\":\\\"white\\\"}},\\\"autotypenumbers\\\":\\\"strict\\\",\\\"font\\\":{\\\"color\\\":\\\"#2a3f5f\\\"},\\\"ternary\\\":{\\\"baxis\\\":{\\\"gridcolor\\\":\\\"white\\\",\\\"ticks\\\":\\\"\\\",\\\"linecolor\\\":\\\"white\\\"},\\\"bgcolor\\\":\\\"#E5ECF6\\\",\\\"caxis\\\":{\\\"gridcolor\\\":\\\"white\\\",\\\"ticks\\\":\\\"\\\",\\\"linecolor\\\":\\\"white\\\"},\\\"aaxis\\\":{\\\"gridcolor\\\":\\\"white\\\",\\\"ticks\\\":\\\"\\\",\\\"linecolor\\\":\\\"white\\\"}},\\\"annotationdefaults\\\":{\\\"arrowhead\\\":0,\\\"arrowwidth\\\":1,\\\"arrowcolor\\\":\\\"#2a3f5f\\\"},\\\"plot_bgcolor\\\":\\\"#E5ECF6\\\",\\\"title\\\":{\\\"x\\\":0.05},\\\"scene\\\":{\\\"xaxis\\\":{\\\"gridcolor\\\":\\\"white\\\",\\\"gridwidth\\\":2,\\\"backgroundcolor\\\":\\\"#E5ECF6\\\",\\\"ticks\\\":\\\"\\\",\\\"showbackground\\\":true,\\\"zerolinecolor\\\":\\\"white\\\",\\\"linecolor\\\":\\\"white\\\"},\\\"zaxis\\\":{\\\"gridcolor\\\":\\\"white\\\",\\\"gridwidth\\\":2,\\\"backgroundcolor\\\":\\\"#E5ECF6\\\",\\\"ticks\\\":\\\"\\\",\\\"showbackground\\\":true,\\\"zerolinecolor\\\":\\\"white\\\",\\\"linecolor\\\":\\\"white\\\"},\\\"yaxis\\\":{\\\"gridcolor\\\":\\\"white\\\",\\\"gridwidth\\\":2,\\\"backgroundcolor\\\":\\\"#E5ECF6\\\",\\\"ticks\\\":\\\"\\\",\\\"showbackground\\\":true,\\\"zerolinecolor\\\":\\\"white\\\",\\\"linecolor\\\":\\\"white\\\"}},\\\"colorway\\\":[\\\"#636efa\\\",\\\"#EF553B\\\",\\\"#00cc96\\\",\\\"#ab63fa\\\",\\\"#FFA15A\\\",\\\"#19d3f3\\\",\\\"#FF6692\\\",\\\"#B6E880\\\",\\\"#FF97FF\\\",\\\"#FECB52\\\"]},\\\"data\\\":{\\\"barpolar\\\":[{\\\"type\\\":\\\"barpolar\\\",\\\"marker\\\":{\\\"line\\\":{\\\"color\\\":\\\"#E5ECF6\\\",\\\"width\\\":0.5}}}],\\\"carpet\\\":[{\\\"aaxis\\\":{\\\"gridcolor\\\":\\\"white\\\",\\\"endlinecolor\\\":\\\"#2a3f5f\\\",\\\"minorgridcolor\\\":\\\"white\\\",\\\"startlinecolor\\\":\\\"#2a3f5f\\\",\\\"linecolor\\\":\\\"white\\\"},\\\"type\\\":\\\"carpet\\\",\\\"baxis\\\":{\\\"gridcolor\\\":\\\"white\\\",\\\"endlinecolor\\\":\\\"#2a3f5f\\\",\\\"minorgridcolor\\\":\\\"white\\\",\\\"startlinecolor\\\":\\\"#2a3f5f\\\",\\\"linecolor\\\":\\\"white\\\"}}],\\\"scatterpolar\\\":[{\\\"type\\\":\\\"scatterpolar\\\",\\\"marker\\\":{\\\"colorbar\\\":{\\\"ticks\\\":\\\"\\\",\\\"outlinewidth\\\":0}}}],\\\"parcoords\\\":[{\\\"line\\\":{\\\"colorbar\\\":{\\\"ticks\\\":\\\"\\\",\\\"outlinewidth\\\":0}},\\\"type\\\":\\\"parcoords\\\"}],\\\"scatter\\\":[{\\\"type\\\":\\\"scatter\\\",\\\"marker\\\":{\\\"colorbar\\\":{\\\"ticks\\\":\\\"\\\",\\\"outlinewidth\\\":0}}}],\\\"histogram2dcontour\\\":[{\\\"colorbar\\\":{\\\"ticks\\\":\\\"\\\",\\\"outlinewidth\\\":0},\\\"type\\\":\\\"histogram2dcontour\\\",\\\"colorscale\\\":[[0.0,\\\"#0d0887\\\"],[0.1111111111111111,\\\"#46039f\\\"],[0.2222222222222222,\\\"#7201a8\\\"],[0.3333333333333333,\\\"#9c179e\\\"],[0.4444444444444444,\\\"#bd3786\\\"],[0.5555555555555556,\\\"#d8576b\\\"],[0.6666666666666666,\\\"#ed7953\\\"],[0.7777777777777778,\\\"#fb9f3a\\\"],[0.8888888888888888,\\\"#fdca26\\\"],[1.0,\\\"#f0f921\\\"]]}],\\\"contour\\\":[{\\\"colorbar\\\":{\\\"ticks\\\":\\\"\\\",\\\"outlinewidth\\\":0},\\\"type\\\":\\\"contour\\\",\\\"colorscale\\\":[[0.0,\\\"#0d0887\\\"],[0.1111111111111111,\\\"#46039f\\\"],[0.2222222222222222,\\\"#7201a8\\\"],[0.3333333333333333,\\\"#9c179e\\\"],[0.4444444444444444,\\\"#bd3786\\\"],[0.5555555555555556,\\\"#d8576b\\\"],[0.6666666666666666,\\\"#ed7953\\\"],[0.7777777777777778,\\\"#fb9f3a\\\"],[0.8888888888888888,\\\"#fdca26\\\"],[1.0,\\\"#f0f921\\\"]]}],\\\"scattercarpet\\\":[{\\\"type\\\":\\\"scattercarpet\\\",\\\"marker\\\":{\\\"colorbar\\\":{\\\"ticks\\\":\\\"\\\",\\\"outlinewidth\\\":0}}}],\\\"mesh3d\\\":[{\\\"colorbar\\\":{\\\"ticks\\\":\\\"\\\",\\\"outlinewidth\\\":0},\\\"type\\\":\\\"mesh3d\\\"}],\\\"surface\\\":[{\\\"colorbar\\\":{\\\"ticks\\\":\\\"\\\",\\\"outlinewidth\\\":0},\\\"type\\\":\\\"surface\\\",\\\"colorscale\\\":[[0.0,\\\"#0d0887\\\"],[0.1111111111111111,\\\"#46039f\\\"],[0.2222222222222222,\\\"#7201a8\\\"],[0.3333333333333333,\\\"#9c179e\\\"],[0.4444444444444444,\\\"#bd3786\\\"],[0.5555555555555556,\\\"#d8576b\\\"],[0.6666666666666666,\\\"#ed7953\\\"],[0.7777777777777778,\\\"#fb9f3a\\\"],[0.8888888888888888,\\\"#fdca26\\\"],[1.0,\\\"#f0f921\\\"]]}],\\\"scattermapbox\\\":[{\\\"type\\\":\\\"scattermapbox\\\",\\\"marker\\\":{\\\"colorbar\\\":{\\\"ticks\\\":\\\"\\\",\\\"outlinewidth\\\":0}}}],\\\"scattergeo\\\":[{\\\"type\\\":\\\"scattergeo\\\",\\\"marker\\\":{\\\"colorbar\\\":{\\\"ticks\\\":\\\"\\\",\\\"outlinewidth\\\":0}}}],\\\"histogram\\\":[{\\\"type\\\":\\\"histogram\\\",\\\"marker\\\":{\\\"colorbar\\\":{\\\"ticks\\\":\\\"\\\",\\\"outlinewidth\\\":0}}}],\\\"pie\\\":[{\\\"type\\\":\\\"pie\\\",\\\"automargin\\\":true}],\\\"choropleth\\\":[{\\\"colorbar\\\":{\\\"ticks\\\":\\\"\\\",\\\"outlinewidth\\\":0},\\\"type\\\":\\\"choropleth\\\"}],\\\"heatmapgl\\\":[{\\\"colorbar\\\":{\\\"ticks\\\":\\\"\\\",\\\"outlinewidth\\\":0},\\\"type\\\":\\\"heatmapgl\\\",\\\"colorscale\\\":[[0.0,\\\"#0d0887\\\"],[0.1111111111111111,\\\"#46039f\\\"],[0.2222222222222222,\\\"#7201a8\\\"],[0.3333333333333333,\\\"#9c179e\\\"],[0.4444444444444444,\\\"#bd3786\\\"],[0.5555555555555556,\\\"#d8576b\\\"],[0.6666666666666666,\\\"#ed7953\\\"],[0.7777777777777778,\\\"#fb9f3a\\\"],[0.8888888888888888,\\\"#fdca26\\\"],[1.0,\\\"#f0f921\\\"]]}],\\\"bar\\\":[{\\\"type\\\":\\\"bar\\\",\\\"error_y\\\":{\\\"color\\\":\\\"#2a3f5f\\\"},\\\"error_x\\\":{\\\"color\\\":\\\"#2a3f5f\\\"},\\\"marker\\\":{\\\"line\\\":{\\\"color\\\":\\\"#E5ECF6\\\",\\\"width\\\":0.5}}}],\\\"heatmap\\\":[{\\\"colorbar\\\":{\\\"ticks\\\":\\\"\\\",\\\"outlinewidth\\\":0},\\\"type\\\":\\\"heatmap\\\",\\\"colorscale\\\":[[0.0,\\\"#0d0887\\\"],[0.1111111111111111,\\\"#46039f\\\"],[0.2222222222222222,\\\"#7201a8\\\"],[0.3333333333333333,\\\"#9c179e\\\"],[0.4444444444444444,\\\"#bd3786\\\"],[0.5555555555555556,\\\"#d8576b\\\"],[0.6666666666666666,\\\"#ed7953\\\"],[0.7777777777777778,\\\"#fb9f3a\\\"],[0.8888888888888888,\\\"#fdca26\\\"],[1.0,\\\"#f0f921\\\"]]}],\\\"contourcarpet\\\":[{\\\"colorbar\\\":{\\\"ticks\\\":\\\"\\\",\\\"outlinewidth\\\":0},\\\"type\\\":\\\"contourcarpet\\\"}],\\\"table\\\":[{\\\"type\\\":\\\"table\\\",\\\"header\\\":{\\\"line\\\":{\\\"color\\\":\\\"white\\\"},\\\"fill\\\":{\\\"color\\\":\\\"#C8D4E3\\\"}},\\\"cells\\\":{\\\"line\\\":{\\\"color\\\":\\\"white\\\"},\\\"fill\\\":{\\\"color\\\":\\\"#EBF0F8\\\"}}}],\\\"scatter3d\\\":[{\\\"line\\\":{\\\"colorbar\\\":{\\\"ticks\\\":\\\"\\\",\\\"outlinewidth\\\":0}},\\\"type\\\":\\\"scatter3d\\\",\\\"marker\\\":{\\\"colorbar\\\":{\\\"ticks\\\":\\\"\\\",\\\"outlinewidth\\\":0}}}],\\\"scattergl\\\":[{\\\"type\\\":\\\"scattergl\\\",\\\"marker\\\":{\\\"colorbar\\\":{\\\"ticks\\\":\\\"\\\",\\\"outlinewidth\\\":0}}}],\\\"histogram2d\\\":[{\\\"colorbar\\\":{\\\"ticks\\\":\\\"\\\",\\\"outlinewidth\\\":0},\\\"type\\\":\\\"histogram2d\\\",\\\"colorscale\\\":[[0.0,\\\"#0d0887\\\"],[0.1111111111111111,\\\"#46039f\\\"],[0.2222222222222222,\\\"#7201a8\\\"],[0.3333333333333333,\\\"#9c179e\\\"],[0.4444444444444444,\\\"#bd3786\\\"],[0.5555555555555556,\\\"#d8576b\\\"],[0.6666666666666666,\\\"#ed7953\\\"],[0.7777777777777778,\\\"#fb9f3a\\\"],[0.8888888888888888,\\\"#fdca26\\\"],[1.0,\\\"#f0f921\\\"]]}],\\\"scatterternary\\\":[{\\\"type\\\":\\\"scatterternary\\\",\\\"marker\\\":{\\\"colorbar\\\":{\\\"ticks\\\":\\\"\\\",\\\"outlinewidth\\\":0}}}],\\\"scatterpolargl\\\":[{\\\"type\\\":\\\"scatterpolargl\\\",\\\"marker\\\":{\\\"colorbar\\\":{\\\"ticks\\\":\\\"\\\",\\\"outlinewidth\\\":0}}}]}},\\\"barmode\\\":\\\"stack\\\",\\\"margin\\\":{\\\"l\\\":50,\\\"b\\\":50,\\\"r\\\":50,\\\"t\\\":60}},{\\\"showLink\\\":false,\\\"editable\\\":false,\\\"responsive\\\":true,\\\"staticPlot\\\":false,\\\"scrollZoom\\\":true}); gd.on(\\\"plotly_hover\\\",(function (data){var filtered_data=WebIO.PlotlyCommands.filterEventData(gd,data,\\\"hover\\\"); return !(filtered_data.isnil) ? (WebIO.setval({\\\"name\\\":\\\"hover\\\",\\\"scope\\\":\\\"12540239462292211116\\\",\\\"id\\\":\\\"12871857448967959255\\\",\\\"type\\\":\\\"observable\\\"},filtered_data.out)) : undefined})); gd.on(\\\"plotly_unhover\\\",(function (){return WebIO.setval({\\\"name\\\":\\\"hover\\\",\\\"scope\\\":\\\"12540239462292211116\\\",\\\"id\\\":\\\"12871857448967959255\\\",\\\"type\\\":\\\"observable\\\"},{})})); gd.on(\\\"plotly_selected\\\",(function (data){var filtered_data=WebIO.PlotlyCommands.filterEventData(gd,data,\\\"selected\\\"); return !(filtered_data.isnil) ? (WebIO.setval({\\\"name\\\":\\\"selected\\\",\\\"scope\\\":\\\"12540239462292211116\\\",\\\"id\\\":\\\"5005060026563988878\\\",\\\"type\\\":\\\"observable\\\"},filtered_data.out)) : undefined})); gd.on(\\\"plotly_deselect\\\",(function (){return WebIO.setval({\\\"name\\\":\\\"selected\\\",\\\"scope\\\":\\\"12540239462292211116\\\",\\\"id\\\":\\\"5005060026563988878\\\",\\\"type\\\":\\\"observable\\\"},{})})); gd.on(\\\"plotly_relayout\\\",(function (data){var filtered_data=WebIO.PlotlyCommands.filterEventData(gd,data,\\\"relayout\\\"); return !(filtered_data.isnil) ? (WebIO.setval({\\\"name\\\":\\\"relayout\\\",\\\"scope\\\":\\\"12540239462292211116\\\",\\\"id\\\":\\\"5546010919376403515\\\",\\\"type\\\":\\\"observable\\\"},filtered_data.out)) : undefined})); return gd.on(\\\"plotly_click\\\",(function (data){var filtered_data=WebIO.PlotlyCommands.filterEventData(gd,data,\\\"click\\\"); return !(filtered_data.isnil) ? (WebIO.setval({\\\"name\\\":\\\"click\\\",\\\"scope\\\":\\\"12540239462292211116\\\",\\\"id\\\":\\\"1383780225671216769\\\",\\\"type\\\":\\\"observable\\\"},filtered_data.out)) : undefined}))}));\\n    (WebIO.importBlock({\\\"data\\\":[{\\\"name\\\":\\\"Plotly\\\",\\\"type\\\":\\\"js\\\",\\\"url\\\":\\\"\\/assetserver\\/7dc425d3d9acdbb7fba54ce8841409ff1fd2b16c-plotly.min.js\\\"},{\\\"name\\\":null,\\\"type\\\":\\\"js\\\",\\\"url\\\":\\\"\\/assetserver\\/bdef9d06b2ff8f6ff9f383d24c2633cfc4dfc0cb-plotly_webio.bundle.js\\\"}],\\\"type\\\":\\\"async_block\\\"})).then((imports) => handler.apply(this, imports));\\n}\\n\"],\"observables\":{\"_toImage\":{\"sync\":false,\"id\":\"6570418904803113844\",\"value\":{}},\"hover\":{\"sync\":false,\"id\":\"12871857448967959255\",\"value\":{}},\"selected\":{\"sync\":false,\"id\":\"5005060026563988878\",\"value\":{}},\"__gd_contents\":{\"sync\":false,\"id\":\"77282292805167404\",\"value\":{}},\"click\":{\"sync\":false,\"id\":\"1383780225671216769\",\"value\":{}},\"image\":{\"sync\":true,\"id\":\"12050089353555508482\",\"value\":\"\"},\"__get_gd_contents\":{\"sync\":false,\"id\":\"2704653865055226648\",\"value\":\"\"},\"_downloadImage\":{\"sync\":false,\"id\":\"4098858365188536374\",\"value\":{}},\"relayout\":{\"sync\":false,\"id\":\"5546010919376403515\",\"value\":{}},\"_commands\":{\"sync\":false,\"id\":\"8301956636954347769\",\"value\":[]}}},\"children\":[{\"props\":{\"id\":\"plot-4f7eca5d-67c8-4b84-8794-3c17f19aba8b\"},\"nodeType\":\"DOM\",\"type\":\"node\",\"instanceArgs\":{\"namespace\":\"html\",\"tag\":\"div\"},\"children\":[]}]},\n",
       "        window,\n",
       "    );\n",
       "    })()\n",
       "    </script>\n",
       "</div>\n"
      ],
      "text/plain": [
       "data: [\n",
       "  \"bar with fields name, type, x, and y\",\n",
       "  \"bar with fields name, type, x, and y\",\n",
       "  \"bar with fields name, type, x, and y\"\n",
       "]\n",
       "\n",
       "layout: \"layout with fields barmode, margin, and template\"\n",
       "\n"
      ]
     },
     "execution_count": 6,
     "metadata": {},
     "output_type": "execute_result"
    }
   ],
   "source": [
    "swiat = [\"USA\",\"UE\",\"Chiny\",\"Rosja\"]\n",
    "wieprzowina2 = [30,33.5,23.7,31]\n",
    "wołowina2 = [26,10.6,1.4,49]\n",
    "drób2 = [51,24.3,20,31]\n",
    "ludzie2 = [332000000,747000000,1412000000,143000000]\n",
    "pomnoz_liste(wieprzowina2,6000,ludzie2)\n",
    "pomnoz_liste(wołowina2,15000,ludzie2)\n",
    "pomnoz_liste(drób2,4000,ludzie2)\n",
    "b = plot([\n",
    "    bar(name=\"Zużyte litry wody na wieprzowine\", x=swiat, y=wieprzowina2)\n",
    "    bar(name=\"Zużyte litry wody na wołowine\", x=swiat, y=wołowina2)\n",
    "    bar(name=\"Zużyte litry wody na drób\", x=swiat, y=drób2)\n",
    "], Layout(barmode=\"stack\"))"
   ]
  },
  {
   "cell_type": "code",
   "execution_count": 7,
   "id": "a7be4b7e",
   "metadata": {},
   "outputs": [
    {
     "data": {
      "application/vnd.plotly.v1+json": {
       "config": {
        "editable": false,
        "responsive": true,
        "scrollZoom": true,
        "showLink": false,
        "staticPlot": false
       },
       "data": [
        {
         "name": "Zużyte litry wody na wieprzowine",
         "type": "bar",
         "x": [
          "Kanada",
          "Argentyna",
          "Chile",
          "Meksyk",
          "Brazylia"
         ],
         "y": [
          4788000000000,
          5520000000000,
          3159000000000,
          22860000000000,
          23754000000000
         ]
        },
        {
         "name": "Zużyte litry wody na wołowine",
         "type": "bar",
         "x": [
          "Kanada",
          "Argentyna",
          "Chile",
          "Meksyk",
          "Brazylia"
         ],
         "y": [
          14535000000000,
          28980000000000,
          6552000000000,
          28575000000000,
          128400000000000
         ]
        },
        {
         "name": "Zużyte litry wody na drób",
         "type": "bar",
         "x": [
          "Kanada",
          "Argentyna",
          "Chile",
          "Meksyk",
          "Brazylia"
         ],
         "y": [
          7600000000000,
          8832000000000,
          2886000000000,
          25400000000000,
          17120000000000
         ]
        }
       ],
       "frames": [],
       "layout": {
        "barmode": "stack",
        "margin": {
         "b": 50,
         "l": 50,
         "r": 50,
         "t": 60
        },
        "template": {
         "data": {
          "bar": [
           {
            "error_x": {
             "color": "#2a3f5f"
            },
            "error_y": {
             "color": "#2a3f5f"
            },
            "marker": {
             "line": {
              "color": "#E5ECF6",
              "width": 0.5
             }
            },
            "type": "bar"
           }
          ],
          "barpolar": [
           {
            "marker": {
             "line": {
              "color": "#E5ECF6",
              "width": 0.5
             }
            },
            "type": "barpolar"
           }
          ],
          "carpet": [
           {
            "aaxis": {
             "endlinecolor": "#2a3f5f",
             "gridcolor": "white",
             "linecolor": "white",
             "minorgridcolor": "white",
             "startlinecolor": "#2a3f5f"
            },
            "baxis": {
             "endlinecolor": "#2a3f5f",
             "gridcolor": "white",
             "linecolor": "white",
             "minorgridcolor": "white",
             "startlinecolor": "#2a3f5f"
            },
            "type": "carpet"
           }
          ],
          "choropleth": [
           {
            "colorbar": {
             "outlinewidth": 0,
             "ticks": ""
            },
            "type": "choropleth"
           }
          ],
          "contour": [
           {
            "colorbar": {
             "outlinewidth": 0,
             "ticks": ""
            },
            "colorscale": [
             [
              0,
              "#0d0887"
             ],
             [
              0.1111111111111111,
              "#46039f"
             ],
             [
              0.2222222222222222,
              "#7201a8"
             ],
             [
              0.3333333333333333,
              "#9c179e"
             ],
             [
              0.4444444444444444,
              "#bd3786"
             ],
             [
              0.5555555555555556,
              "#d8576b"
             ],
             [
              0.6666666666666666,
              "#ed7953"
             ],
             [
              0.7777777777777778,
              "#fb9f3a"
             ],
             [
              0.8888888888888888,
              "#fdca26"
             ],
             [
              1,
              "#f0f921"
             ]
            ],
            "type": "contour"
           }
          ],
          "contourcarpet": [
           {
            "colorbar": {
             "outlinewidth": 0,
             "ticks": ""
            },
            "type": "contourcarpet"
           }
          ],
          "heatmap": [
           {
            "colorbar": {
             "outlinewidth": 0,
             "ticks": ""
            },
            "colorscale": [
             [
              0,
              "#0d0887"
             ],
             [
              0.1111111111111111,
              "#46039f"
             ],
             [
              0.2222222222222222,
              "#7201a8"
             ],
             [
              0.3333333333333333,
              "#9c179e"
             ],
             [
              0.4444444444444444,
              "#bd3786"
             ],
             [
              0.5555555555555556,
              "#d8576b"
             ],
             [
              0.6666666666666666,
              "#ed7953"
             ],
             [
              0.7777777777777778,
              "#fb9f3a"
             ],
             [
              0.8888888888888888,
              "#fdca26"
             ],
             [
              1,
              "#f0f921"
             ]
            ],
            "type": "heatmap"
           }
          ],
          "heatmapgl": [
           {
            "colorbar": {
             "outlinewidth": 0,
             "ticks": ""
            },
            "colorscale": [
             [
              0,
              "#0d0887"
             ],
             [
              0.1111111111111111,
              "#46039f"
             ],
             [
              0.2222222222222222,
              "#7201a8"
             ],
             [
              0.3333333333333333,
              "#9c179e"
             ],
             [
              0.4444444444444444,
              "#bd3786"
             ],
             [
              0.5555555555555556,
              "#d8576b"
             ],
             [
              0.6666666666666666,
              "#ed7953"
             ],
             [
              0.7777777777777778,
              "#fb9f3a"
             ],
             [
              0.8888888888888888,
              "#fdca26"
             ],
             [
              1,
              "#f0f921"
             ]
            ],
            "type": "heatmapgl"
           }
          ],
          "histogram": [
           {
            "marker": {
             "colorbar": {
              "outlinewidth": 0,
              "ticks": ""
             }
            },
            "type": "histogram"
           }
          ],
          "histogram2d": [
           {
            "colorbar": {
             "outlinewidth": 0,
             "ticks": ""
            },
            "colorscale": [
             [
              0,
              "#0d0887"
             ],
             [
              0.1111111111111111,
              "#46039f"
             ],
             [
              0.2222222222222222,
              "#7201a8"
             ],
             [
              0.3333333333333333,
              "#9c179e"
             ],
             [
              0.4444444444444444,
              "#bd3786"
             ],
             [
              0.5555555555555556,
              "#d8576b"
             ],
             [
              0.6666666666666666,
              "#ed7953"
             ],
             [
              0.7777777777777778,
              "#fb9f3a"
             ],
             [
              0.8888888888888888,
              "#fdca26"
             ],
             [
              1,
              "#f0f921"
             ]
            ],
            "type": "histogram2d"
           }
          ],
          "histogram2dcontour": [
           {
            "colorbar": {
             "outlinewidth": 0,
             "ticks": ""
            },
            "colorscale": [
             [
              0,
              "#0d0887"
             ],
             [
              0.1111111111111111,
              "#46039f"
             ],
             [
              0.2222222222222222,
              "#7201a8"
             ],
             [
              0.3333333333333333,
              "#9c179e"
             ],
             [
              0.4444444444444444,
              "#bd3786"
             ],
             [
              0.5555555555555556,
              "#d8576b"
             ],
             [
              0.6666666666666666,
              "#ed7953"
             ],
             [
              0.7777777777777778,
              "#fb9f3a"
             ],
             [
              0.8888888888888888,
              "#fdca26"
             ],
             [
              1,
              "#f0f921"
             ]
            ],
            "type": "histogram2dcontour"
           }
          ],
          "mesh3d": [
           {
            "colorbar": {
             "outlinewidth": 0,
             "ticks": ""
            },
            "type": "mesh3d"
           }
          ],
          "parcoords": [
           {
            "line": {
             "colorbar": {
              "outlinewidth": 0,
              "ticks": ""
             }
            },
            "type": "parcoords"
           }
          ],
          "pie": [
           {
            "automargin": true,
            "type": "pie"
           }
          ],
          "scatter": [
           {
            "marker": {
             "colorbar": {
              "outlinewidth": 0,
              "ticks": ""
             }
            },
            "type": "scatter"
           }
          ],
          "scatter3d": [
           {
            "line": {
             "colorbar": {
              "outlinewidth": 0,
              "ticks": ""
             }
            },
            "marker": {
             "colorbar": {
              "outlinewidth": 0,
              "ticks": ""
             }
            },
            "type": "scatter3d"
           }
          ],
          "scattercarpet": [
           {
            "marker": {
             "colorbar": {
              "outlinewidth": 0,
              "ticks": ""
             }
            },
            "type": "scattercarpet"
           }
          ],
          "scattergeo": [
           {
            "marker": {
             "colorbar": {
              "outlinewidth": 0,
              "ticks": ""
             }
            },
            "type": "scattergeo"
           }
          ],
          "scattergl": [
           {
            "marker": {
             "colorbar": {
              "outlinewidth": 0,
              "ticks": ""
             }
            },
            "type": "scattergl"
           }
          ],
          "scattermapbox": [
           {
            "marker": {
             "colorbar": {
              "outlinewidth": 0,
              "ticks": ""
             }
            },
            "type": "scattermapbox"
           }
          ],
          "scatterpolar": [
           {
            "marker": {
             "colorbar": {
              "outlinewidth": 0,
              "ticks": ""
             }
            },
            "type": "scatterpolar"
           }
          ],
          "scatterpolargl": [
           {
            "marker": {
             "colorbar": {
              "outlinewidth": 0,
              "ticks": ""
             }
            },
            "type": "scatterpolargl"
           }
          ],
          "scatterternary": [
           {
            "marker": {
             "colorbar": {
              "outlinewidth": 0,
              "ticks": ""
             }
            },
            "type": "scatterternary"
           }
          ],
          "surface": [
           {
            "colorbar": {
             "outlinewidth": 0,
             "ticks": ""
            },
            "colorscale": [
             [
              0,
              "#0d0887"
             ],
             [
              0.1111111111111111,
              "#46039f"
             ],
             [
              0.2222222222222222,
              "#7201a8"
             ],
             [
              0.3333333333333333,
              "#9c179e"
             ],
             [
              0.4444444444444444,
              "#bd3786"
             ],
             [
              0.5555555555555556,
              "#d8576b"
             ],
             [
              0.6666666666666666,
              "#ed7953"
             ],
             [
              0.7777777777777778,
              "#fb9f3a"
             ],
             [
              0.8888888888888888,
              "#fdca26"
             ],
             [
              1,
              "#f0f921"
             ]
            ],
            "type": "surface"
           }
          ],
          "table": [
           {
            "cells": {
             "fill": {
              "color": "#EBF0F8"
             },
             "line": {
              "color": "white"
             }
            },
            "header": {
             "fill": {
              "color": "#C8D4E3"
             },
             "line": {
              "color": "white"
             }
            },
            "type": "table"
           }
          ]
         },
         "layout": {
          "annotationdefaults": {
           "arrowcolor": "#2a3f5f",
           "arrowhead": 0,
           "arrowwidth": 1
          },
          "autotypenumbers": "strict",
          "coloraxis": {
           "colorbar": {
            "outlinewidth": 0,
            "ticks": ""
           }
          },
          "colorscale": {
           "diverging": [
            [
             0,
             "#8e0152"
            ],
            [
             0.1,
             "#c51b7d"
            ],
            [
             0.2,
             "#de77ae"
            ],
            [
             0.3,
             "#f1b6da"
            ],
            [
             0.4,
             "#fde0ef"
            ],
            [
             0.5,
             "#f7f7f7"
            ],
            [
             0.6,
             "#e6f5d0"
            ],
            [
             0.7,
             "#b8e186"
            ],
            [
             0.8,
             "#7fbc41"
            ],
            [
             0.9,
             "#4d9221"
            ],
            [
             1,
             "#276419"
            ]
           ],
           "sequential": [
            [
             0,
             "#0d0887"
            ],
            [
             0.1111111111111111,
             "#46039f"
            ],
            [
             0.2222222222222222,
             "#7201a8"
            ],
            [
             0.3333333333333333,
             "#9c179e"
            ],
            [
             0.4444444444444444,
             "#bd3786"
            ],
            [
             0.5555555555555556,
             "#d8576b"
            ],
            [
             0.6666666666666666,
             "#ed7953"
            ],
            [
             0.7777777777777778,
             "#fb9f3a"
            ],
            [
             0.8888888888888888,
             "#fdca26"
            ],
            [
             1,
             "#f0f921"
            ]
           ],
           "sequentialminus": [
            [
             0,
             "#0d0887"
            ],
            [
             0.1111111111111111,
             "#46039f"
            ],
            [
             0.2222222222222222,
             "#7201a8"
            ],
            [
             0.3333333333333333,
             "#9c179e"
            ],
            [
             0.4444444444444444,
             "#bd3786"
            ],
            [
             0.5555555555555556,
             "#d8576b"
            ],
            [
             0.6666666666666666,
             "#ed7953"
            ],
            [
             0.7777777777777778,
             "#fb9f3a"
            ],
            [
             0.8888888888888888,
             "#fdca26"
            ],
            [
             1,
             "#f0f921"
            ]
           ]
          },
          "colorway": [
           "#636efa",
           "#EF553B",
           "#00cc96",
           "#ab63fa",
           "#FFA15A",
           "#19d3f3",
           "#FF6692",
           "#B6E880",
           "#FF97FF",
           "#FECB52"
          ],
          "font": {
           "color": "#2a3f5f"
          },
          "geo": {
           "bgcolor": "white",
           "lakecolor": "white",
           "landcolor": "#E5ECF6",
           "showlakes": true,
           "showland": true,
           "subunitcolor": "white"
          },
          "hoverlabel": {
           "align": "left"
          },
          "hovermode": "closest",
          "mapbox": {
           "style": "light"
          },
          "paper_bgcolor": "white",
          "plot_bgcolor": "#E5ECF6",
          "polar": {
           "angularaxis": {
            "gridcolor": "white",
            "linecolor": "white",
            "ticks": ""
           },
           "bgcolor": "#E5ECF6",
           "radialaxis": {
            "gridcolor": "white",
            "linecolor": "white",
            "ticks": ""
           }
          },
          "scene": {
           "xaxis": {
            "backgroundcolor": "#E5ECF6",
            "gridcolor": "white",
            "gridwidth": 2,
            "linecolor": "white",
            "showbackground": true,
            "ticks": "",
            "zerolinecolor": "white"
           },
           "yaxis": {
            "backgroundcolor": "#E5ECF6",
            "gridcolor": "white",
            "gridwidth": 2,
            "linecolor": "white",
            "showbackground": true,
            "ticks": "",
            "zerolinecolor": "white"
           },
           "zaxis": {
            "backgroundcolor": "#E5ECF6",
            "gridcolor": "white",
            "gridwidth": 2,
            "linecolor": "white",
            "showbackground": true,
            "ticks": "",
            "zerolinecolor": "white"
           }
          },
          "shapedefaults": {
           "line": {
            "color": "#2a3f5f"
           }
          },
          "ternary": {
           "aaxis": {
            "gridcolor": "white",
            "linecolor": "white",
            "ticks": ""
           },
           "baxis": {
            "gridcolor": "white",
            "linecolor": "white",
            "ticks": ""
           },
           "bgcolor": "#E5ECF6",
           "caxis": {
            "gridcolor": "white",
            "linecolor": "white",
            "ticks": ""
           }
          },
          "title": {
           "x": 0.05
          },
          "xaxis": {
           "automargin": true,
           "gridcolor": "white",
           "linecolor": "white",
           "ticks": "",
           "title": {
            "standoff": 15
           },
           "zerolinecolor": "white",
           "zerolinewidth": 2
          },
          "yaxis": {
           "automargin": true,
           "gridcolor": "white",
           "linecolor": "white",
           "ticks": "",
           "title": {
            "standoff": 15
           },
           "zerolinecolor": "white",
           "zerolinewidth": 2
          }
         }
        }
       }
      },
      "text/html": [
       "<div\n",
       "    class=\"webio-mountpoint\"\n",
       "    data-webio-mountpoint=\"2989387344623209519\"\n",
       ">\n",
       "    <script>\n",
       "    (function(){\n",
       "    // Some integrations (namely, IJulia/Jupyter) use an alternate render pathway than\n",
       "    // just putting the html on the page. If WebIO isn't defined, then it's pretty likely\n",
       "    // that we're in one of those situations and the integration just isn't installed\n",
       "    // correctly.\n",
       "    if (typeof window.WebIO === \"undefined\") {\n",
       "        document\n",
       "            .querySelector('[data-webio-mountpoint=\"2989387344623209519\"]')\n",
       "            .innerHTML = (\n",
       "                '<div style=\"padding: 1em; background-color: #f8d6da; border: 1px solid #f5c6cb; font-weight: bold;\">' +\n",
       "                '<p><strong>WebIO not detected.</strong></p>' +\n",
       "                '<p>Please read ' +\n",
       "                '<a href=\"https://juliagizmos.github.io/WebIO.jl/latest/troubleshooting/not-detected/\" target=\"_blank\">the troubleshooting guide</a> ' +\n",
       "                'for more information on how to resolve this issue.</p>' +\n",
       "                '<p><a href=\"https://juliagizmos.github.io/WebIO.jl/latest/troubleshooting/not-detected/\" target=\"_blank\">https://juliagizmos.github.io/WebIO.jl/latest/troubleshooting/not-detected/</a></p>' +\n",
       "                '</div>'\n",
       "            );\n",
       "        return;\n",
       "    }\n",
       "    WebIO.mount(\n",
       "        document.querySelector('[data-webio-mountpoint=\"2989387344623209519\"]'),\n",
       "        {\"props\":{},\"nodeType\":\"Scope\",\"type\":\"node\",\"instanceArgs\":{\"imports\":{\"data\":[{\"name\":\"Plotly\",\"type\":\"js\",\"url\":\"\\/assetserver\\/7dc425d3d9acdbb7fba54ce8841409ff1fd2b16c-plotly.min.js\"},{\"name\":null,\"type\":\"js\",\"url\":\"\\/assetserver\\/bdef9d06b2ff8f6ff9f383d24c2633cfc4dfc0cb-plotly_webio.bundle.js\"}],\"type\":\"async_block\"},\"id\":\"4629502595988216477\",\"handlers\":{\"_toImage\":[\"(function (options){return this.Plotly.toImage(this.plotElem,options).then((function (data){return WebIO.setval({\\\"name\\\":\\\"image\\\",\\\"scope\\\":\\\"4629502595988216477\\\",\\\"id\\\":\\\"14632412242166570546\\\",\\\"type\\\":\\\"observable\\\"},data)}))})\"],\"__get_gd_contents\":[\"(function (prop){prop==\\\"data\\\" ? (WebIO.setval({\\\"name\\\":\\\"__gd_contents\\\",\\\"scope\\\":\\\"4629502595988216477\\\",\\\"id\\\":\\\"12951204687012479228\\\",\\\"type\\\":\\\"observable\\\"},this.plotElem.data)) : undefined; return prop==\\\"layout\\\" ? (WebIO.setval({\\\"name\\\":\\\"__gd_contents\\\",\\\"scope\\\":\\\"4629502595988216477\\\",\\\"id\\\":\\\"12951204687012479228\\\",\\\"type\\\":\\\"observable\\\"},this.plotElem.layout)) : undefined})\"],\"_downloadImage\":[\"(function (options){return this.Plotly.downloadImage(this.plotElem,options)})\"],\"_commands\":[\"(function (args){var fn=args.shift(); var elem=this.plotElem; var Plotly=this.Plotly; args.unshift(elem); return Plotly[fn].apply(this,args)})\"]},\"systemjs_options\":null,\"mount_callbacks\":[\"function () {\\n    var handler = ((function (Plotly,PlotlyWebIO){PlotlyWebIO.init(WebIO); var gd=this.dom.querySelector(\\\"#plot-d3d878f8-51b0-49a7-b7d7-79691948de6d\\\"); this.plotElem=gd; this.Plotly=Plotly; (window.Blink!==undefined) ? (gd.style.width=\\\"100%\\\", gd.style.height=\\\"100vh\\\", gd.style.marginLeft=\\\"0%\\\", gd.style.marginTop=\\\"0vh\\\") : undefined; window.onresize=(function (){return Plotly.Plots.resize(gd)}); Plotly.newPlot(gd,[{\\\"y\\\":[4.788e12,5.52e12,3.159e12,2.286e13,2.3754e13],\\\"type\\\":\\\"bar\\\",\\\"name\\\":\\\"Zużyte litry wody na wieprzowine\\\",\\\"x\\\":[\\\"Kanada\\\",\\\"Argentyna\\\",\\\"Chile\\\",\\\"Meksyk\\\",\\\"Brazylia\\\"]},{\\\"y\\\":[1.4535e13,2.898e13,6.552e12,2.8575e13,1.284e14],\\\"type\\\":\\\"bar\\\",\\\"name\\\":\\\"Zużyte litry wody na wołowine\\\",\\\"x\\\":[\\\"Kanada\\\",\\\"Argentyna\\\",\\\"Chile\\\",\\\"Meksyk\\\",\\\"Brazylia\\\"]},{\\\"y\\\":[7600000000000,8832000000000,2886000000000,25400000000000,17120000000000],\\\"type\\\":\\\"bar\\\",\\\"name\\\":\\\"Zużyte litry wody na drób\\\",\\\"x\\\":[\\\"Kanada\\\",\\\"Argentyna\\\",\\\"Chile\\\",\\\"Meksyk\\\",\\\"Brazylia\\\"]}],{\\\"template\\\":{\\\"layout\\\":{\\\"coloraxis\\\":{\\\"colorbar\\\":{\\\"ticks\\\":\\\"\\\",\\\"outlinewidth\\\":0}},\\\"xaxis\\\":{\\\"gridcolor\\\":\\\"white\\\",\\\"zerolinewidth\\\":2,\\\"title\\\":{\\\"standoff\\\":15},\\\"ticks\\\":\\\"\\\",\\\"zerolinecolor\\\":\\\"white\\\",\\\"automargin\\\":true,\\\"linecolor\\\":\\\"white\\\"},\\\"hovermode\\\":\\\"closest\\\",\\\"paper_bgcolor\\\":\\\"white\\\",\\\"geo\\\":{\\\"showlakes\\\":true,\\\"showland\\\":true,\\\"landcolor\\\":\\\"#E5ECF6\\\",\\\"bgcolor\\\":\\\"white\\\",\\\"subunitcolor\\\":\\\"white\\\",\\\"lakecolor\\\":\\\"white\\\"},\\\"colorscale\\\":{\\\"sequential\\\":[[0.0,\\\"#0d0887\\\"],[0.1111111111111111,\\\"#46039f\\\"],[0.2222222222222222,\\\"#7201a8\\\"],[0.3333333333333333,\\\"#9c179e\\\"],[0.4444444444444444,\\\"#bd3786\\\"],[0.5555555555555556,\\\"#d8576b\\\"],[0.6666666666666666,\\\"#ed7953\\\"],[0.7777777777777778,\\\"#fb9f3a\\\"],[0.8888888888888888,\\\"#fdca26\\\"],[1.0,\\\"#f0f921\\\"]],\\\"diverging\\\":[[0,\\\"#8e0152\\\"],[0.1,\\\"#c51b7d\\\"],[0.2,\\\"#de77ae\\\"],[0.3,\\\"#f1b6da\\\"],[0.4,\\\"#fde0ef\\\"],[0.5,\\\"#f7f7f7\\\"],[0.6,\\\"#e6f5d0\\\"],[0.7,\\\"#b8e186\\\"],[0.8,\\\"#7fbc41\\\"],[0.9,\\\"#4d9221\\\"],[1,\\\"#276419\\\"]],\\\"sequentialminus\\\":[[0.0,\\\"#0d0887\\\"],[0.1111111111111111,\\\"#46039f\\\"],[0.2222222222222222,\\\"#7201a8\\\"],[0.3333333333333333,\\\"#9c179e\\\"],[0.4444444444444444,\\\"#bd3786\\\"],[0.5555555555555556,\\\"#d8576b\\\"],[0.6666666666666666,\\\"#ed7953\\\"],[0.7777777777777778,\\\"#fb9f3a\\\"],[0.8888888888888888,\\\"#fdca26\\\"],[1.0,\\\"#f0f921\\\"]]},\\\"yaxis\\\":{\\\"gridcolor\\\":\\\"white\\\",\\\"zerolinewidth\\\":2,\\\"title\\\":{\\\"standoff\\\":15},\\\"ticks\\\":\\\"\\\",\\\"zerolinecolor\\\":\\\"white\\\",\\\"automargin\\\":true,\\\"linecolor\\\":\\\"white\\\"},\\\"shapedefaults\\\":{\\\"line\\\":{\\\"color\\\":\\\"#2a3f5f\\\"}},\\\"hoverlabel\\\":{\\\"align\\\":\\\"left\\\"},\\\"mapbox\\\":{\\\"style\\\":\\\"light\\\"},\\\"polar\\\":{\\\"angularaxis\\\":{\\\"gridcolor\\\":\\\"white\\\",\\\"ticks\\\":\\\"\\\",\\\"linecolor\\\":\\\"white\\\"},\\\"bgcolor\\\":\\\"#E5ECF6\\\",\\\"radialaxis\\\":{\\\"gridcolor\\\":\\\"white\\\",\\\"ticks\\\":\\\"\\\",\\\"linecolor\\\":\\\"white\\\"}},\\\"autotypenumbers\\\":\\\"strict\\\",\\\"font\\\":{\\\"color\\\":\\\"#2a3f5f\\\"},\\\"ternary\\\":{\\\"baxis\\\":{\\\"gridcolor\\\":\\\"white\\\",\\\"ticks\\\":\\\"\\\",\\\"linecolor\\\":\\\"white\\\"},\\\"bgcolor\\\":\\\"#E5ECF6\\\",\\\"caxis\\\":{\\\"gridcolor\\\":\\\"white\\\",\\\"ticks\\\":\\\"\\\",\\\"linecolor\\\":\\\"white\\\"},\\\"aaxis\\\":{\\\"gridcolor\\\":\\\"white\\\",\\\"ticks\\\":\\\"\\\",\\\"linecolor\\\":\\\"white\\\"}},\\\"annotationdefaults\\\":{\\\"arrowhead\\\":0,\\\"arrowwidth\\\":1,\\\"arrowcolor\\\":\\\"#2a3f5f\\\"},\\\"plot_bgcolor\\\":\\\"#E5ECF6\\\",\\\"title\\\":{\\\"x\\\":0.05},\\\"scene\\\":{\\\"xaxis\\\":{\\\"gridcolor\\\":\\\"white\\\",\\\"gridwidth\\\":2,\\\"backgroundcolor\\\":\\\"#E5ECF6\\\",\\\"ticks\\\":\\\"\\\",\\\"showbackground\\\":true,\\\"zerolinecolor\\\":\\\"white\\\",\\\"linecolor\\\":\\\"white\\\"},\\\"zaxis\\\":{\\\"gridcolor\\\":\\\"white\\\",\\\"gridwidth\\\":2,\\\"backgroundcolor\\\":\\\"#E5ECF6\\\",\\\"ticks\\\":\\\"\\\",\\\"showbackground\\\":true,\\\"zerolinecolor\\\":\\\"white\\\",\\\"linecolor\\\":\\\"white\\\"},\\\"yaxis\\\":{\\\"gridcolor\\\":\\\"white\\\",\\\"gridwidth\\\":2,\\\"backgroundcolor\\\":\\\"#E5ECF6\\\",\\\"ticks\\\":\\\"\\\",\\\"showbackground\\\":true,\\\"zerolinecolor\\\":\\\"white\\\",\\\"linecolor\\\":\\\"white\\\"}},\\\"colorway\\\":[\\\"#636efa\\\",\\\"#EF553B\\\",\\\"#00cc96\\\",\\\"#ab63fa\\\",\\\"#FFA15A\\\",\\\"#19d3f3\\\",\\\"#FF6692\\\",\\\"#B6E880\\\",\\\"#FF97FF\\\",\\\"#FECB52\\\"]},\\\"data\\\":{\\\"barpolar\\\":[{\\\"type\\\":\\\"barpolar\\\",\\\"marker\\\":{\\\"line\\\":{\\\"color\\\":\\\"#E5ECF6\\\",\\\"width\\\":0.5}}}],\\\"carpet\\\":[{\\\"aaxis\\\":{\\\"gridcolor\\\":\\\"white\\\",\\\"endlinecolor\\\":\\\"#2a3f5f\\\",\\\"minorgridcolor\\\":\\\"white\\\",\\\"startlinecolor\\\":\\\"#2a3f5f\\\",\\\"linecolor\\\":\\\"white\\\"},\\\"type\\\":\\\"carpet\\\",\\\"baxis\\\":{\\\"gridcolor\\\":\\\"white\\\",\\\"endlinecolor\\\":\\\"#2a3f5f\\\",\\\"minorgridcolor\\\":\\\"white\\\",\\\"startlinecolor\\\":\\\"#2a3f5f\\\",\\\"linecolor\\\":\\\"white\\\"}}],\\\"scatterpolar\\\":[{\\\"type\\\":\\\"scatterpolar\\\",\\\"marker\\\":{\\\"colorbar\\\":{\\\"ticks\\\":\\\"\\\",\\\"outlinewidth\\\":0}}}],\\\"parcoords\\\":[{\\\"line\\\":{\\\"colorbar\\\":{\\\"ticks\\\":\\\"\\\",\\\"outlinewidth\\\":0}},\\\"type\\\":\\\"parcoords\\\"}],\\\"scatter\\\":[{\\\"type\\\":\\\"scatter\\\",\\\"marker\\\":{\\\"colorbar\\\":{\\\"ticks\\\":\\\"\\\",\\\"outlinewidth\\\":0}}}],\\\"histogram2dcontour\\\":[{\\\"colorbar\\\":{\\\"ticks\\\":\\\"\\\",\\\"outlinewidth\\\":0},\\\"type\\\":\\\"histogram2dcontour\\\",\\\"colorscale\\\":[[0.0,\\\"#0d0887\\\"],[0.1111111111111111,\\\"#46039f\\\"],[0.2222222222222222,\\\"#7201a8\\\"],[0.3333333333333333,\\\"#9c179e\\\"],[0.4444444444444444,\\\"#bd3786\\\"],[0.5555555555555556,\\\"#d8576b\\\"],[0.6666666666666666,\\\"#ed7953\\\"],[0.7777777777777778,\\\"#fb9f3a\\\"],[0.8888888888888888,\\\"#fdca26\\\"],[1.0,\\\"#f0f921\\\"]]}],\\\"contour\\\":[{\\\"colorbar\\\":{\\\"ticks\\\":\\\"\\\",\\\"outlinewidth\\\":0},\\\"type\\\":\\\"contour\\\",\\\"colorscale\\\":[[0.0,\\\"#0d0887\\\"],[0.1111111111111111,\\\"#46039f\\\"],[0.2222222222222222,\\\"#7201a8\\\"],[0.3333333333333333,\\\"#9c179e\\\"],[0.4444444444444444,\\\"#bd3786\\\"],[0.5555555555555556,\\\"#d8576b\\\"],[0.6666666666666666,\\\"#ed7953\\\"],[0.7777777777777778,\\\"#fb9f3a\\\"],[0.8888888888888888,\\\"#fdca26\\\"],[1.0,\\\"#f0f921\\\"]]}],\\\"scattercarpet\\\":[{\\\"type\\\":\\\"scattercarpet\\\",\\\"marker\\\":{\\\"colorbar\\\":{\\\"ticks\\\":\\\"\\\",\\\"outlinewidth\\\":0}}}],\\\"mesh3d\\\":[{\\\"colorbar\\\":{\\\"ticks\\\":\\\"\\\",\\\"outlinewidth\\\":0},\\\"type\\\":\\\"mesh3d\\\"}],\\\"surface\\\":[{\\\"colorbar\\\":{\\\"ticks\\\":\\\"\\\",\\\"outlinewidth\\\":0},\\\"type\\\":\\\"surface\\\",\\\"colorscale\\\":[[0.0,\\\"#0d0887\\\"],[0.1111111111111111,\\\"#46039f\\\"],[0.2222222222222222,\\\"#7201a8\\\"],[0.3333333333333333,\\\"#9c179e\\\"],[0.4444444444444444,\\\"#bd3786\\\"],[0.5555555555555556,\\\"#d8576b\\\"],[0.6666666666666666,\\\"#ed7953\\\"],[0.7777777777777778,\\\"#fb9f3a\\\"],[0.8888888888888888,\\\"#fdca26\\\"],[1.0,\\\"#f0f921\\\"]]}],\\\"scattermapbox\\\":[{\\\"type\\\":\\\"scattermapbox\\\",\\\"marker\\\":{\\\"colorbar\\\":{\\\"ticks\\\":\\\"\\\",\\\"outlinewidth\\\":0}}}],\\\"scattergeo\\\":[{\\\"type\\\":\\\"scattergeo\\\",\\\"marker\\\":{\\\"colorbar\\\":{\\\"ticks\\\":\\\"\\\",\\\"outlinewidth\\\":0}}}],\\\"histogram\\\":[{\\\"type\\\":\\\"histogram\\\",\\\"marker\\\":{\\\"colorbar\\\":{\\\"ticks\\\":\\\"\\\",\\\"outlinewidth\\\":0}}}],\\\"pie\\\":[{\\\"type\\\":\\\"pie\\\",\\\"automargin\\\":true}],\\\"choropleth\\\":[{\\\"colorbar\\\":{\\\"ticks\\\":\\\"\\\",\\\"outlinewidth\\\":0},\\\"type\\\":\\\"choropleth\\\"}],\\\"heatmapgl\\\":[{\\\"colorbar\\\":{\\\"ticks\\\":\\\"\\\",\\\"outlinewidth\\\":0},\\\"type\\\":\\\"heatmapgl\\\",\\\"colorscale\\\":[[0.0,\\\"#0d0887\\\"],[0.1111111111111111,\\\"#46039f\\\"],[0.2222222222222222,\\\"#7201a8\\\"],[0.3333333333333333,\\\"#9c179e\\\"],[0.4444444444444444,\\\"#bd3786\\\"],[0.5555555555555556,\\\"#d8576b\\\"],[0.6666666666666666,\\\"#ed7953\\\"],[0.7777777777777778,\\\"#fb9f3a\\\"],[0.8888888888888888,\\\"#fdca26\\\"],[1.0,\\\"#f0f921\\\"]]}],\\\"bar\\\":[{\\\"type\\\":\\\"bar\\\",\\\"error_y\\\":{\\\"color\\\":\\\"#2a3f5f\\\"},\\\"error_x\\\":{\\\"color\\\":\\\"#2a3f5f\\\"},\\\"marker\\\":{\\\"line\\\":{\\\"color\\\":\\\"#E5ECF6\\\",\\\"width\\\":0.5}}}],\\\"heatmap\\\":[{\\\"colorbar\\\":{\\\"ticks\\\":\\\"\\\",\\\"outlinewidth\\\":0},\\\"type\\\":\\\"heatmap\\\",\\\"colorscale\\\":[[0.0,\\\"#0d0887\\\"],[0.1111111111111111,\\\"#46039f\\\"],[0.2222222222222222,\\\"#7201a8\\\"],[0.3333333333333333,\\\"#9c179e\\\"],[0.4444444444444444,\\\"#bd3786\\\"],[0.5555555555555556,\\\"#d8576b\\\"],[0.6666666666666666,\\\"#ed7953\\\"],[0.7777777777777778,\\\"#fb9f3a\\\"],[0.8888888888888888,\\\"#fdca26\\\"],[1.0,\\\"#f0f921\\\"]]}],\\\"contourcarpet\\\":[{\\\"colorbar\\\":{\\\"ticks\\\":\\\"\\\",\\\"outlinewidth\\\":0},\\\"type\\\":\\\"contourcarpet\\\"}],\\\"table\\\":[{\\\"type\\\":\\\"table\\\",\\\"header\\\":{\\\"line\\\":{\\\"color\\\":\\\"white\\\"},\\\"fill\\\":{\\\"color\\\":\\\"#C8D4E3\\\"}},\\\"cells\\\":{\\\"line\\\":{\\\"color\\\":\\\"white\\\"},\\\"fill\\\":{\\\"color\\\":\\\"#EBF0F8\\\"}}}],\\\"scatter3d\\\":[{\\\"line\\\":{\\\"colorbar\\\":{\\\"ticks\\\":\\\"\\\",\\\"outlinewidth\\\":0}},\\\"type\\\":\\\"scatter3d\\\",\\\"marker\\\":{\\\"colorbar\\\":{\\\"ticks\\\":\\\"\\\",\\\"outlinewidth\\\":0}}}],\\\"scattergl\\\":[{\\\"type\\\":\\\"scattergl\\\",\\\"marker\\\":{\\\"colorbar\\\":{\\\"ticks\\\":\\\"\\\",\\\"outlinewidth\\\":0}}}],\\\"histogram2d\\\":[{\\\"colorbar\\\":{\\\"ticks\\\":\\\"\\\",\\\"outlinewidth\\\":0},\\\"type\\\":\\\"histogram2d\\\",\\\"colorscale\\\":[[0.0,\\\"#0d0887\\\"],[0.1111111111111111,\\\"#46039f\\\"],[0.2222222222222222,\\\"#7201a8\\\"],[0.3333333333333333,\\\"#9c179e\\\"],[0.4444444444444444,\\\"#bd3786\\\"],[0.5555555555555556,\\\"#d8576b\\\"],[0.6666666666666666,\\\"#ed7953\\\"],[0.7777777777777778,\\\"#fb9f3a\\\"],[0.8888888888888888,\\\"#fdca26\\\"],[1.0,\\\"#f0f921\\\"]]}],\\\"scatterternary\\\":[{\\\"type\\\":\\\"scatterternary\\\",\\\"marker\\\":{\\\"colorbar\\\":{\\\"ticks\\\":\\\"\\\",\\\"outlinewidth\\\":0}}}],\\\"scatterpolargl\\\":[{\\\"type\\\":\\\"scatterpolargl\\\",\\\"marker\\\":{\\\"colorbar\\\":{\\\"ticks\\\":\\\"\\\",\\\"outlinewidth\\\":0}}}]}},\\\"barmode\\\":\\\"stack\\\",\\\"margin\\\":{\\\"l\\\":50,\\\"b\\\":50,\\\"r\\\":50,\\\"t\\\":60}},{\\\"showLink\\\":false,\\\"editable\\\":false,\\\"responsive\\\":true,\\\"staticPlot\\\":false,\\\"scrollZoom\\\":true}); gd.on(\\\"plotly_hover\\\",(function (data){var filtered_data=WebIO.PlotlyCommands.filterEventData(gd,data,\\\"hover\\\"); return !(filtered_data.isnil) ? (WebIO.setval({\\\"name\\\":\\\"hover\\\",\\\"scope\\\":\\\"4629502595988216477\\\",\\\"id\\\":\\\"7638131956710450390\\\",\\\"type\\\":\\\"observable\\\"},filtered_data.out)) : undefined})); gd.on(\\\"plotly_unhover\\\",(function (){return WebIO.setval({\\\"name\\\":\\\"hover\\\",\\\"scope\\\":\\\"4629502595988216477\\\",\\\"id\\\":\\\"7638131956710450390\\\",\\\"type\\\":\\\"observable\\\"},{})})); gd.on(\\\"plotly_selected\\\",(function (data){var filtered_data=WebIO.PlotlyCommands.filterEventData(gd,data,\\\"selected\\\"); return !(filtered_data.isnil) ? (WebIO.setval({\\\"name\\\":\\\"selected\\\",\\\"scope\\\":\\\"4629502595988216477\\\",\\\"id\\\":\\\"14189725577600109200\\\",\\\"type\\\":\\\"observable\\\"},filtered_data.out)) : undefined})); gd.on(\\\"plotly_deselect\\\",(function (){return WebIO.setval({\\\"name\\\":\\\"selected\\\",\\\"scope\\\":\\\"4629502595988216477\\\",\\\"id\\\":\\\"14189725577600109200\\\",\\\"type\\\":\\\"observable\\\"},{})})); gd.on(\\\"plotly_relayout\\\",(function (data){var filtered_data=WebIO.PlotlyCommands.filterEventData(gd,data,\\\"relayout\\\"); return !(filtered_data.isnil) ? (WebIO.setval({\\\"name\\\":\\\"relayout\\\",\\\"scope\\\":\\\"4629502595988216477\\\",\\\"id\\\":\\\"16581231777218144079\\\",\\\"type\\\":\\\"observable\\\"},filtered_data.out)) : undefined})); return gd.on(\\\"plotly_click\\\",(function (data){var filtered_data=WebIO.PlotlyCommands.filterEventData(gd,data,\\\"click\\\"); return !(filtered_data.isnil) ? (WebIO.setval({\\\"name\\\":\\\"click\\\",\\\"scope\\\":\\\"4629502595988216477\\\",\\\"id\\\":\\\"13481728442902397095\\\",\\\"type\\\":\\\"observable\\\"},filtered_data.out)) : undefined}))}));\\n    (WebIO.importBlock({\\\"data\\\":[{\\\"name\\\":\\\"Plotly\\\",\\\"type\\\":\\\"js\\\",\\\"url\\\":\\\"\\/assetserver\\/7dc425d3d9acdbb7fba54ce8841409ff1fd2b16c-plotly.min.js\\\"},{\\\"name\\\":null,\\\"type\\\":\\\"js\\\",\\\"url\\\":\\\"\\/assetserver\\/bdef9d06b2ff8f6ff9f383d24c2633cfc4dfc0cb-plotly_webio.bundle.js\\\"}],\\\"type\\\":\\\"async_block\\\"})).then((imports) => handler.apply(this, imports));\\n}\\n\"],\"observables\":{\"_toImage\":{\"sync\":false,\"id\":\"7910529696261513220\",\"value\":{}},\"hover\":{\"sync\":false,\"id\":\"7638131956710450390\",\"value\":{}},\"selected\":{\"sync\":false,\"id\":\"14189725577600109200\",\"value\":{}},\"__gd_contents\":{\"sync\":false,\"id\":\"12951204687012479228\",\"value\":{}},\"click\":{\"sync\":false,\"id\":\"13481728442902397095\",\"value\":{}},\"image\":{\"sync\":true,\"id\":\"14632412242166570546\",\"value\":\"\"},\"__get_gd_contents\":{\"sync\":false,\"id\":\"12173474413872324448\",\"value\":\"\"},\"_downloadImage\":{\"sync\":false,\"id\":\"1009870444394742087\",\"value\":{}},\"relayout\":{\"sync\":false,\"id\":\"16581231777218144079\",\"value\":{}},\"_commands\":{\"sync\":false,\"id\":\"11199178635852374142\",\"value\":[]}}},\"children\":[{\"props\":{\"id\":\"plot-d3d878f8-51b0-49a7-b7d7-79691948de6d\"},\"nodeType\":\"DOM\",\"type\":\"node\",\"instanceArgs\":{\"namespace\":\"html\",\"tag\":\"div\"},\"children\":[]}]},\n",
       "        window,\n",
       "    );\n",
       "    })()\n",
       "    </script>\n",
       "</div>\n"
      ],
      "text/plain": [
       "data: [\n",
       "  \"bar with fields name, type, x, and y\",\n",
       "  \"bar with fields name, type, x, and y\",\n",
       "  \"bar with fields name, type, x, and y\"\n",
       "]\n",
       "\n",
       "layout: \"layout with fields barmode, margin, and template\"\n",
       "\n"
      ]
     },
     "execution_count": 7,
     "metadata": {},
     "output_type": "execute_result"
    }
   ],
   "source": [
    "Ameryka = [\"Kanada\",\"Argentyna\",\"Chile\",\"Meksyk\",\"Brazylia\"]\n",
    "wieprzowina3 = [21,20,27,30,18.5]\n",
    "wołowina3 = [25.5,42,22.4,15,40]\n",
    "drób3 = [50,48,37,50,20]\n",
    "ludzie3 = [38000000,46000000,19500000,127000000,214000000]\n",
    "pomnoz_liste(wieprzowina3,6000,ludzie3)\n",
    "pomnoz_liste(wołowina3,15000,ludzie3)\n",
    "pomnoz_liste(drób3,4000,ludzie3)\n",
    "c = plot([\n",
    "    bar(name=\"Zużyte litry wody na wieprzowine\", x=Ameryka, y=wieprzowina3)\n",
    "    bar(name=\"Zużyte litry wody na wołowine\", x=Ameryka, y=wołowina3)\n",
    "    bar(name=\"Zużyte litry wody na drób\", x=Ameryka, y=drób3)\n",
    "], Layout(barmode=\"stack\"))"
   ]
  },
  {
   "cell_type": "code",
   "execution_count": 8,
   "id": "ed76d0fa",
   "metadata": {},
   "outputs": [
    {
     "data": {
      "application/vnd.plotly.v1+json": {
       "config": {
        "editable": false,
        "responsive": true,
        "scrollZoom": true,
        "showLink": false,
        "staticPlot": false
       },
       "data": [
        {
         "name": "Zużyte litry wody na wieprzowine",
         "type": "bar",
         "x": [
          "Izrael",
          "Indonezja",
          "Bangladesz",
          "Indie",
          "Australia",
          "Nigeria",
          "Etiopia"
         ],
         "y": [
          72540000000,
          8220000000000,
          3051000000000,
          8448000000000,
          3120000000000,
          2562000000000,
          1443600000000
         ]
        },
        {
         "name": "Zużyte litry wody na wołowine",
         "type": "bar",
         "x": [
          "Izrael",
          "Indonezja",
          "Bangladesz",
          "Indie",
          "Australia",
          "Nigeria",
          "Etiopia"
         ],
         "y": [
          2790000000000,
          4110000000000,
          10170000000000,
          4224000000000,
          7605000000000,
          6405000000000,
          1082700000000
         ]
        },
        {
         "name": "Zużyte litry wody na drób",
         "type": "bar",
         "x": [
          "Izrael",
          "Indonezja",
          "Bangladesz",
          "Indie",
          "Australia",
          "Nigeria",
          "Etiopia"
         ],
         "y": [
          2399400000000,
          24112000000000,
          2034000000000,
          14080000000000,
          4576000000000,
          854000000000,
          288720000000
         ]
        }
       ],
       "frames": [],
       "layout": {
        "barmode": "stack",
        "margin": {
         "b": 50,
         "l": 50,
         "r": 50,
         "t": 60
        },
        "template": {
         "data": {
          "bar": [
           {
            "error_x": {
             "color": "#2a3f5f"
            },
            "error_y": {
             "color": "#2a3f5f"
            },
            "marker": {
             "line": {
              "color": "#E5ECF6",
              "width": 0.5
             }
            },
            "type": "bar"
           }
          ],
          "barpolar": [
           {
            "marker": {
             "line": {
              "color": "#E5ECF6",
              "width": 0.5
             }
            },
            "type": "barpolar"
           }
          ],
          "carpet": [
           {
            "aaxis": {
             "endlinecolor": "#2a3f5f",
             "gridcolor": "white",
             "linecolor": "white",
             "minorgridcolor": "white",
             "startlinecolor": "#2a3f5f"
            },
            "baxis": {
             "endlinecolor": "#2a3f5f",
             "gridcolor": "white",
             "linecolor": "white",
             "minorgridcolor": "white",
             "startlinecolor": "#2a3f5f"
            },
            "type": "carpet"
           }
          ],
          "choropleth": [
           {
            "colorbar": {
             "outlinewidth": 0,
             "ticks": ""
            },
            "type": "choropleth"
           }
          ],
          "contour": [
           {
            "colorbar": {
             "outlinewidth": 0,
             "ticks": ""
            },
            "colorscale": [
             [
              0,
              "#0d0887"
             ],
             [
              0.1111111111111111,
              "#46039f"
             ],
             [
              0.2222222222222222,
              "#7201a8"
             ],
             [
              0.3333333333333333,
              "#9c179e"
             ],
             [
              0.4444444444444444,
              "#bd3786"
             ],
             [
              0.5555555555555556,
              "#d8576b"
             ],
             [
              0.6666666666666666,
              "#ed7953"
             ],
             [
              0.7777777777777778,
              "#fb9f3a"
             ],
             [
              0.8888888888888888,
              "#fdca26"
             ],
             [
              1,
              "#f0f921"
             ]
            ],
            "type": "contour"
           }
          ],
          "contourcarpet": [
           {
            "colorbar": {
             "outlinewidth": 0,
             "ticks": ""
            },
            "type": "contourcarpet"
           }
          ],
          "heatmap": [
           {
            "colorbar": {
             "outlinewidth": 0,
             "ticks": ""
            },
            "colorscale": [
             [
              0,
              "#0d0887"
             ],
             [
              0.1111111111111111,
              "#46039f"
             ],
             [
              0.2222222222222222,
              "#7201a8"
             ],
             [
              0.3333333333333333,
              "#9c179e"
             ],
             [
              0.4444444444444444,
              "#bd3786"
             ],
             [
              0.5555555555555556,
              "#d8576b"
             ],
             [
              0.6666666666666666,
              "#ed7953"
             ],
             [
              0.7777777777777778,
              "#fb9f3a"
             ],
             [
              0.8888888888888888,
              "#fdca26"
             ],
             [
              1,
              "#f0f921"
             ]
            ],
            "type": "heatmap"
           }
          ],
          "heatmapgl": [
           {
            "colorbar": {
             "outlinewidth": 0,
             "ticks": ""
            },
            "colorscale": [
             [
              0,
              "#0d0887"
             ],
             [
              0.1111111111111111,
              "#46039f"
             ],
             [
              0.2222222222222222,
              "#7201a8"
             ],
             [
              0.3333333333333333,
              "#9c179e"
             ],
             [
              0.4444444444444444,
              "#bd3786"
             ],
             [
              0.5555555555555556,
              "#d8576b"
             ],
             [
              0.6666666666666666,
              "#ed7953"
             ],
             [
              0.7777777777777778,
              "#fb9f3a"
             ],
             [
              0.8888888888888888,
              "#fdca26"
             ],
             [
              1,
              "#f0f921"
             ]
            ],
            "type": "heatmapgl"
           }
          ],
          "histogram": [
           {
            "marker": {
             "colorbar": {
              "outlinewidth": 0,
              "ticks": ""
             }
            },
            "type": "histogram"
           }
          ],
          "histogram2d": [
           {
            "colorbar": {
             "outlinewidth": 0,
             "ticks": ""
            },
            "colorscale": [
             [
              0,
              "#0d0887"
             ],
             [
              0.1111111111111111,
              "#46039f"
             ],
             [
              0.2222222222222222,
              "#7201a8"
             ],
             [
              0.3333333333333333,
              "#9c179e"
             ],
             [
              0.4444444444444444,
              "#bd3786"
             ],
             [
              0.5555555555555556,
              "#d8576b"
             ],
             [
              0.6666666666666666,
              "#ed7953"
             ],
             [
              0.7777777777777778,
              "#fb9f3a"
             ],
             [
              0.8888888888888888,
              "#fdca26"
             ],
             [
              1,
              "#f0f921"
             ]
            ],
            "type": "histogram2d"
           }
          ],
          "histogram2dcontour": [
           {
            "colorbar": {
             "outlinewidth": 0,
             "ticks": ""
            },
            "colorscale": [
             [
              0,
              "#0d0887"
             ],
             [
              0.1111111111111111,
              "#46039f"
             ],
             [
              0.2222222222222222,
              "#7201a8"
             ],
             [
              0.3333333333333333,
              "#9c179e"
             ],
             [
              0.4444444444444444,
              "#bd3786"
             ],
             [
              0.5555555555555556,
              "#d8576b"
             ],
             [
              0.6666666666666666,
              "#ed7953"
             ],
             [
              0.7777777777777778,
              "#fb9f3a"
             ],
             [
              0.8888888888888888,
              "#fdca26"
             ],
             [
              1,
              "#f0f921"
             ]
            ],
            "type": "histogram2dcontour"
           }
          ],
          "mesh3d": [
           {
            "colorbar": {
             "outlinewidth": 0,
             "ticks": ""
            },
            "type": "mesh3d"
           }
          ],
          "parcoords": [
           {
            "line": {
             "colorbar": {
              "outlinewidth": 0,
              "ticks": ""
             }
            },
            "type": "parcoords"
           }
          ],
          "pie": [
           {
            "automargin": true,
            "type": "pie"
           }
          ],
          "scatter": [
           {
            "marker": {
             "colorbar": {
              "outlinewidth": 0,
              "ticks": ""
             }
            },
            "type": "scatter"
           }
          ],
          "scatter3d": [
           {
            "line": {
             "colorbar": {
              "outlinewidth": 0,
              "ticks": ""
             }
            },
            "marker": {
             "colorbar": {
              "outlinewidth": 0,
              "ticks": ""
             }
            },
            "type": "scatter3d"
           }
          ],
          "scattercarpet": [
           {
            "marker": {
             "colorbar": {
              "outlinewidth": 0,
              "ticks": ""
             }
            },
            "type": "scattercarpet"
           }
          ],
          "scattergeo": [
           {
            "marker": {
             "colorbar": {
              "outlinewidth": 0,
              "ticks": ""
             }
            },
            "type": "scattergeo"
           }
          ],
          "scattergl": [
           {
            "marker": {
             "colorbar": {
              "outlinewidth": 0,
              "ticks": ""
             }
            },
            "type": "scattergl"
           }
          ],
          "scattermapbox": [
           {
            "marker": {
             "colorbar": {
              "outlinewidth": 0,
              "ticks": ""
             }
            },
            "type": "scattermapbox"
           }
          ],
          "scatterpolar": [
           {
            "marker": {
             "colorbar": {
              "outlinewidth": 0,
              "ticks": ""
             }
            },
            "type": "scatterpolar"
           }
          ],
          "scatterpolargl": [
           {
            "marker": {
             "colorbar": {
              "outlinewidth": 0,
              "ticks": ""
             }
            },
            "type": "scatterpolargl"
           }
          ],
          "scatterternary": [
           {
            "marker": {
             "colorbar": {
              "outlinewidth": 0,
              "ticks": ""
             }
            },
            "type": "scatterternary"
           }
          ],
          "surface": [
           {
            "colorbar": {
             "outlinewidth": 0,
             "ticks": ""
            },
            "colorscale": [
             [
              0,
              "#0d0887"
             ],
             [
              0.1111111111111111,
              "#46039f"
             ],
             [
              0.2222222222222222,
              "#7201a8"
             ],
             [
              0.3333333333333333,
              "#9c179e"
             ],
             [
              0.4444444444444444,
              "#bd3786"
             ],
             [
              0.5555555555555556,
              "#d8576b"
             ],
             [
              0.6666666666666666,
              "#ed7953"
             ],
             [
              0.7777777777777778,
              "#fb9f3a"
             ],
             [
              0.8888888888888888,
              "#fdca26"
             ],
             [
              1,
              "#f0f921"
             ]
            ],
            "type": "surface"
           }
          ],
          "table": [
           {
            "cells": {
             "fill": {
              "color": "#EBF0F8"
             },
             "line": {
              "color": "white"
             }
            },
            "header": {
             "fill": {
              "color": "#C8D4E3"
             },
             "line": {
              "color": "white"
             }
            },
            "type": "table"
           }
          ]
         },
         "layout": {
          "annotationdefaults": {
           "arrowcolor": "#2a3f5f",
           "arrowhead": 0,
           "arrowwidth": 1
          },
          "autotypenumbers": "strict",
          "coloraxis": {
           "colorbar": {
            "outlinewidth": 0,
            "ticks": ""
           }
          },
          "colorscale": {
           "diverging": [
            [
             0,
             "#8e0152"
            ],
            [
             0.1,
             "#c51b7d"
            ],
            [
             0.2,
             "#de77ae"
            ],
            [
             0.3,
             "#f1b6da"
            ],
            [
             0.4,
             "#fde0ef"
            ],
            [
             0.5,
             "#f7f7f7"
            ],
            [
             0.6,
             "#e6f5d0"
            ],
            [
             0.7,
             "#b8e186"
            ],
            [
             0.8,
             "#7fbc41"
            ],
            [
             0.9,
             "#4d9221"
            ],
            [
             1,
             "#276419"
            ]
           ],
           "sequential": [
            [
             0,
             "#0d0887"
            ],
            [
             0.1111111111111111,
             "#46039f"
            ],
            [
             0.2222222222222222,
             "#7201a8"
            ],
            [
             0.3333333333333333,
             "#9c179e"
            ],
            [
             0.4444444444444444,
             "#bd3786"
            ],
            [
             0.5555555555555556,
             "#d8576b"
            ],
            [
             0.6666666666666666,
             "#ed7953"
            ],
            [
             0.7777777777777778,
             "#fb9f3a"
            ],
            [
             0.8888888888888888,
             "#fdca26"
            ],
            [
             1,
             "#f0f921"
            ]
           ],
           "sequentialminus": [
            [
             0,
             "#0d0887"
            ],
            [
             0.1111111111111111,
             "#46039f"
            ],
            [
             0.2222222222222222,
             "#7201a8"
            ],
            [
             0.3333333333333333,
             "#9c179e"
            ],
            [
             0.4444444444444444,
             "#bd3786"
            ],
            [
             0.5555555555555556,
             "#d8576b"
            ],
            [
             0.6666666666666666,
             "#ed7953"
            ],
            [
             0.7777777777777778,
             "#fb9f3a"
            ],
            [
             0.8888888888888888,
             "#fdca26"
            ],
            [
             1,
             "#f0f921"
            ]
           ]
          },
          "colorway": [
           "#636efa",
           "#EF553B",
           "#00cc96",
           "#ab63fa",
           "#FFA15A",
           "#19d3f3",
           "#FF6692",
           "#B6E880",
           "#FF97FF",
           "#FECB52"
          ],
          "font": {
           "color": "#2a3f5f"
          },
          "geo": {
           "bgcolor": "white",
           "lakecolor": "white",
           "landcolor": "#E5ECF6",
           "showlakes": true,
           "showland": true,
           "subunitcolor": "white"
          },
          "hoverlabel": {
           "align": "left"
          },
          "hovermode": "closest",
          "mapbox": {
           "style": "light"
          },
          "paper_bgcolor": "white",
          "plot_bgcolor": "#E5ECF6",
          "polar": {
           "angularaxis": {
            "gridcolor": "white",
            "linecolor": "white",
            "ticks": ""
           },
           "bgcolor": "#E5ECF6",
           "radialaxis": {
            "gridcolor": "white",
            "linecolor": "white",
            "ticks": ""
           }
          },
          "scene": {
           "xaxis": {
            "backgroundcolor": "#E5ECF6",
            "gridcolor": "white",
            "gridwidth": 2,
            "linecolor": "white",
            "showbackground": true,
            "ticks": "",
            "zerolinecolor": "white"
           },
           "yaxis": {
            "backgroundcolor": "#E5ECF6",
            "gridcolor": "white",
            "gridwidth": 2,
            "linecolor": "white",
            "showbackground": true,
            "ticks": "",
            "zerolinecolor": "white"
           },
           "zaxis": {
            "backgroundcolor": "#E5ECF6",
            "gridcolor": "white",
            "gridwidth": 2,
            "linecolor": "white",
            "showbackground": true,
            "ticks": "",
            "zerolinecolor": "white"
           }
          },
          "shapedefaults": {
           "line": {
            "color": "#2a3f5f"
           }
          },
          "ternary": {
           "aaxis": {
            "gridcolor": "white",
            "linecolor": "white",
            "ticks": ""
           },
           "baxis": {
            "gridcolor": "white",
            "linecolor": "white",
            "ticks": ""
           },
           "bgcolor": "#E5ECF6",
           "caxis": {
            "gridcolor": "white",
            "linecolor": "white",
            "ticks": ""
           }
          },
          "title": {
           "x": 0.05
          },
          "xaxis": {
           "automargin": true,
           "gridcolor": "white",
           "linecolor": "white",
           "ticks": "",
           "title": {
            "standoff": 15
           },
           "zerolinecolor": "white",
           "zerolinewidth": 2
          },
          "yaxis": {
           "automargin": true,
           "gridcolor": "white",
           "linecolor": "white",
           "ticks": "",
           "title": {
            "standoff": 15
           },
           "zerolinecolor": "white",
           "zerolinewidth": 2
          }
         }
        }
       }
      },
      "text/html": [
       "<div\n",
       "    class=\"webio-mountpoint\"\n",
       "    data-webio-mountpoint=\"1066963603731266500\"\n",
       ">\n",
       "    <script>\n",
       "    (function(){\n",
       "    // Some integrations (namely, IJulia/Jupyter) use an alternate render pathway than\n",
       "    // just putting the html on the page. If WebIO isn't defined, then it's pretty likely\n",
       "    // that we're in one of those situations and the integration just isn't installed\n",
       "    // correctly.\n",
       "    if (typeof window.WebIO === \"undefined\") {\n",
       "        document\n",
       "            .querySelector('[data-webio-mountpoint=\"1066963603731266500\"]')\n",
       "            .innerHTML = (\n",
       "                '<div style=\"padding: 1em; background-color: #f8d6da; border: 1px solid #f5c6cb; font-weight: bold;\">' +\n",
       "                '<p><strong>WebIO not detected.</strong></p>' +\n",
       "                '<p>Please read ' +\n",
       "                '<a href=\"https://juliagizmos.github.io/WebIO.jl/latest/troubleshooting/not-detected/\" target=\"_blank\">the troubleshooting guide</a> ' +\n",
       "                'for more information on how to resolve this issue.</p>' +\n",
       "                '<p><a href=\"https://juliagizmos.github.io/WebIO.jl/latest/troubleshooting/not-detected/\" target=\"_blank\">https://juliagizmos.github.io/WebIO.jl/latest/troubleshooting/not-detected/</a></p>' +\n",
       "                '</div>'\n",
       "            );\n",
       "        return;\n",
       "    }\n",
       "    WebIO.mount(\n",
       "        document.querySelector('[data-webio-mountpoint=\"1066963603731266500\"]'),\n",
       "        {\"props\":{},\"nodeType\":\"Scope\",\"type\":\"node\",\"instanceArgs\":{\"imports\":{\"data\":[{\"name\":\"Plotly\",\"type\":\"js\",\"url\":\"\\/assetserver\\/7dc425d3d9acdbb7fba54ce8841409ff1fd2b16c-plotly.min.js\"},{\"name\":null,\"type\":\"js\",\"url\":\"\\/assetserver\\/bdef9d06b2ff8f6ff9f383d24c2633cfc4dfc0cb-plotly_webio.bundle.js\"}],\"type\":\"async_block\"},\"id\":\"14306920764072096185\",\"handlers\":{\"_toImage\":[\"(function (options){return this.Plotly.toImage(this.plotElem,options).then((function (data){return WebIO.setval({\\\"name\\\":\\\"image\\\",\\\"scope\\\":\\\"14306920764072096185\\\",\\\"id\\\":\\\"16869493470242079174\\\",\\\"type\\\":\\\"observable\\\"},data)}))})\"],\"__get_gd_contents\":[\"(function (prop){prop==\\\"data\\\" ? (WebIO.setval({\\\"name\\\":\\\"__gd_contents\\\",\\\"scope\\\":\\\"14306920764072096185\\\",\\\"id\\\":\\\"8717110589723695885\\\",\\\"type\\\":\\\"observable\\\"},this.plotElem.data)) : undefined; return prop==\\\"layout\\\" ? (WebIO.setval({\\\"name\\\":\\\"__gd_contents\\\",\\\"scope\\\":\\\"14306920764072096185\\\",\\\"id\\\":\\\"8717110589723695885\\\",\\\"type\\\":\\\"observable\\\"},this.plotElem.layout)) : undefined})\"],\"_downloadImage\":[\"(function (options){return this.Plotly.downloadImage(this.plotElem,options)})\"],\"_commands\":[\"(function (args){var fn=args.shift(); var elem=this.plotElem; var Plotly=this.Plotly; args.unshift(elem); return Plotly[fn].apply(this,args)})\"]},\"systemjs_options\":null,\"mount_callbacks\":[\"function () {\\n    var handler = ((function (Plotly,PlotlyWebIO){PlotlyWebIO.init(WebIO); var gd=this.dom.querySelector(\\\"#plot-6c211d1c-f967-4273-b487-778637035db8\\\"); this.plotElem=gd; this.Plotly=Plotly; (window.Blink!==undefined) ? (gd.style.width=\\\"100%\\\", gd.style.height=\\\"100vh\\\", gd.style.marginLeft=\\\"0%\\\", gd.style.marginTop=\\\"0vh\\\") : undefined; window.onresize=(function (){return Plotly.Plots.resize(gd)}); Plotly.newPlot(gd,[{\\\"y\\\":[7.254e10,8.22e12,3.051e12,8.448e12,3.12e12,2.562e12,1.4436e12],\\\"type\\\":\\\"bar\\\",\\\"name\\\":\\\"Zużyte litry wody na wieprzowine\\\",\\\"x\\\":[\\\"Izrael\\\",\\\"Indonezja\\\",\\\"Bangladesz\\\",\\\"Indie\\\",\\\"Australia\\\",\\\"Nigeria\\\",\\\"Etiopia\\\"]},{\\\"y\\\":[2.79e12,4.11e12,1.017e13,4.224e12,7.605e12,6.405e12,1.0827e12],\\\"type\\\":\\\"bar\\\",\\\"name\\\":\\\"Zużyte litry wody na wołowine\\\",\\\"x\\\":[\\\"Izrael\\\",\\\"Indonezja\\\",\\\"Bangladesz\\\",\\\"Indie\\\",\\\"Australia\\\",\\\"Nigeria\\\",\\\"Etiopia\\\"]},{\\\"y\\\":[2.3994e12,2.4112e13,2.034e12,1.408e13,4.576e12,8.54e11,2.8872e11],\\\"type\\\":\\\"bar\\\",\\\"name\\\":\\\"Zużyte litry wody na drób\\\",\\\"x\\\":[\\\"Izrael\\\",\\\"Indonezja\\\",\\\"Bangladesz\\\",\\\"Indie\\\",\\\"Australia\\\",\\\"Nigeria\\\",\\\"Etiopia\\\"]}],{\\\"template\\\":{\\\"layout\\\":{\\\"coloraxis\\\":{\\\"colorbar\\\":{\\\"ticks\\\":\\\"\\\",\\\"outlinewidth\\\":0}},\\\"xaxis\\\":{\\\"gridcolor\\\":\\\"white\\\",\\\"zerolinewidth\\\":2,\\\"title\\\":{\\\"standoff\\\":15},\\\"ticks\\\":\\\"\\\",\\\"zerolinecolor\\\":\\\"white\\\",\\\"automargin\\\":true,\\\"linecolor\\\":\\\"white\\\"},\\\"hovermode\\\":\\\"closest\\\",\\\"paper_bgcolor\\\":\\\"white\\\",\\\"geo\\\":{\\\"showlakes\\\":true,\\\"showland\\\":true,\\\"landcolor\\\":\\\"#E5ECF6\\\",\\\"bgcolor\\\":\\\"white\\\",\\\"subunitcolor\\\":\\\"white\\\",\\\"lakecolor\\\":\\\"white\\\"},\\\"colorscale\\\":{\\\"sequential\\\":[[0.0,\\\"#0d0887\\\"],[0.1111111111111111,\\\"#46039f\\\"],[0.2222222222222222,\\\"#7201a8\\\"],[0.3333333333333333,\\\"#9c179e\\\"],[0.4444444444444444,\\\"#bd3786\\\"],[0.5555555555555556,\\\"#d8576b\\\"],[0.6666666666666666,\\\"#ed7953\\\"],[0.7777777777777778,\\\"#fb9f3a\\\"],[0.8888888888888888,\\\"#fdca26\\\"],[1.0,\\\"#f0f921\\\"]],\\\"diverging\\\":[[0,\\\"#8e0152\\\"],[0.1,\\\"#c51b7d\\\"],[0.2,\\\"#de77ae\\\"],[0.3,\\\"#f1b6da\\\"],[0.4,\\\"#fde0ef\\\"],[0.5,\\\"#f7f7f7\\\"],[0.6,\\\"#e6f5d0\\\"],[0.7,\\\"#b8e186\\\"],[0.8,\\\"#7fbc41\\\"],[0.9,\\\"#4d9221\\\"],[1,\\\"#276419\\\"]],\\\"sequentialminus\\\":[[0.0,\\\"#0d0887\\\"],[0.1111111111111111,\\\"#46039f\\\"],[0.2222222222222222,\\\"#7201a8\\\"],[0.3333333333333333,\\\"#9c179e\\\"],[0.4444444444444444,\\\"#bd3786\\\"],[0.5555555555555556,\\\"#d8576b\\\"],[0.6666666666666666,\\\"#ed7953\\\"],[0.7777777777777778,\\\"#fb9f3a\\\"],[0.8888888888888888,\\\"#fdca26\\\"],[1.0,\\\"#f0f921\\\"]]},\\\"yaxis\\\":{\\\"gridcolor\\\":\\\"white\\\",\\\"zerolinewidth\\\":2,\\\"title\\\":{\\\"standoff\\\":15},\\\"ticks\\\":\\\"\\\",\\\"zerolinecolor\\\":\\\"white\\\",\\\"automargin\\\":true,\\\"linecolor\\\":\\\"white\\\"},\\\"shapedefaults\\\":{\\\"line\\\":{\\\"color\\\":\\\"#2a3f5f\\\"}},\\\"hoverlabel\\\":{\\\"align\\\":\\\"left\\\"},\\\"mapbox\\\":{\\\"style\\\":\\\"light\\\"},\\\"polar\\\":{\\\"angularaxis\\\":{\\\"gridcolor\\\":\\\"white\\\",\\\"ticks\\\":\\\"\\\",\\\"linecolor\\\":\\\"white\\\"},\\\"bgcolor\\\":\\\"#E5ECF6\\\",\\\"radialaxis\\\":{\\\"gridcolor\\\":\\\"white\\\",\\\"ticks\\\":\\\"\\\",\\\"linecolor\\\":\\\"white\\\"}},\\\"autotypenumbers\\\":\\\"strict\\\",\\\"font\\\":{\\\"color\\\":\\\"#2a3f5f\\\"},\\\"ternary\\\":{\\\"baxis\\\":{\\\"gridcolor\\\":\\\"white\\\",\\\"ticks\\\":\\\"\\\",\\\"linecolor\\\":\\\"white\\\"},\\\"bgcolor\\\":\\\"#E5ECF6\\\",\\\"caxis\\\":{\\\"gridcolor\\\":\\\"white\\\",\\\"ticks\\\":\\\"\\\",\\\"linecolor\\\":\\\"white\\\"},\\\"aaxis\\\":{\\\"gridcolor\\\":\\\"white\\\",\\\"ticks\\\":\\\"\\\",\\\"linecolor\\\":\\\"white\\\"}},\\\"annotationdefaults\\\":{\\\"arrowhead\\\":0,\\\"arrowwidth\\\":1,\\\"arrowcolor\\\":\\\"#2a3f5f\\\"},\\\"plot_bgcolor\\\":\\\"#E5ECF6\\\",\\\"title\\\":{\\\"x\\\":0.05},\\\"scene\\\":{\\\"xaxis\\\":{\\\"gridcolor\\\":\\\"white\\\",\\\"gridwidth\\\":2,\\\"backgroundcolor\\\":\\\"#E5ECF6\\\",\\\"ticks\\\":\\\"\\\",\\\"showbackground\\\":true,\\\"zerolinecolor\\\":\\\"white\\\",\\\"linecolor\\\":\\\"white\\\"},\\\"zaxis\\\":{\\\"gridcolor\\\":\\\"white\\\",\\\"gridwidth\\\":2,\\\"backgroundcolor\\\":\\\"#E5ECF6\\\",\\\"ticks\\\":\\\"\\\",\\\"showbackground\\\":true,\\\"zerolinecolor\\\":\\\"white\\\",\\\"linecolor\\\":\\\"white\\\"},\\\"yaxis\\\":{\\\"gridcolor\\\":\\\"white\\\",\\\"gridwidth\\\":2,\\\"backgroundcolor\\\":\\\"#E5ECF6\\\",\\\"ticks\\\":\\\"\\\",\\\"showbackground\\\":true,\\\"zerolinecolor\\\":\\\"white\\\",\\\"linecolor\\\":\\\"white\\\"}},\\\"colorway\\\":[\\\"#636efa\\\",\\\"#EF553B\\\",\\\"#00cc96\\\",\\\"#ab63fa\\\",\\\"#FFA15A\\\",\\\"#19d3f3\\\",\\\"#FF6692\\\",\\\"#B6E880\\\",\\\"#FF97FF\\\",\\\"#FECB52\\\"]},\\\"data\\\":{\\\"barpolar\\\":[{\\\"type\\\":\\\"barpolar\\\",\\\"marker\\\":{\\\"line\\\":{\\\"color\\\":\\\"#E5ECF6\\\",\\\"width\\\":0.5}}}],\\\"carpet\\\":[{\\\"aaxis\\\":{\\\"gridcolor\\\":\\\"white\\\",\\\"endlinecolor\\\":\\\"#2a3f5f\\\",\\\"minorgridcolor\\\":\\\"white\\\",\\\"startlinecolor\\\":\\\"#2a3f5f\\\",\\\"linecolor\\\":\\\"white\\\"},\\\"type\\\":\\\"carpet\\\",\\\"baxis\\\":{\\\"gridcolor\\\":\\\"white\\\",\\\"endlinecolor\\\":\\\"#2a3f5f\\\",\\\"minorgridcolor\\\":\\\"white\\\",\\\"startlinecolor\\\":\\\"#2a3f5f\\\",\\\"linecolor\\\":\\\"white\\\"}}],\\\"scatterpolar\\\":[{\\\"type\\\":\\\"scatterpolar\\\",\\\"marker\\\":{\\\"colorbar\\\":{\\\"ticks\\\":\\\"\\\",\\\"outlinewidth\\\":0}}}],\\\"parcoords\\\":[{\\\"line\\\":{\\\"colorbar\\\":{\\\"ticks\\\":\\\"\\\",\\\"outlinewidth\\\":0}},\\\"type\\\":\\\"parcoords\\\"}],\\\"scatter\\\":[{\\\"type\\\":\\\"scatter\\\",\\\"marker\\\":{\\\"colorbar\\\":{\\\"ticks\\\":\\\"\\\",\\\"outlinewidth\\\":0}}}],\\\"histogram2dcontour\\\":[{\\\"colorbar\\\":{\\\"ticks\\\":\\\"\\\",\\\"outlinewidth\\\":0},\\\"type\\\":\\\"histogram2dcontour\\\",\\\"colorscale\\\":[[0.0,\\\"#0d0887\\\"],[0.1111111111111111,\\\"#46039f\\\"],[0.2222222222222222,\\\"#7201a8\\\"],[0.3333333333333333,\\\"#9c179e\\\"],[0.4444444444444444,\\\"#bd3786\\\"],[0.5555555555555556,\\\"#d8576b\\\"],[0.6666666666666666,\\\"#ed7953\\\"],[0.7777777777777778,\\\"#fb9f3a\\\"],[0.8888888888888888,\\\"#fdca26\\\"],[1.0,\\\"#f0f921\\\"]]}],\\\"contour\\\":[{\\\"colorbar\\\":{\\\"ticks\\\":\\\"\\\",\\\"outlinewidth\\\":0},\\\"type\\\":\\\"contour\\\",\\\"colorscale\\\":[[0.0,\\\"#0d0887\\\"],[0.1111111111111111,\\\"#46039f\\\"],[0.2222222222222222,\\\"#7201a8\\\"],[0.3333333333333333,\\\"#9c179e\\\"],[0.4444444444444444,\\\"#bd3786\\\"],[0.5555555555555556,\\\"#d8576b\\\"],[0.6666666666666666,\\\"#ed7953\\\"],[0.7777777777777778,\\\"#fb9f3a\\\"],[0.8888888888888888,\\\"#fdca26\\\"],[1.0,\\\"#f0f921\\\"]]}],\\\"scattercarpet\\\":[{\\\"type\\\":\\\"scattercarpet\\\",\\\"marker\\\":{\\\"colorbar\\\":{\\\"ticks\\\":\\\"\\\",\\\"outlinewidth\\\":0}}}],\\\"mesh3d\\\":[{\\\"colorbar\\\":{\\\"ticks\\\":\\\"\\\",\\\"outlinewidth\\\":0},\\\"type\\\":\\\"mesh3d\\\"}],\\\"surface\\\":[{\\\"colorbar\\\":{\\\"ticks\\\":\\\"\\\",\\\"outlinewidth\\\":0},\\\"type\\\":\\\"surface\\\",\\\"colorscale\\\":[[0.0,\\\"#0d0887\\\"],[0.1111111111111111,\\\"#46039f\\\"],[0.2222222222222222,\\\"#7201a8\\\"],[0.3333333333333333,\\\"#9c179e\\\"],[0.4444444444444444,\\\"#bd3786\\\"],[0.5555555555555556,\\\"#d8576b\\\"],[0.6666666666666666,\\\"#ed7953\\\"],[0.7777777777777778,\\\"#fb9f3a\\\"],[0.8888888888888888,\\\"#fdca26\\\"],[1.0,\\\"#f0f921\\\"]]}],\\\"scattermapbox\\\":[{\\\"type\\\":\\\"scattermapbox\\\",\\\"marker\\\":{\\\"colorbar\\\":{\\\"ticks\\\":\\\"\\\",\\\"outlinewidth\\\":0}}}],\\\"scattergeo\\\":[{\\\"type\\\":\\\"scattergeo\\\",\\\"marker\\\":{\\\"colorbar\\\":{\\\"ticks\\\":\\\"\\\",\\\"outlinewidth\\\":0}}}],\\\"histogram\\\":[{\\\"type\\\":\\\"histogram\\\",\\\"marker\\\":{\\\"colorbar\\\":{\\\"ticks\\\":\\\"\\\",\\\"outlinewidth\\\":0}}}],\\\"pie\\\":[{\\\"type\\\":\\\"pie\\\",\\\"automargin\\\":true}],\\\"choropleth\\\":[{\\\"colorbar\\\":{\\\"ticks\\\":\\\"\\\",\\\"outlinewidth\\\":0},\\\"type\\\":\\\"choropleth\\\"}],\\\"heatmapgl\\\":[{\\\"colorbar\\\":{\\\"ticks\\\":\\\"\\\",\\\"outlinewidth\\\":0},\\\"type\\\":\\\"heatmapgl\\\",\\\"colorscale\\\":[[0.0,\\\"#0d0887\\\"],[0.1111111111111111,\\\"#46039f\\\"],[0.2222222222222222,\\\"#7201a8\\\"],[0.3333333333333333,\\\"#9c179e\\\"],[0.4444444444444444,\\\"#bd3786\\\"],[0.5555555555555556,\\\"#d8576b\\\"],[0.6666666666666666,\\\"#ed7953\\\"],[0.7777777777777778,\\\"#fb9f3a\\\"],[0.8888888888888888,\\\"#fdca26\\\"],[1.0,\\\"#f0f921\\\"]]}],\\\"bar\\\":[{\\\"type\\\":\\\"bar\\\",\\\"error_y\\\":{\\\"color\\\":\\\"#2a3f5f\\\"},\\\"error_x\\\":{\\\"color\\\":\\\"#2a3f5f\\\"},\\\"marker\\\":{\\\"line\\\":{\\\"color\\\":\\\"#E5ECF6\\\",\\\"width\\\":0.5}}}],\\\"heatmap\\\":[{\\\"colorbar\\\":{\\\"ticks\\\":\\\"\\\",\\\"outlinewidth\\\":0},\\\"type\\\":\\\"heatmap\\\",\\\"colorscale\\\":[[0.0,\\\"#0d0887\\\"],[0.1111111111111111,\\\"#46039f\\\"],[0.2222222222222222,\\\"#7201a8\\\"],[0.3333333333333333,\\\"#9c179e\\\"],[0.4444444444444444,\\\"#bd3786\\\"],[0.5555555555555556,\\\"#d8576b\\\"],[0.6666666666666666,\\\"#ed7953\\\"],[0.7777777777777778,\\\"#fb9f3a\\\"],[0.8888888888888888,\\\"#fdca26\\\"],[1.0,\\\"#f0f921\\\"]]}],\\\"contourcarpet\\\":[{\\\"colorbar\\\":{\\\"ticks\\\":\\\"\\\",\\\"outlinewidth\\\":0},\\\"type\\\":\\\"contourcarpet\\\"}],\\\"table\\\":[{\\\"type\\\":\\\"table\\\",\\\"header\\\":{\\\"line\\\":{\\\"color\\\":\\\"white\\\"},\\\"fill\\\":{\\\"color\\\":\\\"#C8D4E3\\\"}},\\\"cells\\\":{\\\"line\\\":{\\\"color\\\":\\\"white\\\"},\\\"fill\\\":{\\\"color\\\":\\\"#EBF0F8\\\"}}}],\\\"scatter3d\\\":[{\\\"line\\\":{\\\"colorbar\\\":{\\\"ticks\\\":\\\"\\\",\\\"outlinewidth\\\":0}},\\\"type\\\":\\\"scatter3d\\\",\\\"marker\\\":{\\\"colorbar\\\":{\\\"ticks\\\":\\\"\\\",\\\"outlinewidth\\\":0}}}],\\\"scattergl\\\":[{\\\"type\\\":\\\"scattergl\\\",\\\"marker\\\":{\\\"colorbar\\\":{\\\"ticks\\\":\\\"\\\",\\\"outlinewidth\\\":0}}}],\\\"histogram2d\\\":[{\\\"colorbar\\\":{\\\"ticks\\\":\\\"\\\",\\\"outlinewidth\\\":0},\\\"type\\\":\\\"histogram2d\\\",\\\"colorscale\\\":[[0.0,\\\"#0d0887\\\"],[0.1111111111111111,\\\"#46039f\\\"],[0.2222222222222222,\\\"#7201a8\\\"],[0.3333333333333333,\\\"#9c179e\\\"],[0.4444444444444444,\\\"#bd3786\\\"],[0.5555555555555556,\\\"#d8576b\\\"],[0.6666666666666666,\\\"#ed7953\\\"],[0.7777777777777778,\\\"#fb9f3a\\\"],[0.8888888888888888,\\\"#fdca26\\\"],[1.0,\\\"#f0f921\\\"]]}],\\\"scatterternary\\\":[{\\\"type\\\":\\\"scatterternary\\\",\\\"marker\\\":{\\\"colorbar\\\":{\\\"ticks\\\":\\\"\\\",\\\"outlinewidth\\\":0}}}],\\\"scatterpolargl\\\":[{\\\"type\\\":\\\"scatterpolargl\\\",\\\"marker\\\":{\\\"colorbar\\\":{\\\"ticks\\\":\\\"\\\",\\\"outlinewidth\\\":0}}}]}},\\\"barmode\\\":\\\"stack\\\",\\\"margin\\\":{\\\"l\\\":50,\\\"b\\\":50,\\\"r\\\":50,\\\"t\\\":60}},{\\\"showLink\\\":false,\\\"editable\\\":false,\\\"responsive\\\":true,\\\"staticPlot\\\":false,\\\"scrollZoom\\\":true}); gd.on(\\\"plotly_hover\\\",(function (data){var filtered_data=WebIO.PlotlyCommands.filterEventData(gd,data,\\\"hover\\\"); return !(filtered_data.isnil) ? (WebIO.setval({\\\"name\\\":\\\"hover\\\",\\\"scope\\\":\\\"14306920764072096185\\\",\\\"id\\\":\\\"5716721485599463965\\\",\\\"type\\\":\\\"observable\\\"},filtered_data.out)) : undefined})); gd.on(\\\"plotly_unhover\\\",(function (){return WebIO.setval({\\\"name\\\":\\\"hover\\\",\\\"scope\\\":\\\"14306920764072096185\\\",\\\"id\\\":\\\"5716721485599463965\\\",\\\"type\\\":\\\"observable\\\"},{})})); gd.on(\\\"plotly_selected\\\",(function (data){var filtered_data=WebIO.PlotlyCommands.filterEventData(gd,data,\\\"selected\\\"); return !(filtered_data.isnil) ? (WebIO.setval({\\\"name\\\":\\\"selected\\\",\\\"scope\\\":\\\"14306920764072096185\\\",\\\"id\\\":\\\"11568426945211959841\\\",\\\"type\\\":\\\"observable\\\"},filtered_data.out)) : undefined})); gd.on(\\\"plotly_deselect\\\",(function (){return WebIO.setval({\\\"name\\\":\\\"selected\\\",\\\"scope\\\":\\\"14306920764072096185\\\",\\\"id\\\":\\\"11568426945211959841\\\",\\\"type\\\":\\\"observable\\\"},{})})); gd.on(\\\"plotly_relayout\\\",(function (data){var filtered_data=WebIO.PlotlyCommands.filterEventData(gd,data,\\\"relayout\\\"); return !(filtered_data.isnil) ? (WebIO.setval({\\\"name\\\":\\\"relayout\\\",\\\"scope\\\":\\\"14306920764072096185\\\",\\\"id\\\":\\\"1059618183008025855\\\",\\\"type\\\":\\\"observable\\\"},filtered_data.out)) : undefined})); return gd.on(\\\"plotly_click\\\",(function (data){var filtered_data=WebIO.PlotlyCommands.filterEventData(gd,data,\\\"click\\\"); return !(filtered_data.isnil) ? (WebIO.setval({\\\"name\\\":\\\"click\\\",\\\"scope\\\":\\\"14306920764072096185\\\",\\\"id\\\":\\\"17623228025228789213\\\",\\\"type\\\":\\\"observable\\\"},filtered_data.out)) : undefined}))}));\\n    (WebIO.importBlock({\\\"data\\\":[{\\\"name\\\":\\\"Plotly\\\",\\\"type\\\":\\\"js\\\",\\\"url\\\":\\\"\\/assetserver\\/7dc425d3d9acdbb7fba54ce8841409ff1fd2b16c-plotly.min.js\\\"},{\\\"name\\\":null,\\\"type\\\":\\\"js\\\",\\\"url\\\":\\\"\\/assetserver\\/bdef9d06b2ff8f6ff9f383d24c2633cfc4dfc0cb-plotly_webio.bundle.js\\\"}],\\\"type\\\":\\\"async_block\\\"})).then((imports) => handler.apply(this, imports));\\n}\\n\"],\"observables\":{\"_toImage\":{\"sync\":false,\"id\":\"13295303085214196507\",\"value\":{}},\"hover\":{\"sync\":false,\"id\":\"5716721485599463965\",\"value\":{}},\"selected\":{\"sync\":false,\"id\":\"11568426945211959841\",\"value\":{}},\"__gd_contents\":{\"sync\":false,\"id\":\"8717110589723695885\",\"value\":{}},\"click\":{\"sync\":false,\"id\":\"17623228025228789213\",\"value\":{}},\"image\":{\"sync\":true,\"id\":\"16869493470242079174\",\"value\":\"\"},\"__get_gd_contents\":{\"sync\":false,\"id\":\"2794866408274968157\",\"value\":\"\"},\"_downloadImage\":{\"sync\":false,\"id\":\"10026220448969958999\",\"value\":{}},\"relayout\":{\"sync\":false,\"id\":\"1059618183008025855\",\"value\":{}},\"_commands\":{\"sync\":false,\"id\":\"3031651477286896509\",\"value\":[]}}},\"children\":[{\"props\":{\"id\":\"plot-6c211d1c-f967-4273-b487-778637035db8\"},\"nodeType\":\"DOM\",\"type\":\"node\",\"instanceArgs\":{\"namespace\":\"html\",\"tag\":\"div\"},\"children\":[]}]},\n",
       "        window,\n",
       "    );\n",
       "    })()\n",
       "    </script>\n",
       "</div>\n"
      ],
      "text/plain": [
       "data: [\n",
       "  \"bar with fields name, type, x, and y\",\n",
       "  \"bar with fields name, type, x, and y\",\n",
       "  \"bar with fields name, type, x, and y\"\n",
       "]\n",
       "\n",
       "layout: \"layout with fields barmode, margin, and template\"\n",
       "\n"
      ]
     },
     "execution_count": 8,
     "metadata": {},
     "output_type": "execute_result"
    }
   ],
   "source": [
    "azjaafryka = [\"Izrael\",\"Indonezja\",\"Bangladesz\",\"Indie\",\"Australia\",\"Nigeria\",\"Etiopia\"]\n",
    "wieprzowina4 = [1.3,5,3,1,20,2,2]\n",
    "wołowina4 = [20,1,4,0.2,19.5,2,0.6]\n",
    "drób4 = [64.5,22,3,2.5,44,1,0.6]\n",
    "ludzie4 = [9300000,274000000,169500000,1408000000,26000000,213500000,120300000]\n",
    "pomnoz_liste(wieprzowina4,6000,ludzie4)\n",
    "pomnoz_liste(wołowina4,15000,ludzie4)\n",
    "pomnoz_liste(drób4,4000,ludzie4)\n",
    "d = plot([\n",
    "    bar(name=\"Zużyte litry wody na wieprzowine\", x=azjaafryka, y=wieprzowina4)\n",
    "    bar(name=\"Zużyte litry wody na wołowine\", x=azjaafryka, y=wołowina4)\n",
    "    bar(name=\"Zużyte litry wody na drób\", x=azjaafryka, y=drób4)\n",
    "], Layout(barmode=\"stack\"))"
   ]
  },
  {
   "cell_type": "markdown",
   "id": "18e758a6",
   "metadata": {},
   "source": [
    "<b>Sprawdzimy ile wody będzie zużywane</b>, jeśli każdego dnia zapotrzebowanie na białko, tłuszcz i węglowodany będziemy uzupełniać jednym konkretnym produktem i tak przez 100 dni. Naszym obiektem badać będzie dorosły mężczyzny 1.80m 80kg. Wtedy jego zapotrzebowania wynoszą:\n",
    "<ul>\n",
    "    <li>2600 kcal</li>\n",
    "    <li>80g białka</li>\n",
    "    <li>30% zapotrzebowania kalorycznego w postaci tłuszczy</li>\n",
    "    <li>240g węglowodanów</li>\n",
    "</ul>"
   ]
  },
  {
   "cell_type": "code",
   "execution_count": 9,
   "id": "7d63b4dc",
   "metadata": {},
   "outputs": [
    {
     "data": {
      "text/html": [
       "<div><div style = \"float: left;\"><span>161×6 DataFrame</span></div><div style = \"float: right;\"><span style = \"font-style: italic;\">136 rows omitted</span></div><div style = \"clear: both;\"></div></div><div class = \"data-frame\" style = \"overflow-x: scroll;\"><table class = \"data-frame\" style = \"margin-bottom: 6px;\"><thead><tr class = \"header\"><th class = \"rowNumber\" style = \"font-weight: bold; text-align: right;\">Row</th><th style = \"text-align: left;\">Produkt</th><th style = \"text-align: left;\">zuzycie_wody_na_100_g</th><th style = \"text-align: left;\">Energia_kcal</th><th style = \"text-align: left;\">Bialko</th><th style = \"text-align: left;\">Tluszcze</th><th style = \"text-align: left;\">Weglowodany</th></tr><tr class = \"subheader headerLastRow\"><th class = \"rowNumber\" style = \"font-weight: bold; text-align: right;\"></th><th title = \"String31\" style = \"text-align: left;\">String31</th><th title = \"Float64\" style = \"text-align: left;\">Float64</th><th title = \"Float64\" style = \"text-align: left;\">Float64</th><th title = \"Float64\" style = \"text-align: left;\">Float64</th><th title = \"Float64\" style = \"text-align: left;\">Float64</th><th title = \"Float64\" style = \"text-align: left;\">Float64</th></tr></thead><tbody><tr><td class = \"rowNumber\" style = \"font-weight: bold; text-align: right;\">1</td><td style = \"text-align: left;\">Almonds</td><td style = \"text-align: right;\">1609.5</td><td style = \"text-align: right;\">626.0</td><td style = \"text-align: right;\">29.0</td><td style = \"text-align: right;\">49.2</td><td style = \"text-align: right;\">13.3</td></tr><tr><td class = \"rowNumber\" style = \"font-weight: bold; text-align: right;\">2</td><td style = \"text-align: left;\">Anise</td><td style = \"text-align: right;\">828.0</td><td style = \"text-align: right;\">337.0</td><td style = \"text-align: right;\">17.6</td><td style = \"text-align: right;\">15.9</td><td style = \"text-align: right;\">50.02</td></tr><tr><td class = \"rowNumber\" style = \"font-weight: bold; text-align: right;\">3</td><td style = \"text-align: left;\">Apple juice</td><td style = \"text-align: right;\">114.1</td><td style = \"text-align: right;\">46.0</td><td style = \"text-align: right;\">0.0</td><td style = \"text-align: right;\">0.0</td><td style = \"text-align: right;\">11.67</td></tr><tr><td class = \"rowNumber\" style = \"font-weight: bold; text-align: right;\">4</td><td style = \"text-align: left;\">Apples, dried</td><td style = \"text-align: right;\">684.7</td><td style = \"text-align: right;\">243.0</td><td style = \"text-align: right;\">0.93</td><td style = \"text-align: right;\">0.32</td><td style = \"text-align: right;\">65.9</td></tr><tr><td class = \"rowNumber\" style = \"font-weight: bold; text-align: right;\">5</td><td style = \"text-align: left;\">Apples, fresh</td><td style = \"text-align: right;\">82.2</td><td style = \"text-align: right;\">52.0</td><td style = \"text-align: right;\">0.3</td><td style = \"text-align: right;\">0.2</td><td style = \"text-align: right;\">14.0</td></tr><tr><td class = \"rowNumber\" style = \"font-weight: bold; text-align: right;\">6</td><td style = \"text-align: left;\">Apricots</td><td style = \"text-align: right;\">128.7</td><td style = \"text-align: right;\">250.0</td><td style = \"text-align: right;\">2.5</td><td style = \"text-align: right;\">0.0</td><td style = \"text-align: right;\">62.5</td></tr><tr><td class = \"rowNumber\" style = \"font-weight: bold; text-align: right;\">7</td><td style = \"text-align: left;\">Areca nuts</td><td style = \"text-align: right;\">1116.5</td><td style = \"text-align: right;\">249.0</td><td style = \"text-align: right;\">5.0</td><td style = \"text-align: right;\">4.0</td><td style = \"text-align: right;\">47.0</td></tr><tr><td class = \"rowNumber\" style = \"font-weight: bold; text-align: right;\">8</td><td style = \"text-align: left;\">Artichokes</td><td style = \"text-align: right;\">81.8</td><td style = \"text-align: right;\">50.0</td><td style = \"text-align: right;\">3.33</td><td style = \"text-align: right;\">0.0</td><td style = \"text-align: right;\">10.83</td></tr><tr><td class = \"rowNumber\" style = \"font-weight: bold; text-align: right;\">9</td><td style = \"text-align: left;\">Asparagus</td><td style = \"text-align: right;\">215.0</td><td style = \"text-align: right;\">18.0</td><td style = \"text-align: right;\">2.35</td><td style = \"text-align: right;\">0.0</td><td style = \"text-align: right;\">3.53</td></tr><tr><td class = \"rowNumber\" style = \"font-weight: bold; text-align: right;\">10</td><td style = \"text-align: left;\">Avocados</td><td style = \"text-align: right;\">198.1</td><td style = \"text-align: right;\">167.0</td><td style = \"text-align: right;\">3.33</td><td style = \"text-align: right;\">15.0</td><td style = \"text-align: right;\">10.0</td></tr><tr><td class = \"rowNumber\" style = \"font-weight: bold; text-align: right;\">11</td><td style = \"text-align: left;\">Bananas</td><td style = \"text-align: right;\">79.0</td><td style = \"text-align: right;\">89.0</td><td style = \"text-align: right;\">1.1</td><td style = \"text-align: right;\">0.3</td><td style = \"text-align: right;\">23.0</td></tr><tr><td class = \"rowNumber\" style = \"font-weight: bold; text-align: right;\">12</td><td style = \"text-align: left;\">Barley</td><td style = \"text-align: right;\">142.3</td><td style = \"text-align: right;\">139.0</td><td style = \"text-align: right;\">2.2</td><td style = \"text-align: right;\">2.74</td><td style = \"text-align: right;\">27.2</td></tr><tr><td class = \"rowNumber\" style = \"font-weight: bold; text-align: right;\">13</td><td style = \"text-align: left;\">Beans, dry</td><td style = \"text-align: right;\">505.3</td><td style = \"text-align: right;\">332.0</td><td style = \"text-align: right;\">24.4</td><td style = \"text-align: right;\">0.8</td><td style = \"text-align: right;\">60.0</td></tr><tr><td style = \"text-align: right;\">&vellip;</td><td style = \"text-align: right;\">&vellip;</td><td style = \"text-align: right;\">&vellip;</td><td style = \"text-align: right;\">&vellip;</td><td style = \"text-align: right;\">&vellip;</td><td style = \"text-align: right;\">&vellip;</td><td style = \"text-align: right;\">&vellip;</td></tr><tr><td class = \"rowNumber\" style = \"font-weight: bold; text-align: right;\">150</td><td style = \"text-align: left;\">Tomato paste</td><td style = \"text-align: right;\">85.5</td><td style = \"text-align: right;\">91.0</td><td style = \"text-align: right;\">3.03</td><td style = \"text-align: right;\">0.0</td><td style = \"text-align: right;\">21.21</td></tr><tr><td class = \"rowNumber\" style = \"font-weight: bold; text-align: right;\">151</td><td style = \"text-align: left;\">Tomato puree</td><td style = \"text-align: right;\">71.3</td><td style = \"text-align: right;\">40.0</td><td style = \"text-align: right;\">1.59</td><td style = \"text-align: right;\">0.0</td><td style = \"text-align: right;\">7.94</td></tr><tr><td class = \"rowNumber\" style = \"font-weight: bold; text-align: right;\">152</td><td style = \"text-align: left;\">Tomato, dried</td><td style = \"text-align: right;\">427.6</td><td style = \"text-align: right;\">258.0</td><td style = \"text-align: right;\">14.1</td><td style = \"text-align: right;\">2.97</td><td style = \"text-align: right;\">55.8</td></tr><tr><td class = \"rowNumber\" style = \"font-weight: bold; text-align: right;\">153</td><td style = \"text-align: left;\">Tomatoes</td><td style = \"text-align: right;\">21.4</td><td style = \"text-align: right;\">22.0</td><td style = \"text-align: right;\">0.88</td><td style = \"text-align: right;\">0.0</td><td style = \"text-align: right;\">3.51</td></tr><tr><td class = \"rowNumber\" style = \"font-weight: bold; text-align: right;\">154</td><td style = \"text-align: left;\">Turnips</td><td style = \"text-align: right;\">19.5</td><td style = \"text-align: right;\">21.0</td><td style = \"text-align: right;\">2.46</td><td style = \"text-align: right;\">0.19</td><td style = \"text-align: right;\">3.39</td></tr><tr><td class = \"rowNumber\" style = \"font-weight: bold; text-align: right;\">155</td><td style = \"text-align: left;\">Vanilla beans</td><td style = \"text-align: right;\">12650.5</td><td style = \"text-align: right;\">333.0</td><td style = \"text-align: right;\">0.0</td><td style = \"text-align: right;\">0.0</td><td style = \"text-align: right;\">33.33</td></tr><tr><td class = \"rowNumber\" style = \"font-weight: bold; text-align: right;\">156</td><td style = \"text-align: left;\">Walnuts</td><td style = \"text-align: right;\">928.0</td><td style = \"text-align: right;\">654.0</td><td style = \"text-align: right;\">15.0</td><td style = \"text-align: right;\">65.0</td><td style = \"text-align: right;\">14.0</td></tr><tr><td class = \"rowNumber\" style = \"font-weight: bold; text-align: right;\">157</td><td style = \"text-align: left;\">Watermelons</td><td style = \"text-align: right;\">23.5</td><td style = \"text-align: right;\">30.0</td><td style = \"text-align: right;\">0.61</td><td style = \"text-align: right;\">0.15</td><td style = \"text-align: right;\">7.55</td></tr><tr><td class = \"rowNumber\" style = \"font-weight: bold; text-align: right;\">158</td><td style = \"text-align: left;\">Wheat bran</td><td style = \"text-align: right;\">203.6</td><td style = \"text-align: right;\">216.0</td><td style = \"text-align: right;\">15.6</td><td style = \"text-align: right;\">4.25</td><td style = \"text-align: right;\">64.5</td></tr><tr><td class = \"rowNumber\" style = \"font-weight: bold; text-align: right;\">159</td><td style = \"text-align: left;\">Wheat flour</td><td style = \"text-align: right;\">184.9</td><td style = \"text-align: right;\">467.0</td><td style = \"text-align: right;\">6.67</td><td style = \"text-align: right;\">20.0</td><td style = \"text-align: right;\">66.67</td></tr><tr><td class = \"rowNumber\" style = \"font-weight: bold; text-align: right;\">160</td><td style = \"text-align: left;\">Wine (grape)</td><td style = \"text-align: right;\">86.9</td><td style = \"text-align: right;\">69.0</td><td style = \"text-align: right;\">0.7</td><td style = \"text-align: right;\">2.0</td><td style = \"text-align: right;\">18.0</td></tr><tr><td class = \"rowNumber\" style = \"font-weight: bold; text-align: right;\">161</td><td style = \"text-align: left;\">Yams</td><td style = \"text-align: right;\">34.3</td><td style = \"text-align: right;\">90.0</td><td style = \"text-align: right;\">0.6</td><td style = \"text-align: right;\">0.0</td><td style = \"text-align: right;\">21.69</td></tr></tbody></table></div>"
      ],
      "text/latex": [
       "\\begin{tabular}{r|cccccc}\n",
       "\t& Produkt & zuzycie\\_wody\\_na\\_100\\_g & Energia\\_kcal & Bialko & Tluszcze & Weglowodany\\\\\n",
       "\t\\hline\n",
       "\t& String31 & Float64 & Float64 & Float64 & Float64 & Float64\\\\\n",
       "\t\\hline\n",
       "\t1 & Almonds & 1609.5 & 626.0 & 29.0 & 49.2 & 13.3 \\\\\n",
       "\t2 & Anise & 828.0 & 337.0 & 17.6 & 15.9 & 50.02 \\\\\n",
       "\t3 & Apple juice & 114.1 & 46.0 & 0.0 & 0.0 & 11.67 \\\\\n",
       "\t4 & Apples, dried & 684.7 & 243.0 & 0.93 & 0.32 & 65.9 \\\\\n",
       "\t5 & Apples, fresh & 82.2 & 52.0 & 0.3 & 0.2 & 14.0 \\\\\n",
       "\t6 & Apricots & 128.7 & 250.0 & 2.5 & 0.0 & 62.5 \\\\\n",
       "\t7 & Areca nuts & 1116.5 & 249.0 & 5.0 & 4.0 & 47.0 \\\\\n",
       "\t8 & Artichokes & 81.8 & 50.0 & 3.33 & 0.0 & 10.83 \\\\\n",
       "\t9 & Asparagus & 215.0 & 18.0 & 2.35 & 0.0 & 3.53 \\\\\n",
       "\t10 & Avocados & 198.1 & 167.0 & 3.33 & 15.0 & 10.0 \\\\\n",
       "\t11 & Bananas & 79.0 & 89.0 & 1.1 & 0.3 & 23.0 \\\\\n",
       "\t12 & Barley & 142.3 & 139.0 & 2.2 & 2.74 & 27.2 \\\\\n",
       "\t13 & Beans, dry & 505.3 & 332.0 & 24.4 & 0.8 & 60.0 \\\\\n",
       "\t14 & Beans, green & 56.1 & 31.0 & 1.88 & 0.2 & 6.8 \\\\\n",
       "\t15 & Beer & 29.8 & 43.0 & 0.46 & 0.0 & 3.55 \\\\\n",
       "\t16 & Blueberries & 84.5 & 50.0 & 0.71 & 0.71 & 12.14 \\\\\n",
       "\t17 & Bread (wheat) & 160.8 & 274.0 & 10.67 & 4.53 & 47.54 \\\\\n",
       "\t18 & Broad beans, dry & 201.8 & 88.0 & 8.0 & 0.7 & 18.0 \\\\\n",
       "\t19 & Broccoli & 28.5 & 24.0 & 2.35 & 0.0 & 4.71 \\\\\n",
       "\t20 & Brussels sprouts & 28.5 & 41.0 & 3.53 & 0.0 & 9.41 \\\\\n",
       "\t21 & Buckwheat & 314.2 & 343.0 & 13.25 & 3.4 & 71.5 \\\\\n",
       "\t22 & Butter & 555.3 & 714.0 & 0.0 & 78.57 & 0.0 \\\\\n",
       "\t23 & Cabbages & 28.0 & 15.0 & 1.1 & 0.5 & 2.4 \\\\\n",
       "\t24 & Cane molasses & 52.7 & 290.0 & 0.0 & 0.0 & 61.9 \\\\\n",
       "\t25 & Cardamoms & 3431.9 & 311.0 & 10.76 & 6.7 & 68.47 \\\\\n",
       "\t26 & Carrots & 19.5 & 38.0 & 1.28 & 0.0 & 8.97 \\\\\n",
       "\t27 & Cashew nuts & 1421.8 & 679.0 & 21.43 & 57.14 & 35.71 \\\\\n",
       "\t28 & Cassava & 56.4 & 0.0 & 0.56 & 0.0 & 35.0 \\\\\n",
       "\t29 & Cassava flour & 187.8 & 343.0 & 0.0 & 0.0 & 88.57 \\\\\n",
       "\t30 & Cauliflowers & 28.5 & 24.0 & 1.9 & 0.3 & 5.0 \\\\\n",
       "\t$\\dots$ & $\\dots$ & $\\dots$ & $\\dots$ & $\\dots$ & $\\dots$ & $\\dots$ \\\\\n",
       "\\end{tabular}\n"
      ],
      "text/plain": [
       "\u001b[1m161×6 DataFrame\u001b[0m\n",
       "\u001b[1m Row \u001b[0m│\u001b[1m Produkt                    \u001b[0m\u001b[1m zuzycie_wody_na_100_g \u001b[0m\u001b[1m Energia_kcal \u001b[0m\u001b[1m Bialko\u001b[0m ⋯\n",
       "     │\u001b[90m String31                   \u001b[0m\u001b[90m Float64               \u001b[0m\u001b[90m Float64      \u001b[0m\u001b[90m Float6\u001b[0m ⋯\n",
       "─────┼──────────────────────────────────────────────────────────────────────────\n",
       "   1 │ Almonds                                    1609.5         626.0  29.0   ⋯\n",
       "   2 │ Anise                                       828.0         337.0  17.6\n",
       "   3 │ Apple juice                                 114.1          46.0   0.0\n",
       "   4 │ Apples, dried                               684.7         243.0   0.93\n",
       "   5 │ Apples, fresh                                82.2          52.0   0.3   ⋯\n",
       "   6 │ Apricots                                    128.7         250.0   2.5\n",
       "   7 │ Areca nuts                                 1116.5         249.0   5.0\n",
       "   8 │ Artichokes                                   81.8          50.0   3.33\n",
       "   9 │ Asparagus                                   215.0          18.0   2.35  ⋯\n",
       "  10 │ Avocados                                    198.1         167.0   3.33\n",
       "  11 │ Bananas                                      79.0          89.0   1.1\n",
       "  ⋮  │             ⋮                         ⋮                 ⋮            ⋮  ⋱\n",
       " 152 │ Tomato, dried                               427.6         258.0  14.1\n",
       " 153 │ Tomatoes                                     21.4          22.0   0.88  ⋯\n",
       " 154 │ Turnips                                      19.5          21.0   2.46\n",
       " 155 │ Vanilla beans                             12650.5         333.0   0.0\n",
       " 156 │ Walnuts                                     928.0         654.0  15.0\n",
       " 157 │ Watermelons                                  23.5          30.0   0.61  ⋯\n",
       " 158 │ Wheat bran                                  203.6         216.0  15.6\n",
       " 159 │ Wheat flour                                 184.9         467.0   6.67\n",
       " 160 │ Wine (grape)                                 86.9          69.0   0.7\n",
       " 161 │ Yams                                         34.3          90.0   0.6   ⋯\n",
       "\u001b[36m                                                  3 columns and 140 rows omitted\u001b[0m"
      ]
     },
     "execution_count": 9,
     "metadata": {},
     "output_type": "execute_result"
    }
   ],
   "source": [
    "wege = foods_df[:,\"Produkt\"]\n",
    "mieso = [\"Beef\",\"Chicken meat\",\"Goat meat\", \"Lamb\", \"Pork\"]\n",
    "for i in 1:length(mieso), j in 1:length(wege)-1\n",
    "    if mieso[i] == wege[j]\n",
    "        deleteat!(wege,j)\n",
    "    end\n",
    "end\n",
    "\n",
    "#stworzyliśmy dwa dataframe'y, mięso i wege\n",
    "mieso_df = foods_df[in.(foods_df.Produkt,Ref(mieso)),:]\n",
    "wege_df = foods_df[in.(foods_df.Produkt,Ref(wege)),:]\n"
   ]
  },
  {
   "cell_type": "markdown",
   "id": "ed420bc7",
   "metadata": {},
   "source": [
    "Następujący wykres przedstawia zależność białka od zużytej wody na 100g produktu. Czerwonym kolorem oznaczone są produkty mięsne, a na niebiesko produkty bezmięsne"
   ]
  },
  {
   "cell_type": "code",
   "execution_count": 10,
   "id": "7ec41c18",
   "metadata": {},
   "outputs": [
    {
     "data": {
      "application/vnd.plotly.v1+json": {
       "config": {
        "editable": false,
        "responsive": true,
        "scrollZoom": true,
        "showLink": false,
        "staticPlot": false
       },
       "data": [
        {
         "marker": {
          "color": "blue",
          "size": 8
         },
         "mode": "markers",
         "name": "Wege",
         "text": [
          "Soybeans",
          "Milk powder",
          "Almonds",
          "Peanuts",
          "Cocoa powder",
          "Lentils",
          "Beans, dry",
          "Cashew nuts",
          "Linseed",
          "Coriander seeds",
          "Sesame seed",
          "Pistachios",
          "Anise",
          "Oats",
          "Cheese",
          "Poppy seeds",
          "Safflower seeds",
          "Wheat bran",
          "Hazelnuts",
          "Walnuts",
          "Tomato, dried",
          "Rice, broken",
          "Rice, paddy",
          "Buckwheat",
          "Pasta, dry",
          "Coriander",
          "Sunflower seeds",
          "Egg",
          "Cardamoms",
          "Bread (wheat)",
          "Sorghum",
          "Raisin",
          "Rye flour",
          "Maize",
          "Onions, dry",
          "Maize flour",
          "Potato flakes",
          "Soybean paste",
          "Soy sauce",
          "Broad beans, dry"
         ],
         "type": "scatter",
         "x": [
          214.5,
          474.5,
          1609.5,
          397.4,
          1563.6,
          587.4,
          505.3,
          1421.8,
          516.8,
          828,
          937.1,
          1136.3,
          828,
          241.6,
          506,
          218.8,
          722.1,
          203.6,
          1051.5,
          928,
          427.6,
          249.7,
          167.3,
          314.2,
          184.9,
          828,
          336.6,
          326.5,
          3431.9,
          160.8,
          304.8,
          243.3,
          193,
          122.2,
          34.5,
          125.3,
          104.4,
          57.2,
          61.3,
          201.8
         ],
         "y": [
          36,
          33.33,
          29,
          26,
          25,
          25,
          24.4,
          21.43,
          20.59,
          20,
          20,
          17.86,
          17.6,
          16.89,
          16.67,
          16.67,
          16.18,
          15.6,
          15,
          15,
          14.1,
          13.33,
          13.33,
          13.25,
          13.04,
          12.37,
          11.67,
          11.36,
          10.76,
          10.67,
          10.62,
          10.17,
          10,
          9.42,
          9,
          8.75,
          8.34,
          8.33,
          8.14,
          8
         ]
        },
        {
         "marker": {
          "color": "red",
          "size": 8
         },
         "mode": "markers",
         "name": "Mięso",
         "text": [
          "Beef",
          "Chicken meat",
          "Goat meat",
          "Lamb",
          "Pork"
         ],
         "type": "scatter",
         "x": [
          1541.5,
          432.5,
          552.1,
          1041.2,
          598.8
         ],
         "y": [
          20,
          27,
          20.6,
          27.4,
          21.18
         ]
        }
       ],
       "frames": [],
       "layout": {
        "margin": {
         "b": 50,
         "l": 50,
         "r": 50,
         "t": 60
        },
        "paper_bgcolor": "rgb(254, 247, 234)",
        "plot_bgcolor": "rgb(254, 247, 234)",
        "template": {
         "data": {
          "bar": [
           {
            "error_x": {
             "color": "#2a3f5f"
            },
            "error_y": {
             "color": "#2a3f5f"
            },
            "marker": {
             "line": {
              "color": "#E5ECF6",
              "width": 0.5
             }
            },
            "type": "bar"
           }
          ],
          "barpolar": [
           {
            "marker": {
             "line": {
              "color": "#E5ECF6",
              "width": 0.5
             }
            },
            "type": "barpolar"
           }
          ],
          "carpet": [
           {
            "aaxis": {
             "endlinecolor": "#2a3f5f",
             "gridcolor": "white",
             "linecolor": "white",
             "minorgridcolor": "white",
             "startlinecolor": "#2a3f5f"
            },
            "baxis": {
             "endlinecolor": "#2a3f5f",
             "gridcolor": "white",
             "linecolor": "white",
             "minorgridcolor": "white",
             "startlinecolor": "#2a3f5f"
            },
            "type": "carpet"
           }
          ],
          "choropleth": [
           {
            "colorbar": {
             "outlinewidth": 0,
             "ticks": ""
            },
            "type": "choropleth"
           }
          ],
          "contour": [
           {
            "colorbar": {
             "outlinewidth": 0,
             "ticks": ""
            },
            "colorscale": [
             [
              0,
              "#0d0887"
             ],
             [
              0.1111111111111111,
              "#46039f"
             ],
             [
              0.2222222222222222,
              "#7201a8"
             ],
             [
              0.3333333333333333,
              "#9c179e"
             ],
             [
              0.4444444444444444,
              "#bd3786"
             ],
             [
              0.5555555555555556,
              "#d8576b"
             ],
             [
              0.6666666666666666,
              "#ed7953"
             ],
             [
              0.7777777777777778,
              "#fb9f3a"
             ],
             [
              0.8888888888888888,
              "#fdca26"
             ],
             [
              1,
              "#f0f921"
             ]
            ],
            "type": "contour"
           }
          ],
          "contourcarpet": [
           {
            "colorbar": {
             "outlinewidth": 0,
             "ticks": ""
            },
            "type": "contourcarpet"
           }
          ],
          "heatmap": [
           {
            "colorbar": {
             "outlinewidth": 0,
             "ticks": ""
            },
            "colorscale": [
             [
              0,
              "#0d0887"
             ],
             [
              0.1111111111111111,
              "#46039f"
             ],
             [
              0.2222222222222222,
              "#7201a8"
             ],
             [
              0.3333333333333333,
              "#9c179e"
             ],
             [
              0.4444444444444444,
              "#bd3786"
             ],
             [
              0.5555555555555556,
              "#d8576b"
             ],
             [
              0.6666666666666666,
              "#ed7953"
             ],
             [
              0.7777777777777778,
              "#fb9f3a"
             ],
             [
              0.8888888888888888,
              "#fdca26"
             ],
             [
              1,
              "#f0f921"
             ]
            ],
            "type": "heatmap"
           }
          ],
          "heatmapgl": [
           {
            "colorbar": {
             "outlinewidth": 0,
             "ticks": ""
            },
            "colorscale": [
             [
              0,
              "#0d0887"
             ],
             [
              0.1111111111111111,
              "#46039f"
             ],
             [
              0.2222222222222222,
              "#7201a8"
             ],
             [
              0.3333333333333333,
              "#9c179e"
             ],
             [
              0.4444444444444444,
              "#bd3786"
             ],
             [
              0.5555555555555556,
              "#d8576b"
             ],
             [
              0.6666666666666666,
              "#ed7953"
             ],
             [
              0.7777777777777778,
              "#fb9f3a"
             ],
             [
              0.8888888888888888,
              "#fdca26"
             ],
             [
              1,
              "#f0f921"
             ]
            ],
            "type": "heatmapgl"
           }
          ],
          "histogram": [
           {
            "marker": {
             "colorbar": {
              "outlinewidth": 0,
              "ticks": ""
             }
            },
            "type": "histogram"
           }
          ],
          "histogram2d": [
           {
            "colorbar": {
             "outlinewidth": 0,
             "ticks": ""
            },
            "colorscale": [
             [
              0,
              "#0d0887"
             ],
             [
              0.1111111111111111,
              "#46039f"
             ],
             [
              0.2222222222222222,
              "#7201a8"
             ],
             [
              0.3333333333333333,
              "#9c179e"
             ],
             [
              0.4444444444444444,
              "#bd3786"
             ],
             [
              0.5555555555555556,
              "#d8576b"
             ],
             [
              0.6666666666666666,
              "#ed7953"
             ],
             [
              0.7777777777777778,
              "#fb9f3a"
             ],
             [
              0.8888888888888888,
              "#fdca26"
             ],
             [
              1,
              "#f0f921"
             ]
            ],
            "type": "histogram2d"
           }
          ],
          "histogram2dcontour": [
           {
            "colorbar": {
             "outlinewidth": 0,
             "ticks": ""
            },
            "colorscale": [
             [
              0,
              "#0d0887"
             ],
             [
              0.1111111111111111,
              "#46039f"
             ],
             [
              0.2222222222222222,
              "#7201a8"
             ],
             [
              0.3333333333333333,
              "#9c179e"
             ],
             [
              0.4444444444444444,
              "#bd3786"
             ],
             [
              0.5555555555555556,
              "#d8576b"
             ],
             [
              0.6666666666666666,
              "#ed7953"
             ],
             [
              0.7777777777777778,
              "#fb9f3a"
             ],
             [
              0.8888888888888888,
              "#fdca26"
             ],
             [
              1,
              "#f0f921"
             ]
            ],
            "type": "histogram2dcontour"
           }
          ],
          "mesh3d": [
           {
            "colorbar": {
             "outlinewidth": 0,
             "ticks": ""
            },
            "type": "mesh3d"
           }
          ],
          "parcoords": [
           {
            "line": {
             "colorbar": {
              "outlinewidth": 0,
              "ticks": ""
             }
            },
            "type": "parcoords"
           }
          ],
          "pie": [
           {
            "automargin": true,
            "type": "pie"
           }
          ],
          "scatter": [
           {
            "marker": {
             "colorbar": {
              "outlinewidth": 0,
              "ticks": ""
             }
            },
            "type": "scatter"
           }
          ],
          "scatter3d": [
           {
            "line": {
             "colorbar": {
              "outlinewidth": 0,
              "ticks": ""
             }
            },
            "marker": {
             "colorbar": {
              "outlinewidth": 0,
              "ticks": ""
             }
            },
            "type": "scatter3d"
           }
          ],
          "scattercarpet": [
           {
            "marker": {
             "colorbar": {
              "outlinewidth": 0,
              "ticks": ""
             }
            },
            "type": "scattercarpet"
           }
          ],
          "scattergeo": [
           {
            "marker": {
             "colorbar": {
              "outlinewidth": 0,
              "ticks": ""
             }
            },
            "type": "scattergeo"
           }
          ],
          "scattergl": [
           {
            "marker": {
             "colorbar": {
              "outlinewidth": 0,
              "ticks": ""
             }
            },
            "type": "scattergl"
           }
          ],
          "scattermapbox": [
           {
            "marker": {
             "colorbar": {
              "outlinewidth": 0,
              "ticks": ""
             }
            },
            "type": "scattermapbox"
           }
          ],
          "scatterpolar": [
           {
            "marker": {
             "colorbar": {
              "outlinewidth": 0,
              "ticks": ""
             }
            },
            "type": "scatterpolar"
           }
          ],
          "scatterpolargl": [
           {
            "marker": {
             "colorbar": {
              "outlinewidth": 0,
              "ticks": ""
             }
            },
            "type": "scatterpolargl"
           }
          ],
          "scatterternary": [
           {
            "marker": {
             "colorbar": {
              "outlinewidth": 0,
              "ticks": ""
             }
            },
            "type": "scatterternary"
           }
          ],
          "surface": [
           {
            "colorbar": {
             "outlinewidth": 0,
             "ticks": ""
            },
            "colorscale": [
             [
              0,
              "#0d0887"
             ],
             [
              0.1111111111111111,
              "#46039f"
             ],
             [
              0.2222222222222222,
              "#7201a8"
             ],
             [
              0.3333333333333333,
              "#9c179e"
             ],
             [
              0.4444444444444444,
              "#bd3786"
             ],
             [
              0.5555555555555556,
              "#d8576b"
             ],
             [
              0.6666666666666666,
              "#ed7953"
             ],
             [
              0.7777777777777778,
              "#fb9f3a"
             ],
             [
              0.8888888888888888,
              "#fdca26"
             ],
             [
              1,
              "#f0f921"
             ]
            ],
            "type": "surface"
           }
          ],
          "table": [
           {
            "cells": {
             "fill": {
              "color": "#EBF0F8"
             },
             "line": {
              "color": "white"
             }
            },
            "header": {
             "fill": {
              "color": "#C8D4E3"
             },
             "line": {
              "color": "white"
             }
            },
            "type": "table"
           }
          ]
         },
         "layout": {
          "annotationdefaults": {
           "arrowcolor": "#2a3f5f",
           "arrowhead": 0,
           "arrowwidth": 1
          },
          "autotypenumbers": "strict",
          "coloraxis": {
           "colorbar": {
            "outlinewidth": 0,
            "ticks": ""
           }
          },
          "colorscale": {
           "diverging": [
            [
             0,
             "#8e0152"
            ],
            [
             0.1,
             "#c51b7d"
            ],
            [
             0.2,
             "#de77ae"
            ],
            [
             0.3,
             "#f1b6da"
            ],
            [
             0.4,
             "#fde0ef"
            ],
            [
             0.5,
             "#f7f7f7"
            ],
            [
             0.6,
             "#e6f5d0"
            ],
            [
             0.7,
             "#b8e186"
            ],
            [
             0.8,
             "#7fbc41"
            ],
            [
             0.9,
             "#4d9221"
            ],
            [
             1,
             "#276419"
            ]
           ],
           "sequential": [
            [
             0,
             "#0d0887"
            ],
            [
             0.1111111111111111,
             "#46039f"
            ],
            [
             0.2222222222222222,
             "#7201a8"
            ],
            [
             0.3333333333333333,
             "#9c179e"
            ],
            [
             0.4444444444444444,
             "#bd3786"
            ],
            [
             0.5555555555555556,
             "#d8576b"
            ],
            [
             0.6666666666666666,
             "#ed7953"
            ],
            [
             0.7777777777777778,
             "#fb9f3a"
            ],
            [
             0.8888888888888888,
             "#fdca26"
            ],
            [
             1,
             "#f0f921"
            ]
           ],
           "sequentialminus": [
            [
             0,
             "#0d0887"
            ],
            [
             0.1111111111111111,
             "#46039f"
            ],
            [
             0.2222222222222222,
             "#7201a8"
            ],
            [
             0.3333333333333333,
             "#9c179e"
            ],
            [
             0.4444444444444444,
             "#bd3786"
            ],
            [
             0.5555555555555556,
             "#d8576b"
            ],
            [
             0.6666666666666666,
             "#ed7953"
            ],
            [
             0.7777777777777778,
             "#fb9f3a"
            ],
            [
             0.8888888888888888,
             "#fdca26"
            ],
            [
             1,
             "#f0f921"
            ]
           ]
          },
          "colorway": [
           "#636efa",
           "#EF553B",
           "#00cc96",
           "#ab63fa",
           "#FFA15A",
           "#19d3f3",
           "#FF6692",
           "#B6E880",
           "#FF97FF",
           "#FECB52"
          ],
          "font": {
           "color": "#2a3f5f"
          },
          "geo": {
           "bgcolor": "white",
           "lakecolor": "white",
           "landcolor": "#E5ECF6",
           "showlakes": true,
           "showland": true,
           "subunitcolor": "white"
          },
          "hoverlabel": {
           "align": "left"
          },
          "hovermode": "closest",
          "mapbox": {
           "style": "light"
          },
          "paper_bgcolor": "white",
          "plot_bgcolor": "#E5ECF6",
          "polar": {
           "angularaxis": {
            "gridcolor": "white",
            "linecolor": "white",
            "ticks": ""
           },
           "bgcolor": "#E5ECF6",
           "radialaxis": {
            "gridcolor": "white",
            "linecolor": "white",
            "ticks": ""
           }
          },
          "scene": {
           "xaxis": {
            "backgroundcolor": "#E5ECF6",
            "gridcolor": "white",
            "gridwidth": 2,
            "linecolor": "white",
            "showbackground": true,
            "ticks": "",
            "zerolinecolor": "white"
           },
           "yaxis": {
            "backgroundcolor": "#E5ECF6",
            "gridcolor": "white",
            "gridwidth": 2,
            "linecolor": "white",
            "showbackground": true,
            "ticks": "",
            "zerolinecolor": "white"
           },
           "zaxis": {
            "backgroundcolor": "#E5ECF6",
            "gridcolor": "white",
            "gridwidth": 2,
            "linecolor": "white",
            "showbackground": true,
            "ticks": "",
            "zerolinecolor": "white"
           }
          },
          "shapedefaults": {
           "line": {
            "color": "#2a3f5f"
           }
          },
          "ternary": {
           "aaxis": {
            "gridcolor": "white",
            "linecolor": "white",
            "ticks": ""
           },
           "baxis": {
            "gridcolor": "white",
            "linecolor": "white",
            "ticks": ""
           },
           "bgcolor": "#E5ECF6",
           "caxis": {
            "gridcolor": "white",
            "linecolor": "white",
            "ticks": ""
           }
          },
          "title": {
           "x": 0.05
          },
          "xaxis": {
           "automargin": true,
           "gridcolor": "white",
           "linecolor": "white",
           "ticks": "",
           "title": {
            "standoff": 15
           },
           "zerolinecolor": "white",
           "zerolinewidth": 2
          },
          "yaxis": {
           "automargin": true,
           "gridcolor": "white",
           "linecolor": "white",
           "ticks": "",
           "title": {
            "standoff": 15
           },
           "zerolinecolor": "white",
           "zerolinewidth": 2
          }
         }
        },
        "title": "Zależność białka od zużycia wody",
        "xaxis": {
         "gridcolor": "rgb(125,125,125)",
         "linecolor": "rgb(20,20,20)",
         "showgrid": true,
         "showline": true,
         "title": "Ślad wodny",
         "zeroline": true,
         "zerolinecolor": "rgb(0,0,0)"
        },
        "yaxis": {
         "gridcolor": "rgb(125,125,125)",
         "linecolor": "rgb(20,20,20)",
         "showgrid": true,
         "showline": true,
         "title": "Białko",
         "zeroline": true,
         "zerolinecolor": "rgb(0,0,0)"
        }
       }
      },
      "text/html": [
       "<div\n",
       "    class=\"webio-mountpoint\"\n",
       "    data-webio-mountpoint=\"11422239469096188347\"\n",
       ">\n",
       "    <script>\n",
       "    (function(){\n",
       "    // Some integrations (namely, IJulia/Jupyter) use an alternate render pathway than\n",
       "    // just putting the html on the page. If WebIO isn't defined, then it's pretty likely\n",
       "    // that we're in one of those situations and the integration just isn't installed\n",
       "    // correctly.\n",
       "    if (typeof window.WebIO === \"undefined\") {\n",
       "        document\n",
       "            .querySelector('[data-webio-mountpoint=\"11422239469096188347\"]')\n",
       "            .innerHTML = (\n",
       "                '<div style=\"padding: 1em; background-color: #f8d6da; border: 1px solid #f5c6cb; font-weight: bold;\">' +\n",
       "                '<p><strong>WebIO not detected.</strong></p>' +\n",
       "                '<p>Please read ' +\n",
       "                '<a href=\"https://juliagizmos.github.io/WebIO.jl/latest/troubleshooting/not-detected/\" target=\"_blank\">the troubleshooting guide</a> ' +\n",
       "                'for more information on how to resolve this issue.</p>' +\n",
       "                '<p><a href=\"https://juliagizmos.github.io/WebIO.jl/latest/troubleshooting/not-detected/\" target=\"_blank\">https://juliagizmos.github.io/WebIO.jl/latest/troubleshooting/not-detected/</a></p>' +\n",
       "                '</div>'\n",
       "            );\n",
       "        return;\n",
       "    }\n",
       "    WebIO.mount(\n",
       "        document.querySelector('[data-webio-mountpoint=\"11422239469096188347\"]'),\n",
       "        {\"props\":{},\"nodeType\":\"Scope\",\"type\":\"node\",\"instanceArgs\":{\"imports\":{\"data\":[{\"name\":\"Plotly\",\"type\":\"js\",\"url\":\"\\/assetserver\\/7dc425d3d9acdbb7fba54ce8841409ff1fd2b16c-plotly.min.js\"},{\"name\":null,\"type\":\"js\",\"url\":\"\\/assetserver\\/bdef9d06b2ff8f6ff9f383d24c2633cfc4dfc0cb-plotly_webio.bundle.js\"}],\"type\":\"async_block\"},\"id\":\"4010523018698076802\",\"handlers\":{\"_toImage\":[\"(function (options){return this.Plotly.toImage(this.plotElem,options).then((function (data){return WebIO.setval({\\\"name\\\":\\\"image\\\",\\\"scope\\\":\\\"4010523018698076802\\\",\\\"id\\\":\\\"3204570687505564003\\\",\\\"type\\\":\\\"observable\\\"},data)}))})\"],\"__get_gd_contents\":[\"(function (prop){prop==\\\"data\\\" ? (WebIO.setval({\\\"name\\\":\\\"__gd_contents\\\",\\\"scope\\\":\\\"4010523018698076802\\\",\\\"id\\\":\\\"6629245882136252026\\\",\\\"type\\\":\\\"observable\\\"},this.plotElem.data)) : undefined; return prop==\\\"layout\\\" ? (WebIO.setval({\\\"name\\\":\\\"__gd_contents\\\",\\\"scope\\\":\\\"4010523018698076802\\\",\\\"id\\\":\\\"6629245882136252026\\\",\\\"type\\\":\\\"observable\\\"},this.plotElem.layout)) : undefined})\"],\"_downloadImage\":[\"(function (options){return this.Plotly.downloadImage(this.plotElem,options)})\"],\"_commands\":[\"(function (args){var fn=args.shift(); var elem=this.plotElem; var Plotly=this.Plotly; args.unshift(elem); return Plotly[fn].apply(this,args)})\"]},\"systemjs_options\":null,\"mount_callbacks\":[\"function () {\\n    var handler = ((function (Plotly,PlotlyWebIO){PlotlyWebIO.init(WebIO); var gd=this.dom.querySelector(\\\"#plot-10bbe9e7-d6df-43f5-a9c3-49cdb58a6aa3\\\"); this.plotElem=gd; this.Plotly=Plotly; (window.Blink!==undefined) ? (gd.style.width=\\\"100%\\\", gd.style.height=\\\"100vh\\\", gd.style.marginLeft=\\\"0%\\\", gd.style.marginTop=\\\"0vh\\\") : undefined; window.onresize=(function (){return Plotly.Plots.resize(gd)}); Plotly.newPlot(gd,[{\\\"marker\\\":{\\\"color\\\":\\\"blue\\\",\\\"size\\\":8},\\\"mode\\\":\\\"markers\\\",\\\"y\\\":[36.0,33.33,29.0,26.0,25.0,25.0,24.4,21.43,20.59,20.0,20.0,17.86,17.6,16.89,16.67,16.67,16.18,15.6,15.0,15.0,14.1,13.33,13.33,13.25,13.04,12.37,11.67,11.36,10.76,10.67,10.62,10.17,10.0,9.42,9.0,8.75,8.34,8.33,8.14,8.0],\\\"type\\\":\\\"scatter\\\",\\\"name\\\":\\\"Wege\\\",\\\"text\\\":[\\\"Soybeans\\\",\\\"Milk powder\\\",\\\"Almonds\\\",\\\"Peanuts\\\",\\\"Cocoa powder\\\",\\\"Lentils\\\",\\\"Beans, dry\\\",\\\"Cashew nuts\\\",\\\"Linseed\\\",\\\"Coriander seeds\\\",\\\"Sesame seed\\\",\\\"Pistachios\\\",\\\"Anise\\\",\\\"Oats\\\",\\\"Cheese\\\",\\\"Poppy seeds\\\",\\\"Safflower seeds\\\",\\\"Wheat bran\\\",\\\"Hazelnuts\\\",\\\"Walnuts\\\",\\\"Tomato, dried\\\",\\\"Rice, broken\\\",\\\"Rice, paddy\\\",\\\"Buckwheat\\\",\\\"Pasta, dry\\\",\\\"Coriander\\\",\\\"Sunflower seeds\\\",\\\"Egg\\\",\\\"Cardamoms\\\",\\\"Bread (wheat)\\\",\\\"Sorghum\\\",\\\"Raisin\\\",\\\"Rye flour\\\",\\\"Maize\\\",\\\"Onions, dry\\\",\\\"Maize flour\\\",\\\"Potato flakes\\\",\\\"Soybean paste\\\",\\\"Soy sauce\\\",\\\"Broad beans, dry\\\"],\\\"x\\\":[214.5,474.5,1609.5,397.4,1563.6,587.4,505.3,1421.8,516.8,828.0,937.1,1136.3,828.0,241.6,506.0,218.8,722.1,203.6,1051.5,928.0,427.6,249.7,167.3,314.2,184.9,828.0,336.6,326.5,3431.9,160.8,304.8,243.3,193.0,122.2,34.5,125.3,104.4,57.2,61.3,201.8]},{\\\"marker\\\":{\\\"color\\\":\\\"red\\\",\\\"size\\\":8},\\\"mode\\\":\\\"markers\\\",\\\"y\\\":[20.0,27.0,20.6,27.4,21.18],\\\"type\\\":\\\"scatter\\\",\\\"name\\\":\\\"Mięso\\\",\\\"text\\\":[\\\"Beef\\\",\\\"Chicken meat\\\",\\\"Goat meat\\\",\\\"Lamb\\\",\\\"Pork\\\"],\\\"x\\\":[1541.5,432.5,552.1,1041.2,598.8]}],{\\\"xaxis\\\":{\\\"showgrid\\\":true,\\\"showline\\\":true,\\\"gridcolor\\\":\\\"rgb(125,125,125)\\\",\\\"zeroline\\\":true,\\\"title\\\":\\\"Ślad wodny\\\",\\\"zerolinecolor\\\":\\\"rgb(0,0,0)\\\",\\\"linecolor\\\":\\\"rgb(20,20,20)\\\"},\\\"paper_bgcolor\\\":\\\"rgb(254, 247, 234)\\\",\\\"template\\\":{\\\"layout\\\":{\\\"coloraxis\\\":{\\\"colorbar\\\":{\\\"ticks\\\":\\\"\\\",\\\"outlinewidth\\\":0}},\\\"xaxis\\\":{\\\"gridcolor\\\":\\\"white\\\",\\\"zerolinewidth\\\":2,\\\"title\\\":{\\\"standoff\\\":15},\\\"ticks\\\":\\\"\\\",\\\"zerolinecolor\\\":\\\"white\\\",\\\"automargin\\\":true,\\\"linecolor\\\":\\\"white\\\"},\\\"hovermode\\\":\\\"closest\\\",\\\"paper_bgcolor\\\":\\\"white\\\",\\\"geo\\\":{\\\"showlakes\\\":true,\\\"showland\\\":true,\\\"landcolor\\\":\\\"#E5ECF6\\\",\\\"bgcolor\\\":\\\"white\\\",\\\"subunitcolor\\\":\\\"white\\\",\\\"lakecolor\\\":\\\"white\\\"},\\\"colorscale\\\":{\\\"sequential\\\":[[0.0,\\\"#0d0887\\\"],[0.1111111111111111,\\\"#46039f\\\"],[0.2222222222222222,\\\"#7201a8\\\"],[0.3333333333333333,\\\"#9c179e\\\"],[0.4444444444444444,\\\"#bd3786\\\"],[0.5555555555555556,\\\"#d8576b\\\"],[0.6666666666666666,\\\"#ed7953\\\"],[0.7777777777777778,\\\"#fb9f3a\\\"],[0.8888888888888888,\\\"#fdca26\\\"],[1.0,\\\"#f0f921\\\"]],\\\"diverging\\\":[[0,\\\"#8e0152\\\"],[0.1,\\\"#c51b7d\\\"],[0.2,\\\"#de77ae\\\"],[0.3,\\\"#f1b6da\\\"],[0.4,\\\"#fde0ef\\\"],[0.5,\\\"#f7f7f7\\\"],[0.6,\\\"#e6f5d0\\\"],[0.7,\\\"#b8e186\\\"],[0.8,\\\"#7fbc41\\\"],[0.9,\\\"#4d9221\\\"],[1,\\\"#276419\\\"]],\\\"sequentialminus\\\":[[0.0,\\\"#0d0887\\\"],[0.1111111111111111,\\\"#46039f\\\"],[0.2222222222222222,\\\"#7201a8\\\"],[0.3333333333333333,\\\"#9c179e\\\"],[0.4444444444444444,\\\"#bd3786\\\"],[0.5555555555555556,\\\"#d8576b\\\"],[0.6666666666666666,\\\"#ed7953\\\"],[0.7777777777777778,\\\"#fb9f3a\\\"],[0.8888888888888888,\\\"#fdca26\\\"],[1.0,\\\"#f0f921\\\"]]},\\\"yaxis\\\":{\\\"gridcolor\\\":\\\"white\\\",\\\"zerolinewidth\\\":2,\\\"title\\\":{\\\"standoff\\\":15},\\\"ticks\\\":\\\"\\\",\\\"zerolinecolor\\\":\\\"white\\\",\\\"automargin\\\":true,\\\"linecolor\\\":\\\"white\\\"},\\\"shapedefaults\\\":{\\\"line\\\":{\\\"color\\\":\\\"#2a3f5f\\\"}},\\\"hoverlabel\\\":{\\\"align\\\":\\\"left\\\"},\\\"mapbox\\\":{\\\"style\\\":\\\"light\\\"},\\\"polar\\\":{\\\"angularaxis\\\":{\\\"gridcolor\\\":\\\"white\\\",\\\"ticks\\\":\\\"\\\",\\\"linecolor\\\":\\\"white\\\"},\\\"bgcolor\\\":\\\"#E5ECF6\\\",\\\"radialaxis\\\":{\\\"gridcolor\\\":\\\"white\\\",\\\"ticks\\\":\\\"\\\",\\\"linecolor\\\":\\\"white\\\"}},\\\"autotypenumbers\\\":\\\"strict\\\",\\\"font\\\":{\\\"color\\\":\\\"#2a3f5f\\\"},\\\"ternary\\\":{\\\"baxis\\\":{\\\"gridcolor\\\":\\\"white\\\",\\\"ticks\\\":\\\"\\\",\\\"linecolor\\\":\\\"white\\\"},\\\"bgcolor\\\":\\\"#E5ECF6\\\",\\\"caxis\\\":{\\\"gridcolor\\\":\\\"white\\\",\\\"ticks\\\":\\\"\\\",\\\"linecolor\\\":\\\"white\\\"},\\\"aaxis\\\":{\\\"gridcolor\\\":\\\"white\\\",\\\"ticks\\\":\\\"\\\",\\\"linecolor\\\":\\\"white\\\"}},\\\"annotationdefaults\\\":{\\\"arrowhead\\\":0,\\\"arrowwidth\\\":1,\\\"arrowcolor\\\":\\\"#2a3f5f\\\"},\\\"plot_bgcolor\\\":\\\"#E5ECF6\\\",\\\"title\\\":{\\\"x\\\":0.05},\\\"scene\\\":{\\\"xaxis\\\":{\\\"gridcolor\\\":\\\"white\\\",\\\"gridwidth\\\":2,\\\"backgroundcolor\\\":\\\"#E5ECF6\\\",\\\"ticks\\\":\\\"\\\",\\\"showbackground\\\":true,\\\"zerolinecolor\\\":\\\"white\\\",\\\"linecolor\\\":\\\"white\\\"},\\\"zaxis\\\":{\\\"gridcolor\\\":\\\"white\\\",\\\"gridwidth\\\":2,\\\"backgroundcolor\\\":\\\"#E5ECF6\\\",\\\"ticks\\\":\\\"\\\",\\\"showbackground\\\":true,\\\"zerolinecolor\\\":\\\"white\\\",\\\"linecolor\\\":\\\"white\\\"},\\\"yaxis\\\":{\\\"gridcolor\\\":\\\"white\\\",\\\"gridwidth\\\":2,\\\"backgroundcolor\\\":\\\"#E5ECF6\\\",\\\"ticks\\\":\\\"\\\",\\\"showbackground\\\":true,\\\"zerolinecolor\\\":\\\"white\\\",\\\"linecolor\\\":\\\"white\\\"}},\\\"colorway\\\":[\\\"#636efa\\\",\\\"#EF553B\\\",\\\"#00cc96\\\",\\\"#ab63fa\\\",\\\"#FFA15A\\\",\\\"#19d3f3\\\",\\\"#FF6692\\\",\\\"#B6E880\\\",\\\"#FF97FF\\\",\\\"#FECB52\\\"]},\\\"data\\\":{\\\"barpolar\\\":[{\\\"type\\\":\\\"barpolar\\\",\\\"marker\\\":{\\\"line\\\":{\\\"color\\\":\\\"#E5ECF6\\\",\\\"width\\\":0.5}}}],\\\"carpet\\\":[{\\\"aaxis\\\":{\\\"gridcolor\\\":\\\"white\\\",\\\"endlinecolor\\\":\\\"#2a3f5f\\\",\\\"minorgridcolor\\\":\\\"white\\\",\\\"startlinecolor\\\":\\\"#2a3f5f\\\",\\\"linecolor\\\":\\\"white\\\"},\\\"type\\\":\\\"carpet\\\",\\\"baxis\\\":{\\\"gridcolor\\\":\\\"white\\\",\\\"endlinecolor\\\":\\\"#2a3f5f\\\",\\\"minorgridcolor\\\":\\\"white\\\",\\\"startlinecolor\\\":\\\"#2a3f5f\\\",\\\"linecolor\\\":\\\"white\\\"}}],\\\"scatterpolar\\\":[{\\\"type\\\":\\\"scatterpolar\\\",\\\"marker\\\":{\\\"colorbar\\\":{\\\"ticks\\\":\\\"\\\",\\\"outlinewidth\\\":0}}}],\\\"parcoords\\\":[{\\\"line\\\":{\\\"colorbar\\\":{\\\"ticks\\\":\\\"\\\",\\\"outlinewidth\\\":0}},\\\"type\\\":\\\"parcoords\\\"}],\\\"scatter\\\":[{\\\"type\\\":\\\"scatter\\\",\\\"marker\\\":{\\\"colorbar\\\":{\\\"ticks\\\":\\\"\\\",\\\"outlinewidth\\\":0}}}],\\\"histogram2dcontour\\\":[{\\\"colorbar\\\":{\\\"ticks\\\":\\\"\\\",\\\"outlinewidth\\\":0},\\\"type\\\":\\\"histogram2dcontour\\\",\\\"colorscale\\\":[[0.0,\\\"#0d0887\\\"],[0.1111111111111111,\\\"#46039f\\\"],[0.2222222222222222,\\\"#7201a8\\\"],[0.3333333333333333,\\\"#9c179e\\\"],[0.4444444444444444,\\\"#bd3786\\\"],[0.5555555555555556,\\\"#d8576b\\\"],[0.6666666666666666,\\\"#ed7953\\\"],[0.7777777777777778,\\\"#fb9f3a\\\"],[0.8888888888888888,\\\"#fdca26\\\"],[1.0,\\\"#f0f921\\\"]]}],\\\"contour\\\":[{\\\"colorbar\\\":{\\\"ticks\\\":\\\"\\\",\\\"outlinewidth\\\":0},\\\"type\\\":\\\"contour\\\",\\\"colorscale\\\":[[0.0,\\\"#0d0887\\\"],[0.1111111111111111,\\\"#46039f\\\"],[0.2222222222222222,\\\"#7201a8\\\"],[0.3333333333333333,\\\"#9c179e\\\"],[0.4444444444444444,\\\"#bd3786\\\"],[0.5555555555555556,\\\"#d8576b\\\"],[0.6666666666666666,\\\"#ed7953\\\"],[0.7777777777777778,\\\"#fb9f3a\\\"],[0.8888888888888888,\\\"#fdca26\\\"],[1.0,\\\"#f0f921\\\"]]}],\\\"scattercarpet\\\":[{\\\"type\\\":\\\"scattercarpet\\\",\\\"marker\\\":{\\\"colorbar\\\":{\\\"ticks\\\":\\\"\\\",\\\"outlinewidth\\\":0}}}],\\\"mesh3d\\\":[{\\\"colorbar\\\":{\\\"ticks\\\":\\\"\\\",\\\"outlinewidth\\\":0},\\\"type\\\":\\\"mesh3d\\\"}],\\\"surface\\\":[{\\\"colorbar\\\":{\\\"ticks\\\":\\\"\\\",\\\"outlinewidth\\\":0},\\\"type\\\":\\\"surface\\\",\\\"colorscale\\\":[[0.0,\\\"#0d0887\\\"],[0.1111111111111111,\\\"#46039f\\\"],[0.2222222222222222,\\\"#7201a8\\\"],[0.3333333333333333,\\\"#9c179e\\\"],[0.4444444444444444,\\\"#bd3786\\\"],[0.5555555555555556,\\\"#d8576b\\\"],[0.6666666666666666,\\\"#ed7953\\\"],[0.7777777777777778,\\\"#fb9f3a\\\"],[0.8888888888888888,\\\"#fdca26\\\"],[1.0,\\\"#f0f921\\\"]]}],\\\"scattermapbox\\\":[{\\\"type\\\":\\\"scattermapbox\\\",\\\"marker\\\":{\\\"colorbar\\\":{\\\"ticks\\\":\\\"\\\",\\\"outlinewidth\\\":0}}}],\\\"scattergeo\\\":[{\\\"type\\\":\\\"scattergeo\\\",\\\"marker\\\":{\\\"colorbar\\\":{\\\"ticks\\\":\\\"\\\",\\\"outlinewidth\\\":0}}}],\\\"histogram\\\":[{\\\"type\\\":\\\"histogram\\\",\\\"marker\\\":{\\\"colorbar\\\":{\\\"ticks\\\":\\\"\\\",\\\"outlinewidth\\\":0}}}],\\\"pie\\\":[{\\\"type\\\":\\\"pie\\\",\\\"automargin\\\":true}],\\\"choropleth\\\":[{\\\"colorbar\\\":{\\\"ticks\\\":\\\"\\\",\\\"outlinewidth\\\":0},\\\"type\\\":\\\"choropleth\\\"}],\\\"heatmapgl\\\":[{\\\"colorbar\\\":{\\\"ticks\\\":\\\"\\\",\\\"outlinewidth\\\":0},\\\"type\\\":\\\"heatmapgl\\\",\\\"colorscale\\\":[[0.0,\\\"#0d0887\\\"],[0.1111111111111111,\\\"#46039f\\\"],[0.2222222222222222,\\\"#7201a8\\\"],[0.3333333333333333,\\\"#9c179e\\\"],[0.4444444444444444,\\\"#bd3786\\\"],[0.5555555555555556,\\\"#d8576b\\\"],[0.6666666666666666,\\\"#ed7953\\\"],[0.7777777777777778,\\\"#fb9f3a\\\"],[0.8888888888888888,\\\"#fdca26\\\"],[1.0,\\\"#f0f921\\\"]]}],\\\"bar\\\":[{\\\"type\\\":\\\"bar\\\",\\\"error_y\\\":{\\\"color\\\":\\\"#2a3f5f\\\"},\\\"error_x\\\":{\\\"color\\\":\\\"#2a3f5f\\\"},\\\"marker\\\":{\\\"line\\\":{\\\"color\\\":\\\"#E5ECF6\\\",\\\"width\\\":0.5}}}],\\\"heatmap\\\":[{\\\"colorbar\\\":{\\\"ticks\\\":\\\"\\\",\\\"outlinewidth\\\":0},\\\"type\\\":\\\"heatmap\\\",\\\"colorscale\\\":[[0.0,\\\"#0d0887\\\"],[0.1111111111111111,\\\"#46039f\\\"],[0.2222222222222222,\\\"#7201a8\\\"],[0.3333333333333333,\\\"#9c179e\\\"],[0.4444444444444444,\\\"#bd3786\\\"],[0.5555555555555556,\\\"#d8576b\\\"],[0.6666666666666666,\\\"#ed7953\\\"],[0.7777777777777778,\\\"#fb9f3a\\\"],[0.8888888888888888,\\\"#fdca26\\\"],[1.0,\\\"#f0f921\\\"]]}],\\\"contourcarpet\\\":[{\\\"colorbar\\\":{\\\"ticks\\\":\\\"\\\",\\\"outlinewidth\\\":0},\\\"type\\\":\\\"contourcarpet\\\"}],\\\"table\\\":[{\\\"type\\\":\\\"table\\\",\\\"header\\\":{\\\"line\\\":{\\\"color\\\":\\\"white\\\"},\\\"fill\\\":{\\\"color\\\":\\\"#C8D4E3\\\"}},\\\"cells\\\":{\\\"line\\\":{\\\"color\\\":\\\"white\\\"},\\\"fill\\\":{\\\"color\\\":\\\"#EBF0F8\\\"}}}],\\\"scatter3d\\\":[{\\\"line\\\":{\\\"colorbar\\\":{\\\"ticks\\\":\\\"\\\",\\\"outlinewidth\\\":0}},\\\"type\\\":\\\"scatter3d\\\",\\\"marker\\\":{\\\"colorbar\\\":{\\\"ticks\\\":\\\"\\\",\\\"outlinewidth\\\":0}}}],\\\"scattergl\\\":[{\\\"type\\\":\\\"scattergl\\\",\\\"marker\\\":{\\\"colorbar\\\":{\\\"ticks\\\":\\\"\\\",\\\"outlinewidth\\\":0}}}],\\\"histogram2d\\\":[{\\\"colorbar\\\":{\\\"ticks\\\":\\\"\\\",\\\"outlinewidth\\\":0},\\\"type\\\":\\\"histogram2d\\\",\\\"colorscale\\\":[[0.0,\\\"#0d0887\\\"],[0.1111111111111111,\\\"#46039f\\\"],[0.2222222222222222,\\\"#7201a8\\\"],[0.3333333333333333,\\\"#9c179e\\\"],[0.4444444444444444,\\\"#bd3786\\\"],[0.5555555555555556,\\\"#d8576b\\\"],[0.6666666666666666,\\\"#ed7953\\\"],[0.7777777777777778,\\\"#fb9f3a\\\"],[0.8888888888888888,\\\"#fdca26\\\"],[1.0,\\\"#f0f921\\\"]]}],\\\"scatterternary\\\":[{\\\"type\\\":\\\"scatterternary\\\",\\\"marker\\\":{\\\"colorbar\\\":{\\\"ticks\\\":\\\"\\\",\\\"outlinewidth\\\":0}}}],\\\"scatterpolargl\\\":[{\\\"type\\\":\\\"scatterpolargl\\\",\\\"marker\\\":{\\\"colorbar\\\":{\\\"ticks\\\":\\\"\\\",\\\"outlinewidth\\\":0}}}]}},\\\"margin\\\":{\\\"l\\\":50,\\\"b\\\":50,\\\"r\\\":50,\\\"t\\\":60},\\\"title\\\":\\\"Zależność białka od zużycia wody\\\",\\\"plot_bgcolor\\\":\\\"rgb(254, 247, 234)\\\",\\\"yaxis\\\":{\\\"showgrid\\\":true,\\\"showline\\\":true,\\\"gridcolor\\\":\\\"rgb(125,125,125)\\\",\\\"zeroline\\\":true,\\\"title\\\":\\\"Białko\\\",\\\"zerolinecolor\\\":\\\"rgb(0,0,0)\\\",\\\"linecolor\\\":\\\"rgb(20,20,20)\\\"}},{\\\"showLink\\\":false,\\\"editable\\\":false,\\\"responsive\\\":true,\\\"staticPlot\\\":false,\\\"scrollZoom\\\":true}); gd.on(\\\"plotly_hover\\\",(function (data){var filtered_data=WebIO.PlotlyCommands.filterEventData(gd,data,\\\"hover\\\"); return !(filtered_data.isnil) ? (WebIO.setval({\\\"name\\\":\\\"hover\\\",\\\"scope\\\":\\\"4010523018698076802\\\",\\\"id\\\":\\\"10888913528961286749\\\",\\\"type\\\":\\\"observable\\\"},filtered_data.out)) : undefined})); gd.on(\\\"plotly_unhover\\\",(function (){return WebIO.setval({\\\"name\\\":\\\"hover\\\",\\\"scope\\\":\\\"4010523018698076802\\\",\\\"id\\\":\\\"10888913528961286749\\\",\\\"type\\\":\\\"observable\\\"},{})})); gd.on(\\\"plotly_selected\\\",(function (data){var filtered_data=WebIO.PlotlyCommands.filterEventData(gd,data,\\\"selected\\\"); return !(filtered_data.isnil) ? (WebIO.setval({\\\"name\\\":\\\"selected\\\",\\\"scope\\\":\\\"4010523018698076802\\\",\\\"id\\\":\\\"8768513247957773201\\\",\\\"type\\\":\\\"observable\\\"},filtered_data.out)) : undefined})); gd.on(\\\"plotly_deselect\\\",(function (){return WebIO.setval({\\\"name\\\":\\\"selected\\\",\\\"scope\\\":\\\"4010523018698076802\\\",\\\"id\\\":\\\"8768513247957773201\\\",\\\"type\\\":\\\"observable\\\"},{})})); gd.on(\\\"plotly_relayout\\\",(function (data){var filtered_data=WebIO.PlotlyCommands.filterEventData(gd,data,\\\"relayout\\\"); return !(filtered_data.isnil) ? (WebIO.setval({\\\"name\\\":\\\"relayout\\\",\\\"scope\\\":\\\"4010523018698076802\\\",\\\"id\\\":\\\"17590245824576514243\\\",\\\"type\\\":\\\"observable\\\"},filtered_data.out)) : undefined})); return gd.on(\\\"plotly_click\\\",(function (data){var filtered_data=WebIO.PlotlyCommands.filterEventData(gd,data,\\\"click\\\"); return !(filtered_data.isnil) ? (WebIO.setval({\\\"name\\\":\\\"click\\\",\\\"scope\\\":\\\"4010523018698076802\\\",\\\"id\\\":\\\"13001688482074247205\\\",\\\"type\\\":\\\"observable\\\"},filtered_data.out)) : undefined}))}));\\n    (WebIO.importBlock({\\\"data\\\":[{\\\"name\\\":\\\"Plotly\\\",\\\"type\\\":\\\"js\\\",\\\"url\\\":\\\"\\/assetserver\\/7dc425d3d9acdbb7fba54ce8841409ff1fd2b16c-plotly.min.js\\\"},{\\\"name\\\":null,\\\"type\\\":\\\"js\\\",\\\"url\\\":\\\"\\/assetserver\\/bdef9d06b2ff8f6ff9f383d24c2633cfc4dfc0cb-plotly_webio.bundle.js\\\"}],\\\"type\\\":\\\"async_block\\\"})).then((imports) => handler.apply(this, imports));\\n}\\n\"],\"observables\":{\"_toImage\":{\"sync\":false,\"id\":\"17015103721454419059\",\"value\":{}},\"hover\":{\"sync\":false,\"id\":\"10888913528961286749\",\"value\":{}},\"selected\":{\"sync\":false,\"id\":\"8768513247957773201\",\"value\":{}},\"__gd_contents\":{\"sync\":false,\"id\":\"6629245882136252026\",\"value\":{}},\"click\":{\"sync\":false,\"id\":\"13001688482074247205\",\"value\":{}},\"image\":{\"sync\":true,\"id\":\"3204570687505564003\",\"value\":\"\"},\"__get_gd_contents\":{\"sync\":false,\"id\":\"5390632946104636968\",\"value\":\"\"},\"_downloadImage\":{\"sync\":false,\"id\":\"8299476495161597475\",\"value\":{}},\"relayout\":{\"sync\":false,\"id\":\"17590245824576514243\",\"value\":{}},\"_commands\":{\"sync\":false,\"id\":\"5713062959425906279\",\"value\":[]}}},\"children\":[{\"props\":{\"id\":\"plot-10bbe9e7-d6df-43f5-a9c3-49cdb58a6aa3\"},\"nodeType\":\"DOM\",\"type\":\"node\",\"instanceArgs\":{\"namespace\":\"html\",\"tag\":\"div\"},\"children\":[]}]},\n",
       "        window,\n",
       "    );\n",
       "    })()\n",
       "    </script>\n",
       "</div>\n"
      ],
      "text/plain": [
       "data: [\n",
       "  \"scatter with fields marker, mode, name, text, type, x, and y\",\n",
       "  \"scatter with fields marker, mode, name, text, type, x, and y\"\n",
       "]\n",
       "\n",
       "layout: \"layout with fields margin, paper_bgcolor, plot_bgcolor, template, title, xaxis, and yaxis\"\n",
       "\n"
      ]
     },
     "execution_count": 10,
     "metadata": {},
     "output_type": "execute_result"
    }
   ],
   "source": [
    "#TUTAJ UZYWAMY PLOTLYJS\n",
    "#---------------------------------BIAŁKO-------------------------------------\n",
    "#Analiza białka,wybieramy produkty bezmięsne o największej zawartości białka\n",
    "top_bialko = sort!(wege_df,[order(:Bialko, rev=true)])[1:40,:]\n",
    "\n",
    "#stwarzamy dane wege\n",
    "trace_wege = scatter(top_bialko,\n",
    "    x=:zuzycie_wody_na_100_g,\n",
    "    y=:Bialko,\n",
    "    text=:Produkt,\n",
    "    mode=\"markers\",\n",
    "    name=\"Wege\",\n",
    "    marker_size=8,\n",
    "    marker_color=\"blue\")\n",
    "\n",
    "#stwarzamy dane mięso\n",
    "trace_mieso = scatter(mieso_df,\n",
    "    x=:zuzycie_wody_na_100_g,\n",
    "    y=:Bialko,\n",
    "    text=:Produkt,\n",
    "    mode=\"markers\",\n",
    "    name=\"Mięso\",\n",
    "    marker_size=8,\n",
    "    marker_color=\"red\")\n",
    "\n",
    "#kreujemy layout\n",
    "layout = Layout(;\n",
    "    title=\"Zależność białka od zużycia wody\",\n",
    "    plot_bgcolor=\"rgb(254, 247, 234)\",\n",
    "    paper_bgcolor=\"rgb(254, 247, 234)\",\n",
    "    xaxis=attr(title=\"Ślad wodny\",\n",
    "        showgrid=true,\n",
    "        gridcolor=\"rgb(125,125,125)\",\n",
    "        zeroline=true,\n",
    "        zerolinecolor=\"rgb(0,0,0)\",\n",
    "        showline=true,\n",
    "        linecolor=\"rgb(20,20,20)\"\n",
    "        ),\n",
    "    yaxis=attr(title=\"Białko\",\n",
    "        showgrid=true,\n",
    "        gridcolor=\"rgb(125,125,125)\",\n",
    "        zeroline=true,\n",
    "        zerolinecolor=\"rgb(0,0,0)\",\n",
    "        showline=true,\n",
    "        linecolor=\"rgb(20,20,20)\"\n",
    "        ))\n",
    "\n",
    "#stwarzamy wykres\n",
    "bialko_scatter = plot([trace_wege,trace_mieso],layout)\n",
    "\n",
    "##\n"
   ]
  },
  {
   "cell_type": "markdown",
   "id": "f71bafb9",
   "metadata": {},
   "source": [
    "Na tym zaś wykresie możemy zobaczyć, jakie efekty będzie miało uzupełnianie białka w swojej diecie danym produktem przez 100 dni"
   ]
  },
  {
   "cell_type": "code",
   "execution_count": 11,
   "id": "a5c3300b",
   "metadata": {},
   "outputs": [
    {
     "data": {
      "application/vnd.plotly.v1+json": {
       "config": {
        "editable": false,
        "responsive": true,
        "scrollZoom": true,
        "showLink": false,
        "staticPlot": false
       },
       "data": [
        {
         "marker": {
          "color": "red"
         },
         "name": "Mięso",
         "text": [
          "400.0g",
          "291.97g",
          "377.71g",
          "388.35g",
          "296.3g"
         ],
         "type": "bar",
         "x": [
          "Beef",
          "Lamb",
          "Pork",
          "Goat meat",
          "Chicken meat"
         ],
         "y": [
          616600,
          304000,
          226175.63739376768,
          214407.76699029125,
          128148.14814814815
         ]
        },
        {
         "marker": {
          "color": "blue"
         },
         "name": "Wege",
         "text": [
          479.9,
          567.38,
          388.54,
          603.77,
          320,
          327.87,
          600.15,
          307.69,
          473.65,
          240.02,
          613.5,
          479.9,
          512.82,
          600.15,
          222.22
         ],
         "type": "bar",
         "x": [
          "Cheese",
          "Tomato, dried",
          "Linseed",
          "Buckwheat",
          "Lentils",
          "Beans, dry",
          "Rice, broken",
          "Peanuts",
          "Oats",
          "Milk powder",
          "Pasta, dry",
          "Poppy seeds",
          "Wheat bran",
          "Rice, paddy",
          "Soybeans"
         ],
         "y": [
          242831.4337132573,
          242609.9290780142,
          200796.50315687223,
          189705.6603773585,
          187968,
          165672.131147541,
          149857.4643660915,
          122276.92307692308,
          114434.57667258733,
          113891.38913891389,
          113435.5828220859,
          105002.99940011997,
          104410.25641025642,
          100405.10127531883,
          47666.66666666667
         ]
        }
       ],
       "frames": [],
       "layout": {
        "margin": {
         "b": 50,
         "l": 50,
         "r": 50,
         "t": 60
        },
        "template": {
         "data": {
          "bar": [
           {
            "error_x": {
             "color": "#2a3f5f"
            },
            "error_y": {
             "color": "#2a3f5f"
            },
            "marker": {
             "line": {
              "color": "#E5ECF6",
              "width": 0.5
             }
            },
            "type": "bar"
           }
          ],
          "barpolar": [
           {
            "marker": {
             "line": {
              "color": "#E5ECF6",
              "width": 0.5
             }
            },
            "type": "barpolar"
           }
          ],
          "carpet": [
           {
            "aaxis": {
             "endlinecolor": "#2a3f5f",
             "gridcolor": "white",
             "linecolor": "white",
             "minorgridcolor": "white",
             "startlinecolor": "#2a3f5f"
            },
            "baxis": {
             "endlinecolor": "#2a3f5f",
             "gridcolor": "white",
             "linecolor": "white",
             "minorgridcolor": "white",
             "startlinecolor": "#2a3f5f"
            },
            "type": "carpet"
           }
          ],
          "choropleth": [
           {
            "colorbar": {
             "outlinewidth": 0,
             "ticks": ""
            },
            "type": "choropleth"
           }
          ],
          "contour": [
           {
            "colorbar": {
             "outlinewidth": 0,
             "ticks": ""
            },
            "colorscale": [
             [
              0,
              "#0d0887"
             ],
             [
              0.1111111111111111,
              "#46039f"
             ],
             [
              0.2222222222222222,
              "#7201a8"
             ],
             [
              0.3333333333333333,
              "#9c179e"
             ],
             [
              0.4444444444444444,
              "#bd3786"
             ],
             [
              0.5555555555555556,
              "#d8576b"
             ],
             [
              0.6666666666666666,
              "#ed7953"
             ],
             [
              0.7777777777777778,
              "#fb9f3a"
             ],
             [
              0.8888888888888888,
              "#fdca26"
             ],
             [
              1,
              "#f0f921"
             ]
            ],
            "type": "contour"
           }
          ],
          "contourcarpet": [
           {
            "colorbar": {
             "outlinewidth": 0,
             "ticks": ""
            },
            "type": "contourcarpet"
           }
          ],
          "heatmap": [
           {
            "colorbar": {
             "outlinewidth": 0,
             "ticks": ""
            },
            "colorscale": [
             [
              0,
              "#0d0887"
             ],
             [
              0.1111111111111111,
              "#46039f"
             ],
             [
              0.2222222222222222,
              "#7201a8"
             ],
             [
              0.3333333333333333,
              "#9c179e"
             ],
             [
              0.4444444444444444,
              "#bd3786"
             ],
             [
              0.5555555555555556,
              "#d8576b"
             ],
             [
              0.6666666666666666,
              "#ed7953"
             ],
             [
              0.7777777777777778,
              "#fb9f3a"
             ],
             [
              0.8888888888888888,
              "#fdca26"
             ],
             [
              1,
              "#f0f921"
             ]
            ],
            "type": "heatmap"
           }
          ],
          "heatmapgl": [
           {
            "colorbar": {
             "outlinewidth": 0,
             "ticks": ""
            },
            "colorscale": [
             [
              0,
              "#0d0887"
             ],
             [
              0.1111111111111111,
              "#46039f"
             ],
             [
              0.2222222222222222,
              "#7201a8"
             ],
             [
              0.3333333333333333,
              "#9c179e"
             ],
             [
              0.4444444444444444,
              "#bd3786"
             ],
             [
              0.5555555555555556,
              "#d8576b"
             ],
             [
              0.6666666666666666,
              "#ed7953"
             ],
             [
              0.7777777777777778,
              "#fb9f3a"
             ],
             [
              0.8888888888888888,
              "#fdca26"
             ],
             [
              1,
              "#f0f921"
             ]
            ],
            "type": "heatmapgl"
           }
          ],
          "histogram": [
           {
            "marker": {
             "colorbar": {
              "outlinewidth": 0,
              "ticks": ""
             }
            },
            "type": "histogram"
           }
          ],
          "histogram2d": [
           {
            "colorbar": {
             "outlinewidth": 0,
             "ticks": ""
            },
            "colorscale": [
             [
              0,
              "#0d0887"
             ],
             [
              0.1111111111111111,
              "#46039f"
             ],
             [
              0.2222222222222222,
              "#7201a8"
             ],
             [
              0.3333333333333333,
              "#9c179e"
             ],
             [
              0.4444444444444444,
              "#bd3786"
             ],
             [
              0.5555555555555556,
              "#d8576b"
             ],
             [
              0.6666666666666666,
              "#ed7953"
             ],
             [
              0.7777777777777778,
              "#fb9f3a"
             ],
             [
              0.8888888888888888,
              "#fdca26"
             ],
             [
              1,
              "#f0f921"
             ]
            ],
            "type": "histogram2d"
           }
          ],
          "histogram2dcontour": [
           {
            "colorbar": {
             "outlinewidth": 0,
             "ticks": ""
            },
            "colorscale": [
             [
              0,
              "#0d0887"
             ],
             [
              0.1111111111111111,
              "#46039f"
             ],
             [
              0.2222222222222222,
              "#7201a8"
             ],
             [
              0.3333333333333333,
              "#9c179e"
             ],
             [
              0.4444444444444444,
              "#bd3786"
             ],
             [
              0.5555555555555556,
              "#d8576b"
             ],
             [
              0.6666666666666666,
              "#ed7953"
             ],
             [
              0.7777777777777778,
              "#fb9f3a"
             ],
             [
              0.8888888888888888,
              "#fdca26"
             ],
             [
              1,
              "#f0f921"
             ]
            ],
            "type": "histogram2dcontour"
           }
          ],
          "mesh3d": [
           {
            "colorbar": {
             "outlinewidth": 0,
             "ticks": ""
            },
            "type": "mesh3d"
           }
          ],
          "parcoords": [
           {
            "line": {
             "colorbar": {
              "outlinewidth": 0,
              "ticks": ""
             }
            },
            "type": "parcoords"
           }
          ],
          "pie": [
           {
            "automargin": true,
            "type": "pie"
           }
          ],
          "scatter": [
           {
            "marker": {
             "colorbar": {
              "outlinewidth": 0,
              "ticks": ""
             }
            },
            "type": "scatter"
           }
          ],
          "scatter3d": [
           {
            "line": {
             "colorbar": {
              "outlinewidth": 0,
              "ticks": ""
             }
            },
            "marker": {
             "colorbar": {
              "outlinewidth": 0,
              "ticks": ""
             }
            },
            "type": "scatter3d"
           }
          ],
          "scattercarpet": [
           {
            "marker": {
             "colorbar": {
              "outlinewidth": 0,
              "ticks": ""
             }
            },
            "type": "scattercarpet"
           }
          ],
          "scattergeo": [
           {
            "marker": {
             "colorbar": {
              "outlinewidth": 0,
              "ticks": ""
             }
            },
            "type": "scattergeo"
           }
          ],
          "scattergl": [
           {
            "marker": {
             "colorbar": {
              "outlinewidth": 0,
              "ticks": ""
             }
            },
            "type": "scattergl"
           }
          ],
          "scattermapbox": [
           {
            "marker": {
             "colorbar": {
              "outlinewidth": 0,
              "ticks": ""
             }
            },
            "type": "scattermapbox"
           }
          ],
          "scatterpolar": [
           {
            "marker": {
             "colorbar": {
              "outlinewidth": 0,
              "ticks": ""
             }
            },
            "type": "scatterpolar"
           }
          ],
          "scatterpolargl": [
           {
            "marker": {
             "colorbar": {
              "outlinewidth": 0,
              "ticks": ""
             }
            },
            "type": "scatterpolargl"
           }
          ],
          "scatterternary": [
           {
            "marker": {
             "colorbar": {
              "outlinewidth": 0,
              "ticks": ""
             }
            },
            "type": "scatterternary"
           }
          ],
          "surface": [
           {
            "colorbar": {
             "outlinewidth": 0,
             "ticks": ""
            },
            "colorscale": [
             [
              0,
              "#0d0887"
             ],
             [
              0.1111111111111111,
              "#46039f"
             ],
             [
              0.2222222222222222,
              "#7201a8"
             ],
             [
              0.3333333333333333,
              "#9c179e"
             ],
             [
              0.4444444444444444,
              "#bd3786"
             ],
             [
              0.5555555555555556,
              "#d8576b"
             ],
             [
              0.6666666666666666,
              "#ed7953"
             ],
             [
              0.7777777777777778,
              "#fb9f3a"
             ],
             [
              0.8888888888888888,
              "#fdca26"
             ],
             [
              1,
              "#f0f921"
             ]
            ],
            "type": "surface"
           }
          ],
          "table": [
           {
            "cells": {
             "fill": {
              "color": "#EBF0F8"
             },
             "line": {
              "color": "white"
             }
            },
            "header": {
             "fill": {
              "color": "#C8D4E3"
             },
             "line": {
              "color": "white"
             }
            },
            "type": "table"
           }
          ]
         },
         "layout": {
          "annotationdefaults": {
           "arrowcolor": "#2a3f5f",
           "arrowhead": 0,
           "arrowwidth": 1
          },
          "autotypenumbers": "strict",
          "coloraxis": {
           "colorbar": {
            "outlinewidth": 0,
            "ticks": ""
           }
          },
          "colorscale": {
           "diverging": [
            [
             0,
             "#8e0152"
            ],
            [
             0.1,
             "#c51b7d"
            ],
            [
             0.2,
             "#de77ae"
            ],
            [
             0.3,
             "#f1b6da"
            ],
            [
             0.4,
             "#fde0ef"
            ],
            [
             0.5,
             "#f7f7f7"
            ],
            [
             0.6,
             "#e6f5d0"
            ],
            [
             0.7,
             "#b8e186"
            ],
            [
             0.8,
             "#7fbc41"
            ],
            [
             0.9,
             "#4d9221"
            ],
            [
             1,
             "#276419"
            ]
           ],
           "sequential": [
            [
             0,
             "#0d0887"
            ],
            [
             0.1111111111111111,
             "#46039f"
            ],
            [
             0.2222222222222222,
             "#7201a8"
            ],
            [
             0.3333333333333333,
             "#9c179e"
            ],
            [
             0.4444444444444444,
             "#bd3786"
            ],
            [
             0.5555555555555556,
             "#d8576b"
            ],
            [
             0.6666666666666666,
             "#ed7953"
            ],
            [
             0.7777777777777778,
             "#fb9f3a"
            ],
            [
             0.8888888888888888,
             "#fdca26"
            ],
            [
             1,
             "#f0f921"
            ]
           ],
           "sequentialminus": [
            [
             0,
             "#0d0887"
            ],
            [
             0.1111111111111111,
             "#46039f"
            ],
            [
             0.2222222222222222,
             "#7201a8"
            ],
            [
             0.3333333333333333,
             "#9c179e"
            ],
            [
             0.4444444444444444,
             "#bd3786"
            ],
            [
             0.5555555555555556,
             "#d8576b"
            ],
            [
             0.6666666666666666,
             "#ed7953"
            ],
            [
             0.7777777777777778,
             "#fb9f3a"
            ],
            [
             0.8888888888888888,
             "#fdca26"
            ],
            [
             1,
             "#f0f921"
            ]
           ]
          },
          "colorway": [
           "#636efa",
           "#EF553B",
           "#00cc96",
           "#ab63fa",
           "#FFA15A",
           "#19d3f3",
           "#FF6692",
           "#B6E880",
           "#FF97FF",
           "#FECB52"
          ],
          "font": {
           "color": "#2a3f5f"
          },
          "geo": {
           "bgcolor": "white",
           "lakecolor": "white",
           "landcolor": "#E5ECF6",
           "showlakes": true,
           "showland": true,
           "subunitcolor": "white"
          },
          "hoverlabel": {
           "align": "left"
          },
          "hovermode": "closest",
          "mapbox": {
           "style": "light"
          },
          "paper_bgcolor": "white",
          "plot_bgcolor": "#E5ECF6",
          "polar": {
           "angularaxis": {
            "gridcolor": "white",
            "linecolor": "white",
            "ticks": ""
           },
           "bgcolor": "#E5ECF6",
           "radialaxis": {
            "gridcolor": "white",
            "linecolor": "white",
            "ticks": ""
           }
          },
          "scene": {
           "xaxis": {
            "backgroundcolor": "#E5ECF6",
            "gridcolor": "white",
            "gridwidth": 2,
            "linecolor": "white",
            "showbackground": true,
            "ticks": "",
            "zerolinecolor": "white"
           },
           "yaxis": {
            "backgroundcolor": "#E5ECF6",
            "gridcolor": "white",
            "gridwidth": 2,
            "linecolor": "white",
            "showbackground": true,
            "ticks": "",
            "zerolinecolor": "white"
           },
           "zaxis": {
            "backgroundcolor": "#E5ECF6",
            "gridcolor": "white",
            "gridwidth": 2,
            "linecolor": "white",
            "showbackground": true,
            "ticks": "",
            "zerolinecolor": "white"
           }
          },
          "shapedefaults": {
           "line": {
            "color": "#2a3f5f"
           }
          },
          "ternary": {
           "aaxis": {
            "gridcolor": "white",
            "linecolor": "white",
            "ticks": ""
           },
           "baxis": {
            "gridcolor": "white",
            "linecolor": "white",
            "ticks": ""
           },
           "bgcolor": "#E5ECF6",
           "caxis": {
            "gridcolor": "white",
            "linecolor": "white",
            "ticks": ""
           }
          },
          "title": {
           "x": 0.05
          },
          "xaxis": {
           "automargin": true,
           "gridcolor": "white",
           "linecolor": "white",
           "ticks": "",
           "title": {
            "standoff": 15
           },
           "zerolinecolor": "white",
           "zerolinewidth": 2
          },
          "yaxis": {
           "automargin": true,
           "gridcolor": "white",
           "linecolor": "white",
           "ticks": "",
           "title": {
            "standoff": 15
           },
           "zerolinecolor": "white",
           "zerolinewidth": 2
          }
         }
        },
        "title": "Zużycie wody przy uzupełnianiu białka danym produktem przez 100 dni",
        "yaxis": {
         "title": "Zużyta woda[m³]"
        }
       }
      },
      "text/html": [
       "<div\n",
       "    class=\"webio-mountpoint\"\n",
       "    data-webio-mountpoint=\"17222941808540285846\"\n",
       ">\n",
       "    <script>\n",
       "    (function(){\n",
       "    // Some integrations (namely, IJulia/Jupyter) use an alternate render pathway than\n",
       "    // just putting the html on the page. If WebIO isn't defined, then it's pretty likely\n",
       "    // that we're in one of those situations and the integration just isn't installed\n",
       "    // correctly.\n",
       "    if (typeof window.WebIO === \"undefined\") {\n",
       "        document\n",
       "            .querySelector('[data-webio-mountpoint=\"17222941808540285846\"]')\n",
       "            .innerHTML = (\n",
       "                '<div style=\"padding: 1em; background-color: #f8d6da; border: 1px solid #f5c6cb; font-weight: bold;\">' +\n",
       "                '<p><strong>WebIO not detected.</strong></p>' +\n",
       "                '<p>Please read ' +\n",
       "                '<a href=\"https://juliagizmos.github.io/WebIO.jl/latest/troubleshooting/not-detected/\" target=\"_blank\">the troubleshooting guide</a> ' +\n",
       "                'for more information on how to resolve this issue.</p>' +\n",
       "                '<p><a href=\"https://juliagizmos.github.io/WebIO.jl/latest/troubleshooting/not-detected/\" target=\"_blank\">https://juliagizmos.github.io/WebIO.jl/latest/troubleshooting/not-detected/</a></p>' +\n",
       "                '</div>'\n",
       "            );\n",
       "        return;\n",
       "    }\n",
       "    WebIO.mount(\n",
       "        document.querySelector('[data-webio-mountpoint=\"17222941808540285846\"]'),\n",
       "        {\"props\":{},\"nodeType\":\"Scope\",\"type\":\"node\",\"instanceArgs\":{\"imports\":{\"data\":[{\"name\":\"Plotly\",\"type\":\"js\",\"url\":\"\\/assetserver\\/7dc425d3d9acdbb7fba54ce8841409ff1fd2b16c-plotly.min.js\"},{\"name\":null,\"type\":\"js\",\"url\":\"\\/assetserver\\/bdef9d06b2ff8f6ff9f383d24c2633cfc4dfc0cb-plotly_webio.bundle.js\"}],\"type\":\"async_block\"},\"id\":\"10483687673566261051\",\"handlers\":{\"_toImage\":[\"(function (options){return this.Plotly.toImage(this.plotElem,options).then((function (data){return WebIO.setval({\\\"name\\\":\\\"image\\\",\\\"scope\\\":\\\"10483687673566261051\\\",\\\"id\\\":\\\"10003210603254749072\\\",\\\"type\\\":\\\"observable\\\"},data)}))})\"],\"__get_gd_contents\":[\"(function (prop){prop==\\\"data\\\" ? (WebIO.setval({\\\"name\\\":\\\"__gd_contents\\\",\\\"scope\\\":\\\"10483687673566261051\\\",\\\"id\\\":\\\"4139654003869648723\\\",\\\"type\\\":\\\"observable\\\"},this.plotElem.data)) : undefined; return prop==\\\"layout\\\" ? (WebIO.setval({\\\"name\\\":\\\"__gd_contents\\\",\\\"scope\\\":\\\"10483687673566261051\\\",\\\"id\\\":\\\"4139654003869648723\\\",\\\"type\\\":\\\"observable\\\"},this.plotElem.layout)) : undefined})\"],\"_downloadImage\":[\"(function (options){return this.Plotly.downloadImage(this.plotElem,options)})\"],\"_commands\":[\"(function (args){var fn=args.shift(); var elem=this.plotElem; var Plotly=this.Plotly; args.unshift(elem); return Plotly[fn].apply(this,args)})\"]},\"systemjs_options\":null,\"mount_callbacks\":[\"function () {\\n    var handler = ((function (Plotly,PlotlyWebIO){PlotlyWebIO.init(WebIO); var gd=this.dom.querySelector(\\\"#plot-0981cb77-3493-438a-a839-3351846c2cc9\\\"); this.plotElem=gd; this.Plotly=Plotly; (window.Blink!==undefined) ? (gd.style.width=\\\"100%\\\", gd.style.height=\\\"100vh\\\", gd.style.marginLeft=\\\"0%\\\", gd.style.marginTop=\\\"0vh\\\") : undefined; window.onresize=(function (){return Plotly.Plots.resize(gd)}); Plotly.newPlot(gd,[{\\\"x\\\":[\\\"Beef\\\",\\\"Lamb\\\",\\\"Pork\\\",\\\"Goat meat\\\",\\\"Chicken meat\\\"],\\\"y\\\":[616600.0,304000.0,226175.63739376768,214407.76699029125,128148.14814814815],\\\"type\\\":\\\"bar\\\",\\\"name\\\":\\\"Mięso\\\",\\\"text\\\":[\\\"400.0g\\\",\\\"291.97g\\\",\\\"377.71g\\\",\\\"388.35g\\\",\\\"296.3g\\\"],\\\"marker\\\":{\\\"color\\\":\\\"red\\\"}},{\\\"x\\\":[\\\"Cheese\\\",\\\"Tomato, dried\\\",\\\"Linseed\\\",\\\"Buckwheat\\\",\\\"Lentils\\\",\\\"Beans, dry\\\",\\\"Rice, broken\\\",\\\"Peanuts\\\",\\\"Oats\\\",\\\"Milk powder\\\",\\\"Pasta, dry\\\",\\\"Poppy seeds\\\",\\\"Wheat bran\\\",\\\"Rice, paddy\\\",\\\"Soybeans\\\"],\\\"y\\\":[242831.4337132573,242609.9290780142,200796.50315687223,189705.6603773585,187968.0,165672.131147541,149857.4643660915,122276.92307692308,114434.57667258733,113891.38913891389,113435.5828220859,105002.99940011997,104410.25641025642,100405.10127531883,47666.66666666667],\\\"type\\\":\\\"bar\\\",\\\"name\\\":\\\"Wege\\\",\\\"text\\\":[479.9,567.38,388.54,603.77,320.0,327.87,600.15,307.69,473.65,240.02,613.5,479.9,512.82,600.15,222.22],\\\"marker\\\":{\\\"color\\\":\\\"blue\\\"}}],{\\\"template\\\":{\\\"layout\\\":{\\\"coloraxis\\\":{\\\"colorbar\\\":{\\\"ticks\\\":\\\"\\\",\\\"outlinewidth\\\":0}},\\\"xaxis\\\":{\\\"gridcolor\\\":\\\"white\\\",\\\"zerolinewidth\\\":2,\\\"title\\\":{\\\"standoff\\\":15},\\\"ticks\\\":\\\"\\\",\\\"zerolinecolor\\\":\\\"white\\\",\\\"automargin\\\":true,\\\"linecolor\\\":\\\"white\\\"},\\\"hovermode\\\":\\\"closest\\\",\\\"paper_bgcolor\\\":\\\"white\\\",\\\"geo\\\":{\\\"showlakes\\\":true,\\\"showland\\\":true,\\\"landcolor\\\":\\\"#E5ECF6\\\",\\\"bgcolor\\\":\\\"white\\\",\\\"subunitcolor\\\":\\\"white\\\",\\\"lakecolor\\\":\\\"white\\\"},\\\"colorscale\\\":{\\\"sequential\\\":[[0.0,\\\"#0d0887\\\"],[0.1111111111111111,\\\"#46039f\\\"],[0.2222222222222222,\\\"#7201a8\\\"],[0.3333333333333333,\\\"#9c179e\\\"],[0.4444444444444444,\\\"#bd3786\\\"],[0.5555555555555556,\\\"#d8576b\\\"],[0.6666666666666666,\\\"#ed7953\\\"],[0.7777777777777778,\\\"#fb9f3a\\\"],[0.8888888888888888,\\\"#fdca26\\\"],[1.0,\\\"#f0f921\\\"]],\\\"diverging\\\":[[0,\\\"#8e0152\\\"],[0.1,\\\"#c51b7d\\\"],[0.2,\\\"#de77ae\\\"],[0.3,\\\"#f1b6da\\\"],[0.4,\\\"#fde0ef\\\"],[0.5,\\\"#f7f7f7\\\"],[0.6,\\\"#e6f5d0\\\"],[0.7,\\\"#b8e186\\\"],[0.8,\\\"#7fbc41\\\"],[0.9,\\\"#4d9221\\\"],[1,\\\"#276419\\\"]],\\\"sequentialminus\\\":[[0.0,\\\"#0d0887\\\"],[0.1111111111111111,\\\"#46039f\\\"],[0.2222222222222222,\\\"#7201a8\\\"],[0.3333333333333333,\\\"#9c179e\\\"],[0.4444444444444444,\\\"#bd3786\\\"],[0.5555555555555556,\\\"#d8576b\\\"],[0.6666666666666666,\\\"#ed7953\\\"],[0.7777777777777778,\\\"#fb9f3a\\\"],[0.8888888888888888,\\\"#fdca26\\\"],[1.0,\\\"#f0f921\\\"]]},\\\"yaxis\\\":{\\\"gridcolor\\\":\\\"white\\\",\\\"zerolinewidth\\\":2,\\\"title\\\":{\\\"standoff\\\":15},\\\"ticks\\\":\\\"\\\",\\\"zerolinecolor\\\":\\\"white\\\",\\\"automargin\\\":true,\\\"linecolor\\\":\\\"white\\\"},\\\"shapedefaults\\\":{\\\"line\\\":{\\\"color\\\":\\\"#2a3f5f\\\"}},\\\"hoverlabel\\\":{\\\"align\\\":\\\"left\\\"},\\\"mapbox\\\":{\\\"style\\\":\\\"light\\\"},\\\"polar\\\":{\\\"angularaxis\\\":{\\\"gridcolor\\\":\\\"white\\\",\\\"ticks\\\":\\\"\\\",\\\"linecolor\\\":\\\"white\\\"},\\\"bgcolor\\\":\\\"#E5ECF6\\\",\\\"radialaxis\\\":{\\\"gridcolor\\\":\\\"white\\\",\\\"ticks\\\":\\\"\\\",\\\"linecolor\\\":\\\"white\\\"}},\\\"autotypenumbers\\\":\\\"strict\\\",\\\"font\\\":{\\\"color\\\":\\\"#2a3f5f\\\"},\\\"ternary\\\":{\\\"baxis\\\":{\\\"gridcolor\\\":\\\"white\\\",\\\"ticks\\\":\\\"\\\",\\\"linecolor\\\":\\\"white\\\"},\\\"bgcolor\\\":\\\"#E5ECF6\\\",\\\"caxis\\\":{\\\"gridcolor\\\":\\\"white\\\",\\\"ticks\\\":\\\"\\\",\\\"linecolor\\\":\\\"white\\\"},\\\"aaxis\\\":{\\\"gridcolor\\\":\\\"white\\\",\\\"ticks\\\":\\\"\\\",\\\"linecolor\\\":\\\"white\\\"}},\\\"annotationdefaults\\\":{\\\"arrowhead\\\":0,\\\"arrowwidth\\\":1,\\\"arrowcolor\\\":\\\"#2a3f5f\\\"},\\\"plot_bgcolor\\\":\\\"#E5ECF6\\\",\\\"title\\\":{\\\"x\\\":0.05},\\\"scene\\\":{\\\"xaxis\\\":{\\\"gridcolor\\\":\\\"white\\\",\\\"gridwidth\\\":2,\\\"backgroundcolor\\\":\\\"#E5ECF6\\\",\\\"ticks\\\":\\\"\\\",\\\"showbackground\\\":true,\\\"zerolinecolor\\\":\\\"white\\\",\\\"linecolor\\\":\\\"white\\\"},\\\"zaxis\\\":{\\\"gridcolor\\\":\\\"white\\\",\\\"gridwidth\\\":2,\\\"backgroundcolor\\\":\\\"#E5ECF6\\\",\\\"ticks\\\":\\\"\\\",\\\"showbackground\\\":true,\\\"zerolinecolor\\\":\\\"white\\\",\\\"linecolor\\\":\\\"white\\\"},\\\"yaxis\\\":{\\\"gridcolor\\\":\\\"white\\\",\\\"gridwidth\\\":2,\\\"backgroundcolor\\\":\\\"#E5ECF6\\\",\\\"ticks\\\":\\\"\\\",\\\"showbackground\\\":true,\\\"zerolinecolor\\\":\\\"white\\\",\\\"linecolor\\\":\\\"white\\\"}},\\\"colorway\\\":[\\\"#636efa\\\",\\\"#EF553B\\\",\\\"#00cc96\\\",\\\"#ab63fa\\\",\\\"#FFA15A\\\",\\\"#19d3f3\\\",\\\"#FF6692\\\",\\\"#B6E880\\\",\\\"#FF97FF\\\",\\\"#FECB52\\\"]},\\\"data\\\":{\\\"barpolar\\\":[{\\\"type\\\":\\\"barpolar\\\",\\\"marker\\\":{\\\"line\\\":{\\\"color\\\":\\\"#E5ECF6\\\",\\\"width\\\":0.5}}}],\\\"carpet\\\":[{\\\"aaxis\\\":{\\\"gridcolor\\\":\\\"white\\\",\\\"endlinecolor\\\":\\\"#2a3f5f\\\",\\\"minorgridcolor\\\":\\\"white\\\",\\\"startlinecolor\\\":\\\"#2a3f5f\\\",\\\"linecolor\\\":\\\"white\\\"},\\\"type\\\":\\\"carpet\\\",\\\"baxis\\\":{\\\"gridcolor\\\":\\\"white\\\",\\\"endlinecolor\\\":\\\"#2a3f5f\\\",\\\"minorgridcolor\\\":\\\"white\\\",\\\"startlinecolor\\\":\\\"#2a3f5f\\\",\\\"linecolor\\\":\\\"white\\\"}}],\\\"scatterpolar\\\":[{\\\"type\\\":\\\"scatterpolar\\\",\\\"marker\\\":{\\\"colorbar\\\":{\\\"ticks\\\":\\\"\\\",\\\"outlinewidth\\\":0}}}],\\\"parcoords\\\":[{\\\"line\\\":{\\\"colorbar\\\":{\\\"ticks\\\":\\\"\\\",\\\"outlinewidth\\\":0}},\\\"type\\\":\\\"parcoords\\\"}],\\\"scatter\\\":[{\\\"type\\\":\\\"scatter\\\",\\\"marker\\\":{\\\"colorbar\\\":{\\\"ticks\\\":\\\"\\\",\\\"outlinewidth\\\":0}}}],\\\"histogram2dcontour\\\":[{\\\"colorbar\\\":{\\\"ticks\\\":\\\"\\\",\\\"outlinewidth\\\":0},\\\"type\\\":\\\"histogram2dcontour\\\",\\\"colorscale\\\":[[0.0,\\\"#0d0887\\\"],[0.1111111111111111,\\\"#46039f\\\"],[0.2222222222222222,\\\"#7201a8\\\"],[0.3333333333333333,\\\"#9c179e\\\"],[0.4444444444444444,\\\"#bd3786\\\"],[0.5555555555555556,\\\"#d8576b\\\"],[0.6666666666666666,\\\"#ed7953\\\"],[0.7777777777777778,\\\"#fb9f3a\\\"],[0.8888888888888888,\\\"#fdca26\\\"],[1.0,\\\"#f0f921\\\"]]}],\\\"contour\\\":[{\\\"colorbar\\\":{\\\"ticks\\\":\\\"\\\",\\\"outlinewidth\\\":0},\\\"type\\\":\\\"contour\\\",\\\"colorscale\\\":[[0.0,\\\"#0d0887\\\"],[0.1111111111111111,\\\"#46039f\\\"],[0.2222222222222222,\\\"#7201a8\\\"],[0.3333333333333333,\\\"#9c179e\\\"],[0.4444444444444444,\\\"#bd3786\\\"],[0.5555555555555556,\\\"#d8576b\\\"],[0.6666666666666666,\\\"#ed7953\\\"],[0.7777777777777778,\\\"#fb9f3a\\\"],[0.8888888888888888,\\\"#fdca26\\\"],[1.0,\\\"#f0f921\\\"]]}],\\\"scattercarpet\\\":[{\\\"type\\\":\\\"scattercarpet\\\",\\\"marker\\\":{\\\"colorbar\\\":{\\\"ticks\\\":\\\"\\\",\\\"outlinewidth\\\":0}}}],\\\"mesh3d\\\":[{\\\"colorbar\\\":{\\\"ticks\\\":\\\"\\\",\\\"outlinewidth\\\":0},\\\"type\\\":\\\"mesh3d\\\"}],\\\"surface\\\":[{\\\"colorbar\\\":{\\\"ticks\\\":\\\"\\\",\\\"outlinewidth\\\":0},\\\"type\\\":\\\"surface\\\",\\\"colorscale\\\":[[0.0,\\\"#0d0887\\\"],[0.1111111111111111,\\\"#46039f\\\"],[0.2222222222222222,\\\"#7201a8\\\"],[0.3333333333333333,\\\"#9c179e\\\"],[0.4444444444444444,\\\"#bd3786\\\"],[0.5555555555555556,\\\"#d8576b\\\"],[0.6666666666666666,\\\"#ed7953\\\"],[0.7777777777777778,\\\"#fb9f3a\\\"],[0.8888888888888888,\\\"#fdca26\\\"],[1.0,\\\"#f0f921\\\"]]}],\\\"scattermapbox\\\":[{\\\"type\\\":\\\"scattermapbox\\\",\\\"marker\\\":{\\\"colorbar\\\":{\\\"ticks\\\":\\\"\\\",\\\"outlinewidth\\\":0}}}],\\\"scattergeo\\\":[{\\\"type\\\":\\\"scattergeo\\\",\\\"marker\\\":{\\\"colorbar\\\":{\\\"ticks\\\":\\\"\\\",\\\"outlinewidth\\\":0}}}],\\\"histogram\\\":[{\\\"type\\\":\\\"histogram\\\",\\\"marker\\\":{\\\"colorbar\\\":{\\\"ticks\\\":\\\"\\\",\\\"outlinewidth\\\":0}}}],\\\"pie\\\":[{\\\"type\\\":\\\"pie\\\",\\\"automargin\\\":true}],\\\"choropleth\\\":[{\\\"colorbar\\\":{\\\"ticks\\\":\\\"\\\",\\\"outlinewidth\\\":0},\\\"type\\\":\\\"choropleth\\\"}],\\\"heatmapgl\\\":[{\\\"colorbar\\\":{\\\"ticks\\\":\\\"\\\",\\\"outlinewidth\\\":0},\\\"type\\\":\\\"heatmapgl\\\",\\\"colorscale\\\":[[0.0,\\\"#0d0887\\\"],[0.1111111111111111,\\\"#46039f\\\"],[0.2222222222222222,\\\"#7201a8\\\"],[0.3333333333333333,\\\"#9c179e\\\"],[0.4444444444444444,\\\"#bd3786\\\"],[0.5555555555555556,\\\"#d8576b\\\"],[0.6666666666666666,\\\"#ed7953\\\"],[0.7777777777777778,\\\"#fb9f3a\\\"],[0.8888888888888888,\\\"#fdca26\\\"],[1.0,\\\"#f0f921\\\"]]}],\\\"bar\\\":[{\\\"type\\\":\\\"bar\\\",\\\"error_y\\\":{\\\"color\\\":\\\"#2a3f5f\\\"},\\\"error_x\\\":{\\\"color\\\":\\\"#2a3f5f\\\"},\\\"marker\\\":{\\\"line\\\":{\\\"color\\\":\\\"#E5ECF6\\\",\\\"width\\\":0.5}}}],\\\"heatmap\\\":[{\\\"colorbar\\\":{\\\"ticks\\\":\\\"\\\",\\\"outlinewidth\\\":0},\\\"type\\\":\\\"heatmap\\\",\\\"colorscale\\\":[[0.0,\\\"#0d0887\\\"],[0.1111111111111111,\\\"#46039f\\\"],[0.2222222222222222,\\\"#7201a8\\\"],[0.3333333333333333,\\\"#9c179e\\\"],[0.4444444444444444,\\\"#bd3786\\\"],[0.5555555555555556,\\\"#d8576b\\\"],[0.6666666666666666,\\\"#ed7953\\\"],[0.7777777777777778,\\\"#fb9f3a\\\"],[0.8888888888888888,\\\"#fdca26\\\"],[1.0,\\\"#f0f921\\\"]]}],\\\"contourcarpet\\\":[{\\\"colorbar\\\":{\\\"ticks\\\":\\\"\\\",\\\"outlinewidth\\\":0},\\\"type\\\":\\\"contourcarpet\\\"}],\\\"table\\\":[{\\\"type\\\":\\\"table\\\",\\\"header\\\":{\\\"line\\\":{\\\"color\\\":\\\"white\\\"},\\\"fill\\\":{\\\"color\\\":\\\"#C8D4E3\\\"}},\\\"cells\\\":{\\\"line\\\":{\\\"color\\\":\\\"white\\\"},\\\"fill\\\":{\\\"color\\\":\\\"#EBF0F8\\\"}}}],\\\"scatter3d\\\":[{\\\"line\\\":{\\\"colorbar\\\":{\\\"ticks\\\":\\\"\\\",\\\"outlinewidth\\\":0}},\\\"type\\\":\\\"scatter3d\\\",\\\"marker\\\":{\\\"colorbar\\\":{\\\"ticks\\\":\\\"\\\",\\\"outlinewidth\\\":0}}}],\\\"scattergl\\\":[{\\\"type\\\":\\\"scattergl\\\",\\\"marker\\\":{\\\"colorbar\\\":{\\\"ticks\\\":\\\"\\\",\\\"outlinewidth\\\":0}}}],\\\"histogram2d\\\":[{\\\"colorbar\\\":{\\\"ticks\\\":\\\"\\\",\\\"outlinewidth\\\":0},\\\"type\\\":\\\"histogram2d\\\",\\\"colorscale\\\":[[0.0,\\\"#0d0887\\\"],[0.1111111111111111,\\\"#46039f\\\"],[0.2222222222222222,\\\"#7201a8\\\"],[0.3333333333333333,\\\"#9c179e\\\"],[0.4444444444444444,\\\"#bd3786\\\"],[0.5555555555555556,\\\"#d8576b\\\"],[0.6666666666666666,\\\"#ed7953\\\"],[0.7777777777777778,\\\"#fb9f3a\\\"],[0.8888888888888888,\\\"#fdca26\\\"],[1.0,\\\"#f0f921\\\"]]}],\\\"scatterternary\\\":[{\\\"type\\\":\\\"scatterternary\\\",\\\"marker\\\":{\\\"colorbar\\\":{\\\"ticks\\\":\\\"\\\",\\\"outlinewidth\\\":0}}}],\\\"scatterpolargl\\\":[{\\\"type\\\":\\\"scatterpolargl\\\",\\\"marker\\\":{\\\"colorbar\\\":{\\\"ticks\\\":\\\"\\\",\\\"outlinewidth\\\":0}}}]}},\\\"margin\\\":{\\\"l\\\":50,\\\"b\\\":50,\\\"r\\\":50,\\\"t\\\":60},\\\"title\\\":\\\"Zużycie wody przy uzupełnianiu białka danym produktem przez 100 dni\\\",\\\"yaxis\\\":{\\\"title\\\":\\\"Zużyta woda[m³]\\\"}},{\\\"showLink\\\":false,\\\"editable\\\":false,\\\"responsive\\\":true,\\\"staticPlot\\\":false,\\\"scrollZoom\\\":true}); gd.on(\\\"plotly_hover\\\",(function (data){var filtered_data=WebIO.PlotlyCommands.filterEventData(gd,data,\\\"hover\\\"); return !(filtered_data.isnil) ? (WebIO.setval({\\\"name\\\":\\\"hover\\\",\\\"scope\\\":\\\"10483687673566261051\\\",\\\"id\\\":\\\"6359913118512744808\\\",\\\"type\\\":\\\"observable\\\"},filtered_data.out)) : undefined})); gd.on(\\\"plotly_unhover\\\",(function (){return WebIO.setval({\\\"name\\\":\\\"hover\\\",\\\"scope\\\":\\\"10483687673566261051\\\",\\\"id\\\":\\\"6359913118512744808\\\",\\\"type\\\":\\\"observable\\\"},{})})); gd.on(\\\"plotly_selected\\\",(function (data){var filtered_data=WebIO.PlotlyCommands.filterEventData(gd,data,\\\"selected\\\"); return !(filtered_data.isnil) ? (WebIO.setval({\\\"name\\\":\\\"selected\\\",\\\"scope\\\":\\\"10483687673566261051\\\",\\\"id\\\":\\\"17939534056483105898\\\",\\\"type\\\":\\\"observable\\\"},filtered_data.out)) : undefined})); gd.on(\\\"plotly_deselect\\\",(function (){return WebIO.setval({\\\"name\\\":\\\"selected\\\",\\\"scope\\\":\\\"10483687673566261051\\\",\\\"id\\\":\\\"17939534056483105898\\\",\\\"type\\\":\\\"observable\\\"},{})})); gd.on(\\\"plotly_relayout\\\",(function (data){var filtered_data=WebIO.PlotlyCommands.filterEventData(gd,data,\\\"relayout\\\"); return !(filtered_data.isnil) ? (WebIO.setval({\\\"name\\\":\\\"relayout\\\",\\\"scope\\\":\\\"10483687673566261051\\\",\\\"id\\\":\\\"16602247435792979197\\\",\\\"type\\\":\\\"observable\\\"},filtered_data.out)) : undefined})); return gd.on(\\\"plotly_click\\\",(function (data){var filtered_data=WebIO.PlotlyCommands.filterEventData(gd,data,\\\"click\\\"); return !(filtered_data.isnil) ? (WebIO.setval({\\\"name\\\":\\\"click\\\",\\\"scope\\\":\\\"10483687673566261051\\\",\\\"id\\\":\\\"12084577459097340333\\\",\\\"type\\\":\\\"observable\\\"},filtered_data.out)) : undefined}))}));\\n    (WebIO.importBlock({\\\"data\\\":[{\\\"name\\\":\\\"Plotly\\\",\\\"type\\\":\\\"js\\\",\\\"url\\\":\\\"\\/assetserver\\/7dc425d3d9acdbb7fba54ce8841409ff1fd2b16c-plotly.min.js\\\"},{\\\"name\\\":null,\\\"type\\\":\\\"js\\\",\\\"url\\\":\\\"\\/assetserver\\/bdef9d06b2ff8f6ff9f383d24c2633cfc4dfc0cb-plotly_webio.bundle.js\\\"}],\\\"type\\\":\\\"async_block\\\"})).then((imports) => handler.apply(this, imports));\\n}\\n\"],\"observables\":{\"_toImage\":{\"sync\":false,\"id\":\"6862159694475884495\",\"value\":{}},\"hover\":{\"sync\":false,\"id\":\"6359913118512744808\",\"value\":{}},\"selected\":{\"sync\":false,\"id\":\"17939534056483105898\",\"value\":{}},\"__gd_contents\":{\"sync\":false,\"id\":\"4139654003869648723\",\"value\":{}},\"click\":{\"sync\":false,\"id\":\"12084577459097340333\",\"value\":{}},\"image\":{\"sync\":true,\"id\":\"10003210603254749072\",\"value\":\"\"},\"__get_gd_contents\":{\"sync\":false,\"id\":\"4689010392497369686\",\"value\":\"\"},\"_downloadImage\":{\"sync\":false,\"id\":\"8153109903705224203\",\"value\":{}},\"relayout\":{\"sync\":false,\"id\":\"16602247435792979197\",\"value\":{}},\"_commands\":{\"sync\":false,\"id\":\"12294699804914979887\",\"value\":[]}}},\"children\":[{\"props\":{\"id\":\"plot-0981cb77-3493-438a-a839-3351846c2cc9\"},\"nodeType\":\"DOM\",\"type\":\"node\",\"instanceArgs\":{\"namespace\":\"html\",\"tag\":\"div\"},\"children\":[]}]},\n",
       "        window,\n",
       "    );\n",
       "    })()\n",
       "    </script>\n",
       "</div>\n"
      ],
      "text/plain": [
       "data: [\n",
       "  \"bar with fields marker, name, text, type, x, and y\",\n",
       "  \"bar with fields marker, name, text, type, x, and y\"\n",
       "]\n",
       "\n",
       "layout: \"layout with fields margin, template, title, and yaxis\"\n",
       "\n"
      ]
     },
     "execution_count": 11,
     "metadata": {},
     "output_type": "execute_result"
    }
   ],
   "source": [
    "\n",
    "#ograniczamy produkty bezmięsne 3 produktem mięsnym o najmniejszym zużyciu wody\n",
    "ograniczenie_bialko = sort!(mieso_df,[order(:zuzycie_wody_na_100_g,rev=true)])[3,2]\n",
    "wyniki_bialko = top_bialko[top_bialko.zuzycie_wody_na_100_g .< ograniczenie_bialko,:]\n",
    "\n",
    "bialko_100_dni = [(wyniki_bialko[i,1], round((80/wyniki_bialko[i,4])*100,digits=2),(wyniki_bialko[i,2]*(80/wyniki_bialko[i,4]))*100)  for i in 1:15]\n",
    "sort!(bialko_100_dni, by=last, rev=true)\n",
    "\n",
    "trace2 = bar(;\n",
    "    x = [bialko_100_dni[i][1] for i in 1:15],\n",
    "    y = [bialko_100_dni[i][3] for i in 1:15],\n",
    "    text = [bialko_100_dni[i][2] for i in 1:15],\n",
    "    name = \"Wege\",\n",
    "    marker_color = \"blue\",\n",
    "    )\n",
    "\n",
    "trace1 = bar(;\n",
    "    x = [mieso_df[i,1] for i in 1:5],\n",
    "    y = [(mieso_df[i,2]*(80/mieso_df[i,4]))*100 for i in 1:5],\n",
    "    text = [string(round((80/mieso_df[i,4])*100,digits=2))*\"g\" for i in 1:5],\n",
    "    name = \"Mięso\",\n",
    "    marker_color = \"red\",\n",
    "    )\n",
    "layout = Layout(;\n",
    "    title=\"Zużycie wody przy uzupełnianiu białka danym produktem przez 100 dni\",\n",
    "    yaxis = attr(\n",
    "        title=\"Zużyta woda[m³]\"\n",
    "    ))\n",
    "\n",
    "plot([trace1,trace2],layout)\n"
   ]
  },
  {
   "cell_type": "markdown",
   "id": "c85accda",
   "metadata": {},
   "source": [
    "Następnie mamy te same wykresy, tylko że dla tłuszczy i węglowodanów."
   ]
  },
  {
   "cell_type": "code",
   "execution_count": 12,
   "id": "af4603a7",
   "metadata": {},
   "outputs": [
    {
     "data": {
      "application/vnd.plotly.v1+json": {
       "config": {
        "editable": false,
        "responsive": true,
        "scrollZoom": true,
        "showLink": false,
        "staticPlot": false
       },
       "data": [
        {
         "marker": {
          "color": "blue",
          "size": 8
         },
         "mode": "markers",
         "name": "Wege",
         "text": [
          "Cocoa butter, fat and oil",
          "Cottonseed oil",
          "Oil palm",
          "Olive oil",
          "Palm kernel oil",
          "Palm oil",
          "Peanut oil",
          "Sesame oil",
          "Soybean oil",
          "Sunflower seed oil",
          "Coconut oil",
          "Butter",
          "Walnuts",
          "Hazelnuts",
          "Cashew nuts",
          "Mustard seeds",
          "Almonds",
          "Peanuts",
          "Sesame seed",
          "Poppy seeds",
          "Pistachios",
          "Linseed",
          "Safflower seeds",
          "Chocolate",
          "Cheese",
          "Plantains",
          "Sunflower seeds",
          "Taro",
          "Soybeans",
          "Coriander seeds",
          "Wheat flour",
          "Coriander",
          "Anise",
          "Avocados",
          "Olives",
          "Cloves",
          "Cocoa powder",
          "Ginger",
          "Egg",
          "Soybean paste"
         ],
         "type": "scatter",
         "x": [
          3393.8,
          395.7,
          109.8,
          1472.6,
          540.1,
          497.1,
          752.9,
          2179.3,
          419,
          679.2,
          449,
          555.3,
          928,
          1051.5,
          1421.8,
          280.9,
          1609.5,
          397.4,
          937.1,
          218.8,
          1136.3,
          516.8,
          722.1,
          1719.6,
          506,
          160.2,
          336.6,
          60.6,
          214.5,
          828,
          184.9,
          828,
          828,
          198.1,
          301.5,
          6120.5,
          1563.6,
          165.7,
          326.5,
          57.2
         ],
         "y": [
          100,
          100,
          100,
          100,
          100,
          100,
          100,
          100,
          100,
          100,
          99.1,
          78.57,
          65,
          60.8,
          57.14,
          50,
          49.2,
          49,
          48,
          43.33,
          42.86,
          41.18,
          38.45,
          37.14,
          33.33,
          29.6,
          25,
          24.9,
          20,
          20,
          20,
          17.77,
          15.9,
          15,
          13.33,
          13,
          12.5,
          12.5,
          11.36,
          8.33
         ]
        },
        {
         "marker": {
          "color": "red",
          "size": 8
         },
         "mode": "markers",
         "name": "Mięso",
         "text": [
          "Beef",
          "Lamb",
          "Pork",
          "Goat meat",
          "Chicken meat"
         ],
         "type": "scatter",
         "x": [
          1541.5,
          1041.2,
          598.8,
          552.1,
          432.5
         ],
         "y": [
          5.88,
          16.3,
          4.12,
          2.31,
          14
         ]
        }
       ],
       "frames": [],
       "layout": {
        "margin": {
         "b": 50,
         "l": 50,
         "r": 50,
         "t": 60
        },
        "paper_bgcolor": "rgb(254, 247, 234)",
        "plot_bgcolor": "rgb(254, 247, 234)",
        "template": {
         "data": {
          "bar": [
           {
            "error_x": {
             "color": "#2a3f5f"
            },
            "error_y": {
             "color": "#2a3f5f"
            },
            "marker": {
             "line": {
              "color": "#E5ECF6",
              "width": 0.5
             }
            },
            "type": "bar"
           }
          ],
          "barpolar": [
           {
            "marker": {
             "line": {
              "color": "#E5ECF6",
              "width": 0.5
             }
            },
            "type": "barpolar"
           }
          ],
          "carpet": [
           {
            "aaxis": {
             "endlinecolor": "#2a3f5f",
             "gridcolor": "white",
             "linecolor": "white",
             "minorgridcolor": "white",
             "startlinecolor": "#2a3f5f"
            },
            "baxis": {
             "endlinecolor": "#2a3f5f",
             "gridcolor": "white",
             "linecolor": "white",
             "minorgridcolor": "white",
             "startlinecolor": "#2a3f5f"
            },
            "type": "carpet"
           }
          ],
          "choropleth": [
           {
            "colorbar": {
             "outlinewidth": 0,
             "ticks": ""
            },
            "type": "choropleth"
           }
          ],
          "contour": [
           {
            "colorbar": {
             "outlinewidth": 0,
             "ticks": ""
            },
            "colorscale": [
             [
              0,
              "#0d0887"
             ],
             [
              0.1111111111111111,
              "#46039f"
             ],
             [
              0.2222222222222222,
              "#7201a8"
             ],
             [
              0.3333333333333333,
              "#9c179e"
             ],
             [
              0.4444444444444444,
              "#bd3786"
             ],
             [
              0.5555555555555556,
              "#d8576b"
             ],
             [
              0.6666666666666666,
              "#ed7953"
             ],
             [
              0.7777777777777778,
              "#fb9f3a"
             ],
             [
              0.8888888888888888,
              "#fdca26"
             ],
             [
              1,
              "#f0f921"
             ]
            ],
            "type": "contour"
           }
          ],
          "contourcarpet": [
           {
            "colorbar": {
             "outlinewidth": 0,
             "ticks": ""
            },
            "type": "contourcarpet"
           }
          ],
          "heatmap": [
           {
            "colorbar": {
             "outlinewidth": 0,
             "ticks": ""
            },
            "colorscale": [
             [
              0,
              "#0d0887"
             ],
             [
              0.1111111111111111,
              "#46039f"
             ],
             [
              0.2222222222222222,
              "#7201a8"
             ],
             [
              0.3333333333333333,
              "#9c179e"
             ],
             [
              0.4444444444444444,
              "#bd3786"
             ],
             [
              0.5555555555555556,
              "#d8576b"
             ],
             [
              0.6666666666666666,
              "#ed7953"
             ],
             [
              0.7777777777777778,
              "#fb9f3a"
             ],
             [
              0.8888888888888888,
              "#fdca26"
             ],
             [
              1,
              "#f0f921"
             ]
            ],
            "type": "heatmap"
           }
          ],
          "heatmapgl": [
           {
            "colorbar": {
             "outlinewidth": 0,
             "ticks": ""
            },
            "colorscale": [
             [
              0,
              "#0d0887"
             ],
             [
              0.1111111111111111,
              "#46039f"
             ],
             [
              0.2222222222222222,
              "#7201a8"
             ],
             [
              0.3333333333333333,
              "#9c179e"
             ],
             [
              0.4444444444444444,
              "#bd3786"
             ],
             [
              0.5555555555555556,
              "#d8576b"
             ],
             [
              0.6666666666666666,
              "#ed7953"
             ],
             [
              0.7777777777777778,
              "#fb9f3a"
             ],
             [
              0.8888888888888888,
              "#fdca26"
             ],
             [
              1,
              "#f0f921"
             ]
            ],
            "type": "heatmapgl"
           }
          ],
          "histogram": [
           {
            "marker": {
             "colorbar": {
              "outlinewidth": 0,
              "ticks": ""
             }
            },
            "type": "histogram"
           }
          ],
          "histogram2d": [
           {
            "colorbar": {
             "outlinewidth": 0,
             "ticks": ""
            },
            "colorscale": [
             [
              0,
              "#0d0887"
             ],
             [
              0.1111111111111111,
              "#46039f"
             ],
             [
              0.2222222222222222,
              "#7201a8"
             ],
             [
              0.3333333333333333,
              "#9c179e"
             ],
             [
              0.4444444444444444,
              "#bd3786"
             ],
             [
              0.5555555555555556,
              "#d8576b"
             ],
             [
              0.6666666666666666,
              "#ed7953"
             ],
             [
              0.7777777777777778,
              "#fb9f3a"
             ],
             [
              0.8888888888888888,
              "#fdca26"
             ],
             [
              1,
              "#f0f921"
             ]
            ],
            "type": "histogram2d"
           }
          ],
          "histogram2dcontour": [
           {
            "colorbar": {
             "outlinewidth": 0,
             "ticks": ""
            },
            "colorscale": [
             [
              0,
              "#0d0887"
             ],
             [
              0.1111111111111111,
              "#46039f"
             ],
             [
              0.2222222222222222,
              "#7201a8"
             ],
             [
              0.3333333333333333,
              "#9c179e"
             ],
             [
              0.4444444444444444,
              "#bd3786"
             ],
             [
              0.5555555555555556,
              "#d8576b"
             ],
             [
              0.6666666666666666,
              "#ed7953"
             ],
             [
              0.7777777777777778,
              "#fb9f3a"
             ],
             [
              0.8888888888888888,
              "#fdca26"
             ],
             [
              1,
              "#f0f921"
             ]
            ],
            "type": "histogram2dcontour"
           }
          ],
          "mesh3d": [
           {
            "colorbar": {
             "outlinewidth": 0,
             "ticks": ""
            },
            "type": "mesh3d"
           }
          ],
          "parcoords": [
           {
            "line": {
             "colorbar": {
              "outlinewidth": 0,
              "ticks": ""
             }
            },
            "type": "parcoords"
           }
          ],
          "pie": [
           {
            "automargin": true,
            "type": "pie"
           }
          ],
          "scatter": [
           {
            "marker": {
             "colorbar": {
              "outlinewidth": 0,
              "ticks": ""
             }
            },
            "type": "scatter"
           }
          ],
          "scatter3d": [
           {
            "line": {
             "colorbar": {
              "outlinewidth": 0,
              "ticks": ""
             }
            },
            "marker": {
             "colorbar": {
              "outlinewidth": 0,
              "ticks": ""
             }
            },
            "type": "scatter3d"
           }
          ],
          "scattercarpet": [
           {
            "marker": {
             "colorbar": {
              "outlinewidth": 0,
              "ticks": ""
             }
            },
            "type": "scattercarpet"
           }
          ],
          "scattergeo": [
           {
            "marker": {
             "colorbar": {
              "outlinewidth": 0,
              "ticks": ""
             }
            },
            "type": "scattergeo"
           }
          ],
          "scattergl": [
           {
            "marker": {
             "colorbar": {
              "outlinewidth": 0,
              "ticks": ""
             }
            },
            "type": "scattergl"
           }
          ],
          "scattermapbox": [
           {
            "marker": {
             "colorbar": {
              "outlinewidth": 0,
              "ticks": ""
             }
            },
            "type": "scattermapbox"
           }
          ],
          "scatterpolar": [
           {
            "marker": {
             "colorbar": {
              "outlinewidth": 0,
              "ticks": ""
             }
            },
            "type": "scatterpolar"
           }
          ],
          "scatterpolargl": [
           {
            "marker": {
             "colorbar": {
              "outlinewidth": 0,
              "ticks": ""
             }
            },
            "type": "scatterpolargl"
           }
          ],
          "scatterternary": [
           {
            "marker": {
             "colorbar": {
              "outlinewidth": 0,
              "ticks": ""
             }
            },
            "type": "scatterternary"
           }
          ],
          "surface": [
           {
            "colorbar": {
             "outlinewidth": 0,
             "ticks": ""
            },
            "colorscale": [
             [
              0,
              "#0d0887"
             ],
             [
              0.1111111111111111,
              "#46039f"
             ],
             [
              0.2222222222222222,
              "#7201a8"
             ],
             [
              0.3333333333333333,
              "#9c179e"
             ],
             [
              0.4444444444444444,
              "#bd3786"
             ],
             [
              0.5555555555555556,
              "#d8576b"
             ],
             [
              0.6666666666666666,
              "#ed7953"
             ],
             [
              0.7777777777777778,
              "#fb9f3a"
             ],
             [
              0.8888888888888888,
              "#fdca26"
             ],
             [
              1,
              "#f0f921"
             ]
            ],
            "type": "surface"
           }
          ],
          "table": [
           {
            "cells": {
             "fill": {
              "color": "#EBF0F8"
             },
             "line": {
              "color": "white"
             }
            },
            "header": {
             "fill": {
              "color": "#C8D4E3"
             },
             "line": {
              "color": "white"
             }
            },
            "type": "table"
           }
          ]
         },
         "layout": {
          "annotationdefaults": {
           "arrowcolor": "#2a3f5f",
           "arrowhead": 0,
           "arrowwidth": 1
          },
          "autotypenumbers": "strict",
          "coloraxis": {
           "colorbar": {
            "outlinewidth": 0,
            "ticks": ""
           }
          },
          "colorscale": {
           "diverging": [
            [
             0,
             "#8e0152"
            ],
            [
             0.1,
             "#c51b7d"
            ],
            [
             0.2,
             "#de77ae"
            ],
            [
             0.3,
             "#f1b6da"
            ],
            [
             0.4,
             "#fde0ef"
            ],
            [
             0.5,
             "#f7f7f7"
            ],
            [
             0.6,
             "#e6f5d0"
            ],
            [
             0.7,
             "#b8e186"
            ],
            [
             0.8,
             "#7fbc41"
            ],
            [
             0.9,
             "#4d9221"
            ],
            [
             1,
             "#276419"
            ]
           ],
           "sequential": [
            [
             0,
             "#0d0887"
            ],
            [
             0.1111111111111111,
             "#46039f"
            ],
            [
             0.2222222222222222,
             "#7201a8"
            ],
            [
             0.3333333333333333,
             "#9c179e"
            ],
            [
             0.4444444444444444,
             "#bd3786"
            ],
            [
             0.5555555555555556,
             "#d8576b"
            ],
            [
             0.6666666666666666,
             "#ed7953"
            ],
            [
             0.7777777777777778,
             "#fb9f3a"
            ],
            [
             0.8888888888888888,
             "#fdca26"
            ],
            [
             1,
             "#f0f921"
            ]
           ],
           "sequentialminus": [
            [
             0,
             "#0d0887"
            ],
            [
             0.1111111111111111,
             "#46039f"
            ],
            [
             0.2222222222222222,
             "#7201a8"
            ],
            [
             0.3333333333333333,
             "#9c179e"
            ],
            [
             0.4444444444444444,
             "#bd3786"
            ],
            [
             0.5555555555555556,
             "#d8576b"
            ],
            [
             0.6666666666666666,
             "#ed7953"
            ],
            [
             0.7777777777777778,
             "#fb9f3a"
            ],
            [
             0.8888888888888888,
             "#fdca26"
            ],
            [
             1,
             "#f0f921"
            ]
           ]
          },
          "colorway": [
           "#636efa",
           "#EF553B",
           "#00cc96",
           "#ab63fa",
           "#FFA15A",
           "#19d3f3",
           "#FF6692",
           "#B6E880",
           "#FF97FF",
           "#FECB52"
          ],
          "font": {
           "color": "#2a3f5f"
          },
          "geo": {
           "bgcolor": "white",
           "lakecolor": "white",
           "landcolor": "#E5ECF6",
           "showlakes": true,
           "showland": true,
           "subunitcolor": "white"
          },
          "hoverlabel": {
           "align": "left"
          },
          "hovermode": "closest",
          "mapbox": {
           "style": "light"
          },
          "paper_bgcolor": "white",
          "plot_bgcolor": "#E5ECF6",
          "polar": {
           "angularaxis": {
            "gridcolor": "white",
            "linecolor": "white",
            "ticks": ""
           },
           "bgcolor": "#E5ECF6",
           "radialaxis": {
            "gridcolor": "white",
            "linecolor": "white",
            "ticks": ""
           }
          },
          "scene": {
           "xaxis": {
            "backgroundcolor": "#E5ECF6",
            "gridcolor": "white",
            "gridwidth": 2,
            "linecolor": "white",
            "showbackground": true,
            "ticks": "",
            "zerolinecolor": "white"
           },
           "yaxis": {
            "backgroundcolor": "#E5ECF6",
            "gridcolor": "white",
            "gridwidth": 2,
            "linecolor": "white",
            "showbackground": true,
            "ticks": "",
            "zerolinecolor": "white"
           },
           "zaxis": {
            "backgroundcolor": "#E5ECF6",
            "gridcolor": "white",
            "gridwidth": 2,
            "linecolor": "white",
            "showbackground": true,
            "ticks": "",
            "zerolinecolor": "white"
           }
          },
          "shapedefaults": {
           "line": {
            "color": "#2a3f5f"
           }
          },
          "ternary": {
           "aaxis": {
            "gridcolor": "white",
            "linecolor": "white",
            "ticks": ""
           },
           "baxis": {
            "gridcolor": "white",
            "linecolor": "white",
            "ticks": ""
           },
           "bgcolor": "#E5ECF6",
           "caxis": {
            "gridcolor": "white",
            "linecolor": "white",
            "ticks": ""
           }
          },
          "title": {
           "x": 0.05
          },
          "xaxis": {
           "automargin": true,
           "gridcolor": "white",
           "linecolor": "white",
           "ticks": "",
           "title": {
            "standoff": 15
           },
           "zerolinecolor": "white",
           "zerolinewidth": 2
          },
          "yaxis": {
           "automargin": true,
           "gridcolor": "white",
           "linecolor": "white",
           "ticks": "",
           "title": {
            "standoff": 15
           },
           "zerolinecolor": "white",
           "zerolinewidth": 2
          }
         }
        },
        "title": "Zależność tłuszczy od zużycia wody",
        "xaxis": {
         "gridcolor": "rgb(125,125,125)",
         "linecolor": "rgb(20,20,20)",
         "showgrid": true,
         "showline": true,
         "title": "Ślad wodny",
         "zeroline": true,
         "zerolinecolor": "rgb(0,0,0)"
        },
        "yaxis": {
         "gridcolor": "rgb(125,125,125)",
         "linecolor": "rgb(20,20,20)",
         "showgrid": true,
         "showline": true,
         "title": "Tłuszcze",
         "zeroline": true,
         "zerolinecolor": "rgb(0,0,0)"
        }
       }
      },
      "text/html": [
       "<div\n",
       "    class=\"webio-mountpoint\"\n",
       "    data-webio-mountpoint=\"5706422156424257784\"\n",
       ">\n",
       "    <script>\n",
       "    (function(){\n",
       "    // Some integrations (namely, IJulia/Jupyter) use an alternate render pathway than\n",
       "    // just putting the html on the page. If WebIO isn't defined, then it's pretty likely\n",
       "    // that we're in one of those situations and the integration just isn't installed\n",
       "    // correctly.\n",
       "    if (typeof window.WebIO === \"undefined\") {\n",
       "        document\n",
       "            .querySelector('[data-webio-mountpoint=\"5706422156424257784\"]')\n",
       "            .innerHTML = (\n",
       "                '<div style=\"padding: 1em; background-color: #f8d6da; border: 1px solid #f5c6cb; font-weight: bold;\">' +\n",
       "                '<p><strong>WebIO not detected.</strong></p>' +\n",
       "                '<p>Please read ' +\n",
       "                '<a href=\"https://juliagizmos.github.io/WebIO.jl/latest/troubleshooting/not-detected/\" target=\"_blank\">the troubleshooting guide</a> ' +\n",
       "                'for more information on how to resolve this issue.</p>' +\n",
       "                '<p><a href=\"https://juliagizmos.github.io/WebIO.jl/latest/troubleshooting/not-detected/\" target=\"_blank\">https://juliagizmos.github.io/WebIO.jl/latest/troubleshooting/not-detected/</a></p>' +\n",
       "                '</div>'\n",
       "            );\n",
       "        return;\n",
       "    }\n",
       "    WebIO.mount(\n",
       "        document.querySelector('[data-webio-mountpoint=\"5706422156424257784\"]'),\n",
       "        {\"props\":{},\"nodeType\":\"Scope\",\"type\":\"node\",\"instanceArgs\":{\"imports\":{\"data\":[{\"name\":\"Plotly\",\"type\":\"js\",\"url\":\"\\/assetserver\\/7dc425d3d9acdbb7fba54ce8841409ff1fd2b16c-plotly.min.js\"},{\"name\":null,\"type\":\"js\",\"url\":\"\\/assetserver\\/bdef9d06b2ff8f6ff9f383d24c2633cfc4dfc0cb-plotly_webio.bundle.js\"}],\"type\":\"async_block\"},\"id\":\"115045632972773365\",\"handlers\":{\"_toImage\":[\"(function (options){return this.Plotly.toImage(this.plotElem,options).then((function (data){return WebIO.setval({\\\"name\\\":\\\"image\\\",\\\"scope\\\":\\\"115045632972773365\\\",\\\"id\\\":\\\"8684747844962744927\\\",\\\"type\\\":\\\"observable\\\"},data)}))})\"],\"__get_gd_contents\":[\"(function (prop){prop==\\\"data\\\" ? (WebIO.setval({\\\"name\\\":\\\"__gd_contents\\\",\\\"scope\\\":\\\"115045632972773365\\\",\\\"id\\\":\\\"8787941316982285388\\\",\\\"type\\\":\\\"observable\\\"},this.plotElem.data)) : undefined; return prop==\\\"layout\\\" ? (WebIO.setval({\\\"name\\\":\\\"__gd_contents\\\",\\\"scope\\\":\\\"115045632972773365\\\",\\\"id\\\":\\\"8787941316982285388\\\",\\\"type\\\":\\\"observable\\\"},this.plotElem.layout)) : undefined})\"],\"_downloadImage\":[\"(function (options){return this.Plotly.downloadImage(this.plotElem,options)})\"],\"_commands\":[\"(function (args){var fn=args.shift(); var elem=this.plotElem; var Plotly=this.Plotly; args.unshift(elem); return Plotly[fn].apply(this,args)})\"]},\"systemjs_options\":null,\"mount_callbacks\":[\"function () {\\n    var handler = ((function (Plotly,PlotlyWebIO){PlotlyWebIO.init(WebIO); var gd=this.dom.querySelector(\\\"#plot-4b4bef4f-2cd2-41aa-a19e-a29d20b98d9c\\\"); this.plotElem=gd; this.Plotly=Plotly; (window.Blink!==undefined) ? (gd.style.width=\\\"100%\\\", gd.style.height=\\\"100vh\\\", gd.style.marginLeft=\\\"0%\\\", gd.style.marginTop=\\\"0vh\\\") : undefined; window.onresize=(function (){return Plotly.Plots.resize(gd)}); Plotly.newPlot(gd,[{\\\"marker\\\":{\\\"color\\\":\\\"blue\\\",\\\"size\\\":8},\\\"mode\\\":\\\"markers\\\",\\\"y\\\":[100.0,100.0,100.0,100.0,100.0,100.0,100.0,100.0,100.0,100.0,99.1,78.57,65.0,60.8,57.14,50.0,49.2,49.0,48.0,43.33,42.86,41.18,38.45,37.14,33.33,29.6,25.0,24.9,20.0,20.0,20.0,17.77,15.9,15.0,13.33,13.0,12.5,12.5,11.36,8.33],\\\"type\\\":\\\"scatter\\\",\\\"name\\\":\\\"Wege\\\",\\\"text\\\":[\\\"Cocoa butter, fat and oil\\\",\\\"Cottonseed oil\\\",\\\"Oil palm\\\",\\\"Olive oil\\\",\\\"Palm kernel oil\\\",\\\"Palm oil\\\",\\\"Peanut oil\\\",\\\"Sesame oil\\\",\\\"Soybean oil\\\",\\\"Sunflower seed oil\\\",\\\"Coconut oil\\\",\\\"Butter\\\",\\\"Walnuts\\\",\\\"Hazelnuts\\\",\\\"Cashew nuts\\\",\\\"Mustard seeds\\\",\\\"Almonds\\\",\\\"Peanuts\\\",\\\"Sesame seed\\\",\\\"Poppy seeds\\\",\\\"Pistachios\\\",\\\"Linseed\\\",\\\"Safflower seeds\\\",\\\"Chocolate\\\",\\\"Cheese\\\",\\\"Plantains\\\",\\\"Sunflower seeds\\\",\\\"Taro\\\",\\\"Soybeans\\\",\\\"Coriander seeds\\\",\\\"Wheat flour\\\",\\\"Coriander\\\",\\\"Anise\\\",\\\"Avocados\\\",\\\"Olives\\\",\\\"Cloves\\\",\\\"Cocoa powder\\\",\\\"Ginger\\\",\\\"Egg\\\",\\\"Soybean paste\\\"],\\\"x\\\":[3393.8,395.7,109.8,1472.6,540.1,497.1,752.9,2179.3,419.0,679.2,449.0,555.3,928.0,1051.5,1421.8,280.9,1609.5,397.4,937.1,218.8,1136.3,516.8,722.1,1719.6,506.0,160.2,336.6,60.6,214.5,828.0,184.9,828.0,828.0,198.1,301.5,6120.5,1563.6,165.7,326.5,57.2]},{\\\"marker\\\":{\\\"color\\\":\\\"red\\\",\\\"size\\\":8},\\\"mode\\\":\\\"markers\\\",\\\"y\\\":[5.88,16.3,4.12,2.31,14.0],\\\"type\\\":\\\"scatter\\\",\\\"name\\\":\\\"Mięso\\\",\\\"text\\\":[\\\"Beef\\\",\\\"Lamb\\\",\\\"Pork\\\",\\\"Goat meat\\\",\\\"Chicken meat\\\"],\\\"x\\\":[1541.5,1041.2,598.8,552.1,432.5]}],{\\\"xaxis\\\":{\\\"showgrid\\\":true,\\\"showline\\\":true,\\\"gridcolor\\\":\\\"rgb(125,125,125)\\\",\\\"zeroline\\\":true,\\\"title\\\":\\\"Ślad wodny\\\",\\\"zerolinecolor\\\":\\\"rgb(0,0,0)\\\",\\\"linecolor\\\":\\\"rgb(20,20,20)\\\"},\\\"paper_bgcolor\\\":\\\"rgb(254, 247, 234)\\\",\\\"template\\\":{\\\"layout\\\":{\\\"coloraxis\\\":{\\\"colorbar\\\":{\\\"ticks\\\":\\\"\\\",\\\"outlinewidth\\\":0}},\\\"xaxis\\\":{\\\"gridcolor\\\":\\\"white\\\",\\\"zerolinewidth\\\":2,\\\"title\\\":{\\\"standoff\\\":15},\\\"ticks\\\":\\\"\\\",\\\"zerolinecolor\\\":\\\"white\\\",\\\"automargin\\\":true,\\\"linecolor\\\":\\\"white\\\"},\\\"hovermode\\\":\\\"closest\\\",\\\"paper_bgcolor\\\":\\\"white\\\",\\\"geo\\\":{\\\"showlakes\\\":true,\\\"showland\\\":true,\\\"landcolor\\\":\\\"#E5ECF6\\\",\\\"bgcolor\\\":\\\"white\\\",\\\"subunitcolor\\\":\\\"white\\\",\\\"lakecolor\\\":\\\"white\\\"},\\\"colorscale\\\":{\\\"sequential\\\":[[0.0,\\\"#0d0887\\\"],[0.1111111111111111,\\\"#46039f\\\"],[0.2222222222222222,\\\"#7201a8\\\"],[0.3333333333333333,\\\"#9c179e\\\"],[0.4444444444444444,\\\"#bd3786\\\"],[0.5555555555555556,\\\"#d8576b\\\"],[0.6666666666666666,\\\"#ed7953\\\"],[0.7777777777777778,\\\"#fb9f3a\\\"],[0.8888888888888888,\\\"#fdca26\\\"],[1.0,\\\"#f0f921\\\"]],\\\"diverging\\\":[[0,\\\"#8e0152\\\"],[0.1,\\\"#c51b7d\\\"],[0.2,\\\"#de77ae\\\"],[0.3,\\\"#f1b6da\\\"],[0.4,\\\"#fde0ef\\\"],[0.5,\\\"#f7f7f7\\\"],[0.6,\\\"#e6f5d0\\\"],[0.7,\\\"#b8e186\\\"],[0.8,\\\"#7fbc41\\\"],[0.9,\\\"#4d9221\\\"],[1,\\\"#276419\\\"]],\\\"sequentialminus\\\":[[0.0,\\\"#0d0887\\\"],[0.1111111111111111,\\\"#46039f\\\"],[0.2222222222222222,\\\"#7201a8\\\"],[0.3333333333333333,\\\"#9c179e\\\"],[0.4444444444444444,\\\"#bd3786\\\"],[0.5555555555555556,\\\"#d8576b\\\"],[0.6666666666666666,\\\"#ed7953\\\"],[0.7777777777777778,\\\"#fb9f3a\\\"],[0.8888888888888888,\\\"#fdca26\\\"],[1.0,\\\"#f0f921\\\"]]},\\\"yaxis\\\":{\\\"gridcolor\\\":\\\"white\\\",\\\"zerolinewidth\\\":2,\\\"title\\\":{\\\"standoff\\\":15},\\\"ticks\\\":\\\"\\\",\\\"zerolinecolor\\\":\\\"white\\\",\\\"automargin\\\":true,\\\"linecolor\\\":\\\"white\\\"},\\\"shapedefaults\\\":{\\\"line\\\":{\\\"color\\\":\\\"#2a3f5f\\\"}},\\\"hoverlabel\\\":{\\\"align\\\":\\\"left\\\"},\\\"mapbox\\\":{\\\"style\\\":\\\"light\\\"},\\\"polar\\\":{\\\"angularaxis\\\":{\\\"gridcolor\\\":\\\"white\\\",\\\"ticks\\\":\\\"\\\",\\\"linecolor\\\":\\\"white\\\"},\\\"bgcolor\\\":\\\"#E5ECF6\\\",\\\"radialaxis\\\":{\\\"gridcolor\\\":\\\"white\\\",\\\"ticks\\\":\\\"\\\",\\\"linecolor\\\":\\\"white\\\"}},\\\"autotypenumbers\\\":\\\"strict\\\",\\\"font\\\":{\\\"color\\\":\\\"#2a3f5f\\\"},\\\"ternary\\\":{\\\"baxis\\\":{\\\"gridcolor\\\":\\\"white\\\",\\\"ticks\\\":\\\"\\\",\\\"linecolor\\\":\\\"white\\\"},\\\"bgcolor\\\":\\\"#E5ECF6\\\",\\\"caxis\\\":{\\\"gridcolor\\\":\\\"white\\\",\\\"ticks\\\":\\\"\\\",\\\"linecolor\\\":\\\"white\\\"},\\\"aaxis\\\":{\\\"gridcolor\\\":\\\"white\\\",\\\"ticks\\\":\\\"\\\",\\\"linecolor\\\":\\\"white\\\"}},\\\"annotationdefaults\\\":{\\\"arrowhead\\\":0,\\\"arrowwidth\\\":1,\\\"arrowcolor\\\":\\\"#2a3f5f\\\"},\\\"plot_bgcolor\\\":\\\"#E5ECF6\\\",\\\"title\\\":{\\\"x\\\":0.05},\\\"scene\\\":{\\\"xaxis\\\":{\\\"gridcolor\\\":\\\"white\\\",\\\"gridwidth\\\":2,\\\"backgroundcolor\\\":\\\"#E5ECF6\\\",\\\"ticks\\\":\\\"\\\",\\\"showbackground\\\":true,\\\"zerolinecolor\\\":\\\"white\\\",\\\"linecolor\\\":\\\"white\\\"},\\\"zaxis\\\":{\\\"gridcolor\\\":\\\"white\\\",\\\"gridwidth\\\":2,\\\"backgroundcolor\\\":\\\"#E5ECF6\\\",\\\"ticks\\\":\\\"\\\",\\\"showbackground\\\":true,\\\"zerolinecolor\\\":\\\"white\\\",\\\"linecolor\\\":\\\"white\\\"},\\\"yaxis\\\":{\\\"gridcolor\\\":\\\"white\\\",\\\"gridwidth\\\":2,\\\"backgroundcolor\\\":\\\"#E5ECF6\\\",\\\"ticks\\\":\\\"\\\",\\\"showbackground\\\":true,\\\"zerolinecolor\\\":\\\"white\\\",\\\"linecolor\\\":\\\"white\\\"}},\\\"colorway\\\":[\\\"#636efa\\\",\\\"#EF553B\\\",\\\"#00cc96\\\",\\\"#ab63fa\\\",\\\"#FFA15A\\\",\\\"#19d3f3\\\",\\\"#FF6692\\\",\\\"#B6E880\\\",\\\"#FF97FF\\\",\\\"#FECB52\\\"]},\\\"data\\\":{\\\"barpolar\\\":[{\\\"type\\\":\\\"barpolar\\\",\\\"marker\\\":{\\\"line\\\":{\\\"color\\\":\\\"#E5ECF6\\\",\\\"width\\\":0.5}}}],\\\"carpet\\\":[{\\\"aaxis\\\":{\\\"gridcolor\\\":\\\"white\\\",\\\"endlinecolor\\\":\\\"#2a3f5f\\\",\\\"minorgridcolor\\\":\\\"white\\\",\\\"startlinecolor\\\":\\\"#2a3f5f\\\",\\\"linecolor\\\":\\\"white\\\"},\\\"type\\\":\\\"carpet\\\",\\\"baxis\\\":{\\\"gridcolor\\\":\\\"white\\\",\\\"endlinecolor\\\":\\\"#2a3f5f\\\",\\\"minorgridcolor\\\":\\\"white\\\",\\\"startlinecolor\\\":\\\"#2a3f5f\\\",\\\"linecolor\\\":\\\"white\\\"}}],\\\"scatterpolar\\\":[{\\\"type\\\":\\\"scatterpolar\\\",\\\"marker\\\":{\\\"colorbar\\\":{\\\"ticks\\\":\\\"\\\",\\\"outlinewidth\\\":0}}}],\\\"parcoords\\\":[{\\\"line\\\":{\\\"colorbar\\\":{\\\"ticks\\\":\\\"\\\",\\\"outlinewidth\\\":0}},\\\"type\\\":\\\"parcoords\\\"}],\\\"scatter\\\":[{\\\"type\\\":\\\"scatter\\\",\\\"marker\\\":{\\\"colorbar\\\":{\\\"ticks\\\":\\\"\\\",\\\"outlinewidth\\\":0}}}],\\\"histogram2dcontour\\\":[{\\\"colorbar\\\":{\\\"ticks\\\":\\\"\\\",\\\"outlinewidth\\\":0},\\\"type\\\":\\\"histogram2dcontour\\\",\\\"colorscale\\\":[[0.0,\\\"#0d0887\\\"],[0.1111111111111111,\\\"#46039f\\\"],[0.2222222222222222,\\\"#7201a8\\\"],[0.3333333333333333,\\\"#9c179e\\\"],[0.4444444444444444,\\\"#bd3786\\\"],[0.5555555555555556,\\\"#d8576b\\\"],[0.6666666666666666,\\\"#ed7953\\\"],[0.7777777777777778,\\\"#fb9f3a\\\"],[0.8888888888888888,\\\"#fdca26\\\"],[1.0,\\\"#f0f921\\\"]]}],\\\"contour\\\":[{\\\"colorbar\\\":{\\\"ticks\\\":\\\"\\\",\\\"outlinewidth\\\":0},\\\"type\\\":\\\"contour\\\",\\\"colorscale\\\":[[0.0,\\\"#0d0887\\\"],[0.1111111111111111,\\\"#46039f\\\"],[0.2222222222222222,\\\"#7201a8\\\"],[0.3333333333333333,\\\"#9c179e\\\"],[0.4444444444444444,\\\"#bd3786\\\"],[0.5555555555555556,\\\"#d8576b\\\"],[0.6666666666666666,\\\"#ed7953\\\"],[0.7777777777777778,\\\"#fb9f3a\\\"],[0.8888888888888888,\\\"#fdca26\\\"],[1.0,\\\"#f0f921\\\"]]}],\\\"scattercarpet\\\":[{\\\"type\\\":\\\"scattercarpet\\\",\\\"marker\\\":{\\\"colorbar\\\":{\\\"ticks\\\":\\\"\\\",\\\"outlinewidth\\\":0}}}],\\\"mesh3d\\\":[{\\\"colorbar\\\":{\\\"ticks\\\":\\\"\\\",\\\"outlinewidth\\\":0},\\\"type\\\":\\\"mesh3d\\\"}],\\\"surface\\\":[{\\\"colorbar\\\":{\\\"ticks\\\":\\\"\\\",\\\"outlinewidth\\\":0},\\\"type\\\":\\\"surface\\\",\\\"colorscale\\\":[[0.0,\\\"#0d0887\\\"],[0.1111111111111111,\\\"#46039f\\\"],[0.2222222222222222,\\\"#7201a8\\\"],[0.3333333333333333,\\\"#9c179e\\\"],[0.4444444444444444,\\\"#bd3786\\\"],[0.5555555555555556,\\\"#d8576b\\\"],[0.6666666666666666,\\\"#ed7953\\\"],[0.7777777777777778,\\\"#fb9f3a\\\"],[0.8888888888888888,\\\"#fdca26\\\"],[1.0,\\\"#f0f921\\\"]]}],\\\"scattermapbox\\\":[{\\\"type\\\":\\\"scattermapbox\\\",\\\"marker\\\":{\\\"colorbar\\\":{\\\"ticks\\\":\\\"\\\",\\\"outlinewidth\\\":0}}}],\\\"scattergeo\\\":[{\\\"type\\\":\\\"scattergeo\\\",\\\"marker\\\":{\\\"colorbar\\\":{\\\"ticks\\\":\\\"\\\",\\\"outlinewidth\\\":0}}}],\\\"histogram\\\":[{\\\"type\\\":\\\"histogram\\\",\\\"marker\\\":{\\\"colorbar\\\":{\\\"ticks\\\":\\\"\\\",\\\"outlinewidth\\\":0}}}],\\\"pie\\\":[{\\\"type\\\":\\\"pie\\\",\\\"automargin\\\":true}],\\\"choropleth\\\":[{\\\"colorbar\\\":{\\\"ticks\\\":\\\"\\\",\\\"outlinewidth\\\":0},\\\"type\\\":\\\"choropleth\\\"}],\\\"heatmapgl\\\":[{\\\"colorbar\\\":{\\\"ticks\\\":\\\"\\\",\\\"outlinewidth\\\":0},\\\"type\\\":\\\"heatmapgl\\\",\\\"colorscale\\\":[[0.0,\\\"#0d0887\\\"],[0.1111111111111111,\\\"#46039f\\\"],[0.2222222222222222,\\\"#7201a8\\\"],[0.3333333333333333,\\\"#9c179e\\\"],[0.4444444444444444,\\\"#bd3786\\\"],[0.5555555555555556,\\\"#d8576b\\\"],[0.6666666666666666,\\\"#ed7953\\\"],[0.7777777777777778,\\\"#fb9f3a\\\"],[0.8888888888888888,\\\"#fdca26\\\"],[1.0,\\\"#f0f921\\\"]]}],\\\"bar\\\":[{\\\"type\\\":\\\"bar\\\",\\\"error_y\\\":{\\\"color\\\":\\\"#2a3f5f\\\"},\\\"error_x\\\":{\\\"color\\\":\\\"#2a3f5f\\\"},\\\"marker\\\":{\\\"line\\\":{\\\"color\\\":\\\"#E5ECF6\\\",\\\"width\\\":0.5}}}],\\\"heatmap\\\":[{\\\"colorbar\\\":{\\\"ticks\\\":\\\"\\\",\\\"outlinewidth\\\":0},\\\"type\\\":\\\"heatmap\\\",\\\"colorscale\\\":[[0.0,\\\"#0d0887\\\"],[0.1111111111111111,\\\"#46039f\\\"],[0.2222222222222222,\\\"#7201a8\\\"],[0.3333333333333333,\\\"#9c179e\\\"],[0.4444444444444444,\\\"#bd3786\\\"],[0.5555555555555556,\\\"#d8576b\\\"],[0.6666666666666666,\\\"#ed7953\\\"],[0.7777777777777778,\\\"#fb9f3a\\\"],[0.8888888888888888,\\\"#fdca26\\\"],[1.0,\\\"#f0f921\\\"]]}],\\\"contourcarpet\\\":[{\\\"colorbar\\\":{\\\"ticks\\\":\\\"\\\",\\\"outlinewidth\\\":0},\\\"type\\\":\\\"contourcarpet\\\"}],\\\"table\\\":[{\\\"type\\\":\\\"table\\\",\\\"header\\\":{\\\"line\\\":{\\\"color\\\":\\\"white\\\"},\\\"fill\\\":{\\\"color\\\":\\\"#C8D4E3\\\"}},\\\"cells\\\":{\\\"line\\\":{\\\"color\\\":\\\"white\\\"},\\\"fill\\\":{\\\"color\\\":\\\"#EBF0F8\\\"}}}],\\\"scatter3d\\\":[{\\\"line\\\":{\\\"colorbar\\\":{\\\"ticks\\\":\\\"\\\",\\\"outlinewidth\\\":0}},\\\"type\\\":\\\"scatter3d\\\",\\\"marker\\\":{\\\"colorbar\\\":{\\\"ticks\\\":\\\"\\\",\\\"outlinewidth\\\":0}}}],\\\"scattergl\\\":[{\\\"type\\\":\\\"scattergl\\\",\\\"marker\\\":{\\\"colorbar\\\":{\\\"ticks\\\":\\\"\\\",\\\"outlinewidth\\\":0}}}],\\\"histogram2d\\\":[{\\\"colorbar\\\":{\\\"ticks\\\":\\\"\\\",\\\"outlinewidth\\\":0},\\\"type\\\":\\\"histogram2d\\\",\\\"colorscale\\\":[[0.0,\\\"#0d0887\\\"],[0.1111111111111111,\\\"#46039f\\\"],[0.2222222222222222,\\\"#7201a8\\\"],[0.3333333333333333,\\\"#9c179e\\\"],[0.4444444444444444,\\\"#bd3786\\\"],[0.5555555555555556,\\\"#d8576b\\\"],[0.6666666666666666,\\\"#ed7953\\\"],[0.7777777777777778,\\\"#fb9f3a\\\"],[0.8888888888888888,\\\"#fdca26\\\"],[1.0,\\\"#f0f921\\\"]]}],\\\"scatterternary\\\":[{\\\"type\\\":\\\"scatterternary\\\",\\\"marker\\\":{\\\"colorbar\\\":{\\\"ticks\\\":\\\"\\\",\\\"outlinewidth\\\":0}}}],\\\"scatterpolargl\\\":[{\\\"type\\\":\\\"scatterpolargl\\\",\\\"marker\\\":{\\\"colorbar\\\":{\\\"ticks\\\":\\\"\\\",\\\"outlinewidth\\\":0}}}]}},\\\"margin\\\":{\\\"l\\\":50,\\\"b\\\":50,\\\"r\\\":50,\\\"t\\\":60},\\\"title\\\":\\\"Zależność tłuszczy od zużycia wody\\\",\\\"plot_bgcolor\\\":\\\"rgb(254, 247, 234)\\\",\\\"yaxis\\\":{\\\"showgrid\\\":true,\\\"showline\\\":true,\\\"gridcolor\\\":\\\"rgb(125,125,125)\\\",\\\"zeroline\\\":true,\\\"title\\\":\\\"Tłuszcze\\\",\\\"zerolinecolor\\\":\\\"rgb(0,0,0)\\\",\\\"linecolor\\\":\\\"rgb(20,20,20)\\\"}},{\\\"showLink\\\":false,\\\"editable\\\":false,\\\"responsive\\\":true,\\\"staticPlot\\\":false,\\\"scrollZoom\\\":true}); gd.on(\\\"plotly_hover\\\",(function (data){var filtered_data=WebIO.PlotlyCommands.filterEventData(gd,data,\\\"hover\\\"); return !(filtered_data.isnil) ? (WebIO.setval({\\\"name\\\":\\\"hover\\\",\\\"scope\\\":\\\"115045632972773365\\\",\\\"id\\\":\\\"60192657887382722\\\",\\\"type\\\":\\\"observable\\\"},filtered_data.out)) : undefined})); gd.on(\\\"plotly_unhover\\\",(function (){return WebIO.setval({\\\"name\\\":\\\"hover\\\",\\\"scope\\\":\\\"115045632972773365\\\",\\\"id\\\":\\\"60192657887382722\\\",\\\"type\\\":\\\"observable\\\"},{})})); gd.on(\\\"plotly_selected\\\",(function (data){var filtered_data=WebIO.PlotlyCommands.filterEventData(gd,data,\\\"selected\\\"); return !(filtered_data.isnil) ? (WebIO.setval({\\\"name\\\":\\\"selected\\\",\\\"scope\\\":\\\"115045632972773365\\\",\\\"id\\\":\\\"944951473836746435\\\",\\\"type\\\":\\\"observable\\\"},filtered_data.out)) : undefined})); gd.on(\\\"plotly_deselect\\\",(function (){return WebIO.setval({\\\"name\\\":\\\"selected\\\",\\\"scope\\\":\\\"115045632972773365\\\",\\\"id\\\":\\\"944951473836746435\\\",\\\"type\\\":\\\"observable\\\"},{})})); gd.on(\\\"plotly_relayout\\\",(function (data){var filtered_data=WebIO.PlotlyCommands.filterEventData(gd,data,\\\"relayout\\\"); return !(filtered_data.isnil) ? (WebIO.setval({\\\"name\\\":\\\"relayout\\\",\\\"scope\\\":\\\"115045632972773365\\\",\\\"id\\\":\\\"2239848751570494516\\\",\\\"type\\\":\\\"observable\\\"},filtered_data.out)) : undefined})); return gd.on(\\\"plotly_click\\\",(function (data){var filtered_data=WebIO.PlotlyCommands.filterEventData(gd,data,\\\"click\\\"); return !(filtered_data.isnil) ? (WebIO.setval({\\\"name\\\":\\\"click\\\",\\\"scope\\\":\\\"115045632972773365\\\",\\\"id\\\":\\\"12141538885197493100\\\",\\\"type\\\":\\\"observable\\\"},filtered_data.out)) : undefined}))}));\\n    (WebIO.importBlock({\\\"data\\\":[{\\\"name\\\":\\\"Plotly\\\",\\\"type\\\":\\\"js\\\",\\\"url\\\":\\\"\\/assetserver\\/7dc425d3d9acdbb7fba54ce8841409ff1fd2b16c-plotly.min.js\\\"},{\\\"name\\\":null,\\\"type\\\":\\\"js\\\",\\\"url\\\":\\\"\\/assetserver\\/bdef9d06b2ff8f6ff9f383d24c2633cfc4dfc0cb-plotly_webio.bundle.js\\\"}],\\\"type\\\":\\\"async_block\\\"})).then((imports) => handler.apply(this, imports));\\n}\\n\"],\"observables\":{\"_toImage\":{\"sync\":false,\"id\":\"4349922485932455603\",\"value\":{}},\"hover\":{\"sync\":false,\"id\":\"60192657887382722\",\"value\":{}},\"selected\":{\"sync\":false,\"id\":\"944951473836746435\",\"value\":{}},\"__gd_contents\":{\"sync\":false,\"id\":\"8787941316982285388\",\"value\":{}},\"click\":{\"sync\":false,\"id\":\"12141538885197493100\",\"value\":{}},\"image\":{\"sync\":true,\"id\":\"8684747844962744927\",\"value\":\"\"},\"__get_gd_contents\":{\"sync\":false,\"id\":\"3736747839648605040\",\"value\":\"\"},\"_downloadImage\":{\"sync\":false,\"id\":\"1475326355421938097\",\"value\":{}},\"relayout\":{\"sync\":false,\"id\":\"2239848751570494516\",\"value\":{}},\"_commands\":{\"sync\":false,\"id\":\"9390183338757346799\",\"value\":[]}}},\"children\":[{\"props\":{\"id\":\"plot-4b4bef4f-2cd2-41aa-a19e-a29d20b98d9c\"},\"nodeType\":\"DOM\",\"type\":\"node\",\"instanceArgs\":{\"namespace\":\"html\",\"tag\":\"div\"},\"children\":[]}]},\n",
       "        window,\n",
       "    );\n",
       "    })()\n",
       "    </script>\n",
       "</div>\n"
      ],
      "text/plain": [
       "data: [\n",
       "  \"scatter with fields marker, mode, name, text, type, x, and y\",\n",
       "  \"scatter with fields marker, mode, name, text, type, x, and y\"\n",
       "]\n",
       "\n",
       "layout: \"layout with fields margin, paper_bgcolor, plot_bgcolor, template, title, xaxis, and yaxis\"\n",
       "\n"
      ]
     },
     "execution_count": 12,
     "metadata": {},
     "output_type": "execute_result"
    }
   ],
   "source": [
    "#------------------------------TŁUSZCZE-----------------------------------------\n",
    "#Analiza tłuszczy, wybieramy produkty bezmięsne o największej zawartości białka\n",
    "top_tluszcze = sort!(wege_df,[order(:Tluszcze, rev=true)])[1:40,:]\n",
    "\n",
    "#stwarzamy dane wege\n",
    "trace_wege = scatter(top_tluszcze,\n",
    "    x=:zuzycie_wody_na_100_g,\n",
    "    y=:Tluszcze,\n",
    "    text=:Produkt,\n",
    "    mode=\"markers\",\n",
    "    name=\"Wege\",\n",
    "    marker_size=8,\n",
    "    marker_color=\"blue\")\n",
    "\n",
    "#stwarzamy dane mięso\n",
    "trace_mieso = scatter(mieso_df,\n",
    "    x=:zuzycie_wody_na_100_g,\n",
    "    y=:Tluszcze,\n",
    "    text=:Produkt,\n",
    "    mode=\"markers\",\n",
    "    name=\"Mięso\",\n",
    "    marker_size=8,\n",
    "    marker_color=\"red\")\n",
    "    \n",
    "#kreujemy layout\n",
    "layout = Layout(;title=\"Zależność tłuszczy od zużycia wody\",\n",
    "    plot_bgcolor=\"rgb(254, 247, 234)\",\n",
    "    paper_bgcolor=\"rgb(254, 247, 234)\",\n",
    "    xaxis=attr(title=\"Ślad wodny\",\n",
    "        showgrid=true,\n",
    "        gridcolor=\"rgb(125,125,125)\",\n",
    "        zeroline=true,\n",
    "        zerolinecolor=\"rgb(0,0,0)\",\n",
    "        showline=true,\n",
    "        linecolor=\"rgb(20,20,20)\"\n",
    "        ),\n",
    "    yaxis=attr(title=\"Tłuszcze\",\n",
    "        showgrid=true,\n",
    "        gridcolor=\"rgb(125,125,125)\",\n",
    "        zeroline=true,\n",
    "        zerolinecolor=\"rgb(0,0,0)\",\n",
    "        showline=true,\n",
    "        linecolor=\"rgb(20,20,20)\"\n",
    "        ))\n",
    "\n",
    "#stwarzamy wykres\n",
    "tluszcze_scatter = plot([trace_wege,trace_mieso],layout)\n"
   ]
  },
  {
   "cell_type": "code",
   "execution_count": 13,
   "id": "e3797977",
   "metadata": {},
   "outputs": [
    {
     "data": {
      "application/vnd.plotly.v1+json": {
       "config": {
        "editable": false,
        "responsive": true,
        "scrollZoom": true,
        "showLink": false,
        "staticPlot": false
       },
       "data": [
        {
         "marker": {
          "color": "red"
         },
         "name": "Mięso",
         "text": [
          "35.55g",
          "48.16g",
          "27.23g",
          "16.53g",
          "45.69g"
         ],
         "type": "bar",
         "x": [
          "Beef",
          "Lamb",
          "Pork",
          "Goat meat",
          "Chicken meat"
         ],
         "y": [
          9320.697674418605,
          6295.627906976744,
          3620.6511627906975,
          3338.2790697674423,
          2615.1162790697676
         ]
        },
        {
         "marker": {
          "color": "blue"
         },
         "name": "Wege",
         "text": [
          "85.83g",
          "39.12g",
          "70.84g",
          "67.41g",
          "68.9g",
          "55.73g",
          "78.18g",
          "78.0g",
          "63.41g",
          "34.98g",
          "70.06g",
          "33.4g",
          "78.0g",
          "43.48g",
          "39.0g"
         ],
         "type": "bar",
         "x": [
          "Butter",
          "Linseed",
          "Cheese",
          "Peanuts",
          "Sunflower seeds",
          "Egg",
          "Olives",
          "Mustard seeds",
          "Poppy seeds",
          "Soybeans",
          "Avocados",
          "Wheat flour",
          "Ginger",
          "Plantains",
          "Taro"
         ],
         "y": [
          606.6302521008403,
          564.5714285714284,
          552.7731092436974,
          434.13445378151255,
          367.7142857142857,
          356.68067226890753,
          329.3697478991596,
          306.86554621848734,
          239.0252100840336,
          234.32773109243695,
          216.41176470588232,
          201.99159663865544,
          181.01680672268904,
          175.0084033613445,
          66.2016806722689
         ]
        }
       ],
       "frames": [],
       "layout": {
        "margin": {
         "b": 50,
         "l": 50,
         "r": 50,
         "t": 60
        },
        "template": {
         "data": {
          "bar": [
           {
            "error_x": {
             "color": "#2a3f5f"
            },
            "error_y": {
             "color": "#2a3f5f"
            },
            "marker": {
             "line": {
              "color": "#E5ECF6",
              "width": 0.5
             }
            },
            "type": "bar"
           }
          ],
          "barpolar": [
           {
            "marker": {
             "line": {
              "color": "#E5ECF6",
              "width": 0.5
             }
            },
            "type": "barpolar"
           }
          ],
          "carpet": [
           {
            "aaxis": {
             "endlinecolor": "#2a3f5f",
             "gridcolor": "white",
             "linecolor": "white",
             "minorgridcolor": "white",
             "startlinecolor": "#2a3f5f"
            },
            "baxis": {
             "endlinecolor": "#2a3f5f",
             "gridcolor": "white",
             "linecolor": "white",
             "minorgridcolor": "white",
             "startlinecolor": "#2a3f5f"
            },
            "type": "carpet"
           }
          ],
          "choropleth": [
           {
            "colorbar": {
             "outlinewidth": 0,
             "ticks": ""
            },
            "type": "choropleth"
           }
          ],
          "contour": [
           {
            "colorbar": {
             "outlinewidth": 0,
             "ticks": ""
            },
            "colorscale": [
             [
              0,
              "#0d0887"
             ],
             [
              0.1111111111111111,
              "#46039f"
             ],
             [
              0.2222222222222222,
              "#7201a8"
             ],
             [
              0.3333333333333333,
              "#9c179e"
             ],
             [
              0.4444444444444444,
              "#bd3786"
             ],
             [
              0.5555555555555556,
              "#d8576b"
             ],
             [
              0.6666666666666666,
              "#ed7953"
             ],
             [
              0.7777777777777778,
              "#fb9f3a"
             ],
             [
              0.8888888888888888,
              "#fdca26"
             ],
             [
              1,
              "#f0f921"
             ]
            ],
            "type": "contour"
           }
          ],
          "contourcarpet": [
           {
            "colorbar": {
             "outlinewidth": 0,
             "ticks": ""
            },
            "type": "contourcarpet"
           }
          ],
          "heatmap": [
           {
            "colorbar": {
             "outlinewidth": 0,
             "ticks": ""
            },
            "colorscale": [
             [
              0,
              "#0d0887"
             ],
             [
              0.1111111111111111,
              "#46039f"
             ],
             [
              0.2222222222222222,
              "#7201a8"
             ],
             [
              0.3333333333333333,
              "#9c179e"
             ],
             [
              0.4444444444444444,
              "#bd3786"
             ],
             [
              0.5555555555555556,
              "#d8576b"
             ],
             [
              0.6666666666666666,
              "#ed7953"
             ],
             [
              0.7777777777777778,
              "#fb9f3a"
             ],
             [
              0.8888888888888888,
              "#fdca26"
             ],
             [
              1,
              "#f0f921"
             ]
            ],
            "type": "heatmap"
           }
          ],
          "heatmapgl": [
           {
            "colorbar": {
             "outlinewidth": 0,
             "ticks": ""
            },
            "colorscale": [
             [
              0,
              "#0d0887"
             ],
             [
              0.1111111111111111,
              "#46039f"
             ],
             [
              0.2222222222222222,
              "#7201a8"
             ],
             [
              0.3333333333333333,
              "#9c179e"
             ],
             [
              0.4444444444444444,
              "#bd3786"
             ],
             [
              0.5555555555555556,
              "#d8576b"
             ],
             [
              0.6666666666666666,
              "#ed7953"
             ],
             [
              0.7777777777777778,
              "#fb9f3a"
             ],
             [
              0.8888888888888888,
              "#fdca26"
             ],
             [
              1,
              "#f0f921"
             ]
            ],
            "type": "heatmapgl"
           }
          ],
          "histogram": [
           {
            "marker": {
             "colorbar": {
              "outlinewidth": 0,
              "ticks": ""
             }
            },
            "type": "histogram"
           }
          ],
          "histogram2d": [
           {
            "colorbar": {
             "outlinewidth": 0,
             "ticks": ""
            },
            "colorscale": [
             [
              0,
              "#0d0887"
             ],
             [
              0.1111111111111111,
              "#46039f"
             ],
             [
              0.2222222222222222,
              "#7201a8"
             ],
             [
              0.3333333333333333,
              "#9c179e"
             ],
             [
              0.4444444444444444,
              "#bd3786"
             ],
             [
              0.5555555555555556,
              "#d8576b"
             ],
             [
              0.6666666666666666,
              "#ed7953"
             ],
             [
              0.7777777777777778,
              "#fb9f3a"
             ],
             [
              0.8888888888888888,
              "#fdca26"
             ],
             [
              1,
              "#f0f921"
             ]
            ],
            "type": "histogram2d"
           }
          ],
          "histogram2dcontour": [
           {
            "colorbar": {
             "outlinewidth": 0,
             "ticks": ""
            },
            "colorscale": [
             [
              0,
              "#0d0887"
             ],
             [
              0.1111111111111111,
              "#46039f"
             ],
             [
              0.2222222222222222,
              "#7201a8"
             ],
             [
              0.3333333333333333,
              "#9c179e"
             ],
             [
              0.4444444444444444,
              "#bd3786"
             ],
             [
              0.5555555555555556,
              "#d8576b"
             ],
             [
              0.6666666666666666,
              "#ed7953"
             ],
             [
              0.7777777777777778,
              "#fb9f3a"
             ],
             [
              0.8888888888888888,
              "#fdca26"
             ],
             [
              1,
              "#f0f921"
             ]
            ],
            "type": "histogram2dcontour"
           }
          ],
          "mesh3d": [
           {
            "colorbar": {
             "outlinewidth": 0,
             "ticks": ""
            },
            "type": "mesh3d"
           }
          ],
          "parcoords": [
           {
            "line": {
             "colorbar": {
              "outlinewidth": 0,
              "ticks": ""
             }
            },
            "type": "parcoords"
           }
          ],
          "pie": [
           {
            "automargin": true,
            "type": "pie"
           }
          ],
          "scatter": [
           {
            "marker": {
             "colorbar": {
              "outlinewidth": 0,
              "ticks": ""
             }
            },
            "type": "scatter"
           }
          ],
          "scatter3d": [
           {
            "line": {
             "colorbar": {
              "outlinewidth": 0,
              "ticks": ""
             }
            },
            "marker": {
             "colorbar": {
              "outlinewidth": 0,
              "ticks": ""
             }
            },
            "type": "scatter3d"
           }
          ],
          "scattercarpet": [
           {
            "marker": {
             "colorbar": {
              "outlinewidth": 0,
              "ticks": ""
             }
            },
            "type": "scattercarpet"
           }
          ],
          "scattergeo": [
           {
            "marker": {
             "colorbar": {
              "outlinewidth": 0,
              "ticks": ""
             }
            },
            "type": "scattergeo"
           }
          ],
          "scattergl": [
           {
            "marker": {
             "colorbar": {
              "outlinewidth": 0,
              "ticks": ""
             }
            },
            "type": "scattergl"
           }
          ],
          "scattermapbox": [
           {
            "marker": {
             "colorbar": {
              "outlinewidth": 0,
              "ticks": ""
             }
            },
            "type": "scattermapbox"
           }
          ],
          "scatterpolar": [
           {
            "marker": {
             "colorbar": {
              "outlinewidth": 0,
              "ticks": ""
             }
            },
            "type": "scatterpolar"
           }
          ],
          "scatterpolargl": [
           {
            "marker": {
             "colorbar": {
              "outlinewidth": 0,
              "ticks": ""
             }
            },
            "type": "scatterpolargl"
           }
          ],
          "scatterternary": [
           {
            "marker": {
             "colorbar": {
              "outlinewidth": 0,
              "ticks": ""
             }
            },
            "type": "scatterternary"
           }
          ],
          "surface": [
           {
            "colorbar": {
             "outlinewidth": 0,
             "ticks": ""
            },
            "colorscale": [
             [
              0,
              "#0d0887"
             ],
             [
              0.1111111111111111,
              "#46039f"
             ],
             [
              0.2222222222222222,
              "#7201a8"
             ],
             [
              0.3333333333333333,
              "#9c179e"
             ],
             [
              0.4444444444444444,
              "#bd3786"
             ],
             [
              0.5555555555555556,
              "#d8576b"
             ],
             [
              0.6666666666666666,
              "#ed7953"
             ],
             [
              0.7777777777777778,
              "#fb9f3a"
             ],
             [
              0.8888888888888888,
              "#fdca26"
             ],
             [
              1,
              "#f0f921"
             ]
            ],
            "type": "surface"
           }
          ],
          "table": [
           {
            "cells": {
             "fill": {
              "color": "#EBF0F8"
             },
             "line": {
              "color": "white"
             }
            },
            "header": {
             "fill": {
              "color": "#C8D4E3"
             },
             "line": {
              "color": "white"
             }
            },
            "type": "table"
           }
          ]
         },
         "layout": {
          "annotationdefaults": {
           "arrowcolor": "#2a3f5f",
           "arrowhead": 0,
           "arrowwidth": 1
          },
          "autotypenumbers": "strict",
          "coloraxis": {
           "colorbar": {
            "outlinewidth": 0,
            "ticks": ""
           }
          },
          "colorscale": {
           "diverging": [
            [
             0,
             "#8e0152"
            ],
            [
             0.1,
             "#c51b7d"
            ],
            [
             0.2,
             "#de77ae"
            ],
            [
             0.3,
             "#f1b6da"
            ],
            [
             0.4,
             "#fde0ef"
            ],
            [
             0.5,
             "#f7f7f7"
            ],
            [
             0.6,
             "#e6f5d0"
            ],
            [
             0.7,
             "#b8e186"
            ],
            [
             0.8,
             "#7fbc41"
            ],
            [
             0.9,
             "#4d9221"
            ],
            [
             1,
             "#276419"
            ]
           ],
           "sequential": [
            [
             0,
             "#0d0887"
            ],
            [
             0.1111111111111111,
             "#46039f"
            ],
            [
             0.2222222222222222,
             "#7201a8"
            ],
            [
             0.3333333333333333,
             "#9c179e"
            ],
            [
             0.4444444444444444,
             "#bd3786"
            ],
            [
             0.5555555555555556,
             "#d8576b"
            ],
            [
             0.6666666666666666,
             "#ed7953"
            ],
            [
             0.7777777777777778,
             "#fb9f3a"
            ],
            [
             0.8888888888888888,
             "#fdca26"
            ],
            [
             1,
             "#f0f921"
            ]
           ],
           "sequentialminus": [
            [
             0,
             "#0d0887"
            ],
            [
             0.1111111111111111,
             "#46039f"
            ],
            [
             0.2222222222222222,
             "#7201a8"
            ],
            [
             0.3333333333333333,
             "#9c179e"
            ],
            [
             0.4444444444444444,
             "#bd3786"
            ],
            [
             0.5555555555555556,
             "#d8576b"
            ],
            [
             0.6666666666666666,
             "#ed7953"
            ],
            [
             0.7777777777777778,
             "#fb9f3a"
            ],
            [
             0.8888888888888888,
             "#fdca26"
            ],
            [
             1,
             "#f0f921"
            ]
           ]
          },
          "colorway": [
           "#636efa",
           "#EF553B",
           "#00cc96",
           "#ab63fa",
           "#FFA15A",
           "#19d3f3",
           "#FF6692",
           "#B6E880",
           "#FF97FF",
           "#FECB52"
          ],
          "font": {
           "color": "#2a3f5f"
          },
          "geo": {
           "bgcolor": "white",
           "lakecolor": "white",
           "landcolor": "#E5ECF6",
           "showlakes": true,
           "showland": true,
           "subunitcolor": "white"
          },
          "hoverlabel": {
           "align": "left"
          },
          "hovermode": "closest",
          "mapbox": {
           "style": "light"
          },
          "paper_bgcolor": "white",
          "plot_bgcolor": "#E5ECF6",
          "polar": {
           "angularaxis": {
            "gridcolor": "white",
            "linecolor": "white",
            "ticks": ""
           },
           "bgcolor": "#E5ECF6",
           "radialaxis": {
            "gridcolor": "white",
            "linecolor": "white",
            "ticks": ""
           }
          },
          "scene": {
           "xaxis": {
            "backgroundcolor": "#E5ECF6",
            "gridcolor": "white",
            "gridwidth": 2,
            "linecolor": "white",
            "showbackground": true,
            "ticks": "",
            "zerolinecolor": "white"
           },
           "yaxis": {
            "backgroundcolor": "#E5ECF6",
            "gridcolor": "white",
            "gridwidth": 2,
            "linecolor": "white",
            "showbackground": true,
            "ticks": "",
            "zerolinecolor": "white"
           },
           "zaxis": {
            "backgroundcolor": "#E5ECF6",
            "gridcolor": "white",
            "gridwidth": 2,
            "linecolor": "white",
            "showbackground": true,
            "ticks": "",
            "zerolinecolor": "white"
           }
          },
          "shapedefaults": {
           "line": {
            "color": "#2a3f5f"
           }
          },
          "ternary": {
           "aaxis": {
            "gridcolor": "white",
            "linecolor": "white",
            "ticks": ""
           },
           "baxis": {
            "gridcolor": "white",
            "linecolor": "white",
            "ticks": ""
           },
           "bgcolor": "#E5ECF6",
           "caxis": {
            "gridcolor": "white",
            "linecolor": "white",
            "ticks": ""
           }
          },
          "title": {
           "x": 0.05
          },
          "xaxis": {
           "automargin": true,
           "gridcolor": "white",
           "linecolor": "white",
           "ticks": "",
           "title": {
            "standoff": 15
           },
           "zerolinecolor": "white",
           "zerolinewidth": 2
          },
          "yaxis": {
           "automargin": true,
           "gridcolor": "white",
           "linecolor": "white",
           "ticks": "",
           "title": {
            "standoff": 15
           },
           "zerolinecolor": "white",
           "zerolinewidth": 2
          }
         }
        },
        "title": "Zużycie wody przy uzupełnianiu tłuszczy danym produktem przez 100 dni",
        "yaxis": {
         "title": "Zużyta woda[m³]"
        }
       }
      },
      "text/html": [
       "<div\n",
       "    class=\"webio-mountpoint\"\n",
       "    data-webio-mountpoint=\"5325251072547085358\"\n",
       ">\n",
       "    <script>\n",
       "    (function(){\n",
       "    // Some integrations (namely, IJulia/Jupyter) use an alternate render pathway than\n",
       "    // just putting the html on the page. If WebIO isn't defined, then it's pretty likely\n",
       "    // that we're in one of those situations and the integration just isn't installed\n",
       "    // correctly.\n",
       "    if (typeof window.WebIO === \"undefined\") {\n",
       "        document\n",
       "            .querySelector('[data-webio-mountpoint=\"5325251072547085358\"]')\n",
       "            .innerHTML = (\n",
       "                '<div style=\"padding: 1em; background-color: #f8d6da; border: 1px solid #f5c6cb; font-weight: bold;\">' +\n",
       "                '<p><strong>WebIO not detected.</strong></p>' +\n",
       "                '<p>Please read ' +\n",
       "                '<a href=\"https://juliagizmos.github.io/WebIO.jl/latest/troubleshooting/not-detected/\" target=\"_blank\">the troubleshooting guide</a> ' +\n",
       "                'for more information on how to resolve this issue.</p>' +\n",
       "                '<p><a href=\"https://juliagizmos.github.io/WebIO.jl/latest/troubleshooting/not-detected/\" target=\"_blank\">https://juliagizmos.github.io/WebIO.jl/latest/troubleshooting/not-detected/</a></p>' +\n",
       "                '</div>'\n",
       "            );\n",
       "        return;\n",
       "    }\n",
       "    WebIO.mount(\n",
       "        document.querySelector('[data-webio-mountpoint=\"5325251072547085358\"]'),\n",
       "        {\"props\":{},\"nodeType\":\"Scope\",\"type\":\"node\",\"instanceArgs\":{\"imports\":{\"data\":[{\"name\":\"Plotly\",\"type\":\"js\",\"url\":\"\\/assetserver\\/7dc425d3d9acdbb7fba54ce8841409ff1fd2b16c-plotly.min.js\"},{\"name\":null,\"type\":\"js\",\"url\":\"\\/assetserver\\/bdef9d06b2ff8f6ff9f383d24c2633cfc4dfc0cb-plotly_webio.bundle.js\"}],\"type\":\"async_block\"},\"id\":\"13639759673633479029\",\"handlers\":{\"_toImage\":[\"(function (options){return this.Plotly.toImage(this.plotElem,options).then((function (data){return WebIO.setval({\\\"name\\\":\\\"image\\\",\\\"scope\\\":\\\"13639759673633479029\\\",\\\"id\\\":\\\"12631101903601182349\\\",\\\"type\\\":\\\"observable\\\"},data)}))})\"],\"__get_gd_contents\":[\"(function (prop){prop==\\\"data\\\" ? (WebIO.setval({\\\"name\\\":\\\"__gd_contents\\\",\\\"scope\\\":\\\"13639759673633479029\\\",\\\"id\\\":\\\"4276849094003532621\\\",\\\"type\\\":\\\"observable\\\"},this.plotElem.data)) : undefined; return prop==\\\"layout\\\" ? (WebIO.setval({\\\"name\\\":\\\"__gd_contents\\\",\\\"scope\\\":\\\"13639759673633479029\\\",\\\"id\\\":\\\"4276849094003532621\\\",\\\"type\\\":\\\"observable\\\"},this.plotElem.layout)) : undefined})\"],\"_downloadImage\":[\"(function (options){return this.Plotly.downloadImage(this.plotElem,options)})\"],\"_commands\":[\"(function (args){var fn=args.shift(); var elem=this.plotElem; var Plotly=this.Plotly; args.unshift(elem); return Plotly[fn].apply(this,args)})\"]},\"systemjs_options\":null,\"mount_callbacks\":[\"function () {\\n    var handler = ((function (Plotly,PlotlyWebIO){PlotlyWebIO.init(WebIO); var gd=this.dom.querySelector(\\\"#plot-3d0ec01f-0624-414a-8612-6cf4305fae16\\\"); this.plotElem=gd; this.Plotly=Plotly; (window.Blink!==undefined) ? (gd.style.width=\\\"100%\\\", gd.style.height=\\\"100vh\\\", gd.style.marginLeft=\\\"0%\\\", gd.style.marginTop=\\\"0vh\\\") : undefined; window.onresize=(function (){return Plotly.Plots.resize(gd)}); Plotly.newPlot(gd,[{\\\"x\\\":[\\\"Beef\\\",\\\"Lamb\\\",\\\"Pork\\\",\\\"Goat meat\\\",\\\"Chicken meat\\\"],\\\"y\\\":[9320.697674418605,6295.627906976744,3620.6511627906975,3338.2790697674423,2615.1162790697676],\\\"type\\\":\\\"bar\\\",\\\"name\\\":\\\"Mięso\\\",\\\"text\\\":[\\\"35.55g\\\",\\\"48.16g\\\",\\\"27.23g\\\",\\\"16.53g\\\",\\\"45.69g\\\"],\\\"marker\\\":{\\\"color\\\":\\\"red\\\"}},{\\\"x\\\":[\\\"Butter\\\",\\\"Linseed\\\",\\\"Cheese\\\",\\\"Peanuts\\\",\\\"Sunflower seeds\\\",\\\"Egg\\\",\\\"Olives\\\",\\\"Mustard seeds\\\",\\\"Poppy seeds\\\",\\\"Soybeans\\\",\\\"Avocados\\\",\\\"Wheat flour\\\",\\\"Ginger\\\",\\\"Plantains\\\",\\\"Taro\\\"],\\\"y\\\":[606.6302521008403,564.5714285714284,552.7731092436974,434.13445378151255,367.7142857142857,356.68067226890753,329.3697478991596,306.86554621848734,239.0252100840336,234.32773109243695,216.41176470588232,201.99159663865544,181.01680672268904,175.0084033613445,66.2016806722689],\\\"type\\\":\\\"bar\\\",\\\"name\\\":\\\"Wege\\\",\\\"text\\\":[\\\"85.83g\\\",\\\"39.12g\\\",\\\"70.84g\\\",\\\"67.41g\\\",\\\"68.9g\\\",\\\"55.73g\\\",\\\"78.18g\\\",\\\"78.0g\\\",\\\"63.41g\\\",\\\"34.98g\\\",\\\"70.06g\\\",\\\"33.4g\\\",\\\"78.0g\\\",\\\"43.48g\\\",\\\"39.0g\\\"],\\\"marker\\\":{\\\"color\\\":\\\"blue\\\"}}],{\\\"template\\\":{\\\"layout\\\":{\\\"coloraxis\\\":{\\\"colorbar\\\":{\\\"ticks\\\":\\\"\\\",\\\"outlinewidth\\\":0}},\\\"xaxis\\\":{\\\"gridcolor\\\":\\\"white\\\",\\\"zerolinewidth\\\":2,\\\"title\\\":{\\\"standoff\\\":15},\\\"ticks\\\":\\\"\\\",\\\"zerolinecolor\\\":\\\"white\\\",\\\"automargin\\\":true,\\\"linecolor\\\":\\\"white\\\"},\\\"hovermode\\\":\\\"closest\\\",\\\"paper_bgcolor\\\":\\\"white\\\",\\\"geo\\\":{\\\"showlakes\\\":true,\\\"showland\\\":true,\\\"landcolor\\\":\\\"#E5ECF6\\\",\\\"bgcolor\\\":\\\"white\\\",\\\"subunitcolor\\\":\\\"white\\\",\\\"lakecolor\\\":\\\"white\\\"},\\\"colorscale\\\":{\\\"sequential\\\":[[0.0,\\\"#0d0887\\\"],[0.1111111111111111,\\\"#46039f\\\"],[0.2222222222222222,\\\"#7201a8\\\"],[0.3333333333333333,\\\"#9c179e\\\"],[0.4444444444444444,\\\"#bd3786\\\"],[0.5555555555555556,\\\"#d8576b\\\"],[0.6666666666666666,\\\"#ed7953\\\"],[0.7777777777777778,\\\"#fb9f3a\\\"],[0.8888888888888888,\\\"#fdca26\\\"],[1.0,\\\"#f0f921\\\"]],\\\"diverging\\\":[[0,\\\"#8e0152\\\"],[0.1,\\\"#c51b7d\\\"],[0.2,\\\"#de77ae\\\"],[0.3,\\\"#f1b6da\\\"],[0.4,\\\"#fde0ef\\\"],[0.5,\\\"#f7f7f7\\\"],[0.6,\\\"#e6f5d0\\\"],[0.7,\\\"#b8e186\\\"],[0.8,\\\"#7fbc41\\\"],[0.9,\\\"#4d9221\\\"],[1,\\\"#276419\\\"]],\\\"sequentialminus\\\":[[0.0,\\\"#0d0887\\\"],[0.1111111111111111,\\\"#46039f\\\"],[0.2222222222222222,\\\"#7201a8\\\"],[0.3333333333333333,\\\"#9c179e\\\"],[0.4444444444444444,\\\"#bd3786\\\"],[0.5555555555555556,\\\"#d8576b\\\"],[0.6666666666666666,\\\"#ed7953\\\"],[0.7777777777777778,\\\"#fb9f3a\\\"],[0.8888888888888888,\\\"#fdca26\\\"],[1.0,\\\"#f0f921\\\"]]},\\\"yaxis\\\":{\\\"gridcolor\\\":\\\"white\\\",\\\"zerolinewidth\\\":2,\\\"title\\\":{\\\"standoff\\\":15},\\\"ticks\\\":\\\"\\\",\\\"zerolinecolor\\\":\\\"white\\\",\\\"automargin\\\":true,\\\"linecolor\\\":\\\"white\\\"},\\\"shapedefaults\\\":{\\\"line\\\":{\\\"color\\\":\\\"#2a3f5f\\\"}},\\\"hoverlabel\\\":{\\\"align\\\":\\\"left\\\"},\\\"mapbox\\\":{\\\"style\\\":\\\"light\\\"},\\\"polar\\\":{\\\"angularaxis\\\":{\\\"gridcolor\\\":\\\"white\\\",\\\"ticks\\\":\\\"\\\",\\\"linecolor\\\":\\\"white\\\"},\\\"bgcolor\\\":\\\"#E5ECF6\\\",\\\"radialaxis\\\":{\\\"gridcolor\\\":\\\"white\\\",\\\"ticks\\\":\\\"\\\",\\\"linecolor\\\":\\\"white\\\"}},\\\"autotypenumbers\\\":\\\"strict\\\",\\\"font\\\":{\\\"color\\\":\\\"#2a3f5f\\\"},\\\"ternary\\\":{\\\"baxis\\\":{\\\"gridcolor\\\":\\\"white\\\",\\\"ticks\\\":\\\"\\\",\\\"linecolor\\\":\\\"white\\\"},\\\"bgcolor\\\":\\\"#E5ECF6\\\",\\\"caxis\\\":{\\\"gridcolor\\\":\\\"white\\\",\\\"ticks\\\":\\\"\\\",\\\"linecolor\\\":\\\"white\\\"},\\\"aaxis\\\":{\\\"gridcolor\\\":\\\"white\\\",\\\"ticks\\\":\\\"\\\",\\\"linecolor\\\":\\\"white\\\"}},\\\"annotationdefaults\\\":{\\\"arrowhead\\\":0,\\\"arrowwidth\\\":1,\\\"arrowcolor\\\":\\\"#2a3f5f\\\"},\\\"plot_bgcolor\\\":\\\"#E5ECF6\\\",\\\"title\\\":{\\\"x\\\":0.05},\\\"scene\\\":{\\\"xaxis\\\":{\\\"gridcolor\\\":\\\"white\\\",\\\"gridwidth\\\":2,\\\"backgroundcolor\\\":\\\"#E5ECF6\\\",\\\"ticks\\\":\\\"\\\",\\\"showbackground\\\":true,\\\"zerolinecolor\\\":\\\"white\\\",\\\"linecolor\\\":\\\"white\\\"},\\\"zaxis\\\":{\\\"gridcolor\\\":\\\"white\\\",\\\"gridwidth\\\":2,\\\"backgroundcolor\\\":\\\"#E5ECF6\\\",\\\"ticks\\\":\\\"\\\",\\\"showbackground\\\":true,\\\"zerolinecolor\\\":\\\"white\\\",\\\"linecolor\\\":\\\"white\\\"},\\\"yaxis\\\":{\\\"gridcolor\\\":\\\"white\\\",\\\"gridwidth\\\":2,\\\"backgroundcolor\\\":\\\"#E5ECF6\\\",\\\"ticks\\\":\\\"\\\",\\\"showbackground\\\":true,\\\"zerolinecolor\\\":\\\"white\\\",\\\"linecolor\\\":\\\"white\\\"}},\\\"colorway\\\":[\\\"#636efa\\\",\\\"#EF553B\\\",\\\"#00cc96\\\",\\\"#ab63fa\\\",\\\"#FFA15A\\\",\\\"#19d3f3\\\",\\\"#FF6692\\\",\\\"#B6E880\\\",\\\"#FF97FF\\\",\\\"#FECB52\\\"]},\\\"data\\\":{\\\"barpolar\\\":[{\\\"type\\\":\\\"barpolar\\\",\\\"marker\\\":{\\\"line\\\":{\\\"color\\\":\\\"#E5ECF6\\\",\\\"width\\\":0.5}}}],\\\"carpet\\\":[{\\\"aaxis\\\":{\\\"gridcolor\\\":\\\"white\\\",\\\"endlinecolor\\\":\\\"#2a3f5f\\\",\\\"minorgridcolor\\\":\\\"white\\\",\\\"startlinecolor\\\":\\\"#2a3f5f\\\",\\\"linecolor\\\":\\\"white\\\"},\\\"type\\\":\\\"carpet\\\",\\\"baxis\\\":{\\\"gridcolor\\\":\\\"white\\\",\\\"endlinecolor\\\":\\\"#2a3f5f\\\",\\\"minorgridcolor\\\":\\\"white\\\",\\\"startlinecolor\\\":\\\"#2a3f5f\\\",\\\"linecolor\\\":\\\"white\\\"}}],\\\"scatterpolar\\\":[{\\\"type\\\":\\\"scatterpolar\\\",\\\"marker\\\":{\\\"colorbar\\\":{\\\"ticks\\\":\\\"\\\",\\\"outlinewidth\\\":0}}}],\\\"parcoords\\\":[{\\\"line\\\":{\\\"colorbar\\\":{\\\"ticks\\\":\\\"\\\",\\\"outlinewidth\\\":0}},\\\"type\\\":\\\"parcoords\\\"}],\\\"scatter\\\":[{\\\"type\\\":\\\"scatter\\\",\\\"marker\\\":{\\\"colorbar\\\":{\\\"ticks\\\":\\\"\\\",\\\"outlinewidth\\\":0}}}],\\\"histogram2dcontour\\\":[{\\\"colorbar\\\":{\\\"ticks\\\":\\\"\\\",\\\"outlinewidth\\\":0},\\\"type\\\":\\\"histogram2dcontour\\\",\\\"colorscale\\\":[[0.0,\\\"#0d0887\\\"],[0.1111111111111111,\\\"#46039f\\\"],[0.2222222222222222,\\\"#7201a8\\\"],[0.3333333333333333,\\\"#9c179e\\\"],[0.4444444444444444,\\\"#bd3786\\\"],[0.5555555555555556,\\\"#d8576b\\\"],[0.6666666666666666,\\\"#ed7953\\\"],[0.7777777777777778,\\\"#fb9f3a\\\"],[0.8888888888888888,\\\"#fdca26\\\"],[1.0,\\\"#f0f921\\\"]]}],\\\"contour\\\":[{\\\"colorbar\\\":{\\\"ticks\\\":\\\"\\\",\\\"outlinewidth\\\":0},\\\"type\\\":\\\"contour\\\",\\\"colorscale\\\":[[0.0,\\\"#0d0887\\\"],[0.1111111111111111,\\\"#46039f\\\"],[0.2222222222222222,\\\"#7201a8\\\"],[0.3333333333333333,\\\"#9c179e\\\"],[0.4444444444444444,\\\"#bd3786\\\"],[0.5555555555555556,\\\"#d8576b\\\"],[0.6666666666666666,\\\"#ed7953\\\"],[0.7777777777777778,\\\"#fb9f3a\\\"],[0.8888888888888888,\\\"#fdca26\\\"],[1.0,\\\"#f0f921\\\"]]}],\\\"scattercarpet\\\":[{\\\"type\\\":\\\"scattercarpet\\\",\\\"marker\\\":{\\\"colorbar\\\":{\\\"ticks\\\":\\\"\\\",\\\"outlinewidth\\\":0}}}],\\\"mesh3d\\\":[{\\\"colorbar\\\":{\\\"ticks\\\":\\\"\\\",\\\"outlinewidth\\\":0},\\\"type\\\":\\\"mesh3d\\\"}],\\\"surface\\\":[{\\\"colorbar\\\":{\\\"ticks\\\":\\\"\\\",\\\"outlinewidth\\\":0},\\\"type\\\":\\\"surface\\\",\\\"colorscale\\\":[[0.0,\\\"#0d0887\\\"],[0.1111111111111111,\\\"#46039f\\\"],[0.2222222222222222,\\\"#7201a8\\\"],[0.3333333333333333,\\\"#9c179e\\\"],[0.4444444444444444,\\\"#bd3786\\\"],[0.5555555555555556,\\\"#d8576b\\\"],[0.6666666666666666,\\\"#ed7953\\\"],[0.7777777777777778,\\\"#fb9f3a\\\"],[0.8888888888888888,\\\"#fdca26\\\"],[1.0,\\\"#f0f921\\\"]]}],\\\"scattermapbox\\\":[{\\\"type\\\":\\\"scattermapbox\\\",\\\"marker\\\":{\\\"colorbar\\\":{\\\"ticks\\\":\\\"\\\",\\\"outlinewidth\\\":0}}}],\\\"scattergeo\\\":[{\\\"type\\\":\\\"scattergeo\\\",\\\"marker\\\":{\\\"colorbar\\\":{\\\"ticks\\\":\\\"\\\",\\\"outlinewidth\\\":0}}}],\\\"histogram\\\":[{\\\"type\\\":\\\"histogram\\\",\\\"marker\\\":{\\\"colorbar\\\":{\\\"ticks\\\":\\\"\\\",\\\"outlinewidth\\\":0}}}],\\\"pie\\\":[{\\\"type\\\":\\\"pie\\\",\\\"automargin\\\":true}],\\\"choropleth\\\":[{\\\"colorbar\\\":{\\\"ticks\\\":\\\"\\\",\\\"outlinewidth\\\":0},\\\"type\\\":\\\"choropleth\\\"}],\\\"heatmapgl\\\":[{\\\"colorbar\\\":{\\\"ticks\\\":\\\"\\\",\\\"outlinewidth\\\":0},\\\"type\\\":\\\"heatmapgl\\\",\\\"colorscale\\\":[[0.0,\\\"#0d0887\\\"],[0.1111111111111111,\\\"#46039f\\\"],[0.2222222222222222,\\\"#7201a8\\\"],[0.3333333333333333,\\\"#9c179e\\\"],[0.4444444444444444,\\\"#bd3786\\\"],[0.5555555555555556,\\\"#d8576b\\\"],[0.6666666666666666,\\\"#ed7953\\\"],[0.7777777777777778,\\\"#fb9f3a\\\"],[0.8888888888888888,\\\"#fdca26\\\"],[1.0,\\\"#f0f921\\\"]]}],\\\"bar\\\":[{\\\"type\\\":\\\"bar\\\",\\\"error_y\\\":{\\\"color\\\":\\\"#2a3f5f\\\"},\\\"error_x\\\":{\\\"color\\\":\\\"#2a3f5f\\\"},\\\"marker\\\":{\\\"line\\\":{\\\"color\\\":\\\"#E5ECF6\\\",\\\"width\\\":0.5}}}],\\\"heatmap\\\":[{\\\"colorbar\\\":{\\\"ticks\\\":\\\"\\\",\\\"outlinewidth\\\":0},\\\"type\\\":\\\"heatmap\\\",\\\"colorscale\\\":[[0.0,\\\"#0d0887\\\"],[0.1111111111111111,\\\"#46039f\\\"],[0.2222222222222222,\\\"#7201a8\\\"],[0.3333333333333333,\\\"#9c179e\\\"],[0.4444444444444444,\\\"#bd3786\\\"],[0.5555555555555556,\\\"#d8576b\\\"],[0.6666666666666666,\\\"#ed7953\\\"],[0.7777777777777778,\\\"#fb9f3a\\\"],[0.8888888888888888,\\\"#fdca26\\\"],[1.0,\\\"#f0f921\\\"]]}],\\\"contourcarpet\\\":[{\\\"colorbar\\\":{\\\"ticks\\\":\\\"\\\",\\\"outlinewidth\\\":0},\\\"type\\\":\\\"contourcarpet\\\"}],\\\"table\\\":[{\\\"type\\\":\\\"table\\\",\\\"header\\\":{\\\"line\\\":{\\\"color\\\":\\\"white\\\"},\\\"fill\\\":{\\\"color\\\":\\\"#C8D4E3\\\"}},\\\"cells\\\":{\\\"line\\\":{\\\"color\\\":\\\"white\\\"},\\\"fill\\\":{\\\"color\\\":\\\"#EBF0F8\\\"}}}],\\\"scatter3d\\\":[{\\\"line\\\":{\\\"colorbar\\\":{\\\"ticks\\\":\\\"\\\",\\\"outlinewidth\\\":0}},\\\"type\\\":\\\"scatter3d\\\",\\\"marker\\\":{\\\"colorbar\\\":{\\\"ticks\\\":\\\"\\\",\\\"outlinewidth\\\":0}}}],\\\"scattergl\\\":[{\\\"type\\\":\\\"scattergl\\\",\\\"marker\\\":{\\\"colorbar\\\":{\\\"ticks\\\":\\\"\\\",\\\"outlinewidth\\\":0}}}],\\\"histogram2d\\\":[{\\\"colorbar\\\":{\\\"ticks\\\":\\\"\\\",\\\"outlinewidth\\\":0},\\\"type\\\":\\\"histogram2d\\\",\\\"colorscale\\\":[[0.0,\\\"#0d0887\\\"],[0.1111111111111111,\\\"#46039f\\\"],[0.2222222222222222,\\\"#7201a8\\\"],[0.3333333333333333,\\\"#9c179e\\\"],[0.4444444444444444,\\\"#bd3786\\\"],[0.5555555555555556,\\\"#d8576b\\\"],[0.6666666666666666,\\\"#ed7953\\\"],[0.7777777777777778,\\\"#fb9f3a\\\"],[0.8888888888888888,\\\"#fdca26\\\"],[1.0,\\\"#f0f921\\\"]]}],\\\"scatterternary\\\":[{\\\"type\\\":\\\"scatterternary\\\",\\\"marker\\\":{\\\"colorbar\\\":{\\\"ticks\\\":\\\"\\\",\\\"outlinewidth\\\":0}}}],\\\"scatterpolargl\\\":[{\\\"type\\\":\\\"scatterpolargl\\\",\\\"marker\\\":{\\\"colorbar\\\":{\\\"ticks\\\":\\\"\\\",\\\"outlinewidth\\\":0}}}]}},\\\"margin\\\":{\\\"l\\\":50,\\\"b\\\":50,\\\"r\\\":50,\\\"t\\\":60},\\\"title\\\":\\\"Zużycie wody przy uzupełnianiu tłuszczy danym produktem przez 100 dni\\\",\\\"yaxis\\\":{\\\"title\\\":\\\"Zużyta woda[m³]\\\"}},{\\\"showLink\\\":false,\\\"editable\\\":false,\\\"responsive\\\":true,\\\"staticPlot\\\":false,\\\"scrollZoom\\\":true}); gd.on(\\\"plotly_hover\\\",(function (data){var filtered_data=WebIO.PlotlyCommands.filterEventData(gd,data,\\\"hover\\\"); return !(filtered_data.isnil) ? (WebIO.setval({\\\"name\\\":\\\"hover\\\",\\\"scope\\\":\\\"13639759673633479029\\\",\\\"id\\\":\\\"16921655149892398648\\\",\\\"type\\\":\\\"observable\\\"},filtered_data.out)) : undefined})); gd.on(\\\"plotly_unhover\\\",(function (){return WebIO.setval({\\\"name\\\":\\\"hover\\\",\\\"scope\\\":\\\"13639759673633479029\\\",\\\"id\\\":\\\"16921655149892398648\\\",\\\"type\\\":\\\"observable\\\"},{})})); gd.on(\\\"plotly_selected\\\",(function (data){var filtered_data=WebIO.PlotlyCommands.filterEventData(gd,data,\\\"selected\\\"); return !(filtered_data.isnil) ? (WebIO.setval({\\\"name\\\":\\\"selected\\\",\\\"scope\\\":\\\"13639759673633479029\\\",\\\"id\\\":\\\"12779188733903957437\\\",\\\"type\\\":\\\"observable\\\"},filtered_data.out)) : undefined})); gd.on(\\\"plotly_deselect\\\",(function (){return WebIO.setval({\\\"name\\\":\\\"selected\\\",\\\"scope\\\":\\\"13639759673633479029\\\",\\\"id\\\":\\\"12779188733903957437\\\",\\\"type\\\":\\\"observable\\\"},{})})); gd.on(\\\"plotly_relayout\\\",(function (data){var filtered_data=WebIO.PlotlyCommands.filterEventData(gd,data,\\\"relayout\\\"); return !(filtered_data.isnil) ? (WebIO.setval({\\\"name\\\":\\\"relayout\\\",\\\"scope\\\":\\\"13639759673633479029\\\",\\\"id\\\":\\\"4866374756991300640\\\",\\\"type\\\":\\\"observable\\\"},filtered_data.out)) : undefined})); return gd.on(\\\"plotly_click\\\",(function (data){var filtered_data=WebIO.PlotlyCommands.filterEventData(gd,data,\\\"click\\\"); return !(filtered_data.isnil) ? (WebIO.setval({\\\"name\\\":\\\"click\\\",\\\"scope\\\":\\\"13639759673633479029\\\",\\\"id\\\":\\\"3575541662930241532\\\",\\\"type\\\":\\\"observable\\\"},filtered_data.out)) : undefined}))}));\\n    (WebIO.importBlock({\\\"data\\\":[{\\\"name\\\":\\\"Plotly\\\",\\\"type\\\":\\\"js\\\",\\\"url\\\":\\\"\\/assetserver\\/7dc425d3d9acdbb7fba54ce8841409ff1fd2b16c-plotly.min.js\\\"},{\\\"name\\\":null,\\\"type\\\":\\\"js\\\",\\\"url\\\":\\\"\\/assetserver\\/bdef9d06b2ff8f6ff9f383d24c2633cfc4dfc0cb-plotly_webio.bundle.js\\\"}],\\\"type\\\":\\\"async_block\\\"})).then((imports) => handler.apply(this, imports));\\n}\\n\"],\"observables\":{\"_toImage\":{\"sync\":false,\"id\":\"12617642704449845077\",\"value\":{}},\"hover\":{\"sync\":false,\"id\":\"16921655149892398648\",\"value\":{}},\"selected\":{\"sync\":false,\"id\":\"12779188733903957437\",\"value\":{}},\"__gd_contents\":{\"sync\":false,\"id\":\"4276849094003532621\",\"value\":{}},\"click\":{\"sync\":false,\"id\":\"3575541662930241532\",\"value\":{}},\"image\":{\"sync\":true,\"id\":\"12631101903601182349\",\"value\":\"\"},\"__get_gd_contents\":{\"sync\":false,\"id\":\"10731223984766747284\",\"value\":\"\"},\"_downloadImage\":{\"sync\":false,\"id\":\"16505519449176103594\",\"value\":{}},\"relayout\":{\"sync\":false,\"id\":\"4866374756991300640\",\"value\":{}},\"_commands\":{\"sync\":false,\"id\":\"4184272147636912893\",\"value\":[]}}},\"children\":[{\"props\":{\"id\":\"plot-3d0ec01f-0624-414a-8612-6cf4305fae16\"},\"nodeType\":\"DOM\",\"type\":\"node\",\"instanceArgs\":{\"namespace\":\"html\",\"tag\":\"div\"},\"children\":[]}]},\n",
       "        window,\n",
       "    );\n",
       "    })()\n",
       "    </script>\n",
       "</div>\n"
      ],
      "text/plain": [
       "data: [\n",
       "  \"bar with fields marker, name, text, type, x, and y\",\n",
       "  \"bar with fields marker, name, text, type, x, and y\"\n",
       "]\n",
       "\n",
       "layout: \"layout with fields margin, template, title, and yaxis\"\n",
       "\n"
      ]
     },
     "execution_count": 13,
     "metadata": {},
     "output_type": "execute_result"
    }
   ],
   "source": [
    "#ograniczamy produkty bezmięsne 3 produktem mięsnym o najmniejszym zużyciu wody\n",
    "ograniczenie_tluszcze = sort(mieso_df,order(:zuzycie_wody_na_100_g, rev=true))[3,2]\n",
    "#wyniki_tluszcze = top_tluszcze[top_tluszcze.zuzycie_wody_na_100_g .< ograniczenie_tluszcze,:]   # z olejami\n",
    "wyniki_tluszcze = top_tluszcze[(top_tluszcze.zuzycie_wody_na_100_g .< ograniczenie_tluszcze) .& (top_tluszcze.Tluszcze .< 90),:]\n",
    "\n",
    "przedzial = 1:15\n",
    "\n",
    "tluszcze_100_dni = [(wyniki_tluszcze[i,1],string(round((780/wyniki_tluszcze[i,3])*wyniki_tluszcze[i,5],digits=2))*\"g\" ,(wyniki_tluszcze[i,2]*(780/wyniki_tluszcze[1,3]))) for i in przedzial ]\n",
    "sort!(tluszcze_100_dni, by=last, rev=true)\n",
    "\n",
    "trace2 = bar(;\n",
    "    x = [tluszcze_100_dni[i][1] for i in przedzial],\n",
    "    y = [tluszcze_100_dni[i][3] for i in przedzial],\n",
    "    text = [tluszcze_100_dni[i][2] for i in przedzial],\n",
    "    name = \"Wege\",\n",
    "    marker_color = \"blue\",\n",
    "    )\n",
    "\n",
    "# trace2 = bar(;\n",
    "#     x = [tluszcze_100_dni[i][1] for i in przedzial],\n",
    "#     y = [tluszcze_100_dni[i][3] for i in przedzial],\n",
    "#     text = [tluszcze_100_dni[i][2] for i in przedzial],\n",
    "#     name = \"Wege\",\n",
    "#     marker_color = \"blue\",\n",
    "#     )\n",
    "\n",
    "trace1 = bar(;\n",
    "    x = [mieso_df[i,1] for i in 1:5],\n",
    "    y = [mieso_df[i,2]*(780/mieso_df[1,3]) for i in 1:5],\n",
    "    text = [string(round((780/mieso_df[i,3])*mieso_df[i,5],digits=2))*\"g\"  for i in 1:5],\n",
    "    name = \"Mięso\",\n",
    "    marker_color = \"red\",\n",
    "    )\n",
    "\n",
    "layout = Layout(;\n",
    "    title=\"Zużycie wody przy uzupełnianiu tłuszczy danym produktem przez 100 dni\",\n",
    "    yaxis = attr(\n",
    "        title=\"Zużyta woda[m³]\"\n",
    "    ))\n",
    "plot([trace1,trace2],layout)\n",
    "# plot(trace2,layout)\n"
   ]
  },
  {
   "cell_type": "code",
   "execution_count": 14,
   "id": "b378fa01",
   "metadata": {},
   "outputs": [
    {
     "data": {
      "application/vnd.plotly.v1+json": {
       "config": {
        "editable": false,
        "responsive": true,
        "scrollZoom": true,
        "showLink": false,
        "staticPlot": false
       },
       "data": [
        {
         "marker": {
          "color": "blue",
          "size": 8
         },
         "mode": "markers",
         "name": "Wege",
         "text": [
          "Garlic powder",
          "Sugar, raw (beet)",
          "Sugar, raw (cane)",
          "Pumpkins",
          "Kiwi fruit",
          "Cassava flour",
          "Pineapples",
          "Potato flakes",
          "Rice flour",
          "Potato starch",
          "Rice, paddy",
          "Ginger",
          "Currants",
          "Dates",
          "Pasta, dry",
          "Maize",
          "Maize flour",
          "Rye flour",
          "Cranberries",
          "Sorghum",
          "Buckwheat",
          "Oats",
          "Cardamoms",
          "Taro",
          "Onions, dry",
          "Pears",
          "Wheat flour",
          "Rice, broken",
          "Apples, dried",
          "Cloves",
          "Figs",
          "Wheat bran",
          "Plantains",
          "Apricots",
          "Peaches",
          "Cane molasses",
          "Beans, dry",
          "Lentils",
          "Tomato, dried",
          "Coriander"
         ],
         "type": "scatter",
         "x": [
          226.5,
          86.5,
          166.6,
          33.6,
          51.4,
          187.8,
          25.5,
          104.4,
          262.8,
          151.2,
          167.3,
          165.7,
          49.9,
          227.7,
          184.9,
          122.2,
          125.3,
          193,
          27.6,
          304.8,
          314.2,
          241.6,
          3431.9,
          60.6,
          34.5,
          92.2,
          184.9,
          249.7,
          684.7,
          6120.5,
          335,
          203.6,
          160.2,
          128.7,
          91,
          52.7,
          505.3,
          587.4,
          427.6,
          828
         ],
         "y": [
          100,
          100,
          100,
          94.87,
          92,
          88.57,
          87.5,
          81.17,
          80.77,
          80,
          77.78,
          75,
          75,
          75,
          74.67,
          73.89,
          73.89,
          73.33,
          72.5,
          72.09,
          71.5,
          68.65755,
          68.47,
          68.1,
          67.64,
          67.5,
          66.67,
          66.67,
          65.9,
          65.53,
          65,
          64.5,
          63.8,
          62.5,
          62.5,
          61.9,
          60,
          59.38,
          55.8,
          54.99
         ]
        },
        {
         "marker": {
          "color": "red",
          "size": 8
         },
         "mode": "markers",
         "name": "Mięso",
         "text": [
          "Beef",
          "Lamb",
          "Pork",
          "Goat meat",
          "Chicken meat"
         ],
         "type": "scatter",
         "x": [
          1541.5,
          1041.2,
          598.8,
          552.1,
          432.5
         ],
         "y": [
          0,
          0,
          1.18,
          0,
          0
         ]
        }
       ],
       "frames": [],
       "layout": {
        "margin": {
         "b": 50,
         "l": 50,
         "r": 50,
         "t": 60
        },
        "paper_bgcolor": "rgb(254, 247, 234)",
        "plot_bgcolor": "rgb(254, 247, 234)",
        "template": {
         "data": {
          "bar": [
           {
            "error_x": {
             "color": "#2a3f5f"
            },
            "error_y": {
             "color": "#2a3f5f"
            },
            "marker": {
             "line": {
              "color": "#E5ECF6",
              "width": 0.5
             }
            },
            "type": "bar"
           }
          ],
          "barpolar": [
           {
            "marker": {
             "line": {
              "color": "#E5ECF6",
              "width": 0.5
             }
            },
            "type": "barpolar"
           }
          ],
          "carpet": [
           {
            "aaxis": {
             "endlinecolor": "#2a3f5f",
             "gridcolor": "white",
             "linecolor": "white",
             "minorgridcolor": "white",
             "startlinecolor": "#2a3f5f"
            },
            "baxis": {
             "endlinecolor": "#2a3f5f",
             "gridcolor": "white",
             "linecolor": "white",
             "minorgridcolor": "white",
             "startlinecolor": "#2a3f5f"
            },
            "type": "carpet"
           }
          ],
          "choropleth": [
           {
            "colorbar": {
             "outlinewidth": 0,
             "ticks": ""
            },
            "type": "choropleth"
           }
          ],
          "contour": [
           {
            "colorbar": {
             "outlinewidth": 0,
             "ticks": ""
            },
            "colorscale": [
             [
              0,
              "#0d0887"
             ],
             [
              0.1111111111111111,
              "#46039f"
             ],
             [
              0.2222222222222222,
              "#7201a8"
             ],
             [
              0.3333333333333333,
              "#9c179e"
             ],
             [
              0.4444444444444444,
              "#bd3786"
             ],
             [
              0.5555555555555556,
              "#d8576b"
             ],
             [
              0.6666666666666666,
              "#ed7953"
             ],
             [
              0.7777777777777778,
              "#fb9f3a"
             ],
             [
              0.8888888888888888,
              "#fdca26"
             ],
             [
              1,
              "#f0f921"
             ]
            ],
            "type": "contour"
           }
          ],
          "contourcarpet": [
           {
            "colorbar": {
             "outlinewidth": 0,
             "ticks": ""
            },
            "type": "contourcarpet"
           }
          ],
          "heatmap": [
           {
            "colorbar": {
             "outlinewidth": 0,
             "ticks": ""
            },
            "colorscale": [
             [
              0,
              "#0d0887"
             ],
             [
              0.1111111111111111,
              "#46039f"
             ],
             [
              0.2222222222222222,
              "#7201a8"
             ],
             [
              0.3333333333333333,
              "#9c179e"
             ],
             [
              0.4444444444444444,
              "#bd3786"
             ],
             [
              0.5555555555555556,
              "#d8576b"
             ],
             [
              0.6666666666666666,
              "#ed7953"
             ],
             [
              0.7777777777777778,
              "#fb9f3a"
             ],
             [
              0.8888888888888888,
              "#fdca26"
             ],
             [
              1,
              "#f0f921"
             ]
            ],
            "type": "heatmap"
           }
          ],
          "heatmapgl": [
           {
            "colorbar": {
             "outlinewidth": 0,
             "ticks": ""
            },
            "colorscale": [
             [
              0,
              "#0d0887"
             ],
             [
              0.1111111111111111,
              "#46039f"
             ],
             [
              0.2222222222222222,
              "#7201a8"
             ],
             [
              0.3333333333333333,
              "#9c179e"
             ],
             [
              0.4444444444444444,
              "#bd3786"
             ],
             [
              0.5555555555555556,
              "#d8576b"
             ],
             [
              0.6666666666666666,
              "#ed7953"
             ],
             [
              0.7777777777777778,
              "#fb9f3a"
             ],
             [
              0.8888888888888888,
              "#fdca26"
             ],
             [
              1,
              "#f0f921"
             ]
            ],
            "type": "heatmapgl"
           }
          ],
          "histogram": [
           {
            "marker": {
             "colorbar": {
              "outlinewidth": 0,
              "ticks": ""
             }
            },
            "type": "histogram"
           }
          ],
          "histogram2d": [
           {
            "colorbar": {
             "outlinewidth": 0,
             "ticks": ""
            },
            "colorscale": [
             [
              0,
              "#0d0887"
             ],
             [
              0.1111111111111111,
              "#46039f"
             ],
             [
              0.2222222222222222,
              "#7201a8"
             ],
             [
              0.3333333333333333,
              "#9c179e"
             ],
             [
              0.4444444444444444,
              "#bd3786"
             ],
             [
              0.5555555555555556,
              "#d8576b"
             ],
             [
              0.6666666666666666,
              "#ed7953"
             ],
             [
              0.7777777777777778,
              "#fb9f3a"
             ],
             [
              0.8888888888888888,
              "#fdca26"
             ],
             [
              1,
              "#f0f921"
             ]
            ],
            "type": "histogram2d"
           }
          ],
          "histogram2dcontour": [
           {
            "colorbar": {
             "outlinewidth": 0,
             "ticks": ""
            },
            "colorscale": [
             [
              0,
              "#0d0887"
             ],
             [
              0.1111111111111111,
              "#46039f"
             ],
             [
              0.2222222222222222,
              "#7201a8"
             ],
             [
              0.3333333333333333,
              "#9c179e"
             ],
             [
              0.4444444444444444,
              "#bd3786"
             ],
             [
              0.5555555555555556,
              "#d8576b"
             ],
             [
              0.6666666666666666,
              "#ed7953"
             ],
             [
              0.7777777777777778,
              "#fb9f3a"
             ],
             [
              0.8888888888888888,
              "#fdca26"
             ],
             [
              1,
              "#f0f921"
             ]
            ],
            "type": "histogram2dcontour"
           }
          ],
          "mesh3d": [
           {
            "colorbar": {
             "outlinewidth": 0,
             "ticks": ""
            },
            "type": "mesh3d"
           }
          ],
          "parcoords": [
           {
            "line": {
             "colorbar": {
              "outlinewidth": 0,
              "ticks": ""
             }
            },
            "type": "parcoords"
           }
          ],
          "pie": [
           {
            "automargin": true,
            "type": "pie"
           }
          ],
          "scatter": [
           {
            "marker": {
             "colorbar": {
              "outlinewidth": 0,
              "ticks": ""
             }
            },
            "type": "scatter"
           }
          ],
          "scatter3d": [
           {
            "line": {
             "colorbar": {
              "outlinewidth": 0,
              "ticks": ""
             }
            },
            "marker": {
             "colorbar": {
              "outlinewidth": 0,
              "ticks": ""
             }
            },
            "type": "scatter3d"
           }
          ],
          "scattercarpet": [
           {
            "marker": {
             "colorbar": {
              "outlinewidth": 0,
              "ticks": ""
             }
            },
            "type": "scattercarpet"
           }
          ],
          "scattergeo": [
           {
            "marker": {
             "colorbar": {
              "outlinewidth": 0,
              "ticks": ""
             }
            },
            "type": "scattergeo"
           }
          ],
          "scattergl": [
           {
            "marker": {
             "colorbar": {
              "outlinewidth": 0,
              "ticks": ""
             }
            },
            "type": "scattergl"
           }
          ],
          "scattermapbox": [
           {
            "marker": {
             "colorbar": {
              "outlinewidth": 0,
              "ticks": ""
             }
            },
            "type": "scattermapbox"
           }
          ],
          "scatterpolar": [
           {
            "marker": {
             "colorbar": {
              "outlinewidth": 0,
              "ticks": ""
             }
            },
            "type": "scatterpolar"
           }
          ],
          "scatterpolargl": [
           {
            "marker": {
             "colorbar": {
              "outlinewidth": 0,
              "ticks": ""
             }
            },
            "type": "scatterpolargl"
           }
          ],
          "scatterternary": [
           {
            "marker": {
             "colorbar": {
              "outlinewidth": 0,
              "ticks": ""
             }
            },
            "type": "scatterternary"
           }
          ],
          "surface": [
           {
            "colorbar": {
             "outlinewidth": 0,
             "ticks": ""
            },
            "colorscale": [
             [
              0,
              "#0d0887"
             ],
             [
              0.1111111111111111,
              "#46039f"
             ],
             [
              0.2222222222222222,
              "#7201a8"
             ],
             [
              0.3333333333333333,
              "#9c179e"
             ],
             [
              0.4444444444444444,
              "#bd3786"
             ],
             [
              0.5555555555555556,
              "#d8576b"
             ],
             [
              0.6666666666666666,
              "#ed7953"
             ],
             [
              0.7777777777777778,
              "#fb9f3a"
             ],
             [
              0.8888888888888888,
              "#fdca26"
             ],
             [
              1,
              "#f0f921"
             ]
            ],
            "type": "surface"
           }
          ],
          "table": [
           {
            "cells": {
             "fill": {
              "color": "#EBF0F8"
             },
             "line": {
              "color": "white"
             }
            },
            "header": {
             "fill": {
              "color": "#C8D4E3"
             },
             "line": {
              "color": "white"
             }
            },
            "type": "table"
           }
          ]
         },
         "layout": {
          "annotationdefaults": {
           "arrowcolor": "#2a3f5f",
           "arrowhead": 0,
           "arrowwidth": 1
          },
          "autotypenumbers": "strict",
          "coloraxis": {
           "colorbar": {
            "outlinewidth": 0,
            "ticks": ""
           }
          },
          "colorscale": {
           "diverging": [
            [
             0,
             "#8e0152"
            ],
            [
             0.1,
             "#c51b7d"
            ],
            [
             0.2,
             "#de77ae"
            ],
            [
             0.3,
             "#f1b6da"
            ],
            [
             0.4,
             "#fde0ef"
            ],
            [
             0.5,
             "#f7f7f7"
            ],
            [
             0.6,
             "#e6f5d0"
            ],
            [
             0.7,
             "#b8e186"
            ],
            [
             0.8,
             "#7fbc41"
            ],
            [
             0.9,
             "#4d9221"
            ],
            [
             1,
             "#276419"
            ]
           ],
           "sequential": [
            [
             0,
             "#0d0887"
            ],
            [
             0.1111111111111111,
             "#46039f"
            ],
            [
             0.2222222222222222,
             "#7201a8"
            ],
            [
             0.3333333333333333,
             "#9c179e"
            ],
            [
             0.4444444444444444,
             "#bd3786"
            ],
            [
             0.5555555555555556,
             "#d8576b"
            ],
            [
             0.6666666666666666,
             "#ed7953"
            ],
            [
             0.7777777777777778,
             "#fb9f3a"
            ],
            [
             0.8888888888888888,
             "#fdca26"
            ],
            [
             1,
             "#f0f921"
            ]
           ],
           "sequentialminus": [
            [
             0,
             "#0d0887"
            ],
            [
             0.1111111111111111,
             "#46039f"
            ],
            [
             0.2222222222222222,
             "#7201a8"
            ],
            [
             0.3333333333333333,
             "#9c179e"
            ],
            [
             0.4444444444444444,
             "#bd3786"
            ],
            [
             0.5555555555555556,
             "#d8576b"
            ],
            [
             0.6666666666666666,
             "#ed7953"
            ],
            [
             0.7777777777777778,
             "#fb9f3a"
            ],
            [
             0.8888888888888888,
             "#fdca26"
            ],
            [
             1,
             "#f0f921"
            ]
           ]
          },
          "colorway": [
           "#636efa",
           "#EF553B",
           "#00cc96",
           "#ab63fa",
           "#FFA15A",
           "#19d3f3",
           "#FF6692",
           "#B6E880",
           "#FF97FF",
           "#FECB52"
          ],
          "font": {
           "color": "#2a3f5f"
          },
          "geo": {
           "bgcolor": "white",
           "lakecolor": "white",
           "landcolor": "#E5ECF6",
           "showlakes": true,
           "showland": true,
           "subunitcolor": "white"
          },
          "hoverlabel": {
           "align": "left"
          },
          "hovermode": "closest",
          "mapbox": {
           "style": "light"
          },
          "paper_bgcolor": "white",
          "plot_bgcolor": "#E5ECF6",
          "polar": {
           "angularaxis": {
            "gridcolor": "white",
            "linecolor": "white",
            "ticks": ""
           },
           "bgcolor": "#E5ECF6",
           "radialaxis": {
            "gridcolor": "white",
            "linecolor": "white",
            "ticks": ""
           }
          },
          "scene": {
           "xaxis": {
            "backgroundcolor": "#E5ECF6",
            "gridcolor": "white",
            "gridwidth": 2,
            "linecolor": "white",
            "showbackground": true,
            "ticks": "",
            "zerolinecolor": "white"
           },
           "yaxis": {
            "backgroundcolor": "#E5ECF6",
            "gridcolor": "white",
            "gridwidth": 2,
            "linecolor": "white",
            "showbackground": true,
            "ticks": "",
            "zerolinecolor": "white"
           },
           "zaxis": {
            "backgroundcolor": "#E5ECF6",
            "gridcolor": "white",
            "gridwidth": 2,
            "linecolor": "white",
            "showbackground": true,
            "ticks": "",
            "zerolinecolor": "white"
           }
          },
          "shapedefaults": {
           "line": {
            "color": "#2a3f5f"
           }
          },
          "ternary": {
           "aaxis": {
            "gridcolor": "white",
            "linecolor": "white",
            "ticks": ""
           },
           "baxis": {
            "gridcolor": "white",
            "linecolor": "white",
            "ticks": ""
           },
           "bgcolor": "#E5ECF6",
           "caxis": {
            "gridcolor": "white",
            "linecolor": "white",
            "ticks": ""
           }
          },
          "title": {
           "x": 0.05
          },
          "xaxis": {
           "automargin": true,
           "gridcolor": "white",
           "linecolor": "white",
           "ticks": "",
           "title": {
            "standoff": 15
           },
           "zerolinecolor": "white",
           "zerolinewidth": 2
          },
          "yaxis": {
           "automargin": true,
           "gridcolor": "white",
           "linecolor": "white",
           "ticks": "",
           "title": {
            "standoff": 15
           },
           "zerolinecolor": "white",
           "zerolinewidth": 2
          }
         }
        },
        "title": "Zależność węglowodanów od zużycia wody",
        "xaxis": {
         "gridcolor": "rgb(125,125,125)",
         "linecolor": "rgb(20,20,20)",
         "showgrid": true,
         "showline": true,
         "title": "Ślad wodny",
         "zeroline": true,
         "zerolinecolor": "rgb(0,0,0)"
        },
        "yaxis": {
         "gridcolor": "rgb(125,125,125)",
         "linecolor": "rgb(20,20,20)",
         "showgrid": true,
         "showline": true,
         "title": "Węglowodany",
         "zeroline": true,
         "zerolinecolor": "rgb(0,0,0)"
        }
       }
      },
      "text/html": [
       "<div\n",
       "    class=\"webio-mountpoint\"\n",
       "    data-webio-mountpoint=\"7866124085254864249\"\n",
       ">\n",
       "    <script>\n",
       "    (function(){\n",
       "    // Some integrations (namely, IJulia/Jupyter) use an alternate render pathway than\n",
       "    // just putting the html on the page. If WebIO isn't defined, then it's pretty likely\n",
       "    // that we're in one of those situations and the integration just isn't installed\n",
       "    // correctly.\n",
       "    if (typeof window.WebIO === \"undefined\") {\n",
       "        document\n",
       "            .querySelector('[data-webio-mountpoint=\"7866124085254864249\"]')\n",
       "            .innerHTML = (\n",
       "                '<div style=\"padding: 1em; background-color: #f8d6da; border: 1px solid #f5c6cb; font-weight: bold;\">' +\n",
       "                '<p><strong>WebIO not detected.</strong></p>' +\n",
       "                '<p>Please read ' +\n",
       "                '<a href=\"https://juliagizmos.github.io/WebIO.jl/latest/troubleshooting/not-detected/\" target=\"_blank\">the troubleshooting guide</a> ' +\n",
       "                'for more information on how to resolve this issue.</p>' +\n",
       "                '<p><a href=\"https://juliagizmos.github.io/WebIO.jl/latest/troubleshooting/not-detected/\" target=\"_blank\">https://juliagizmos.github.io/WebIO.jl/latest/troubleshooting/not-detected/</a></p>' +\n",
       "                '</div>'\n",
       "            );\n",
       "        return;\n",
       "    }\n",
       "    WebIO.mount(\n",
       "        document.querySelector('[data-webio-mountpoint=\"7866124085254864249\"]'),\n",
       "        {\"props\":{},\"nodeType\":\"Scope\",\"type\":\"node\",\"instanceArgs\":{\"imports\":{\"data\":[{\"name\":\"Plotly\",\"type\":\"js\",\"url\":\"\\/assetserver\\/7dc425d3d9acdbb7fba54ce8841409ff1fd2b16c-plotly.min.js\"},{\"name\":null,\"type\":\"js\",\"url\":\"\\/assetserver\\/bdef9d06b2ff8f6ff9f383d24c2633cfc4dfc0cb-plotly_webio.bundle.js\"}],\"type\":\"async_block\"},\"id\":\"3369477965490547434\",\"handlers\":{\"_toImage\":[\"(function (options){return this.Plotly.toImage(this.plotElem,options).then((function (data){return WebIO.setval({\\\"name\\\":\\\"image\\\",\\\"scope\\\":\\\"3369477965490547434\\\",\\\"id\\\":\\\"4598258839996805557\\\",\\\"type\\\":\\\"observable\\\"},data)}))})\"],\"__get_gd_contents\":[\"(function (prop){prop==\\\"data\\\" ? (WebIO.setval({\\\"name\\\":\\\"__gd_contents\\\",\\\"scope\\\":\\\"3369477965490547434\\\",\\\"id\\\":\\\"2425195984972588339\\\",\\\"type\\\":\\\"observable\\\"},this.plotElem.data)) : undefined; return prop==\\\"layout\\\" ? (WebIO.setval({\\\"name\\\":\\\"__gd_contents\\\",\\\"scope\\\":\\\"3369477965490547434\\\",\\\"id\\\":\\\"2425195984972588339\\\",\\\"type\\\":\\\"observable\\\"},this.plotElem.layout)) : undefined})\"],\"_downloadImage\":[\"(function (options){return this.Plotly.downloadImage(this.plotElem,options)})\"],\"_commands\":[\"(function (args){var fn=args.shift(); var elem=this.plotElem; var Plotly=this.Plotly; args.unshift(elem); return Plotly[fn].apply(this,args)})\"]},\"systemjs_options\":null,\"mount_callbacks\":[\"function () {\\n    var handler = ((function (Plotly,PlotlyWebIO){PlotlyWebIO.init(WebIO); var gd=this.dom.querySelector(\\\"#plot-b692a190-3005-4060-acab-144dd35c4fac\\\"); this.plotElem=gd; this.Plotly=Plotly; (window.Blink!==undefined) ? (gd.style.width=\\\"100%\\\", gd.style.height=\\\"100vh\\\", gd.style.marginLeft=\\\"0%\\\", gd.style.marginTop=\\\"0vh\\\") : undefined; window.onresize=(function (){return Plotly.Plots.resize(gd)}); Plotly.newPlot(gd,[{\\\"marker\\\":{\\\"color\\\":\\\"blue\\\",\\\"size\\\":8},\\\"mode\\\":\\\"markers\\\",\\\"y\\\":[100.0,100.0,100.0,94.87,92.0,88.57,87.5,81.17,80.77,80.0,77.78,75.0,75.0,75.0,74.67,73.89,73.89,73.33,72.5,72.09,71.5,68.65755,68.47,68.1,67.64,67.5,66.67,66.67,65.9,65.53,65.0,64.5,63.8,62.5,62.5,61.9,60.0,59.38,55.8,54.99],\\\"type\\\":\\\"scatter\\\",\\\"name\\\":\\\"Wege\\\",\\\"text\\\":[\\\"Garlic powder\\\",\\\"Sugar, raw (beet)\\\",\\\"Sugar, raw (cane)\\\",\\\"Pumpkins\\\",\\\"Kiwi fruit\\\",\\\"Cassava flour\\\",\\\"Pineapples\\\",\\\"Potato flakes\\\",\\\"Rice flour\\\",\\\"Potato starch\\\",\\\"Rice, paddy\\\",\\\"Ginger\\\",\\\"Currants\\\",\\\"Dates\\\",\\\"Pasta, dry\\\",\\\"Maize\\\",\\\"Maize flour\\\",\\\"Rye flour\\\",\\\"Cranberries\\\",\\\"Sorghum\\\",\\\"Buckwheat\\\",\\\"Oats\\\",\\\"Cardamoms\\\",\\\"Taro\\\",\\\"Onions, dry\\\",\\\"Pears\\\",\\\"Wheat flour\\\",\\\"Rice, broken\\\",\\\"Apples, dried\\\",\\\"Cloves\\\",\\\"Figs\\\",\\\"Wheat bran\\\",\\\"Plantains\\\",\\\"Apricots\\\",\\\"Peaches\\\",\\\"Cane molasses\\\",\\\"Beans, dry\\\",\\\"Lentils\\\",\\\"Tomato, dried\\\",\\\"Coriander\\\"],\\\"x\\\":[226.5,86.5,166.6,33.6,51.4,187.8,25.5,104.4,262.8,151.2,167.3,165.7,49.9,227.7,184.9,122.2,125.3,193.0,27.6,304.8,314.2,241.6,3431.9,60.6,34.5,92.2,184.9,249.7,684.7,6120.5,335.0,203.6,160.2,128.7,91.0,52.7,505.3,587.4,427.6,828.0]},{\\\"marker\\\":{\\\"color\\\":\\\"red\\\",\\\"size\\\":8},\\\"mode\\\":\\\"markers\\\",\\\"y\\\":[0.0,0.0,1.18,0.0,0.0],\\\"type\\\":\\\"scatter\\\",\\\"name\\\":\\\"Mięso\\\",\\\"text\\\":[\\\"Beef\\\",\\\"Lamb\\\",\\\"Pork\\\",\\\"Goat meat\\\",\\\"Chicken meat\\\"],\\\"x\\\":[1541.5,1041.2,598.8,552.1,432.5]}],{\\\"xaxis\\\":{\\\"showgrid\\\":true,\\\"showline\\\":true,\\\"gridcolor\\\":\\\"rgb(125,125,125)\\\",\\\"zeroline\\\":true,\\\"title\\\":\\\"Ślad wodny\\\",\\\"zerolinecolor\\\":\\\"rgb(0,0,0)\\\",\\\"linecolor\\\":\\\"rgb(20,20,20)\\\"},\\\"paper_bgcolor\\\":\\\"rgb(254, 247, 234)\\\",\\\"template\\\":{\\\"layout\\\":{\\\"coloraxis\\\":{\\\"colorbar\\\":{\\\"ticks\\\":\\\"\\\",\\\"outlinewidth\\\":0}},\\\"xaxis\\\":{\\\"gridcolor\\\":\\\"white\\\",\\\"zerolinewidth\\\":2,\\\"title\\\":{\\\"standoff\\\":15},\\\"ticks\\\":\\\"\\\",\\\"zerolinecolor\\\":\\\"white\\\",\\\"automargin\\\":true,\\\"linecolor\\\":\\\"white\\\"},\\\"hovermode\\\":\\\"closest\\\",\\\"paper_bgcolor\\\":\\\"white\\\",\\\"geo\\\":{\\\"showlakes\\\":true,\\\"showland\\\":true,\\\"landcolor\\\":\\\"#E5ECF6\\\",\\\"bgcolor\\\":\\\"white\\\",\\\"subunitcolor\\\":\\\"white\\\",\\\"lakecolor\\\":\\\"white\\\"},\\\"colorscale\\\":{\\\"sequential\\\":[[0.0,\\\"#0d0887\\\"],[0.1111111111111111,\\\"#46039f\\\"],[0.2222222222222222,\\\"#7201a8\\\"],[0.3333333333333333,\\\"#9c179e\\\"],[0.4444444444444444,\\\"#bd3786\\\"],[0.5555555555555556,\\\"#d8576b\\\"],[0.6666666666666666,\\\"#ed7953\\\"],[0.7777777777777778,\\\"#fb9f3a\\\"],[0.8888888888888888,\\\"#fdca26\\\"],[1.0,\\\"#f0f921\\\"]],\\\"diverging\\\":[[0,\\\"#8e0152\\\"],[0.1,\\\"#c51b7d\\\"],[0.2,\\\"#de77ae\\\"],[0.3,\\\"#f1b6da\\\"],[0.4,\\\"#fde0ef\\\"],[0.5,\\\"#f7f7f7\\\"],[0.6,\\\"#e6f5d0\\\"],[0.7,\\\"#b8e186\\\"],[0.8,\\\"#7fbc41\\\"],[0.9,\\\"#4d9221\\\"],[1,\\\"#276419\\\"]],\\\"sequentialminus\\\":[[0.0,\\\"#0d0887\\\"],[0.1111111111111111,\\\"#46039f\\\"],[0.2222222222222222,\\\"#7201a8\\\"],[0.3333333333333333,\\\"#9c179e\\\"],[0.4444444444444444,\\\"#bd3786\\\"],[0.5555555555555556,\\\"#d8576b\\\"],[0.6666666666666666,\\\"#ed7953\\\"],[0.7777777777777778,\\\"#fb9f3a\\\"],[0.8888888888888888,\\\"#fdca26\\\"],[1.0,\\\"#f0f921\\\"]]},\\\"yaxis\\\":{\\\"gridcolor\\\":\\\"white\\\",\\\"zerolinewidth\\\":2,\\\"title\\\":{\\\"standoff\\\":15},\\\"ticks\\\":\\\"\\\",\\\"zerolinecolor\\\":\\\"white\\\",\\\"automargin\\\":true,\\\"linecolor\\\":\\\"white\\\"},\\\"shapedefaults\\\":{\\\"line\\\":{\\\"color\\\":\\\"#2a3f5f\\\"}},\\\"hoverlabel\\\":{\\\"align\\\":\\\"left\\\"},\\\"mapbox\\\":{\\\"style\\\":\\\"light\\\"},\\\"polar\\\":{\\\"angularaxis\\\":{\\\"gridcolor\\\":\\\"white\\\",\\\"ticks\\\":\\\"\\\",\\\"linecolor\\\":\\\"white\\\"},\\\"bgcolor\\\":\\\"#E5ECF6\\\",\\\"radialaxis\\\":{\\\"gridcolor\\\":\\\"white\\\",\\\"ticks\\\":\\\"\\\",\\\"linecolor\\\":\\\"white\\\"}},\\\"autotypenumbers\\\":\\\"strict\\\",\\\"font\\\":{\\\"color\\\":\\\"#2a3f5f\\\"},\\\"ternary\\\":{\\\"baxis\\\":{\\\"gridcolor\\\":\\\"white\\\",\\\"ticks\\\":\\\"\\\",\\\"linecolor\\\":\\\"white\\\"},\\\"bgcolor\\\":\\\"#E5ECF6\\\",\\\"caxis\\\":{\\\"gridcolor\\\":\\\"white\\\",\\\"ticks\\\":\\\"\\\",\\\"linecolor\\\":\\\"white\\\"},\\\"aaxis\\\":{\\\"gridcolor\\\":\\\"white\\\",\\\"ticks\\\":\\\"\\\",\\\"linecolor\\\":\\\"white\\\"}},\\\"annotationdefaults\\\":{\\\"arrowhead\\\":0,\\\"arrowwidth\\\":1,\\\"arrowcolor\\\":\\\"#2a3f5f\\\"},\\\"plot_bgcolor\\\":\\\"#E5ECF6\\\",\\\"title\\\":{\\\"x\\\":0.05},\\\"scene\\\":{\\\"xaxis\\\":{\\\"gridcolor\\\":\\\"white\\\",\\\"gridwidth\\\":2,\\\"backgroundcolor\\\":\\\"#E5ECF6\\\",\\\"ticks\\\":\\\"\\\",\\\"showbackground\\\":true,\\\"zerolinecolor\\\":\\\"white\\\",\\\"linecolor\\\":\\\"white\\\"},\\\"zaxis\\\":{\\\"gridcolor\\\":\\\"white\\\",\\\"gridwidth\\\":2,\\\"backgroundcolor\\\":\\\"#E5ECF6\\\",\\\"ticks\\\":\\\"\\\",\\\"showbackground\\\":true,\\\"zerolinecolor\\\":\\\"white\\\",\\\"linecolor\\\":\\\"white\\\"},\\\"yaxis\\\":{\\\"gridcolor\\\":\\\"white\\\",\\\"gridwidth\\\":2,\\\"backgroundcolor\\\":\\\"#E5ECF6\\\",\\\"ticks\\\":\\\"\\\",\\\"showbackground\\\":true,\\\"zerolinecolor\\\":\\\"white\\\",\\\"linecolor\\\":\\\"white\\\"}},\\\"colorway\\\":[\\\"#636efa\\\",\\\"#EF553B\\\",\\\"#00cc96\\\",\\\"#ab63fa\\\",\\\"#FFA15A\\\",\\\"#19d3f3\\\",\\\"#FF6692\\\",\\\"#B6E880\\\",\\\"#FF97FF\\\",\\\"#FECB52\\\"]},\\\"data\\\":{\\\"barpolar\\\":[{\\\"type\\\":\\\"barpolar\\\",\\\"marker\\\":{\\\"line\\\":{\\\"color\\\":\\\"#E5ECF6\\\",\\\"width\\\":0.5}}}],\\\"carpet\\\":[{\\\"aaxis\\\":{\\\"gridcolor\\\":\\\"white\\\",\\\"endlinecolor\\\":\\\"#2a3f5f\\\",\\\"minorgridcolor\\\":\\\"white\\\",\\\"startlinecolor\\\":\\\"#2a3f5f\\\",\\\"linecolor\\\":\\\"white\\\"},\\\"type\\\":\\\"carpet\\\",\\\"baxis\\\":{\\\"gridcolor\\\":\\\"white\\\",\\\"endlinecolor\\\":\\\"#2a3f5f\\\",\\\"minorgridcolor\\\":\\\"white\\\",\\\"startlinecolor\\\":\\\"#2a3f5f\\\",\\\"linecolor\\\":\\\"white\\\"}}],\\\"scatterpolar\\\":[{\\\"type\\\":\\\"scatterpolar\\\",\\\"marker\\\":{\\\"colorbar\\\":{\\\"ticks\\\":\\\"\\\",\\\"outlinewidth\\\":0}}}],\\\"parcoords\\\":[{\\\"line\\\":{\\\"colorbar\\\":{\\\"ticks\\\":\\\"\\\",\\\"outlinewidth\\\":0}},\\\"type\\\":\\\"parcoords\\\"}],\\\"scatter\\\":[{\\\"type\\\":\\\"scatter\\\",\\\"marker\\\":{\\\"colorbar\\\":{\\\"ticks\\\":\\\"\\\",\\\"outlinewidth\\\":0}}}],\\\"histogram2dcontour\\\":[{\\\"colorbar\\\":{\\\"ticks\\\":\\\"\\\",\\\"outlinewidth\\\":0},\\\"type\\\":\\\"histogram2dcontour\\\",\\\"colorscale\\\":[[0.0,\\\"#0d0887\\\"],[0.1111111111111111,\\\"#46039f\\\"],[0.2222222222222222,\\\"#7201a8\\\"],[0.3333333333333333,\\\"#9c179e\\\"],[0.4444444444444444,\\\"#bd3786\\\"],[0.5555555555555556,\\\"#d8576b\\\"],[0.6666666666666666,\\\"#ed7953\\\"],[0.7777777777777778,\\\"#fb9f3a\\\"],[0.8888888888888888,\\\"#fdca26\\\"],[1.0,\\\"#f0f921\\\"]]}],\\\"contour\\\":[{\\\"colorbar\\\":{\\\"ticks\\\":\\\"\\\",\\\"outlinewidth\\\":0},\\\"type\\\":\\\"contour\\\",\\\"colorscale\\\":[[0.0,\\\"#0d0887\\\"],[0.1111111111111111,\\\"#46039f\\\"],[0.2222222222222222,\\\"#7201a8\\\"],[0.3333333333333333,\\\"#9c179e\\\"],[0.4444444444444444,\\\"#bd3786\\\"],[0.5555555555555556,\\\"#d8576b\\\"],[0.6666666666666666,\\\"#ed7953\\\"],[0.7777777777777778,\\\"#fb9f3a\\\"],[0.8888888888888888,\\\"#fdca26\\\"],[1.0,\\\"#f0f921\\\"]]}],\\\"scattercarpet\\\":[{\\\"type\\\":\\\"scattercarpet\\\",\\\"marker\\\":{\\\"colorbar\\\":{\\\"ticks\\\":\\\"\\\",\\\"outlinewidth\\\":0}}}],\\\"mesh3d\\\":[{\\\"colorbar\\\":{\\\"ticks\\\":\\\"\\\",\\\"outlinewidth\\\":0},\\\"type\\\":\\\"mesh3d\\\"}],\\\"surface\\\":[{\\\"colorbar\\\":{\\\"ticks\\\":\\\"\\\",\\\"outlinewidth\\\":0},\\\"type\\\":\\\"surface\\\",\\\"colorscale\\\":[[0.0,\\\"#0d0887\\\"],[0.1111111111111111,\\\"#46039f\\\"],[0.2222222222222222,\\\"#7201a8\\\"],[0.3333333333333333,\\\"#9c179e\\\"],[0.4444444444444444,\\\"#bd3786\\\"],[0.5555555555555556,\\\"#d8576b\\\"],[0.6666666666666666,\\\"#ed7953\\\"],[0.7777777777777778,\\\"#fb9f3a\\\"],[0.8888888888888888,\\\"#fdca26\\\"],[1.0,\\\"#f0f921\\\"]]}],\\\"scattermapbox\\\":[{\\\"type\\\":\\\"scattermapbox\\\",\\\"marker\\\":{\\\"colorbar\\\":{\\\"ticks\\\":\\\"\\\",\\\"outlinewidth\\\":0}}}],\\\"scattergeo\\\":[{\\\"type\\\":\\\"scattergeo\\\",\\\"marker\\\":{\\\"colorbar\\\":{\\\"ticks\\\":\\\"\\\",\\\"outlinewidth\\\":0}}}],\\\"histogram\\\":[{\\\"type\\\":\\\"histogram\\\",\\\"marker\\\":{\\\"colorbar\\\":{\\\"ticks\\\":\\\"\\\",\\\"outlinewidth\\\":0}}}],\\\"pie\\\":[{\\\"type\\\":\\\"pie\\\",\\\"automargin\\\":true}],\\\"choropleth\\\":[{\\\"colorbar\\\":{\\\"ticks\\\":\\\"\\\",\\\"outlinewidth\\\":0},\\\"type\\\":\\\"choropleth\\\"}],\\\"heatmapgl\\\":[{\\\"colorbar\\\":{\\\"ticks\\\":\\\"\\\",\\\"outlinewidth\\\":0},\\\"type\\\":\\\"heatmapgl\\\",\\\"colorscale\\\":[[0.0,\\\"#0d0887\\\"],[0.1111111111111111,\\\"#46039f\\\"],[0.2222222222222222,\\\"#7201a8\\\"],[0.3333333333333333,\\\"#9c179e\\\"],[0.4444444444444444,\\\"#bd3786\\\"],[0.5555555555555556,\\\"#d8576b\\\"],[0.6666666666666666,\\\"#ed7953\\\"],[0.7777777777777778,\\\"#fb9f3a\\\"],[0.8888888888888888,\\\"#fdca26\\\"],[1.0,\\\"#f0f921\\\"]]}],\\\"bar\\\":[{\\\"type\\\":\\\"bar\\\",\\\"error_y\\\":{\\\"color\\\":\\\"#2a3f5f\\\"},\\\"error_x\\\":{\\\"color\\\":\\\"#2a3f5f\\\"},\\\"marker\\\":{\\\"line\\\":{\\\"color\\\":\\\"#E5ECF6\\\",\\\"width\\\":0.5}}}],\\\"heatmap\\\":[{\\\"colorbar\\\":{\\\"ticks\\\":\\\"\\\",\\\"outlinewidth\\\":0},\\\"type\\\":\\\"heatmap\\\",\\\"colorscale\\\":[[0.0,\\\"#0d0887\\\"],[0.1111111111111111,\\\"#46039f\\\"],[0.2222222222222222,\\\"#7201a8\\\"],[0.3333333333333333,\\\"#9c179e\\\"],[0.4444444444444444,\\\"#bd3786\\\"],[0.5555555555555556,\\\"#d8576b\\\"],[0.6666666666666666,\\\"#ed7953\\\"],[0.7777777777777778,\\\"#fb9f3a\\\"],[0.8888888888888888,\\\"#fdca26\\\"],[1.0,\\\"#f0f921\\\"]]}],\\\"contourcarpet\\\":[{\\\"colorbar\\\":{\\\"ticks\\\":\\\"\\\",\\\"outlinewidth\\\":0},\\\"type\\\":\\\"contourcarpet\\\"}],\\\"table\\\":[{\\\"type\\\":\\\"table\\\",\\\"header\\\":{\\\"line\\\":{\\\"color\\\":\\\"white\\\"},\\\"fill\\\":{\\\"color\\\":\\\"#C8D4E3\\\"}},\\\"cells\\\":{\\\"line\\\":{\\\"color\\\":\\\"white\\\"},\\\"fill\\\":{\\\"color\\\":\\\"#EBF0F8\\\"}}}],\\\"scatter3d\\\":[{\\\"line\\\":{\\\"colorbar\\\":{\\\"ticks\\\":\\\"\\\",\\\"outlinewidth\\\":0}},\\\"type\\\":\\\"scatter3d\\\",\\\"marker\\\":{\\\"colorbar\\\":{\\\"ticks\\\":\\\"\\\",\\\"outlinewidth\\\":0}}}],\\\"scattergl\\\":[{\\\"type\\\":\\\"scattergl\\\",\\\"marker\\\":{\\\"colorbar\\\":{\\\"ticks\\\":\\\"\\\",\\\"outlinewidth\\\":0}}}],\\\"histogram2d\\\":[{\\\"colorbar\\\":{\\\"ticks\\\":\\\"\\\",\\\"outlinewidth\\\":0},\\\"type\\\":\\\"histogram2d\\\",\\\"colorscale\\\":[[0.0,\\\"#0d0887\\\"],[0.1111111111111111,\\\"#46039f\\\"],[0.2222222222222222,\\\"#7201a8\\\"],[0.3333333333333333,\\\"#9c179e\\\"],[0.4444444444444444,\\\"#bd3786\\\"],[0.5555555555555556,\\\"#d8576b\\\"],[0.6666666666666666,\\\"#ed7953\\\"],[0.7777777777777778,\\\"#fb9f3a\\\"],[0.8888888888888888,\\\"#fdca26\\\"],[1.0,\\\"#f0f921\\\"]]}],\\\"scatterternary\\\":[{\\\"type\\\":\\\"scatterternary\\\",\\\"marker\\\":{\\\"colorbar\\\":{\\\"ticks\\\":\\\"\\\",\\\"outlinewidth\\\":0}}}],\\\"scatterpolargl\\\":[{\\\"type\\\":\\\"scatterpolargl\\\",\\\"marker\\\":{\\\"colorbar\\\":{\\\"ticks\\\":\\\"\\\",\\\"outlinewidth\\\":0}}}]}},\\\"margin\\\":{\\\"l\\\":50,\\\"b\\\":50,\\\"r\\\":50,\\\"t\\\":60},\\\"title\\\":\\\"Zależność węglowodanów od zużycia wody\\\",\\\"plot_bgcolor\\\":\\\"rgb(254, 247, 234)\\\",\\\"yaxis\\\":{\\\"showgrid\\\":true,\\\"showline\\\":true,\\\"gridcolor\\\":\\\"rgb(125,125,125)\\\",\\\"zeroline\\\":true,\\\"title\\\":\\\"Węglowodany\\\",\\\"zerolinecolor\\\":\\\"rgb(0,0,0)\\\",\\\"linecolor\\\":\\\"rgb(20,20,20)\\\"}},{\\\"showLink\\\":false,\\\"editable\\\":false,\\\"responsive\\\":true,\\\"staticPlot\\\":false,\\\"scrollZoom\\\":true}); gd.on(\\\"plotly_hover\\\",(function (data){var filtered_data=WebIO.PlotlyCommands.filterEventData(gd,data,\\\"hover\\\"); return !(filtered_data.isnil) ? (WebIO.setval({\\\"name\\\":\\\"hover\\\",\\\"scope\\\":\\\"3369477965490547434\\\",\\\"id\\\":\\\"5038582226724841676\\\",\\\"type\\\":\\\"observable\\\"},filtered_data.out)) : undefined})); gd.on(\\\"plotly_unhover\\\",(function (){return WebIO.setval({\\\"name\\\":\\\"hover\\\",\\\"scope\\\":\\\"3369477965490547434\\\",\\\"id\\\":\\\"5038582226724841676\\\",\\\"type\\\":\\\"observable\\\"},{})})); gd.on(\\\"plotly_selected\\\",(function (data){var filtered_data=WebIO.PlotlyCommands.filterEventData(gd,data,\\\"selected\\\"); return !(filtered_data.isnil) ? (WebIO.setval({\\\"name\\\":\\\"selected\\\",\\\"scope\\\":\\\"3369477965490547434\\\",\\\"id\\\":\\\"8932391906132560539\\\",\\\"type\\\":\\\"observable\\\"},filtered_data.out)) : undefined})); gd.on(\\\"plotly_deselect\\\",(function (){return WebIO.setval({\\\"name\\\":\\\"selected\\\",\\\"scope\\\":\\\"3369477965490547434\\\",\\\"id\\\":\\\"8932391906132560539\\\",\\\"type\\\":\\\"observable\\\"},{})})); gd.on(\\\"plotly_relayout\\\",(function (data){var filtered_data=WebIO.PlotlyCommands.filterEventData(gd,data,\\\"relayout\\\"); return !(filtered_data.isnil) ? (WebIO.setval({\\\"name\\\":\\\"relayout\\\",\\\"scope\\\":\\\"3369477965490547434\\\",\\\"id\\\":\\\"106823528579703301\\\",\\\"type\\\":\\\"observable\\\"},filtered_data.out)) : undefined})); return gd.on(\\\"plotly_click\\\",(function (data){var filtered_data=WebIO.PlotlyCommands.filterEventData(gd,data,\\\"click\\\"); return !(filtered_data.isnil) ? (WebIO.setval({\\\"name\\\":\\\"click\\\",\\\"scope\\\":\\\"3369477965490547434\\\",\\\"id\\\":\\\"6387861877874692067\\\",\\\"type\\\":\\\"observable\\\"},filtered_data.out)) : undefined}))}));\\n    (WebIO.importBlock({\\\"data\\\":[{\\\"name\\\":\\\"Plotly\\\",\\\"type\\\":\\\"js\\\",\\\"url\\\":\\\"\\/assetserver\\/7dc425d3d9acdbb7fba54ce8841409ff1fd2b16c-plotly.min.js\\\"},{\\\"name\\\":null,\\\"type\\\":\\\"js\\\",\\\"url\\\":\\\"\\/assetserver\\/bdef9d06b2ff8f6ff9f383d24c2633cfc4dfc0cb-plotly_webio.bundle.js\\\"}],\\\"type\\\":\\\"async_block\\\"})).then((imports) => handler.apply(this, imports));\\n}\\n\"],\"observables\":{\"_toImage\":{\"sync\":false,\"id\":\"17388045743277475956\",\"value\":{}},\"hover\":{\"sync\":false,\"id\":\"5038582226724841676\",\"value\":{}},\"selected\":{\"sync\":false,\"id\":\"8932391906132560539\",\"value\":{}},\"__gd_contents\":{\"sync\":false,\"id\":\"2425195984972588339\",\"value\":{}},\"click\":{\"sync\":false,\"id\":\"6387861877874692067\",\"value\":{}},\"image\":{\"sync\":true,\"id\":\"4598258839996805557\",\"value\":\"\"},\"__get_gd_contents\":{\"sync\":false,\"id\":\"9695138696227367055\",\"value\":\"\"},\"_downloadImage\":{\"sync\":false,\"id\":\"5145794394418422200\",\"value\":{}},\"relayout\":{\"sync\":false,\"id\":\"106823528579703301\",\"value\":{}},\"_commands\":{\"sync\":false,\"id\":\"9249777458887666228\",\"value\":[]}}},\"children\":[{\"props\":{\"id\":\"plot-b692a190-3005-4060-acab-144dd35c4fac\"},\"nodeType\":\"DOM\",\"type\":\"node\",\"instanceArgs\":{\"namespace\":\"html\",\"tag\":\"div\"},\"children\":[]}]},\n",
       "        window,\n",
       "    );\n",
       "    })()\n",
       "    </script>\n",
       "</div>\n"
      ],
      "text/plain": [
       "data: [\n",
       "  \"scatter with fields marker, mode, name, text, type, x, and y\",\n",
       "  \"scatter with fields marker, mode, name, text, type, x, and y\"\n",
       "]\n",
       "\n",
       "layout: \"layout with fields margin, paper_bgcolor, plot_bgcolor, template, title, xaxis, and yaxis\"\n",
       "\n"
      ]
     },
     "execution_count": 14,
     "metadata": {},
     "output_type": "execute_result"
    }
   ],
   "source": [
    "#---------------------------------WĘGLOWODANY-------------------------------------\n",
    "\n",
    "#Analiza węglowodanów, wybieramy produkty bezmięsne o największej zawartości białka\n",
    "top_wegle = sort!(wege_df,[order(:Weglowodany, rev=true)])[1:40,:]\n",
    "\n",
    "#stwarzamy dane wege\n",
    "trace_wege = scatter(top_wegle,\n",
    "    x=:zuzycie_wody_na_100_g,\n",
    "    y=:Weglowodany,\n",
    "    text=:Produkt,\n",
    "    mode=\"markers\",\n",
    "    name=\"Wege\",\n",
    "    marker_size=8,\n",
    "    marker_color=\"blue\")\n",
    "\n",
    "#stwarzamy dane mięso\n",
    "trace_mieso = scatter(mieso_df,\n",
    "    x=:zuzycie_wody_na_100_g,\n",
    "    y=:Weglowodany,\n",
    "    text=:Produkt,\n",
    "    mode=\"markers\",\n",
    "    name=\"Mięso\",\n",
    "    marker_size=8,\n",
    "    marker_color=\"red\")\n",
    "\n",
    "#kreujemy layout\n",
    "layout = Layout(;\n",
    "    title=\"Zależność węglowodanów od zużycia wody\",\n",
    "    plot_bgcolor=\"rgb(254, 247, 234)\",\n",
    "    paper_bgcolor=\"rgb(254, 247, 234)\",\n",
    "    xaxis=attr(title=\"Ślad wodny\",\n",
    "        showgrid=true,\n",
    "        gridcolor=\"rgb(125,125,125)\",\n",
    "        zeroline=true,\n",
    "        zerolinecolor=\"rgb(0,0,0)\",\n",
    "        showline=true,\n",
    "        linecolor=\"rgb(20,20,20)\"\n",
    "        ),\n",
    "    yaxis=attr(title=\"Węglowodany\",\n",
    "        showgrid=true,\n",
    "        gridcolor=\"rgb(125,125,125)\",\n",
    "        zeroline=true,\n",
    "        zerolinecolor=\"rgb(0,0,0)\",\n",
    "        showline=true,\n",
    "        linecolor=\"rgb(20,20,20)\"\n",
    "        ))\n",
    "\n",
    "#stwarzamy wykres\n",
    "wegle_scatter = plot([trace_wege,trace_mieso],layout)\n"
   ]
  },
  {
   "cell_type": "code",
   "execution_count": 15,
   "id": "11e7b0d4",
   "metadata": {},
   "outputs": [
    {
     "data": {
      "application/vnd.plotly.v1+json": {
       "config": {
        "editable": false,
        "responsive": true,
        "scrollZoom": true,
        "showLink": false,
        "staticPlot": false
       },
       "data": [
        {
         "marker": {
          "color": "red"
         },
         "name": "Mięso",
         "text": [
          "Infg",
          "Infg",
          "20338.98g",
          "Infg",
          "Infg"
         ],
         "type": "bar",
         "x": [
          "Beef",
          "Lamb",
          "Pork",
          "Goat meat",
          "Chicken meat"
         ],
         "y": [
          null,
          null,
          12178983.050847456,
          null,
          null
         ]
        },
        {
         "marker": {
          "color": "blue"
         },
         "name": "Wege",
         "text": [
          "297.14g",
          "320.0g",
          "321.41g",
          "240.0g",
          "320.0g",
          "308.56g",
          "270.97g",
          "300.0g",
          "240.0g",
          "295.68g",
          "240.0g",
          "320.0g",
          "260.87g",
          "252.98g",
          "274.29g"
         ],
         "type": "bar",
         "x": [
          "Rice flour",
          "Dates",
          "Pasta, dry",
          "Garlic powder",
          "Ginger",
          "Rice, paddy",
          "Cassava flour",
          "Potato starch",
          "Sugar, raw (cane)",
          "Potato flakes",
          "Sugar, raw (beet)",
          "Currants",
          "Kiwi fruit",
          "Pumpkins",
          "Pineapples"
         ],
         "y": [
          78088.39915810326,
          72864,
          59429.489754921655,
          54360,
          53024,
          51622.52507071227,
          50888.562718753536,
          45360,
          39984,
          30868.547492916106,
          20760,
          15968,
          13408.695652173912,
          8500.0527036998,
          6994.285714285715
         ]
        }
       ],
       "frames": [],
       "layout": {
        "margin": {
         "b": 50,
         "l": 50,
         "r": 50,
         "t": 60
        },
        "template": {
         "data": {
          "bar": [
           {
            "error_x": {
             "color": "#2a3f5f"
            },
            "error_y": {
             "color": "#2a3f5f"
            },
            "marker": {
             "line": {
              "color": "#E5ECF6",
              "width": 0.5
             }
            },
            "type": "bar"
           }
          ],
          "barpolar": [
           {
            "marker": {
             "line": {
              "color": "#E5ECF6",
              "width": 0.5
             }
            },
            "type": "barpolar"
           }
          ],
          "carpet": [
           {
            "aaxis": {
             "endlinecolor": "#2a3f5f",
             "gridcolor": "white",
             "linecolor": "white",
             "minorgridcolor": "white",
             "startlinecolor": "#2a3f5f"
            },
            "baxis": {
             "endlinecolor": "#2a3f5f",
             "gridcolor": "white",
             "linecolor": "white",
             "minorgridcolor": "white",
             "startlinecolor": "#2a3f5f"
            },
            "type": "carpet"
           }
          ],
          "choropleth": [
           {
            "colorbar": {
             "outlinewidth": 0,
             "ticks": ""
            },
            "type": "choropleth"
           }
          ],
          "contour": [
           {
            "colorbar": {
             "outlinewidth": 0,
             "ticks": ""
            },
            "colorscale": [
             [
              0,
              "#0d0887"
             ],
             [
              0.1111111111111111,
              "#46039f"
             ],
             [
              0.2222222222222222,
              "#7201a8"
             ],
             [
              0.3333333333333333,
              "#9c179e"
             ],
             [
              0.4444444444444444,
              "#bd3786"
             ],
             [
              0.5555555555555556,
              "#d8576b"
             ],
             [
              0.6666666666666666,
              "#ed7953"
             ],
             [
              0.7777777777777778,
              "#fb9f3a"
             ],
             [
              0.8888888888888888,
              "#fdca26"
             ],
             [
              1,
              "#f0f921"
             ]
            ],
            "type": "contour"
           }
          ],
          "contourcarpet": [
           {
            "colorbar": {
             "outlinewidth": 0,
             "ticks": ""
            },
            "type": "contourcarpet"
           }
          ],
          "heatmap": [
           {
            "colorbar": {
             "outlinewidth": 0,
             "ticks": ""
            },
            "colorscale": [
             [
              0,
              "#0d0887"
             ],
             [
              0.1111111111111111,
              "#46039f"
             ],
             [
              0.2222222222222222,
              "#7201a8"
             ],
             [
              0.3333333333333333,
              "#9c179e"
             ],
             [
              0.4444444444444444,
              "#bd3786"
             ],
             [
              0.5555555555555556,
              "#d8576b"
             ],
             [
              0.6666666666666666,
              "#ed7953"
             ],
             [
              0.7777777777777778,
              "#fb9f3a"
             ],
             [
              0.8888888888888888,
              "#fdca26"
             ],
             [
              1,
              "#f0f921"
             ]
            ],
            "type": "heatmap"
           }
          ],
          "heatmapgl": [
           {
            "colorbar": {
             "outlinewidth": 0,
             "ticks": ""
            },
            "colorscale": [
             [
              0,
              "#0d0887"
             ],
             [
              0.1111111111111111,
              "#46039f"
             ],
             [
              0.2222222222222222,
              "#7201a8"
             ],
             [
              0.3333333333333333,
              "#9c179e"
             ],
             [
              0.4444444444444444,
              "#bd3786"
             ],
             [
              0.5555555555555556,
              "#d8576b"
             ],
             [
              0.6666666666666666,
              "#ed7953"
             ],
             [
              0.7777777777777778,
              "#fb9f3a"
             ],
             [
              0.8888888888888888,
              "#fdca26"
             ],
             [
              1,
              "#f0f921"
             ]
            ],
            "type": "heatmapgl"
           }
          ],
          "histogram": [
           {
            "marker": {
             "colorbar": {
              "outlinewidth": 0,
              "ticks": ""
             }
            },
            "type": "histogram"
           }
          ],
          "histogram2d": [
           {
            "colorbar": {
             "outlinewidth": 0,
             "ticks": ""
            },
            "colorscale": [
             [
              0,
              "#0d0887"
             ],
             [
              0.1111111111111111,
              "#46039f"
             ],
             [
              0.2222222222222222,
              "#7201a8"
             ],
             [
              0.3333333333333333,
              "#9c179e"
             ],
             [
              0.4444444444444444,
              "#bd3786"
             ],
             [
              0.5555555555555556,
              "#d8576b"
             ],
             [
              0.6666666666666666,
              "#ed7953"
             ],
             [
              0.7777777777777778,
              "#fb9f3a"
             ],
             [
              0.8888888888888888,
              "#fdca26"
             ],
             [
              1,
              "#f0f921"
             ]
            ],
            "type": "histogram2d"
           }
          ],
          "histogram2dcontour": [
           {
            "colorbar": {
             "outlinewidth": 0,
             "ticks": ""
            },
            "colorscale": [
             [
              0,
              "#0d0887"
             ],
             [
              0.1111111111111111,
              "#46039f"
             ],
             [
              0.2222222222222222,
              "#7201a8"
             ],
             [
              0.3333333333333333,
              "#9c179e"
             ],
             [
              0.4444444444444444,
              "#bd3786"
             ],
             [
              0.5555555555555556,
              "#d8576b"
             ],
             [
              0.6666666666666666,
              "#ed7953"
             ],
             [
              0.7777777777777778,
              "#fb9f3a"
             ],
             [
              0.8888888888888888,
              "#fdca26"
             ],
             [
              1,
              "#f0f921"
             ]
            ],
            "type": "histogram2dcontour"
           }
          ],
          "mesh3d": [
           {
            "colorbar": {
             "outlinewidth": 0,
             "ticks": ""
            },
            "type": "mesh3d"
           }
          ],
          "parcoords": [
           {
            "line": {
             "colorbar": {
              "outlinewidth": 0,
              "ticks": ""
             }
            },
            "type": "parcoords"
           }
          ],
          "pie": [
           {
            "automargin": true,
            "type": "pie"
           }
          ],
          "scatter": [
           {
            "marker": {
             "colorbar": {
              "outlinewidth": 0,
              "ticks": ""
             }
            },
            "type": "scatter"
           }
          ],
          "scatter3d": [
           {
            "line": {
             "colorbar": {
              "outlinewidth": 0,
              "ticks": ""
             }
            },
            "marker": {
             "colorbar": {
              "outlinewidth": 0,
              "ticks": ""
             }
            },
            "type": "scatter3d"
           }
          ],
          "scattercarpet": [
           {
            "marker": {
             "colorbar": {
              "outlinewidth": 0,
              "ticks": ""
             }
            },
            "type": "scattercarpet"
           }
          ],
          "scattergeo": [
           {
            "marker": {
             "colorbar": {
              "outlinewidth": 0,
              "ticks": ""
             }
            },
            "type": "scattergeo"
           }
          ],
          "scattergl": [
           {
            "marker": {
             "colorbar": {
              "outlinewidth": 0,
              "ticks": ""
             }
            },
            "type": "scattergl"
           }
          ],
          "scattermapbox": [
           {
            "marker": {
             "colorbar": {
              "outlinewidth": 0,
              "ticks": ""
             }
            },
            "type": "scattermapbox"
           }
          ],
          "scatterpolar": [
           {
            "marker": {
             "colorbar": {
              "outlinewidth": 0,
              "ticks": ""
             }
            },
            "type": "scatterpolar"
           }
          ],
          "scatterpolargl": [
           {
            "marker": {
             "colorbar": {
              "outlinewidth": 0,
              "ticks": ""
             }
            },
            "type": "scatterpolargl"
           }
          ],
          "scatterternary": [
           {
            "marker": {
             "colorbar": {
              "outlinewidth": 0,
              "ticks": ""
             }
            },
            "type": "scatterternary"
           }
          ],
          "surface": [
           {
            "colorbar": {
             "outlinewidth": 0,
             "ticks": ""
            },
            "colorscale": [
             [
              0,
              "#0d0887"
             ],
             [
              0.1111111111111111,
              "#46039f"
             ],
             [
              0.2222222222222222,
              "#7201a8"
             ],
             [
              0.3333333333333333,
              "#9c179e"
             ],
             [
              0.4444444444444444,
              "#bd3786"
             ],
             [
              0.5555555555555556,
              "#d8576b"
             ],
             [
              0.6666666666666666,
              "#ed7953"
             ],
             [
              0.7777777777777778,
              "#fb9f3a"
             ],
             [
              0.8888888888888888,
              "#fdca26"
             ],
             [
              1,
              "#f0f921"
             ]
            ],
            "type": "surface"
           }
          ],
          "table": [
           {
            "cells": {
             "fill": {
              "color": "#EBF0F8"
             },
             "line": {
              "color": "white"
             }
            },
            "header": {
             "fill": {
              "color": "#C8D4E3"
             },
             "line": {
              "color": "white"
             }
            },
            "type": "table"
           }
          ]
         },
         "layout": {
          "annotationdefaults": {
           "arrowcolor": "#2a3f5f",
           "arrowhead": 0,
           "arrowwidth": 1
          },
          "autotypenumbers": "strict",
          "coloraxis": {
           "colorbar": {
            "outlinewidth": 0,
            "ticks": ""
           }
          },
          "colorscale": {
           "diverging": [
            [
             0,
             "#8e0152"
            ],
            [
             0.1,
             "#c51b7d"
            ],
            [
             0.2,
             "#de77ae"
            ],
            [
             0.3,
             "#f1b6da"
            ],
            [
             0.4,
             "#fde0ef"
            ],
            [
             0.5,
             "#f7f7f7"
            ],
            [
             0.6,
             "#e6f5d0"
            ],
            [
             0.7,
             "#b8e186"
            ],
            [
             0.8,
             "#7fbc41"
            ],
            [
             0.9,
             "#4d9221"
            ],
            [
             1,
             "#276419"
            ]
           ],
           "sequential": [
            [
             0,
             "#0d0887"
            ],
            [
             0.1111111111111111,
             "#46039f"
            ],
            [
             0.2222222222222222,
             "#7201a8"
            ],
            [
             0.3333333333333333,
             "#9c179e"
            ],
            [
             0.4444444444444444,
             "#bd3786"
            ],
            [
             0.5555555555555556,
             "#d8576b"
            ],
            [
             0.6666666666666666,
             "#ed7953"
            ],
            [
             0.7777777777777778,
             "#fb9f3a"
            ],
            [
             0.8888888888888888,
             "#fdca26"
            ],
            [
             1,
             "#f0f921"
            ]
           ],
           "sequentialminus": [
            [
             0,
             "#0d0887"
            ],
            [
             0.1111111111111111,
             "#46039f"
            ],
            [
             0.2222222222222222,
             "#7201a8"
            ],
            [
             0.3333333333333333,
             "#9c179e"
            ],
            [
             0.4444444444444444,
             "#bd3786"
            ],
            [
             0.5555555555555556,
             "#d8576b"
            ],
            [
             0.6666666666666666,
             "#ed7953"
            ],
            [
             0.7777777777777778,
             "#fb9f3a"
            ],
            [
             0.8888888888888888,
             "#fdca26"
            ],
            [
             1,
             "#f0f921"
            ]
           ]
          },
          "colorway": [
           "#636efa",
           "#EF553B",
           "#00cc96",
           "#ab63fa",
           "#FFA15A",
           "#19d3f3",
           "#FF6692",
           "#B6E880",
           "#FF97FF",
           "#FECB52"
          ],
          "font": {
           "color": "#2a3f5f"
          },
          "geo": {
           "bgcolor": "white",
           "lakecolor": "white",
           "landcolor": "#E5ECF6",
           "showlakes": true,
           "showland": true,
           "subunitcolor": "white"
          },
          "hoverlabel": {
           "align": "left"
          },
          "hovermode": "closest",
          "mapbox": {
           "style": "light"
          },
          "paper_bgcolor": "white",
          "plot_bgcolor": "#E5ECF6",
          "polar": {
           "angularaxis": {
            "gridcolor": "white",
            "linecolor": "white",
            "ticks": ""
           },
           "bgcolor": "#E5ECF6",
           "radialaxis": {
            "gridcolor": "white",
            "linecolor": "white",
            "ticks": ""
           }
          },
          "scene": {
           "xaxis": {
            "backgroundcolor": "#E5ECF6",
            "gridcolor": "white",
            "gridwidth": 2,
            "linecolor": "white",
            "showbackground": true,
            "ticks": "",
            "zerolinecolor": "white"
           },
           "yaxis": {
            "backgroundcolor": "#E5ECF6",
            "gridcolor": "white",
            "gridwidth": 2,
            "linecolor": "white",
            "showbackground": true,
            "ticks": "",
            "zerolinecolor": "white"
           },
           "zaxis": {
            "backgroundcolor": "#E5ECF6",
            "gridcolor": "white",
            "gridwidth": 2,
            "linecolor": "white",
            "showbackground": true,
            "ticks": "",
            "zerolinecolor": "white"
           }
          },
          "shapedefaults": {
           "line": {
            "color": "#2a3f5f"
           }
          },
          "ternary": {
           "aaxis": {
            "gridcolor": "white",
            "linecolor": "white",
            "ticks": ""
           },
           "baxis": {
            "gridcolor": "white",
            "linecolor": "white",
            "ticks": ""
           },
           "bgcolor": "#E5ECF6",
           "caxis": {
            "gridcolor": "white",
            "linecolor": "white",
            "ticks": ""
           }
          },
          "title": {
           "x": 0.05
          },
          "xaxis": {
           "automargin": true,
           "gridcolor": "white",
           "linecolor": "white",
           "ticks": "",
           "title": {
            "standoff": 15
           },
           "zerolinecolor": "white",
           "zerolinewidth": 2
          },
          "yaxis": {
           "automargin": true,
           "gridcolor": "white",
           "linecolor": "white",
           "ticks": "",
           "title": {
            "standoff": 15
           },
           "zerolinecolor": "white",
           "zerolinewidth": 2
          }
         }
        },
        "title": "Uzupełnianie węglowodanów danym produktem przez 100 dni",
        "yaxis": {
         "title": "Zużyta woda[m³]"
        }
       }
      },
      "text/html": [
       "<div\n",
       "    class=\"webio-mountpoint\"\n",
       "    data-webio-mountpoint=\"18253393555795356579\"\n",
       ">\n",
       "    <script>\n",
       "    (function(){\n",
       "    // Some integrations (namely, IJulia/Jupyter) use an alternate render pathway than\n",
       "    // just putting the html on the page. If WebIO isn't defined, then it's pretty likely\n",
       "    // that we're in one of those situations and the integration just isn't installed\n",
       "    // correctly.\n",
       "    if (typeof window.WebIO === \"undefined\") {\n",
       "        document\n",
       "            .querySelector('[data-webio-mountpoint=\"18253393555795356579\"]')\n",
       "            .innerHTML = (\n",
       "                '<div style=\"padding: 1em; background-color: #f8d6da; border: 1px solid #f5c6cb; font-weight: bold;\">' +\n",
       "                '<p><strong>WebIO not detected.</strong></p>' +\n",
       "                '<p>Please read ' +\n",
       "                '<a href=\"https://juliagizmos.github.io/WebIO.jl/latest/troubleshooting/not-detected/\" target=\"_blank\">the troubleshooting guide</a> ' +\n",
       "                'for more information on how to resolve this issue.</p>' +\n",
       "                '<p><a href=\"https://juliagizmos.github.io/WebIO.jl/latest/troubleshooting/not-detected/\" target=\"_blank\">https://juliagizmos.github.io/WebIO.jl/latest/troubleshooting/not-detected/</a></p>' +\n",
       "                '</div>'\n",
       "            );\n",
       "        return;\n",
       "    }\n",
       "    WebIO.mount(\n",
       "        document.querySelector('[data-webio-mountpoint=\"18253393555795356579\"]'),\n",
       "        {\"props\":{},\"nodeType\":\"Scope\",\"type\":\"node\",\"instanceArgs\":{\"imports\":{\"data\":[{\"name\":\"Plotly\",\"type\":\"js\",\"url\":\"\\/assetserver\\/7dc425d3d9acdbb7fba54ce8841409ff1fd2b16c-plotly.min.js\"},{\"name\":null,\"type\":\"js\",\"url\":\"\\/assetserver\\/bdef9d06b2ff8f6ff9f383d24c2633cfc4dfc0cb-plotly_webio.bundle.js\"}],\"type\":\"async_block\"},\"id\":\"7791930350119722055\",\"handlers\":{\"_toImage\":[\"(function (options){return this.Plotly.toImage(this.plotElem,options).then((function (data){return WebIO.setval({\\\"name\\\":\\\"image\\\",\\\"scope\\\":\\\"7791930350119722055\\\",\\\"id\\\":\\\"9590276206212864813\\\",\\\"type\\\":\\\"observable\\\"},data)}))})\"],\"__get_gd_contents\":[\"(function (prop){prop==\\\"data\\\" ? (WebIO.setval({\\\"name\\\":\\\"__gd_contents\\\",\\\"scope\\\":\\\"7791930350119722055\\\",\\\"id\\\":\\\"14978324408962053746\\\",\\\"type\\\":\\\"observable\\\"},this.plotElem.data)) : undefined; return prop==\\\"layout\\\" ? (WebIO.setval({\\\"name\\\":\\\"__gd_contents\\\",\\\"scope\\\":\\\"7791930350119722055\\\",\\\"id\\\":\\\"14978324408962053746\\\",\\\"type\\\":\\\"observable\\\"},this.plotElem.layout)) : undefined})\"],\"_downloadImage\":[\"(function (options){return this.Plotly.downloadImage(this.plotElem,options)})\"],\"_commands\":[\"(function (args){var fn=args.shift(); var elem=this.plotElem; var Plotly=this.Plotly; args.unshift(elem); return Plotly[fn].apply(this,args)})\"]},\"systemjs_options\":null,\"mount_callbacks\":[\"function () {\\n    var handler = ((function (Plotly,PlotlyWebIO){PlotlyWebIO.init(WebIO); var gd=this.dom.querySelector(\\\"#plot-46c3dfa9-dc12-4d36-b198-f87fd7fb824d\\\"); this.plotElem=gd; this.Plotly=Plotly; (window.Blink!==undefined) ? (gd.style.width=\\\"100%\\\", gd.style.height=\\\"100vh\\\", gd.style.marginLeft=\\\"0%\\\", gd.style.marginTop=\\\"0vh\\\") : undefined; window.onresize=(function (){return Plotly.Plots.resize(gd)}); Plotly.newPlot(gd,[{\\\"x\\\":[\\\"Beef\\\",\\\"Lamb\\\",\\\"Pork\\\",\\\"Goat meat\\\",\\\"Chicken meat\\\"],\\\"y\\\":[null,null,1.2178983050847456e7,null,null],\\\"type\\\":\\\"bar\\\",\\\"name\\\":\\\"Mięso\\\",\\\"text\\\":[\\\"Infg\\\",\\\"Infg\\\",\\\"20338.98g\\\",\\\"Infg\\\",\\\"Infg\\\"],\\\"marker\\\":{\\\"color\\\":\\\"red\\\"}},{\\\"x\\\":[\\\"Rice flour\\\",\\\"Dates\\\",\\\"Pasta, dry\\\",\\\"Garlic powder\\\",\\\"Ginger\\\",\\\"Rice, paddy\\\",\\\"Cassava flour\\\",\\\"Potato starch\\\",\\\"Sugar, raw (cane)\\\",\\\"Potato flakes\\\",\\\"Sugar, raw (beet)\\\",\\\"Currants\\\",\\\"Kiwi fruit\\\",\\\"Pumpkins\\\",\\\"Pineapples\\\"],\\\"y\\\":[78088.39915810326,72864.0,59429.489754921655,54360.0,53024.0,51622.52507071227,50888.562718753536,45360.0,39984.0,30868.547492916106,20760.0,15968.0,13408.695652173912,8500.0527036998,6994.285714285715],\\\"type\\\":\\\"bar\\\",\\\"name\\\":\\\"Wege\\\",\\\"text\\\":[\\\"297.14g\\\",\\\"320.0g\\\",\\\"321.41g\\\",\\\"240.0g\\\",\\\"320.0g\\\",\\\"308.56g\\\",\\\"270.97g\\\",\\\"300.0g\\\",\\\"240.0g\\\",\\\"295.68g\\\",\\\"240.0g\\\",\\\"320.0g\\\",\\\"260.87g\\\",\\\"252.98g\\\",\\\"274.29g\\\"],\\\"marker\\\":{\\\"color\\\":\\\"blue\\\"}}],{\\\"template\\\":{\\\"layout\\\":{\\\"coloraxis\\\":{\\\"colorbar\\\":{\\\"ticks\\\":\\\"\\\",\\\"outlinewidth\\\":0}},\\\"xaxis\\\":{\\\"gridcolor\\\":\\\"white\\\",\\\"zerolinewidth\\\":2,\\\"title\\\":{\\\"standoff\\\":15},\\\"ticks\\\":\\\"\\\",\\\"zerolinecolor\\\":\\\"white\\\",\\\"automargin\\\":true,\\\"linecolor\\\":\\\"white\\\"},\\\"hovermode\\\":\\\"closest\\\",\\\"paper_bgcolor\\\":\\\"white\\\",\\\"geo\\\":{\\\"showlakes\\\":true,\\\"showland\\\":true,\\\"landcolor\\\":\\\"#E5ECF6\\\",\\\"bgcolor\\\":\\\"white\\\",\\\"subunitcolor\\\":\\\"white\\\",\\\"lakecolor\\\":\\\"white\\\"},\\\"colorscale\\\":{\\\"sequential\\\":[[0.0,\\\"#0d0887\\\"],[0.1111111111111111,\\\"#46039f\\\"],[0.2222222222222222,\\\"#7201a8\\\"],[0.3333333333333333,\\\"#9c179e\\\"],[0.4444444444444444,\\\"#bd3786\\\"],[0.5555555555555556,\\\"#d8576b\\\"],[0.6666666666666666,\\\"#ed7953\\\"],[0.7777777777777778,\\\"#fb9f3a\\\"],[0.8888888888888888,\\\"#fdca26\\\"],[1.0,\\\"#f0f921\\\"]],\\\"diverging\\\":[[0,\\\"#8e0152\\\"],[0.1,\\\"#c51b7d\\\"],[0.2,\\\"#de77ae\\\"],[0.3,\\\"#f1b6da\\\"],[0.4,\\\"#fde0ef\\\"],[0.5,\\\"#f7f7f7\\\"],[0.6,\\\"#e6f5d0\\\"],[0.7,\\\"#b8e186\\\"],[0.8,\\\"#7fbc41\\\"],[0.9,\\\"#4d9221\\\"],[1,\\\"#276419\\\"]],\\\"sequentialminus\\\":[[0.0,\\\"#0d0887\\\"],[0.1111111111111111,\\\"#46039f\\\"],[0.2222222222222222,\\\"#7201a8\\\"],[0.3333333333333333,\\\"#9c179e\\\"],[0.4444444444444444,\\\"#bd3786\\\"],[0.5555555555555556,\\\"#d8576b\\\"],[0.6666666666666666,\\\"#ed7953\\\"],[0.7777777777777778,\\\"#fb9f3a\\\"],[0.8888888888888888,\\\"#fdca26\\\"],[1.0,\\\"#f0f921\\\"]]},\\\"yaxis\\\":{\\\"gridcolor\\\":\\\"white\\\",\\\"zerolinewidth\\\":2,\\\"title\\\":{\\\"standoff\\\":15},\\\"ticks\\\":\\\"\\\",\\\"zerolinecolor\\\":\\\"white\\\",\\\"automargin\\\":true,\\\"linecolor\\\":\\\"white\\\"},\\\"shapedefaults\\\":{\\\"line\\\":{\\\"color\\\":\\\"#2a3f5f\\\"}},\\\"hoverlabel\\\":{\\\"align\\\":\\\"left\\\"},\\\"mapbox\\\":{\\\"style\\\":\\\"light\\\"},\\\"polar\\\":{\\\"angularaxis\\\":{\\\"gridcolor\\\":\\\"white\\\",\\\"ticks\\\":\\\"\\\",\\\"linecolor\\\":\\\"white\\\"},\\\"bgcolor\\\":\\\"#E5ECF6\\\",\\\"radialaxis\\\":{\\\"gridcolor\\\":\\\"white\\\",\\\"ticks\\\":\\\"\\\",\\\"linecolor\\\":\\\"white\\\"}},\\\"autotypenumbers\\\":\\\"strict\\\",\\\"font\\\":{\\\"color\\\":\\\"#2a3f5f\\\"},\\\"ternary\\\":{\\\"baxis\\\":{\\\"gridcolor\\\":\\\"white\\\",\\\"ticks\\\":\\\"\\\",\\\"linecolor\\\":\\\"white\\\"},\\\"bgcolor\\\":\\\"#E5ECF6\\\",\\\"caxis\\\":{\\\"gridcolor\\\":\\\"white\\\",\\\"ticks\\\":\\\"\\\",\\\"linecolor\\\":\\\"white\\\"},\\\"aaxis\\\":{\\\"gridcolor\\\":\\\"white\\\",\\\"ticks\\\":\\\"\\\",\\\"linecolor\\\":\\\"white\\\"}},\\\"annotationdefaults\\\":{\\\"arrowhead\\\":0,\\\"arrowwidth\\\":1,\\\"arrowcolor\\\":\\\"#2a3f5f\\\"},\\\"plot_bgcolor\\\":\\\"#E5ECF6\\\",\\\"title\\\":{\\\"x\\\":0.05},\\\"scene\\\":{\\\"xaxis\\\":{\\\"gridcolor\\\":\\\"white\\\",\\\"gridwidth\\\":2,\\\"backgroundcolor\\\":\\\"#E5ECF6\\\",\\\"ticks\\\":\\\"\\\",\\\"showbackground\\\":true,\\\"zerolinecolor\\\":\\\"white\\\",\\\"linecolor\\\":\\\"white\\\"},\\\"zaxis\\\":{\\\"gridcolor\\\":\\\"white\\\",\\\"gridwidth\\\":2,\\\"backgroundcolor\\\":\\\"#E5ECF6\\\",\\\"ticks\\\":\\\"\\\",\\\"showbackground\\\":true,\\\"zerolinecolor\\\":\\\"white\\\",\\\"linecolor\\\":\\\"white\\\"},\\\"yaxis\\\":{\\\"gridcolor\\\":\\\"white\\\",\\\"gridwidth\\\":2,\\\"backgroundcolor\\\":\\\"#E5ECF6\\\",\\\"ticks\\\":\\\"\\\",\\\"showbackground\\\":true,\\\"zerolinecolor\\\":\\\"white\\\",\\\"linecolor\\\":\\\"white\\\"}},\\\"colorway\\\":[\\\"#636efa\\\",\\\"#EF553B\\\",\\\"#00cc96\\\",\\\"#ab63fa\\\",\\\"#FFA15A\\\",\\\"#19d3f3\\\",\\\"#FF6692\\\",\\\"#B6E880\\\",\\\"#FF97FF\\\",\\\"#FECB52\\\"]},\\\"data\\\":{\\\"barpolar\\\":[{\\\"type\\\":\\\"barpolar\\\",\\\"marker\\\":{\\\"line\\\":{\\\"color\\\":\\\"#E5ECF6\\\",\\\"width\\\":0.5}}}],\\\"carpet\\\":[{\\\"aaxis\\\":{\\\"gridcolor\\\":\\\"white\\\",\\\"endlinecolor\\\":\\\"#2a3f5f\\\",\\\"minorgridcolor\\\":\\\"white\\\",\\\"startlinecolor\\\":\\\"#2a3f5f\\\",\\\"linecolor\\\":\\\"white\\\"},\\\"type\\\":\\\"carpet\\\",\\\"baxis\\\":{\\\"gridcolor\\\":\\\"white\\\",\\\"endlinecolor\\\":\\\"#2a3f5f\\\",\\\"minorgridcolor\\\":\\\"white\\\",\\\"startlinecolor\\\":\\\"#2a3f5f\\\",\\\"linecolor\\\":\\\"white\\\"}}],\\\"scatterpolar\\\":[{\\\"type\\\":\\\"scatterpolar\\\",\\\"marker\\\":{\\\"colorbar\\\":{\\\"ticks\\\":\\\"\\\",\\\"outlinewidth\\\":0}}}],\\\"parcoords\\\":[{\\\"line\\\":{\\\"colorbar\\\":{\\\"ticks\\\":\\\"\\\",\\\"outlinewidth\\\":0}},\\\"type\\\":\\\"parcoords\\\"}],\\\"scatter\\\":[{\\\"type\\\":\\\"scatter\\\",\\\"marker\\\":{\\\"colorbar\\\":{\\\"ticks\\\":\\\"\\\",\\\"outlinewidth\\\":0}}}],\\\"histogram2dcontour\\\":[{\\\"colorbar\\\":{\\\"ticks\\\":\\\"\\\",\\\"outlinewidth\\\":0},\\\"type\\\":\\\"histogram2dcontour\\\",\\\"colorscale\\\":[[0.0,\\\"#0d0887\\\"],[0.1111111111111111,\\\"#46039f\\\"],[0.2222222222222222,\\\"#7201a8\\\"],[0.3333333333333333,\\\"#9c179e\\\"],[0.4444444444444444,\\\"#bd3786\\\"],[0.5555555555555556,\\\"#d8576b\\\"],[0.6666666666666666,\\\"#ed7953\\\"],[0.7777777777777778,\\\"#fb9f3a\\\"],[0.8888888888888888,\\\"#fdca26\\\"],[1.0,\\\"#f0f921\\\"]]}],\\\"contour\\\":[{\\\"colorbar\\\":{\\\"ticks\\\":\\\"\\\",\\\"outlinewidth\\\":0},\\\"type\\\":\\\"contour\\\",\\\"colorscale\\\":[[0.0,\\\"#0d0887\\\"],[0.1111111111111111,\\\"#46039f\\\"],[0.2222222222222222,\\\"#7201a8\\\"],[0.3333333333333333,\\\"#9c179e\\\"],[0.4444444444444444,\\\"#bd3786\\\"],[0.5555555555555556,\\\"#d8576b\\\"],[0.6666666666666666,\\\"#ed7953\\\"],[0.7777777777777778,\\\"#fb9f3a\\\"],[0.8888888888888888,\\\"#fdca26\\\"],[1.0,\\\"#f0f921\\\"]]}],\\\"scattercarpet\\\":[{\\\"type\\\":\\\"scattercarpet\\\",\\\"marker\\\":{\\\"colorbar\\\":{\\\"ticks\\\":\\\"\\\",\\\"outlinewidth\\\":0}}}],\\\"mesh3d\\\":[{\\\"colorbar\\\":{\\\"ticks\\\":\\\"\\\",\\\"outlinewidth\\\":0},\\\"type\\\":\\\"mesh3d\\\"}],\\\"surface\\\":[{\\\"colorbar\\\":{\\\"ticks\\\":\\\"\\\",\\\"outlinewidth\\\":0},\\\"type\\\":\\\"surface\\\",\\\"colorscale\\\":[[0.0,\\\"#0d0887\\\"],[0.1111111111111111,\\\"#46039f\\\"],[0.2222222222222222,\\\"#7201a8\\\"],[0.3333333333333333,\\\"#9c179e\\\"],[0.4444444444444444,\\\"#bd3786\\\"],[0.5555555555555556,\\\"#d8576b\\\"],[0.6666666666666666,\\\"#ed7953\\\"],[0.7777777777777778,\\\"#fb9f3a\\\"],[0.8888888888888888,\\\"#fdca26\\\"],[1.0,\\\"#f0f921\\\"]]}],\\\"scattermapbox\\\":[{\\\"type\\\":\\\"scattermapbox\\\",\\\"marker\\\":{\\\"colorbar\\\":{\\\"ticks\\\":\\\"\\\",\\\"outlinewidth\\\":0}}}],\\\"scattergeo\\\":[{\\\"type\\\":\\\"scattergeo\\\",\\\"marker\\\":{\\\"colorbar\\\":{\\\"ticks\\\":\\\"\\\",\\\"outlinewidth\\\":0}}}],\\\"histogram\\\":[{\\\"type\\\":\\\"histogram\\\",\\\"marker\\\":{\\\"colorbar\\\":{\\\"ticks\\\":\\\"\\\",\\\"outlinewidth\\\":0}}}],\\\"pie\\\":[{\\\"type\\\":\\\"pie\\\",\\\"automargin\\\":true}],\\\"choropleth\\\":[{\\\"colorbar\\\":{\\\"ticks\\\":\\\"\\\",\\\"outlinewidth\\\":0},\\\"type\\\":\\\"choropleth\\\"}],\\\"heatmapgl\\\":[{\\\"colorbar\\\":{\\\"ticks\\\":\\\"\\\",\\\"outlinewidth\\\":0},\\\"type\\\":\\\"heatmapgl\\\",\\\"colorscale\\\":[[0.0,\\\"#0d0887\\\"],[0.1111111111111111,\\\"#46039f\\\"],[0.2222222222222222,\\\"#7201a8\\\"],[0.3333333333333333,\\\"#9c179e\\\"],[0.4444444444444444,\\\"#bd3786\\\"],[0.5555555555555556,\\\"#d8576b\\\"],[0.6666666666666666,\\\"#ed7953\\\"],[0.7777777777777778,\\\"#fb9f3a\\\"],[0.8888888888888888,\\\"#fdca26\\\"],[1.0,\\\"#f0f921\\\"]]}],\\\"bar\\\":[{\\\"type\\\":\\\"bar\\\",\\\"error_y\\\":{\\\"color\\\":\\\"#2a3f5f\\\"},\\\"error_x\\\":{\\\"color\\\":\\\"#2a3f5f\\\"},\\\"marker\\\":{\\\"line\\\":{\\\"color\\\":\\\"#E5ECF6\\\",\\\"width\\\":0.5}}}],\\\"heatmap\\\":[{\\\"colorbar\\\":{\\\"ticks\\\":\\\"\\\",\\\"outlinewidth\\\":0},\\\"type\\\":\\\"heatmap\\\",\\\"colorscale\\\":[[0.0,\\\"#0d0887\\\"],[0.1111111111111111,\\\"#46039f\\\"],[0.2222222222222222,\\\"#7201a8\\\"],[0.3333333333333333,\\\"#9c179e\\\"],[0.4444444444444444,\\\"#bd3786\\\"],[0.5555555555555556,\\\"#d8576b\\\"],[0.6666666666666666,\\\"#ed7953\\\"],[0.7777777777777778,\\\"#fb9f3a\\\"],[0.8888888888888888,\\\"#fdca26\\\"],[1.0,\\\"#f0f921\\\"]]}],\\\"contourcarpet\\\":[{\\\"colorbar\\\":{\\\"ticks\\\":\\\"\\\",\\\"outlinewidth\\\":0},\\\"type\\\":\\\"contourcarpet\\\"}],\\\"table\\\":[{\\\"type\\\":\\\"table\\\",\\\"header\\\":{\\\"line\\\":{\\\"color\\\":\\\"white\\\"},\\\"fill\\\":{\\\"color\\\":\\\"#C8D4E3\\\"}},\\\"cells\\\":{\\\"line\\\":{\\\"color\\\":\\\"white\\\"},\\\"fill\\\":{\\\"color\\\":\\\"#EBF0F8\\\"}}}],\\\"scatter3d\\\":[{\\\"line\\\":{\\\"colorbar\\\":{\\\"ticks\\\":\\\"\\\",\\\"outlinewidth\\\":0}},\\\"type\\\":\\\"scatter3d\\\",\\\"marker\\\":{\\\"colorbar\\\":{\\\"ticks\\\":\\\"\\\",\\\"outlinewidth\\\":0}}}],\\\"scattergl\\\":[{\\\"type\\\":\\\"scattergl\\\",\\\"marker\\\":{\\\"colorbar\\\":{\\\"ticks\\\":\\\"\\\",\\\"outlinewidth\\\":0}}}],\\\"histogram2d\\\":[{\\\"colorbar\\\":{\\\"ticks\\\":\\\"\\\",\\\"outlinewidth\\\":0},\\\"type\\\":\\\"histogram2d\\\",\\\"colorscale\\\":[[0.0,\\\"#0d0887\\\"],[0.1111111111111111,\\\"#46039f\\\"],[0.2222222222222222,\\\"#7201a8\\\"],[0.3333333333333333,\\\"#9c179e\\\"],[0.4444444444444444,\\\"#bd3786\\\"],[0.5555555555555556,\\\"#d8576b\\\"],[0.6666666666666666,\\\"#ed7953\\\"],[0.7777777777777778,\\\"#fb9f3a\\\"],[0.8888888888888888,\\\"#fdca26\\\"],[1.0,\\\"#f0f921\\\"]]}],\\\"scatterternary\\\":[{\\\"type\\\":\\\"scatterternary\\\",\\\"marker\\\":{\\\"colorbar\\\":{\\\"ticks\\\":\\\"\\\",\\\"outlinewidth\\\":0}}}],\\\"scatterpolargl\\\":[{\\\"type\\\":\\\"scatterpolargl\\\",\\\"marker\\\":{\\\"colorbar\\\":{\\\"ticks\\\":\\\"\\\",\\\"outlinewidth\\\":0}}}]}},\\\"margin\\\":{\\\"l\\\":50,\\\"b\\\":50,\\\"r\\\":50,\\\"t\\\":60},\\\"title\\\":\\\"Uzupełnianie węglowodanów danym produktem przez 100 dni\\\",\\\"yaxis\\\":{\\\"title\\\":\\\"Zużyta woda[m³]\\\"}},{\\\"showLink\\\":false,\\\"editable\\\":false,\\\"responsive\\\":true,\\\"staticPlot\\\":false,\\\"scrollZoom\\\":true}); gd.on(\\\"plotly_hover\\\",(function (data){var filtered_data=WebIO.PlotlyCommands.filterEventData(gd,data,\\\"hover\\\"); return !(filtered_data.isnil) ? (WebIO.setval({\\\"name\\\":\\\"hover\\\",\\\"scope\\\":\\\"7791930350119722055\\\",\\\"id\\\":\\\"9548995920449604922\\\",\\\"type\\\":\\\"observable\\\"},filtered_data.out)) : undefined})); gd.on(\\\"plotly_unhover\\\",(function (){return WebIO.setval({\\\"name\\\":\\\"hover\\\",\\\"scope\\\":\\\"7791930350119722055\\\",\\\"id\\\":\\\"9548995920449604922\\\",\\\"type\\\":\\\"observable\\\"},{})})); gd.on(\\\"plotly_selected\\\",(function (data){var filtered_data=WebIO.PlotlyCommands.filterEventData(gd,data,\\\"selected\\\"); return !(filtered_data.isnil) ? (WebIO.setval({\\\"name\\\":\\\"selected\\\",\\\"scope\\\":\\\"7791930350119722055\\\",\\\"id\\\":\\\"14920907426401569092\\\",\\\"type\\\":\\\"observable\\\"},filtered_data.out)) : undefined})); gd.on(\\\"plotly_deselect\\\",(function (){return WebIO.setval({\\\"name\\\":\\\"selected\\\",\\\"scope\\\":\\\"7791930350119722055\\\",\\\"id\\\":\\\"14920907426401569092\\\",\\\"type\\\":\\\"observable\\\"},{})})); gd.on(\\\"plotly_relayout\\\",(function (data){var filtered_data=WebIO.PlotlyCommands.filterEventData(gd,data,\\\"relayout\\\"); return !(filtered_data.isnil) ? (WebIO.setval({\\\"name\\\":\\\"relayout\\\",\\\"scope\\\":\\\"7791930350119722055\\\",\\\"id\\\":\\\"17233228954623887535\\\",\\\"type\\\":\\\"observable\\\"},filtered_data.out)) : undefined})); return gd.on(\\\"plotly_click\\\",(function (data){var filtered_data=WebIO.PlotlyCommands.filterEventData(gd,data,\\\"click\\\"); return !(filtered_data.isnil) ? (WebIO.setval({\\\"name\\\":\\\"click\\\",\\\"scope\\\":\\\"7791930350119722055\\\",\\\"id\\\":\\\"7241979686157629605\\\",\\\"type\\\":\\\"observable\\\"},filtered_data.out)) : undefined}))}));\\n    (WebIO.importBlock({\\\"data\\\":[{\\\"name\\\":\\\"Plotly\\\",\\\"type\\\":\\\"js\\\",\\\"url\\\":\\\"\\/assetserver\\/7dc425d3d9acdbb7fba54ce8841409ff1fd2b16c-plotly.min.js\\\"},{\\\"name\\\":null,\\\"type\\\":\\\"js\\\",\\\"url\\\":\\\"\\/assetserver\\/bdef9d06b2ff8f6ff9f383d24c2633cfc4dfc0cb-plotly_webio.bundle.js\\\"}],\\\"type\\\":\\\"async_block\\\"})).then((imports) => handler.apply(this, imports));\\n}\\n\"],\"observables\":{\"_toImage\":{\"sync\":false,\"id\":\"2174265900580774641\",\"value\":{}},\"hover\":{\"sync\":false,\"id\":\"9548995920449604922\",\"value\":{}},\"selected\":{\"sync\":false,\"id\":\"14920907426401569092\",\"value\":{}},\"__gd_contents\":{\"sync\":false,\"id\":\"14978324408962053746\",\"value\":{}},\"click\":{\"sync\":false,\"id\":\"7241979686157629605\",\"value\":{}},\"image\":{\"sync\":true,\"id\":\"9590276206212864813\",\"value\":\"\"},\"__get_gd_contents\":{\"sync\":false,\"id\":\"28294155231609832\",\"value\":\"\"},\"_downloadImage\":{\"sync\":false,\"id\":\"6025906845879916769\",\"value\":{}},\"relayout\":{\"sync\":false,\"id\":\"17233228954623887535\",\"value\":{}},\"_commands\":{\"sync\":false,\"id\":\"3778772018466741377\",\"value\":[]}}},\"children\":[{\"props\":{\"id\":\"plot-46c3dfa9-dc12-4d36-b198-f87fd7fb824d\"},\"nodeType\":\"DOM\",\"type\":\"node\",\"instanceArgs\":{\"namespace\":\"html\",\"tag\":\"div\"},\"children\":[]}]},\n",
       "        window,\n",
       "    );\n",
       "    })()\n",
       "    </script>\n",
       "</div>\n"
      ],
      "text/plain": [
       "data: [\n",
       "  \"bar with fields marker, name, text, type, x, and y\",\n",
       "  \"bar with fields marker, name, text, type, x, and y\"\n",
       "]\n",
       "\n",
       "layout: \"layout with fields margin, template, title, and yaxis\"\n",
       "\n"
      ]
     },
     "execution_count": 15,
     "metadata": {},
     "output_type": "execute_result"
    }
   ],
   "source": [
    "#ograniczamy produkty bezmięsne 3 produktem mięsnym o najmniejszym zużyciu wody\n",
    "ograniczenie_wegle = sort!(mieso_df,[order(:zuzycie_wody_na_100_g,rev=true)])[3,2]\n",
    "wyniki_wegle = top_wegle[top_wegle.zuzycie_wody_na_100_g .< ograniczenie_wegle,:]\n",
    "\n",
    "przedzial = 1:15\n",
    "\n",
    "wegle_100_dni = [(wyniki_wegle[i,1],string(round((240/wyniki_wegle[i,6])*100,digits=2))*\"g\" ,(wyniki_wegle[i,2]*(240/wyniki_wegle[i,6]))*100 ) for i in przedzial]\n",
    "sort!(wegle_100_dni, by=last, rev=true)\n",
    "\n",
    "trace2 = bar(;\n",
    "    x = [wegle_100_dni[i][1] for i in przedzial],\n",
    "    y = [wegle_100_dni[i][3] for i in przedzial],\n",
    "    text = [wegle_100_dni[i][2] for i in przedzial],\n",
    "    name = \"Wege\",\n",
    "    marker_color = \"blue\",\n",
    "    )\n",
    "\n",
    "# trace2 = bar(;\n",
    "#     x = [wegle_100_dni[i][1] for i in przedzial],\n",
    "#     y = [wegle_100_dni[i][3] for i in przedzial],\n",
    "#     text = [wegle_100_dni[i][2] for i in przedzial],\n",
    "#     name = \"Wege\",\n",
    "#     marker_color = \"blue\",\n",
    "#     )\n",
    "\n",
    "trace1 = bar(;\n",
    "    x = [mieso_df[i,1] for i in 1:5],\n",
    "    y = [(mieso_df[i,2]*(240/mieso_df[i,6]))*100 for i in 1:5],\n",
    "    text = [string(round((240/mieso_df[i,6])*100,digits=2))*\"g\" for i in 1:5],\n",
    "    name = \"Mięso\",\n",
    "    marker_color = \"red\",\n",
    "    )\n",
    "layout = Layout(;\n",
    "    title=\"Uzupełnianie węglowodanów danym produktem przez 100 dni\",\n",
    "    yaxis = attr(\n",
    "        title=\"Zużyta woda[m³]\"\n",
    "    ))\n",
    "\n",
    "plot([trace1,trace2],layout)\n",
    "#plot(trace2,layout)\n",
    "\n"
   ]
  },
  {
   "cell_type": "code",
   "execution_count": 16,
   "id": "1ef056e9",
   "metadata": {},
   "outputs": [
    {
     "data": {
      "application/vnd.plotly.v1+json": {
       "config": {
        "editable": false,
        "responsive": true,
        "scrollZoom": true,
        "showLink": false,
        "staticPlot": false
       },
       "data": [
        {
         "marker": {
          "color": "blue",
          "size": 8
         },
         "mode": "markers",
         "name": "Wege",
         "text": [
          "Olive oil",
          "Peanut oil",
          "Soybean oil",
          "Coconut oil",
          "Cocoa butter, fat and oil",
          "Cottonseed oil",
          "Oil palm",
          "Palm oil",
          "Sesame oil",
          "Sunflower seed oil",
          "Palm kernel oil",
          "Linseed",
          "Butter",
          "Cashew nuts",
          "Walnuts",
          "Sesame seed",
          "Hazelnuts",
          "Almonds",
          "Peanuts",
          "Pistachios",
          "Poppy seeds",
          "Plantains",
          "Safflower seeds",
          "Chocolate",
          "Garlic powder",
          "Mustard seeds",
          "Taro",
          "Wheat flour",
          "Soybeans",
          "Oats",
          "Sugar, raw (beet)",
          "Sugar, raw (cane)",
          "Pumpkins",
          "Rice, paddy",
          "Milk powder",
          "Pasta, dry",
          "Kiwi fruit",
          "Cheese",
          "Maize",
          "Maize flour"
         ],
         "type": "scatter",
         "x": [
          1472.6,
          752.9,
          419,
          449,
          3393.8,
          395.7,
          109.8,
          497.1,
          2179.3,
          679.2,
          540.1,
          516.8,
          555.3,
          1421.8,
          928,
          937.1,
          1051.5,
          1609.5,
          397.4,
          1136.3,
          218.8,
          160.2,
          722.1,
          1719.6,
          226.5,
          280.9,
          60.6,
          184.9,
          214.5,
          241.6,
          86.5,
          166.6,
          33.6,
          167.3,
          474.5,
          184.9,
          51.4,
          506,
          122.2,
          125.3
         ],
         "y": [
          900,
          900,
          900,
          895,
          884,
          884,
          884,
          884,
          884,
          884,
          862,
          821,
          714,
          679,
          654,
          633,
          628,
          626,
          567,
          536,
          533,
          531,
          517,
          514,
          500,
          500,
          498,
          467,
          446,
          389,
          386,
          386,
          385,
          378,
          375,
          371,
          370,
          367,
          365,
          364
         ]
        },
        {
         "marker": {
          "color": "red",
          "size": 8
         },
         "mode": "markers",
         "name": "Mięso",
         "text": [
          "Beef",
          "Lamb",
          "Pork",
          "Goat meat",
          "Chicken meat"
         ],
         "type": "scatter",
         "x": [
          1541.5,
          1041.2,
          598.8,
          552.1,
          432.5
         ],
         "y": [
          129,
          264,
          118,
          109,
          239
         ]
        }
       ],
       "frames": [],
       "layout": {
        "margin": {
         "b": 50,
         "l": 50,
         "r": 50,
         "t": 60
        },
        "paper_bgcolor": "rgb(254, 247, 234)",
        "plot_bgcolor": "rgb(254, 247, 234)",
        "template": {
         "data": {
          "bar": [
           {
            "error_x": {
             "color": "#2a3f5f"
            },
            "error_y": {
             "color": "#2a3f5f"
            },
            "marker": {
             "line": {
              "color": "#E5ECF6",
              "width": 0.5
             }
            },
            "type": "bar"
           }
          ],
          "barpolar": [
           {
            "marker": {
             "line": {
              "color": "#E5ECF6",
              "width": 0.5
             }
            },
            "type": "barpolar"
           }
          ],
          "carpet": [
           {
            "aaxis": {
             "endlinecolor": "#2a3f5f",
             "gridcolor": "white",
             "linecolor": "white",
             "minorgridcolor": "white",
             "startlinecolor": "#2a3f5f"
            },
            "baxis": {
             "endlinecolor": "#2a3f5f",
             "gridcolor": "white",
             "linecolor": "white",
             "minorgridcolor": "white",
             "startlinecolor": "#2a3f5f"
            },
            "type": "carpet"
           }
          ],
          "choropleth": [
           {
            "colorbar": {
             "outlinewidth": 0,
             "ticks": ""
            },
            "type": "choropleth"
           }
          ],
          "contour": [
           {
            "colorbar": {
             "outlinewidth": 0,
             "ticks": ""
            },
            "colorscale": [
             [
              0,
              "#0d0887"
             ],
             [
              0.1111111111111111,
              "#46039f"
             ],
             [
              0.2222222222222222,
              "#7201a8"
             ],
             [
              0.3333333333333333,
              "#9c179e"
             ],
             [
              0.4444444444444444,
              "#bd3786"
             ],
             [
              0.5555555555555556,
              "#d8576b"
             ],
             [
              0.6666666666666666,
              "#ed7953"
             ],
             [
              0.7777777777777778,
              "#fb9f3a"
             ],
             [
              0.8888888888888888,
              "#fdca26"
             ],
             [
              1,
              "#f0f921"
             ]
            ],
            "type": "contour"
           }
          ],
          "contourcarpet": [
           {
            "colorbar": {
             "outlinewidth": 0,
             "ticks": ""
            },
            "type": "contourcarpet"
           }
          ],
          "heatmap": [
           {
            "colorbar": {
             "outlinewidth": 0,
             "ticks": ""
            },
            "colorscale": [
             [
              0,
              "#0d0887"
             ],
             [
              0.1111111111111111,
              "#46039f"
             ],
             [
              0.2222222222222222,
              "#7201a8"
             ],
             [
              0.3333333333333333,
              "#9c179e"
             ],
             [
              0.4444444444444444,
              "#bd3786"
             ],
             [
              0.5555555555555556,
              "#d8576b"
             ],
             [
              0.6666666666666666,
              "#ed7953"
             ],
             [
              0.7777777777777778,
              "#fb9f3a"
             ],
             [
              0.8888888888888888,
              "#fdca26"
             ],
             [
              1,
              "#f0f921"
             ]
            ],
            "type": "heatmap"
           }
          ],
          "heatmapgl": [
           {
            "colorbar": {
             "outlinewidth": 0,
             "ticks": ""
            },
            "colorscale": [
             [
              0,
              "#0d0887"
             ],
             [
              0.1111111111111111,
              "#46039f"
             ],
             [
              0.2222222222222222,
              "#7201a8"
             ],
             [
              0.3333333333333333,
              "#9c179e"
             ],
             [
              0.4444444444444444,
              "#bd3786"
             ],
             [
              0.5555555555555556,
              "#d8576b"
             ],
             [
              0.6666666666666666,
              "#ed7953"
             ],
             [
              0.7777777777777778,
              "#fb9f3a"
             ],
             [
              0.8888888888888888,
              "#fdca26"
             ],
             [
              1,
              "#f0f921"
             ]
            ],
            "type": "heatmapgl"
           }
          ],
          "histogram": [
           {
            "marker": {
             "colorbar": {
              "outlinewidth": 0,
              "ticks": ""
             }
            },
            "type": "histogram"
           }
          ],
          "histogram2d": [
           {
            "colorbar": {
             "outlinewidth": 0,
             "ticks": ""
            },
            "colorscale": [
             [
              0,
              "#0d0887"
             ],
             [
              0.1111111111111111,
              "#46039f"
             ],
             [
              0.2222222222222222,
              "#7201a8"
             ],
             [
              0.3333333333333333,
              "#9c179e"
             ],
             [
              0.4444444444444444,
              "#bd3786"
             ],
             [
              0.5555555555555556,
              "#d8576b"
             ],
             [
              0.6666666666666666,
              "#ed7953"
             ],
             [
              0.7777777777777778,
              "#fb9f3a"
             ],
             [
              0.8888888888888888,
              "#fdca26"
             ],
             [
              1,
              "#f0f921"
             ]
            ],
            "type": "histogram2d"
           }
          ],
          "histogram2dcontour": [
           {
            "colorbar": {
             "outlinewidth": 0,
             "ticks": ""
            },
            "colorscale": [
             [
              0,
              "#0d0887"
             ],
             [
              0.1111111111111111,
              "#46039f"
             ],
             [
              0.2222222222222222,
              "#7201a8"
             ],
             [
              0.3333333333333333,
              "#9c179e"
             ],
             [
              0.4444444444444444,
              "#bd3786"
             ],
             [
              0.5555555555555556,
              "#d8576b"
             ],
             [
              0.6666666666666666,
              "#ed7953"
             ],
             [
              0.7777777777777778,
              "#fb9f3a"
             ],
             [
              0.8888888888888888,
              "#fdca26"
             ],
             [
              1,
              "#f0f921"
             ]
            ],
            "type": "histogram2dcontour"
           }
          ],
          "mesh3d": [
           {
            "colorbar": {
             "outlinewidth": 0,
             "ticks": ""
            },
            "type": "mesh3d"
           }
          ],
          "parcoords": [
           {
            "line": {
             "colorbar": {
              "outlinewidth": 0,
              "ticks": ""
             }
            },
            "type": "parcoords"
           }
          ],
          "pie": [
           {
            "automargin": true,
            "type": "pie"
           }
          ],
          "scatter": [
           {
            "marker": {
             "colorbar": {
              "outlinewidth": 0,
              "ticks": ""
             }
            },
            "type": "scatter"
           }
          ],
          "scatter3d": [
           {
            "line": {
             "colorbar": {
              "outlinewidth": 0,
              "ticks": ""
             }
            },
            "marker": {
             "colorbar": {
              "outlinewidth": 0,
              "ticks": ""
             }
            },
            "type": "scatter3d"
           }
          ],
          "scattercarpet": [
           {
            "marker": {
             "colorbar": {
              "outlinewidth": 0,
              "ticks": ""
             }
            },
            "type": "scattercarpet"
           }
          ],
          "scattergeo": [
           {
            "marker": {
             "colorbar": {
              "outlinewidth": 0,
              "ticks": ""
             }
            },
            "type": "scattergeo"
           }
          ],
          "scattergl": [
           {
            "marker": {
             "colorbar": {
              "outlinewidth": 0,
              "ticks": ""
             }
            },
            "type": "scattergl"
           }
          ],
          "scattermapbox": [
           {
            "marker": {
             "colorbar": {
              "outlinewidth": 0,
              "ticks": ""
             }
            },
            "type": "scattermapbox"
           }
          ],
          "scatterpolar": [
           {
            "marker": {
             "colorbar": {
              "outlinewidth": 0,
              "ticks": ""
             }
            },
            "type": "scatterpolar"
           }
          ],
          "scatterpolargl": [
           {
            "marker": {
             "colorbar": {
              "outlinewidth": 0,
              "ticks": ""
             }
            },
            "type": "scatterpolargl"
           }
          ],
          "scatterternary": [
           {
            "marker": {
             "colorbar": {
              "outlinewidth": 0,
              "ticks": ""
             }
            },
            "type": "scatterternary"
           }
          ],
          "surface": [
           {
            "colorbar": {
             "outlinewidth": 0,
             "ticks": ""
            },
            "colorscale": [
             [
              0,
              "#0d0887"
             ],
             [
              0.1111111111111111,
              "#46039f"
             ],
             [
              0.2222222222222222,
              "#7201a8"
             ],
             [
              0.3333333333333333,
              "#9c179e"
             ],
             [
              0.4444444444444444,
              "#bd3786"
             ],
             [
              0.5555555555555556,
              "#d8576b"
             ],
             [
              0.6666666666666666,
              "#ed7953"
             ],
             [
              0.7777777777777778,
              "#fb9f3a"
             ],
             [
              0.8888888888888888,
              "#fdca26"
             ],
             [
              1,
              "#f0f921"
             ]
            ],
            "type": "surface"
           }
          ],
          "table": [
           {
            "cells": {
             "fill": {
              "color": "#EBF0F8"
             },
             "line": {
              "color": "white"
             }
            },
            "header": {
             "fill": {
              "color": "#C8D4E3"
             },
             "line": {
              "color": "white"
             }
            },
            "type": "table"
           }
          ]
         },
         "layout": {
          "annotationdefaults": {
           "arrowcolor": "#2a3f5f",
           "arrowhead": 0,
           "arrowwidth": 1
          },
          "autotypenumbers": "strict",
          "coloraxis": {
           "colorbar": {
            "outlinewidth": 0,
            "ticks": ""
           }
          },
          "colorscale": {
           "diverging": [
            [
             0,
             "#8e0152"
            ],
            [
             0.1,
             "#c51b7d"
            ],
            [
             0.2,
             "#de77ae"
            ],
            [
             0.3,
             "#f1b6da"
            ],
            [
             0.4,
             "#fde0ef"
            ],
            [
             0.5,
             "#f7f7f7"
            ],
            [
             0.6,
             "#e6f5d0"
            ],
            [
             0.7,
             "#b8e186"
            ],
            [
             0.8,
             "#7fbc41"
            ],
            [
             0.9,
             "#4d9221"
            ],
            [
             1,
             "#276419"
            ]
           ],
           "sequential": [
            [
             0,
             "#0d0887"
            ],
            [
             0.1111111111111111,
             "#46039f"
            ],
            [
             0.2222222222222222,
             "#7201a8"
            ],
            [
             0.3333333333333333,
             "#9c179e"
            ],
            [
             0.4444444444444444,
             "#bd3786"
            ],
            [
             0.5555555555555556,
             "#d8576b"
            ],
            [
             0.6666666666666666,
             "#ed7953"
            ],
            [
             0.7777777777777778,
             "#fb9f3a"
            ],
            [
             0.8888888888888888,
             "#fdca26"
            ],
            [
             1,
             "#f0f921"
            ]
           ],
           "sequentialminus": [
            [
             0,
             "#0d0887"
            ],
            [
             0.1111111111111111,
             "#46039f"
            ],
            [
             0.2222222222222222,
             "#7201a8"
            ],
            [
             0.3333333333333333,
             "#9c179e"
            ],
            [
             0.4444444444444444,
             "#bd3786"
            ],
            [
             0.5555555555555556,
             "#d8576b"
            ],
            [
             0.6666666666666666,
             "#ed7953"
            ],
            [
             0.7777777777777778,
             "#fb9f3a"
            ],
            [
             0.8888888888888888,
             "#fdca26"
            ],
            [
             1,
             "#f0f921"
            ]
           ]
          },
          "colorway": [
           "#636efa",
           "#EF553B",
           "#00cc96",
           "#ab63fa",
           "#FFA15A",
           "#19d3f3",
           "#FF6692",
           "#B6E880",
           "#FF97FF",
           "#FECB52"
          ],
          "font": {
           "color": "#2a3f5f"
          },
          "geo": {
           "bgcolor": "white",
           "lakecolor": "white",
           "landcolor": "#E5ECF6",
           "showlakes": true,
           "showland": true,
           "subunitcolor": "white"
          },
          "hoverlabel": {
           "align": "left"
          },
          "hovermode": "closest",
          "mapbox": {
           "style": "light"
          },
          "paper_bgcolor": "white",
          "plot_bgcolor": "#E5ECF6",
          "polar": {
           "angularaxis": {
            "gridcolor": "white",
            "linecolor": "white",
            "ticks": ""
           },
           "bgcolor": "#E5ECF6",
           "radialaxis": {
            "gridcolor": "white",
            "linecolor": "white",
            "ticks": ""
           }
          },
          "scene": {
           "xaxis": {
            "backgroundcolor": "#E5ECF6",
            "gridcolor": "white",
            "gridwidth": 2,
            "linecolor": "white",
            "showbackground": true,
            "ticks": "",
            "zerolinecolor": "white"
           },
           "yaxis": {
            "backgroundcolor": "#E5ECF6",
            "gridcolor": "white",
            "gridwidth": 2,
            "linecolor": "white",
            "showbackground": true,
            "ticks": "",
            "zerolinecolor": "white"
           },
           "zaxis": {
            "backgroundcolor": "#E5ECF6",
            "gridcolor": "white",
            "gridwidth": 2,
            "linecolor": "white",
            "showbackground": true,
            "ticks": "",
            "zerolinecolor": "white"
           }
          },
          "shapedefaults": {
           "line": {
            "color": "#2a3f5f"
           }
          },
          "ternary": {
           "aaxis": {
            "gridcolor": "white",
            "linecolor": "white",
            "ticks": ""
           },
           "baxis": {
            "gridcolor": "white",
            "linecolor": "white",
            "ticks": ""
           },
           "bgcolor": "#E5ECF6",
           "caxis": {
            "gridcolor": "white",
            "linecolor": "white",
            "ticks": ""
           }
          },
          "title": {
           "x": 0.05
          },
          "xaxis": {
           "automargin": true,
           "gridcolor": "white",
           "linecolor": "white",
           "ticks": "",
           "title": {
            "standoff": 15
           },
           "zerolinecolor": "white",
           "zerolinewidth": 2
          },
          "yaxis": {
           "automargin": true,
           "gridcolor": "white",
           "linecolor": "white",
           "ticks": "",
           "title": {
            "standoff": 15
           },
           "zerolinecolor": "white",
           "zerolinewidth": 2
          }
         }
        },
        "title": "Zależność kcal od zużycia wody",
        "xaxis": {
         "gridcolor": "rgb(125,125,125)",
         "linecolor": "rgb(20,20,20)",
         "showgrid": true,
         "showline": true,
         "title": "Ślad wodny",
         "zeroline": true,
         "zerolinecolor": "rgb(0,0,0)"
        },
        "yaxis": {
         "gridcolor": "rgb(125,125,125)",
         "linecolor": "rgb(20,20,20)",
         "showgrid": true,
         "showline": true,
         "title": "Energia(kcal)",
         "zeroline": true,
         "zerolinecolor": "rgb(0,0,0)"
        }
       }
      },
      "text/html": [
       "<div\n",
       "    class=\"webio-mountpoint\"\n",
       "    data-webio-mountpoint=\"9729618921794439215\"\n",
       ">\n",
       "    <script>\n",
       "    (function(){\n",
       "    // Some integrations (namely, IJulia/Jupyter) use an alternate render pathway than\n",
       "    // just putting the html on the page. If WebIO isn't defined, then it's pretty likely\n",
       "    // that we're in one of those situations and the integration just isn't installed\n",
       "    // correctly.\n",
       "    if (typeof window.WebIO === \"undefined\") {\n",
       "        document\n",
       "            .querySelector('[data-webio-mountpoint=\"9729618921794439215\"]')\n",
       "            .innerHTML = (\n",
       "                '<div style=\"padding: 1em; background-color: #f8d6da; border: 1px solid #f5c6cb; font-weight: bold;\">' +\n",
       "                '<p><strong>WebIO not detected.</strong></p>' +\n",
       "                '<p>Please read ' +\n",
       "                '<a href=\"https://juliagizmos.github.io/WebIO.jl/latest/troubleshooting/not-detected/\" target=\"_blank\">the troubleshooting guide</a> ' +\n",
       "                'for more information on how to resolve this issue.</p>' +\n",
       "                '<p><a href=\"https://juliagizmos.github.io/WebIO.jl/latest/troubleshooting/not-detected/\" target=\"_blank\">https://juliagizmos.github.io/WebIO.jl/latest/troubleshooting/not-detected/</a></p>' +\n",
       "                '</div>'\n",
       "            );\n",
       "        return;\n",
       "    }\n",
       "    WebIO.mount(\n",
       "        document.querySelector('[data-webio-mountpoint=\"9729618921794439215\"]'),\n",
       "        {\"props\":{},\"nodeType\":\"Scope\",\"type\":\"node\",\"instanceArgs\":{\"imports\":{\"data\":[{\"name\":\"Plotly\",\"type\":\"js\",\"url\":\"\\/assetserver\\/7dc425d3d9acdbb7fba54ce8841409ff1fd2b16c-plotly.min.js\"},{\"name\":null,\"type\":\"js\",\"url\":\"\\/assetserver\\/bdef9d06b2ff8f6ff9f383d24c2633cfc4dfc0cb-plotly_webio.bundle.js\"}],\"type\":\"async_block\"},\"id\":\"9262889482814544622\",\"handlers\":{\"_toImage\":[\"(function (options){return this.Plotly.toImage(this.plotElem,options).then((function (data){return WebIO.setval({\\\"name\\\":\\\"image\\\",\\\"scope\\\":\\\"9262889482814544622\\\",\\\"id\\\":\\\"7755541643356875647\\\",\\\"type\\\":\\\"observable\\\"},data)}))})\"],\"__get_gd_contents\":[\"(function (prop){prop==\\\"data\\\" ? (WebIO.setval({\\\"name\\\":\\\"__gd_contents\\\",\\\"scope\\\":\\\"9262889482814544622\\\",\\\"id\\\":\\\"17851184715533321566\\\",\\\"type\\\":\\\"observable\\\"},this.plotElem.data)) : undefined; return prop==\\\"layout\\\" ? (WebIO.setval({\\\"name\\\":\\\"__gd_contents\\\",\\\"scope\\\":\\\"9262889482814544622\\\",\\\"id\\\":\\\"17851184715533321566\\\",\\\"type\\\":\\\"observable\\\"},this.plotElem.layout)) : undefined})\"],\"_downloadImage\":[\"(function (options){return this.Plotly.downloadImage(this.plotElem,options)})\"],\"_commands\":[\"(function (args){var fn=args.shift(); var elem=this.plotElem; var Plotly=this.Plotly; args.unshift(elem); return Plotly[fn].apply(this,args)})\"]},\"systemjs_options\":null,\"mount_callbacks\":[\"function () {\\n    var handler = ((function (Plotly,PlotlyWebIO){PlotlyWebIO.init(WebIO); var gd=this.dom.querySelector(\\\"#plot-0f2538db-ba74-4354-8371-a32ac84c484d\\\"); this.plotElem=gd; this.Plotly=Plotly; (window.Blink!==undefined) ? (gd.style.width=\\\"100%\\\", gd.style.height=\\\"100vh\\\", gd.style.marginLeft=\\\"0%\\\", gd.style.marginTop=\\\"0vh\\\") : undefined; window.onresize=(function (){return Plotly.Plots.resize(gd)}); Plotly.newPlot(gd,[{\\\"marker\\\":{\\\"color\\\":\\\"blue\\\",\\\"size\\\":8},\\\"mode\\\":\\\"markers\\\",\\\"y\\\":[900.0,900.0,900.0,895.0,884.0,884.0,884.0,884.0,884.0,884.0,862.0,821.0,714.0,679.0,654.0,633.0,628.0,626.0,567.0,536.0,533.0,531.0,517.0,514.0,500.0,500.0,498.0,467.0,446.0,389.0,386.0,386.0,385.0,378.0,375.0,371.0,370.0,367.0,365.0,364.0],\\\"type\\\":\\\"scatter\\\",\\\"name\\\":\\\"Wege\\\",\\\"text\\\":[\\\"Olive oil\\\",\\\"Peanut oil\\\",\\\"Soybean oil\\\",\\\"Coconut oil\\\",\\\"Cocoa butter, fat and oil\\\",\\\"Cottonseed oil\\\",\\\"Oil palm\\\",\\\"Palm oil\\\",\\\"Sesame oil\\\",\\\"Sunflower seed oil\\\",\\\"Palm kernel oil\\\",\\\"Linseed\\\",\\\"Butter\\\",\\\"Cashew nuts\\\",\\\"Walnuts\\\",\\\"Sesame seed\\\",\\\"Hazelnuts\\\",\\\"Almonds\\\",\\\"Peanuts\\\",\\\"Pistachios\\\",\\\"Poppy seeds\\\",\\\"Plantains\\\",\\\"Safflower seeds\\\",\\\"Chocolate\\\",\\\"Garlic powder\\\",\\\"Mustard seeds\\\",\\\"Taro\\\",\\\"Wheat flour\\\",\\\"Soybeans\\\",\\\"Oats\\\",\\\"Sugar, raw (beet)\\\",\\\"Sugar, raw (cane)\\\",\\\"Pumpkins\\\",\\\"Rice, paddy\\\",\\\"Milk powder\\\",\\\"Pasta, dry\\\",\\\"Kiwi fruit\\\",\\\"Cheese\\\",\\\"Maize\\\",\\\"Maize flour\\\"],\\\"x\\\":[1472.6,752.9,419.0,449.0,3393.8,395.7,109.8,497.1,2179.3,679.2,540.1,516.8,555.3,1421.8,928.0,937.1,1051.5,1609.5,397.4,1136.3,218.8,160.2,722.1,1719.6,226.5,280.9,60.6,184.9,214.5,241.6,86.5,166.6,33.6,167.3,474.5,184.9,51.4,506.0,122.2,125.3]},{\\\"marker\\\":{\\\"color\\\":\\\"red\\\",\\\"size\\\":8},\\\"mode\\\":\\\"markers\\\",\\\"y\\\":[129.0,264.0,118.0,109.0,239.0],\\\"type\\\":\\\"scatter\\\",\\\"name\\\":\\\"Mięso\\\",\\\"text\\\":[\\\"Beef\\\",\\\"Lamb\\\",\\\"Pork\\\",\\\"Goat meat\\\",\\\"Chicken meat\\\"],\\\"x\\\":[1541.5,1041.2,598.8,552.1,432.5]}],{\\\"xaxis\\\":{\\\"showgrid\\\":true,\\\"showline\\\":true,\\\"gridcolor\\\":\\\"rgb(125,125,125)\\\",\\\"zeroline\\\":true,\\\"title\\\":\\\"Ślad wodny\\\",\\\"zerolinecolor\\\":\\\"rgb(0,0,0)\\\",\\\"linecolor\\\":\\\"rgb(20,20,20)\\\"},\\\"paper_bgcolor\\\":\\\"rgb(254, 247, 234)\\\",\\\"template\\\":{\\\"layout\\\":{\\\"coloraxis\\\":{\\\"colorbar\\\":{\\\"ticks\\\":\\\"\\\",\\\"outlinewidth\\\":0}},\\\"xaxis\\\":{\\\"gridcolor\\\":\\\"white\\\",\\\"zerolinewidth\\\":2,\\\"title\\\":{\\\"standoff\\\":15},\\\"ticks\\\":\\\"\\\",\\\"zerolinecolor\\\":\\\"white\\\",\\\"automargin\\\":true,\\\"linecolor\\\":\\\"white\\\"},\\\"hovermode\\\":\\\"closest\\\",\\\"paper_bgcolor\\\":\\\"white\\\",\\\"geo\\\":{\\\"showlakes\\\":true,\\\"showland\\\":true,\\\"landcolor\\\":\\\"#E5ECF6\\\",\\\"bgcolor\\\":\\\"white\\\",\\\"subunitcolor\\\":\\\"white\\\",\\\"lakecolor\\\":\\\"white\\\"},\\\"colorscale\\\":{\\\"sequential\\\":[[0.0,\\\"#0d0887\\\"],[0.1111111111111111,\\\"#46039f\\\"],[0.2222222222222222,\\\"#7201a8\\\"],[0.3333333333333333,\\\"#9c179e\\\"],[0.4444444444444444,\\\"#bd3786\\\"],[0.5555555555555556,\\\"#d8576b\\\"],[0.6666666666666666,\\\"#ed7953\\\"],[0.7777777777777778,\\\"#fb9f3a\\\"],[0.8888888888888888,\\\"#fdca26\\\"],[1.0,\\\"#f0f921\\\"]],\\\"diverging\\\":[[0,\\\"#8e0152\\\"],[0.1,\\\"#c51b7d\\\"],[0.2,\\\"#de77ae\\\"],[0.3,\\\"#f1b6da\\\"],[0.4,\\\"#fde0ef\\\"],[0.5,\\\"#f7f7f7\\\"],[0.6,\\\"#e6f5d0\\\"],[0.7,\\\"#b8e186\\\"],[0.8,\\\"#7fbc41\\\"],[0.9,\\\"#4d9221\\\"],[1,\\\"#276419\\\"]],\\\"sequentialminus\\\":[[0.0,\\\"#0d0887\\\"],[0.1111111111111111,\\\"#46039f\\\"],[0.2222222222222222,\\\"#7201a8\\\"],[0.3333333333333333,\\\"#9c179e\\\"],[0.4444444444444444,\\\"#bd3786\\\"],[0.5555555555555556,\\\"#d8576b\\\"],[0.6666666666666666,\\\"#ed7953\\\"],[0.7777777777777778,\\\"#fb9f3a\\\"],[0.8888888888888888,\\\"#fdca26\\\"],[1.0,\\\"#f0f921\\\"]]},\\\"yaxis\\\":{\\\"gridcolor\\\":\\\"white\\\",\\\"zerolinewidth\\\":2,\\\"title\\\":{\\\"standoff\\\":15},\\\"ticks\\\":\\\"\\\",\\\"zerolinecolor\\\":\\\"white\\\",\\\"automargin\\\":true,\\\"linecolor\\\":\\\"white\\\"},\\\"shapedefaults\\\":{\\\"line\\\":{\\\"color\\\":\\\"#2a3f5f\\\"}},\\\"hoverlabel\\\":{\\\"align\\\":\\\"left\\\"},\\\"mapbox\\\":{\\\"style\\\":\\\"light\\\"},\\\"polar\\\":{\\\"angularaxis\\\":{\\\"gridcolor\\\":\\\"white\\\",\\\"ticks\\\":\\\"\\\",\\\"linecolor\\\":\\\"white\\\"},\\\"bgcolor\\\":\\\"#E5ECF6\\\",\\\"radialaxis\\\":{\\\"gridcolor\\\":\\\"white\\\",\\\"ticks\\\":\\\"\\\",\\\"linecolor\\\":\\\"white\\\"}},\\\"autotypenumbers\\\":\\\"strict\\\",\\\"font\\\":{\\\"color\\\":\\\"#2a3f5f\\\"},\\\"ternary\\\":{\\\"baxis\\\":{\\\"gridcolor\\\":\\\"white\\\",\\\"ticks\\\":\\\"\\\",\\\"linecolor\\\":\\\"white\\\"},\\\"bgcolor\\\":\\\"#E5ECF6\\\",\\\"caxis\\\":{\\\"gridcolor\\\":\\\"white\\\",\\\"ticks\\\":\\\"\\\",\\\"linecolor\\\":\\\"white\\\"},\\\"aaxis\\\":{\\\"gridcolor\\\":\\\"white\\\",\\\"ticks\\\":\\\"\\\",\\\"linecolor\\\":\\\"white\\\"}},\\\"annotationdefaults\\\":{\\\"arrowhead\\\":0,\\\"arrowwidth\\\":1,\\\"arrowcolor\\\":\\\"#2a3f5f\\\"},\\\"plot_bgcolor\\\":\\\"#E5ECF6\\\",\\\"title\\\":{\\\"x\\\":0.05},\\\"scene\\\":{\\\"xaxis\\\":{\\\"gridcolor\\\":\\\"white\\\",\\\"gridwidth\\\":2,\\\"backgroundcolor\\\":\\\"#E5ECF6\\\",\\\"ticks\\\":\\\"\\\",\\\"showbackground\\\":true,\\\"zerolinecolor\\\":\\\"white\\\",\\\"linecolor\\\":\\\"white\\\"},\\\"zaxis\\\":{\\\"gridcolor\\\":\\\"white\\\",\\\"gridwidth\\\":2,\\\"backgroundcolor\\\":\\\"#E5ECF6\\\",\\\"ticks\\\":\\\"\\\",\\\"showbackground\\\":true,\\\"zerolinecolor\\\":\\\"white\\\",\\\"linecolor\\\":\\\"white\\\"},\\\"yaxis\\\":{\\\"gridcolor\\\":\\\"white\\\",\\\"gridwidth\\\":2,\\\"backgroundcolor\\\":\\\"#E5ECF6\\\",\\\"ticks\\\":\\\"\\\",\\\"showbackground\\\":true,\\\"zerolinecolor\\\":\\\"white\\\",\\\"linecolor\\\":\\\"white\\\"}},\\\"colorway\\\":[\\\"#636efa\\\",\\\"#EF553B\\\",\\\"#00cc96\\\",\\\"#ab63fa\\\",\\\"#FFA15A\\\",\\\"#19d3f3\\\",\\\"#FF6692\\\",\\\"#B6E880\\\",\\\"#FF97FF\\\",\\\"#FECB52\\\"]},\\\"data\\\":{\\\"barpolar\\\":[{\\\"type\\\":\\\"barpolar\\\",\\\"marker\\\":{\\\"line\\\":{\\\"color\\\":\\\"#E5ECF6\\\",\\\"width\\\":0.5}}}],\\\"carpet\\\":[{\\\"aaxis\\\":{\\\"gridcolor\\\":\\\"white\\\",\\\"endlinecolor\\\":\\\"#2a3f5f\\\",\\\"minorgridcolor\\\":\\\"white\\\",\\\"startlinecolor\\\":\\\"#2a3f5f\\\",\\\"linecolor\\\":\\\"white\\\"},\\\"type\\\":\\\"carpet\\\",\\\"baxis\\\":{\\\"gridcolor\\\":\\\"white\\\",\\\"endlinecolor\\\":\\\"#2a3f5f\\\",\\\"minorgridcolor\\\":\\\"white\\\",\\\"startlinecolor\\\":\\\"#2a3f5f\\\",\\\"linecolor\\\":\\\"white\\\"}}],\\\"scatterpolar\\\":[{\\\"type\\\":\\\"scatterpolar\\\",\\\"marker\\\":{\\\"colorbar\\\":{\\\"ticks\\\":\\\"\\\",\\\"outlinewidth\\\":0}}}],\\\"parcoords\\\":[{\\\"line\\\":{\\\"colorbar\\\":{\\\"ticks\\\":\\\"\\\",\\\"outlinewidth\\\":0}},\\\"type\\\":\\\"parcoords\\\"}],\\\"scatter\\\":[{\\\"type\\\":\\\"scatter\\\",\\\"marker\\\":{\\\"colorbar\\\":{\\\"ticks\\\":\\\"\\\",\\\"outlinewidth\\\":0}}}],\\\"histogram2dcontour\\\":[{\\\"colorbar\\\":{\\\"ticks\\\":\\\"\\\",\\\"outlinewidth\\\":0},\\\"type\\\":\\\"histogram2dcontour\\\",\\\"colorscale\\\":[[0.0,\\\"#0d0887\\\"],[0.1111111111111111,\\\"#46039f\\\"],[0.2222222222222222,\\\"#7201a8\\\"],[0.3333333333333333,\\\"#9c179e\\\"],[0.4444444444444444,\\\"#bd3786\\\"],[0.5555555555555556,\\\"#d8576b\\\"],[0.6666666666666666,\\\"#ed7953\\\"],[0.7777777777777778,\\\"#fb9f3a\\\"],[0.8888888888888888,\\\"#fdca26\\\"],[1.0,\\\"#f0f921\\\"]]}],\\\"contour\\\":[{\\\"colorbar\\\":{\\\"ticks\\\":\\\"\\\",\\\"outlinewidth\\\":0},\\\"type\\\":\\\"contour\\\",\\\"colorscale\\\":[[0.0,\\\"#0d0887\\\"],[0.1111111111111111,\\\"#46039f\\\"],[0.2222222222222222,\\\"#7201a8\\\"],[0.3333333333333333,\\\"#9c179e\\\"],[0.4444444444444444,\\\"#bd3786\\\"],[0.5555555555555556,\\\"#d8576b\\\"],[0.6666666666666666,\\\"#ed7953\\\"],[0.7777777777777778,\\\"#fb9f3a\\\"],[0.8888888888888888,\\\"#fdca26\\\"],[1.0,\\\"#f0f921\\\"]]}],\\\"scattercarpet\\\":[{\\\"type\\\":\\\"scattercarpet\\\",\\\"marker\\\":{\\\"colorbar\\\":{\\\"ticks\\\":\\\"\\\",\\\"outlinewidth\\\":0}}}],\\\"mesh3d\\\":[{\\\"colorbar\\\":{\\\"ticks\\\":\\\"\\\",\\\"outlinewidth\\\":0},\\\"type\\\":\\\"mesh3d\\\"}],\\\"surface\\\":[{\\\"colorbar\\\":{\\\"ticks\\\":\\\"\\\",\\\"outlinewidth\\\":0},\\\"type\\\":\\\"surface\\\",\\\"colorscale\\\":[[0.0,\\\"#0d0887\\\"],[0.1111111111111111,\\\"#46039f\\\"],[0.2222222222222222,\\\"#7201a8\\\"],[0.3333333333333333,\\\"#9c179e\\\"],[0.4444444444444444,\\\"#bd3786\\\"],[0.5555555555555556,\\\"#d8576b\\\"],[0.6666666666666666,\\\"#ed7953\\\"],[0.7777777777777778,\\\"#fb9f3a\\\"],[0.8888888888888888,\\\"#fdca26\\\"],[1.0,\\\"#f0f921\\\"]]}],\\\"scattermapbox\\\":[{\\\"type\\\":\\\"scattermapbox\\\",\\\"marker\\\":{\\\"colorbar\\\":{\\\"ticks\\\":\\\"\\\",\\\"outlinewidth\\\":0}}}],\\\"scattergeo\\\":[{\\\"type\\\":\\\"scattergeo\\\",\\\"marker\\\":{\\\"colorbar\\\":{\\\"ticks\\\":\\\"\\\",\\\"outlinewidth\\\":0}}}],\\\"histogram\\\":[{\\\"type\\\":\\\"histogram\\\",\\\"marker\\\":{\\\"colorbar\\\":{\\\"ticks\\\":\\\"\\\",\\\"outlinewidth\\\":0}}}],\\\"pie\\\":[{\\\"type\\\":\\\"pie\\\",\\\"automargin\\\":true}],\\\"choropleth\\\":[{\\\"colorbar\\\":{\\\"ticks\\\":\\\"\\\",\\\"outlinewidth\\\":0},\\\"type\\\":\\\"choropleth\\\"}],\\\"heatmapgl\\\":[{\\\"colorbar\\\":{\\\"ticks\\\":\\\"\\\",\\\"outlinewidth\\\":0},\\\"type\\\":\\\"heatmapgl\\\",\\\"colorscale\\\":[[0.0,\\\"#0d0887\\\"],[0.1111111111111111,\\\"#46039f\\\"],[0.2222222222222222,\\\"#7201a8\\\"],[0.3333333333333333,\\\"#9c179e\\\"],[0.4444444444444444,\\\"#bd3786\\\"],[0.5555555555555556,\\\"#d8576b\\\"],[0.6666666666666666,\\\"#ed7953\\\"],[0.7777777777777778,\\\"#fb9f3a\\\"],[0.8888888888888888,\\\"#fdca26\\\"],[1.0,\\\"#f0f921\\\"]]}],\\\"bar\\\":[{\\\"type\\\":\\\"bar\\\",\\\"error_y\\\":{\\\"color\\\":\\\"#2a3f5f\\\"},\\\"error_x\\\":{\\\"color\\\":\\\"#2a3f5f\\\"},\\\"marker\\\":{\\\"line\\\":{\\\"color\\\":\\\"#E5ECF6\\\",\\\"width\\\":0.5}}}],\\\"heatmap\\\":[{\\\"colorbar\\\":{\\\"ticks\\\":\\\"\\\",\\\"outlinewidth\\\":0},\\\"type\\\":\\\"heatmap\\\",\\\"colorscale\\\":[[0.0,\\\"#0d0887\\\"],[0.1111111111111111,\\\"#46039f\\\"],[0.2222222222222222,\\\"#7201a8\\\"],[0.3333333333333333,\\\"#9c179e\\\"],[0.4444444444444444,\\\"#bd3786\\\"],[0.5555555555555556,\\\"#d8576b\\\"],[0.6666666666666666,\\\"#ed7953\\\"],[0.7777777777777778,\\\"#fb9f3a\\\"],[0.8888888888888888,\\\"#fdca26\\\"],[1.0,\\\"#f0f921\\\"]]}],\\\"contourcarpet\\\":[{\\\"colorbar\\\":{\\\"ticks\\\":\\\"\\\",\\\"outlinewidth\\\":0},\\\"type\\\":\\\"contourcarpet\\\"}],\\\"table\\\":[{\\\"type\\\":\\\"table\\\",\\\"header\\\":{\\\"line\\\":{\\\"color\\\":\\\"white\\\"},\\\"fill\\\":{\\\"color\\\":\\\"#C8D4E3\\\"}},\\\"cells\\\":{\\\"line\\\":{\\\"color\\\":\\\"white\\\"},\\\"fill\\\":{\\\"color\\\":\\\"#EBF0F8\\\"}}}],\\\"scatter3d\\\":[{\\\"line\\\":{\\\"colorbar\\\":{\\\"ticks\\\":\\\"\\\",\\\"outlinewidth\\\":0}},\\\"type\\\":\\\"scatter3d\\\",\\\"marker\\\":{\\\"colorbar\\\":{\\\"ticks\\\":\\\"\\\",\\\"outlinewidth\\\":0}}}],\\\"scattergl\\\":[{\\\"type\\\":\\\"scattergl\\\",\\\"marker\\\":{\\\"colorbar\\\":{\\\"ticks\\\":\\\"\\\",\\\"outlinewidth\\\":0}}}],\\\"histogram2d\\\":[{\\\"colorbar\\\":{\\\"ticks\\\":\\\"\\\",\\\"outlinewidth\\\":0},\\\"type\\\":\\\"histogram2d\\\",\\\"colorscale\\\":[[0.0,\\\"#0d0887\\\"],[0.1111111111111111,\\\"#46039f\\\"],[0.2222222222222222,\\\"#7201a8\\\"],[0.3333333333333333,\\\"#9c179e\\\"],[0.4444444444444444,\\\"#bd3786\\\"],[0.5555555555555556,\\\"#d8576b\\\"],[0.6666666666666666,\\\"#ed7953\\\"],[0.7777777777777778,\\\"#fb9f3a\\\"],[0.8888888888888888,\\\"#fdca26\\\"],[1.0,\\\"#f0f921\\\"]]}],\\\"scatterternary\\\":[{\\\"type\\\":\\\"scatterternary\\\",\\\"marker\\\":{\\\"colorbar\\\":{\\\"ticks\\\":\\\"\\\",\\\"outlinewidth\\\":0}}}],\\\"scatterpolargl\\\":[{\\\"type\\\":\\\"scatterpolargl\\\",\\\"marker\\\":{\\\"colorbar\\\":{\\\"ticks\\\":\\\"\\\",\\\"outlinewidth\\\":0}}}]}},\\\"margin\\\":{\\\"l\\\":50,\\\"b\\\":50,\\\"r\\\":50,\\\"t\\\":60},\\\"title\\\":\\\"Zależność kcal od zużycia wody\\\",\\\"plot_bgcolor\\\":\\\"rgb(254, 247, 234)\\\",\\\"yaxis\\\":{\\\"showgrid\\\":true,\\\"showline\\\":true,\\\"gridcolor\\\":\\\"rgb(125,125,125)\\\",\\\"zeroline\\\":true,\\\"title\\\":\\\"Energia(kcal)\\\",\\\"zerolinecolor\\\":\\\"rgb(0,0,0)\\\",\\\"linecolor\\\":\\\"rgb(20,20,20)\\\"}},{\\\"showLink\\\":false,\\\"editable\\\":false,\\\"responsive\\\":true,\\\"staticPlot\\\":false,\\\"scrollZoom\\\":true}); gd.on(\\\"plotly_hover\\\",(function (data){var filtered_data=WebIO.PlotlyCommands.filterEventData(gd,data,\\\"hover\\\"); return !(filtered_data.isnil) ? (WebIO.setval({\\\"name\\\":\\\"hover\\\",\\\"scope\\\":\\\"9262889482814544622\\\",\\\"id\\\":\\\"11900425501016335495\\\",\\\"type\\\":\\\"observable\\\"},filtered_data.out)) : undefined})); gd.on(\\\"plotly_unhover\\\",(function (){return WebIO.setval({\\\"name\\\":\\\"hover\\\",\\\"scope\\\":\\\"9262889482814544622\\\",\\\"id\\\":\\\"11900425501016335495\\\",\\\"type\\\":\\\"observable\\\"},{})})); gd.on(\\\"plotly_selected\\\",(function (data){var filtered_data=WebIO.PlotlyCommands.filterEventData(gd,data,\\\"selected\\\"); return !(filtered_data.isnil) ? (WebIO.setval({\\\"name\\\":\\\"selected\\\",\\\"scope\\\":\\\"9262889482814544622\\\",\\\"id\\\":\\\"3877181592680240038\\\",\\\"type\\\":\\\"observable\\\"},filtered_data.out)) : undefined})); gd.on(\\\"plotly_deselect\\\",(function (){return WebIO.setval({\\\"name\\\":\\\"selected\\\",\\\"scope\\\":\\\"9262889482814544622\\\",\\\"id\\\":\\\"3877181592680240038\\\",\\\"type\\\":\\\"observable\\\"},{})})); gd.on(\\\"plotly_relayout\\\",(function (data){var filtered_data=WebIO.PlotlyCommands.filterEventData(gd,data,\\\"relayout\\\"); return !(filtered_data.isnil) ? (WebIO.setval({\\\"name\\\":\\\"relayout\\\",\\\"scope\\\":\\\"9262889482814544622\\\",\\\"id\\\":\\\"3536808698488886894\\\",\\\"type\\\":\\\"observable\\\"},filtered_data.out)) : undefined})); return gd.on(\\\"plotly_click\\\",(function (data){var filtered_data=WebIO.PlotlyCommands.filterEventData(gd,data,\\\"click\\\"); return !(filtered_data.isnil) ? (WebIO.setval({\\\"name\\\":\\\"click\\\",\\\"scope\\\":\\\"9262889482814544622\\\",\\\"id\\\":\\\"4552518806053987910\\\",\\\"type\\\":\\\"observable\\\"},filtered_data.out)) : undefined}))}));\\n    (WebIO.importBlock({\\\"data\\\":[{\\\"name\\\":\\\"Plotly\\\",\\\"type\\\":\\\"js\\\",\\\"url\\\":\\\"\\/assetserver\\/7dc425d3d9acdbb7fba54ce8841409ff1fd2b16c-plotly.min.js\\\"},{\\\"name\\\":null,\\\"type\\\":\\\"js\\\",\\\"url\\\":\\\"\\/assetserver\\/bdef9d06b2ff8f6ff9f383d24c2633cfc4dfc0cb-plotly_webio.bundle.js\\\"}],\\\"type\\\":\\\"async_block\\\"})).then((imports) => handler.apply(this, imports));\\n}\\n\"],\"observables\":{\"_toImage\":{\"sync\":false,\"id\":\"4843911914653793132\",\"value\":{}},\"hover\":{\"sync\":false,\"id\":\"11900425501016335495\",\"value\":{}},\"selected\":{\"sync\":false,\"id\":\"3877181592680240038\",\"value\":{}},\"__gd_contents\":{\"sync\":false,\"id\":\"17851184715533321566\",\"value\":{}},\"click\":{\"sync\":false,\"id\":\"4552518806053987910\",\"value\":{}},\"image\":{\"sync\":true,\"id\":\"7755541643356875647\",\"value\":\"\"},\"__get_gd_contents\":{\"sync\":false,\"id\":\"15133643839619838268\",\"value\":\"\"},\"_downloadImage\":{\"sync\":false,\"id\":\"11213309685572701404\",\"value\":{}},\"relayout\":{\"sync\":false,\"id\":\"3536808698488886894\",\"value\":{}},\"_commands\":{\"sync\":false,\"id\":\"4165057681408732040\",\"value\":[]}}},\"children\":[{\"props\":{\"id\":\"plot-0f2538db-ba74-4354-8371-a32ac84c484d\"},\"nodeType\":\"DOM\",\"type\":\"node\",\"instanceArgs\":{\"namespace\":\"html\",\"tag\":\"div\"},\"children\":[]}]},\n",
       "        window,\n",
       "    );\n",
       "    })()\n",
       "    </script>\n",
       "</div>\n"
      ],
      "text/plain": [
       "data: [\n",
       "  \"scatter with fields marker, mode, name, text, type, x, and y\",\n",
       "  \"scatter with fields marker, mode, name, text, type, x, and y\"\n",
       "]\n",
       "\n",
       "layout: \"layout with fields margin, paper_bgcolor, plot_bgcolor, template, title, xaxis, and yaxis\"\n",
       "\n"
      ]
     },
     "execution_count": 16,
     "metadata": {},
     "output_type": "execute_result"
    }
   ],
   "source": [
    "#---------------------------------ENERGIA-------------------------------------\n",
    "#Analiza białka,wybieramy produkty bezmięsne o największej zawartości białka\n",
    "top_kcal = sort!(wege_df,[order(:Energia_kcal, rev=true)])[1:40,:]\n",
    "\n",
    "#stwarzamy dane wege\n",
    "trace_wege = scatter(top_kcal,\n",
    "    x=:zuzycie_wody_na_100_g,\n",
    "    y=:Energia_kcal,\n",
    "    text=:Produkt,\n",
    "    mode=\"markers\",\n",
    "    name=\"Wege\",\n",
    "    marker_size=8,\n",
    "    marker_color=\"blue\")\n",
    "\n",
    "#stwarzamy dane mięso\n",
    "trace_mieso = scatter(mieso_df,\n",
    "    x=:zuzycie_wody_na_100_g,\n",
    "    y=:Energia_kcal,\n",
    "    text=:Produkt,\n",
    "    mode=\"markers\",\n",
    "    name=\"Mięso\",\n",
    "    marker_size=8,\n",
    "    marker_color=\"red\")\n",
    "\n",
    "#kreujemy layout\n",
    "layout = Layout(;\n",
    "    title=\"Zależność kcal od zużycia wody\",\n",
    "    plot_bgcolor=\"rgb(254, 247, 234)\",\n",
    "    paper_bgcolor=\"rgb(254, 247, 234)\",\n",
    "    xaxis=attr(title=\"Ślad wodny\",\n",
    "        showgrid=true,\n",
    "        gridcolor=\"rgb(125,125,125)\",\n",
    "        zeroline=true,\n",
    "        zerolinecolor=\"rgb(0,0,0)\",\n",
    "        showline=true,\n",
    "        linecolor=\"rgb(20,20,20)\"\n",
    "        ),\n",
    "    yaxis=attr(title=\"Energia(kcal)\",\n",
    "        showgrid=true,\n",
    "        gridcolor=\"rgb(125,125,125)\",\n",
    "        zeroline=true,\n",
    "        zerolinecolor=\"rgb(0,0,0)\",\n",
    "        showline=true,\n",
    "        linecolor=\"rgb(20,20,20)\"\n",
    "        ))\n",
    "\n",
    "#stwarzamy wykres\n",
    "kcal_scatter = plot([trace_wege,trace_mieso],layout)\n"
   ]
  },
  {
   "cell_type": "code",
   "execution_count": 17,
   "id": "4cecb9ff",
   "metadata": {},
   "outputs": [
    {
     "data": {
      "application/vnd.plotly.v1+json": {
       "config": {
        "editable": false,
        "responsive": true,
        "scrollZoom": true,
        "showLink": false,
        "staticPlot": false
       },
       "data": [
        {
         "marker": {
          "color": "blue"
         },
         "name": "Wege",
         "type": "bar",
         "x": [
          "Pumpkins",
          "Taro",
          "Kiwi fruit",
          "Sugar, raw (beet)",
          "Plantains",
          "Maize",
          "Maize flour",
          "Wheat flour",
          "Poppy seeds",
          "Sugar, raw (cane)",
          "Rice, paddy",
          "Garlic powder",
          "Soybeans",
          "Pasta, dry",
          "Mustard seeds",
          "Oats",
          "Linseed",
          "Peanuts",
          "Butter",
          "Milk powder",
          "Cheese"
         ],
         "y": [
          11.458333333333332,
          8.217821782178218,
          7.198443579766537,
          4.46242774566474,
          3.314606741573034,
          2.9869067103109654,
          2.905027932960894,
          2.525689561925365,
          2.436014625228519,
          2.3169267707082835,
          2.2594142259414225,
          2.207505518763797,
          2.0792540792540795,
          2.006489994591671,
          1.77999288002848,
          1.6100993377483444,
          1.588622291021672,
          1.4267740312028183,
          1.285791464073474,
          0.7903055848261328,
          0.7252964426877471
         ]
        }
       ],
       "frames": [],
       "layout": {
        "margin": {
         "b": 50,
         "l": 50,
         "r": 50,
         "t": 60
        },
        "template": {
         "data": {
          "bar": [
           {
            "error_x": {
             "color": "#2a3f5f"
            },
            "error_y": {
             "color": "#2a3f5f"
            },
            "marker": {
             "line": {
              "color": "#E5ECF6",
              "width": 0.5
             }
            },
            "type": "bar"
           }
          ],
          "barpolar": [
           {
            "marker": {
             "line": {
              "color": "#E5ECF6",
              "width": 0.5
             }
            },
            "type": "barpolar"
           }
          ],
          "carpet": [
           {
            "aaxis": {
             "endlinecolor": "#2a3f5f",
             "gridcolor": "white",
             "linecolor": "white",
             "minorgridcolor": "white",
             "startlinecolor": "#2a3f5f"
            },
            "baxis": {
             "endlinecolor": "#2a3f5f",
             "gridcolor": "white",
             "linecolor": "white",
             "minorgridcolor": "white",
             "startlinecolor": "#2a3f5f"
            },
            "type": "carpet"
           }
          ],
          "choropleth": [
           {
            "colorbar": {
             "outlinewidth": 0,
             "ticks": ""
            },
            "type": "choropleth"
           }
          ],
          "contour": [
           {
            "colorbar": {
             "outlinewidth": 0,
             "ticks": ""
            },
            "colorscale": [
             [
              0,
              "#0d0887"
             ],
             [
              0.1111111111111111,
              "#46039f"
             ],
             [
              0.2222222222222222,
              "#7201a8"
             ],
             [
              0.3333333333333333,
              "#9c179e"
             ],
             [
              0.4444444444444444,
              "#bd3786"
             ],
             [
              0.5555555555555556,
              "#d8576b"
             ],
             [
              0.6666666666666666,
              "#ed7953"
             ],
             [
              0.7777777777777778,
              "#fb9f3a"
             ],
             [
              0.8888888888888888,
              "#fdca26"
             ],
             [
              1,
              "#f0f921"
             ]
            ],
            "type": "contour"
           }
          ],
          "contourcarpet": [
           {
            "colorbar": {
             "outlinewidth": 0,
             "ticks": ""
            },
            "type": "contourcarpet"
           }
          ],
          "heatmap": [
           {
            "colorbar": {
             "outlinewidth": 0,
             "ticks": ""
            },
            "colorscale": [
             [
              0,
              "#0d0887"
             ],
             [
              0.1111111111111111,
              "#46039f"
             ],
             [
              0.2222222222222222,
              "#7201a8"
             ],
             [
              0.3333333333333333,
              "#9c179e"
             ],
             [
              0.4444444444444444,
              "#bd3786"
             ],
             [
              0.5555555555555556,
              "#d8576b"
             ],
             [
              0.6666666666666666,
              "#ed7953"
             ],
             [
              0.7777777777777778,
              "#fb9f3a"
             ],
             [
              0.8888888888888888,
              "#fdca26"
             ],
             [
              1,
              "#f0f921"
             ]
            ],
            "type": "heatmap"
           }
          ],
          "heatmapgl": [
           {
            "colorbar": {
             "outlinewidth": 0,
             "ticks": ""
            },
            "colorscale": [
             [
              0,
              "#0d0887"
             ],
             [
              0.1111111111111111,
              "#46039f"
             ],
             [
              0.2222222222222222,
              "#7201a8"
             ],
             [
              0.3333333333333333,
              "#9c179e"
             ],
             [
              0.4444444444444444,
              "#bd3786"
             ],
             [
              0.5555555555555556,
              "#d8576b"
             ],
             [
              0.6666666666666666,
              "#ed7953"
             ],
             [
              0.7777777777777778,
              "#fb9f3a"
             ],
             [
              0.8888888888888888,
              "#fdca26"
             ],
             [
              1,
              "#f0f921"
             ]
            ],
            "type": "heatmapgl"
           }
          ],
          "histogram": [
           {
            "marker": {
             "colorbar": {
              "outlinewidth": 0,
              "ticks": ""
             }
            },
            "type": "histogram"
           }
          ],
          "histogram2d": [
           {
            "colorbar": {
             "outlinewidth": 0,
             "ticks": ""
            },
            "colorscale": [
             [
              0,
              "#0d0887"
             ],
             [
              0.1111111111111111,
              "#46039f"
             ],
             [
              0.2222222222222222,
              "#7201a8"
             ],
             [
              0.3333333333333333,
              "#9c179e"
             ],
             [
              0.4444444444444444,
              "#bd3786"
             ],
             [
              0.5555555555555556,
              "#d8576b"
             ],
             [
              0.6666666666666666,
              "#ed7953"
             ],
             [
              0.7777777777777778,
              "#fb9f3a"
             ],
             [
              0.8888888888888888,
              "#fdca26"
             ],
             [
              1,
              "#f0f921"
             ]
            ],
            "type": "histogram2d"
           }
          ],
          "histogram2dcontour": [
           {
            "colorbar": {
             "outlinewidth": 0,
             "ticks": ""
            },
            "colorscale": [
             [
              0,
              "#0d0887"
             ],
             [
              0.1111111111111111,
              "#46039f"
             ],
             [
              0.2222222222222222,
              "#7201a8"
             ],
             [
              0.3333333333333333,
              "#9c179e"
             ],
             [
              0.4444444444444444,
              "#bd3786"
             ],
             [
              0.5555555555555556,
              "#d8576b"
             ],
             [
              0.6666666666666666,
              "#ed7953"
             ],
             [
              0.7777777777777778,
              "#fb9f3a"
             ],
             [
              0.8888888888888888,
              "#fdca26"
             ],
             [
              1,
              "#f0f921"
             ]
            ],
            "type": "histogram2dcontour"
           }
          ],
          "mesh3d": [
           {
            "colorbar": {
             "outlinewidth": 0,
             "ticks": ""
            },
            "type": "mesh3d"
           }
          ],
          "parcoords": [
           {
            "line": {
             "colorbar": {
              "outlinewidth": 0,
              "ticks": ""
             }
            },
            "type": "parcoords"
           }
          ],
          "pie": [
           {
            "automargin": true,
            "type": "pie"
           }
          ],
          "scatter": [
           {
            "marker": {
             "colorbar": {
              "outlinewidth": 0,
              "ticks": ""
             }
            },
            "type": "scatter"
           }
          ],
          "scatter3d": [
           {
            "line": {
             "colorbar": {
              "outlinewidth": 0,
              "ticks": ""
             }
            },
            "marker": {
             "colorbar": {
              "outlinewidth": 0,
              "ticks": ""
             }
            },
            "type": "scatter3d"
           }
          ],
          "scattercarpet": [
           {
            "marker": {
             "colorbar": {
              "outlinewidth": 0,
              "ticks": ""
             }
            },
            "type": "scattercarpet"
           }
          ],
          "scattergeo": [
           {
            "marker": {
             "colorbar": {
              "outlinewidth": 0,
              "ticks": ""
             }
            },
            "type": "scattergeo"
           }
          ],
          "scattergl": [
           {
            "marker": {
             "colorbar": {
              "outlinewidth": 0,
              "ticks": ""
             }
            },
            "type": "scattergl"
           }
          ],
          "scattermapbox": [
           {
            "marker": {
             "colorbar": {
              "outlinewidth": 0,
              "ticks": ""
             }
            },
            "type": "scattermapbox"
           }
          ],
          "scatterpolar": [
           {
            "marker": {
             "colorbar": {
              "outlinewidth": 0,
              "ticks": ""
             }
            },
            "type": "scatterpolar"
           }
          ],
          "scatterpolargl": [
           {
            "marker": {
             "colorbar": {
              "outlinewidth": 0,
              "ticks": ""
             }
            },
            "type": "scatterpolargl"
           }
          ],
          "scatterternary": [
           {
            "marker": {
             "colorbar": {
              "outlinewidth": 0,
              "ticks": ""
             }
            },
            "type": "scatterternary"
           }
          ],
          "surface": [
           {
            "colorbar": {
             "outlinewidth": 0,
             "ticks": ""
            },
            "colorscale": [
             [
              0,
              "#0d0887"
             ],
             [
              0.1111111111111111,
              "#46039f"
             ],
             [
              0.2222222222222222,
              "#7201a8"
             ],
             [
              0.3333333333333333,
              "#9c179e"
             ],
             [
              0.4444444444444444,
              "#bd3786"
             ],
             [
              0.5555555555555556,
              "#d8576b"
             ],
             [
              0.6666666666666666,
              "#ed7953"
             ],
             [
              0.7777777777777778,
              "#fb9f3a"
             ],
             [
              0.8888888888888888,
              "#fdca26"
             ],
             [
              1,
              "#f0f921"
             ]
            ],
            "type": "surface"
           }
          ],
          "table": [
           {
            "cells": {
             "fill": {
              "color": "#EBF0F8"
             },
             "line": {
              "color": "white"
             }
            },
            "header": {
             "fill": {
              "color": "#C8D4E3"
             },
             "line": {
              "color": "white"
             }
            },
            "type": "table"
           }
          ]
         },
         "layout": {
          "annotationdefaults": {
           "arrowcolor": "#2a3f5f",
           "arrowhead": 0,
           "arrowwidth": 1
          },
          "autotypenumbers": "strict",
          "coloraxis": {
           "colorbar": {
            "outlinewidth": 0,
            "ticks": ""
           }
          },
          "colorscale": {
           "diverging": [
            [
             0,
             "#8e0152"
            ],
            [
             0.1,
             "#c51b7d"
            ],
            [
             0.2,
             "#de77ae"
            ],
            [
             0.3,
             "#f1b6da"
            ],
            [
             0.4,
             "#fde0ef"
            ],
            [
             0.5,
             "#f7f7f7"
            ],
            [
             0.6,
             "#e6f5d0"
            ],
            [
             0.7,
             "#b8e186"
            ],
            [
             0.8,
             "#7fbc41"
            ],
            [
             0.9,
             "#4d9221"
            ],
            [
             1,
             "#276419"
            ]
           ],
           "sequential": [
            [
             0,
             "#0d0887"
            ],
            [
             0.1111111111111111,
             "#46039f"
            ],
            [
             0.2222222222222222,
             "#7201a8"
            ],
            [
             0.3333333333333333,
             "#9c179e"
            ],
            [
             0.4444444444444444,
             "#bd3786"
            ],
            [
             0.5555555555555556,
             "#d8576b"
            ],
            [
             0.6666666666666666,
             "#ed7953"
            ],
            [
             0.7777777777777778,
             "#fb9f3a"
            ],
            [
             0.8888888888888888,
             "#fdca26"
            ],
            [
             1,
             "#f0f921"
            ]
           ],
           "sequentialminus": [
            [
             0,
             "#0d0887"
            ],
            [
             0.1111111111111111,
             "#46039f"
            ],
            [
             0.2222222222222222,
             "#7201a8"
            ],
            [
             0.3333333333333333,
             "#9c179e"
            ],
            [
             0.4444444444444444,
             "#bd3786"
            ],
            [
             0.5555555555555556,
             "#d8576b"
            ],
            [
             0.6666666666666666,
             "#ed7953"
            ],
            [
             0.7777777777777778,
             "#fb9f3a"
            ],
            [
             0.8888888888888888,
             "#fdca26"
            ],
            [
             1,
             "#f0f921"
            ]
           ]
          },
          "colorway": [
           "#636efa",
           "#EF553B",
           "#00cc96",
           "#ab63fa",
           "#FFA15A",
           "#19d3f3",
           "#FF6692",
           "#B6E880",
           "#FF97FF",
           "#FECB52"
          ],
          "font": {
           "color": "#2a3f5f"
          },
          "geo": {
           "bgcolor": "white",
           "lakecolor": "white",
           "landcolor": "#E5ECF6",
           "showlakes": true,
           "showland": true,
           "subunitcolor": "white"
          },
          "hoverlabel": {
           "align": "left"
          },
          "hovermode": "closest",
          "mapbox": {
           "style": "light"
          },
          "paper_bgcolor": "white",
          "plot_bgcolor": "#E5ECF6",
          "polar": {
           "angularaxis": {
            "gridcolor": "white",
            "linecolor": "white",
            "ticks": ""
           },
           "bgcolor": "#E5ECF6",
           "radialaxis": {
            "gridcolor": "white",
            "linecolor": "white",
            "ticks": ""
           }
          },
          "scene": {
           "xaxis": {
            "backgroundcolor": "#E5ECF6",
            "gridcolor": "white",
            "gridwidth": 2,
            "linecolor": "white",
            "showbackground": true,
            "ticks": "",
            "zerolinecolor": "white"
           },
           "yaxis": {
            "backgroundcolor": "#E5ECF6",
            "gridcolor": "white",
            "gridwidth": 2,
            "linecolor": "white",
            "showbackground": true,
            "ticks": "",
            "zerolinecolor": "white"
           },
           "zaxis": {
            "backgroundcolor": "#E5ECF6",
            "gridcolor": "white",
            "gridwidth": 2,
            "linecolor": "white",
            "showbackground": true,
            "ticks": "",
            "zerolinecolor": "white"
           }
          },
          "shapedefaults": {
           "line": {
            "color": "#2a3f5f"
           }
          },
          "ternary": {
           "aaxis": {
            "gridcolor": "white",
            "linecolor": "white",
            "ticks": ""
           },
           "baxis": {
            "gridcolor": "white",
            "linecolor": "white",
            "ticks": ""
           },
           "bgcolor": "#E5ECF6",
           "caxis": {
            "gridcolor": "white",
            "linecolor": "white",
            "ticks": ""
           }
          },
          "title": {
           "x": 0.05
          },
          "xaxis": {
           "automargin": true,
           "gridcolor": "white",
           "linecolor": "white",
           "ticks": "",
           "title": {
            "standoff": 15
           },
           "zerolinecolor": "white",
           "zerolinewidth": 2
          },
          "yaxis": {
           "automargin": true,
           "gridcolor": "white",
           "linecolor": "white",
           "ticks": "",
           "title": {
            "standoff": 15
           },
           "zerolinecolor": "white",
           "zerolinewidth": 2
          }
         }
        },
        "title": "Najlepsze zapychacze kaloryczne",
        "yaxis": {
         "title": "Kcal / WF"
        }
       }
      },
      "text/html": [
       "<div\n",
       "    class=\"webio-mountpoint\"\n",
       "    data-webio-mountpoint=\"4582793467975078185\"\n",
       ">\n",
       "    <script>\n",
       "    (function(){\n",
       "    // Some integrations (namely, IJulia/Jupyter) use an alternate render pathway than\n",
       "    // just putting the html on the page. If WebIO isn't defined, then it's pretty likely\n",
       "    // that we're in one of those situations and the integration just isn't installed\n",
       "    // correctly.\n",
       "    if (typeof window.WebIO === \"undefined\") {\n",
       "        document\n",
       "            .querySelector('[data-webio-mountpoint=\"4582793467975078185\"]')\n",
       "            .innerHTML = (\n",
       "                '<div style=\"padding: 1em; background-color: #f8d6da; border: 1px solid #f5c6cb; font-weight: bold;\">' +\n",
       "                '<p><strong>WebIO not detected.</strong></p>' +\n",
       "                '<p>Please read ' +\n",
       "                '<a href=\"https://juliagizmos.github.io/WebIO.jl/latest/troubleshooting/not-detected/\" target=\"_blank\">the troubleshooting guide</a> ' +\n",
       "                'for more information on how to resolve this issue.</p>' +\n",
       "                '<p><a href=\"https://juliagizmos.github.io/WebIO.jl/latest/troubleshooting/not-detected/\" target=\"_blank\">https://juliagizmos.github.io/WebIO.jl/latest/troubleshooting/not-detected/</a></p>' +\n",
       "                '</div>'\n",
       "            );\n",
       "        return;\n",
       "    }\n",
       "    WebIO.mount(\n",
       "        document.querySelector('[data-webio-mountpoint=\"4582793467975078185\"]'),\n",
       "        {\"props\":{},\"nodeType\":\"Scope\",\"type\":\"node\",\"instanceArgs\":{\"imports\":{\"data\":[{\"name\":\"Plotly\",\"type\":\"js\",\"url\":\"\\/assetserver\\/7dc425d3d9acdbb7fba54ce8841409ff1fd2b16c-plotly.min.js\"},{\"name\":null,\"type\":\"js\",\"url\":\"\\/assetserver\\/bdef9d06b2ff8f6ff9f383d24c2633cfc4dfc0cb-plotly_webio.bundle.js\"}],\"type\":\"async_block\"},\"id\":\"12300123966918969157\",\"handlers\":{\"_toImage\":[\"(function (options){return this.Plotly.toImage(this.plotElem,options).then((function (data){return WebIO.setval({\\\"name\\\":\\\"image\\\",\\\"scope\\\":\\\"12300123966918969157\\\",\\\"id\\\":\\\"4762352633577916629\\\",\\\"type\\\":\\\"observable\\\"},data)}))})\"],\"__get_gd_contents\":[\"(function (prop){prop==\\\"data\\\" ? (WebIO.setval({\\\"name\\\":\\\"__gd_contents\\\",\\\"scope\\\":\\\"12300123966918969157\\\",\\\"id\\\":\\\"11150034733119437753\\\",\\\"type\\\":\\\"observable\\\"},this.plotElem.data)) : undefined; return prop==\\\"layout\\\" ? (WebIO.setval({\\\"name\\\":\\\"__gd_contents\\\",\\\"scope\\\":\\\"12300123966918969157\\\",\\\"id\\\":\\\"11150034733119437753\\\",\\\"type\\\":\\\"observable\\\"},this.plotElem.layout)) : undefined})\"],\"_downloadImage\":[\"(function (options){return this.Plotly.downloadImage(this.plotElem,options)})\"],\"_commands\":[\"(function (args){var fn=args.shift(); var elem=this.plotElem; var Plotly=this.Plotly; args.unshift(elem); return Plotly[fn].apply(this,args)})\"]},\"systemjs_options\":null,\"mount_callbacks\":[\"function () {\\n    var handler = ((function (Plotly,PlotlyWebIO){PlotlyWebIO.init(WebIO); var gd=this.dom.querySelector(\\\"#plot-6922a00c-55ba-47f8-a5b2-91cb60bc6674\\\"); this.plotElem=gd; this.Plotly=Plotly; (window.Blink!==undefined) ? (gd.style.width=\\\"100%\\\", gd.style.height=\\\"100vh\\\", gd.style.marginLeft=\\\"0%\\\", gd.style.marginTop=\\\"0vh\\\") : undefined; window.onresize=(function (){return Plotly.Plots.resize(gd)}); Plotly.newPlot(gd,[{\\\"x\\\":[\\\"Pumpkins\\\",\\\"Taro\\\",\\\"Kiwi fruit\\\",\\\"Sugar, raw (beet)\\\",\\\"Plantains\\\",\\\"Maize\\\",\\\"Maize flour\\\",\\\"Wheat flour\\\",\\\"Poppy seeds\\\",\\\"Sugar, raw (cane)\\\",\\\"Rice, paddy\\\",\\\"Garlic powder\\\",\\\"Soybeans\\\",\\\"Pasta, dry\\\",\\\"Mustard seeds\\\",\\\"Oats\\\",\\\"Linseed\\\",\\\"Peanuts\\\",\\\"Butter\\\",\\\"Milk powder\\\",\\\"Cheese\\\"],\\\"y\\\":[11.458333333333332,8.217821782178218,7.198443579766537,4.46242774566474,3.314606741573034,2.9869067103109654,2.905027932960894,2.525689561925365,2.436014625228519,2.3169267707082835,2.2594142259414225,2.207505518763797,2.0792540792540795,2.006489994591671,1.77999288002848,1.6100993377483444,1.588622291021672,1.4267740312028183,1.285791464073474,0.7903055848261328,0.7252964426877471],\\\"type\\\":\\\"bar\\\",\\\"name\\\":\\\"Wege\\\",\\\"marker\\\":{\\\"color\\\":\\\"blue\\\"}}],{\\\"template\\\":{\\\"layout\\\":{\\\"coloraxis\\\":{\\\"colorbar\\\":{\\\"ticks\\\":\\\"\\\",\\\"outlinewidth\\\":0}},\\\"xaxis\\\":{\\\"gridcolor\\\":\\\"white\\\",\\\"zerolinewidth\\\":2,\\\"title\\\":{\\\"standoff\\\":15},\\\"ticks\\\":\\\"\\\",\\\"zerolinecolor\\\":\\\"white\\\",\\\"automargin\\\":true,\\\"linecolor\\\":\\\"white\\\"},\\\"hovermode\\\":\\\"closest\\\",\\\"paper_bgcolor\\\":\\\"white\\\",\\\"geo\\\":{\\\"showlakes\\\":true,\\\"showland\\\":true,\\\"landcolor\\\":\\\"#E5ECF6\\\",\\\"bgcolor\\\":\\\"white\\\",\\\"subunitcolor\\\":\\\"white\\\",\\\"lakecolor\\\":\\\"white\\\"},\\\"colorscale\\\":{\\\"sequential\\\":[[0.0,\\\"#0d0887\\\"],[0.1111111111111111,\\\"#46039f\\\"],[0.2222222222222222,\\\"#7201a8\\\"],[0.3333333333333333,\\\"#9c179e\\\"],[0.4444444444444444,\\\"#bd3786\\\"],[0.5555555555555556,\\\"#d8576b\\\"],[0.6666666666666666,\\\"#ed7953\\\"],[0.7777777777777778,\\\"#fb9f3a\\\"],[0.8888888888888888,\\\"#fdca26\\\"],[1.0,\\\"#f0f921\\\"]],\\\"diverging\\\":[[0,\\\"#8e0152\\\"],[0.1,\\\"#c51b7d\\\"],[0.2,\\\"#de77ae\\\"],[0.3,\\\"#f1b6da\\\"],[0.4,\\\"#fde0ef\\\"],[0.5,\\\"#f7f7f7\\\"],[0.6,\\\"#e6f5d0\\\"],[0.7,\\\"#b8e186\\\"],[0.8,\\\"#7fbc41\\\"],[0.9,\\\"#4d9221\\\"],[1,\\\"#276419\\\"]],\\\"sequentialminus\\\":[[0.0,\\\"#0d0887\\\"],[0.1111111111111111,\\\"#46039f\\\"],[0.2222222222222222,\\\"#7201a8\\\"],[0.3333333333333333,\\\"#9c179e\\\"],[0.4444444444444444,\\\"#bd3786\\\"],[0.5555555555555556,\\\"#d8576b\\\"],[0.6666666666666666,\\\"#ed7953\\\"],[0.7777777777777778,\\\"#fb9f3a\\\"],[0.8888888888888888,\\\"#fdca26\\\"],[1.0,\\\"#f0f921\\\"]]},\\\"yaxis\\\":{\\\"gridcolor\\\":\\\"white\\\",\\\"zerolinewidth\\\":2,\\\"title\\\":{\\\"standoff\\\":15},\\\"ticks\\\":\\\"\\\",\\\"zerolinecolor\\\":\\\"white\\\",\\\"automargin\\\":true,\\\"linecolor\\\":\\\"white\\\"},\\\"shapedefaults\\\":{\\\"line\\\":{\\\"color\\\":\\\"#2a3f5f\\\"}},\\\"hoverlabel\\\":{\\\"align\\\":\\\"left\\\"},\\\"mapbox\\\":{\\\"style\\\":\\\"light\\\"},\\\"polar\\\":{\\\"angularaxis\\\":{\\\"gridcolor\\\":\\\"white\\\",\\\"ticks\\\":\\\"\\\",\\\"linecolor\\\":\\\"white\\\"},\\\"bgcolor\\\":\\\"#E5ECF6\\\",\\\"radialaxis\\\":{\\\"gridcolor\\\":\\\"white\\\",\\\"ticks\\\":\\\"\\\",\\\"linecolor\\\":\\\"white\\\"}},\\\"autotypenumbers\\\":\\\"strict\\\",\\\"font\\\":{\\\"color\\\":\\\"#2a3f5f\\\"},\\\"ternary\\\":{\\\"baxis\\\":{\\\"gridcolor\\\":\\\"white\\\",\\\"ticks\\\":\\\"\\\",\\\"linecolor\\\":\\\"white\\\"},\\\"bgcolor\\\":\\\"#E5ECF6\\\",\\\"caxis\\\":{\\\"gridcolor\\\":\\\"white\\\",\\\"ticks\\\":\\\"\\\",\\\"linecolor\\\":\\\"white\\\"},\\\"aaxis\\\":{\\\"gridcolor\\\":\\\"white\\\",\\\"ticks\\\":\\\"\\\",\\\"linecolor\\\":\\\"white\\\"}},\\\"annotationdefaults\\\":{\\\"arrowhead\\\":0,\\\"arrowwidth\\\":1,\\\"arrowcolor\\\":\\\"#2a3f5f\\\"},\\\"plot_bgcolor\\\":\\\"#E5ECF6\\\",\\\"title\\\":{\\\"x\\\":0.05},\\\"scene\\\":{\\\"xaxis\\\":{\\\"gridcolor\\\":\\\"white\\\",\\\"gridwidth\\\":2,\\\"backgroundcolor\\\":\\\"#E5ECF6\\\",\\\"ticks\\\":\\\"\\\",\\\"showbackground\\\":true,\\\"zerolinecolor\\\":\\\"white\\\",\\\"linecolor\\\":\\\"white\\\"},\\\"zaxis\\\":{\\\"gridcolor\\\":\\\"white\\\",\\\"gridwidth\\\":2,\\\"backgroundcolor\\\":\\\"#E5ECF6\\\",\\\"ticks\\\":\\\"\\\",\\\"showbackground\\\":true,\\\"zerolinecolor\\\":\\\"white\\\",\\\"linecolor\\\":\\\"white\\\"},\\\"yaxis\\\":{\\\"gridcolor\\\":\\\"white\\\",\\\"gridwidth\\\":2,\\\"backgroundcolor\\\":\\\"#E5ECF6\\\",\\\"ticks\\\":\\\"\\\",\\\"showbackground\\\":true,\\\"zerolinecolor\\\":\\\"white\\\",\\\"linecolor\\\":\\\"white\\\"}},\\\"colorway\\\":[\\\"#636efa\\\",\\\"#EF553B\\\",\\\"#00cc96\\\",\\\"#ab63fa\\\",\\\"#FFA15A\\\",\\\"#19d3f3\\\",\\\"#FF6692\\\",\\\"#B6E880\\\",\\\"#FF97FF\\\",\\\"#FECB52\\\"]},\\\"data\\\":{\\\"barpolar\\\":[{\\\"type\\\":\\\"barpolar\\\",\\\"marker\\\":{\\\"line\\\":{\\\"color\\\":\\\"#E5ECF6\\\",\\\"width\\\":0.5}}}],\\\"carpet\\\":[{\\\"aaxis\\\":{\\\"gridcolor\\\":\\\"white\\\",\\\"endlinecolor\\\":\\\"#2a3f5f\\\",\\\"minorgridcolor\\\":\\\"white\\\",\\\"startlinecolor\\\":\\\"#2a3f5f\\\",\\\"linecolor\\\":\\\"white\\\"},\\\"type\\\":\\\"carpet\\\",\\\"baxis\\\":{\\\"gridcolor\\\":\\\"white\\\",\\\"endlinecolor\\\":\\\"#2a3f5f\\\",\\\"minorgridcolor\\\":\\\"white\\\",\\\"startlinecolor\\\":\\\"#2a3f5f\\\",\\\"linecolor\\\":\\\"white\\\"}}],\\\"scatterpolar\\\":[{\\\"type\\\":\\\"scatterpolar\\\",\\\"marker\\\":{\\\"colorbar\\\":{\\\"ticks\\\":\\\"\\\",\\\"outlinewidth\\\":0}}}],\\\"parcoords\\\":[{\\\"line\\\":{\\\"colorbar\\\":{\\\"ticks\\\":\\\"\\\",\\\"outlinewidth\\\":0}},\\\"type\\\":\\\"parcoords\\\"}],\\\"scatter\\\":[{\\\"type\\\":\\\"scatter\\\",\\\"marker\\\":{\\\"colorbar\\\":{\\\"ticks\\\":\\\"\\\",\\\"outlinewidth\\\":0}}}],\\\"histogram2dcontour\\\":[{\\\"colorbar\\\":{\\\"ticks\\\":\\\"\\\",\\\"outlinewidth\\\":0},\\\"type\\\":\\\"histogram2dcontour\\\",\\\"colorscale\\\":[[0.0,\\\"#0d0887\\\"],[0.1111111111111111,\\\"#46039f\\\"],[0.2222222222222222,\\\"#7201a8\\\"],[0.3333333333333333,\\\"#9c179e\\\"],[0.4444444444444444,\\\"#bd3786\\\"],[0.5555555555555556,\\\"#d8576b\\\"],[0.6666666666666666,\\\"#ed7953\\\"],[0.7777777777777778,\\\"#fb9f3a\\\"],[0.8888888888888888,\\\"#fdca26\\\"],[1.0,\\\"#f0f921\\\"]]}],\\\"contour\\\":[{\\\"colorbar\\\":{\\\"ticks\\\":\\\"\\\",\\\"outlinewidth\\\":0},\\\"type\\\":\\\"contour\\\",\\\"colorscale\\\":[[0.0,\\\"#0d0887\\\"],[0.1111111111111111,\\\"#46039f\\\"],[0.2222222222222222,\\\"#7201a8\\\"],[0.3333333333333333,\\\"#9c179e\\\"],[0.4444444444444444,\\\"#bd3786\\\"],[0.5555555555555556,\\\"#d8576b\\\"],[0.6666666666666666,\\\"#ed7953\\\"],[0.7777777777777778,\\\"#fb9f3a\\\"],[0.8888888888888888,\\\"#fdca26\\\"],[1.0,\\\"#f0f921\\\"]]}],\\\"scattercarpet\\\":[{\\\"type\\\":\\\"scattercarpet\\\",\\\"marker\\\":{\\\"colorbar\\\":{\\\"ticks\\\":\\\"\\\",\\\"outlinewidth\\\":0}}}],\\\"mesh3d\\\":[{\\\"colorbar\\\":{\\\"ticks\\\":\\\"\\\",\\\"outlinewidth\\\":0},\\\"type\\\":\\\"mesh3d\\\"}],\\\"surface\\\":[{\\\"colorbar\\\":{\\\"ticks\\\":\\\"\\\",\\\"outlinewidth\\\":0},\\\"type\\\":\\\"surface\\\",\\\"colorscale\\\":[[0.0,\\\"#0d0887\\\"],[0.1111111111111111,\\\"#46039f\\\"],[0.2222222222222222,\\\"#7201a8\\\"],[0.3333333333333333,\\\"#9c179e\\\"],[0.4444444444444444,\\\"#bd3786\\\"],[0.5555555555555556,\\\"#d8576b\\\"],[0.6666666666666666,\\\"#ed7953\\\"],[0.7777777777777778,\\\"#fb9f3a\\\"],[0.8888888888888888,\\\"#fdca26\\\"],[1.0,\\\"#f0f921\\\"]]}],\\\"scattermapbox\\\":[{\\\"type\\\":\\\"scattermapbox\\\",\\\"marker\\\":{\\\"colorbar\\\":{\\\"ticks\\\":\\\"\\\",\\\"outlinewidth\\\":0}}}],\\\"scattergeo\\\":[{\\\"type\\\":\\\"scattergeo\\\",\\\"marker\\\":{\\\"colorbar\\\":{\\\"ticks\\\":\\\"\\\",\\\"outlinewidth\\\":0}}}],\\\"histogram\\\":[{\\\"type\\\":\\\"histogram\\\",\\\"marker\\\":{\\\"colorbar\\\":{\\\"ticks\\\":\\\"\\\",\\\"outlinewidth\\\":0}}}],\\\"pie\\\":[{\\\"type\\\":\\\"pie\\\",\\\"automargin\\\":true}],\\\"choropleth\\\":[{\\\"colorbar\\\":{\\\"ticks\\\":\\\"\\\",\\\"outlinewidth\\\":0},\\\"type\\\":\\\"choropleth\\\"}],\\\"heatmapgl\\\":[{\\\"colorbar\\\":{\\\"ticks\\\":\\\"\\\",\\\"outlinewidth\\\":0},\\\"type\\\":\\\"heatmapgl\\\",\\\"colorscale\\\":[[0.0,\\\"#0d0887\\\"],[0.1111111111111111,\\\"#46039f\\\"],[0.2222222222222222,\\\"#7201a8\\\"],[0.3333333333333333,\\\"#9c179e\\\"],[0.4444444444444444,\\\"#bd3786\\\"],[0.5555555555555556,\\\"#d8576b\\\"],[0.6666666666666666,\\\"#ed7953\\\"],[0.7777777777777778,\\\"#fb9f3a\\\"],[0.8888888888888888,\\\"#fdca26\\\"],[1.0,\\\"#f0f921\\\"]]}],\\\"bar\\\":[{\\\"type\\\":\\\"bar\\\",\\\"error_y\\\":{\\\"color\\\":\\\"#2a3f5f\\\"},\\\"error_x\\\":{\\\"color\\\":\\\"#2a3f5f\\\"},\\\"marker\\\":{\\\"line\\\":{\\\"color\\\":\\\"#E5ECF6\\\",\\\"width\\\":0.5}}}],\\\"heatmap\\\":[{\\\"colorbar\\\":{\\\"ticks\\\":\\\"\\\",\\\"outlinewidth\\\":0},\\\"type\\\":\\\"heatmap\\\",\\\"colorscale\\\":[[0.0,\\\"#0d0887\\\"],[0.1111111111111111,\\\"#46039f\\\"],[0.2222222222222222,\\\"#7201a8\\\"],[0.3333333333333333,\\\"#9c179e\\\"],[0.4444444444444444,\\\"#bd3786\\\"],[0.5555555555555556,\\\"#d8576b\\\"],[0.6666666666666666,\\\"#ed7953\\\"],[0.7777777777777778,\\\"#fb9f3a\\\"],[0.8888888888888888,\\\"#fdca26\\\"],[1.0,\\\"#f0f921\\\"]]}],\\\"contourcarpet\\\":[{\\\"colorbar\\\":{\\\"ticks\\\":\\\"\\\",\\\"outlinewidth\\\":0},\\\"type\\\":\\\"contourcarpet\\\"}],\\\"table\\\":[{\\\"type\\\":\\\"table\\\",\\\"header\\\":{\\\"line\\\":{\\\"color\\\":\\\"white\\\"},\\\"fill\\\":{\\\"color\\\":\\\"#C8D4E3\\\"}},\\\"cells\\\":{\\\"line\\\":{\\\"color\\\":\\\"white\\\"},\\\"fill\\\":{\\\"color\\\":\\\"#EBF0F8\\\"}}}],\\\"scatter3d\\\":[{\\\"line\\\":{\\\"colorbar\\\":{\\\"ticks\\\":\\\"\\\",\\\"outlinewidth\\\":0}},\\\"type\\\":\\\"scatter3d\\\",\\\"marker\\\":{\\\"colorbar\\\":{\\\"ticks\\\":\\\"\\\",\\\"outlinewidth\\\":0}}}],\\\"scattergl\\\":[{\\\"type\\\":\\\"scattergl\\\",\\\"marker\\\":{\\\"colorbar\\\":{\\\"ticks\\\":\\\"\\\",\\\"outlinewidth\\\":0}}}],\\\"histogram2d\\\":[{\\\"colorbar\\\":{\\\"ticks\\\":\\\"\\\",\\\"outlinewidth\\\":0},\\\"type\\\":\\\"histogram2d\\\",\\\"colorscale\\\":[[0.0,\\\"#0d0887\\\"],[0.1111111111111111,\\\"#46039f\\\"],[0.2222222222222222,\\\"#7201a8\\\"],[0.3333333333333333,\\\"#9c179e\\\"],[0.4444444444444444,\\\"#bd3786\\\"],[0.5555555555555556,\\\"#d8576b\\\"],[0.6666666666666666,\\\"#ed7953\\\"],[0.7777777777777778,\\\"#fb9f3a\\\"],[0.8888888888888888,\\\"#fdca26\\\"],[1.0,\\\"#f0f921\\\"]]}],\\\"scatterternary\\\":[{\\\"type\\\":\\\"scatterternary\\\",\\\"marker\\\":{\\\"colorbar\\\":{\\\"ticks\\\":\\\"\\\",\\\"outlinewidth\\\":0}}}],\\\"scatterpolargl\\\":[{\\\"type\\\":\\\"scatterpolargl\\\",\\\"marker\\\":{\\\"colorbar\\\":{\\\"ticks\\\":\\\"\\\",\\\"outlinewidth\\\":0}}}]}},\\\"margin\\\":{\\\"l\\\":50,\\\"b\\\":50,\\\"r\\\":50,\\\"t\\\":60},\\\"title\\\":\\\"Najlepsze zapychacze kaloryczne\\\",\\\"yaxis\\\":{\\\"title\\\":\\\"Kcal \\/ WF\\\"}},{\\\"showLink\\\":false,\\\"editable\\\":false,\\\"responsive\\\":true,\\\"staticPlot\\\":false,\\\"scrollZoom\\\":true}); gd.on(\\\"plotly_hover\\\",(function (data){var filtered_data=WebIO.PlotlyCommands.filterEventData(gd,data,\\\"hover\\\"); return !(filtered_data.isnil) ? (WebIO.setval({\\\"name\\\":\\\"hover\\\",\\\"scope\\\":\\\"12300123966918969157\\\",\\\"id\\\":\\\"7944680411473544822\\\",\\\"type\\\":\\\"observable\\\"},filtered_data.out)) : undefined})); gd.on(\\\"plotly_unhover\\\",(function (){return WebIO.setval({\\\"name\\\":\\\"hover\\\",\\\"scope\\\":\\\"12300123966918969157\\\",\\\"id\\\":\\\"7944680411473544822\\\",\\\"type\\\":\\\"observable\\\"},{})})); gd.on(\\\"plotly_selected\\\",(function (data){var filtered_data=WebIO.PlotlyCommands.filterEventData(gd,data,\\\"selected\\\"); return !(filtered_data.isnil) ? (WebIO.setval({\\\"name\\\":\\\"selected\\\",\\\"scope\\\":\\\"12300123966918969157\\\",\\\"id\\\":\\\"5246264977693417730\\\",\\\"type\\\":\\\"observable\\\"},filtered_data.out)) : undefined})); gd.on(\\\"plotly_deselect\\\",(function (){return WebIO.setval({\\\"name\\\":\\\"selected\\\",\\\"scope\\\":\\\"12300123966918969157\\\",\\\"id\\\":\\\"5246264977693417730\\\",\\\"type\\\":\\\"observable\\\"},{})})); gd.on(\\\"plotly_relayout\\\",(function (data){var filtered_data=WebIO.PlotlyCommands.filterEventData(gd,data,\\\"relayout\\\"); return !(filtered_data.isnil) ? (WebIO.setval({\\\"name\\\":\\\"relayout\\\",\\\"scope\\\":\\\"12300123966918969157\\\",\\\"id\\\":\\\"10670575119040724124\\\",\\\"type\\\":\\\"observable\\\"},filtered_data.out)) : undefined})); return gd.on(\\\"plotly_click\\\",(function (data){var filtered_data=WebIO.PlotlyCommands.filterEventData(gd,data,\\\"click\\\"); return !(filtered_data.isnil) ? (WebIO.setval({\\\"name\\\":\\\"click\\\",\\\"scope\\\":\\\"12300123966918969157\\\",\\\"id\\\":\\\"16186979046555882929\\\",\\\"type\\\":\\\"observable\\\"},filtered_data.out)) : undefined}))}));\\n    (WebIO.importBlock({\\\"data\\\":[{\\\"name\\\":\\\"Plotly\\\",\\\"type\\\":\\\"js\\\",\\\"url\\\":\\\"\\/assetserver\\/7dc425d3d9acdbb7fba54ce8841409ff1fd2b16c-plotly.min.js\\\"},{\\\"name\\\":null,\\\"type\\\":\\\"js\\\",\\\"url\\\":\\\"\\/assetserver\\/bdef9d06b2ff8f6ff9f383d24c2633cfc4dfc0cb-plotly_webio.bundle.js\\\"}],\\\"type\\\":\\\"async_block\\\"})).then((imports) => handler.apply(this, imports));\\n}\\n\"],\"observables\":{\"_toImage\":{\"sync\":false,\"id\":\"9660451441080385688\",\"value\":{}},\"hover\":{\"sync\":false,\"id\":\"7944680411473544822\",\"value\":{}},\"selected\":{\"sync\":false,\"id\":\"5246264977693417730\",\"value\":{}},\"__gd_contents\":{\"sync\":false,\"id\":\"11150034733119437753\",\"value\":{}},\"click\":{\"sync\":false,\"id\":\"16186979046555882929\",\"value\":{}},\"image\":{\"sync\":true,\"id\":\"4762352633577916629\",\"value\":\"\"},\"__get_gd_contents\":{\"sync\":false,\"id\":\"9206718000364374430\",\"value\":\"\"},\"_downloadImage\":{\"sync\":false,\"id\":\"4183844485127478076\",\"value\":{}},\"relayout\":{\"sync\":false,\"id\":\"10670575119040724124\",\"value\":{}},\"_commands\":{\"sync\":false,\"id\":\"3804196449310637975\",\"value\":[]}}},\"children\":[{\"props\":{\"id\":\"plot-6922a00c-55ba-47f8-a5b2-91cb60bc6674\"},\"nodeType\":\"DOM\",\"type\":\"node\",\"instanceArgs\":{\"namespace\":\"html\",\"tag\":\"div\"},\"children\":[]}]},\n",
       "        window,\n",
       "    );\n",
       "    })()\n",
       "    </script>\n",
       "</div>\n"
      ],
      "text/plain": [
       "data: [\n",
       "  \"bar with fields marker, name, type, x, and y\"\n",
       "]\n",
       "\n",
       "layout: \"layout with fields margin, template, title, and yaxis\"\n",
       "\n"
      ]
     },
     "execution_count": 17,
     "metadata": {},
     "output_type": "execute_result"
    }
   ],
   "source": [
    "ograniczenie_kcal = sort!(mieso_df,[order(:zuzycie_wody_na_100_g,rev=true)])[3,2]\n",
    "wyniki_kcal = top_kcal[(top_kcal.zuzycie_wody_na_100_g .< ograniczenie_kcal) .& (top_kcal.Tluszcze .< 80),:]\n",
    "\n",
    "przedzial = 1:21\n",
    "\n",
    "kcal_alpha = [(wyniki_kcal[i,1],wyniki_kcal[i,3]/wyniki_kcal[i,2])  for i in przedzial]\n",
    "sort!(kcal_alpha, by=last, rev=true)\n",
    "\n",
    "trace2 = bar(;\n",
    "    x = [kcal_alpha[i][1] for i in przedzial],\n",
    "    y = [kcal_alpha[i][2] for i in przedzial],\n",
    "    name = \"Wege\",\n",
    "    marker_color = \"blue\",\n",
    "    )\n",
    "layout = Layout(;\n",
    "    title=\"Najlepsze zapychacze kaloryczne\",\n",
    "    yaxis = attr(\n",
    "        title=\"Kcal / WF\"\n",
    "    ))\n",
    "\n",
    "plot(trace2,layout)"
   ]
  },
  {
   "cell_type": "markdown",
   "id": "a8b87732",
   "metadata": {},
   "source": [
    "<h3>Wnioski z wykresów</h3>\n",
    "Jeśli chodzi o białko najlepiej wypadają:\n",
    "<ul>\n",
    "    <li>soja</li>\n",
    "    <li>płatki owsiane</li>\n",
    "    <li>orzeszki ziemne</li>\n",
    "    <li>czerwona fasola</li>\n",
    "    <li>soczewica</li>\n",
    "    <li>gryka</li>\n",
    "    <li>siemię lniane</li>\n",
    "    <li>suczone pomidory</li>\n",
    "    <li>sery</li>\n",
    "</ul>\n",
    "\n",
    "Przy tłuszczach (bez olei)\n",
    "<ul>\n",
    "    <li>taro (kolokazja jadalna)</li>\n",
    "    <li>plantains (banan warzywny)</li>\n",
    "    <li>avodaco</li>\n",
    "    <li>soja</li>\n",
    "    <li>ziarna maku</li>\n",
    "    <li>ziarna gorczycy</li>\n",
    "    <li>oliwki</li>\n",
    "    <li>jajka</li>\n",
    "    <li>slonecznik</li>\n",
    "    <li>...</li>\n",
    "</ul>\n",
    "\n",
    "Jeśli zaś chodzi o węglowodany\n",
    "<ul>\n",
    "    <li>ananas</li>\n",
    "    <li>dynie</li>\n",
    "    <li>kiwi</li>\n",
    "    <li>porzeczki</li>\n",
    "    <li>cukier z buraków</li>\n",
    "    <li>różnego rodzaju mąki</li>\n",
    "    <li>...</li>\n",
    "    \n",
    "</ul>"
   ]
  },
  {
   "cell_type": "markdown",
   "id": "33ac6821",
   "metadata": {},
   "source": [
    "<h3>Już teraz na całym świecie 2,1 miliarda ludzi żyje bez bezpiecznej wody,</h3> a około 4 miliardy ludzi doświadcza poważnego niedoboru wody przez co najmniej jeden miesiąc w roku. Według ONZ do 2030 roku 700 milionów ludzi na całym świecie może zostać przesiedlonych z powodu intensywnego niedoboru wody, dodatkowo do 2050 roku przybędzie 2 mld ludzi a rolnictwo będzie pochłaniać o 20% więcej wody niż obecnie (90% zasobów słodkiej wody).Organizacja Współpracy Gospodarczej i Rozwoju (OECD) opublikowała raport według którego do połowy wieku zapotrzebowanie na wodę pitną wzrośnie o 55%, z czego 40% populacji będzie korzystać z wody ze zbiorników, które będą w znacznej mierze wyschnięte. Po 2070 roku niedostatek wody zaczną odczuwać mieszkańcy południowej i środkowej Europy, w tym także Polski."
   ]
  },
  {
   "cell_type": "markdown",
   "id": "33acbdba",
   "metadata": {},
   "source": [
    "**Czy zmiana diety uratuje nas przed utratą wody?**"
   ]
  },
  {
   "cell_type": "markdown",
   "id": "475550c8",
   "metadata": {},
   "source": [
    "Na podstawie danych z wspomnianego wcześniej badania policzyliśmy, jak zmiana diety wpłynie na to, kiedy skończy się woda na świecie (wg badań jeśli nic nie zmienimy zaczniemy odczuwać brak wody w 2050 roku i ten rok wzięliśmy jako bazę). Na pierwszej animacji przedstawiamy jak zmieni się sytuacja, gdy dany procent (7%, 50% i 100%) ludzi zmieni dietę na zdrową wegańską."
   ]
  },
  {
   "cell_type": "code",
   "execution_count": 1,
   "id": "12784b91",
   "metadata": {},
   "outputs": [
    {
     "name": "stderr",
     "output_type": "stream",
     "text": [
      "\u001b[36m\u001b[1m[ \u001b[22m\u001b[39m\u001b[36m\u001b[1mInfo: \u001b[22m\u001b[39mSaved animation to C:\\Users\\marek\\Desktop\\pakiety-matematyczne\\koniecwody1.mp4\n"
     ]
    },
    {
     "data": {
      "text/html": [
       "<video controls><source src=\"data:video/mp4;base64,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\" type = \"video/mp4\"></video>"
      ],
      "text/plain": [
       "Plots.AnimatedGif(\"C:\\\\Users\\\\marek\\\\Desktop\\\\pakiety-matematyczne\\\\koniecwody1.mp4\")"
      ]
     },
     "execution_count": 1,
     "metadata": {},
     "output_type": "execute_result"
    }
   ],
   "source": [
    "using Plots\n",
    "\n",
    "woda = 3.4*10^17\n",
    "ludzie = 9000000000\n",
    "rocznie = 1400000\n",
    "function animacja(t)\n",
    "\t f(t) = woda - 0.93*rocznie*ludzie*(t-2023) - 0.07*rocznie*ludzie*0.5 *(t-2023)\n",
    "\t g(t) = woda - 0.5*rocznie*ludzie*(t-2023) - 0.5*rocznie*ludzie*0.5 *(t-2023)\n",
    "\t h(t) = woda - 0.5*rocznie*ludzie*(t-2023)\n",
    "\t x = range(2023, 2023+t, length=100)\n",
    "\t #xlims!(0, 70)\n",
    "\t ylims!(0, woda)\n",
    "\tplot!(x, [f, g, h], title = \"Rok $(t+2023)\", label = [\"7%\" \"50%\" \"100%\"], lw = 3, ylims=(0, woda))\n",
    "end\n",
    "anim = @animate for t in 0:55\n",
    "\ta=range(2024,2080,length=100)\n",
    "\tb(a)=0\n",
    "\tplot(a,b,label=\"\")\n",
    "    animacja(t)\n",
    "end persist=true\n",
    "mp4(anim,\"koniecwody1.mp4\", fps = 5)"
   ]
  },
  {
   "cell_type": "markdown",
   "id": "f7d9c850",
   "metadata": {},
   "source": [
    "Na drugiej animacji porównamy 4 różne diety."
   ]
  },
  {
   "cell_type": "code",
   "execution_count": 2,
   "id": "5064022f",
   "metadata": {},
   "outputs": [
    {
     "name": "stderr",
     "output_type": "stream",
     "text": [
      "\u001b[36m\u001b[1m[ \u001b[22m\u001b[39m\u001b[36m\u001b[1mInfo: \u001b[22m\u001b[39mSaved animation to C:\\Users\\marek\\Desktop\\pakiety-matematyczne\\koniecwody2.mp4\n"
     ]
    },
    {
     "data": {
      "text/html": [
       "<video controls><source src=\"data:video/mp4;base64,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\" type = \"video/mp4\"></video>"
      ],
      "text/plain": [
       "Plots.AnimatedGif(\"C:\\\\Users\\\\marek\\\\Desktop\\\\pakiety-matematyczne\\\\koniecwody2.mp4\")"
      ]
     },
     "execution_count": 2,
     "metadata": {},
     "output_type": "execute_result"
    }
   ],
   "source": [
    "using Plots\n",
    "\n",
    "woda = 3.4*10^17\n",
    "ludzie = 9000000000\n",
    "rocznie = 1400000\n",
    "function animacja1(t)\n",
    "\t f(t) = woda - rocznie*ludzie*(t-2023) \n",
    "\t m(t) = woda - 0.5*rocznie*ludzie*(t-2023) - 0.5*rocznie*ludzie*0.56(t-2023)\n",
    "\t n(t) = woda - 0.56*rocznie*ludzie*(t-2023)\n",
    "\t x = range(2023, 2023+t, length=100)\n",
    "\tp2 = plot!(x, [f, m, n], title = \"Dieta wegetariańska\", label = [\"0%\" \"50%\" \"100%\"], lw = 3,  ylims=(0, woda))\n",
    "\t\n",
    "end\n",
    "function animacja2(t)\n",
    "\tf(t) = woda - rocznie*ludzie*(t-2023) \n",
    "\tg(t) = woda - 0.5*rocznie*ludzie*(t-2023) - 0.5*rocznie*ludzie*0.45 *(t-2023)\n",
    "\th(t) = woda - 0.45*rocznie*ludzie*(t-2023)\n",
    "\t\n",
    "\tx = range(2023, 2023+t, length=100)\n",
    "   p1 = plot!(x, [f, g, h], title = \"Zdrowa dieta wegetariańska\", label = [\"0%\" \"50%\" \"100%\"], lw = 3, ylims=(0, woda))\n",
    "   \n",
    "end\n",
    "function animacja3(t)\n",
    "\tf(t) = woda - rocznie*ludzie*(t-2023) \n",
    "\t\n",
    "\ti(t) = woda - 0.5*rocznie*ludzie*(t-2023) - 0.5*rocznie*ludzie*0.77*(t-2023)\n",
    "\tj(t) = woda - 0.77*rocznie*ludzie*(t-2023)\n",
    "\t\n",
    "\tx = range(2023, 2023+t, length=100)\n",
    "  p3 = plot!(x, [f, i, j], title = \"Zdrowa dieta mięsna\", label = [\"0%\" \"50%\" \"100%\"], lw = 3, ylims = (0, woda))\n",
    "   \n",
    "end\n",
    "function animacja4(t)\n",
    "\tf(t) = woda - rocznie*ludzie*(t-2023) \n",
    "\tk(t) = woda - 0.5*rocznie*ludzie*(t-2023) - 0.5*rocznie*ludzie*0.6*(t-2023)\n",
    "\tl(t) = woda - 0.6*rocznie*ludzie*(t-2023)\n",
    "\tx = range(2023, 2023+t, length=100)\n",
    "   p4 = plot!(x, [f, k, l], title = \"Dieta pesceterian\", label = [\"0%\" \"50%\" \"100%\"], lw = 3, ylims = (0, woda))\n",
    "end\n",
    "anim = @animate for t in 0:57\n",
    "\ta=range(2024,2080,length=100)\n",
    "\tb(a)=0\n",
    "\tp1=plot(a,b,label=\"\")\n",
    "\tanimacja1(t)\n",
    "\tp2=plot(a,b,label=\"\")\n",
    "\tanimacja2(t)\n",
    "\tp3=plot(a,b,label=\"\")\n",
    "\tanimacja3(t)\n",
    "\tp4=plot(a,b,label=\"\")\n",
    "\tanimacja4(t)\n",
    "\tplot(p1, p2, p3, p4, layout=(2,2),xlabel=\"\")\n",
    "end persist=true\n",
    "mp4(anim,\"koniecwody2.mp4\", fps = 5)"
   ]
  },
  {
   "cell_type": "markdown",
   "id": "ba2b0eaa",
   "metadata": {},
   "source": [
    "Źródła:<br>\n",
    "https://www.twojapogoda.pl/wiadomosc/2023-01-26/swiatowe-zasoby-wody-pitnej-sa-w-zagrozeniu-naukowcy-juz-wiedza-kto-za-tym-stoi-i-jak-to-sie-skonczy/<br>\n",
    "https://opowiecie.info/zasoby-wody-na-ziemi-czyli-woda-ktora-znika/<br>\n",
    "https://www.naszaziemia.pl/wiedza/woda-kropla-do-kropli/czy-wiesz-ze-1/<br>\n",
    "https://www.hsi.org/news-media/world-water-day-2019/?fbclid=IwAR3Qo0UxEc8pOiX70vRcyMrybaejCaiPURxJvO09gVhEHcbMubhtFuXcbiw<br>\n",
    "https://www.nature.com/articles/s41893-018-0133-x<br>\n",
    "https://www.wodkany.pl/zuzycie-wody-w-polsce-infografika/<br>\n",
    "https://evgenii.com/water-footprint/en/<br>\n",
    "https://foodfakty.pl/konsumpcja-miesa-na-swiecie-wzrasta-chociaz-jest-silnie-zroznicowana<br>\n",
    "https://wisevoter.com/country-rankings/meat-consumption-by-country<br>\n",
    "https://www.farmer.pl<br>\n",
    "https://www.usda.gov/<br>"
   ]
  }
 ],
 "metadata": {
  "@webio": {
   "lastCommId": "0bf48db6d08845e28c9fde923b995146",
   "lastKernelId": "2a944371-4052-4a0f-a3ec-93220070c9dd"
  },
  "kernelspec": {
   "display_name": "Julia 1.8.5",
   "language": "julia",
   "name": "julia-1.8"
  },
  "language_info": {
   "file_extension": ".jl",
   "mimetype": "application/julia",
   "name": "julia",
   "version": "1.8.5"
  }
 },
 "nbformat": 4,
 "nbformat_minor": 5
}
