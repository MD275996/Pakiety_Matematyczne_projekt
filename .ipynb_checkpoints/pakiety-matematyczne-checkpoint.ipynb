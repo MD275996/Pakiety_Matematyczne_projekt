{
 "cells": [
  {
   "cell_type": "code",
   "execution_count": null,
   "id": "f22f7f4b",
   "metadata": {},
   "outputs": [],
   "source": [
    "using Plots\n",
    "using Printf\n",
    "\n",
    "peop_count=37000000\n",
    "meat_diet=5500*70\n",
    "vege_diet=meat_diet*(45/100)\n",
    "\n",
    "function bar_chart(k)\n",
    "    A = peop_count*meat_diet\n",
    "    B = ((peop_count)*((100-k)/100))*(meat_diet)+((peop_count)*((0+k)/100))*vege_diet\n",
    "    Bf = @sprintf(\"%.0f\", B)\n",
    "    C = A-B\n",
    "    Cf = @sprintf(\"%.0f\", C)\n",
    "    x = [\"Zużyta woda w litrach\\n przy 100% ludzi\\n na diecie mięsnej\", \"Zużyta woda w litrach\\n przy danym procencie ludzi\\n na diecie wegetariańskiej\", \"Zaoszczędzona\\n woda w litrach\"]\n",
    "    y = [A, B, C]\n",
    "    colours = [:red, :green, :blue]\n",
    "    bar(x, y, color=colours, legend = false)\n",
    "    xlabel!(\"\")\n",
    "    ylabel!(\"\")\n",
    "    title!(\"Procent Ludzi na diecie wegańskiej: $(k)%\")\n",
    "end\n",
    "\n",
    "anim = @animate for k in 0:100\n",
    "    bar_chart(k)\n",
    "end persist=true\n",
    "mp4(anim,\"Polska.mp4\", fps = 5)"
   ]
  },
  {
   "cell_type": "code",
   "execution_count": null,
   "id": "3aa24239",
   "metadata": {},
   "outputs": [],
   "source": [
    "basen=(3.5)*10^6\n",
    "\n",
    "function macierz(k,M)\n",
    "    A = peop_count*meat_diet\n",
    "    B = ((peop_count)*((100-k)/100))*(meat_diet)+((peop_count)*((0+k)/100))*vege_diet\n",
    "    C=A-B\n",
    "    ile= Int64(floor(C/basen))\n",
    "    for j in 1:Int64(floor(ile/1517))\n",
    "        for i in 1:1517\n",
    "            M[j,i]=1\n",
    "        end\n",
    "    end\n",
    "    for i in 1:Int64(ile%1517)\n",
    "        M[Int64(floor(ile/1517))+1,i]=1\n",
    "    end\n",
    "    return(M)\n",
    "end\n",
    "\n",
    "function animacja(M)\n",
    "  am= @animate for k in 1:100\n",
    "    C=peop_count*meat_diet-((peop_count)*((100-k)/100))*(meat_diet)+((peop_count)*((0+k)/100))*vege_diet\n",
    "  ile= Int64(floor(C/basen))\n",
    "    M=Matrix(macierz(k,M))\n",
    "    heatmap(M,aspect_ratio=1, seriescolor=palette([:white,:black]),title=\"$(k)% wegan oszczędza $(ile) basenów olimpijskich wody\", colorbar=:none)\n",
    "  end\n",
    "  gif(am,\"baseny-anim.gif\",fps=5)\n",
    "end"
   ]
  }
 ],
 "metadata": {
  "kernelspec": {
   "display_name": "Julia 1.8.5",
   "language": "julia",
   "name": "julia-1.8"
  },
  "language_info": {
   "file_extension": ".jl",
   "mimetype": "application/julia",
   "name": "julia",
   "version": "1.8.5"
  }
 },
 "nbformat": 4,
 "nbformat_minor": 5
}
